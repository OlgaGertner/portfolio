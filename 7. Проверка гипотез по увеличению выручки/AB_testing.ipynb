{
 "cells": [
  {
   "cell_type": "markdown",
   "metadata": {},
   "source": [
    "# Проект \"Анализ результатов A/B-теста для крупного интернет-магазина\"\n",
    "**Цель проекта –** оценка результатов A/B-теста и принятие решений\n",
    "\n",
    "**Задачи проекта:**\n",
    "\n",
    "- обработка входных данных;\n",
    "- приоритизация гипотез;\n",
    "- анализ А/В теста;\n",
    "- формулировка выводов.\n",
    "\n",
    "**Входные данные —** на входе получены данные о 9 гипотезах по увеличению выручки интернет-магазина; датасеты с результатми А/В теста, в которых содержится информация о пользователях, принадлежности к группе теста, заказах и выручке. \n",
    "\n",
    "Проект разделен на 2 части. В процессе работы будут реализованы следующие шаги:\n",
    "\n",
    "- загрузка и знакомство с данными;\n",
    "- предобработка данных при необходимости;\n",
    "\n",
    "***Часть 1:***\n",
    "- применение фреймворков ICE и RICE для приоритизации гипотез;\n",
    "- сравнение результатов;\n",
    "\n",
    "***Часть 2:***\n",
    "- анализ A/B-теста;\n",
    "- принятие решений по результатам теста. "
   ]
  },
  {
   "cell_type": "markdown",
   "metadata": {},
   "source": [
    "## Приоритизация гипотез"
   ]
  },
  {
   "cell_type": "markdown",
   "metadata": {},
   "source": [
    "### Загрузка и знакомство с данными"
   ]
  },
  {
   "cell_type": "code",
   "execution_count": 1,
   "metadata": {},
   "outputs": [],
   "source": [
    "#импортируем библиотеки\n",
    "\n",
    "import pandas as pd\n",
    "from scipy import stats as st\n",
    "import matplotlib.pyplot as plt\n",
    "import seaborn as sns\n",
    "import datetime as dt\n",
    "import numpy as np"
   ]
  },
  {
   "cell_type": "code",
   "execution_count": 2,
   "metadata": {
    "scrolled": false
   },
   "outputs": [
    {
     "data": {
      "text/html": [
       "<div>\n",
       "<style scoped>\n",
       "    .dataframe tbody tr th:only-of-type {\n",
       "        vertical-align: middle;\n",
       "    }\n",
       "\n",
       "    .dataframe tbody tr th {\n",
       "        vertical-align: top;\n",
       "    }\n",
       "\n",
       "    .dataframe thead th {\n",
       "        text-align: right;\n",
       "    }\n",
       "</style>\n",
       "<table border=\"1\" class=\"dataframe\">\n",
       "  <thead>\n",
       "    <tr style=\"text-align: right;\">\n",
       "      <th></th>\n",
       "      <th>Hypothesis</th>\n",
       "      <th>Reach</th>\n",
       "      <th>Impact</th>\n",
       "      <th>Confidence</th>\n",
       "      <th>Efforts</th>\n",
       "    </tr>\n",
       "  </thead>\n",
       "  <tbody>\n",
       "    <tr>\n",
       "      <th>0</th>\n",
       "      <td>Добавить два новых канала привлечения трафика, что позволит привлекать на 30% больше пользователей</td>\n",
       "      <td>3</td>\n",
       "      <td>10</td>\n",
       "      <td>8</td>\n",
       "      <td>6</td>\n",
       "    </tr>\n",
       "    <tr>\n",
       "      <th>1</th>\n",
       "      <td>Запустить собственную службу доставки, что сократит срок доставки заказов</td>\n",
       "      <td>2</td>\n",
       "      <td>5</td>\n",
       "      <td>4</td>\n",
       "      <td>10</td>\n",
       "    </tr>\n",
       "    <tr>\n",
       "      <th>2</th>\n",
       "      <td>Добавить блоки рекомендаций товаров на сайт интернет магазина, чтобы повысить конверсию и средний чек заказа</td>\n",
       "      <td>8</td>\n",
       "      <td>3</td>\n",
       "      <td>7</td>\n",
       "      <td>3</td>\n",
       "    </tr>\n",
       "    <tr>\n",
       "      <th>3</th>\n",
       "      <td>Изменить структура категорий, что увеличит конверсию, т.к. пользователи быстрее найдут нужный товар</td>\n",
       "      <td>8</td>\n",
       "      <td>3</td>\n",
       "      <td>3</td>\n",
       "      <td>8</td>\n",
       "    </tr>\n",
       "    <tr>\n",
       "      <th>4</th>\n",
       "      <td>Изменить цвет фона главной страницы, чтобы увеличить вовлеченность пользователей</td>\n",
       "      <td>3</td>\n",
       "      <td>1</td>\n",
       "      <td>1</td>\n",
       "      <td>1</td>\n",
       "    </tr>\n",
       "    <tr>\n",
       "      <th>5</th>\n",
       "      <td>Добавить страницу отзывов клиентов о магазине, что позволит увеличить количество заказов</td>\n",
       "      <td>3</td>\n",
       "      <td>2</td>\n",
       "      <td>2</td>\n",
       "      <td>3</td>\n",
       "    </tr>\n",
       "    <tr>\n",
       "      <th>6</th>\n",
       "      <td>Показать на главной странице баннеры с актуальными акциями и распродажами, чтобы увеличить конверсию</td>\n",
       "      <td>5</td>\n",
       "      <td>3</td>\n",
       "      <td>8</td>\n",
       "      <td>3</td>\n",
       "    </tr>\n",
       "    <tr>\n",
       "      <th>7</th>\n",
       "      <td>Добавить форму подписки на все основные страницы, чтобы собрать базу клиентов для email-рассылок</td>\n",
       "      <td>10</td>\n",
       "      <td>7</td>\n",
       "      <td>8</td>\n",
       "      <td>5</td>\n",
       "    </tr>\n",
       "    <tr>\n",
       "      <th>8</th>\n",
       "      <td>Запустить акцию, дающую скидку на товар в день рождения</td>\n",
       "      <td>1</td>\n",
       "      <td>9</td>\n",
       "      <td>9</td>\n",
       "      <td>5</td>\n",
       "    </tr>\n",
       "  </tbody>\n",
       "</table>\n",
       "</div>"
      ],
      "text/plain": [
       "                                                                                                     Hypothesis  \\\n",
       "0            Добавить два новых канала привлечения трафика, что позволит привлекать на 30% больше пользователей   \n",
       "1                                     Запустить собственную службу доставки, что сократит срок доставки заказов   \n",
       "2  Добавить блоки рекомендаций товаров на сайт интернет магазина, чтобы повысить конверсию и средний чек заказа   \n",
       "3           Изменить структура категорий, что увеличит конверсию, т.к. пользователи быстрее найдут нужный товар   \n",
       "4                              Изменить цвет фона главной страницы, чтобы увеличить вовлеченность пользователей   \n",
       "5                      Добавить страницу отзывов клиентов о магазине, что позволит увеличить количество заказов   \n",
       "6          Показать на главной странице баннеры с актуальными акциями и распродажами, чтобы увеличить конверсию   \n",
       "7              Добавить форму подписки на все основные страницы, чтобы собрать базу клиентов для email-рассылок   \n",
       "8                                                       Запустить акцию, дающую скидку на товар в день рождения   \n",
       "\n",
       "   Reach  Impact  Confidence  Efforts  \n",
       "0      3      10           8        6  \n",
       "1      2       5           4       10  \n",
       "2      8       3           7        3  \n",
       "3      8       3           3        8  \n",
       "4      3       1           1        1  \n",
       "5      3       2           2        3  \n",
       "6      5       3           8        3  \n",
       "7     10       7           8        5  \n",
       "8      1       9           9        5  "
      ]
     },
     "metadata": {},
     "output_type": "display_data"
    },
    {
     "name": "stdout",
     "output_type": "stream",
     "text": [
      "<class 'pandas.core.frame.DataFrame'>\n",
      "RangeIndex: 9 entries, 0 to 8\n",
      "Data columns (total 5 columns):\n",
      " #   Column      Non-Null Count  Dtype \n",
      "---  ------      --------------  ----- \n",
      " 0   Hypothesis  9 non-null      object\n",
      " 1   Reach       9 non-null      int64 \n",
      " 2   Impact      9 non-null      int64 \n",
      " 3   Confidence  9 non-null      int64 \n",
      " 4   Efforts     9 non-null      int64 \n",
      "dtypes: int64(4), object(1)\n",
      "memory usage: 488.0+ bytes\n"
     ]
    }
   ],
   "source": [
    "#загружаем данные\n",
    "\n",
    "pd.options.display.max_colwidth = 150\n",
    "\n",
    "data = pd.read_csv('/datasets/hypothesis.csv')\n",
    "\n",
    "display(data)\n",
    "data.info()"
   ]
  },
  {
   "cell_type": "code",
   "execution_count": 3,
   "metadata": {},
   "outputs": [
    {
     "data": {
      "text/html": [
       "<div>\n",
       "<style scoped>\n",
       "    .dataframe tbody tr th:only-of-type {\n",
       "        vertical-align: middle;\n",
       "    }\n",
       "\n",
       "    .dataframe tbody tr th {\n",
       "        vertical-align: top;\n",
       "    }\n",
       "\n",
       "    .dataframe thead th {\n",
       "        text-align: right;\n",
       "    }\n",
       "</style>\n",
       "<table border=\"1\" class=\"dataframe\">\n",
       "  <thead>\n",
       "    <tr style=\"text-align: right;\">\n",
       "      <th></th>\n",
       "      <th>hypothesis</th>\n",
       "      <th>reach</th>\n",
       "      <th>impact</th>\n",
       "      <th>confidence</th>\n",
       "      <th>efforts</th>\n",
       "    </tr>\n",
       "  </thead>\n",
       "  <tbody>\n",
       "    <tr>\n",
       "      <th>0</th>\n",
       "      <td>Добавить два новых канала привлечения трафика, что позволит привлекать на 30% больше пользователей</td>\n",
       "      <td>3</td>\n",
       "      <td>10</td>\n",
       "      <td>8</td>\n",
       "      <td>6</td>\n",
       "    </tr>\n",
       "    <tr>\n",
       "      <th>1</th>\n",
       "      <td>Запустить собственную службу доставки, что сократит срок доставки заказов</td>\n",
       "      <td>2</td>\n",
       "      <td>5</td>\n",
       "      <td>4</td>\n",
       "      <td>10</td>\n",
       "    </tr>\n",
       "    <tr>\n",
       "      <th>2</th>\n",
       "      <td>Добавить блоки рекомендаций товаров на сайт интернет магазина, чтобы повысить конверсию и средний чек заказа</td>\n",
       "      <td>8</td>\n",
       "      <td>3</td>\n",
       "      <td>7</td>\n",
       "      <td>3</td>\n",
       "    </tr>\n",
       "    <tr>\n",
       "      <th>3</th>\n",
       "      <td>Изменить структура категорий, что увеличит конверсию, т.к. пользователи быстрее найдут нужный товар</td>\n",
       "      <td>8</td>\n",
       "      <td>3</td>\n",
       "      <td>3</td>\n",
       "      <td>8</td>\n",
       "    </tr>\n",
       "    <tr>\n",
       "      <th>4</th>\n",
       "      <td>Изменить цвет фона главной страницы, чтобы увеличить вовлеченность пользователей</td>\n",
       "      <td>3</td>\n",
       "      <td>1</td>\n",
       "      <td>1</td>\n",
       "      <td>1</td>\n",
       "    </tr>\n",
       "    <tr>\n",
       "      <th>5</th>\n",
       "      <td>Добавить страницу отзывов клиентов о магазине, что позволит увеличить количество заказов</td>\n",
       "      <td>3</td>\n",
       "      <td>2</td>\n",
       "      <td>2</td>\n",
       "      <td>3</td>\n",
       "    </tr>\n",
       "    <tr>\n",
       "      <th>6</th>\n",
       "      <td>Показать на главной странице баннеры с актуальными акциями и распродажами, чтобы увеличить конверсию</td>\n",
       "      <td>5</td>\n",
       "      <td>3</td>\n",
       "      <td>8</td>\n",
       "      <td>3</td>\n",
       "    </tr>\n",
       "    <tr>\n",
       "      <th>7</th>\n",
       "      <td>Добавить форму подписки на все основные страницы, чтобы собрать базу клиентов для email-рассылок</td>\n",
       "      <td>10</td>\n",
       "      <td>7</td>\n",
       "      <td>8</td>\n",
       "      <td>5</td>\n",
       "    </tr>\n",
       "    <tr>\n",
       "      <th>8</th>\n",
       "      <td>Запустить акцию, дающую скидку на товар в день рождения</td>\n",
       "      <td>1</td>\n",
       "      <td>9</td>\n",
       "      <td>9</td>\n",
       "      <td>5</td>\n",
       "    </tr>\n",
       "  </tbody>\n",
       "</table>\n",
       "</div>"
      ],
      "text/plain": [
       "                                                                                                     hypothesis  \\\n",
       "0            Добавить два новых канала привлечения трафика, что позволит привлекать на 30% больше пользователей   \n",
       "1                                     Запустить собственную службу доставки, что сократит срок доставки заказов   \n",
       "2  Добавить блоки рекомендаций товаров на сайт интернет магазина, чтобы повысить конверсию и средний чек заказа   \n",
       "3           Изменить структура категорий, что увеличит конверсию, т.к. пользователи быстрее найдут нужный товар   \n",
       "4                              Изменить цвет фона главной страницы, чтобы увеличить вовлеченность пользователей   \n",
       "5                      Добавить страницу отзывов клиентов о магазине, что позволит увеличить количество заказов   \n",
       "6          Показать на главной странице баннеры с актуальными акциями и распродажами, чтобы увеличить конверсию   \n",
       "7              Добавить форму подписки на все основные страницы, чтобы собрать базу клиентов для email-рассылок   \n",
       "8                                                       Запустить акцию, дающую скидку на товар в день рождения   \n",
       "\n",
       "   reach  impact  confidence  efforts  \n",
       "0      3      10           8        6  \n",
       "1      2       5           4       10  \n",
       "2      8       3           7        3  \n",
       "3      8       3           3        8  \n",
       "4      3       1           1        1  \n",
       "5      3       2           2        3  \n",
       "6      5       3           8        3  \n",
       "7     10       7           8        5  \n",
       "8      1       9           9        5  "
      ]
     },
     "execution_count": 3,
     "metadata": {},
     "output_type": "execute_result"
    }
   ],
   "source": [
    "#приведем названия столбцов к нижнему регистру\n",
    "\n",
    "data.columns = data.columns.str.lower()\n",
    "data"
   ]
  },
  {
   "cell_type": "markdown",
   "metadata": {},
   "source": [
    "В файле 9 гипотез. Все параметры для приоритизации гипотез методами ICE и RICE в таблице есть."
   ]
  },
  {
   "cell_type": "markdown",
   "metadata": {},
   "source": [
    "### Приоритизация гипотез методом ICE"
   ]
  },
  {
   "cell_type": "code",
   "execution_count": 4,
   "metadata": {},
   "outputs": [
    {
     "data": {
      "text/html": [
       "<div>\n",
       "<style scoped>\n",
       "    .dataframe tbody tr th:only-of-type {\n",
       "        vertical-align: middle;\n",
       "    }\n",
       "\n",
       "    .dataframe tbody tr th {\n",
       "        vertical-align: top;\n",
       "    }\n",
       "\n",
       "    .dataframe thead th {\n",
       "        text-align: right;\n",
       "    }\n",
       "</style>\n",
       "<table border=\"1\" class=\"dataframe\">\n",
       "  <thead>\n",
       "    <tr style=\"text-align: right;\">\n",
       "      <th></th>\n",
       "      <th>hypothesis</th>\n",
       "      <th>ICE</th>\n",
       "    </tr>\n",
       "  </thead>\n",
       "  <tbody>\n",
       "    <tr>\n",
       "      <th>8</th>\n",
       "      <td>Запустить акцию, дающую скидку на товар в день рождения</td>\n",
       "      <td>16.20</td>\n",
       "    </tr>\n",
       "    <tr>\n",
       "      <th>0</th>\n",
       "      <td>Добавить два новых канала привлечения трафика, что позволит привлекать на 30% больше пользователей</td>\n",
       "      <td>13.33</td>\n",
       "    </tr>\n",
       "    <tr>\n",
       "      <th>7</th>\n",
       "      <td>Добавить форму подписки на все основные страницы, чтобы собрать базу клиентов для email-рассылок</td>\n",
       "      <td>11.20</td>\n",
       "    </tr>\n",
       "    <tr>\n",
       "      <th>6</th>\n",
       "      <td>Показать на главной странице баннеры с актуальными акциями и распродажами, чтобы увеличить конверсию</td>\n",
       "      <td>8.00</td>\n",
       "    </tr>\n",
       "    <tr>\n",
       "      <th>2</th>\n",
       "      <td>Добавить блоки рекомендаций товаров на сайт интернет магазина, чтобы повысить конверсию и средний чек заказа</td>\n",
       "      <td>7.00</td>\n",
       "    </tr>\n",
       "    <tr>\n",
       "      <th>1</th>\n",
       "      <td>Запустить собственную службу доставки, что сократит срок доставки заказов</td>\n",
       "      <td>2.00</td>\n",
       "    </tr>\n",
       "    <tr>\n",
       "      <th>5</th>\n",
       "      <td>Добавить страницу отзывов клиентов о магазине, что позволит увеличить количество заказов</td>\n",
       "      <td>1.33</td>\n",
       "    </tr>\n",
       "    <tr>\n",
       "      <th>3</th>\n",
       "      <td>Изменить структура категорий, что увеличит конверсию, т.к. пользователи быстрее найдут нужный товар</td>\n",
       "      <td>1.12</td>\n",
       "    </tr>\n",
       "    <tr>\n",
       "      <th>4</th>\n",
       "      <td>Изменить цвет фона главной страницы, чтобы увеличить вовлеченность пользователей</td>\n",
       "      <td>1.00</td>\n",
       "    </tr>\n",
       "  </tbody>\n",
       "</table>\n",
       "</div>"
      ],
      "text/plain": [
       "                                                                                                     hypothesis  \\\n",
       "8                                                       Запустить акцию, дающую скидку на товар в день рождения   \n",
       "0            Добавить два новых канала привлечения трафика, что позволит привлекать на 30% больше пользователей   \n",
       "7              Добавить форму подписки на все основные страницы, чтобы собрать базу клиентов для email-рассылок   \n",
       "6          Показать на главной странице баннеры с актуальными акциями и распродажами, чтобы увеличить конверсию   \n",
       "2  Добавить блоки рекомендаций товаров на сайт интернет магазина, чтобы повысить конверсию и средний чек заказа   \n",
       "1                                     Запустить собственную службу доставки, что сократит срок доставки заказов   \n",
       "5                      Добавить страницу отзывов клиентов о магазине, что позволит увеличить количество заказов   \n",
       "3           Изменить структура категорий, что увеличит конверсию, т.к. пользователи быстрее найдут нужный товар   \n",
       "4                              Изменить цвет фона главной страницы, чтобы увеличить вовлеченность пользователей   \n",
       "\n",
       "     ICE  \n",
       "8  16.20  \n",
       "0  13.33  \n",
       "7  11.20  \n",
       "6   8.00  \n",
       "2   7.00  \n",
       "1   2.00  \n",
       "5   1.33  \n",
       "3   1.12  \n",
       "4   1.00  "
      ]
     },
     "execution_count": 4,
     "metadata": {},
     "output_type": "execute_result"
    }
   ],
   "source": [
    "data['ICE'] = round(data['impact']*data['confidence']/data['efforts'],2)\n",
    "\n",
    "data[['hypothesis','ICE']].sort_values(by='ICE',ascending=False)"
   ]
  },
  {
   "cell_type": "markdown",
   "metadata": {},
   "source": [
    "### Приоритизация гипотез методом RICE"
   ]
  },
  {
   "cell_type": "code",
   "execution_count": 5,
   "metadata": {},
   "outputs": [
    {
     "data": {
      "text/html": [
       "<div>\n",
       "<style scoped>\n",
       "    .dataframe tbody tr th:only-of-type {\n",
       "        vertical-align: middle;\n",
       "    }\n",
       "\n",
       "    .dataframe tbody tr th {\n",
       "        vertical-align: top;\n",
       "    }\n",
       "\n",
       "    .dataframe thead th {\n",
       "        text-align: right;\n",
       "    }\n",
       "</style>\n",
       "<table border=\"1\" class=\"dataframe\">\n",
       "  <thead>\n",
       "    <tr style=\"text-align: right;\">\n",
       "      <th></th>\n",
       "      <th>hypothesis</th>\n",
       "      <th>RICE</th>\n",
       "    </tr>\n",
       "  </thead>\n",
       "  <tbody>\n",
       "    <tr>\n",
       "      <th>7</th>\n",
       "      <td>Добавить форму подписки на все основные страницы, чтобы собрать базу клиентов для email-рассылок</td>\n",
       "      <td>112.0</td>\n",
       "    </tr>\n",
       "    <tr>\n",
       "      <th>2</th>\n",
       "      <td>Добавить блоки рекомендаций товаров на сайт интернет магазина, чтобы повысить конверсию и средний чек заказа</td>\n",
       "      <td>56.0</td>\n",
       "    </tr>\n",
       "    <tr>\n",
       "      <th>0</th>\n",
       "      <td>Добавить два новых канала привлечения трафика, что позволит привлекать на 30% больше пользователей</td>\n",
       "      <td>40.0</td>\n",
       "    </tr>\n",
       "    <tr>\n",
       "      <th>6</th>\n",
       "      <td>Показать на главной странице баннеры с актуальными акциями и распродажами, чтобы увеличить конверсию</td>\n",
       "      <td>40.0</td>\n",
       "    </tr>\n",
       "    <tr>\n",
       "      <th>8</th>\n",
       "      <td>Запустить акцию, дающую скидку на товар в день рождения</td>\n",
       "      <td>16.2</td>\n",
       "    </tr>\n",
       "    <tr>\n",
       "      <th>3</th>\n",
       "      <td>Изменить структура категорий, что увеличит конверсию, т.к. пользователи быстрее найдут нужный товар</td>\n",
       "      <td>9.0</td>\n",
       "    </tr>\n",
       "    <tr>\n",
       "      <th>1</th>\n",
       "      <td>Запустить собственную службу доставки, что сократит срок доставки заказов</td>\n",
       "      <td>4.0</td>\n",
       "    </tr>\n",
       "    <tr>\n",
       "      <th>5</th>\n",
       "      <td>Добавить страницу отзывов клиентов о магазине, что позволит увеличить количество заказов</td>\n",
       "      <td>4.0</td>\n",
       "    </tr>\n",
       "    <tr>\n",
       "      <th>4</th>\n",
       "      <td>Изменить цвет фона главной страницы, чтобы увеличить вовлеченность пользователей</td>\n",
       "      <td>3.0</td>\n",
       "    </tr>\n",
       "  </tbody>\n",
       "</table>\n",
       "</div>"
      ],
      "text/plain": [
       "                                                                                                     hypothesis  \\\n",
       "7              Добавить форму подписки на все основные страницы, чтобы собрать базу клиентов для email-рассылок   \n",
       "2  Добавить блоки рекомендаций товаров на сайт интернет магазина, чтобы повысить конверсию и средний чек заказа   \n",
       "0            Добавить два новых канала привлечения трафика, что позволит привлекать на 30% больше пользователей   \n",
       "6          Показать на главной странице баннеры с актуальными акциями и распродажами, чтобы увеличить конверсию   \n",
       "8                                                       Запустить акцию, дающую скидку на товар в день рождения   \n",
       "3           Изменить структура категорий, что увеличит конверсию, т.к. пользователи быстрее найдут нужный товар   \n",
       "1                                     Запустить собственную службу доставки, что сократит срок доставки заказов   \n",
       "5                      Добавить страницу отзывов клиентов о магазине, что позволит увеличить количество заказов   \n",
       "4                              Изменить цвет фона главной страницы, чтобы увеличить вовлеченность пользователей   \n",
       "\n",
       "    RICE  \n",
       "7  112.0  \n",
       "2   56.0  \n",
       "0   40.0  \n",
       "6   40.0  \n",
       "8   16.2  \n",
       "3    9.0  \n",
       "1    4.0  \n",
       "5    4.0  \n",
       "4    3.0  "
      ]
     },
     "execution_count": 5,
     "metadata": {},
     "output_type": "execute_result"
    }
   ],
   "source": [
    "data['RICE'] = round(data['reach']*data['impact']*data['confidence']/data['efforts'],2)\n",
    "\n",
    "data[['hypothesis','RICE']].sort_values(by='RICE',ascending=False)"
   ]
  },
  {
   "cell_type": "markdown",
   "metadata": {},
   "source": [
    "**Вывод:**\n",
    "Методы ICE и RICE имеют принципиальные различия. RICE является модификацией от ICE, при расчете учитывает охват пользователей, которых затронет изменение. Именно поэтому при расчете мы получили разные результаты. При учитывании охвата пользователей, состав и порядок гипотез скорректировался.\n",
    "\n",
    "При расчете методом ICE наиболее перспективные гипотезы 8,0,7,6. При расчете мотодом RICE список и порядок изменились - 7,2,0,6. По гипотезам 7,0,6 изменился только порядок, но они остались в начале списка, а вот гипотеза 8 вылетела из топа, зато появилась гипотеза 2. Это связано с тем, что несмотря на высокую оценку параметров гипотезы 8 охват пользователей, которых она затронет, только 1, а у гипотезы 2 - 8 пользователей. По этой же причине на первое место вышла гипотеза 7, ведь по ней самое большое количество пользователей, которое она затронет."
   ]
  },
  {
   "cell_type": "markdown",
   "metadata": {},
   "source": [
    "## Анализ А/В теста"
   ]
  },
  {
   "cell_type": "markdown",
   "metadata": {},
   "source": [
    "### Загрузка и знакомство с данными"
   ]
  },
  {
   "cell_type": "code",
   "execution_count": 6,
   "metadata": {},
   "outputs": [
    {
     "data": {
      "text/html": [
       "<div>\n",
       "<style scoped>\n",
       "    .dataframe tbody tr th:only-of-type {\n",
       "        vertical-align: middle;\n",
       "    }\n",
       "\n",
       "    .dataframe tbody tr th {\n",
       "        vertical-align: top;\n",
       "    }\n",
       "\n",
       "    .dataframe thead th {\n",
       "        text-align: right;\n",
       "    }\n",
       "</style>\n",
       "<table border=\"1\" class=\"dataframe\">\n",
       "  <thead>\n",
       "    <tr style=\"text-align: right;\">\n",
       "      <th></th>\n",
       "      <th>transactionId</th>\n",
       "      <th>visitorId</th>\n",
       "      <th>date</th>\n",
       "      <th>revenue</th>\n",
       "      <th>group</th>\n",
       "    </tr>\n",
       "  </thead>\n",
       "  <tbody>\n",
       "    <tr>\n",
       "      <th>0</th>\n",
       "      <td>3667963787</td>\n",
       "      <td>3312258926</td>\n",
       "      <td>2019-08-15</td>\n",
       "      <td>1650</td>\n",
       "      <td>B</td>\n",
       "    </tr>\n",
       "    <tr>\n",
       "      <th>1</th>\n",
       "      <td>2804400009</td>\n",
       "      <td>3642806036</td>\n",
       "      <td>2019-08-15</td>\n",
       "      <td>730</td>\n",
       "      <td>B</td>\n",
       "    </tr>\n",
       "    <tr>\n",
       "      <th>2</th>\n",
       "      <td>2961555356</td>\n",
       "      <td>4069496402</td>\n",
       "      <td>2019-08-15</td>\n",
       "      <td>400</td>\n",
       "      <td>A</td>\n",
       "    </tr>\n",
       "    <tr>\n",
       "      <th>3</th>\n",
       "      <td>3797467345</td>\n",
       "      <td>1196621759</td>\n",
       "      <td>2019-08-15</td>\n",
       "      <td>9759</td>\n",
       "      <td>B</td>\n",
       "    </tr>\n",
       "    <tr>\n",
       "      <th>4</th>\n",
       "      <td>2282983706</td>\n",
       "      <td>2322279887</td>\n",
       "      <td>2019-08-15</td>\n",
       "      <td>2308</td>\n",
       "      <td>B</td>\n",
       "    </tr>\n",
       "  </tbody>\n",
       "</table>\n",
       "</div>"
      ],
      "text/plain": [
       "   transactionId   visitorId       date  revenue group\n",
       "0     3667963787  3312258926 2019-08-15     1650     B\n",
       "1     2804400009  3642806036 2019-08-15      730     B\n",
       "2     2961555356  4069496402 2019-08-15      400     A\n",
       "3     3797467345  1196621759 2019-08-15     9759     B\n",
       "4     2282983706  2322279887 2019-08-15     2308     B"
      ]
     },
     "metadata": {},
     "output_type": "display_data"
    },
    {
     "name": "stdout",
     "output_type": "stream",
     "text": [
      "<class 'pandas.core.frame.DataFrame'>\n",
      "RangeIndex: 1197 entries, 0 to 1196\n",
      "Data columns (total 5 columns):\n",
      " #   Column         Non-Null Count  Dtype         \n",
      "---  ------         --------------  -----         \n",
      " 0   transactionId  1197 non-null   int64         \n",
      " 1   visitorId      1197 non-null   int64         \n",
      " 2   date           1197 non-null   datetime64[ns]\n",
      " 3   revenue        1197 non-null   int64         \n",
      " 4   group          1197 non-null   object        \n",
      "dtypes: datetime64[ns](1), int64(3), object(1)\n",
      "memory usage: 46.9+ KB\n"
     ]
    },
    {
     "data": {
      "text/plain": [
       "None"
      ]
     },
     "metadata": {},
     "output_type": "display_data"
    },
    {
     "data": {
      "text/html": [
       "<div>\n",
       "<style scoped>\n",
       "    .dataframe tbody tr th:only-of-type {\n",
       "        vertical-align: middle;\n",
       "    }\n",
       "\n",
       "    .dataframe tbody tr th {\n",
       "        vertical-align: top;\n",
       "    }\n",
       "\n",
       "    .dataframe thead th {\n",
       "        text-align: right;\n",
       "    }\n",
       "</style>\n",
       "<table border=\"1\" class=\"dataframe\">\n",
       "  <thead>\n",
       "    <tr style=\"text-align: right;\">\n",
       "      <th></th>\n",
       "      <th>date</th>\n",
       "      <th>group</th>\n",
       "      <th>visitors</th>\n",
       "    </tr>\n",
       "  </thead>\n",
       "  <tbody>\n",
       "    <tr>\n",
       "      <th>0</th>\n",
       "      <td>2019-08-01</td>\n",
       "      <td>A</td>\n",
       "      <td>719</td>\n",
       "    </tr>\n",
       "    <tr>\n",
       "      <th>1</th>\n",
       "      <td>2019-08-02</td>\n",
       "      <td>A</td>\n",
       "      <td>619</td>\n",
       "    </tr>\n",
       "    <tr>\n",
       "      <th>2</th>\n",
       "      <td>2019-08-03</td>\n",
       "      <td>A</td>\n",
       "      <td>507</td>\n",
       "    </tr>\n",
       "    <tr>\n",
       "      <th>3</th>\n",
       "      <td>2019-08-04</td>\n",
       "      <td>A</td>\n",
       "      <td>717</td>\n",
       "    </tr>\n",
       "    <tr>\n",
       "      <th>4</th>\n",
       "      <td>2019-08-05</td>\n",
       "      <td>A</td>\n",
       "      <td>756</td>\n",
       "    </tr>\n",
       "  </tbody>\n",
       "</table>\n",
       "</div>"
      ],
      "text/plain": [
       "        date group  visitors\n",
       "0 2019-08-01     A       719\n",
       "1 2019-08-02     A       619\n",
       "2 2019-08-03     A       507\n",
       "3 2019-08-04     A       717\n",
       "4 2019-08-05     A       756"
      ]
     },
     "metadata": {},
     "output_type": "display_data"
    },
    {
     "name": "stdout",
     "output_type": "stream",
     "text": [
      "<class 'pandas.core.frame.DataFrame'>\n",
      "RangeIndex: 62 entries, 0 to 61\n",
      "Data columns (total 3 columns):\n",
      " #   Column    Non-Null Count  Dtype         \n",
      "---  ------    --------------  -----         \n",
      " 0   date      62 non-null     datetime64[ns]\n",
      " 1   group     62 non-null     object        \n",
      " 2   visitors  62 non-null     int64         \n",
      "dtypes: datetime64[ns](1), int64(1), object(1)\n",
      "memory usage: 1.6+ KB\n"
     ]
    }
   ],
   "source": [
    "#загружаем данные\n",
    "\n",
    "orders = pd.read_csv('/datasets/orders.csv',parse_dates=['date'])\n",
    "visitors = pd.read_csv('/datasets/visitors.csv',parse_dates=['date'])\n",
    "\n",
    "display(orders.head())\n",
    "display(orders.info())\n",
    "display(visitors.head())\n",
    "visitors.info()"
   ]
  },
  {
   "cell_type": "code",
   "execution_count": 7,
   "metadata": {},
   "outputs": [
    {
     "data": {
      "text/plain": [
       "0"
      ]
     },
     "metadata": {},
     "output_type": "display_data"
    },
    {
     "data": {
      "text/plain": [
       "0"
      ]
     },
     "metadata": {},
     "output_type": "display_data"
    }
   ],
   "source": [
    "#проверим переменные на наличие дубликатов\n",
    "\n",
    "display(visitors.duplicated().sum())\n",
    "display(orders.duplicated().sum())"
   ]
  },
  {
   "cell_type": "code",
   "execution_count": 8,
   "metadata": {},
   "outputs": [
    {
     "data": {
      "text/plain": [
       "transactionId    0\n",
       "visitorId        0\n",
       "date             0\n",
       "revenue          0\n",
       "group            0\n",
       "dtype: int64"
      ]
     },
     "metadata": {},
     "output_type": "display_data"
    },
    {
     "data": {
      "text/plain": [
       "date        0\n",
       "group       0\n",
       "visitors    0\n",
       "dtype: int64"
      ]
     },
     "execution_count": 8,
     "metadata": {},
     "output_type": "execute_result"
    }
   ],
   "source": [
    "#проверим переменные на наличие пропусков\n",
    "\n",
    "display(orders.isna().sum())\n",
    "visitors.isna().sum()"
   ]
  },
  {
   "cell_type": "markdown",
   "metadata": {},
   "source": [
    "Перед началом анализа А/В теста посмотрим на представленные данные по группам."
   ]
  },
  {
   "cell_type": "code",
   "execution_count": 9,
   "metadata": {},
   "outputs": [
    {
     "data": {
      "text/plain": [
       "array(['B', 'A'], dtype=object)"
      ]
     },
     "execution_count": 9,
     "metadata": {},
     "output_type": "execute_result"
    }
   ],
   "source": [
    "# посмотрим сколько групп представлено в тесте\n",
    "\n",
    "orders['group'].unique()"
   ]
  },
  {
   "cell_type": "markdown",
   "metadata": {},
   "source": [
    "А/В тест парный."
   ]
  },
  {
   "cell_type": "code",
   "execution_count": 10,
   "metadata": {},
   "outputs": [
    {
     "name": "stdout",
     "output_type": "stream",
     "text": [
      "Начальная дата: 2019-08-01\n",
      "Конечная дата: 2019-08-31\n"
     ]
    }
   ],
   "source": [
    "#срок проведения А/В теста\n",
    "\n",
    "print(\"Начальная дата: {}\".format(orders['date'].min().strftime('%Y-%m-%d')))\n",
    "print(\"Конечная дата: {}\".format(orders['date'].max().strftime('%Y-%m-%d')))"
   ]
  },
  {
   "cell_type": "markdown",
   "metadata": {},
   "source": [
    "Срок теста составляет 1 месяц с 01.08.2019 по 31.08.2019."
   ]
  },
  {
   "cell_type": "code",
   "execution_count": 11,
   "metadata": {},
   "outputs": [
    {
     "data": {
      "text/html": [
       "<div>\n",
       "<style scoped>\n",
       "    .dataframe tbody tr th:only-of-type {\n",
       "        vertical-align: middle;\n",
       "    }\n",
       "\n",
       "    .dataframe tbody tr th {\n",
       "        vertical-align: top;\n",
       "    }\n",
       "\n",
       "    .dataframe thead th {\n",
       "        text-align: right;\n",
       "    }\n",
       "</style>\n",
       "<table border=\"1\" class=\"dataframe\">\n",
       "  <thead>\n",
       "    <tr style=\"text-align: right;\">\n",
       "      <th></th>\n",
       "      <th>visitorId</th>\n",
       "    </tr>\n",
       "    <tr>\n",
       "      <th>group</th>\n",
       "      <th></th>\n",
       "    </tr>\n",
       "  </thead>\n",
       "  <tbody>\n",
       "    <tr>\n",
       "      <th>A</th>\n",
       "      <td>503</td>\n",
       "    </tr>\n",
       "    <tr>\n",
       "      <th>B</th>\n",
       "      <td>586</td>\n",
       "    </tr>\n",
       "  </tbody>\n",
       "</table>\n",
       "</div>"
      ],
      "text/plain": [
       "       visitorId\n",
       "group           \n",
       "A            503\n",
       "B            586"
      ]
     },
     "execution_count": 11,
     "metadata": {},
     "output_type": "execute_result"
    }
   ],
   "source": [
    "# кол-во уникальных пользователей в каждой группе\n",
    "\n",
    "orders.pivot_table(index='group', values='visitorId',aggfunc=pd.Series.nunique)"
   ]
  },
  {
   "cell_type": "code",
   "execution_count": 12,
   "metadata": {},
   "outputs": [
    {
     "data": {
      "text/plain": [
       "1031"
      ]
     },
     "execution_count": 12,
     "metadata": {},
     "output_type": "execute_result"
    }
   ],
   "source": [
    "#посмотрим сколько всего уникальных пользователей\n",
    "orders['visitorId'].nunique()"
   ]
  },
  {
   "cell_type": "markdown",
   "metadata": {},
   "source": [
    "Количество пользователей в группе В больше на 16,5%. Это высокий показатель, необходимо сообщить о такой разнице. Кроме этого мы видим несоответствие общей сумме, что говорит о том, что есть пользователи, которые попали в обе группы."
   ]
  },
  {
   "cell_type": "code",
   "execution_count": 13,
   "metadata": {},
   "outputs": [
    {
     "data": {
      "text/plain": [
       "group    58\n",
       "dtype: int64"
      ]
     },
     "execution_count": 13,
     "metadata": {},
     "output_type": "execute_result"
    }
   ],
   "source": [
    "# найдем кол-во поьзователей, попавших одновременно в обе группы\n",
    "\n",
    "orders.groupby('visitorId').agg({'group' : 'nunique'}).query('group>1').count()"
   ]
  },
  {
   "cell_type": "markdown",
   "metadata": {},
   "source": [
    "Мы видим, что 58 пользователей попали одновременно в 2 группы. По правилам необходимо исключить таких пользователей, так как они могут повлиять на корректность сравнения метрик. Однако в представленной таблице visitors у нас представлены агрегированные данные по количеству посетителей. И, удалив дубли в группах, мы не можем исправить количество посетителей. В идеале тест следует перепровести.В данном проекте мы не будем исключать пользователей и проведем анализ на полных данных."
   ]
  },
  {
   "cell_type": "markdown",
   "metadata": {},
   "source": [
    "### Расчет агрегированных данных, объединение таблиц"
   ]
  },
  {
   "cell_type": "code",
   "execution_count": 14,
   "metadata": {
    "scrolled": true
   },
   "outputs": [],
   "source": [
    "# создание уникальных пар значений дат и групп\n",
    "\n",
    "dates_groups = orders[['date','group']].drop_duplicates() "
   ]
  },
  {
   "cell_type": "code",
   "execution_count": 15,
   "metadata": {},
   "outputs": [
    {
     "data": {
      "text/html": [
       "<div>\n",
       "<style scoped>\n",
       "    .dataframe tbody tr th:only-of-type {\n",
       "        vertical-align: middle;\n",
       "    }\n",
       "\n",
       "    .dataframe tbody tr th {\n",
       "        vertical-align: top;\n",
       "    }\n",
       "\n",
       "    .dataframe thead th {\n",
       "        text-align: right;\n",
       "    }\n",
       "</style>\n",
       "<table border=\"1\" class=\"dataframe\">\n",
       "  <thead>\n",
       "    <tr style=\"text-align: right;\">\n",
       "      <th></th>\n",
       "      <th>date</th>\n",
       "      <th>group</th>\n",
       "      <th>transactionId</th>\n",
       "      <th>visitorId</th>\n",
       "      <th>revenue</th>\n",
       "    </tr>\n",
       "  </thead>\n",
       "  <tbody>\n",
       "    <tr>\n",
       "      <th>55</th>\n",
       "      <td>2019-08-01</td>\n",
       "      <td>A</td>\n",
       "      <td>24</td>\n",
       "      <td>20</td>\n",
       "      <td>148579</td>\n",
       "    </tr>\n",
       "    <tr>\n",
       "      <th>66</th>\n",
       "      <td>2019-08-01</td>\n",
       "      <td>B</td>\n",
       "      <td>21</td>\n",
       "      <td>20</td>\n",
       "      <td>101217</td>\n",
       "    </tr>\n",
       "    <tr>\n",
       "      <th>175</th>\n",
       "      <td>2019-08-02</td>\n",
       "      <td>A</td>\n",
       "      <td>44</td>\n",
       "      <td>38</td>\n",
       "      <td>242401</td>\n",
       "    </tr>\n",
       "    <tr>\n",
       "      <th>173</th>\n",
       "      <td>2019-08-02</td>\n",
       "      <td>B</td>\n",
       "      <td>45</td>\n",
       "      <td>43</td>\n",
       "      <td>266748</td>\n",
       "    </tr>\n",
       "    <tr>\n",
       "      <th>291</th>\n",
       "      <td>2019-08-03</td>\n",
       "      <td>A</td>\n",
       "      <td>68</td>\n",
       "      <td>62</td>\n",
       "      <td>354874</td>\n",
       "    </tr>\n",
       "  </tbody>\n",
       "</table>\n",
       "</div>"
      ],
      "text/plain": [
       "          date group  transactionId  visitorId  revenue\n",
       "55  2019-08-01     A             24         20   148579\n",
       "66  2019-08-01     B             21         20   101217\n",
       "175 2019-08-02     A             44         38   242401\n",
       "173 2019-08-02     B             45         43   266748\n",
       "291 2019-08-03     A             68         62   354874"
      ]
     },
     "execution_count": 15,
     "metadata": {},
     "output_type": "execute_result"
    }
   ],
   "source": [
    "#рассчитаем агрегированные кумулятивные данные по уникальным парам о заказах в таблице orders\n",
    "\n",
    "orders_aggregate = dates_groups.apply(\n",
    "    lambda x: orders[np.logical_and(orders['date'] <= x['date'],orders['group'] == x['group'])].agg(\n",
    "    {'date':'max','group':'max','transactionId':'nunique','visitorId':'nunique','revenue':'sum'}), axis=1).sort_values(\n",
    "    by=['date','group']) \n",
    "orders_aggregate.head()"
   ]
  },
  {
   "cell_type": "code",
   "execution_count": 16,
   "metadata": {},
   "outputs": [
    {
     "data": {
      "text/html": [
       "<div>\n",
       "<style scoped>\n",
       "    .dataframe tbody tr th:only-of-type {\n",
       "        vertical-align: middle;\n",
       "    }\n",
       "\n",
       "    .dataframe tbody tr th {\n",
       "        vertical-align: top;\n",
       "    }\n",
       "\n",
       "    .dataframe thead th {\n",
       "        text-align: right;\n",
       "    }\n",
       "</style>\n",
       "<table border=\"1\" class=\"dataframe\">\n",
       "  <thead>\n",
       "    <tr style=\"text-align: right;\">\n",
       "      <th></th>\n",
       "      <th>date</th>\n",
       "      <th>group</th>\n",
       "      <th>visitors</th>\n",
       "    </tr>\n",
       "  </thead>\n",
       "  <tbody>\n",
       "    <tr>\n",
       "      <th>55</th>\n",
       "      <td>2019-08-01</td>\n",
       "      <td>A</td>\n",
       "      <td>719</td>\n",
       "    </tr>\n",
       "    <tr>\n",
       "      <th>66</th>\n",
       "      <td>2019-08-01</td>\n",
       "      <td>B</td>\n",
       "      <td>713</td>\n",
       "    </tr>\n",
       "    <tr>\n",
       "      <th>175</th>\n",
       "      <td>2019-08-02</td>\n",
       "      <td>A</td>\n",
       "      <td>1338</td>\n",
       "    </tr>\n",
       "    <tr>\n",
       "      <th>173</th>\n",
       "      <td>2019-08-02</td>\n",
       "      <td>B</td>\n",
       "      <td>1294</td>\n",
       "    </tr>\n",
       "    <tr>\n",
       "      <th>291</th>\n",
       "      <td>2019-08-03</td>\n",
       "      <td>A</td>\n",
       "      <td>1845</td>\n",
       "    </tr>\n",
       "  </tbody>\n",
       "</table>\n",
       "</div>"
      ],
      "text/plain": [
       "          date group  visitors\n",
       "55  2019-08-01     A       719\n",
       "66  2019-08-01     B       713\n",
       "175 2019-08-02     A      1338\n",
       "173 2019-08-02     B      1294\n",
       "291 2019-08-03     A      1845"
      ]
     },
     "execution_count": 16,
     "metadata": {},
     "output_type": "execute_result"
    }
   ],
   "source": [
    "#рассчитаем агрегированные кумулятивные данные по уникальным парам о посетителях в таблице visitors\n",
    "\n",
    "visitors_aggregate = dates_groups.apply(\n",
    "    lambda x: visitors[np.logical_and(visitors['date'] <= x['date'], visitors['group'] == x['group'])].agg(\n",
    "        {'date':'max','group':'max','visitors':'sum'}), axis=1).sort_values(by=['date','group'])\n",
    "visitors_aggregate.head()"
   ]
  },
  {
   "cell_type": "code",
   "execution_count": 17,
   "metadata": {},
   "outputs": [
    {
     "data": {
      "text/html": [
       "<div>\n",
       "<style scoped>\n",
       "    .dataframe tbody tr th:only-of-type {\n",
       "        vertical-align: middle;\n",
       "    }\n",
       "\n",
       "    .dataframe tbody tr th {\n",
       "        vertical-align: top;\n",
       "    }\n",
       "\n",
       "    .dataframe thead th {\n",
       "        text-align: right;\n",
       "    }\n",
       "</style>\n",
       "<table border=\"1\" class=\"dataframe\">\n",
       "  <thead>\n",
       "    <tr style=\"text-align: right;\">\n",
       "      <th></th>\n",
       "      <th>date</th>\n",
       "      <th>group</th>\n",
       "      <th>orders</th>\n",
       "      <th>buyers</th>\n",
       "      <th>revenue</th>\n",
       "      <th>visitors</th>\n",
       "    </tr>\n",
       "  </thead>\n",
       "  <tbody>\n",
       "    <tr>\n",
       "      <th>0</th>\n",
       "      <td>2019-08-01</td>\n",
       "      <td>A</td>\n",
       "      <td>24</td>\n",
       "      <td>20</td>\n",
       "      <td>148579</td>\n",
       "      <td>719</td>\n",
       "    </tr>\n",
       "    <tr>\n",
       "      <th>1</th>\n",
       "      <td>2019-08-01</td>\n",
       "      <td>B</td>\n",
       "      <td>21</td>\n",
       "      <td>20</td>\n",
       "      <td>101217</td>\n",
       "      <td>713</td>\n",
       "    </tr>\n",
       "    <tr>\n",
       "      <th>2</th>\n",
       "      <td>2019-08-02</td>\n",
       "      <td>A</td>\n",
       "      <td>44</td>\n",
       "      <td>38</td>\n",
       "      <td>242401</td>\n",
       "      <td>1338</td>\n",
       "    </tr>\n",
       "    <tr>\n",
       "      <th>3</th>\n",
       "      <td>2019-08-02</td>\n",
       "      <td>B</td>\n",
       "      <td>45</td>\n",
       "      <td>43</td>\n",
       "      <td>266748</td>\n",
       "      <td>1294</td>\n",
       "    </tr>\n",
       "    <tr>\n",
       "      <th>4</th>\n",
       "      <td>2019-08-03</td>\n",
       "      <td>A</td>\n",
       "      <td>68</td>\n",
       "      <td>62</td>\n",
       "      <td>354874</td>\n",
       "      <td>1845</td>\n",
       "    </tr>\n",
       "  </tbody>\n",
       "</table>\n",
       "</div>"
      ],
      "text/plain": [
       "        date group  orders  buyers  revenue  visitors\n",
       "0 2019-08-01     A      24      20   148579       719\n",
       "1 2019-08-01     B      21      20   101217       713\n",
       "2 2019-08-02     A      44      38   242401      1338\n",
       "3 2019-08-02     B      45      43   266748      1294\n",
       "4 2019-08-03     A      68      62   354874      1845"
      ]
     },
     "execution_count": 17,
     "metadata": {},
     "output_type": "execute_result"
    }
   ],
   "source": [
    "#объединяем таблицы\n",
    "\n",
    "aggregate_data = orders_aggregate.merge(visitors_aggregate, left_on=['date','group'],right_on=['date','group'])\n",
    "aggregate_data.columns = ['date', 'group', 'orders', 'buyers', 'revenue', 'visitors']\n",
    "\n",
    "aggregate_data.head()"
   ]
  },
  {
   "cell_type": "markdown",
   "metadata": {},
   "source": [
    "### График кумулятивной выручки по группам"
   ]
  },
  {
   "cell_type": "code",
   "execution_count": 18,
   "metadata": {},
   "outputs": [],
   "source": [
    "# данные по группе А\n",
    "cum_revenue_A = aggregate_data[aggregate_data['group']=='A'][['date','revenue', 'orders']]\n",
    "\n",
    "# данные по группе В\n",
    "cum_revenue_B = aggregate_data[aggregate_data['group']=='B'][['date','revenue', 'orders']]"
   ]
  },
  {
   "cell_type": "code",
   "execution_count": 19,
   "metadata": {},
   "outputs": [
    {
     "data": {
      "image/png": "[encoded data removed]",
      "text/plain": [
       "<Figure size 720x360 with 1 Axes>"
      ]
     },
     "metadata": {
      "needs_background": "light"
     },
     "output_type": "display_data"
    }
   ],
   "source": [
    "# строим графики\n",
    "\n",
    "plt.figure(figsize=(10, 5))\n",
    "\n",
    "plt.plot(cum_revenue_A['date'], cum_revenue_A['revenue'], label='A')\n",
    "plt.plot(cum_revenue_B['date'], cum_revenue_B['revenue'], label='B')\n",
    "\n",
    "plt.legend() \n",
    "plt.xlabel('Дата заказа')\n",
    "plt.ylabel('Выручка')\n",
    "plt.title('Кумулятивная выручка по группам')\n",
    "plt.grid(True)\n",
    "plt.show()"
   ]
  },
  {
   "cell_type": "markdown",
   "metadata": {},
   "source": [
    "**Вывод:** По группе А мы наблюдаем достаточно плавное увеличение, а по группе В отмечен резкий скачок. и далее снова плавный рост. Это может отражать увеличение количества заказов или увеличении суммы чека (появление более дорогих заказов)."
   ]
  },
  {
   "cell_type": "markdown",
   "metadata": {},
   "source": [
    "### График кумулятивного среднего чека по группам"
   ]
  },
  {
   "cell_type": "code",
   "execution_count": 20,
   "metadata": {},
   "outputs": [
    {
     "data": {
      "image/png": "[encoded data removed]",
      "text/plain": [
       "<Figure size 720x360 with 1 Axes>"
      ]
     },
     "metadata": {
      "needs_background": "light"
     },
     "output_type": "display_data"
    }
   ],
   "source": [
    "plt.figure(figsize=(10, 5))\n",
    "\n",
    "plt.plot(cum_revenue_A['date'], cum_revenue_A['revenue']/cum_revenue_A['orders'], label='A')\n",
    "plt.plot(cum_revenue_B['date'], cum_revenue_B['revenue']/cum_revenue_B['orders'], label='B')\n",
    "\n",
    "plt.legend() \n",
    "plt.xlabel('Дата заказа')\n",
    "plt.ylabel('Средний чек')\n",
    "plt.title('Кумулятивный средний чек по группам')\n",
    "plt.grid(True)\n",
    "plt.show()"
   ]
  },
  {
   "cell_type": "markdown",
   "metadata": {},
   "source": [
    "**Вывод:** К концу теста средний чек становится равномерным. По группе А мы наблюдаем ближе к концу равномерный небольшой рост, по группе В резкое увеличение среднего чека, но потом постепенное небольшое снижение. Это говорит о том, что стало больше дорогих заказов."
   ]
  },
  {
   "cell_type": "markdown",
   "metadata": {},
   "source": [
    "### График относительного изменения кумулятивного среднего чека группы B к группе A"
   ]
  },
  {
   "cell_type": "code",
   "execution_count": 21,
   "metadata": {},
   "outputs": [
    {
     "data": {
      "image/png": "[encoded data removed]",
      "text/plain": [
       "<Figure size 720x360 with 1 Axes>"
      ]
     },
     "metadata": {
      "needs_background": "light"
     },
     "output_type": "display_data"
    }
   ],
   "source": [
    "#объединяем данные\n",
    "merge_cum_revenue = cum_revenue_A.merge(cum_revenue_B, left_on='date', right_on='date', how='left', suffixes=['A', 'B'])\n",
    "\n",
    "# cтроим график с добавлением оси X\n",
    "\n",
    "plt.figure(figsize=(10, 5))\n",
    "plt.plot(merge_cum_revenue['date'], (merge_cum_revenue['revenueB']/merge_cum_revenue['ordersB'])/(\n",
    "    merge_cum_revenue['revenueA']/merge_cum_revenue['ordersA'])-1)\n",
    "\n",
    "plt.axhline(y=0, color='black', linestyle='--')\n",
    "\n",
    "plt.xlabel('Дата заказа')\n",
    "plt.ylabel('Относительное изменение')\n",
    "\n",
    "plt.title('Относительное изменение среднего чека В к А')\n",
    "plt.show()"
   ]
  },
  {
   "cell_type": "markdown",
   "metadata": {},
   "source": [
    "**Вывод:** График нестабилен, необходимо проверить выбросы."
   ]
  },
  {
   "cell_type": "markdown",
   "metadata": {},
   "source": [
    "### График кумулятивного среднего количества заказов на посетителя по группам"
   ]
  },
  {
   "cell_type": "code",
   "execution_count": 22,
   "metadata": {},
   "outputs": [],
   "source": [
    "# считаем кумулятивное среднее кол-во заказов\n",
    "aggregate_data['avg_order'] = aggregate_data['orders']/aggregate_data['visitors']\n",
    "\n",
    "# данные по группе А\n",
    "aggregate_data_A = aggregate_data[aggregate_data['group']=='A']\n",
    "\n",
    "# данные по группе B\n",
    "aggregate_data_B = aggregate_data[aggregate_data['group']=='B']"
   ]
  },
  {
   "cell_type": "code",
   "execution_count": 23,
   "metadata": {
    "scrolled": true
   },
   "outputs": [
    {
     "data": {
      "image/png": "[encoded data removed]",
      "text/plain": [
       "<Figure size 720x360 with 1 Axes>"
      ]
     },
     "metadata": {
      "needs_background": "light"
     },
     "output_type": "display_data"
    }
   ],
   "source": [
    "# строим графики\n",
    "\n",
    "plt.figure(figsize=(10, 5))\n",
    "\n",
    "plt.plot(aggregate_data_A['date'], aggregate_data_A['avg_order'], label='A')\n",
    "plt.plot(aggregate_data_B['date'], aggregate_data_B['avg_order'], label='B')\n",
    "\n",
    "plt.legend() \n",
    "plt.xlabel('Дата заказа')\n",
    "plt.ylabel('Среднее количество заказов на посетителя')\n",
    "plt.title('Кумулятивное среднее количество заказов на посетителя по группам')\n",
    "plt.grid(True)\n",
    "plt.show()"
   ]
  },
  {
   "cell_type": "markdown",
   "metadata": {},
   "source": [
    "**Вывод:** В начале теста мы наблюдаем сильные колебания, но далее графики стабилизировались. Группа В существенно выше группы А."
   ]
  },
  {
   "cell_type": "markdown",
   "metadata": {},
   "source": [
    "### График относительного изменения кумулятивного среднего количества заказов на посетителя группы B к группе A"
   ]
  },
  {
   "cell_type": "code",
   "execution_count": 24,
   "metadata": {
    "scrolled": true
   },
   "outputs": [
    {
     "data": {
      "image/png": "[encoded data removed]",
      "text/plain": [
       "<Figure size 720x360 with 1 Axes>"
      ]
     },
     "metadata": {
      "needs_background": "light"
     },
     "output_type": "display_data"
    }
   ],
   "source": [
    "#объединяем данные\n",
    "merge_cum_avg_order = aggregate_data_A[['date','avg_order']].merge(\n",
    "    aggregate_data_B[['date','avg_order']], left_on='date', right_on='date', how='left', suffixes=['A', 'B'])\n",
    "\n",
    "# cтроим график с добавлением осей\n",
    "\n",
    "plt.figure(figsize=(10, 5))\n",
    "plt.plot(\n",
    "    merge_cum_avg_order['date'],\n",
    "    merge_cum_avg_order['avg_orderB']/merge_cum_avg_order['avg_orderA']-1)\n",
    "\n",
    "\n",
    "plt.axhline(y=0, color='black', linestyle='--')\n",
    "plt.axhline(y=-0.1, color='grey', linestyle='--')\n",
    "\n",
    "plt.xlabel('Дата заказа')\n",
    "plt.ylabel('Относительное изменение')\n",
    "\n",
    "plt.title('Относительный прирост среднего количества заказов на посетителя группы B относительно группы A')\n",
    "\n",
    "plt.show()"
   ]
  },
  {
   "cell_type": "markdown",
   "metadata": {},
   "source": [
    "**Вывод:** В начале теста группа В была хуже, но достаточно быстро перегнала группу А и достаточно стабилизировалась."
   ]
  },
  {
   "cell_type": "markdown",
   "metadata": {},
   "source": [
    "### Анализ и визуализация количества заказов по пользователям"
   ]
  },
  {
   "cell_type": "markdown",
   "metadata": {},
   "source": [
    "Ранее мы наблюдали на графиках резкие скачки и колебания. Это свидетельствует о наличии в данных аномальных значений (выбросов). В частности, в данных могут быть отдельные пользователи, которые сделали много заказов, таким образом оказав влияние на общую картину. Выявим таких пользователей."
   ]
  },
  {
   "cell_type": "code",
   "execution_count": 25,
   "metadata": {},
   "outputs": [
    {
     "name": "stdout",
     "output_type": "stream",
     "text": [
      "           users  orders\n",
      "1023  4256040402      11\n",
      "591   2458001652      11\n",
      "569   2378935119       9\n",
      "487   2038680547       8\n",
      "44     199603092       5\n",
      "744   3062433592       5\n",
      "55     237748145       5\n",
      "917   3803269165       5\n",
      "299   1230306981       5\n",
      "897   3717692402       5\n"
     ]
    }
   ],
   "source": [
    "# количество заказов по пользователям\n",
    "orders_by_users = (\n",
    "    orders.groupby('visitorId', as_index=False)\n",
    "    .agg({'transactionId': 'nunique'})\n",
    ")\n",
    "\n",
    "orders_by_users.columns = ['users', 'orders']\n",
    "\n",
    "print(orders_by_users.sort_values(by='orders', ascending=False).head(10)) "
   ]
  },
  {
   "cell_type": "code",
   "execution_count": 26,
   "metadata": {},
   "outputs": [
    {
     "data": {
      "image/png": "[encoded data removed]",
      "text/plain": [
       "<Figure size 720x360 with 1 Axes>"
      ]
     },
     "metadata": {
      "needs_background": "light"
     },
     "output_type": "display_data"
    }
   ],
   "source": [
    "#построим гистограмму\n",
    "\n",
    "plt.figure(figsize=(10, 5))\n",
    "\n",
    "plt.hist(orders_by_users['orders']) \n",
    "\n",
    "plt.title('Распределение количества заказов по пользователям')\n",
    "plt.xlabel('Количество заказов')\n",
    "plt.ylabel('Количество пользователей')\n",
    "plt.grid(True)\n",
    "\n",
    "plt.show()"
   ]
  },
  {
   "cell_type": "markdown",
   "metadata": {},
   "source": [
    "Большинство покупателей заказывали один раз. Но есть доля пользователей с 2-4 заказами, а также небольшое количество пользователей с большим количеством заказов. Для более наглядного вывода построим точеченый график."
   ]
  },
  {
   "cell_type": "code",
   "execution_count": 27,
   "metadata": {},
   "outputs": [
    {
     "data": {
      "image/png": "[encoded data removed]",
      "text/plain": [
       "<Figure size 720x576 with 1 Axes>"
      ]
     },
     "metadata": {
      "needs_background": "light"
     },
     "output_type": "display_data"
    }
   ],
   "source": [
    "x_values = pd.Series(range(0,len(orders_by_users)))\n",
    "\n",
    "plt.figure(figsize=(10, 8))\n",
    "\n",
    "plt.scatter(x_values,orders_by_users['orders'])\n",
    "\n",
    "plt.xlabel('Количество пользователей')\n",
    "plt.ylabel('Количество заказов на 1 пользователя')\n",
    "plt.title('Распределение количества заказов по пользователям')\n",
    "\n",
    "plt.show()"
   ]
  },
  {
   "cell_type": "markdown",
   "metadata": {},
   "source": [
    "Из графика видно, что есть достаточное количество пользователей с 2-3 заказами, а также доля пользователей с 4 и выше заказами. Для понимания этой доли рассчитаем перцентили."
   ]
  },
  {
   "cell_type": "code",
   "execution_count": 28,
   "metadata": {},
   "outputs": [
    {
     "data": {
      "text/plain": [
       "array([2., 4.])"
      ]
     },
     "execution_count": 28,
     "metadata": {},
     "output_type": "execute_result"
    }
   ],
   "source": [
    "np.percentile(orders_by_users['orders'], [95, 99])"
   ]
  },
  {
   "cell_type": "markdown",
   "metadata": {},
   "source": [
    "**Вывод:** Не более 5% пользователей совершали больше 2 заказов и только 1% более 4. Примем за верхнюю границу 4 заказа, отсеив 1% пользователей с большим количеством заказов."
   ]
  },
  {
   "cell_type": "markdown",
   "metadata": {},
   "source": [
    "### Анализ и визуализация стоимостей заказов"
   ]
  },
  {
   "cell_type": "code",
   "execution_count": 29,
   "metadata": {},
   "outputs": [
    {
     "data": {
      "image/png": "[encoded data removed]",
      "text/plain": [
       "<Figure size 720x360 with 1 Axes>"
      ]
     },
     "metadata": {
      "needs_background": "light"
     },
     "output_type": "display_data"
    }
   ],
   "source": [
    "# строим гистограмму\n",
    "\n",
    "plt.figure(figsize=(10, 5))\n",
    "\n",
    "plt.hist(orders['revenue']) \n",
    "\n",
    "plt.title('Распределение стоимости заказов по пользователям')\n",
    "plt.xlabel('Стоимость заказов')\n",
    "plt.ylabel('Количество пользователей')\n",
    "plt.grid(True)\n",
    "\n",
    "plt.show()"
   ]
  },
  {
   "cell_type": "markdown",
   "metadata": {},
   "source": [
    "Из данного графика не видно аномалий, построим точечный график."
   ]
  },
  {
   "cell_type": "code",
   "execution_count": 30,
   "metadata": {},
   "outputs": [
    {
     "data": {
      "image/png": "[encoded data removed]",
      "text/plain": [
       "<Figure size 720x576 with 1 Axes>"
      ]
     },
     "metadata": {
      "needs_background": "light"
     },
     "output_type": "display_data"
    }
   ],
   "source": [
    "x_values = pd.Series(range(0,len(orders['revenue'])))\n",
    "\n",
    "plt.figure(figsize=(10, 8))\n",
    "\n",
    "plt.scatter(x_values,orders['revenue'])\n",
    "\n",
    "plt.title('Распределение стоимостей заказов по пользователям')\n",
    "plt.xlabel('Количество пользователей')\n",
    "plt.ylabel('Стоимость заказов')\n",
    "\n",
    "plt.show()"
   ]
  },
  {
   "cell_type": "markdown",
   "metadata": {},
   "source": [
    "Мы видим 2 выбивающихся значения в размере более 200 тыс., а также около 1,3 млн. Рассчитаем перцентили."
   ]
  },
  {
   "cell_type": "code",
   "execution_count": 31,
   "metadata": {},
   "outputs": [
    {
     "data": {
      "text/plain": [
       "array([28000. , 58233.2])"
      ]
     },
     "execution_count": 31,
     "metadata": {},
     "output_type": "execute_result"
    }
   ],
   "source": [
    "np.percentile(orders['revenue'], [95, 99])"
   ]
  },
  {
   "cell_type": "markdown",
   "metadata": {},
   "source": [
    "**Вывод:** Не более 5% пользователей совершали заказы на сумму свыше 28000 и только 1% свыше 58233. А заказ в 1,3 млн. скорее всего и стал причиной резкого скачка на графиках. Примем за верхнюю границу сумму в размере 58000."
   ]
  },
  {
   "cell_type": "markdown",
   "metadata": {},
   "source": [
    "### Расчет статистической значимости различий в среднем количестве заказов на посетителя между группами по «сырым» данным"
   ]
  },
  {
   "cell_type": "markdown",
   "metadata": {},
   "source": [
    "Сформулируем гипотезы:\n",
    "\n",
    "- Но - различий в среднем количестве заказов на посетителя между группами нет\n",
    "- Н1 - различия в среднем количестве заказов на посетителя между группами есть\n",
    "\n",
    "Для проверки гипотез будем использовать критерий Манна-Уитни, так как ранее мы выявили выбросы, особенно крупные по среднему чеку и одно выбивающееся значение может сильно повлиять на результат. Критерий Манна-Уитни как раз позволяет учитывать наличие таких выбросов в данных."
   ]
  },
  {
   "cell_type": "markdown",
   "metadata": {},
   "source": [
    "Создадим переменные orders_by_users_A и orders_by_users_B с указанием количества совершённых заказов для пользователей, которые заказывали хотя бы 1 раз."
   ]
  },
  {
   "cell_type": "code",
   "execution_count": 35,
   "metadata": {},
   "outputs": [],
   "source": [
    "orders_by_users_A = (\n",
    "    orders[orders['group'] == 'A']\n",
    "    .groupby('visitorId', as_index=False)\n",
    "    .agg({'transactionId': pd.Series.nunique})\n",
    ")\n",
    "orders_by_users_A.columns = ['visitorId', 'orders']\n",
    "\n",
    "orders_by_users_B = (\n",
    "    orders[orders['group'] == 'B']\n",
    "    .groupby('visitorId', as_index=False)\n",
    "    .agg({'transactionId': pd.Series.nunique})\n",
    ")\n",
    "orders_by_users_B.columns = ['visitorId', 'orders'] "
   ]
  },
  {
   "cell_type": "markdown",
   "metadata": {},
   "source": [
    "Объявим переменные по группам sample_A и sample_B, с соответствием пользователей и количеством заказов. Тем, кто ничего не заказал, будут соответствовать нули."
   ]
  },
  {
   "cell_type": "code",
   "execution_count": 36,
   "metadata": {},
   "outputs": [],
   "source": [
    "sample_A = pd.concat(\n",
    "    [orders_by_users_A['orders'],\n",
    "     pd.Series(0, index=np.arange(visitors[visitors['group'] == 'A']['visitors'].sum() - \n",
    "                                  len(orders_by_users_A['orders'])),\n",
    "               name='orders')],axis=0)\n",
    "\n",
    "sample_B = pd.concat(\n",
    "    [orders_by_users_B['orders'],\n",
    "     pd.Series(0, index=np.arange(visitors[visitors['group'] == 'B']['visitors'].sum() - \n",
    "                                  len(orders_by_users_B['orders'])),\n",
    "               name='orders')],axis=0)"
   ]
  },
  {
   "cell_type": "markdown",
   "metadata": {},
   "source": [
    "Применим критерий Манна-Уитни, уровень значимости возьмем стандартный alpha=0.05. Рассчитаем относительный прирост среднего числа заказов группы B."
   ]
  },
  {
   "cell_type": "code",
   "execution_count": 37,
   "metadata": {},
   "outputs": [
    {
     "name": "stdout",
     "output_type": "stream",
     "text": [
      "P-value: 0.017\n",
      "Отвергаем нулевую гипотезу: разница статистически значима\n",
      "Относительный прирост В к А: 13.808%\n"
     ]
    }
   ],
   "source": [
    "alpha = 0.05\n",
    "results = st.mannwhitneyu(sample_A, sample_B)\n",
    "print(\"P-value:\", \"{0:.3f}\".format(results.pvalue))\n",
    "\n",
    "if results.pvalue < alpha:\n",
    "    print('Отвергаем нулевую гипотезу: разница статистически значима')\n",
    "else:\n",
    "    print(\n",
    "        'Не получилось отвергнуть нулевую гипотезу, вывод о различии сделать нельзя'\n",
    "    ) \n",
    "print(\"Относительный прирост В к А: {0:.3%}\".format(sample_B.mean()/sample_A.mean()-1))"
   ]
  },
  {
   "cell_type": "markdown",
   "metadata": {},
   "source": [
    "**Вывод:** По «сырым» данным P-value меньше 0,05, нулевую гипотезу отвергаем, различия в среднем числе заказов на посетителя групп A и B есть.\n",
    "Относительный выигрыш группы В 13,8%."
   ]
  },
  {
   "cell_type": "markdown",
   "metadata": {},
   "source": [
    "### Расчет статистической значимости различий в среднем чеке заказа на посетителя между группами по «сырым» данным"
   ]
  },
  {
   "cell_type": "markdown",
   "metadata": {},
   "source": [
    "Сформулируем гипотезы:\n",
    "\n",
    "- Но - различий в среднем чеке между группами нет\n",
    "- Н1 - различия в среднем чеке между группами есть"
   ]
  },
  {
   "cell_type": "code",
   "execution_count": 38,
   "metadata": {},
   "outputs": [
    {
     "name": "stdout",
     "output_type": "stream",
     "text": [
      "P-value: 0.729\n",
      "Не получилось отвергнуть нулевую гипотезу, вывод о различии сделать нельзя\n",
      "Относительный прирост В к А: 25.871%\n"
     ]
    }
   ],
   "source": [
    "alpha = 0.05\n",
    "results = st.mannwhitneyu(orders[orders['group']=='A']['revenue'], orders[orders['group']=='B']['revenue'])\n",
    "print(\"P-value:\", \"{0:.3f}\".format(results.pvalue))\n",
    "\n",
    "if results.pvalue < alpha:\n",
    "    print('Отвергаем нулевую гипотезу: разница статистически значима')\n",
    "else:\n",
    "    print('Не получилось отвергнуть нулевую гипотезу, вывод о различии сделать нельзя')\n",
    "    \n",
    "print(\"Относительный прирост В к А: {0:.3%}\".format(\n",
    "    orders[orders['group']=='B']['revenue'].mean()/orders[orders['group']=='A']['revenue'].mean()-1))"
   ]
  },
  {
   "cell_type": "markdown",
   "metadata": {},
   "source": [
    "**Вывод:** P-value значительно больше 0.05, причин отвергать нулевую гипотезу и считать, что в среднем чеке есть различия, нет. При этом средний чек группы B значительно выше среднего чека группы A. Из расчетов, проведенных ранее, можно предположить, что на средний чек повлияли отдельные крупные заказы (аномалии)."
   ]
  },
  {
   "cell_type": "markdown",
   "metadata": {},
   "source": [
    "### Определение количества аномальных пользователей"
   ]
  },
  {
   "cell_type": "markdown",
   "metadata": {},
   "source": [
    "В предыдущих расчетах мы установили верхние границы по 99 перцентилю, взяв количество заказов - 4 и сумму 58000. Посмотрим сколько таких пользователей всего."
   ]
  },
  {
   "cell_type": "code",
   "execution_count": 39,
   "metadata": {
    "scrolled": false
   },
   "outputs": [
    {
     "data": {
      "text/plain": [
       "1099     148427295\n",
       "949      887908475\n",
       "744      888512513\n",
       "1103    1164614297\n",
       "1136    1307669133\n",
       "Name: visitorId, dtype: int64"
      ]
     },
     "metadata": {},
     "output_type": "display_data"
    },
    {
     "data": {
      "text/plain": [
       "15"
      ]
     },
     "execution_count": 39,
     "metadata": {},
     "output_type": "execute_result"
    }
   ],
   "source": [
    "users_many_orders = pd.concat([\n",
    "        orders_by_users_A[orders_by_users_A['orders'] > np.percentile(orders_by_users['orders'], 99)]['visitorId'],\n",
    "        orders_by_users_B[orders_by_users_B['orders'] > np.percentile(orders_by_users['orders'], 99)]['visitorId']],\n",
    "    axis=0)\n",
    "\n",
    "users_expensive_orders = orders[orders['revenue'] > np.percentile(orders['revenue'],99)]['visitorId']\n",
    "\n",
    "abnormal_users = (\n",
    "    pd.concat([users_many_orders, users_expensive_orders], axis=0)\n",
    "    .drop_duplicates()\n",
    "    .sort_values()\n",
    ")\n",
    "\n",
    "display(abnormal_users.head())\n",
    "abnormal_users.shape[0]"
   ]
  },
  {
   "cell_type": "code",
   "execution_count": 40,
   "metadata": {},
   "outputs": [
    {
     "name": "stdout",
     "output_type": "stream",
     "text": [
      "Процент аномальных пользователей: 1.45%\n"
     ]
    }
   ],
   "source": [
    "print(\"Процент аномальных пользователей: {0:.2%}\".format(abnormal_users.count()/orders['visitorId'].nunique()))"
   ]
  },
  {
   "cell_type": "markdown",
   "metadata": {},
   "source": [
    "Всего 15 аномальных пользователей, что составляет не более 1,5% из общего количества уникальных пользователей."
   ]
  },
  {
   "cell_type": "markdown",
   "metadata": {},
   "source": [
    "### Расчет статистической значимости различий в среднем количестве заказов на посетителя между группами по «очищенным» данным"
   ]
  },
  {
   "cell_type": "code",
   "execution_count": 41,
   "metadata": {},
   "outputs": [],
   "source": [
    "#подготовка данных\n",
    "\n",
    "sample_A_filtered = pd.concat(\n",
    "    [orders_by_users_A[\n",
    "        np.logical_not(orders_by_users_A['visitorId'].isin(abnormal_users))]['orders'],\n",
    "        pd.Series(0,index=np.arange(\n",
    "            visitors[visitors['group'] == 'A']['visitors'].sum() - len(orders_by_users_A['orders'])),\n",
    "            name='orders')],\n",
    "    axis=0)\n",
    "\n",
    "sample_B_filtered = pd.concat(\n",
    "    [orders_by_users_B[\n",
    "        np.logical_not(orders_by_users_B['visitorId'].isin(abnormal_users))]['orders'],\n",
    "        pd.Series(0,index=np.arange(\n",
    "            visitors[visitors['group'] == 'B']['visitors'].sum() - len(orders_by_users_B['orders'])),\n",
    "            name='orders')],\n",
    "    axis=0) "
   ]
  },
  {
   "cell_type": "markdown",
   "metadata": {},
   "source": [
    "Применим критерий Манна-Уитни, уровень значимости возьмем стандартный alpha=0.05. Рассчитаем относительный прирост среднего числа заказов группы B."
   ]
  },
  {
   "cell_type": "code",
   "execution_count": 42,
   "metadata": {},
   "outputs": [
    {
     "name": "stdout",
     "output_type": "stream",
     "text": [
      "P-value: 0.014\n",
      "Отвергаем нулевую гипотезу: разница статистически значима\n",
      "Относительный прирост В к А: 15.331%\n"
     ]
    }
   ],
   "source": [
    "alpha = 0.05\n",
    "results = st.mannwhitneyu(sample_A_filtered, sample_B_filtered)\n",
    "print(\"P-value:\", \"{0:.3f}\".format(results.pvalue))\n",
    "\n",
    "if results.pvalue < alpha:\n",
    "    print('Отвергаем нулевую гипотезу: разница статистически значима')\n",
    "else:\n",
    "    print(\n",
    "        'Не получилось отвергнуть нулевую гипотезу, вывод о различии сделать нельзя'\n",
    "    ) \n",
    "print(\"Относительный прирост В к А: {0:.3%}\".format(sample_B_filtered.mean()/sample_A_filtered.mean()-1))"
   ]
  },
  {
   "cell_type": "markdown",
   "metadata": {},
   "source": [
    "**Вывод:** Результаты не изменились. По-прежнему различия в группах есть. Относительный прирост увеличился до 15,3%"
   ]
  },
  {
   "cell_type": "markdown",
   "metadata": {},
   "source": [
    "### Расчет статистической значимости различий в среднем чеке заказа на посетителя между группами по «очищенным» данным"
   ]
  },
  {
   "cell_type": "code",
   "execution_count": 43,
   "metadata": {},
   "outputs": [
    {
     "name": "stdout",
     "output_type": "stream",
     "text": [
      "P-value: 0.851\n",
      "Не получилось отвергнуть нулевую гипотезу, вывод о различии сделать нельзя\n",
      "Относительный прирост В к А: -0.575%\n"
     ]
    }
   ],
   "source": [
    "alpha = 0.05\n",
    "results = st.mannwhitneyu(orders[np.logical_and(orders['group'] == 'A',\n",
    "                    np.logical_not(orders['visitorId'].isin(abnormal_users)))]['revenue'],\n",
    "                          orders[np.logical_and(orders['group'] == 'B',\n",
    "                    np.logical_not(orders['visitorId'].isin(abnormal_users)))]['revenue']\n",
    "                         )\n",
    "\n",
    "print(\"P-value:\", \"{0:.3f}\".format(results.pvalue))\n",
    "\n",
    "if results.pvalue < alpha:\n",
    "    print('Отвергаем нулевую гипотезу: разница статистически значима')\n",
    "else:\n",
    "    print('Не получилось отвергнуть нулевую гипотезу, вывод о различии сделать нельзя')\n",
    "    \n",
    "print(\"Относительный прирост В к А: {0:.3%}\".format(\n",
    "    orders[np.logical_and(orders['group'] == 'B',\n",
    "                          np.logical_not(orders['visitorId'].isin(abnormal_users)))\n",
    "          ]['revenue'].mean() / \n",
    "    orders[np.logical_and(orders['group'] == 'A',\n",
    "                          np.logical_not(orders['visitorId'].isin(abnormal_users)))\n",
    "        ]['revenue'].mean() - 1\n",
    "    ))"
   ]
  },
  {
   "cell_type": "markdown",
   "metadata": {},
   "source": [
    "**Вывод:** P-value значительно больше 0.05, причин отвергать нулевую гипотезу и считать, что в среднем чеке есть различия, нет. По очищенным данным мы видим, что разницы в средних чеках по группам практически нет (после исключения очень крупных сумм)."
   ]
  },
  {
   "cell_type": "markdown",
   "metadata": {},
   "source": [
    "### Принятие решения по результатам теста"
   ]
  },
  {
   "cell_type": "markdown",
   "metadata": {},
   "source": [
    "Мы получили следующие результаты:\n",
    "\n",
    "- Есть статистически значимое различие по среднему количеству заказов на посетителя между группами как по сырым, так и по очищенным данным;\n",
    "- Нет статистически значимого различия по среднему чеку между группами как по сырым, так и по очищенным данным. Наблюдаемый относительный прирост по группе В после фильтрации ушел, на показатель данного прироста в \"сырых данных\" повлияли редкие очень дорогие заказы;\n",
    "- Графики различия количества заказов между группами сообщает, что результаты группы B значительно лучше группы A, к тому же к концу теста имеют еще небольшую тенденцию к росту.\n",
    "\n",
    "Исходя из этого следует **остановить тест, зафиксировав победу группы В.**"
   ]
  }
 ],
 "metadata": {
  "ExecuteTimeLog": [
   {
    "duration": 76,
    "start_time": "2023-07-07T16:48:02.677Z"
   },
   {
    "duration": 525,
    "start_time": "2023-07-07T16:48:05.274Z"
   },
   {
    "duration": 114,
    "start_time": "2023-07-07T16:48:07.543Z"
   },
   {
    "duration": 58,
    "start_time": "2023-07-07T16:48:17.757Z"
   },
   {
    "duration": 34,
    "start_time": "2023-07-07T16:48:59.914Z"
   },
   {
    "duration": 63,
    "start_time": "2023-07-07T16:49:21.630Z"
   },
   {
    "duration": 2344,
    "start_time": "2023-07-07T16:56:42.035Z"
   },
   {
    "duration": 3,
    "start_time": "2023-07-07T16:58:03.047Z"
   },
   {
    "duration": 8,
    "start_time": "2023-07-07T16:58:40.043Z"
   },
   {
    "duration": 8,
    "start_time": "2023-07-07T16:59:01.881Z"
   },
   {
    "duration": 13,
    "start_time": "2023-07-07T16:59:09.517Z"
   },
   {
    "duration": 30,
    "start_time": "2023-07-07T16:59:29.382Z"
   },
   {
    "duration": 18,
    "start_time": "2023-07-07T17:00:03.013Z"
   },
   {
    "duration": 33,
    "start_time": "2023-07-07T17:01:49.848Z"
   },
   {
    "duration": 223,
    "start_time": "2023-07-07T17:20:10.432Z"
   },
   {
    "duration": 220,
    "start_time": "2023-07-07T17:27:36.091Z"
   },
   {
    "duration": 20,
    "start_time": "2023-07-07T17:32:44.803Z"
   },
   {
    "duration": 40,
    "start_time": "2023-07-07T17:33:19.451Z"
   },
   {
    "duration": 160,
    "start_time": "2023-07-07T17:39:58.960Z"
   },
   {
    "duration": 621,
    "start_time": "2023-07-07T17:40:04.480Z"
   },
   {
    "duration": 45,
    "start_time": "2023-07-07T17:40:05.103Z"
   },
   {
    "duration": 11,
    "start_time": "2023-07-07T17:40:05.150Z"
   },
   {
    "duration": 33,
    "start_time": "2023-07-07T17:40:05.162Z"
   },
   {
    "duration": 23,
    "start_time": "2023-07-07T17:40:05.198Z"
   },
   {
    "duration": 177,
    "start_time": "2023-07-07T17:40:05.225Z"
   },
   {
    "duration": 141,
    "start_time": "2023-07-07T17:40:27.498Z"
   },
   {
    "duration": 139,
    "start_time": "2023-07-07T17:40:53.711Z"
   },
   {
    "duration": 72,
    "start_time": "2023-07-07T17:41:38.451Z"
   },
   {
    "duration": 12,
    "start_time": "2023-07-07T17:41:46.744Z"
   },
   {
    "duration": 21,
    "start_time": "2023-07-07T17:42:12.591Z"
   },
   {
    "duration": 7,
    "start_time": "2023-07-07T17:57:21.210Z"
   },
   {
    "duration": 20,
    "start_time": "2023-07-07T17:57:33.502Z"
   },
   {
    "duration": 39,
    "start_time": "2023-07-07T18:00:16.986Z"
   },
   {
    "duration": 140,
    "start_time": "2023-07-07T18:03:57.554Z"
   },
   {
    "duration": 18,
    "start_time": "2023-07-07T18:04:25.285Z"
   },
   {
    "duration": 22,
    "start_time": "2023-07-07T18:04:37.490Z"
   },
   {
    "duration": 49,
    "start_time": "2023-07-07T18:04:47.880Z"
   },
   {
    "duration": 26,
    "start_time": "2023-07-07T18:07:04.011Z"
   },
   {
    "duration": 188,
    "start_time": "2023-07-07T18:07:21.886Z"
   },
   {
    "duration": 237,
    "start_time": "2023-07-07T18:07:39.719Z"
   },
   {
    "duration": 247,
    "start_time": "2023-07-07T18:07:44.576Z"
   },
   {
    "duration": 236,
    "start_time": "2023-07-07T18:55:28.405Z"
   },
   {
    "duration": 279,
    "start_time": "2023-07-07T18:55:43.644Z"
   },
   {
    "duration": 168,
    "start_time": "2023-07-07T18:57:53.131Z"
   },
   {
    "duration": 11,
    "start_time": "2023-07-07T18:58:48.706Z"
   },
   {
    "duration": 19,
    "start_time": "2023-07-07T18:59:34.725Z"
   },
   {
    "duration": 14,
    "start_time": "2023-07-07T19:01:47.015Z"
   },
   {
    "duration": 1588,
    "start_time": "2023-07-07T19:04:23.688Z"
   },
   {
    "duration": 148,
    "start_time": "2023-07-07T19:04:25.278Z"
   },
   {
    "duration": 11,
    "start_time": "2023-07-07T19:04:25.430Z"
   },
   {
    "duration": 47,
    "start_time": "2023-07-07T19:04:25.443Z"
   },
   {
    "duration": 34,
    "start_time": "2023-07-07T19:04:25.493Z"
   },
   {
    "duration": 150,
    "start_time": "2023-07-07T19:04:25.529Z"
   },
   {
    "duration": 27,
    "start_time": "2023-07-07T19:04:25.688Z"
   },
   {
    "duration": 8,
    "start_time": "2023-07-07T19:04:25.724Z"
   },
   {
    "duration": 283,
    "start_time": "2023-07-07T19:04:25.735Z"
   },
   {
    "duration": 227,
    "start_time": "2023-07-07T19:04:26.020Z"
   },
   {
    "duration": 38,
    "start_time": "2023-07-07T19:04:26.249Z"
   },
   {
    "duration": 191,
    "start_time": "2023-07-07T19:08:49.025Z"
   },
   {
    "duration": 4,
    "start_time": "2023-07-07T19:09:02.188Z"
   },
   {
    "duration": 96,
    "start_time": "2023-07-07T19:09:02.199Z"
   },
   {
    "duration": 22,
    "start_time": "2023-07-07T19:09:02.318Z"
   },
   {
    "duration": 39,
    "start_time": "2023-07-07T19:09:02.343Z"
   },
   {
    "duration": 41,
    "start_time": "2023-07-07T19:09:02.399Z"
   },
   {
    "duration": 168,
    "start_time": "2023-07-07T19:09:02.442Z"
   },
   {
    "duration": 15,
    "start_time": "2023-07-07T19:09:02.617Z"
   },
   {
    "duration": 9,
    "start_time": "2023-07-07T19:09:02.635Z"
   },
   {
    "duration": 252,
    "start_time": "2023-07-07T19:09:02.647Z"
   },
   {
    "duration": 167,
    "start_time": "2023-07-07T19:09:02.901Z"
   },
   {
    "duration": 26,
    "start_time": "2023-07-07T19:09:03.070Z"
   },
   {
    "duration": 10,
    "start_time": "2023-07-07T19:09:03.103Z"
   },
   {
    "duration": 348,
    "start_time": "2023-07-07T19:09:08.185Z"
   },
   {
    "duration": 426,
    "start_time": "2023-07-07T19:10:03.621Z"
   },
   {
    "duration": 282,
    "start_time": "2023-07-07T19:10:10.744Z"
   },
   {
    "duration": 352,
    "start_time": "2023-07-07T19:10:19.788Z"
   },
   {
    "duration": 358,
    "start_time": "2023-07-07T19:10:27.335Z"
   },
   {
    "duration": 285,
    "start_time": "2023-07-07T19:11:16.421Z"
   },
   {
    "duration": 324,
    "start_time": "2023-07-07T19:12:41.004Z"
   },
   {
    "duration": 22,
    "start_time": "2023-07-07T19:13:07.020Z"
   },
   {
    "duration": 294,
    "start_time": "2023-07-07T19:15:47.302Z"
   },
   {
    "duration": 324,
    "start_time": "2023-07-07T19:18:01.101Z"
   },
   {
    "duration": 551,
    "start_time": "2023-07-07T19:19:24.665Z"
   },
   {
    "duration": 19,
    "start_time": "2023-07-07T19:20:54.524Z"
   },
   {
    "duration": 250,
    "start_time": "2023-07-07T19:21:06.304Z"
   },
   {
    "duration": 300,
    "start_time": "2023-07-07T19:22:35.327Z"
   },
   {
    "duration": 22,
    "start_time": "2023-07-07T19:24:47.310Z"
   },
   {
    "duration": 1273,
    "start_time": "2023-07-07T19:27:22.010Z"
   },
   {
    "duration": 13,
    "start_time": "2023-07-07T19:29:28.400Z"
   },
   {
    "duration": 281,
    "start_time": "2023-07-07T19:29:41.451Z"
   },
   {
    "duration": 409,
    "start_time": "2023-07-07T19:29:52.351Z"
   },
   {
    "duration": 328,
    "start_time": "2023-07-07T19:30:03.454Z"
   },
   {
    "duration": 32,
    "start_time": "2023-07-07T19:30:27.585Z"
   },
   {
    "duration": 16,
    "start_time": "2023-07-07T19:30:48.851Z"
   },
   {
    "duration": 1613,
    "start_time": "2023-07-07T19:31:50.962Z"
   },
   {
    "duration": 93,
    "start_time": "2023-07-07T19:31:52.577Z"
   },
   {
    "duration": 15,
    "start_time": "2023-07-07T19:31:52.673Z"
   },
   {
    "duration": 30,
    "start_time": "2023-07-07T19:31:52.704Z"
   },
   {
    "duration": 14,
    "start_time": "2023-07-07T19:31:52.736Z"
   },
   {
    "duration": 110,
    "start_time": "2023-07-07T19:31:52.760Z"
   },
   {
    "duration": 17,
    "start_time": "2023-07-07T19:31:52.872Z"
   },
   {
    "duration": 6,
    "start_time": "2023-07-07T19:31:52.890Z"
   },
   {
    "duration": 228,
    "start_time": "2023-07-07T19:31:52.897Z"
   },
   {
    "duration": 201,
    "start_time": "2023-07-07T19:31:53.129Z"
   },
   {
    "duration": 14,
    "start_time": "2023-07-07T19:31:53.333Z"
   },
   {
    "duration": 19,
    "start_time": "2023-07-07T19:31:53.349Z"
   },
   {
    "duration": 470,
    "start_time": "2023-07-07T19:31:53.370Z"
   },
   {
    "duration": 274,
    "start_time": "2023-07-07T19:32:11.010Z"
   },
   {
    "duration": 280,
    "start_time": "2023-07-07T19:33:17.618Z"
   },
   {
    "duration": 343,
    "start_time": "2023-07-07T19:42:57.250Z"
   },
   {
    "duration": 326,
    "start_time": "2023-07-07T19:58:50.693Z"
   },
   {
    "duration": 291,
    "start_time": "2023-07-07T19:58:59.580Z"
   },
   {
    "duration": 305,
    "start_time": "2023-07-07T19:59:06.079Z"
   },
   {
    "duration": 1532,
    "start_time": "2023-07-10T16:32:28.248Z"
   },
   {
    "duration": 95,
    "start_time": "2023-07-10T16:32:29.783Z"
   },
   {
    "duration": 10,
    "start_time": "2023-07-10T16:32:29.880Z"
   },
   {
    "duration": 31,
    "start_time": "2023-07-10T16:32:29.891Z"
   },
   {
    "duration": 17,
    "start_time": "2023-07-10T16:32:29.926Z"
   },
   {
    "duration": 236,
    "start_time": "2023-07-10T16:32:29.945Z"
   },
   {
    "duration": 10,
    "start_time": "2023-07-10T16:32:30.183Z"
   },
   {
    "duration": 276,
    "start_time": "2023-07-10T16:32:30.194Z"
   },
   {
    "duration": 244,
    "start_time": "2023-07-10T16:32:30.472Z"
   },
   {
    "duration": 155,
    "start_time": "2023-07-10T16:32:30.718Z"
   },
   {
    "duration": 35,
    "start_time": "2023-07-10T16:32:30.875Z"
   },
   {
    "duration": 97,
    "start_time": "2023-07-10T16:32:30.912Z"
   },
   {
    "duration": 437,
    "start_time": "2023-07-10T16:32:31.015Z"
   },
   {
    "duration": 240,
    "start_time": "2023-07-10T16:32:31.456Z"
   },
   {
    "duration": 365,
    "start_time": "2023-07-10T16:32:31.698Z"
   },
   {
    "duration": 11,
    "start_time": "2023-07-10T16:32:32.065Z"
   },
   {
    "duration": 121,
    "start_time": "2023-07-10T16:33:24.741Z"
   },
   {
    "duration": 224,
    "start_time": "2023-07-10T17:14:48.732Z"
   },
   {
    "duration": 6,
    "start_time": "2023-07-10T17:15:41.440Z"
   },
   {
    "duration": 233,
    "start_time": "2023-07-10T17:15:44.071Z"
   },
   {
    "duration": 410,
    "start_time": "2023-07-10T17:22:37.924Z"
   },
   {
    "duration": 340,
    "start_time": "2023-07-10T17:25:06.655Z"
   },
   {
    "duration": 130,
    "start_time": "2023-07-10T19:02:40.932Z"
   },
   {
    "duration": 21,
    "start_time": "2023-07-10T19:03:42.581Z"
   },
   {
    "duration": 1628,
    "start_time": "2023-07-10T19:03:54.130Z"
   },
   {
    "duration": 103,
    "start_time": "2023-07-10T19:03:55.762Z"
   },
   {
    "duration": 28,
    "start_time": "2023-07-10T19:03:55.870Z"
   },
   {
    "duration": 103,
    "start_time": "2023-07-10T19:03:55.903Z"
   },
   {
    "duration": 52,
    "start_time": "2023-07-10T19:03:56.010Z"
   },
   {
    "duration": 211,
    "start_time": "2023-07-10T19:03:56.065Z"
   },
   {
    "duration": 39,
    "start_time": "2023-07-10T19:03:56.280Z"
   },
   {
    "duration": 86,
    "start_time": "2023-07-10T19:03:56.321Z"
   },
   {
    "duration": 387,
    "start_time": "2023-07-10T19:03:56.411Z"
   },
   {
    "duration": 206,
    "start_time": "2023-07-10T19:03:56.802Z"
   },
   {
    "duration": 33,
    "start_time": "2023-07-10T19:03:57.016Z"
   },
   {
    "duration": 94,
    "start_time": "2023-07-10T19:03:57.052Z"
   },
   {
    "duration": 506,
    "start_time": "2023-07-10T19:03:57.149Z"
   },
   {
    "duration": 355,
    "start_time": "2023-07-10T19:03:57.661Z"
   },
   {
    "duration": 457,
    "start_time": "2023-07-10T19:03:58.034Z"
   },
   {
    "duration": 32,
    "start_time": "2023-07-10T19:03:58.494Z"
   },
   {
    "duration": 378,
    "start_time": "2023-07-10T19:03:58.534Z"
   },
   {
    "duration": 370,
    "start_time": "2023-07-10T19:03:58.930Z"
   },
   {
    "duration": 166,
    "start_time": "2023-07-10T19:03:59.302Z"
   },
   {
    "duration": 16,
    "start_time": "2023-07-10T19:05:26.802Z"
   },
   {
    "duration": 186,
    "start_time": "2023-07-10T19:06:43.178Z"
   },
   {
    "duration": 99,
    "start_time": "2023-07-10T19:07:31.354Z"
   },
   {
    "duration": 452,
    "start_time": "2023-07-10T19:08:03.082Z"
   },
   {
    "duration": 170,
    "start_time": "2023-07-10T19:08:20.589Z"
   },
   {
    "duration": 452,
    "start_time": "2023-07-10T19:09:28.989Z"
   },
   {
    "duration": 233,
    "start_time": "2023-07-10T19:13:03.100Z"
   },
   {
    "duration": 158,
    "start_time": "2023-07-10T19:13:21.641Z"
   },
   {
    "duration": 188,
    "start_time": "2023-07-10T19:13:30.396Z"
   },
   {
    "duration": 236,
    "start_time": "2023-07-10T19:13:41.891Z"
   },
   {
    "duration": 13,
    "start_time": "2023-07-10T19:17:33.939Z"
   },
   {
    "duration": 8,
    "start_time": "2023-07-10T19:18:00.616Z"
   },
   {
    "duration": 227,
    "start_time": "2023-07-10T19:26:30.521Z"
   },
   {
    "duration": 164,
    "start_time": "2023-07-10T19:26:54.465Z"
   },
   {
    "duration": 190,
    "start_time": "2023-07-10T19:27:02.228Z"
   },
   {
    "duration": 256,
    "start_time": "2023-07-10T19:27:40.850Z"
   },
   {
    "duration": 232,
    "start_time": "2023-07-10T19:31:26.533Z"
   },
   {
    "duration": 229,
    "start_time": "2023-07-10T19:33:20.896Z"
   },
   {
    "duration": 251,
    "start_time": "2023-07-10T19:34:03.200Z"
   },
   {
    "duration": 10,
    "start_time": "2023-07-10T19:35:27.342Z"
   },
   {
    "duration": 12,
    "start_time": "2023-07-10T19:36:43.223Z"
   },
   {
    "duration": 12,
    "start_time": "2023-07-10T19:38:55.629Z"
   },
   {
    "duration": 10,
    "start_time": "2023-07-10T19:39:25.741Z"
   },
   {
    "duration": 315,
    "start_time": "2023-07-10T19:40:31.878Z"
   },
   {
    "duration": 167,
    "start_time": "2023-07-10T19:40:44.629Z"
   },
   {
    "duration": 14,
    "start_time": "2023-07-10T19:43:19.715Z"
   },
   {
    "duration": 17,
    "start_time": "2023-07-10T19:43:28.793Z"
   },
   {
    "duration": 10,
    "start_time": "2023-07-10T19:43:49.060Z"
   },
   {
    "duration": 11,
    "start_time": "2023-07-10T19:43:55.930Z"
   },
   {
    "duration": 14,
    "start_time": "2023-07-10T19:44:02.227Z"
   },
   {
    "duration": 22,
    "start_time": "2023-07-10T19:44:15.807Z"
   },
   {
    "duration": 11,
    "start_time": "2023-07-10T19:44:20.865Z"
   },
   {
    "duration": 7,
    "start_time": "2023-07-10T19:46:48.390Z"
   },
   {
    "duration": 47,
    "start_time": "2023-07-11T18:00:23.808Z"
   },
   {
    "duration": 1340,
    "start_time": "2023-07-11T18:00:30.692Z"
   },
   {
    "duration": 94,
    "start_time": "2023-07-11T18:00:32.034Z"
   },
   {
    "duration": 10,
    "start_time": "2023-07-11T18:00:32.130Z"
   },
   {
    "duration": 38,
    "start_time": "2023-07-11T18:00:32.142Z"
   },
   {
    "duration": 24,
    "start_time": "2023-07-11T18:00:32.182Z"
   },
   {
    "duration": 175,
    "start_time": "2023-07-11T18:00:32.207Z"
   },
   {
    "duration": 10,
    "start_time": "2023-07-11T18:00:32.383Z"
   },
   {
    "duration": 40,
    "start_time": "2023-07-11T18:00:32.395Z"
   },
   {
    "duration": 248,
    "start_time": "2023-07-11T18:00:32.437Z"
   },
   {
    "duration": 158,
    "start_time": "2023-07-11T18:00:32.687Z"
   },
   {
    "duration": 25,
    "start_time": "2023-07-11T18:00:32.848Z"
   },
   {
    "duration": 27,
    "start_time": "2023-07-11T18:00:32.875Z"
   },
   {
    "duration": 312,
    "start_time": "2023-07-11T18:00:32.903Z"
   },
   {
    "duration": 219,
    "start_time": "2023-07-11T18:00:33.219Z"
   },
   {
    "duration": 347,
    "start_time": "2023-07-11T18:00:33.440Z"
   },
   {
    "duration": 6,
    "start_time": "2023-07-11T18:00:33.789Z"
   },
   {
    "duration": 243,
    "start_time": "2023-07-11T18:00:33.796Z"
   },
   {
    "duration": 347,
    "start_time": "2023-07-11T18:00:34.041Z"
   },
   {
    "duration": 12,
    "start_time": "2023-07-11T18:00:34.390Z"
   },
   {
    "duration": 221,
    "start_time": "2023-07-11T18:00:34.404Z"
   },
   {
    "duration": 176,
    "start_time": "2023-07-11T18:00:34.627Z"
   },
   {
    "duration": 7,
    "start_time": "2023-07-11T18:00:34.805Z"
   },
   {
    "duration": 210,
    "start_time": "2023-07-11T18:00:34.814Z"
   },
   {
    "duration": 280,
    "start_time": "2023-07-11T18:00:35.026Z"
   },
   {
    "duration": 6,
    "start_time": "2023-07-11T18:00:35.308Z"
   },
   {
    "duration": 115,
    "start_time": "2023-07-11T18:00:35.315Z"
   },
   {
    "duration": 107,
    "start_time": "2023-07-11T18:00:39.596Z"
   },
   {
    "duration": 125,
    "start_time": "2023-07-11T18:00:54.509Z"
   },
   {
    "duration": 105,
    "start_time": "2023-07-11T18:09:16.742Z"
   },
   {
    "duration": 90,
    "start_time": "2023-07-11T18:10:06.211Z"
   },
   {
    "duration": 22,
    "start_time": "2023-07-11T18:11:51.214Z"
   },
   {
    "duration": 112,
    "start_time": "2023-07-11T18:12:36.469Z"
   },
   {
    "duration": 34,
    "start_time": "2023-07-11T18:15:41.436Z"
   },
   {
    "duration": 160,
    "start_time": "2023-07-11T18:25:45.852Z"
   },
   {
    "duration": 7,
    "start_time": "2023-07-11T18:35:00.036Z"
   },
   {
    "duration": 4,
    "start_time": "2023-07-11T18:55:07.407Z"
   },
   {
    "duration": 13,
    "start_time": "2023-07-11T18:55:32.116Z"
   },
   {
    "duration": 1205,
    "start_time": "2023-07-11T18:55:57.891Z"
   },
   {
    "duration": 52,
    "start_time": "2023-07-11T18:55:59.101Z"
   },
   {
    "duration": 24,
    "start_time": "2023-07-11T18:55:59.156Z"
   },
   {
    "duration": 50,
    "start_time": "2023-07-11T18:55:59.182Z"
   },
   {
    "duration": 18,
    "start_time": "2023-07-11T18:55:59.235Z"
   },
   {
    "duration": 102,
    "start_time": "2023-07-11T18:55:59.255Z"
   },
   {
    "duration": 9,
    "start_time": "2023-07-11T18:55:59.359Z"
   },
   {
    "duration": 7,
    "start_time": "2023-07-11T18:55:59.369Z"
   },
   {
    "duration": 197,
    "start_time": "2023-07-11T18:55:59.378Z"
   },
   {
    "duration": 128,
    "start_time": "2023-07-11T18:55:59.583Z"
   },
   {
    "duration": 13,
    "start_time": "2023-07-11T18:55:59.713Z"
   },
   {
    "duration": 35,
    "start_time": "2023-07-11T18:55:59.727Z"
   },
   {
    "duration": 315,
    "start_time": "2023-07-11T18:55:59.764Z"
   },
   {
    "duration": 245,
    "start_time": "2023-07-11T18:56:00.082Z"
   },
   {
    "duration": 307,
    "start_time": "2023-07-11T18:56:00.328Z"
   },
   {
    "duration": 6,
    "start_time": "2023-07-11T18:56:00.637Z"
   },
   {
    "duration": 275,
    "start_time": "2023-07-11T18:56:00.644Z"
   },
   {
    "duration": 355,
    "start_time": "2023-07-11T18:56:00.921Z"
   },
   {
    "duration": 10,
    "start_time": "2023-07-11T18:56:01.285Z"
   },
   {
    "duration": 182,
    "start_time": "2023-07-11T18:56:01.297Z"
   },
   {
    "duration": 146,
    "start_time": "2023-07-11T18:56:01.483Z"
   },
   {
    "duration": 5,
    "start_time": "2023-07-11T18:56:01.631Z"
   },
   {
    "duration": 206,
    "start_time": "2023-07-11T18:56:01.637Z"
   },
   {
    "duration": 258,
    "start_time": "2023-07-11T18:56:01.845Z"
   },
   {
    "duration": 5,
    "start_time": "2023-07-11T18:56:02.104Z"
   },
   {
    "duration": 117,
    "start_time": "2023-07-11T18:56:02.111Z"
   },
   {
    "duration": 134,
    "start_time": "2023-07-11T18:56:02.230Z"
   },
   {
    "duration": 54,
    "start_time": "2023-07-11T18:56:02.365Z"
   },
   {
    "duration": 157,
    "start_time": "2023-07-11T18:56:02.421Z"
   },
   {
    "duration": 8,
    "start_time": "2023-07-11T18:56:02.580Z"
   },
   {
    "duration": 12,
    "start_time": "2023-07-11T18:56:02.589Z"
   },
   {
    "duration": 134,
    "start_time": "2023-07-11T18:56:02.603Z"
   },
   {
    "duration": 4,
    "start_time": "2023-07-11T18:56:15.595Z"
   },
   {
    "duration": 14,
    "start_time": "2023-07-11T18:56:17.879Z"
   },
   {
    "duration": 3,
    "start_time": "2023-07-11T18:57:13.045Z"
   },
   {
    "duration": 26,
    "start_time": "2023-07-11T19:00:34.771Z"
   },
   {
    "duration": 32,
    "start_time": "2023-07-11T19:01:01.740Z"
   },
   {
    "duration": 31,
    "start_time": "2023-07-11T19:01:23.583Z"
   },
   {
    "duration": 23,
    "start_time": "2023-07-11T19:01:52.604Z"
   },
   {
    "duration": 28,
    "start_time": "2023-07-11T19:03:56.944Z"
   },
   {
    "duration": 26,
    "start_time": "2023-07-11T19:04:26.342Z"
   },
   {
    "duration": 32,
    "start_time": "2023-07-11T19:04:38.382Z"
   },
   {
    "duration": 4,
    "start_time": "2023-07-11T19:16:04.785Z"
   },
   {
    "duration": 5,
    "start_time": "2023-07-11T19:16:41.140Z"
   },
   {
    "duration": 66,
    "start_time": "2023-07-11T19:16:53.998Z"
   },
   {
    "duration": 12,
    "start_time": "2023-07-11T19:18:57.945Z"
   },
   {
    "duration": 12,
    "start_time": "2023-07-11T19:19:16.124Z"
   },
   {
    "duration": 13,
    "start_time": "2023-07-11T19:19:34.311Z"
   },
   {
    "duration": 17,
    "start_time": "2023-07-11T19:42:53.754Z"
   },
   {
    "duration": 12,
    "start_time": "2023-07-11T19:43:05.400Z"
   },
   {
    "duration": 11,
    "start_time": "2023-07-11T19:43:42.401Z"
   },
   {
    "duration": 11,
    "start_time": "2023-07-11T19:43:52.090Z"
   },
   {
    "duration": 10,
    "start_time": "2023-07-11T19:44:00.105Z"
   },
   {
    "duration": 15,
    "start_time": "2023-07-11T19:44:06.939Z"
   },
   {
    "duration": 1174,
    "start_time": "2023-07-11T19:51:12.895Z"
   },
   {
    "duration": 93,
    "start_time": "2023-07-11T19:51:14.072Z"
   },
   {
    "duration": 21,
    "start_time": "2023-07-11T19:51:14.171Z"
   },
   {
    "duration": 12,
    "start_time": "2023-07-11T19:51:14.196Z"
   },
   {
    "duration": 12,
    "start_time": "2023-07-11T19:51:14.211Z"
   },
   {
    "duration": 182,
    "start_time": "2023-07-11T19:51:14.225Z"
   },
   {
    "duration": 8,
    "start_time": "2023-07-11T19:51:14.408Z"
   },
   {
    "duration": 4,
    "start_time": "2023-07-11T19:51:14.419Z"
   },
   {
    "duration": 176,
    "start_time": "2023-07-11T19:51:14.425Z"
   },
   {
    "duration": 134,
    "start_time": "2023-07-11T19:51:14.602Z"
   },
   {
    "duration": 32,
    "start_time": "2023-07-11T19:51:14.738Z"
   },
   {
    "duration": 18,
    "start_time": "2023-07-11T19:51:14.776Z"
   },
   {
    "duration": 347,
    "start_time": "2023-07-11T19:51:14.796Z"
   },
   {
    "duration": 244,
    "start_time": "2023-07-11T19:51:15.145Z"
   },
   {
    "duration": 297,
    "start_time": "2023-07-11T19:51:15.390Z"
   },
   {
    "duration": 6,
    "start_time": "2023-07-11T19:51:15.689Z"
   },
   {
    "duration": 252,
    "start_time": "2023-07-11T19:51:15.697Z"
   },
   {
    "duration": 334,
    "start_time": "2023-07-11T19:51:15.951Z"
   },
   {
    "duration": 16,
    "start_time": "2023-07-11T19:51:16.287Z"
   },
   {
    "duration": 186,
    "start_time": "2023-07-11T19:51:16.305Z"
   },
   {
    "duration": 142,
    "start_time": "2023-07-11T19:51:16.493Z"
   },
   {
    "duration": 5,
    "start_time": "2023-07-11T19:51:16.637Z"
   },
   {
    "duration": 185,
    "start_time": "2023-07-11T19:51:16.644Z"
   },
   {
    "duration": 271,
    "start_time": "2023-07-11T19:51:16.830Z"
   },
   {
    "duration": 5,
    "start_time": "2023-07-11T19:51:17.103Z"
   },
   {
    "duration": 115,
    "start_time": "2023-07-11T19:51:17.110Z"
   },
   {
    "duration": 120,
    "start_time": "2023-07-11T19:51:17.227Z"
   },
   {
    "duration": 52,
    "start_time": "2023-07-11T19:51:17.349Z"
   },
   {
    "duration": 148,
    "start_time": "2023-07-11T19:51:17.403Z"
   },
   {
    "duration": 11,
    "start_time": "2023-07-11T19:51:17.552Z"
   },
   {
    "duration": 31,
    "start_time": "2023-07-11T19:51:17.564Z"
   },
   {
    "duration": 11,
    "start_time": "2023-07-11T19:51:17.598Z"
   },
   {
    "duration": 22,
    "start_time": "2023-07-11T19:51:17.610Z"
   },
   {
    "duration": 11,
    "start_time": "2023-07-11T20:00:48.848Z"
   },
   {
    "duration": 23,
    "start_time": "2023-07-11T20:03:23.806Z"
   },
   {
    "duration": 62,
    "start_time": "2023-07-11T20:04:14.092Z"
   },
   {
    "duration": 1240,
    "start_time": "2023-07-11T20:04:29.988Z"
   },
   {
    "duration": 92,
    "start_time": "2023-07-11T20:04:31.231Z"
   },
   {
    "duration": 8,
    "start_time": "2023-07-11T20:04:31.325Z"
   },
   {
    "duration": 43,
    "start_time": "2023-07-11T20:04:31.334Z"
   },
   {
    "duration": 24,
    "start_time": "2023-07-11T20:04:31.379Z"
   },
   {
    "duration": 139,
    "start_time": "2023-07-11T20:04:31.404Z"
   },
   {
    "duration": 7,
    "start_time": "2023-07-11T20:04:31.544Z"
   },
   {
    "duration": 37,
    "start_time": "2023-07-11T20:04:31.553Z"
   },
   {
    "duration": 188,
    "start_time": "2023-07-11T20:04:31.593Z"
   },
   {
    "duration": 142,
    "start_time": "2023-07-11T20:04:31.783Z"
   },
   {
    "duration": 12,
    "start_time": "2023-07-11T20:04:31.927Z"
   },
   {
    "duration": 40,
    "start_time": "2023-07-11T20:04:31.941Z"
   },
   {
    "duration": 319,
    "start_time": "2023-07-11T20:04:31.988Z"
   },
   {
    "duration": 233,
    "start_time": "2023-07-11T20:04:32.310Z"
   },
   {
    "duration": 304,
    "start_time": "2023-07-11T20:04:32.546Z"
   },
   {
    "duration": 13,
    "start_time": "2023-07-11T20:04:32.857Z"
   },
   {
    "duration": 233,
    "start_time": "2023-07-11T20:04:32.875Z"
   },
   {
    "duration": 305,
    "start_time": "2023-07-11T20:04:33.110Z"
   },
   {
    "duration": 9,
    "start_time": "2023-07-11T20:04:33.417Z"
   },
   {
    "duration": 164,
    "start_time": "2023-07-11T20:04:33.428Z"
   },
   {
    "duration": 153,
    "start_time": "2023-07-11T20:04:33.595Z"
   },
   {
    "duration": 10,
    "start_time": "2023-07-11T20:04:33.750Z"
   },
   {
    "duration": 176,
    "start_time": "2023-07-11T20:04:33.762Z"
   },
   {
    "duration": 280,
    "start_time": "2023-07-11T20:04:33.940Z"
   },
   {
    "duration": 5,
    "start_time": "2023-07-11T20:04:34.221Z"
   },
   {
    "duration": 108,
    "start_time": "2023-07-11T20:04:34.228Z"
   },
   {
    "duration": 126,
    "start_time": "2023-07-11T20:04:34.337Z"
   },
   {
    "duration": 38,
    "start_time": "2023-07-11T20:04:34.470Z"
   },
   {
    "duration": 152,
    "start_time": "2023-07-11T20:04:34.510Z"
   },
   {
    "duration": 6,
    "start_time": "2023-07-11T20:04:34.664Z"
   },
   {
    "duration": 31,
    "start_time": "2023-07-11T20:04:34.672Z"
   },
   {
    "duration": 10,
    "start_time": "2023-07-11T20:04:34.705Z"
   },
   {
    "duration": 90,
    "start_time": "2023-07-11T20:04:34.717Z"
   },
   {
    "duration": 0,
    "start_time": "2023-07-11T20:04:34.809Z"
   },
   {
    "duration": 0,
    "start_time": "2023-07-11T20:04:34.810Z"
   },
   {
    "duration": 75,
    "start_time": "2023-07-11T20:06:06.234Z"
   },
   {
    "duration": 11,
    "start_time": "2023-07-11T20:07:44.888Z"
   },
   {
    "duration": 13,
    "start_time": "2023-07-11T20:08:19.990Z"
   },
   {
    "duration": 12,
    "start_time": "2023-07-11T20:08:27.254Z"
   },
   {
    "duration": 21,
    "start_time": "2023-07-11T20:08:30.588Z"
   },
   {
    "duration": 15,
    "start_time": "2023-07-11T20:10:04.380Z"
   },
   {
    "duration": 10,
    "start_time": "2023-07-11T20:10:08.803Z"
   },
   {
    "duration": 40,
    "start_time": "2023-07-11T20:10:13.539Z"
   },
   {
    "duration": 17,
    "start_time": "2023-07-11T20:13:43.146Z"
   },
   {
    "duration": 7,
    "start_time": "2023-07-11T20:14:11.023Z"
   },
   {
    "duration": 24,
    "start_time": "2023-07-11T20:14:12.906Z"
   },
   {
    "duration": 118,
    "start_time": "2023-07-11T20:29:57.460Z"
   },
   {
    "duration": 18,
    "start_time": "2023-07-11T20:30:48.343Z"
   },
   {
    "duration": 11,
    "start_time": "2023-07-11T20:31:15.393Z"
   },
   {
    "duration": 7,
    "start_time": "2023-07-11T20:31:22.085Z"
   },
   {
    "duration": 92,
    "start_time": "2023-07-11T20:31:22.094Z"
   },
   {
    "duration": 11,
    "start_time": "2023-07-11T20:31:22.189Z"
   },
   {
    "duration": 21,
    "start_time": "2023-07-11T20:31:22.202Z"
   },
   {
    "duration": 11,
    "start_time": "2023-07-11T20:31:22.225Z"
   },
   {
    "duration": 163,
    "start_time": "2023-07-11T20:31:22.238Z"
   },
   {
    "duration": 7,
    "start_time": "2023-07-11T20:31:22.403Z"
   },
   {
    "duration": 6,
    "start_time": "2023-07-11T20:31:22.412Z"
   },
   {
    "duration": 206,
    "start_time": "2023-07-11T20:31:22.419Z"
   },
   {
    "duration": 161,
    "start_time": "2023-07-11T20:31:22.627Z"
   },
   {
    "duration": 19,
    "start_time": "2023-07-11T20:31:22.789Z"
   },
   {
    "duration": 11,
    "start_time": "2023-07-11T20:31:22.810Z"
   },
   {
    "duration": 218,
    "start_time": "2023-07-11T20:31:22.823Z"
   },
   {
    "duration": 240,
    "start_time": "2023-07-11T20:31:23.044Z"
   },
   {
    "duration": 294,
    "start_time": "2023-07-11T20:31:23.289Z"
   },
   {
    "duration": 9,
    "start_time": "2023-07-11T20:31:23.585Z"
   },
   {
    "duration": 274,
    "start_time": "2023-07-11T20:31:23.601Z"
   },
   {
    "duration": 315,
    "start_time": "2023-07-11T20:31:23.878Z"
   },
   {
    "duration": 11,
    "start_time": "2023-07-11T20:31:24.194Z"
   },
   {
    "duration": 177,
    "start_time": "2023-07-11T20:31:24.206Z"
   },
   {
    "duration": 161,
    "start_time": "2023-07-11T20:31:24.389Z"
   },
   {
    "duration": 20,
    "start_time": "2023-07-11T20:31:24.552Z"
   },
   {
    "duration": 188,
    "start_time": "2023-07-11T20:31:24.579Z"
   },
   {
    "duration": 152,
    "start_time": "2023-07-11T20:31:24.768Z"
   },
   {
    "duration": 5,
    "start_time": "2023-07-11T20:31:24.921Z"
   },
   {
    "duration": 257,
    "start_time": "2023-07-11T20:31:24.928Z"
   },
   {
    "duration": 150,
    "start_time": "2023-07-11T20:31:25.189Z"
   },
   {
    "duration": 50,
    "start_time": "2023-07-11T20:31:25.341Z"
   },
   {
    "duration": 183,
    "start_time": "2023-07-11T20:31:25.397Z"
   },
   {
    "duration": 18,
    "start_time": "2023-07-11T20:31:25.584Z"
   },
   {
    "duration": 31,
    "start_time": "2023-07-11T20:31:25.604Z"
   },
   {
    "duration": 9,
    "start_time": "2023-07-11T20:31:25.637Z"
   },
   {
    "duration": 32,
    "start_time": "2023-07-11T20:31:25.648Z"
   },
   {
    "duration": 10,
    "start_time": "2023-07-11T20:31:25.685Z"
   },
   {
    "duration": 23,
    "start_time": "2023-07-11T20:31:25.696Z"
   },
   {
    "duration": 15,
    "start_time": "2023-07-11T20:31:29.897Z"
   },
   {
    "duration": 25,
    "start_time": "2023-07-11T20:31:57.552Z"
   },
   {
    "duration": 9,
    "start_time": "2023-07-11T20:32:01.244Z"
   },
   {
    "duration": 33,
    "start_time": "2023-07-11T20:32:04.177Z"
   },
   {
    "duration": 18,
    "start_time": "2023-07-11T20:32:08.236Z"
   },
   {
    "duration": 1205,
    "start_time": "2023-07-11T20:45:56.472Z"
   },
   {
    "duration": 43,
    "start_time": "2023-07-11T20:45:57.680Z"
   },
   {
    "duration": 9,
    "start_time": "2023-07-11T20:45:57.724Z"
   },
   {
    "duration": 20,
    "start_time": "2023-07-11T20:45:57.736Z"
   },
   {
    "duration": 19,
    "start_time": "2023-07-11T20:45:57.760Z"
   },
   {
    "duration": 77,
    "start_time": "2023-07-11T20:45:57.781Z"
   },
   {
    "duration": 13,
    "start_time": "2023-07-11T20:45:57.862Z"
   },
   {
    "duration": 6,
    "start_time": "2023-07-11T20:45:57.877Z"
   },
   {
    "duration": 194,
    "start_time": "2023-07-11T20:45:57.885Z"
   },
   {
    "duration": 141,
    "start_time": "2023-07-11T20:45:58.082Z"
   },
   {
    "duration": 12,
    "start_time": "2023-07-11T20:45:58.225Z"
   },
   {
    "duration": 29,
    "start_time": "2023-07-11T20:45:58.238Z"
   },
   {
    "duration": 393,
    "start_time": "2023-07-11T20:45:58.274Z"
   },
   {
    "duration": 210,
    "start_time": "2023-07-11T20:45:58.671Z"
   },
   {
    "duration": 310,
    "start_time": "2023-07-11T20:45:58.884Z"
   },
   {
    "duration": 8,
    "start_time": "2023-07-11T20:45:59.196Z"
   },
   {
    "duration": 268,
    "start_time": "2023-07-11T20:45:59.206Z"
   },
   {
    "duration": 316,
    "start_time": "2023-07-11T20:45:59.476Z"
   },
   {
    "duration": 11,
    "start_time": "2023-07-11T20:45:59.795Z"
   },
   {
    "duration": 181,
    "start_time": "2023-07-11T20:45:59.807Z"
   },
   {
    "duration": 160,
    "start_time": "2023-07-11T20:45:59.990Z"
   },
   {
    "duration": 15,
    "start_time": "2023-07-11T20:46:00.159Z"
   },
   {
    "duration": 216,
    "start_time": "2023-07-11T20:46:00.176Z"
   },
   {
    "duration": 279,
    "start_time": "2023-07-11T20:46:00.393Z"
   },
   {
    "duration": 6,
    "start_time": "2023-07-11T20:46:00.674Z"
   },
   {
    "duration": 140,
    "start_time": "2023-07-11T20:46:00.681Z"
   },
   {
    "duration": 147,
    "start_time": "2023-07-11T20:46:00.823Z"
   },
   {
    "duration": 54,
    "start_time": "2023-07-11T20:46:00.971Z"
   },
   {
    "duration": 217,
    "start_time": "2023-07-11T20:46:01.027Z"
   },
   {
    "duration": 12,
    "start_time": "2023-07-11T20:46:01.245Z"
   },
   {
    "duration": 68,
    "start_time": "2023-07-11T20:46:01.263Z"
   },
   {
    "duration": 30,
    "start_time": "2023-07-11T20:46:01.333Z"
   },
   {
    "duration": 116,
    "start_time": "2023-07-11T20:46:01.364Z"
   },
   {
    "duration": 72,
    "start_time": "2023-07-11T20:46:01.482Z"
   },
   {
    "duration": 44,
    "start_time": "2023-07-11T20:46:01.556Z"
   },
   {
    "duration": 45,
    "start_time": "2023-07-11T20:46:01.602Z"
   },
   {
    "duration": 1392,
    "start_time": "2023-07-13T07:33:29.105Z"
   },
   {
    "duration": 65,
    "start_time": "2023-07-13T07:33:34.139Z"
   },
   {
    "duration": 91,
    "start_time": "2023-07-13T07:35:42.563Z"
   },
   {
    "duration": 42,
    "start_time": "2023-07-13T07:36:00.043Z"
   },
   {
    "duration": 3,
    "start_time": "2023-07-13T07:45:58.920Z"
   },
   {
    "duration": 64,
    "start_time": "2023-07-13T07:45:58.925Z"
   },
   {
    "duration": 8,
    "start_time": "2023-07-13T07:45:58.991Z"
   },
   {
    "duration": 32,
    "start_time": "2023-07-13T07:45:59.002Z"
   },
   {
    "duration": 12,
    "start_time": "2023-07-13T07:45:59.036Z"
   },
   {
    "duration": 201,
    "start_time": "2023-07-13T07:45:59.050Z"
   },
   {
    "duration": 8,
    "start_time": "2023-07-13T07:45:59.253Z"
   },
   {
    "duration": 15,
    "start_time": "2023-07-13T07:46:02.440Z"
   },
   {
    "duration": 3,
    "start_time": "2023-07-13T07:50:36.270Z"
   },
   {
    "duration": 60,
    "start_time": "2023-07-13T07:50:36.275Z"
   },
   {
    "duration": 8,
    "start_time": "2023-07-13T07:50:36.336Z"
   },
   {
    "duration": 15,
    "start_time": "2023-07-13T07:50:36.346Z"
   },
   {
    "duration": 24,
    "start_time": "2023-07-13T07:50:36.363Z"
   },
   {
    "duration": 89,
    "start_time": "2023-07-13T07:50:36.389Z"
   },
   {
    "duration": 8,
    "start_time": "2023-07-13T07:50:36.479Z"
   },
   {
    "duration": 8,
    "start_time": "2023-07-13T07:50:36.489Z"
   },
   {
    "duration": 5,
    "start_time": "2023-07-13T07:50:36.499Z"
   },
   {
    "duration": 180,
    "start_time": "2023-07-13T07:50:36.505Z"
   },
   {
    "duration": 143,
    "start_time": "2023-07-13T07:50:36.687Z"
   },
   {
    "duration": 13,
    "start_time": "2023-07-13T07:50:36.831Z"
   },
   {
    "duration": 7,
    "start_time": "2023-07-13T07:50:36.845Z"
   },
   {
    "duration": 313,
    "start_time": "2023-07-13T07:50:36.853Z"
   },
   {
    "duration": 228,
    "start_time": "2023-07-13T07:50:37.168Z"
   },
   {
    "duration": 332,
    "start_time": "2023-07-13T07:50:39.937Z"
   },
   {
    "duration": 3,
    "start_time": "2023-07-13T08:08:47.636Z"
   },
   {
    "duration": 56,
    "start_time": "2023-07-13T08:08:47.642Z"
   },
   {
    "duration": 10,
    "start_time": "2023-07-13T08:08:47.699Z"
   },
   {
    "duration": 16,
    "start_time": "2023-07-13T08:08:47.711Z"
   },
   {
    "duration": 36,
    "start_time": "2023-07-13T08:08:47.729Z"
   },
   {
    "duration": 96,
    "start_time": "2023-07-13T08:08:47.767Z"
   },
   {
    "duration": 10,
    "start_time": "2023-07-13T08:08:47.866Z"
   },
   {
    "duration": 33,
    "start_time": "2023-07-13T08:08:47.879Z"
   },
   {
    "duration": 19,
    "start_time": "2023-07-13T08:08:47.915Z"
   },
   {
    "duration": 203,
    "start_time": "2023-07-13T08:08:47.936Z"
   },
   {
    "duration": 183,
    "start_time": "2023-07-13T08:08:48.141Z"
   },
   {
    "duration": 17,
    "start_time": "2023-07-13T08:08:48.326Z"
   },
   {
    "duration": 14,
    "start_time": "2023-07-13T08:08:48.345Z"
   },
   {
    "duration": 245,
    "start_time": "2023-07-13T08:08:48.361Z"
   },
   {
    "duration": 230,
    "start_time": "2023-07-13T08:08:48.607Z"
   },
   {
    "duration": 302,
    "start_time": "2023-07-13T08:08:48.839Z"
   },
   {
    "duration": 6,
    "start_time": "2023-07-13T08:08:49.142Z"
   },
   {
    "duration": 241,
    "start_time": "2023-07-13T08:08:51.102Z"
   },
   {
    "duration": 119,
    "start_time": "2023-07-13T08:10:32.702Z"
   },
   {
    "duration": 444,
    "start_time": "2023-07-13T08:10:53.311Z"
   },
   {
    "duration": 3,
    "start_time": "2023-07-13T08:12:00.196Z"
   },
   {
    "duration": 63,
    "start_time": "2023-07-13T08:12:00.201Z"
   },
   {
    "duration": 9,
    "start_time": "2023-07-13T08:12:00.266Z"
   },
   {
    "duration": 40,
    "start_time": "2023-07-13T08:12:00.278Z"
   },
   {
    "duration": 96,
    "start_time": "2023-07-13T08:12:00.320Z"
   },
   {
    "duration": 220,
    "start_time": "2023-07-13T08:12:00.418Z"
   },
   {
    "duration": 7,
    "start_time": "2023-07-13T08:12:00.640Z"
   },
   {
    "duration": 31,
    "start_time": "2023-07-13T08:12:00.649Z"
   },
   {
    "duration": 51,
    "start_time": "2023-07-13T08:12:00.682Z"
   },
   {
    "duration": 201,
    "start_time": "2023-07-13T08:12:00.737Z"
   },
   {
    "duration": 143,
    "start_time": "2023-07-13T08:12:00.940Z"
   },
   {
    "duration": 19,
    "start_time": "2023-07-13T08:12:01.085Z"
   },
   {
    "duration": 46,
    "start_time": "2023-07-13T08:12:01.113Z"
   },
   {
    "duration": 256,
    "start_time": "2023-07-13T08:12:01.161Z"
   },
   {
    "duration": 229,
    "start_time": "2023-07-13T08:12:01.419Z"
   },
   {
    "duration": 295,
    "start_time": "2023-07-13T08:12:01.650Z"
   },
   {
    "duration": 6,
    "start_time": "2023-07-13T08:12:01.947Z"
   },
   {
    "duration": 292,
    "start_time": "2023-07-13T08:12:01.955Z"
   },
   {
    "duration": 287,
    "start_time": "2023-07-13T08:12:07.646Z"
   },
   {
    "duration": 332,
    "start_time": "2023-07-13T08:13:21.207Z"
   },
   {
    "duration": 326,
    "start_time": "2023-07-13T08:13:40.823Z"
   },
   {
    "duration": 12,
    "start_time": "2023-07-13T08:19:09.684Z"
   },
   {
    "duration": 4,
    "start_time": "2023-07-13T08:19:15.058Z"
   },
   {
    "duration": 79,
    "start_time": "2023-07-13T08:19:15.065Z"
   },
   {
    "duration": 10,
    "start_time": "2023-07-13T08:19:15.146Z"
   },
   {
    "duration": 22,
    "start_time": "2023-07-13T08:19:15.158Z"
   },
   {
    "duration": 15,
    "start_time": "2023-07-13T08:19:15.182Z"
   },
   {
    "duration": 94,
    "start_time": "2023-07-13T08:19:15.199Z"
   },
   {
    "duration": 9,
    "start_time": "2023-07-13T08:19:15.295Z"
   },
   {
    "duration": 16,
    "start_time": "2023-07-13T08:19:15.305Z"
   },
   {
    "duration": 27,
    "start_time": "2023-07-13T08:19:15.323Z"
   },
   {
    "duration": 190,
    "start_time": "2023-07-13T08:19:15.352Z"
   },
   {
    "duration": 159,
    "start_time": "2023-07-13T08:19:15.544Z"
   },
   {
    "duration": 24,
    "start_time": "2023-07-13T08:19:15.704Z"
   },
   {
    "duration": 15,
    "start_time": "2023-07-13T08:19:15.730Z"
   },
   {
    "duration": 245,
    "start_time": "2023-07-13T08:19:15.747Z"
   },
   {
    "duration": 228,
    "start_time": "2023-07-13T08:19:15.995Z"
   },
   {
    "duration": 329,
    "start_time": "2023-07-13T08:19:16.225Z"
   },
   {
    "duration": 5,
    "start_time": "2023-07-13T08:19:16.556Z"
   },
   {
    "duration": 346,
    "start_time": "2023-07-13T08:19:16.563Z"
   },
   {
    "duration": 320,
    "start_time": "2023-07-13T08:19:16.913Z"
   },
   {
    "duration": 10,
    "start_time": "2023-07-13T08:19:17.236Z"
   },
   {
    "duration": 158,
    "start_time": "2023-07-13T08:19:17.247Z"
   },
   {
    "duration": 151,
    "start_time": "2023-07-13T08:19:22.159Z"
   },
   {
    "duration": 166,
    "start_time": "2023-07-13T08:19:42.005Z"
   },
   {
    "duration": 173,
    "start_time": "2023-07-13T08:21:20.725Z"
   },
   {
    "duration": 5,
    "start_time": "2023-07-13T08:30:28.232Z"
   },
   {
    "duration": 70,
    "start_time": "2023-07-13T08:30:28.240Z"
   },
   {
    "duration": 9,
    "start_time": "2023-07-13T08:30:28.312Z"
   },
   {
    "duration": 15,
    "start_time": "2023-07-13T08:30:28.323Z"
   },
   {
    "duration": 17,
    "start_time": "2023-07-13T08:30:28.340Z"
   },
   {
    "duration": 90,
    "start_time": "2023-07-13T08:30:28.359Z"
   },
   {
    "duration": 8,
    "start_time": "2023-07-13T08:30:28.450Z"
   },
   {
    "duration": 10,
    "start_time": "2023-07-13T08:30:28.460Z"
   },
   {
    "duration": 25,
    "start_time": "2023-07-13T08:30:28.472Z"
   },
   {
    "duration": 190,
    "start_time": "2023-07-13T08:30:28.513Z"
   },
   {
    "duration": 151,
    "start_time": "2023-07-13T08:30:28.705Z"
   },
   {
    "duration": 13,
    "start_time": "2023-07-13T08:30:28.858Z"
   },
   {
    "duration": 62,
    "start_time": "2023-07-13T08:30:28.873Z"
   },
   {
    "duration": 230,
    "start_time": "2023-07-13T08:30:28.937Z"
   },
   {
    "duration": 246,
    "start_time": "2023-07-13T08:30:29.170Z"
   },
   {
    "duration": 453,
    "start_time": "2023-07-13T08:30:29.418Z"
   },
   {
    "duration": 8,
    "start_time": "2023-07-13T08:30:29.874Z"
   },
   {
    "duration": 269,
    "start_time": "2023-07-13T08:30:29.884Z"
   },
   {
    "duration": 427,
    "start_time": "2023-07-13T08:30:30.156Z"
   },
   {
    "duration": 11,
    "start_time": "2023-07-13T08:30:30.585Z"
   },
   {
    "duration": 283,
    "start_time": "2023-07-13T08:30:30.598Z"
   },
   {
    "duration": 171,
    "start_time": "2023-07-13T08:30:30.883Z"
   },
   {
    "duration": 39,
    "start_time": "2023-07-13T08:30:31.056Z"
   },
   {
    "duration": 248,
    "start_time": "2023-07-13T08:30:31.097Z"
   },
   {
    "duration": 189,
    "start_time": "2023-07-13T08:30:31.348Z"
   },
   {
    "duration": 5,
    "start_time": "2023-07-13T08:30:31.539Z"
   },
   {
    "duration": 144,
    "start_time": "2023-07-13T08:30:31.546Z"
   },
   {
    "duration": 182,
    "start_time": "2023-07-13T08:30:31.694Z"
   },
   {
    "duration": 83,
    "start_time": "2023-07-13T08:30:31.877Z"
   },
   {
    "duration": 178,
    "start_time": "2023-07-13T08:30:31.962Z"
   },
   {
    "duration": 6,
    "start_time": "2023-07-13T08:30:32.142Z"
   },
   {
    "duration": 66,
    "start_time": "2023-07-13T08:30:32.150Z"
   },
   {
    "duration": 37,
    "start_time": "2023-07-13T08:30:32.218Z"
   },
   {
    "duration": 14,
    "start_time": "2023-07-13T08:30:36.509Z"
   },
   {
    "duration": 4,
    "start_time": "2023-07-13T15:05:09.167Z"
   },
   {
    "duration": 46,
    "start_time": "2023-07-13T15:05:12.919Z"
   },
   {
    "duration": 41,
    "start_time": "2023-07-13T15:05:20.671Z"
   },
   {
    "duration": 40,
    "start_time": "2023-07-13T15:05:27.712Z"
   },
   {
    "duration": 988,
    "start_time": "2023-07-13T15:21:46.225Z"
   },
   {
    "duration": 5,
    "start_time": "2023-07-13T15:21:56.292Z"
   },
   {
    "duration": 4,
    "start_time": "2023-07-13T15:24:16.341Z"
   },
   {
    "duration": 5,
    "start_time": "2023-07-13T15:25:06.505Z"
   },
   {
    "duration": 5,
    "start_time": "2023-07-13T15:27:30.900Z"
   },
   {
    "duration": 4,
    "start_time": "2023-07-13T15:27:38.724Z"
   },
   {
    "duration": 255,
    "start_time": "2023-07-13T15:42:26.972Z"
   },
   {
    "duration": 4,
    "start_time": "2023-07-13T15:46:25.501Z"
   },
   {
    "duration": 12,
    "start_time": "2023-07-13T15:46:36.432Z"
   },
   {
    "duration": 5,
    "start_time": "2023-07-13T15:46:55.500Z"
   },
   {
    "duration": 64,
    "start_time": "2023-07-13T15:51:03.424Z"
   },
   {
    "duration": 59,
    "start_time": "2023-07-13T15:51:21.160Z"
   },
   {
    "duration": 54,
    "start_time": "2023-07-13T15:51:42.008Z"
   },
   {
    "duration": 5,
    "start_time": "2023-07-13T15:51:57.959Z"
   },
   {
    "duration": 5,
    "start_time": "2023-07-13T15:52:06.528Z"
   },
   {
    "duration": 5,
    "start_time": "2023-07-13T15:52:32.047Z"
   },
   {
    "duration": 5,
    "start_time": "2023-07-13T16:09:48.757Z"
   },
   {
    "duration": 5,
    "start_time": "2023-07-13T16:14:58.667Z"
   },
   {
    "duration": 12,
    "start_time": "2023-07-13T16:15:06.339Z"
   },
   {
    "duration": 15,
    "start_time": "2023-07-13T16:15:13.123Z"
   },
   {
    "duration": 13,
    "start_time": "2023-07-13T16:15:24.018Z"
   },
   {
    "duration": 16,
    "start_time": "2023-07-13T16:17:48.635Z"
   },
   {
    "duration": 6,
    "start_time": "2023-07-13T16:18:31.991Z"
   },
   {
    "duration": 6,
    "start_time": "2023-07-13T16:18:39.835Z"
   },
   {
    "duration": 14,
    "start_time": "2023-07-13T16:18:51.258Z"
   },
   {
    "duration": 9,
    "start_time": "2023-07-13T16:19:15.512Z"
   },
   {
    "duration": 16,
    "start_time": "2023-07-13T16:19:49.938Z"
   },
   {
    "duration": 4,
    "start_time": "2023-07-13T16:23:48.753Z"
   },
   {
    "duration": 5,
    "start_time": "2023-07-13T16:25:01.515Z"
   },
   {
    "duration": 12,
    "start_time": "2023-07-13T16:50:08.257Z"
   },
   {
    "duration": 13,
    "start_time": "2023-07-13T16:50:24.169Z"
   },
   {
    "duration": 8,
    "start_time": "2023-07-13T16:50:55.862Z"
   },
   {
    "duration": 11,
    "start_time": "2023-07-13T16:55:20.712Z"
   },
   {
    "duration": 1363,
    "start_time": "2023-07-13T19:02:29.957Z"
   },
   {
    "duration": 81,
    "start_time": "2023-07-13T19:02:31.322Z"
   },
   {
    "duration": 11,
    "start_time": "2023-07-13T19:02:31.404Z"
   },
   {
    "duration": 67,
    "start_time": "2023-07-13T19:02:31.417Z"
   },
   {
    "duration": 38,
    "start_time": "2023-07-13T19:02:31.486Z"
   },
   {
    "duration": 281,
    "start_time": "2023-07-13T19:02:31.526Z"
   },
   {
    "duration": 10,
    "start_time": "2023-07-13T19:02:31.809Z"
   },
   {
    "duration": 58,
    "start_time": "2023-07-13T19:02:31.821Z"
   },
   {
    "duration": 35,
    "start_time": "2023-07-13T19:02:31.881Z"
   },
   {
    "duration": 69,
    "start_time": "2023-07-13T19:02:31.919Z"
   },
   {
    "duration": 50,
    "start_time": "2023-07-13T19:02:31.990Z"
   },
   {
    "duration": 31,
    "start_time": "2023-07-13T19:02:32.042Z"
   },
   {
    "duration": 56,
    "start_time": "2023-07-13T19:02:32.075Z"
   },
   {
    "duration": 26,
    "start_time": "2023-07-13T19:02:32.133Z"
   },
   {
    "duration": 185,
    "start_time": "2023-07-13T19:02:32.160Z"
   },
   {
    "duration": 144,
    "start_time": "2023-07-13T19:02:32.347Z"
   },
   {
    "duration": 13,
    "start_time": "2023-07-13T19:02:32.492Z"
   },
   {
    "duration": 29,
    "start_time": "2023-07-13T19:02:32.506Z"
   },
   {
    "duration": 282,
    "start_time": "2023-07-13T19:02:32.536Z"
   },
   {
    "duration": 201,
    "start_time": "2023-07-13T19:02:32.820Z"
   },
   {
    "duration": 398,
    "start_time": "2023-07-13T19:02:33.023Z"
   },
   {
    "duration": 7,
    "start_time": "2023-07-13T19:02:33.422Z"
   },
   {
    "duration": 234,
    "start_time": "2023-07-13T19:02:33.430Z"
   },
   {
    "duration": 334,
    "start_time": "2023-07-13T19:02:33.666Z"
   },
   {
    "duration": 10,
    "start_time": "2023-07-13T19:02:34.001Z"
   },
   {
    "duration": 150,
    "start_time": "2023-07-13T19:02:34.013Z"
   },
   {
    "duration": 166,
    "start_time": "2023-07-13T19:02:34.165Z"
   },
   {
    "duration": 6,
    "start_time": "2023-07-13T19:02:34.334Z"
   },
   {
    "duration": 164,
    "start_time": "2023-07-13T19:02:34.341Z"
   },
   {
    "duration": 256,
    "start_time": "2023-07-13T19:02:34.506Z"
   },
   {
    "duration": 5,
    "start_time": "2023-07-13T19:02:34.764Z"
   },
   {
    "duration": 104,
    "start_time": "2023-07-13T19:02:34.774Z"
   },
   {
    "duration": 138,
    "start_time": "2023-07-13T19:02:34.880Z"
   },
   {
    "duration": 29,
    "start_time": "2023-07-13T19:02:35.020Z"
   },
   {
    "duration": 154,
    "start_time": "2023-07-13T19:02:35.050Z"
   },
   {
    "duration": 9,
    "start_time": "2023-07-13T19:02:38.052Z"
   },
   {
    "duration": 107,
    "start_time": "2023-07-13T19:09:28.891Z"
   },
   {
    "duration": 8,
    "start_time": "2023-07-13T19:09:42.221Z"
   },
   {
    "duration": 133,
    "start_time": "2023-07-13T19:10:16.545Z"
   },
   {
    "duration": 103,
    "start_time": "2023-07-13T19:24:42.548Z"
   },
   {
    "duration": 143,
    "start_time": "2023-07-13T19:25:32.343Z"
   },
   {
    "duration": 4,
    "start_time": "2023-07-13T19:26:40.508Z"
   },
   {
    "duration": 9,
    "start_time": "2023-07-13T19:26:58.827Z"
   },
   {
    "duration": 8,
    "start_time": "2023-07-13T19:28:20.570Z"
   },
   {
    "duration": 24,
    "start_time": "2023-07-13T19:28:50.308Z"
   },
   {
    "duration": 1176,
    "start_time": "2023-07-13T19:29:26.366Z"
   },
   {
    "duration": 40,
    "start_time": "2023-07-13T19:29:27.544Z"
   },
   {
    "duration": 8,
    "start_time": "2023-07-13T19:29:27.585Z"
   },
   {
    "duration": 33,
    "start_time": "2023-07-13T19:29:27.595Z"
   },
   {
    "duration": 30,
    "start_time": "2023-07-13T19:29:27.629Z"
   },
   {
    "duration": 98,
    "start_time": "2023-07-13T19:29:27.661Z"
   },
   {
    "duration": 7,
    "start_time": "2023-07-13T19:29:27.761Z"
   },
   {
    "duration": 48,
    "start_time": "2023-07-13T19:29:27.769Z"
   },
   {
    "duration": 16,
    "start_time": "2023-07-13T19:29:27.819Z"
   },
   {
    "duration": 10,
    "start_time": "2023-07-13T19:29:27.838Z"
   },
   {
    "duration": 18,
    "start_time": "2023-07-13T19:29:27.850Z"
   },
   {
    "duration": 22,
    "start_time": "2023-07-13T19:29:27.869Z"
   },
   {
    "duration": 23,
    "start_time": "2023-07-13T19:29:27.893Z"
   },
   {
    "duration": 12,
    "start_time": "2023-07-13T19:29:27.917Z"
   },
   {
    "duration": 158,
    "start_time": "2023-07-13T19:29:27.931Z"
   },
   {
    "duration": 124,
    "start_time": "2023-07-13T19:29:28.091Z"
   },
   {
    "duration": 11,
    "start_time": "2023-07-13T19:29:28.217Z"
   },
   {
    "duration": 17,
    "start_time": "2023-07-13T19:29:28.229Z"
   },
   {
    "duration": 264,
    "start_time": "2023-07-13T19:29:28.248Z"
   },
   {
    "duration": 182,
    "start_time": "2023-07-13T19:29:28.514Z"
   },
   {
    "duration": 278,
    "start_time": "2023-07-13T19:29:28.698Z"
   },
   {
    "duration": 5,
    "start_time": "2023-07-13T19:29:28.978Z"
   },
   {
    "duration": 223,
    "start_time": "2023-07-13T19:29:28.985Z"
   },
   {
    "duration": 267,
    "start_time": "2023-07-13T19:29:29.210Z"
   },
   {
    "duration": 8,
    "start_time": "2023-07-13T19:29:29.479Z"
   },
   {
    "duration": 146,
    "start_time": "2023-07-13T19:29:29.489Z"
   },
   {
    "duration": 140,
    "start_time": "2023-07-13T19:29:29.637Z"
   },
   {
    "duration": 4,
    "start_time": "2023-07-13T19:29:29.780Z"
   },
   {
    "duration": 163,
    "start_time": "2023-07-13T19:29:29.785Z"
   },
   {
    "duration": 241,
    "start_time": "2023-07-13T19:29:29.950Z"
   },
   {
    "duration": 6,
    "start_time": "2023-07-13T19:29:30.193Z"
   },
   {
    "duration": 168,
    "start_time": "2023-07-13T19:29:30.200Z"
   },
   {
    "duration": 288,
    "start_time": "2023-07-13T19:29:30.370Z"
   },
   {
    "duration": 30,
    "start_time": "2023-07-13T19:29:30.660Z"
   },
   {
    "duration": 161,
    "start_time": "2023-07-13T19:29:30.691Z"
   },
   {
    "duration": 25,
    "start_time": "2023-07-13T19:29:30.853Z"
   },
   {
    "duration": 92,
    "start_time": "2023-07-13T19:29:30.880Z"
   },
   {
    "duration": 86,
    "start_time": "2023-07-13T19:29:30.974Z"
   },
   {
    "duration": 157,
    "start_time": "2023-07-13T19:29:31.062Z"
   },
   {
    "duration": 0,
    "start_time": "2023-07-13T19:29:31.221Z"
   },
   {
    "duration": 1,
    "start_time": "2023-07-13T19:29:31.222Z"
   },
   {
    "duration": 0,
    "start_time": "2023-07-13T19:29:31.227Z"
   },
   {
    "duration": 24,
    "start_time": "2023-07-13T19:29:54.390Z"
   },
   {
    "duration": 134,
    "start_time": "2023-07-13T19:30:36.562Z"
   },
   {
    "duration": 3,
    "start_time": "2023-07-13T19:35:23.021Z"
   },
   {
    "duration": 3,
    "start_time": "2023-07-13T19:38:58.130Z"
   },
   {
    "duration": 45,
    "start_time": "2023-07-13T19:38:58.135Z"
   },
   {
    "duration": 7,
    "start_time": "2023-07-13T19:38:58.182Z"
   },
   {
    "duration": 20,
    "start_time": "2023-07-13T19:38:58.190Z"
   },
   {
    "duration": 14,
    "start_time": "2023-07-13T19:38:58.213Z"
   },
   {
    "duration": 75,
    "start_time": "2023-07-13T19:38:58.228Z"
   },
   {
    "duration": 7,
    "start_time": "2023-07-13T19:38:58.305Z"
   },
   {
    "duration": 11,
    "start_time": "2023-07-13T19:38:58.313Z"
   },
   {
    "duration": 4,
    "start_time": "2023-07-13T19:38:58.326Z"
   },
   {
    "duration": 10,
    "start_time": "2023-07-13T19:38:58.331Z"
   },
   {
    "duration": 33,
    "start_time": "2023-07-13T19:38:58.343Z"
   },
   {
    "duration": 4,
    "start_time": "2023-07-13T19:38:58.378Z"
   },
   {
    "duration": 10,
    "start_time": "2023-07-13T19:38:58.384Z"
   },
   {
    "duration": 5,
    "start_time": "2023-07-13T19:38:58.395Z"
   },
   {
    "duration": 168,
    "start_time": "2023-07-13T19:38:58.401Z"
   },
   {
    "duration": 121,
    "start_time": "2023-07-13T19:38:58.574Z"
   },
   {
    "duration": 11,
    "start_time": "2023-07-13T19:38:58.696Z"
   },
   {
    "duration": 11,
    "start_time": "2023-07-13T19:38:58.708Z"
   },
   {
    "duration": 186,
    "start_time": "2023-07-13T19:38:58.720Z"
   },
   {
    "duration": 187,
    "start_time": "2023-07-13T19:38:58.907Z"
   },
   {
    "duration": 295,
    "start_time": "2023-07-13T19:38:59.095Z"
   },
   {
    "duration": 6,
    "start_time": "2023-07-13T19:38:59.392Z"
   },
   {
    "duration": 198,
    "start_time": "2023-07-13T19:38:59.399Z"
   },
   {
    "duration": 290,
    "start_time": "2023-07-13T19:38:59.599Z"
   },
   {
    "duration": 10,
    "start_time": "2023-07-13T19:38:59.891Z"
   },
   {
    "duration": 148,
    "start_time": "2023-07-13T19:38:59.902Z"
   },
   {
    "duration": 160,
    "start_time": "2023-07-13T19:39:00.052Z"
   },
   {
    "duration": 5,
    "start_time": "2023-07-13T19:39:00.213Z"
   },
   {
    "duration": 170,
    "start_time": "2023-07-13T19:39:00.221Z"
   },
   {
    "duration": 151,
    "start_time": "2023-07-13T19:39:00.394Z"
   },
   {
    "duration": 5,
    "start_time": "2023-07-13T19:39:00.547Z"
   },
   {
    "duration": 51,
    "start_time": "2023-07-13T19:39:00.553Z"
   },
   {
    "duration": 37,
    "start_time": "2023-07-13T19:39:00.606Z"
   },
   {
    "duration": 68,
    "start_time": "2023-07-13T19:39:00.645Z"
   },
   {
    "duration": 208,
    "start_time": "2023-07-13T19:39:00.714Z"
   },
   {
    "duration": 2154,
    "start_time": "2023-07-13T19:39:06.325Z"
   },
   {
    "duration": 22,
    "start_time": "2023-07-13T19:39:09.074Z"
   },
   {
    "duration": 11,
    "start_time": "2023-07-13T19:39:35.957Z"
   },
   {
    "duration": 6,
    "start_time": "2023-07-13T19:41:06.986Z"
   },
   {
    "duration": 24,
    "start_time": "2023-07-13T19:41:10.701Z"
   },
   {
    "duration": 130,
    "start_time": "2023-07-13T19:42:10.452Z"
   },
   {
    "duration": 9,
    "start_time": "2023-07-13T19:42:57.386Z"
   },
   {
    "duration": 10,
    "start_time": "2023-07-13T19:43:32.033Z"
   },
   {
    "duration": 9,
    "start_time": "2023-07-13T19:43:55.713Z"
   },
   {
    "duration": 10,
    "start_time": "2023-07-13T19:44:34.418Z"
   },
   {
    "duration": 12,
    "start_time": "2023-07-13T19:51:07.714Z"
   },
   {
    "duration": 11,
    "start_time": "2023-07-13T19:51:51.070Z"
   },
   {
    "duration": 4,
    "start_time": "2023-07-13T19:52:50.584Z"
   },
   {
    "duration": 4,
    "start_time": "2023-07-13T19:53:00.046Z"
   },
   {
    "duration": 5,
    "start_time": "2023-07-13T19:53:13.189Z"
   },
   {
    "duration": 80,
    "start_time": "2023-07-13T19:53:42.088Z"
   },
   {
    "duration": 93,
    "start_time": "2023-07-13T19:54:17.520Z"
   },
   {
    "duration": 173,
    "start_time": "2023-07-13T19:56:59.813Z"
   },
   {
    "duration": 12,
    "start_time": "2023-07-13T19:58:48.925Z"
   },
   {
    "duration": 4,
    "start_time": "2023-07-13T19:59:35.232Z"
   },
   {
    "duration": 14,
    "start_time": "2023-07-13T19:59:56.289Z"
   },
   {
    "duration": 10,
    "start_time": "2023-07-13T20:28:31.813Z"
   },
   {
    "duration": 11,
    "start_time": "2023-07-13T20:30:21.973Z"
   },
   {
    "duration": 8,
    "start_time": "2023-07-13T20:31:21.944Z"
   },
   {
    "duration": 22,
    "start_time": "2023-07-13T20:31:27.491Z"
   },
   {
    "duration": 4,
    "start_time": "2023-07-13T20:39:10.503Z"
   },
   {
    "duration": 4,
    "start_time": "2023-07-13T20:39:19.281Z"
   },
   {
    "duration": 9,
    "start_time": "2023-07-13T20:40:22.030Z"
   },
   {
    "duration": 5,
    "start_time": "2023-07-13T20:40:32.747Z"
   },
   {
    "duration": 6,
    "start_time": "2023-07-13T20:40:42.823Z"
   },
   {
    "duration": 5,
    "start_time": "2023-07-13T20:40:51.152Z"
   },
   {
    "duration": 95,
    "start_time": "2023-07-13T20:42:48.294Z"
   },
   {
    "duration": 4,
    "start_time": "2023-07-13T20:44:20.489Z"
   },
   {
    "duration": 4,
    "start_time": "2023-07-13T20:44:32.023Z"
   },
   {
    "duration": 88,
    "start_time": "2023-07-13T20:45:44.494Z"
   },
   {
    "duration": 82,
    "start_time": "2023-07-13T20:45:50.616Z"
   },
   {
    "duration": 78,
    "start_time": "2023-07-13T20:46:38.669Z"
   },
   {
    "duration": 5,
    "start_time": "2023-07-13T20:46:43.995Z"
   },
   {
    "duration": 15,
    "start_time": "2023-07-13T20:52:20.145Z"
   },
   {
    "duration": 12,
    "start_time": "2023-07-13T20:53:03.162Z"
   },
   {
    "duration": 11,
    "start_time": "2023-07-13T20:53:10.538Z"
   },
   {
    "duration": 10,
    "start_time": "2023-07-13T20:56:54.709Z"
   },
   {
    "duration": 7,
    "start_time": "2023-07-13T20:57:17.662Z"
   },
   {
    "duration": 7,
    "start_time": "2023-07-13T20:59:31.957Z"
   },
   {
    "duration": 14,
    "start_time": "2023-07-13T20:59:40.212Z"
   },
   {
    "duration": 0,
    "start_time": "2023-07-13T21:00:11.661Z"
   },
   {
    "duration": 1118,
    "start_time": "2023-07-13T21:00:33.942Z"
   },
   {
    "duration": 14,
    "start_time": "2023-07-13T21:01:08.134Z"
   },
   {
    "duration": 12,
    "start_time": "2023-07-13T21:02:40.226Z"
   },
   {
    "duration": 14,
    "start_time": "2023-07-13T21:03:24.501Z"
   },
   {
    "duration": 11,
    "start_time": "2023-07-13T21:03:39.294Z"
   },
   {
    "duration": 10,
    "start_time": "2023-07-13T21:03:57.087Z"
   },
   {
    "duration": 10,
    "start_time": "2023-07-13T21:04:13.526Z"
   },
   {
    "duration": 10,
    "start_time": "2023-07-13T21:05:06.652Z"
   },
   {
    "duration": 12,
    "start_time": "2023-07-13T21:05:58.346Z"
   },
   {
    "duration": 13,
    "start_time": "2023-07-13T21:06:42.793Z"
   },
   {
    "duration": 13,
    "start_time": "2023-07-13T21:07:42.995Z"
   },
   {
    "duration": 17,
    "start_time": "2023-07-13T21:08:38.992Z"
   },
   {
    "duration": 24,
    "start_time": "2023-07-13T21:08:44.744Z"
   },
   {
    "duration": 15,
    "start_time": "2023-07-13T21:09:57.219Z"
   },
   {
    "duration": 39,
    "start_time": "2023-07-13T21:10:00.849Z"
   },
   {
    "duration": 15,
    "start_time": "2023-07-13T21:14:15.019Z"
   },
   {
    "duration": 23,
    "start_time": "2023-07-13T21:14:20.347Z"
   },
   {
    "duration": 3,
    "start_time": "2023-07-13T21:15:06.007Z"
   },
   {
    "duration": 120,
    "start_time": "2023-07-13T21:16:38.943Z"
   },
   {
    "duration": 6,
    "start_time": "2023-07-13T21:17:24.643Z"
   },
   {
    "duration": 22,
    "start_time": "2023-07-13T21:17:33.274Z"
   },
   {
    "duration": 1188,
    "start_time": "2023-07-13T21:27:09.847Z"
   },
   {
    "duration": 8,
    "start_time": "2023-07-13T21:28:46.483Z"
   },
   {
    "duration": 23,
    "start_time": "2023-07-13T21:28:52.110Z"
   },
   {
    "duration": 17,
    "start_time": "2023-07-13T21:29:07.606Z"
   },
   {
    "duration": 1242,
    "start_time": "2023-07-13T21:30:15.245Z"
   },
   {
    "duration": 48,
    "start_time": "2023-07-13T21:30:16.489Z"
   },
   {
    "duration": 9,
    "start_time": "2023-07-13T21:30:16.540Z"
   },
   {
    "duration": 23,
    "start_time": "2023-07-13T21:30:16.552Z"
   },
   {
    "duration": 32,
    "start_time": "2023-07-13T21:30:16.578Z"
   },
   {
    "duration": 94,
    "start_time": "2023-07-13T21:30:16.612Z"
   },
   {
    "duration": 7,
    "start_time": "2023-07-13T21:30:16.707Z"
   },
   {
    "duration": 65,
    "start_time": "2023-07-13T21:30:16.716Z"
   },
   {
    "duration": 26,
    "start_time": "2023-07-13T21:30:16.783Z"
   },
   {
    "duration": 64,
    "start_time": "2023-07-13T21:30:16.811Z"
   },
   {
    "duration": 65,
    "start_time": "2023-07-13T21:30:16.877Z"
   },
   {
    "duration": 4,
    "start_time": "2023-07-13T21:30:16.944Z"
   },
   {
    "duration": 22,
    "start_time": "2023-07-13T21:30:16.950Z"
   },
   {
    "duration": 5,
    "start_time": "2023-07-13T21:30:16.975Z"
   },
   {
    "duration": 169,
    "start_time": "2023-07-13T21:30:16.981Z"
   },
   {
    "duration": 140,
    "start_time": "2023-07-13T21:30:17.151Z"
   },
   {
    "duration": 12,
    "start_time": "2023-07-13T21:30:17.293Z"
   },
   {
    "duration": 14,
    "start_time": "2023-07-13T21:30:17.307Z"
   },
   {
    "duration": 275,
    "start_time": "2023-07-13T21:30:17.323Z"
   },
   {
    "duration": 202,
    "start_time": "2023-07-13T21:30:17.600Z"
   },
   {
    "duration": 295,
    "start_time": "2023-07-13T21:30:17.804Z"
   },
   {
    "duration": 6,
    "start_time": "2023-07-13T21:30:18.102Z"
   },
   {
    "duration": 231,
    "start_time": "2023-07-13T21:30:18.109Z"
   },
   {
    "duration": 318,
    "start_time": "2023-07-13T21:30:18.342Z"
   },
   {
    "duration": 17,
    "start_time": "2023-07-13T21:30:18.662Z"
   },
   {
    "duration": 143,
    "start_time": "2023-07-13T21:30:18.681Z"
   },
   {
    "duration": 154,
    "start_time": "2023-07-13T21:30:18.825Z"
   },
   {
    "duration": 6,
    "start_time": "2023-07-13T21:30:18.981Z"
   },
   {
    "duration": 167,
    "start_time": "2023-07-13T21:30:18.988Z"
   },
   {
    "duration": 235,
    "start_time": "2023-07-13T21:30:19.157Z"
   },
   {
    "duration": 4,
    "start_time": "2023-07-13T21:30:19.394Z"
   },
   {
    "duration": 8,
    "start_time": "2023-07-13T21:30:19.400Z"
   },
   {
    "duration": 25,
    "start_time": "2023-07-13T21:30:19.410Z"
   },
   {
    "duration": 16,
    "start_time": "2023-07-13T21:30:19.437Z"
   },
   {
    "duration": 137,
    "start_time": "2023-07-13T21:30:19.455Z"
   },
   {
    "duration": 7,
    "start_time": "2023-07-13T21:30:19.594Z"
   },
   {
    "duration": 32,
    "start_time": "2023-07-13T21:30:19.602Z"
   },
   {
    "duration": 27,
    "start_time": "2023-07-13T21:30:19.635Z"
   },
   {
    "duration": 13,
    "start_time": "2023-07-13T21:30:19.663Z"
   },
   {
    "duration": 16,
    "start_time": "2023-07-13T21:30:19.677Z"
   },
   {
    "duration": 20,
    "start_time": "2023-07-13T21:30:19.697Z"
   },
   {
    "duration": 40,
    "start_time": "2023-07-13T21:30:19.719Z"
   },
   {
    "duration": 15,
    "start_time": "2023-07-13T21:30:19.761Z"
   },
   {
    "duration": 3,
    "start_time": "2023-07-13T21:30:50.140Z"
   },
   {
    "duration": 326,
    "start_time": "2023-07-13T21:38:56.984Z"
   },
   {
    "duration": 1100,
    "start_time": "2023-07-13T21:43:31.121Z"
   },
   {
    "duration": 44,
    "start_time": "2023-07-13T21:43:32.223Z"
   },
   {
    "duration": 8,
    "start_time": "2023-07-13T21:43:32.269Z"
   },
   {
    "duration": 16,
    "start_time": "2023-07-13T21:43:32.279Z"
   },
   {
    "duration": 22,
    "start_time": "2023-07-13T21:43:32.296Z"
   },
   {
    "duration": 94,
    "start_time": "2023-07-13T21:43:32.319Z"
   },
   {
    "duration": 7,
    "start_time": "2023-07-13T21:43:32.415Z"
   },
   {
    "duration": 26,
    "start_time": "2023-07-13T21:43:32.424Z"
   },
   {
    "duration": 20,
    "start_time": "2023-07-13T21:43:32.452Z"
   },
   {
    "duration": 9,
    "start_time": "2023-07-13T21:43:32.476Z"
   },
   {
    "duration": 26,
    "start_time": "2023-07-13T21:43:32.487Z"
   },
   {
    "duration": 7,
    "start_time": "2023-07-13T21:43:32.515Z"
   },
   {
    "duration": 24,
    "start_time": "2023-07-13T21:43:32.524Z"
   },
   {
    "duration": 26,
    "start_time": "2023-07-13T21:43:32.550Z"
   },
   {
    "duration": 160,
    "start_time": "2023-07-13T21:43:32.578Z"
   },
   {
    "duration": 121,
    "start_time": "2023-07-13T21:43:32.739Z"
   },
   {
    "duration": 20,
    "start_time": "2023-07-13T21:43:32.861Z"
   },
   {
    "duration": 12,
    "start_time": "2023-07-13T21:43:32.882Z"
   },
   {
    "duration": 282,
    "start_time": "2023-07-13T21:43:32.896Z"
   },
   {
    "duration": 213,
    "start_time": "2023-07-13T21:43:33.179Z"
   },
   {
    "duration": 295,
    "start_time": "2023-07-13T21:43:33.394Z"
   },
   {
    "duration": 6,
    "start_time": "2023-07-13T21:43:33.690Z"
   },
   {
    "duration": 266,
    "start_time": "2023-07-13T21:43:33.699Z"
   },
   {
    "duration": 301,
    "start_time": "2023-07-13T21:43:33.974Z"
   },
   {
    "duration": 8,
    "start_time": "2023-07-13T21:43:34.277Z"
   },
   {
    "duration": 146,
    "start_time": "2023-07-13T21:43:34.287Z"
   },
   {
    "duration": 154,
    "start_time": "2023-07-13T21:43:34.435Z"
   },
   {
    "duration": 5,
    "start_time": "2023-07-13T21:43:34.593Z"
   },
   {
    "duration": 172,
    "start_time": "2023-07-13T21:43:34.599Z"
   },
   {
    "duration": 245,
    "start_time": "2023-07-13T21:43:34.774Z"
   },
   {
    "duration": 5,
    "start_time": "2023-07-13T21:43:35.021Z"
   },
   {
    "duration": 9,
    "start_time": "2023-07-13T21:43:35.027Z"
   },
   {
    "duration": 14,
    "start_time": "2023-07-13T21:43:35.038Z"
   },
   {
    "duration": 14,
    "start_time": "2023-07-13T21:43:35.053Z"
   },
   {
    "duration": 125,
    "start_time": "2023-07-13T21:43:35.069Z"
   },
   {
    "duration": 7,
    "start_time": "2023-07-13T21:43:35.196Z"
   },
   {
    "duration": 40,
    "start_time": "2023-07-13T21:43:35.205Z"
   },
   {
    "duration": 29,
    "start_time": "2023-07-13T21:43:35.247Z"
   },
   {
    "duration": 14,
    "start_time": "2023-07-13T21:43:35.278Z"
   },
   {
    "duration": 4,
    "start_time": "2023-07-13T21:43:35.294Z"
   },
   {
    "duration": 27,
    "start_time": "2023-07-13T21:43:35.300Z"
   },
   {
    "duration": 28,
    "start_time": "2023-07-13T21:43:35.329Z"
   },
   {
    "duration": 24,
    "start_time": "2023-07-13T21:43:35.359Z"
   },
   {
    "duration": 1369,
    "start_time": "2023-07-14T21:48:16.619Z"
   },
   {
    "duration": 94,
    "start_time": "2023-07-14T21:48:17.990Z"
   },
   {
    "duration": 9,
    "start_time": "2023-07-14T21:48:18.087Z"
   },
   {
    "duration": 23,
    "start_time": "2023-07-14T21:48:18.098Z"
   },
   {
    "duration": 14,
    "start_time": "2023-07-14T21:48:18.123Z"
   },
   {
    "duration": 206,
    "start_time": "2023-07-14T21:48:18.154Z"
   },
   {
    "duration": 18,
    "start_time": "2023-07-14T21:48:18.362Z"
   },
   {
    "duration": 56,
    "start_time": "2023-07-14T21:48:18.383Z"
   },
   {
    "duration": 59,
    "start_time": "2023-07-14T21:48:18.442Z"
   },
   {
    "duration": 19,
    "start_time": "2023-07-14T21:48:18.504Z"
   },
   {
    "duration": 39,
    "start_time": "2023-07-14T21:48:18.525Z"
   },
   {
    "duration": 17,
    "start_time": "2023-07-14T21:48:18.569Z"
   },
   {
    "duration": 35,
    "start_time": "2023-07-14T21:48:18.588Z"
   },
   {
    "duration": 15,
    "start_time": "2023-07-14T21:48:18.626Z"
   },
   {
    "duration": 190,
    "start_time": "2023-07-14T21:48:18.643Z"
   },
   {
    "duration": 164,
    "start_time": "2023-07-14T21:48:18.836Z"
   },
   {
    "duration": 14,
    "start_time": "2023-07-14T21:48:19.003Z"
   },
   {
    "duration": 63,
    "start_time": "2023-07-14T21:48:19.019Z"
   },
   {
    "duration": 423,
    "start_time": "2023-07-14T21:48:19.084Z"
   },
   {
    "duration": 229,
    "start_time": "2023-07-14T21:48:19.509Z"
   },
   {
    "duration": 340,
    "start_time": "2023-07-14T21:48:19.741Z"
   },
   {
    "duration": 8,
    "start_time": "2023-07-14T21:48:20.083Z"
   },
   {
    "duration": 281,
    "start_time": "2023-07-14T21:48:20.093Z"
   },
   {
    "duration": 345,
    "start_time": "2023-07-14T21:48:20.376Z"
   },
   {
    "duration": 9,
    "start_time": "2023-07-14T21:48:20.723Z"
   },
   {
    "duration": 172,
    "start_time": "2023-07-14T21:48:20.734Z"
   },
   {
    "duration": 250,
    "start_time": "2023-07-14T21:48:20.908Z"
   },
   {
    "duration": 10,
    "start_time": "2023-07-14T21:48:21.163Z"
   },
   {
    "duration": 213,
    "start_time": "2023-07-14T21:48:21.185Z"
   },
   {
    "duration": 374,
    "start_time": "2023-07-14T21:48:21.400Z"
   },
   {
    "duration": 12,
    "start_time": "2023-07-14T21:48:21.776Z"
   },
   {
    "duration": 12,
    "start_time": "2023-07-14T21:48:21.790Z"
   },
   {
    "duration": 18,
    "start_time": "2023-07-14T21:48:21.804Z"
   },
   {
    "duration": 8,
    "start_time": "2023-07-14T21:48:21.824Z"
   },
   {
    "duration": 248,
    "start_time": "2023-07-14T21:48:21.834Z"
   },
   {
    "duration": 11,
    "start_time": "2023-07-14T21:48:22.084Z"
   },
   {
    "duration": 34,
    "start_time": "2023-07-14T21:48:22.098Z"
   },
   {
    "duration": 28,
    "start_time": "2023-07-14T21:48:22.134Z"
   },
   {
    "duration": 36,
    "start_time": "2023-07-14T21:48:22.164Z"
   },
   {
    "duration": 21,
    "start_time": "2023-07-14T21:48:22.202Z"
   },
   {
    "duration": 11,
    "start_time": "2023-07-14T21:48:22.224Z"
   },
   {
    "duration": 73,
    "start_time": "2023-07-14T21:48:22.237Z"
   },
   {
    "duration": 21,
    "start_time": "2023-07-14T21:48:22.312Z"
   }
  ],
  "kernelspec": {
   "display_name": "Python 3 (ipykernel)",
   "language": "python",
   "name": "python3"
  },
  "language_info": {
   "codemirror_mode": {
    "name": "ipython",
    "version": 3
   },
   "file_extension": ".py",
   "mimetype": "text/x-python",
   "name": "python",
   "nbconvert_exporter": "python",
   "pygments_lexer": "ipython3",
   "version": "3.11.5"
  },
  "toc": {
   "base_numbering": 1,
   "nav_menu": {
    "height": "331.968px",
    "width": "208.553px"
   },
   "number_sections": true,
   "sideBar": true,
   "skip_h1_title": true,
   "title_cell": "Table of Contents",
   "title_sidebar": "Contents",
   "toc_cell": false,
   "toc_position": {
    "height": "calc(100% - 180px)",
    "left": "10px",
    "top": "150px",
    "width": "164.961px"
   },
   "toc_section_display": true,
   "toc_window_display": true
  }
 },
 "nbformat": 4,
 "nbformat_minor": 2
}
