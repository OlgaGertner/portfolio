{
 "cells": [
  {
   "cell_type": "markdown",
   "metadata": {},
   "source": [
    "# Выпускной проект \"Исследование оттока клиентов Метанпромбанка\"\n",
    "\n",
    "**Объект исследования** – данные о клиентах банка «Метанпром»\n",
    "\n",
    "**Цель проекта** – изучение предпоссылок и выделение сегментов клиентов, которые склонны уходить из банка\n",
    "\n",
    "**Входные данные** — информация о киентах банка (файл bank_scrooge.csv), которая содержит принадлежность к филиалу банка (город), описательные данные клиентов и их банковскую историю\n",
    "\n",
    "В процессе работы будут реализованы следующие шаги (декомпозиция проекта):\n",
    "\n",
    "1. Загрузка и знакомство с данными\n",
    "2. Предобработка данных\n",
    "- проверка и изменение типов данных при необходимости/переименование названий столбцов;\n",
    "- проверка на явные и неявные дубликаты;\n",
    "- выявление и обработка пропусков;\n",
    "- создание дополнительных столбцов (кодирование)\n",
    "3. Исследовательский анализ данных\n",
    "- исследование распределения признаков оттока клиентов;\n",
    "- анализ портретов типичных клиентов, которые склонны и не склонны уходить из банка;\n",
    "- корреляционный анализ;\n",
    "- промежуточные итоги и выводы по результатам EDA.\n",
    "4. Формирование и проверка статистических гипотез\n",
    "- гипотеза 1 о влиянии доходов клиентов на отток;\n",
    "- проверка иных гипотез по результатам EDA;\n",
    "- промежуточные выводы по результатам статистического анализа данны\n",
    "5. Сегментация\n",
    "6. Приоритизация сегментов\n",
    "7. Формирование итоговых выводов и рекомендаций"
   ]
  },
  {
   "cell_type": "markdown",
   "metadata": {},
   "source": [
    "## Загрузка и знакомство с данными"
   ]
  },
  {
   "cell_type": "code",
   "execution_count": 1,
   "metadata": {},
   "outputs": [],
   "source": [
    "# импорируем библиотеки\n",
    "\n",
    "import pandas as pd\n",
    "from scipy import stats as st\n",
    "from scipy.stats import mode\n",
    "import matplotlib.pyplot as plt\n",
    "import seaborn as sns\n",
    "import numpy as np\n",
    "from plotly import graph_objects as go\n",
    "import plotly.express as px\n",
    "import os"
   ]
  },
  {
   "cell_type": "code",
   "execution_count": 2,
   "metadata": {},
   "outputs": [],
   "source": [
    "# выставляем ограничение на показ знаков после запятой\n",
    "pd.options.display.float_format = '{:,.2f}'.format"
   ]
  },
  {
   "cell_type": "code",
   "execution_count": 3,
   "metadata": {
    "scrolled": false
   },
   "outputs": [],
   "source": [
    "#загружаем данные\n",
    "\n",
    "data = pd.read_csv('/datasets/bank_scrooge.csv')"
   ]
  },
  {
   "cell_type": "code",
   "execution_count": 4,
   "metadata": {},
   "outputs": [
    {
     "name": "stdout",
     "output_type": "stream",
     "text": [
      "<class 'pandas.core.frame.DataFrame'>\n",
      "RangeIndex: 10000 entries, 0 to 9999\n",
      "Data columns (total 12 columns):\n",
      " #   Column         Non-Null Count  Dtype  \n",
      "---  ------         --------------  -----  \n",
      " 0   USERID         10000 non-null  int64  \n",
      " 1   score          10000 non-null  float64\n",
      " 2   city           10000 non-null  object \n",
      " 3   gender         10000 non-null  object \n",
      " 4   age            9974 non-null   float64\n",
      " 5   equity         10000 non-null  int64  \n",
      " 6   balance        7705 non-null   float64\n",
      " 7   products       10000 non-null  int64  \n",
      " 8   credit_card    10000 non-null  int64  \n",
      " 9   last_activity  10000 non-null  int64  \n",
      " 10  EST_SALARY     10000 non-null  float64\n",
      " 11  churn          10000 non-null  int64  \n",
      "dtypes: float64(4), int64(6), object(2)\n",
      "memory usage: 937.6+ KB\n"
     ]
    },
    {
     "data": {
      "text/html": [
       "<div>\n",
       "<style scoped>\n",
       "    .dataframe tbody tr th:only-of-type {\n",
       "        vertical-align: middle;\n",
       "    }\n",
       "\n",
       "    .dataframe tbody tr th {\n",
       "        vertical-align: top;\n",
       "    }\n",
       "\n",
       "    .dataframe thead th {\n",
       "        text-align: right;\n",
       "    }\n",
       "</style>\n",
       "<table border=\"1\" class=\"dataframe\">\n",
       "  <thead>\n",
       "    <tr style=\"text-align: right;\">\n",
       "      <th></th>\n",
       "      <th>USERID</th>\n",
       "      <th>score</th>\n",
       "      <th>city</th>\n",
       "      <th>gender</th>\n",
       "      <th>age</th>\n",
       "      <th>equity</th>\n",
       "      <th>balance</th>\n",
       "      <th>products</th>\n",
       "      <th>credit_card</th>\n",
       "      <th>last_activity</th>\n",
       "      <th>EST_SALARY</th>\n",
       "      <th>churn</th>\n",
       "    </tr>\n",
       "  </thead>\n",
       "  <tbody>\n",
       "    <tr>\n",
       "      <th>0</th>\n",
       "      <td>183012</td>\n",
       "      <td>850.00</td>\n",
       "      <td>Рыбинск</td>\n",
       "      <td>Ж</td>\n",
       "      <td>25.00</td>\n",
       "      <td>1</td>\n",
       "      <td>59,214.82</td>\n",
       "      <td>2</td>\n",
       "      <td>0</td>\n",
       "      <td>1</td>\n",
       "      <td>75,719.14</td>\n",
       "      <td>1</td>\n",
       "    </tr>\n",
       "    <tr>\n",
       "      <th>1</th>\n",
       "      <td>146556</td>\n",
       "      <td>861.00</td>\n",
       "      <td>Рыбинск</td>\n",
       "      <td>Ж</td>\n",
       "      <td>37.00</td>\n",
       "      <td>5</td>\n",
       "      <td>850,594.33</td>\n",
       "      <td>3</td>\n",
       "      <td>1</td>\n",
       "      <td>0</td>\n",
       "      <td>86,621.77</td>\n",
       "      <td>0</td>\n",
       "    </tr>\n",
       "    <tr>\n",
       "      <th>2</th>\n",
       "      <td>120722</td>\n",
       "      <td>892.00</td>\n",
       "      <td>Рыбинск</td>\n",
       "      <td>Ж</td>\n",
       "      <td>30.00</td>\n",
       "      <td>0</td>\n",
       "      <td>NaN</td>\n",
       "      <td>1</td>\n",
       "      <td>1</td>\n",
       "      <td>1</td>\n",
       "      <td>107,683.34</td>\n",
       "      <td>0</td>\n",
       "    </tr>\n",
       "    <tr>\n",
       "      <th>3</th>\n",
       "      <td>225363</td>\n",
       "      <td>866.00</td>\n",
       "      <td>Ярославль</td>\n",
       "      <td>Ж</td>\n",
       "      <td>51.00</td>\n",
       "      <td>5</td>\n",
       "      <td>1,524,746.26</td>\n",
       "      <td>2</td>\n",
       "      <td>0</td>\n",
       "      <td>1</td>\n",
       "      <td>174,423.53</td>\n",
       "      <td>1</td>\n",
       "    </tr>\n",
       "    <tr>\n",
       "      <th>4</th>\n",
       "      <td>157978</td>\n",
       "      <td>730.00</td>\n",
       "      <td>Ярославль</td>\n",
       "      <td>М</td>\n",
       "      <td>34.00</td>\n",
       "      <td>5</td>\n",
       "      <td>174.00</td>\n",
       "      <td>1</td>\n",
       "      <td>1</td>\n",
       "      <td>0</td>\n",
       "      <td>67,353.16</td>\n",
       "      <td>1</td>\n",
       "    </tr>\n",
       "    <tr>\n",
       "      <th>...</th>\n",
       "      <td>...</td>\n",
       "      <td>...</td>\n",
       "      <td>...</td>\n",
       "      <td>...</td>\n",
       "      <td>...</td>\n",
       "      <td>...</td>\n",
       "      <td>...</td>\n",
       "      <td>...</td>\n",
       "      <td>...</td>\n",
       "      <td>...</td>\n",
       "      <td>...</td>\n",
       "      <td>...</td>\n",
       "    </tr>\n",
       "    <tr>\n",
       "      <th>9995</th>\n",
       "      <td>120553</td>\n",
       "      <td>814.00</td>\n",
       "      <td>Рыбинск</td>\n",
       "      <td>М</td>\n",
       "      <td>27.00</td>\n",
       "      <td>1</td>\n",
       "      <td>78,144.65</td>\n",
       "      <td>1</td>\n",
       "      <td>0</td>\n",
       "      <td>1</td>\n",
       "      <td>18,943.64</td>\n",
       "      <td>0</td>\n",
       "    </tr>\n",
       "    <tr>\n",
       "      <th>9996</th>\n",
       "      <td>139170</td>\n",
       "      <td>894.00</td>\n",
       "      <td>Ярославль</td>\n",
       "      <td>М</td>\n",
       "      <td>46.00</td>\n",
       "      <td>0</td>\n",
       "      <td>NaN</td>\n",
       "      <td>1</td>\n",
       "      <td>1</td>\n",
       "      <td>0</td>\n",
       "      <td>196,898.29</td>\n",
       "      <td>0</td>\n",
       "    </tr>\n",
       "    <tr>\n",
       "      <th>9997</th>\n",
       "      <td>115639</td>\n",
       "      <td>903.00</td>\n",
       "      <td>Ярославль</td>\n",
       "      <td>М</td>\n",
       "      <td>24.00</td>\n",
       "      <td>0</td>\n",
       "      <td>NaN</td>\n",
       "      <td>2</td>\n",
       "      <td>1</td>\n",
       "      <td>1</td>\n",
       "      <td>108,905.09</td>\n",
       "      <td>0</td>\n",
       "    </tr>\n",
       "    <tr>\n",
       "      <th>9998</th>\n",
       "      <td>148700</td>\n",
       "      <td>777.00</td>\n",
       "      <td>Ярославль</td>\n",
       "      <td>Ж</td>\n",
       "      <td>68.00</td>\n",
       "      <td>3</td>\n",
       "      <td>865,457.97</td>\n",
       "      <td>3</td>\n",
       "      <td>0</td>\n",
       "      <td>1</td>\n",
       "      <td>86,874.90</td>\n",
       "      <td>0</td>\n",
       "    </tr>\n",
       "    <tr>\n",
       "      <th>9999</th>\n",
       "      <td>96267</td>\n",
       "      <td>828.00</td>\n",
       "      <td>Рыбинск</td>\n",
       "      <td>Ж</td>\n",
       "      <td>58.00</td>\n",
       "      <td>3</td>\n",
       "      <td>1,180,886.70</td>\n",
       "      <td>4</td>\n",
       "      <td>0</td>\n",
       "      <td>1</td>\n",
       "      <td>21,422.37</td>\n",
       "      <td>0</td>\n",
       "    </tr>\n",
       "  </tbody>\n",
       "</table>\n",
       "<p>10000 rows × 12 columns</p>\n",
       "</div>"
      ],
      "text/plain": [
       "      USERID  score       city gender   age  equity      balance  products  \\\n",
       "0     183012 850.00    Рыбинск      Ж 25.00       1    59,214.82         2   \n",
       "1     146556 861.00    Рыбинск      Ж 37.00       5   850,594.33         3   \n",
       "2     120722 892.00    Рыбинск      Ж 30.00       0          NaN         1   \n",
       "3     225363 866.00  Ярославль      Ж 51.00       5 1,524,746.26         2   \n",
       "4     157978 730.00  Ярославль      М 34.00       5       174.00         1   \n",
       "...      ...    ...        ...    ...   ...     ...          ...       ...   \n",
       "9995  120553 814.00    Рыбинск      М 27.00       1    78,144.65         1   \n",
       "9996  139170 894.00  Ярославль      М 46.00       0          NaN         1   \n",
       "9997  115639 903.00  Ярославль      М 24.00       0          NaN         2   \n",
       "9998  148700 777.00  Ярославль      Ж 68.00       3   865,457.97         3   \n",
       "9999   96267 828.00    Рыбинск      Ж 58.00       3 1,180,886.70         4   \n",
       "\n",
       "      credit_card  last_activity  EST_SALARY  churn  \n",
       "0               0              1   75,719.14      1  \n",
       "1               1              0   86,621.77      0  \n",
       "2               1              1  107,683.34      0  \n",
       "3               0              1  174,423.53      1  \n",
       "4               1              0   67,353.16      1  \n",
       "...           ...            ...         ...    ...  \n",
       "9995            0              1   18,943.64      0  \n",
       "9996            1              0  196,898.29      0  \n",
       "9997            1              1  108,905.09      0  \n",
       "9998            0              1   86,874.90      0  \n",
       "9999            0              1   21,422.37      0  \n",
       "\n",
       "[10000 rows x 12 columns]"
      ]
     },
     "execution_count": 4,
     "metadata": {},
     "output_type": "execute_result"
    }
   ],
   "source": [
    "# получаем информацию и представление о таблице\n",
    "data.info()\n",
    "\n",
    "data"
   ]
  },
  {
   "cell_type": "markdown",
   "metadata": {},
   "source": [
    "Загружены данные, по первому знакомству можно сделать следующие **ВЫВОДЫ:**\n",
    "- всего в датасете представлено 10000 записей, 12 столбцов с разной информацией\n",
    "- требуется переименовать столбцы, привести к нижнему регистру\n",
    "- типы данных столбцов соответствуют значениям\n",
    "- в столбцах `age` и  `balance` есть пропуски, далее мы их изучим подробней"
   ]
  },
  {
   "cell_type": "markdown",
   "metadata": {},
   "source": [
    "## Предобработка данных"
   ]
  },
  {
   "cell_type": "markdown",
   "metadata": {},
   "source": [
    "### Переименование столбцов"
   ]
  },
  {
   "cell_type": "code",
   "execution_count": 5,
   "metadata": {},
   "outputs": [
    {
     "data": {
      "text/plain": [
       "Index(['user_id', 'score', 'city', 'gender', 'age', 'equity', 'balance',\n",
       "       'products', 'credit_card', 'last_activity', 'est_salary', 'churn'],\n",
       "      dtype='object')"
      ]
     },
     "execution_count": 5,
     "metadata": {},
     "output_type": "execute_result"
    }
   ],
   "source": [
    "# приведем названия столбцов к нижнему регистру и переименуем\n",
    "\n",
    "data.columns = data.columns.str.lower()\n",
    "\n",
    "data = data.rename(columns={'userid': 'user_id'})\n",
    "\n",
    "data.columns"
   ]
  },
  {
   "cell_type": "markdown",
   "metadata": {},
   "source": [
    "### Проверка на дубликаты"
   ]
  },
  {
   "cell_type": "code",
   "execution_count": 6,
   "metadata": {},
   "outputs": [
    {
     "data": {
      "text/plain": [
       "0"
      ]
     },
     "execution_count": 6,
     "metadata": {},
     "output_type": "execute_result"
    }
   ],
   "source": [
    "#проверим данные на дубликаты\n",
    "\n",
    "data.duplicated().sum()"
   ]
  },
  {
   "cell_type": "code",
   "execution_count": 7,
   "metadata": {},
   "outputs": [
    {
     "data": {
      "text/plain": [
       "73"
      ]
     },
     "execution_count": 7,
     "metadata": {},
     "output_type": "execute_result"
    }
   ],
   "source": [
    "# проверим на дубликаты по userid\n",
    "\n",
    "data.duplicated(subset='user_id').sum()"
   ]
  },
  {
   "cell_type": "code",
   "execution_count": 8,
   "metadata": {},
   "outputs": [
    {
     "data": {
      "text/html": [
       "<div>\n",
       "<style scoped>\n",
       "    .dataframe tbody tr th:only-of-type {\n",
       "        vertical-align: middle;\n",
       "    }\n",
       "\n",
       "    .dataframe tbody tr th {\n",
       "        vertical-align: top;\n",
       "    }\n",
       "\n",
       "    .dataframe thead th {\n",
       "        text-align: right;\n",
       "    }\n",
       "</style>\n",
       "<table border=\"1\" class=\"dataframe\">\n",
       "  <thead>\n",
       "    <tr style=\"text-align: right;\">\n",
       "      <th></th>\n",
       "      <th>user_id</th>\n",
       "      <th>score</th>\n",
       "      <th>city</th>\n",
       "      <th>gender</th>\n",
       "      <th>age</th>\n",
       "      <th>equity</th>\n",
       "      <th>balance</th>\n",
       "      <th>products</th>\n",
       "      <th>credit_card</th>\n",
       "      <th>last_activity</th>\n",
       "      <th>est_salary</th>\n",
       "      <th>churn</th>\n",
       "    </tr>\n",
       "  </thead>\n",
       "  <tbody>\n",
       "    <tr>\n",
       "      <th>1893</th>\n",
       "      <td>116540</td>\n",
       "      <td>883.00</td>\n",
       "      <td>Рыбинск</td>\n",
       "      <td>Ж</td>\n",
       "      <td>55.00</td>\n",
       "      <td>1</td>\n",
       "      <td>362,756.49</td>\n",
       "      <td>3</td>\n",
       "      <td>0</td>\n",
       "      <td>1</td>\n",
       "      <td>175,920.48</td>\n",
       "      <td>1</td>\n",
       "    </tr>\n",
       "    <tr>\n",
       "      <th>7694</th>\n",
       "      <td>116540</td>\n",
       "      <td>887.00</td>\n",
       "      <td>Ярославль</td>\n",
       "      <td>Ж</td>\n",
       "      <td>38.00</td>\n",
       "      <td>0</td>\n",
       "      <td>NaN</td>\n",
       "      <td>1</td>\n",
       "      <td>0</td>\n",
       "      <td>1</td>\n",
       "      <td>119,247.61</td>\n",
       "      <td>0</td>\n",
       "    </tr>\n",
       "    <tr>\n",
       "      <th>7542</th>\n",
       "      <td>117943</td>\n",
       "      <td>880.00</td>\n",
       "      <td>Ярославль</td>\n",
       "      <td>Ж</td>\n",
       "      <td>40.00</td>\n",
       "      <td>0</td>\n",
       "      <td>NaN</td>\n",
       "      <td>1</td>\n",
       "      <td>1</td>\n",
       "      <td>0</td>\n",
       "      <td>137,718.93</td>\n",
       "      <td>0</td>\n",
       "    </tr>\n",
       "    <tr>\n",
       "      <th>4866</th>\n",
       "      <td>117943</td>\n",
       "      <td>855.00</td>\n",
       "      <td>Рыбинск</td>\n",
       "      <td>Ж</td>\n",
       "      <td>32.00</td>\n",
       "      <td>6</td>\n",
       "      <td>1,036,832.93</td>\n",
       "      <td>4</td>\n",
       "      <td>1</td>\n",
       "      <td>1</td>\n",
       "      <td>107,792.71</td>\n",
       "      <td>1</td>\n",
       "    </tr>\n",
       "    <tr>\n",
       "      <th>5896</th>\n",
       "      <td>120258</td>\n",
       "      <td>905.00</td>\n",
       "      <td>Ярославль</td>\n",
       "      <td>М</td>\n",
       "      <td>30.00</td>\n",
       "      <td>0</td>\n",
       "      <td>NaN</td>\n",
       "      <td>1</td>\n",
       "      <td>1</td>\n",
       "      <td>1</td>\n",
       "      <td>146,427.96</td>\n",
       "      <td>0</td>\n",
       "    </tr>\n",
       "    <tr>\n",
       "      <th>...</th>\n",
       "      <td>...</td>\n",
       "      <td>...</td>\n",
       "      <td>...</td>\n",
       "      <td>...</td>\n",
       "      <td>...</td>\n",
       "      <td>...</td>\n",
       "      <td>...</td>\n",
       "      <td>...</td>\n",
       "      <td>...</td>\n",
       "      <td>...</td>\n",
       "      <td>...</td>\n",
       "      <td>...</td>\n",
       "    </tr>\n",
       "    <tr>\n",
       "      <th>2597</th>\n",
       "      <td>226719</td>\n",
       "      <td>990.00</td>\n",
       "      <td>Ярославль</td>\n",
       "      <td>М</td>\n",
       "      <td>37.00</td>\n",
       "      <td>4</td>\n",
       "      <td>14,648,692.14</td>\n",
       "      <td>2</td>\n",
       "      <td>0</td>\n",
       "      <td>0</td>\n",
       "      <td>934,412.61</td>\n",
       "      <td>1</td>\n",
       "    </tr>\n",
       "    <tr>\n",
       "      <th>8205</th>\n",
       "      <td>227795</td>\n",
       "      <td>840.00</td>\n",
       "      <td>Рыбинск</td>\n",
       "      <td>М</td>\n",
       "      <td>34.00</td>\n",
       "      <td>2</td>\n",
       "      <td>350,768.03</td>\n",
       "      <td>1</td>\n",
       "      <td>1</td>\n",
       "      <td>0</td>\n",
       "      <td>102,036.14</td>\n",
       "      <td>1</td>\n",
       "    </tr>\n",
       "    <tr>\n",
       "      <th>8497</th>\n",
       "      <td>227795</td>\n",
       "      <td>839.00</td>\n",
       "      <td>Ярославль</td>\n",
       "      <td>М</td>\n",
       "      <td>34.00</td>\n",
       "      <td>2</td>\n",
       "      <td>326,593.14</td>\n",
       "      <td>2</td>\n",
       "      <td>1</td>\n",
       "      <td>0</td>\n",
       "      <td>103,314.92</td>\n",
       "      <td>0</td>\n",
       "    </tr>\n",
       "    <tr>\n",
       "      <th>6457</th>\n",
       "      <td>228075</td>\n",
       "      <td>839.00</td>\n",
       "      <td>Рыбинск</td>\n",
       "      <td>М</td>\n",
       "      <td>39.00</td>\n",
       "      <td>5</td>\n",
       "      <td>507,199.85</td>\n",
       "      <td>3</td>\n",
       "      <td>0</td>\n",
       "      <td>1</td>\n",
       "      <td>85,195.80</td>\n",
       "      <td>0</td>\n",
       "    </tr>\n",
       "    <tr>\n",
       "      <th>1247</th>\n",
       "      <td>228075</td>\n",
       "      <td>932.00</td>\n",
       "      <td>Ярославль</td>\n",
       "      <td>М</td>\n",
       "      <td>NaN</td>\n",
       "      <td>5</td>\n",
       "      <td>7,601,719.20</td>\n",
       "      <td>2</td>\n",
       "      <td>1</td>\n",
       "      <td>1</td>\n",
       "      <td>408,121.16</td>\n",
       "      <td>0</td>\n",
       "    </tr>\n",
       "  </tbody>\n",
       "</table>\n",
       "<p>146 rows × 12 columns</p>\n",
       "</div>"
      ],
      "text/plain": [
       "      user_id  score       city gender   age  equity       balance  products  \\\n",
       "1893   116540 883.00    Рыбинск      Ж 55.00       1    362,756.49         3   \n",
       "7694   116540 887.00  Ярославль      Ж 38.00       0           NaN         1   \n",
       "7542   117943 880.00  Ярославль      Ж 40.00       0           NaN         1   \n",
       "4866   117943 855.00    Рыбинск      Ж 32.00       6  1,036,832.93         4   \n",
       "5896   120258 905.00  Ярославль      М 30.00       0           NaN         1   \n",
       "...       ...    ...        ...    ...   ...     ...           ...       ...   \n",
       "2597   226719 990.00  Ярославль      М 37.00       4 14,648,692.14         2   \n",
       "8205   227795 840.00    Рыбинск      М 34.00       2    350,768.03         1   \n",
       "8497   227795 839.00  Ярославль      М 34.00       2    326,593.14         2   \n",
       "6457   228075 839.00    Рыбинск      М 39.00       5    507,199.85         3   \n",
       "1247   228075 932.00  Ярославль      М   NaN       5  7,601,719.20         2   \n",
       "\n",
       "      credit_card  last_activity  est_salary  churn  \n",
       "1893            0              1  175,920.48      1  \n",
       "7694            0              1  119,247.61      0  \n",
       "7542            1              0  137,718.93      0  \n",
       "4866            1              1  107,792.71      1  \n",
       "5896            1              1  146,427.96      0  \n",
       "...           ...            ...         ...    ...  \n",
       "2597            0              0  934,412.61      1  \n",
       "8205            1              0  102,036.14      1  \n",
       "8497            1              0  103,314.92      0  \n",
       "6457            0              1   85,195.80      0  \n",
       "1247            1              1  408,121.16      0  \n",
       "\n",
       "[146 rows x 12 columns]"
      ]
     },
     "execution_count": 8,
     "metadata": {},
     "output_type": "execute_result"
    }
   ],
   "source": [
    "# выведем их для ознакомления\n",
    "\n",
    "data[data.duplicated('user_id',keep=False)].sort_values(by='user_id')"
   ]
  },
  {
   "cell_type": "markdown",
   "metadata": {},
   "source": [
    "Мы видим, что дубликаты по `userid` представлены в разных городах. Подтвердим это срезами по городам."
   ]
  },
  {
   "cell_type": "code",
   "execution_count": 9,
   "metadata": {},
   "outputs": [
    {
     "name": "stdout",
     "output_type": "stream",
     "text": [
      "0\n",
      "0\n"
     ]
    },
    {
     "data": {
      "text/plain": [
       "0"
      ]
     },
     "execution_count": 9,
     "metadata": {},
     "output_type": "execute_result"
    }
   ],
   "source": [
    "# проверим дубликаты по userid на срезах по городам\n",
    "\n",
    "print(data.query('city ==\"Рыбинск\"').duplicated(subset='user_id').sum())\n",
    "\n",
    "print(data.query('city ==\"Ярославль\"').duplicated(subset='user_id').sum())\n",
    "\n",
    "data.query('city ==\"Ростов\"').duplicated(subset='user_id').sum()"
   ]
  },
  {
   "cell_type": "markdown",
   "metadata": {},
   "source": [
    "Предположение верное, поэтому удалять их не будем, это может быть  связано с тем, что в разных городах может быть разная система учета и присвоения id клиентам (так как есть клиенты с одинаковым id, но критично разным возрастом). Информацию о том, является ли база клиентов единой по городам стоит уточнить. "
   ]
  },
  {
   "cell_type": "code",
   "execution_count": 10,
   "metadata": {},
   "outputs": [
    {
     "name": "stdout",
     "output_type": "stream",
     "text": [
      "Город: ['Рыбинск' 'Ярославль' 'Ростов']\n",
      "\n",
      "Пол: ['Ж' 'М']\n",
      "\n",
      "Наличие кредитной карты: [0 1]\n",
      "\n",
      "Активность клиента: [1 0]\n",
      "\n",
      "\n"
     ]
    },
    {
     "data": {
      "text/plain": [
       "'Количество продуктов: [2 3 1 4 5 0]'"
      ]
     },
     "execution_count": 10,
     "metadata": {},
     "output_type": "execute_result"
    }
   ],
   "source": [
    "# проверим некоторые столбцы на неявные дубликаты и представленные уникальные значения \n",
    "\n",
    "print(f\"Город: {data['city'].unique()}\")\n",
    "print()\n",
    "print(f\"Пол: {data['gender'].unique()}\")\n",
    "print()\n",
    "print(f\"Наличие кредитной карты: {data['credit_card'].unique()}\")\n",
    "print()\n",
    "print(f\"Активность клиента: {data['last_activity'].unique()}\")\n",
    "print()\n",
    "f\"Отток клиентов: {data['churn'].unique()}\"\n",
    "print()\n",
    "f\"Количество продуктов: {data['products'].unique()}\""
   ]
  },
  {
   "cell_type": "markdown",
   "metadata": {},
   "source": [
    "Представлены 3 города - Рыбинск, Ярославль, Ростов; неявных дубликатов не выявлено.\n",
    "\n",
    "Отметим, что есть клиенты с нулевым количеством продуктов, это аномалия, посмотрим на количество таких записей."
   ]
  },
  {
   "cell_type": "code",
   "execution_count": 11,
   "metadata": {},
   "outputs": [
    {
     "data": {
      "text/plain": [
       "1"
      ]
     },
     "execution_count": 11,
     "metadata": {},
     "output_type": "execute_result"
    }
   ],
   "source": [
    "data.query('products == 0')['user_id'].count()"
   ]
  },
  {
   "cell_type": "markdown",
   "metadata": {},
   "source": [
    "Только одна запись, скорее всего техническая ошибка, можем удалить ее из базы."
   ]
  },
  {
   "cell_type": "code",
   "execution_count": 12,
   "metadata": {},
   "outputs": [
    {
     "name": "stdout",
     "output_type": "stream",
     "text": [
      "<class 'pandas.core.frame.DataFrame'>\n",
      "Int64Index: 9999 entries, 0 to 9999\n",
      "Data columns (total 12 columns):\n",
      " #   Column         Non-Null Count  Dtype  \n",
      "---  ------         --------------  -----  \n",
      " 0   user_id        9999 non-null   int64  \n",
      " 1   score          9999 non-null   float64\n",
      " 2   city           9999 non-null   object \n",
      " 3   gender         9999 non-null   object \n",
      " 4   age            9973 non-null   float64\n",
      " 5   equity         9999 non-null   int64  \n",
      " 6   balance        7705 non-null   float64\n",
      " 7   products       9999 non-null   int64  \n",
      " 8   credit_card    9999 non-null   int64  \n",
      " 9   last_activity  9999 non-null   int64  \n",
      " 10  est_salary     9999 non-null   float64\n",
      " 11  churn          9999 non-null   int64  \n",
      "dtypes: float64(4), int64(6), object(2)\n",
      "memory usage: 1015.5+ KB\n"
     ]
    }
   ],
   "source": [
    "data = data.query('products > 0')\n",
    "\n",
    "data.info()"
   ]
  },
  {
   "cell_type": "markdown",
   "metadata": {},
   "source": [
    "### Обработка пропусков"
   ]
  },
  {
   "cell_type": "code",
   "execution_count": 13,
   "metadata": {
    "scrolled": true
   },
   "outputs": [
    {
     "data": {
      "text/plain": [
       "user_id          0.00\n",
       "score            0.00\n",
       "city             0.00\n",
       "gender           0.00\n",
       "equity           0.00\n",
       "products         0.00\n",
       "credit_card      0.00\n",
       "last_activity    0.00\n",
       "est_salary       0.00\n",
       "churn            0.00\n",
       "age              0.26\n",
       "balance         22.94\n",
       "dtype: float64"
      ]
     },
     "execution_count": 13,
     "metadata": {},
     "output_type": "execute_result"
    }
   ],
   "source": [
    "# посмотрим процент пропусков\n",
    "\n",
    "(data.isna().mean()*100).sort_values()"
   ]
  },
  {
   "cell_type": "markdown",
   "metadata": {},
   "source": [
    "По столбцу `age` пропусков всего 0,3%, поэтому можно их удалить"
   ]
  },
  {
   "cell_type": "code",
   "execution_count": 14,
   "metadata": {
    "scrolled": true
   },
   "outputs": [
    {
     "name": "stdout",
     "output_type": "stream",
     "text": [
      "<class 'pandas.core.frame.DataFrame'>\n",
      "RangeIndex: 9973 entries, 0 to 9972\n",
      "Data columns (total 12 columns):\n",
      " #   Column         Non-Null Count  Dtype  \n",
      "---  ------         --------------  -----  \n",
      " 0   user_id        9973 non-null   int64  \n",
      " 1   score          9973 non-null   float64\n",
      " 2   city           9973 non-null   object \n",
      " 3   gender         9973 non-null   object \n",
      " 4   age            9973 non-null   float64\n",
      " 5   equity         9973 non-null   int64  \n",
      " 6   balance        7695 non-null   float64\n",
      " 7   products       9973 non-null   int64  \n",
      " 8   credit_card    9973 non-null   int64  \n",
      " 9   last_activity  9973 non-null   int64  \n",
      " 10  est_salary     9973 non-null   float64\n",
      " 11  churn          9973 non-null   int64  \n",
      "dtypes: float64(4), int64(6), object(2)\n",
      "memory usage: 935.1+ KB\n"
     ]
    }
   ],
   "source": [
    "data = data.dropna(subset=['age']).reset_index(drop=True)\n",
    "\n",
    "data.info()"
   ]
  },
  {
   "cell_type": "markdown",
   "metadata": {},
   "source": [
    "По столбцу `balance` пропусков 23%, выясним их зависимость от данных"
   ]
  },
  {
   "cell_type": "code",
   "execution_count": 15,
   "metadata": {
    "scrolled": false
   },
   "outputs": [
    {
     "data": {
      "text/html": [
       "<div>\n",
       "<style scoped>\n",
       "    .dataframe tbody tr th:only-of-type {\n",
       "        vertical-align: middle;\n",
       "    }\n",
       "\n",
       "    .dataframe tbody tr th {\n",
       "        vertical-align: top;\n",
       "    }\n",
       "\n",
       "    .dataframe thead th {\n",
       "        text-align: right;\n",
       "    }\n",
       "</style>\n",
       "<table border=\"1\" class=\"dataframe\">\n",
       "  <thead>\n",
       "    <tr style=\"text-align: right;\">\n",
       "      <th></th>\n",
       "      <th>user_id</th>\n",
       "      <th>score</th>\n",
       "      <th>city</th>\n",
       "      <th>gender</th>\n",
       "      <th>age</th>\n",
       "      <th>equity</th>\n",
       "      <th>balance</th>\n",
       "      <th>products</th>\n",
       "      <th>credit_card</th>\n",
       "      <th>last_activity</th>\n",
       "      <th>est_salary</th>\n",
       "      <th>churn</th>\n",
       "      <th>balance_na</th>\n",
       "    </tr>\n",
       "  </thead>\n",
       "  <tbody>\n",
       "    <tr>\n",
       "      <th>0</th>\n",
       "      <td>183012</td>\n",
       "      <td>850.00</td>\n",
       "      <td>Рыбинск</td>\n",
       "      <td>Ж</td>\n",
       "      <td>25.00</td>\n",
       "      <td>1</td>\n",
       "      <td>59,214.82</td>\n",
       "      <td>2</td>\n",
       "      <td>0</td>\n",
       "      <td>1</td>\n",
       "      <td>75,719.14</td>\n",
       "      <td>1</td>\n",
       "      <td>0</td>\n",
       "    </tr>\n",
       "    <tr>\n",
       "      <th>1</th>\n",
       "      <td>146556</td>\n",
       "      <td>861.00</td>\n",
       "      <td>Рыбинск</td>\n",
       "      <td>Ж</td>\n",
       "      <td>37.00</td>\n",
       "      <td>5</td>\n",
       "      <td>850,594.33</td>\n",
       "      <td>3</td>\n",
       "      <td>1</td>\n",
       "      <td>0</td>\n",
       "      <td>86,621.77</td>\n",
       "      <td>0</td>\n",
       "      <td>0</td>\n",
       "    </tr>\n",
       "    <tr>\n",
       "      <th>2</th>\n",
       "      <td>120722</td>\n",
       "      <td>892.00</td>\n",
       "      <td>Рыбинск</td>\n",
       "      <td>Ж</td>\n",
       "      <td>30.00</td>\n",
       "      <td>0</td>\n",
       "      <td>NaN</td>\n",
       "      <td>1</td>\n",
       "      <td>1</td>\n",
       "      <td>1</td>\n",
       "      <td>107,683.34</td>\n",
       "      <td>0</td>\n",
       "      <td>1</td>\n",
       "    </tr>\n",
       "    <tr>\n",
       "      <th>3</th>\n",
       "      <td>225363</td>\n",
       "      <td>866.00</td>\n",
       "      <td>Ярославль</td>\n",
       "      <td>Ж</td>\n",
       "      <td>51.00</td>\n",
       "      <td>5</td>\n",
       "      <td>1,524,746.26</td>\n",
       "      <td>2</td>\n",
       "      <td>0</td>\n",
       "      <td>1</td>\n",
       "      <td>174,423.53</td>\n",
       "      <td>1</td>\n",
       "      <td>0</td>\n",
       "    </tr>\n",
       "    <tr>\n",
       "      <th>4</th>\n",
       "      <td>157978</td>\n",
       "      <td>730.00</td>\n",
       "      <td>Ярославль</td>\n",
       "      <td>М</td>\n",
       "      <td>34.00</td>\n",
       "      <td>5</td>\n",
       "      <td>174.00</td>\n",
       "      <td>1</td>\n",
       "      <td>1</td>\n",
       "      <td>0</td>\n",
       "      <td>67,353.16</td>\n",
       "      <td>1</td>\n",
       "      <td>0</td>\n",
       "    </tr>\n",
       "  </tbody>\n",
       "</table>\n",
       "</div>"
      ],
      "text/plain": [
       "   user_id  score       city gender   age  equity      balance  products  \\\n",
       "0   183012 850.00    Рыбинск      Ж 25.00       1    59,214.82         2   \n",
       "1   146556 861.00    Рыбинск      Ж 37.00       5   850,594.33         3   \n",
       "2   120722 892.00    Рыбинск      Ж 30.00       0          NaN         1   \n",
       "3   225363 866.00  Ярославль      Ж 51.00       5 1,524,746.26         2   \n",
       "4   157978 730.00  Ярославль      М 34.00       5       174.00         1   \n",
       "\n",
       "   credit_card  last_activity  est_salary  churn  balance_na  \n",
       "0            0              1   75,719.14      1           0  \n",
       "1            1              0   86,621.77      0           0  \n",
       "2            1              1  107,683.34      0           1  \n",
       "3            0              1  174,423.53      1           0  \n",
       "4            1              0   67,353.16      1           0  "
      ]
     },
     "execution_count": 15,
     "metadata": {},
     "output_type": "execute_result"
    }
   ],
   "source": [
    "# создадим новый столбец и присвоем признак 1 для пропущенных значений и 0 для иных\n",
    "\n",
    "data['balance_na'] = np.where(data['balance'].isnull(),1,0)\n",
    "\n",
    "data.head()"
   ]
  },
  {
   "cell_type": "code",
   "execution_count": 16,
   "metadata": {},
   "outputs": [
    {
     "data": {
      "text/html": [
       "<div>\n",
       "<style scoped>\n",
       "    .dataframe tbody tr th:only-of-type {\n",
       "        vertical-align: middle;\n",
       "    }\n",
       "\n",
       "    .dataframe tbody tr th {\n",
       "        vertical-align: top;\n",
       "    }\n",
       "\n",
       "    .dataframe thead th {\n",
       "        text-align: right;\n",
       "    }\n",
       "</style>\n",
       "<table border=\"1\" class=\"dataframe\">\n",
       "  <thead>\n",
       "    <tr style=\"text-align: right;\">\n",
       "      <th></th>\n",
       "      <th>fill</th>\n",
       "      <th>miss</th>\n",
       "      <th>diff_per</th>\n",
       "    </tr>\n",
       "  </thead>\n",
       "  <tbody>\n",
       "    <tr>\n",
       "      <th>age</th>\n",
       "      <td>42.92</td>\n",
       "      <td>42.08</td>\n",
       "      <td>-0.02</td>\n",
       "    </tr>\n",
       "    <tr>\n",
       "      <th>credit_card</th>\n",
       "      <td>1.00</td>\n",
       "      <td>1.00</td>\n",
       "      <td>0.00</td>\n",
       "    </tr>\n",
       "    <tr>\n",
       "      <th>equity</th>\n",
       "      <td>4.00</td>\n",
       "      <td>0.00</td>\n",
       "      <td>-1.00</td>\n",
       "    </tr>\n",
       "    <tr>\n",
       "      <th>est_salary</th>\n",
       "      <td>124,520.39</td>\n",
       "      <td>226,433.78</td>\n",
       "      <td>0.82</td>\n",
       "    </tr>\n",
       "    <tr>\n",
       "      <th>last_activity</th>\n",
       "      <td>1.00</td>\n",
       "      <td>1.00</td>\n",
       "      <td>0.00</td>\n",
       "    </tr>\n",
       "    <tr>\n",
       "      <th>products</th>\n",
       "      <td>2.00</td>\n",
       "      <td>1.00</td>\n",
       "      <td>-0.50</td>\n",
       "    </tr>\n",
       "    <tr>\n",
       "      <th>score</th>\n",
       "      <td>843.74</td>\n",
       "      <td>865.31</td>\n",
       "      <td>0.03</td>\n",
       "    </tr>\n",
       "  </tbody>\n",
       "</table>\n",
       "</div>"
      ],
      "text/plain": [
       "                    fill       miss  diff_per\n",
       "age                42.92      42.08     -0.02\n",
       "credit_card         1.00       1.00      0.00\n",
       "equity              4.00       0.00     -1.00\n",
       "est_salary    124,520.39 226,433.78      0.82\n",
       "last_activity       1.00       1.00      0.00\n",
       "products            2.00       1.00     -0.50\n",
       "score             843.74     865.31      0.03"
      ]
     },
     "execution_count": 16,
     "metadata": {},
     "output_type": "execute_result"
    }
   ],
   "source": [
    "# построим сводную таблицу для определения зависимостей по другим столбцам\n",
    "#сначала по числовым\n",
    "\n",
    "agg_func = {\"score\": 'mean',\"age\": 'mean',\n",
    "                           \"equity\": 'median',\n",
    "                           \"products\": 'median',\"credit_card\": 'median',\n",
    "                           \"last_activity\": 'median',\"est_salary\": 'mean'}\n",
    "\n",
    "piv_balance_na = data.pivot_table(columns='balance_na',\n",
    "                   values=['score','age','equity',\n",
    "                           'products','credit_card',\n",
    "                           'last_activity','est_salary'],\n",
    "                   aggfunc=agg_func)\n",
    "\n",
    "piv_balance_na.columns = [ 'fill', 'miss']\n",
    "\n",
    "piv_balance_na['diff_per'] = piv_balance_na['miss']/piv_balance_na['fill']-1\n",
    "\n",
    "piv_balance_na"
   ]
  },
  {
   "cell_type": "code",
   "execution_count": 17,
   "metadata": {},
   "outputs": [],
   "source": [
    "# теперь еще одну сводную таблицу по строковым\n",
    "\n",
    "piv_balance_na_plus = data.pivot_table(columns='balance_na',values=['gender','city'],\n",
    "                   aggfunc={\"gender\": pd.Series.mode,\"city\": pd.Series.mode})\n",
    "\n",
    "piv_balance_na_plus.columns = [ 'fill', 'miss']"
   ]
  },
  {
   "cell_type": "code",
   "execution_count": 18,
   "metadata": {
    "scrolled": true
   },
   "outputs": [
    {
     "data": {
      "text/html": [
       "<div>\n",
       "<style scoped>\n",
       "    .dataframe tbody tr th:only-of-type {\n",
       "        vertical-align: middle;\n",
       "    }\n",
       "\n",
       "    .dataframe tbody tr th {\n",
       "        vertical-align: top;\n",
       "    }\n",
       "\n",
       "    .dataframe thead th {\n",
       "        text-align: right;\n",
       "    }\n",
       "</style>\n",
       "<table border=\"1\" class=\"dataframe\">\n",
       "  <thead>\n",
       "    <tr style=\"text-align: right;\">\n",
       "      <th></th>\n",
       "      <th>fill</th>\n",
       "      <th>miss</th>\n",
       "      <th>diff_per</th>\n",
       "    </tr>\n",
       "  </thead>\n",
       "  <tbody>\n",
       "    <tr>\n",
       "      <th>age</th>\n",
       "      <td>42.92</td>\n",
       "      <td>42.08</td>\n",
       "      <td>-0.02</td>\n",
       "    </tr>\n",
       "    <tr>\n",
       "      <th>credit_card</th>\n",
       "      <td>1.00</td>\n",
       "      <td>1.00</td>\n",
       "      <td>0.00</td>\n",
       "    </tr>\n",
       "    <tr>\n",
       "      <th>equity</th>\n",
       "      <td>4.00</td>\n",
       "      <td>0.00</td>\n",
       "      <td>-1.00</td>\n",
       "    </tr>\n",
       "    <tr>\n",
       "      <th>est_salary</th>\n",
       "      <td>124,520.39</td>\n",
       "      <td>226,433.78</td>\n",
       "      <td>0.82</td>\n",
       "    </tr>\n",
       "    <tr>\n",
       "      <th>last_activity</th>\n",
       "      <td>1.00</td>\n",
       "      <td>1.00</td>\n",
       "      <td>0.00</td>\n",
       "    </tr>\n",
       "    <tr>\n",
       "      <th>products</th>\n",
       "      <td>2.00</td>\n",
       "      <td>1.00</td>\n",
       "      <td>-0.50</td>\n",
       "    </tr>\n",
       "    <tr>\n",
       "      <th>score</th>\n",
       "      <td>843.74</td>\n",
       "      <td>865.31</td>\n",
       "      <td>0.03</td>\n",
       "    </tr>\n",
       "    <tr>\n",
       "      <th>city</th>\n",
       "      <td>Ярославль</td>\n",
       "      <td>Ярославль</td>\n",
       "      <td>NaN</td>\n",
       "    </tr>\n",
       "    <tr>\n",
       "      <th>gender</th>\n",
       "      <td>Ж</td>\n",
       "      <td>М</td>\n",
       "      <td>NaN</td>\n",
       "    </tr>\n",
       "  </tbody>\n",
       "</table>\n",
       "</div>"
      ],
      "text/plain": [
       "                    fill       miss  diff_per\n",
       "age                42.92      42.08     -0.02\n",
       "credit_card         1.00       1.00      0.00\n",
       "equity              4.00       0.00     -1.00\n",
       "est_salary    124,520.39 226,433.78      0.82\n",
       "last_activity       1.00       1.00      0.00\n",
       "products            2.00       1.00     -0.50\n",
       "score             843.74     865.31      0.03\n",
       "city           Ярославль  Ярославль       NaN\n",
       "gender                 Ж          М       NaN"
      ]
     },
     "execution_count": 18,
     "metadata": {},
     "output_type": "execute_result"
    }
   ],
   "source": [
    "# склеим таблицы\n",
    "\n",
    "piv_balance_na = piv_balance_na.append(piv_balance_na_plus)\n",
    "\n",
    "piv_balance_na"
   ]
  },
  {
   "cell_type": "markdown",
   "metadata": {},
   "source": [
    "Из таблицы видно, что разница существенна по столбцам `equity`, `est_salary` и `products`. Посмотрим еще на распределение по полу. Для более подробного выяснения рассчитаем коэффициент корреляции методом Пирсона, также посмотрим по отдельным показателям количество записей в долях."
   ]
  },
  {
   "cell_type": "code",
   "execution_count": 19,
   "metadata": {
    "scrolled": false
   },
   "outputs": [
    {
     "name": "stdout",
     "output_type": "stream",
     "text": [
      "equity  balance_na\n",
      "0       1            0.84\n",
      "        0            0.16\n",
      "1       0            0.85\n",
      "        1            0.15\n",
      "2       0            1.00\n",
      "3       0            1.00\n",
      "4       0            1.00\n",
      "5       0            1.00\n",
      "6       0            1.00\n",
      "7       0            1.00\n",
      "8       0            1.00\n",
      "9       0            1.00\n",
      "Name: balance_na, dtype: float64\n",
      "\n",
      "products  balance_na\n",
      "1         1            0.58\n",
      "          0            0.42\n",
      "2         0            0.94\n",
      "          1            0.06\n",
      "3         0            0.97\n",
      "          1            0.03\n",
      "4         0            1.00\n",
      "5         0            1.00\n",
      "Name: balance_na, dtype: float64\n",
      "\n",
      "gender  balance_na\n",
      "Ж       0            0.80\n",
      "        1            0.20\n",
      "М       0            0.75\n",
      "        1            0.25\n",
      "Name: balance_na, dtype: float64\n",
      "\n"
     ]
    }
   ],
   "source": [
    "# смотрим количество записей\n",
    "\n",
    "for i in ['equity','products','gender']:\n",
    "    print(data.groupby([i]) ['balance_na'].value_counts(normalize=True))\n",
    "    print('')"
   ]
  },
  {
   "cell_type": "markdown",
   "metadata": {},
   "source": [
    "Действительно по собственности явно выражена взаимосвязь - если нет объектов, то нет данных по балансу. По продуктам тоже есть зависимость. у клиентов с 1 продуктом больше пропусков - если 1 продукт, это может быть кредитная карта, которая не активирована или нестандартные услуги банка типа страховки и пр., где не требуется наличие в данном банке баланса. А вот по полу мы видим, что процент пропущенных значений практически идентичен по мужчинам и женщинам.\n",
    "Требуется еще проверить средний доход, сделаем это через коэффициент корреляции и заодно другие тоже параметры посмотрим."
   ]
  },
  {
   "cell_type": "code",
   "execution_count": 20,
   "metadata": {},
   "outputs": [
    {
     "name": "stdout",
     "output_type": "stream",
     "text": [
      "Корреляция с  equity составляет: -0.7091912390834717\n",
      "Корреляция с  products составляет: -0.48601481763595394\n",
      "Корреляция с  est_salary составляет: 0.3071832439811159\n"
     ]
    }
   ],
   "source": [
    "#корреляция (method='pearson')\n",
    "\n",
    "for i in ['equity','products',\n",
    "          'est_salary']:\n",
    "    print(f\"Корреляция с  {i} составляет: {data[i].corr(data['balance_na'])}\")"
   ]
  },
  {
   "cell_type": "markdown",
   "metadata": {
    "scrolled": true
   },
   "source": [
    "Корреляция с `est_salary`есть, но не очень сильная. В таблице мы рассчитывали доход по среднему значению, возможно в данных есть выбросы, которые исказили ситуацию. Это мы увидим при проведении анализа данных."
   ]
  },
  {
   "cell_type": "markdown",
   "metadata": {},
   "source": [
    "В целом по пропускам мы выяснили, что пропуски не являются случайными и зависят от ряда данных, их нельзя отбрасывать или заполнять одним значением, т.к. это приведёт к заметным искажениям."
   ]
  },
  {
   "cell_type": "markdown",
   "metadata": {},
   "source": [
    "### Кодирование столбцов"
   ]
  },
  {
   "cell_type": "markdown",
   "metadata": {},
   "source": [
    "Для дальнейшего проведения EDA закодируем категориальные переменные. К ним относятся пол и город."
   ]
  },
  {
   "cell_type": "code",
   "execution_count": 21,
   "metadata": {},
   "outputs": [
    {
     "data": {
      "text/html": [
       "<div>\n",
       "<style scoped>\n",
       "    .dataframe tbody tr th:only-of-type {\n",
       "        vertical-align: middle;\n",
       "    }\n",
       "\n",
       "    .dataframe tbody tr th {\n",
       "        vertical-align: top;\n",
       "    }\n",
       "\n",
       "    .dataframe thead th {\n",
       "        text-align: right;\n",
       "    }\n",
       "</style>\n",
       "<table border=\"1\" class=\"dataframe\">\n",
       "  <thead>\n",
       "    <tr style=\"text-align: right;\">\n",
       "      <th></th>\n",
       "      <th>user_id</th>\n",
       "      <th>score</th>\n",
       "      <th>city</th>\n",
       "      <th>gender</th>\n",
       "      <th>age</th>\n",
       "      <th>equity</th>\n",
       "      <th>balance</th>\n",
       "      <th>products</th>\n",
       "      <th>credit_card</th>\n",
       "      <th>last_activity</th>\n",
       "      <th>est_salary</th>\n",
       "      <th>churn</th>\n",
       "      <th>balance_na</th>\n",
       "      <th>city_code_Ростов</th>\n",
       "      <th>city_code_Рыбинск</th>\n",
       "      <th>city_code_Ярославль</th>\n",
       "      <th>gender_code_Ж</th>\n",
       "      <th>gender_code_М</th>\n",
       "    </tr>\n",
       "  </thead>\n",
       "  <tbody>\n",
       "    <tr>\n",
       "      <th>0</th>\n",
       "      <td>183012</td>\n",
       "      <td>850.00</td>\n",
       "      <td>Рыбинск</td>\n",
       "      <td>Ж</td>\n",
       "      <td>25.00</td>\n",
       "      <td>1</td>\n",
       "      <td>59,214.82</td>\n",
       "      <td>2</td>\n",
       "      <td>0</td>\n",
       "      <td>1</td>\n",
       "      <td>75,719.14</td>\n",
       "      <td>1</td>\n",
       "      <td>0</td>\n",
       "      <td>0</td>\n",
       "      <td>1</td>\n",
       "      <td>0</td>\n",
       "      <td>1</td>\n",
       "      <td>0</td>\n",
       "    </tr>\n",
       "    <tr>\n",
       "      <th>1</th>\n",
       "      <td>146556</td>\n",
       "      <td>861.00</td>\n",
       "      <td>Рыбинск</td>\n",
       "      <td>Ж</td>\n",
       "      <td>37.00</td>\n",
       "      <td>5</td>\n",
       "      <td>850,594.33</td>\n",
       "      <td>3</td>\n",
       "      <td>1</td>\n",
       "      <td>0</td>\n",
       "      <td>86,621.77</td>\n",
       "      <td>0</td>\n",
       "      <td>0</td>\n",
       "      <td>0</td>\n",
       "      <td>1</td>\n",
       "      <td>0</td>\n",
       "      <td>1</td>\n",
       "      <td>0</td>\n",
       "    </tr>\n",
       "    <tr>\n",
       "      <th>2</th>\n",
       "      <td>120722</td>\n",
       "      <td>892.00</td>\n",
       "      <td>Рыбинск</td>\n",
       "      <td>Ж</td>\n",
       "      <td>30.00</td>\n",
       "      <td>0</td>\n",
       "      <td>NaN</td>\n",
       "      <td>1</td>\n",
       "      <td>1</td>\n",
       "      <td>1</td>\n",
       "      <td>107,683.34</td>\n",
       "      <td>0</td>\n",
       "      <td>1</td>\n",
       "      <td>0</td>\n",
       "      <td>1</td>\n",
       "      <td>0</td>\n",
       "      <td>1</td>\n",
       "      <td>0</td>\n",
       "    </tr>\n",
       "    <tr>\n",
       "      <th>3</th>\n",
       "      <td>225363</td>\n",
       "      <td>866.00</td>\n",
       "      <td>Ярославль</td>\n",
       "      <td>Ж</td>\n",
       "      <td>51.00</td>\n",
       "      <td>5</td>\n",
       "      <td>1,524,746.26</td>\n",
       "      <td>2</td>\n",
       "      <td>0</td>\n",
       "      <td>1</td>\n",
       "      <td>174,423.53</td>\n",
       "      <td>1</td>\n",
       "      <td>0</td>\n",
       "      <td>0</td>\n",
       "      <td>0</td>\n",
       "      <td>1</td>\n",
       "      <td>1</td>\n",
       "      <td>0</td>\n",
       "    </tr>\n",
       "    <tr>\n",
       "      <th>4</th>\n",
       "      <td>157978</td>\n",
       "      <td>730.00</td>\n",
       "      <td>Ярославль</td>\n",
       "      <td>М</td>\n",
       "      <td>34.00</td>\n",
       "      <td>5</td>\n",
       "      <td>174.00</td>\n",
       "      <td>1</td>\n",
       "      <td>1</td>\n",
       "      <td>0</td>\n",
       "      <td>67,353.16</td>\n",
       "      <td>1</td>\n",
       "      <td>0</td>\n",
       "      <td>0</td>\n",
       "      <td>0</td>\n",
       "      <td>1</td>\n",
       "      <td>0</td>\n",
       "      <td>1</td>\n",
       "    </tr>\n",
       "  </tbody>\n",
       "</table>\n",
       "</div>"
      ],
      "text/plain": [
       "   user_id  score       city gender   age  equity      balance  products  \\\n",
       "0   183012 850.00    Рыбинск      Ж 25.00       1    59,214.82         2   \n",
       "1   146556 861.00    Рыбинск      Ж 37.00       5   850,594.33         3   \n",
       "2   120722 892.00    Рыбинск      Ж 30.00       0          NaN         1   \n",
       "3   225363 866.00  Ярославль      Ж 51.00       5 1,524,746.26         2   \n",
       "4   157978 730.00  Ярославль      М 34.00       5       174.00         1   \n",
       "\n",
       "   credit_card  last_activity  est_salary  churn  balance_na  \\\n",
       "0            0              1   75,719.14      1           0   \n",
       "1            1              0   86,621.77      0           0   \n",
       "2            1              1  107,683.34      0           1   \n",
       "3            0              1  174,423.53      1           0   \n",
       "4            1              0   67,353.16      1           0   \n",
       "\n",
       "   city_code_Ростов  city_code_Рыбинск  city_code_Ярославль  gender_code_Ж  \\\n",
       "0                 0                  1                    0              1   \n",
       "1                 0                  1                    0              1   \n",
       "2                 0                  1                    0              1   \n",
       "3                 0                  0                    1              1   \n",
       "4                 0                  0                    1              0   \n",
       "\n",
       "   gender_code_М  \n",
       "0              0  \n",
       "1              0  \n",
       "2              0  \n",
       "3              0  \n",
       "4              1  "
      ]
     },
     "execution_count": 21,
     "metadata": {},
     "output_type": "execute_result"
    }
   ],
   "source": [
    "# чтобы не пропали исходные столбцы создадим новые дополнительные\n",
    "\n",
    "data['city_code'] = data['city']\n",
    "data['gender_code'] = data['gender']\n",
    "\n",
    "#кодируем\n",
    "data = pd.get_dummies(data, columns=['city_code','gender_code'])\n",
    "\n",
    "data.head()"
   ]
  },
  {
   "cell_type": "markdown",
   "metadata": {
    "scrolled": true
   },
   "source": [
    "### Вывод по разделу\n",
    "\n",
    "Проведена предобработка данных: \n",
    "- наименования столбцов приведены к нижнему регистру;\n",
    "- полных дубликатов нет, проверены дубликаты по `user_id`, оставлены без изменений, так как относятся к разным кородам;\n",
    "- неявных дубликатов не выявлено;\n",
    "- в данных представлены 3 города - Рыбинск, Ярославль, Ростов;\n",
    "- устранена аномалия по количеству продуктов. Удалена из базы 1 запись с 0 кол-вом продуктов;\n",
    "- обработаны пропуски:\n",
    "  - пропуски выявлены в 2-х столбцах: `age` и `balance`;\n",
    "  - в столбце `age` - 0,3% пропусков, удалены данные строки; \n",
    "  - в столбце`balance` - 23%, проведено исследование природы пропусков - являются MNAR, т.е. не являются случайными, зависят от данных, оставлены без изменений. Больше всего зависят от количества объектов собственности - по клиентам, у которых 0 объектов собственности 84% пропусков в записях о балансе. Также у клиентов всего с одним продуктом пропусков 58%;\n",
    "- проведено кодирование категориальных переменных ля дальнейшего проведения EDA. К ним относятся пол и город."
   ]
  },
  {
   "cell_type": "markdown",
   "metadata": {},
   "source": [
    "## Исследовательский анализ данных"
   ]
  },
  {
   "cell_type": "markdown",
   "metadata": {},
   "source": [
    "### Анализ распределения признаков оттока "
   ]
  },
  {
   "cell_type": "code",
   "execution_count": 22,
   "metadata": {},
   "outputs": [
    {
     "data": {
      "text/plain": [
       "['user_id',\n",
       " 'score',\n",
       " 'city',\n",
       " 'gender',\n",
       " 'age',\n",
       " 'equity',\n",
       " 'balance',\n",
       " 'products',\n",
       " 'credit_card',\n",
       " 'last_activity',\n",
       " 'est_salary',\n",
       " 'churn',\n",
       " 'balance_na',\n",
       " 'city_code_Ростов',\n",
       " 'city_code_Рыбинск',\n",
       " 'city_code_Ярославль',\n",
       " 'gender_code_Ж',\n",
       " 'gender_code_М']"
      ]
     },
     "execution_count": 22,
     "metadata": {},
     "output_type": "execute_result"
    }
   ],
   "source": [
    "# выведем на экран наименования столбцов для удобства копирования\n",
    "\n",
    "list(data.columns)"
   ]
  },
  {
   "cell_type": "code",
   "execution_count": 23,
   "metadata": {
    "scrolled": false
   },
   "outputs": [
    {
     "name": "stdout",
     "output_type": "stream",
     "text": [
      "count   9,973.00\n",
      "mean      848.67\n",
      "std        65.39\n",
      "min       642.00\n",
      "25%       802.00\n",
      "50%       853.00\n",
      "75%       900.00\n",
      "max     1,000.00\n",
      "Name: score, dtype: float64\n"
     ]
    },
    {
     "data": {
      "image/png": "[encoded data removed]",
      "text/plain": [
       "<Figure size 576x576 with 1 Axes>"
      ]
     },
     "metadata": {
      "needs_background": "light"
     },
     "output_type": "display_data"
    },
    {
     "name": "stdout",
     "output_type": "stream",
     "text": [
      "count   9,973.00\n",
      "mean       42.73\n",
      "std        12.18\n",
      "min        18.00\n",
      "25%        33.00\n",
      "50%        40.00\n",
      "75%        51.00\n",
      "max        86.00\n",
      "Name: age, dtype: float64\n"
     ]
    },
    {
     "data": {
      "image/png": "[encoded data removed]",
      "text/plain": [
       "<Figure size 576x576 with 1 Axes>"
      ]
     },
     "metadata": {
      "needs_background": "light"
     },
     "output_type": "display_data"
    },
    {
     "name": "stdout",
     "output_type": "stream",
     "text": [
      "count         7,695.00\n",
      "mean        827,245.59\n",
      "std       1,980,327.41\n",
      "min               0.00\n",
      "25%         295,698.71\n",
      "50%         524,295.33\n",
      "75%         980,051.21\n",
      "max     119,113,552.01\n",
      "Name: balance, dtype: float64\n"
     ]
    },
    {
     "data": {
      "image/png": "[encoded data removed]",
      "text/plain": [
       "<Figure size 576x576 with 1 Axes>"
      ]
     },
     "metadata": {
      "needs_background": "light"
     },
     "output_type": "display_data"
    },
    {
     "name": "stdout",
     "output_type": "stream",
     "text": [
      "count       9,973.00\n",
      "mean      147,799.12\n",
      "std       139,287.08\n",
      "min         2,546.30\n",
      "25%        75,252.02\n",
      "50%       119,643.06\n",
      "75%       174,499.96\n",
      "max     1,395,064.45\n",
      "Name: est_salary, dtype: float64\n"
     ]
    },
    {
     "data": {
      "image/png": "[encoded data removed]",
      "text/plain": [
       "<Figure size 576x576 with 1 Axes>"
      ]
     },
     "metadata": {
      "needs_background": "light"
     },
     "output_type": "display_data"
    }
   ],
   "source": [
    "# посмотрим на выбросы по непрерывным данным\n",
    "\n",
    "num = ['score','age','balance', 'est_salary']\n",
    "\n",
    "for i in num:\n",
    "    \n",
    "    plt.figure(figsize=(8, 8))\n",
    "    sns.boxplot(y = i, x = 'churn', data = data, palette = 'Set2')\n",
    "    plt.grid()\n",
    "    plt.title(f\"Распределение по признаку: {i}\", fontsize=15)\n",
    "    plt.xlabel(\"Отток - клиент/не клиент\")  \n",
    "    print(data[i].describe())\n",
    "    plt.show()"
   ]
  },
  {
   "cell_type": "markdown",
   "metadata": {},
   "source": [
    "По `balance`и `est_salary` есть выбросы и существенные, однако удалять мы их не будем, так как такие цифры вполне могут быть. При дальнейшем анализе по ним будем использовать медиану, а не среднее. Для гистограмм обрежем данные по этим параметрам по 97 перцентилю.\n",
    "Далее для анализа распределения построим гистограммы."
   ]
  },
  {
   "cell_type": "code",
   "execution_count": 24,
   "metadata": {
    "scrolled": false
   },
   "outputs": [
    {
     "data": {
      "image/png": "[encoded data removed]",
      "text/plain": [
       "<Figure size 1080x576 with 1 Axes>"
      ]
     },
     "metadata": {
      "needs_background": "light"
     },
     "output_type": "display_data"
    }
   ],
   "source": [
    "# гистограмма для 'score'\n",
    "\n",
    "plt.figure(figsize=(15, 8))\n",
    "\n",
    "sns.histplot(x = 'score', hue = 'churn',data=data, stat=\"density\",common_norm=False,bins=50)\n",
    "\n",
    "plt.grid()\n",
    "plt.title('Распределение по признаку баллы кредитного скоринга', fontsize=15)\n",
    "plt.xlabel('Сумма баллов')\n",
    "plt.ylabel('Плотность') \n",
    "\n",
    "plt.show()\n",
    "#binwidth=1 "
   ]
  },
  {
   "cell_type": "markdown",
   "metadata": {},
   "source": [
    "Наибольший отток (превышение на гистограмме) показывают клиенты с суммой баллов от 830 до 900."
   ]
  },
  {
   "cell_type": "code",
   "execution_count": 25,
   "metadata": {
    "scrolled": false
   },
   "outputs": [
    {
     "data": {
      "image/png": "[encoded data removed]",
      "text/plain": [
       "<Figure size 1080x576 with 1 Axes>"
      ]
     },
     "metadata": {
      "needs_background": "light"
     },
     "output_type": "display_data"
    }
   ],
   "source": [
    "# гистограмма для 'age'\n",
    "\n",
    "plt.figure(figsize=(15, 8))\n",
    "\n",
    "sns.histplot(x = 'age', hue = 'churn',data=data,stat=\"density\",common_norm=False,binwidth=1 )\n",
    "\n",
    "plt.grid()\n",
    "plt.title('Распределение по признаку возраст клиента', fontsize=15)\n",
    "plt.xlabel('Возраст, лет')\n",
    "plt.ylabel('Плотность')     \n",
    "\n",
    "plt.show()\n",
    "#binwidth=1  "
   ]
  },
  {
   "cell_type": "markdown",
   "metadata": {},
   "source": [
    "Возраст клиентов, которые ушли из банка, имеет 2 интервала: с 26 до 36, с 50 до 60."
   ]
  },
  {
   "cell_type": "code",
   "execution_count": 26,
   "metadata": {
    "scrolled": false
   },
   "outputs": [
    {
     "data": {
      "image/png": "[encoded data removed]",
      "text/plain": [
       "<Figure size 1080x576 with 1 Axes>"
      ]
     },
     "metadata": {
      "needs_background": "light"
     },
     "output_type": "display_data"
    }
   ],
   "source": [
    "# гистограмма для 'est_salary'\n",
    "\n",
    "salary_perc = np.percentile(data.est_salary,97)\n",
    "\n",
    "plt.figure(figsize=(15, 8))\n",
    "sns.histplot(x = 'est_salary', hue = 'churn',data=data.query('est_salary < @salary_perc'),\n",
    "                                                            stat=\"density\",common_norm=False,bins=50)\n",
    "plt.grid()\n",
    "plt.title('Распределение по признаку средний доход клиента', fontsize=15)\n",
    "plt.xlabel('Сумма')\n",
    "plt.ylabel('Плотность')   \n",
    "\n",
    "plt.show()\n",
    "#binwidth=1 bins=100  "
   ]
  },
  {
   "cell_type": "markdown",
   "metadata": {},
   "source": [
    "Преимущественно средний доход клиентов, ушедших из банка, от 110 т.р. до 210 т.р."
   ]
  },
  {
   "cell_type": "code",
   "execution_count": 27,
   "metadata": {},
   "outputs": [],
   "source": [
    "# так как в столбце 'balance' есть пропуски, создадим новую data без пропусков, далее она нам тоже пригодится\n",
    "\n",
    "data_balance = data.query('balance_na == 0')"
   ]
  },
  {
   "cell_type": "code",
   "execution_count": 28,
   "metadata": {
    "scrolled": false
   },
   "outputs": [
    {
     "data": {
      "image/png": "[encoded data removed]",
      "text/plain": [
       "<Figure size 1080x576 with 1 Axes>"
      ]
     },
     "metadata": {
      "needs_background": "light"
     },
     "output_type": "display_data"
    }
   ],
   "source": [
    "# гистограмма для 'balance'\n",
    "\n",
    "balance_perc = np.percentile(data_balance.balance,97)\n",
    "\n",
    "plt.figure(figsize=(15, 8))\n",
    "sns.histplot(x = 'balance', hue = 'churn',data=data_balance.query('balance < @balance_perc'), \n",
    "             stat=\"density\",common_norm=False,bins=50 )\n",
    "plt.grid()\n",
    "plt.title('Распределение по признаку баланс на счете', fontsize=15)\n",
    "plt.xlabel('Сумма')\n",
    "plt.ylabel('Плотность')   \n",
    "\n",
    "plt.show()\n",
    "#binwidth=1 "
   ]
  },
  {
   "cell_type": "markdown",
   "metadata": {},
   "source": [
    "Наиболее интересующий нас интервал по отточным клиентам - от 700 т.р."
   ]
  },
  {
   "cell_type": "markdown",
   "metadata": {},
   "source": [
    "Далее построим визуализации по категориальным данным."
   ]
  },
  {
   "cell_type": "code",
   "execution_count": 29,
   "metadata": {
    "scrolled": false
   },
   "outputs": [
    {
     "data": {
      "image/png": "[encoded data removed]",
      "text/plain": [
       "<Figure size 576x576 with 1 Axes>"
      ]
     },
     "metadata": {
      "needs_background": "light"
     },
     "output_type": "display_data"
    },
    {
     "data": {
      "image/png": "[encoded data removed]",
      "text/plain": [
       "<Figure size 576x576 with 1 Axes>"
      ]
     },
     "metadata": {
      "needs_background": "light"
     },
     "output_type": "display_data"
    },
    {
     "data": {
      "image/png": "[encoded data removed]",
      "text/plain": [
       "<Figure size 576x576 with 1 Axes>"
      ]
     },
     "metadata": {
      "needs_background": "light"
     },
     "output_type": "display_data"
    },
    {
     "data": {
      "image/png": "[encoded data removed]",
      "text/plain": [
       "<Figure size 576x576 with 1 Axes>"
      ]
     },
     "metadata": {
      "needs_background": "light"
     },
     "output_type": "display_data"
    },
    {
     "data": {
      "image/png": "[encoded data removed]",
      "text/plain": [
       "<Figure size 576x576 with 1 Axes>"
      ]
     },
     "metadata": {
      "needs_background": "light"
     },
     "output_type": "display_data"
    },
    {
     "data": {
      "image/png": "[encoded data removed]",
      "text/plain": [
       "<Figure size 576x576 with 1 Axes>"
      ]
     },
     "metadata": {
      "needs_background": "light"
     },
     "output_type": "display_data"
    }
   ],
   "source": [
    "# используем цикл\n",
    "\n",
    "cat = ['city','gender','equity','products','credit_card','last_activity']\n",
    "\n",
    "for j in cat:\n",
    "    \n",
    "    plt.figure(figsize=(8, 8))\n",
    "    sns.barplot(x = j, y = 'churn', data = data)\n",
    "    plt.axhline(data['churn'].mean())\n",
    "    plt.grid()\n",
    "    plt.title(f\"Распределение по признаку: {j}\", fontsize=15)\n",
    "    plt.ylabel(\"Отток\")  \n",
    "  \n",
    "    plt.show()"
   ]
  },
  {
   "cell_type": "markdown",
   "metadata": {},
   "source": [
    "Таким образом, для тех значений, где превышает среднее мы можем говорить, что эти признаки более склонны к оттоку:\n",
    "- города Ярославль, чуть меньше Ростов\n",
    "- мужчины более склонны, чем женщины\n",
    "- количество объектов собственности - более 3\n",
    "- количество продуктов - 0 или от 2\n",
    "- не имеющие кредитную карту\n",
    "- как ни странно, активные клиенты."
   ]
  },
  {
   "cell_type": "markdown",
   "metadata": {},
   "source": [
    "### Корреляционный анализ"
   ]
  },
  {
   "cell_type": "code",
   "execution_count": 30,
   "metadata": {},
   "outputs": [],
   "source": [
    "#сделаем базу для корреляции, уберем ненужные столбцы\n",
    "\n",
    "data_for_corr = data.drop(columns=['user_id','city','gender','balance_na']) "
   ]
  },
  {
   "cell_type": "code",
   "execution_count": 31,
   "metadata": {
    "scrolled": false
   },
   "outputs": [
    {
     "data": {
      "image/png": "[encoded data removed]",
      "text/plain": [
       "<Figure size 1440x1440 with 2 Axes>"
      ]
     },
     "metadata": {
      "needs_background": "light"
     },
     "output_type": "display_data"
    }
   ],
   "source": [
    "#построим тепловую кару корреляции, используем метод Спирмана,\n",
    "#так как не все признаки имеют нормальное распредеение и представлены столбцы с категориальными значениями\n",
    "\n",
    "plt.figure(figsize=(20, 20))\n",
    "\n",
    "sns.heatmap(data_for_corr.corr(method='spearman'), annot=True, cmap='coolwarm',vmin=-1, vmax=1, center= 0, fmt='.1g')\n",
    "\n",
    "plt.title(f\"Тепловая карта корреляции по признакам клиентов\", fontsize=15)\n",
    "plt.show()\n",
    "\n",
    "#linewidths=3  alpha=.5 fmt='.2g'"
   ]
  },
  {
   "cell_type": "markdown",
   "metadata": {},
   "source": [
    "Видна зависимость, хотя и слабая, по 4 признакам `equity`,`balance`,`products`, `last_activity`"
   ]
  },
  {
   "cell_type": "markdown",
   "metadata": {},
   "source": [
    "### Анализ портретов типичных клиентов, которые склонны и не склонны уходить из банка"
   ]
  },
  {
   "cell_type": "code",
   "execution_count": 32,
   "metadata": {
    "scrolled": true
   },
   "outputs": [
    {
     "data": {
      "text/html": [
       "<div>\n",
       "<style scoped>\n",
       "    .dataframe tbody tr th:only-of-type {\n",
       "        vertical-align: middle;\n",
       "    }\n",
       "\n",
       "    .dataframe tbody tr th {\n",
       "        vertical-align: top;\n",
       "    }\n",
       "\n",
       "    .dataframe thead th {\n",
       "        text-align: right;\n",
       "    }\n",
       "</style>\n",
       "<table border=\"1\" class=\"dataframe\">\n",
       "  <thead>\n",
       "    <tr style=\"text-align: right;\">\n",
       "      <th></th>\n",
       "      <th>client</th>\n",
       "      <th>no_client</th>\n",
       "      <th>diff_per</th>\n",
       "    </tr>\n",
       "  </thead>\n",
       "  <tbody>\n",
       "    <tr>\n",
       "      <th>age</th>\n",
       "      <td>43.02</td>\n",
       "      <td>41.43</td>\n",
       "      <td>-0.04</td>\n",
       "    </tr>\n",
       "    <tr>\n",
       "      <th>balance</th>\n",
       "      <td>475,410.09</td>\n",
       "      <td>783,908.90</td>\n",
       "      <td>0.39</td>\n",
       "    </tr>\n",
       "    <tr>\n",
       "      <th>credit_card</th>\n",
       "      <td>1.00</td>\n",
       "      <td>1.00</td>\n",
       "      <td>0.00</td>\n",
       "    </tr>\n",
       "    <tr>\n",
       "      <th>equity</th>\n",
       "      <td>3.00</td>\n",
       "      <td>4.00</td>\n",
       "      <td>0.25</td>\n",
       "    </tr>\n",
       "    <tr>\n",
       "      <th>est_salary</th>\n",
       "      <td>118,227.60</td>\n",
       "      <td>125,408.88</td>\n",
       "      <td>0.06</td>\n",
       "    </tr>\n",
       "    <tr>\n",
       "      <th>last_activity</th>\n",
       "      <td>0.00</td>\n",
       "      <td>1.00</td>\n",
       "      <td>1.00</td>\n",
       "    </tr>\n",
       "    <tr>\n",
       "      <th>products</th>\n",
       "      <td>2.00</td>\n",
       "      <td>2.00</td>\n",
       "      <td>0.00</td>\n",
       "    </tr>\n",
       "    <tr>\n",
       "      <th>score</th>\n",
       "      <td>845.40</td>\n",
       "      <td>863.36</td>\n",
       "      <td>0.02</td>\n",
       "    </tr>\n",
       "  </tbody>\n",
       "</table>\n",
       "</div>"
      ],
      "text/plain": [
       "                  client  no_client  diff_per\n",
       "age                43.02      41.43     -0.04\n",
       "balance       475,410.09 783,908.90      0.39\n",
       "credit_card         1.00       1.00      0.00\n",
       "equity              3.00       4.00      0.25\n",
       "est_salary    118,227.60 125,408.88      0.06\n",
       "last_activity       0.00       1.00      1.00\n",
       "products            2.00       2.00      0.00\n",
       "score             845.40     863.36      0.02"
      ]
     },
     "execution_count": 32,
     "metadata": {},
     "output_type": "execute_result"
    }
   ],
   "source": [
    "#построим сводные таблицы и рассчитаем относительную разницу между отточными и неотточными клиентами\n",
    "\n",
    "agg_func_for_churn = {\"score\": 'mean',\"age\": 'mean',\n",
    "                           \"equity\": 'median',\"balance\": 'median',\n",
    "                           \"products\": 'median',\"credit_card\": 'median',\n",
    "                           \"last_activity\": 'median',\"est_salary\": 'median'}\n",
    "piv_churn = data.pivot_table(columns='churn',values=['score','age','equity',\n",
    "                         'balance','products','credit_card',\n",
    "                         'last_activity','est_salary'],\n",
    "                  aggfunc=agg_func_for_churn)\n",
    "\n",
    "piv_churn.columns = ['client', 'no_client']\n",
    "piv_churn['diff_per'] = 1-piv_churn['client']/piv_churn['no_client']\n",
    "\n",
    "piv_churn"
   ]
  },
  {
   "cell_type": "code",
   "execution_count": 33,
   "metadata": {},
   "outputs": [],
   "source": [
    "piv_churn_plus = data.pivot_table(columns='churn',values=['gender','city'],\n",
    "                   aggfunc={\"gender\": pd.Series.mode,\"city\": pd.Series.mode})\n",
    "\n",
    "piv_churn_plus.columns = ['client', 'no_client']"
   ]
  },
  {
   "cell_type": "code",
   "execution_count": 34,
   "metadata": {
    "scrolled": false
   },
   "outputs": [
    {
     "data": {
      "text/html": [
       "<div>\n",
       "<style scoped>\n",
       "    .dataframe tbody tr th:only-of-type {\n",
       "        vertical-align: middle;\n",
       "    }\n",
       "\n",
       "    .dataframe tbody tr th {\n",
       "        vertical-align: top;\n",
       "    }\n",
       "\n",
       "    .dataframe thead th {\n",
       "        text-align: right;\n",
       "    }\n",
       "</style>\n",
       "<table border=\"1\" class=\"dataframe\">\n",
       "  <thead>\n",
       "    <tr style=\"text-align: right;\">\n",
       "      <th></th>\n",
       "      <th>client</th>\n",
       "      <th>no_client</th>\n",
       "      <th>diff_per</th>\n",
       "    </tr>\n",
       "  </thead>\n",
       "  <tbody>\n",
       "    <tr>\n",
       "      <th>age</th>\n",
       "      <td>43.02</td>\n",
       "      <td>41.43</td>\n",
       "      <td>-0.04</td>\n",
       "    </tr>\n",
       "    <tr>\n",
       "      <th>balance</th>\n",
       "      <td>475,410.09</td>\n",
       "      <td>783,908.90</td>\n",
       "      <td>0.39</td>\n",
       "    </tr>\n",
       "    <tr>\n",
       "      <th>credit_card</th>\n",
       "      <td>1.00</td>\n",
       "      <td>1.00</td>\n",
       "      <td>0.00</td>\n",
       "    </tr>\n",
       "    <tr>\n",
       "      <th>equity</th>\n",
       "      <td>3.00</td>\n",
       "      <td>4.00</td>\n",
       "      <td>0.25</td>\n",
       "    </tr>\n",
       "    <tr>\n",
       "      <th>est_salary</th>\n",
       "      <td>118,227.60</td>\n",
       "      <td>125,408.88</td>\n",
       "      <td>0.06</td>\n",
       "    </tr>\n",
       "    <tr>\n",
       "      <th>last_activity</th>\n",
       "      <td>0.00</td>\n",
       "      <td>1.00</td>\n",
       "      <td>1.00</td>\n",
       "    </tr>\n",
       "    <tr>\n",
       "      <th>products</th>\n",
       "      <td>2.00</td>\n",
       "      <td>2.00</td>\n",
       "      <td>0.00</td>\n",
       "    </tr>\n",
       "    <tr>\n",
       "      <th>score</th>\n",
       "      <td>845.40</td>\n",
       "      <td>863.36</td>\n",
       "      <td>0.02</td>\n",
       "    </tr>\n",
       "    <tr>\n",
       "      <th>city</th>\n",
       "      <td>Ярославль</td>\n",
       "      <td>Ярославль</td>\n",
       "      <td>NaN</td>\n",
       "    </tr>\n",
       "    <tr>\n",
       "      <th>gender</th>\n",
       "      <td>Ж</td>\n",
       "      <td>М</td>\n",
       "      <td>NaN</td>\n",
       "    </tr>\n",
       "  </tbody>\n",
       "</table>\n",
       "</div>"
      ],
      "text/plain": [
       "                  client  no_client  diff_per\n",
       "age                43.02      41.43     -0.04\n",
       "balance       475,410.09 783,908.90      0.39\n",
       "credit_card         1.00       1.00      0.00\n",
       "equity              3.00       4.00      0.25\n",
       "est_salary    118,227.60 125,408.88      0.06\n",
       "last_activity       0.00       1.00      1.00\n",
       "products            2.00       2.00      0.00\n",
       "score             845.40     863.36      0.02\n",
       "city           Ярославль  Ярославль       NaN\n",
       "gender                 Ж          М       NaN"
      ]
     },
     "execution_count": 34,
     "metadata": {},
     "output_type": "execute_result"
    }
   ],
   "source": [
    "# склеим таблицы\n",
    "piv_churn = piv_churn.append(piv_churn_plus)\n",
    "piv_churn"
   ]
  },
  {
   "cell_type": "markdown",
   "metadata": {},
   "source": [
    "Из полученных данных видно, что есть заметная разница в балансе отточных клиентов и неотточных, в количестве объектов собственности, в активности. Это было подтверждено и матрицей корреляции. Также из таблицы видно, что мужчины больше склонны к оттоку, чем женщины."
   ]
  },
  {
   "cell_type": "markdown",
   "metadata": {},
   "source": [
    "### Промежуточные итоги и выводы по результатам EDA"
   ]
  },
  {
   "cell_type": "markdown",
   "metadata": {},
   "source": [
    "Проведен исследовательский анализ данных:\n",
    "- распределение признаков оттока\n",
    "- корреляционный анализ признаков с признаком \"отток\"\n",
    "- составлены портреты клиентов склонных к оттоку.\n",
    "По результатам EDA можно сделать следующие выводы:\n",
    "- возраст клиентов варьируется от 18 до 86, при этом корреляционный анализ и относительная разница в средних показали, что возраст не влияет на отток и составляет в среднем 42-43 года. Однако по распределению видно, что возраст уходящих клиентов имеет 2 выраженных интервала - с 26 до 36, с 50 до 60\n",
    "- количество продуктов - клиенты, склонные к оттоку, имеют от 2 продуктов в банке\n",
    "- баланс влияет на отток, у уходящих клиентов баланс выше\n",
    "- средний доход и баллы кредитного скоринга по матрице корреляции и относительной разнице также не отмечены, но по распределению видны интервалы, в которых отток клиентов выше\n",
    "- более склонны к оттоку клиенты, не имеющие кредитной карты, хотя корреляция слабая\n",
    "- достаточно значим признак активности клиентов, более склонны к оттоку активные клиенты, возможно это связано с тем, что они уходят в более популярные банки\n",
    "- также существенным признаком является количество объектов собственности клиента, клиенты, имеющие более 3-х объектов, более склонны к оттоку, это также может быть связано с переходом в банк, где предлагается более широкий спектр услуг\n",
    "- существенной зависимости по городам не отмечено, в Рыбинске менее склонны к оттоку\n",
    "- также отметим, что мужчины более склонны, чем женщины."
   ]
  },
  {
   "cell_type": "markdown",
   "metadata": {},
   "source": [
    "## Формирование и проверка статистических гипотез"
   ]
  },
  {
   "cell_type": "markdown",
   "metadata": {},
   "source": [
    "### Гипотеза о влиянии доходов клиентов на отток"
   ]
  },
  {
   "cell_type": "markdown",
   "metadata": {},
   "source": [
    "Чтобы провести t-test необходимо, чтобы соблюдались условия: данные в выборках нормально распределены и дисперсии рассматриваемых генеральных совокупностей равны."
   ]
  },
  {
   "cell_type": "code",
   "execution_count": 35,
   "metadata": {
    "scrolled": false
   },
   "outputs": [
    {
     "data": {
      "image/png": "[encoded data removed]",
      "text/plain": [
       "<Figure size 1080x576 with 1 Axes>"
      ]
     },
     "metadata": {
      "needs_background": "light"
     },
     "output_type": "display_data"
    }
   ],
   "source": [
    "# построим еще раз гистограмму, чтобы посмотреть на распределение доходв\n",
    "\n",
    "plt.figure(figsize=(15, 8))\n",
    "\n",
    "sns.histplot(x = 'est_salary', hue = 'churn',data=data,stat=\"density\",common_norm=False,bins=100)\n",
    "\n",
    "plt.title('Распределение среднего дохода', fontsize=15)\n",
    "plt.ylabel(\"Плотность\")  \n",
    "plt.xlabel(\"Средний доход\")\n",
    "plt.legend(['Не Клиент','Клиент'],title='Отток')\n",
    "\n",
    "plt.show()"
   ]
  },
  {
   "cell_type": "markdown",
   "metadata": {},
   "source": [
    "Мы еще раз подтвердили, что в признаке есть выбросы и он не имеет нормального распределения, поэтому для проверки гипотезы будем использовать тест Манна-Уитни.\n",
    "\n",
    "Сформулируем одностроннюю гипотезу. \n",
    "- **Н0** - Нулевая гипотеза - средний доход по отточным/неотточным клиентам равен\n",
    "- **Н1** - Альтернативная гипотеза - средний доход отточных клиентов выше, чем неотточных"
   ]
  },
  {
   "cell_type": "code",
   "execution_count": 36,
   "metadata": {},
   "outputs": [
    {
     "name": "stdout",
     "output_type": "stream",
     "text": [
      "p-значение: 8.415364594114529e-05\n",
      "Отвергаем нулевую гипотезу\n"
     ]
    }
   ],
   "source": [
    "alpha = 0.05\n",
    "\n",
    "results = st. mannwhitneyu (data.query('churn == 1')['est_salary'], \n",
    "                            data.query('churn == 0')['est_salary'], alternative='greater')\n",
    "\n",
    "print('p-значение:', results.pvalue)\n",
    "\n",
    "if results.pvalue < alpha:\n",
    "    print('Отвергаем нулевую гипотезу')\n",
    "else:\n",
    "    print('Не получилось отвергнуть нулевую гипотезу')"
   ]
  },
  {
   "cell_type": "markdown",
   "metadata": {},
   "source": [
    "**Вывод:** Средний доход отточных клиентов выше, чем неотточных"
   ]
  },
  {
   "cell_type": "markdown",
   "metadata": {},
   "source": [
    "### Гипотеза о влиянии баланса клиентов на отток"
   ]
  },
  {
   "cell_type": "markdown",
   "metadata": {},
   "source": [
    "В данном признаке тоже большое количество выбросов и не удовлетворяется условие о нормальном распределении, поэтому также используем Манна-Уитни\n",
    "Сформулируем одностроннюю гипотезу. \n",
    "- **Н0** - Нулевая гипотеза - средние суммы баланса по отточным/неотточным клиентам равны\n",
    "- **Н1** - Альтернативная гипотеза - средний баланс отточных клиентов выше, чем неотточных"
   ]
  },
  {
   "cell_type": "code",
   "execution_count": 37,
   "metadata": {},
   "outputs": [
    {
     "name": "stdout",
     "output_type": "stream",
     "text": [
      "p-значение: 7.445581415996621e-71\n",
      "Отвергаем нулевую гипотезу\n"
     ]
    }
   ],
   "source": [
    "#здесь используем ранее созданную базу без пропусков\n",
    "alpha = 0.05\n",
    "\n",
    "results = st. mannwhitneyu (data_balance.query('churn == 1')['balance'], \n",
    "                            data_balance.query('churn == 0')['balance'], alternative='greater')\n",
    "\n",
    "print('p-значение:', results.pvalue)\n",
    "\n",
    "if results.pvalue < alpha:\n",
    "    print('Отвергаем нулевую гипотезу')\n",
    "else:\n",
    "    print('Не получилось отвергнуть нулевую гипотезу')"
   ]
  },
  {
   "cell_type": "markdown",
   "metadata": {},
   "source": [
    "**Вывод:** Баланс на счете отточных клиентов выше, чем неотточных"
   ]
  },
  {
   "cell_type": "markdown",
   "metadata": {},
   "source": [
    "### Гипотеза о разнице в возрасте"
   ]
  },
  {
   "cell_type": "markdown",
   "metadata": {},
   "source": [
    "Из исследовательского анализа мы видели, что средний возраст примерно одинаковый. Но для данной гипотезы возьмем клиентов с определенным количеством продуктов. Для начала посмотрим распределение по количеству продуктов."
   ]
  },
  {
   "cell_type": "code",
   "execution_count": 38,
   "metadata": {
    "scrolled": false
   },
   "outputs": [
    {
     "data": {
      "text/plain": [
       "products\n",
       "1    3323\n",
       "2    5119\n",
       "3    1038\n",
       "4     474\n",
       "5      19\n",
       "Name: user_id, dtype: int64"
      ]
     },
     "execution_count": 38,
     "metadata": {},
     "output_type": "execute_result"
    }
   ],
   "source": [
    "data.groupby('products')['user_id'].count()"
   ]
  },
  {
   "cell_type": "markdown",
   "metadata": {},
   "source": [
    "Возьмем 2 самые крупные группы с 1 и 2 продуктами"
   ]
  },
  {
   "cell_type": "code",
   "execution_count": 39,
   "metadata": {},
   "outputs": [],
   "source": [
    "# сформируем дату\n",
    "\n",
    "data_product = data.query('products == 1 or products ==2')"
   ]
  },
  {
   "cell_type": "code",
   "execution_count": 40,
   "metadata": {},
   "outputs": [
    {
     "data": {
      "text/plain": [
       "churn\n",
       "0    7229\n",
       "1    1213\n",
       "Name: user_id, dtype: int64"
      ]
     },
     "execution_count": 40,
     "metadata": {},
     "output_type": "execute_result"
    }
   ],
   "source": [
    "# проверим условия для выбора теста\n",
    "# размеры выборок\n",
    "\n",
    "data_product.groupby('churn')['user_id'].count()"
   ]
  },
  {
   "cell_type": "markdown",
   "metadata": {},
   "source": [
    "Выборки имеют разный размер"
   ]
  },
  {
   "cell_type": "code",
   "execution_count": 41,
   "metadata": {
    "scrolled": false
   },
   "outputs": [
    {
     "data": {
      "image/png": "[encoded data removed]",
      "text/plain": [
       "<Figure size 1080x576 with 1 Axes>"
      ]
     },
     "metadata": {
      "needs_background": "light"
     },
     "output_type": "display_data"
    }
   ],
   "source": [
    "#проверим на нормальное распределение\n",
    "\n",
    "plt.figure(figsize=(15, 8))\n",
    "\n",
    "sns.histplot(x = 'age', hue = 'churn',data=data_product,stat=\"density\",common_norm=False,binwidth=1)\n",
    "plt.title('Распределение возраста клиентов', fontsize=15)\n",
    "plt.ylabel(\"Плотность\")  \n",
    "plt.xlabel(\"Возраст, лет\")\n",
    "plt.legend(['Не Клиент','Клиент'],title='Отток')\n",
    "\n",
    "plt.show()"
   ]
  },
  {
   "cell_type": "markdown",
   "metadata": {},
   "source": [
    "Не отмечено явное нормальное распределение, поэтому проведем тест Шапиро для определения нормальности рапределения средних величин выборок в двух группах. Н0 - данные нормально распределены, Н1 - данные не имеют нормального распределения."
   ]
  },
  {
   "cell_type": "code",
   "execution_count": 42,
   "metadata": {},
   "outputs": [
    {
     "name": "stdout",
     "output_type": "stream",
     "text": [
      "p-значение: 0.6492230892181396\n",
      "Не получилось отвергнуть нулевую гипотезу\n"
     ]
    }
   ],
   "source": [
    "# по ушедшим клиентам, возьмем 500 случайных выборок по 1000 записей\n",
    "\n",
    "means_churn = []\n",
    "n = 1\n",
    "while n < 500:\n",
    "    n += 1\n",
    "    sample = data_product[data_product['churn'] == 1].sample(1000)['age'].mean()\n",
    "    means_churn.append(sample)\n",
    "\n",
    "alpha = 0.05   \n",
    "\n",
    "results = st.shapiro(means_churn)\n",
    "\n",
    "print('p-значение:', results.pvalue)\n",
    "\n",
    "if results.pvalue < alpha:\n",
    "    print('Отвергаем нулевую гипотезу')\n",
    "else:\n",
    "    print('Не получилось отвергнуть нулевую гипотезу')"
   ]
  },
  {
   "cell_type": "code",
   "execution_count": 43,
   "metadata": {},
   "outputs": [
    {
     "name": "stdout",
     "output_type": "stream",
     "text": [
      "p-значение: 0.12532171607017517\n",
      "Не получилось отвергнуть нулевую гипотезу\n"
     ]
    }
   ],
   "source": [
    "# по действующим клиентам, возьмем 500 случайных выборок по 1000 записей\n",
    "\n",
    "means_no_churn = []\n",
    "n = 1\n",
    "while n < 500:\n",
    "    n += 1\n",
    "    sample = data_product[data_product['churn'] == 0].sample(1000)['age'].mean()\n",
    "    means_no_churn.append(sample)\n",
    "\n",
    "alpha = 0.05   \n",
    "\n",
    "results = st.shapiro(means_no_churn)\n",
    "\n",
    "print('p-значение:', results.pvalue)\n",
    "\n",
    "if results.pvalue < alpha:\n",
    "    print('Отвергаем нулевую гипотезу')\n",
    "else:\n",
    "    print('Не получилось отвергнуть нулевую гипотезу')"
   ]
  },
  {
   "cell_type": "markdown",
   "metadata": {},
   "source": [
    "Проверим равенство дисперсий. Н0 - дисперсии равны, Н1 - дисперсии не равны"
   ]
  },
  {
   "cell_type": "code",
   "execution_count": 44,
   "metadata": {},
   "outputs": [
    {
     "name": "stdout",
     "output_type": "stream",
     "text": [
      "p-значение: 0.6092064055382849\n",
      "Не получилось отвергнуть нулевую гипотезу\n"
     ]
    }
   ],
   "source": [
    "# выделим 2 случайные выборки и сравним\n",
    "\n",
    "data_churn = data_product[data_product['churn'] == 1].sample(1000)['age']\n",
    "data_no_churn = data_product[data_product['churn'] == 0].sample(1000)['age']\n",
    "\n",
    "alpha = 0.05\n",
    "results = st.levene(data_churn, data_no_churn)\n",
    "\n",
    "print('p-значение:', results.pvalue)\n",
    "\n",
    "if results.pvalue < alpha:\n",
    "    print('Отвергаем нулевую гипотезу')\n",
    "else:\n",
    "    print('Не получилось отвергнуть нулевую гипотезу')"
   ]
  },
  {
   "cell_type": "markdown",
   "metadata": {},
   "source": [
    "Условия проверены, можно проводить t-test. Сформулируем одностороннюю гипотезу\n",
    "- **Н0** - Нулевая гипотеза - средний возраст клиентов с 1 или 2 продуктами по отточным и неотточным клиентам равны\n",
    "- **Н1** - Альтернативная гипотеза - средний возраст отточных клиентов ниже, чем неотточных"
   ]
  },
  {
   "cell_type": "code",
   "execution_count": 45,
   "metadata": {},
   "outputs": [
    {
     "name": "stdout",
     "output_type": "stream",
     "text": [
      "p-значение: 0.0005041730223319725\n",
      "Отвергаем нулевую гипотезу\n"
     ]
    }
   ],
   "source": [
    "# используем t-test\n",
    "\n",
    "alpha = 0.05\n",
    "\n",
    "results = st.ttest_ind(data_churn,\n",
    "                      data_no_churn, alternative='less')\n",
    "\n",
    "print('p-значение:', results.pvalue)\n",
    "\n",
    "if results.pvalue < alpha:\n",
    "    print('Отвергаем нулевую гипотезу')\n",
    "else:\n",
    "    print('Не получилось отвергнуть нулевую гипотезу')\n",
    "#    equal_var = False "
   ]
  },
  {
   "cell_type": "markdown",
   "metadata": {},
   "source": [
    "**Вывод:** Возраст уходящих клиентов, имеющих 1 или 2 продукта, ниже"
   ]
  },
  {
   "cell_type": "markdown",
   "metadata": {},
   "source": [
    "### Промежуточные выводы по результатам статистического анализа данных"
   ]
  },
  {
   "cell_type": "markdown",
   "metadata": {},
   "source": [
    "Проведен статистический нализ данных и проверены 3 гипотезы. По результатам прверки гипотез можно сделать выводы:\n",
    "- гипотеза о равенстве средних доходов по 2 группам клиентов не подтвердилась, доход ушедших клиентов в среднем выше\n",
    "- гипотеза о равенстве средних сумм балансов на счете по 2 группам клиентов не подтвердилась, баланс на счете ушедших клиентов в среднем выше\n",
    "- гипотеза о равенстве среднего возраста клиентов, имеющих 1 или 2 продукта не подтвердилась, возраст ушедших клиентов в среднем ниже."
   ]
  },
  {
   "cell_type": "markdown",
   "metadata": {},
   "source": [
    "## Сегментация"
   ]
  },
  {
   "cell_type": "markdown",
   "metadata": {},
   "source": [
    "### Общие предпосылки"
   ]
  },
  {
   "cell_type": "markdown",
   "metadata": {},
   "source": [
    "По результатам ИАД и САД отмечено, что есть более значимая зависимость между оттоком и доходом клиентов (интересный интервал от 110 до 210, когда отток превышает по графику, их балансом на счете (свыше 700 т.р.), активностью и количеством объектов собственности (от 3-х).\n",
    "Кроме этого, мы отметили разницу в среднем возрасте клиентов, при этом выделены 2 интервала возрастов по ушедшим клиентам (26-36 и 50-60).\n",
    "Количество продуктов по ушедшим клиентам начинается от 2.\n",
    "К оттоку более склонны мужчины.\n",
    "Формирование сегментов должно отвечать требованиям: уровень оттока в сегменте должен быть выше среднебанковского. Каждый сегмент должен включать не менее 500 клиентов."
   ]
  },
  {
   "cell_type": "code",
   "execution_count": 46,
   "metadata": {},
   "outputs": [
    {
     "data": {
      "text/html": [
       "<div>\n",
       "<style scoped>\n",
       "    .dataframe tbody tr th:only-of-type {\n",
       "        vertical-align: middle;\n",
       "    }\n",
       "\n",
       "    .dataframe tbody tr th {\n",
       "        vertical-align: top;\n",
       "    }\n",
       "\n",
       "    .dataframe thead th {\n",
       "        text-align: right;\n",
       "    }\n",
       "</style>\n",
       "<table border=\"1\" class=\"dataframe\">\n",
       "  <thead>\n",
       "    <tr style=\"text-align: right;\">\n",
       "      <th></th>\n",
       "      <th>index</th>\n",
       "      <th>churn</th>\n",
       "    </tr>\n",
       "  </thead>\n",
       "  <tbody>\n",
       "    <tr>\n",
       "      <th>0</th>\n",
       "      <td>0</td>\n",
       "      <td>0.82</td>\n",
       "    </tr>\n",
       "    <tr>\n",
       "      <th>1</th>\n",
       "      <td>1</td>\n",
       "      <td>0.18</td>\n",
       "    </tr>\n",
       "  </tbody>\n",
       "</table>\n",
       "</div>"
      ],
      "text/plain": [
       "   index  churn\n",
       "0      0   0.82\n",
       "1      1   0.18"
      ]
     },
     "execution_count": 46,
     "metadata": {},
     "output_type": "execute_result"
    }
   ],
   "source": [
    "# средний процент оттока\n",
    "\n",
    "data['churn'].value_counts(normalize = True).reset_index()"
   ]
  },
  {
   "cell_type": "markdown",
   "metadata": {},
   "source": [
    "### Сегмент 1 \"Пол, возраст, средний доход\""
   ]
  },
  {
   "cell_type": "markdown",
   "metadata": {},
   "source": [
    "Предыдущий анализ нам показал, что мужчины больше склонны к оттоку, чем женщины, проверим еще раз"
   ]
  },
  {
   "cell_type": "code",
   "execution_count": 47,
   "metadata": {
    "scrolled": true
   },
   "outputs": [
    {
     "data": {
      "text/plain": [
       "1   0.50\n",
       "0   0.50\n",
       "Name: gender_code_М, dtype: float64"
      ]
     },
     "execution_count": 47,
     "metadata": {},
     "output_type": "execute_result"
    }
   ],
   "source": [
    "# общее соотношение мужчин и женщин в базе данных\n",
    "\n",
    "data['gender_code_М'].value_counts(normalize = True)"
   ]
  },
  {
   "cell_type": "code",
   "execution_count": 48,
   "metadata": {
    "scrolled": true
   },
   "outputs": [
    {
     "data": {
      "text/plain": [
       "1   0.65\n",
       "0   0.35\n",
       "Name: gender_code_М, dtype: float64"
      ]
     },
     "execution_count": 48,
     "metadata": {},
     "output_type": "execute_result"
    }
   ],
   "source": [
    "# доля мужчин среди ушедших клиентов\n",
    "\n",
    "data.query('churn == 1')['gender_code_М'].value_counts(normalize = True)"
   ]
  },
  {
   "cell_type": "markdown",
   "metadata": {},
   "source": [
    "Мужчин действительно больше. Теперь возьмем 2 показатели, по которым мы определили интервалы в распределении. Возраст - первый интервал от 26 до 36 и ср.доход от 110 до 210 т.р. Оценим размер сегмента, чтобы он удовлетворял критерию."
   ]
  },
  {
   "cell_type": "code",
   "execution_count": 49,
   "metadata": {
    "scrolled": false
   },
   "outputs": [
    {
     "data": {
      "text/plain": [
       "570"
      ]
     },
     "execution_count": 49,
     "metadata": {},
     "output_type": "execute_result"
    }
   ],
   "source": [
    "sgm_1_cnt = data.query('gender == \"М\" & 26 < age < 36 & 210000 > est_salary > 110000')['churn'].count()\n",
    "\n",
    "sgm_1_cnt"
   ]
  },
  {
   "cell_type": "markdown",
   "metadata": {},
   "source": [
    "Записей более 500, условие соблюдается, посмотрим процент оттока и запишем в переменную для дальнейше приоритизации"
   ]
  },
  {
   "cell_type": "code",
   "execution_count": 50,
   "metadata": {
    "scrolled": true
   },
   "outputs": [
    {
     "data": {
      "text/plain": [
       "0   0.71\n",
       "1   0.29\n",
       "Name: churn, dtype: float64"
      ]
     },
     "execution_count": 50,
     "metadata": {},
     "output_type": "execute_result"
    }
   ],
   "source": [
    "sgm_1_churn = data.query('gender == \"М\" & 26 < age < 36 & 210000 > est_salary > 110000')['churn'].value_counts(\n",
    "    normalize = True)\n",
    "\n",
    "sgm_1_churn"
   ]
  },
  {
   "cell_type": "markdown",
   "metadata": {},
   "source": [
    "**Вывод:** Сегмент 1 - молодой мужчина в возрасте от 26 до 36 лет со средним доходом от 110 до 210 тыс.руб. Процент оттока **29%**"
   ]
  },
  {
   "cell_type": "markdown",
   "metadata": {},
   "source": [
    "### Сегмент 2 \"2-ой интервал возраст, пол\""
   ]
  },
  {
   "cell_type": "markdown",
   "metadata": {},
   "source": [
    "На распределении мы отметили еще один интервал по возрасту - от 50 до 60 лет. Посмотрим кто больше представлен в этом интервале мужчины или женщины."
   ]
  },
  {
   "cell_type": "code",
   "execution_count": 51,
   "metadata": {
    "scrolled": true
   },
   "outputs": [
    {
     "data": {
      "text/plain": [
       "1   0.56\n",
       "0   0.44\n",
       "Name: gender_code_Ж, dtype: float64"
      ]
     },
     "execution_count": 51,
     "metadata": {},
     "output_type": "execute_result"
    }
   ],
   "source": [
    "data.query('60>age >50')['gender_code_Ж'].value_counts(normalize = True)"
   ]
  },
  {
   "cell_type": "markdown",
   "metadata": {},
   "source": [
    "Больше женщин, посмотрим количество записей"
   ]
  },
  {
   "cell_type": "code",
   "execution_count": 52,
   "metadata": {},
   "outputs": [
    {
     "data": {
      "text/plain": [
       "790"
      ]
     },
     "execution_count": 52,
     "metadata": {},
     "output_type": "execute_result"
    }
   ],
   "source": [
    "sgm_2_cnt = data.query('60>age >50')['gender_code_Ж'].sum()\n",
    "\n",
    "sgm_2_cnt"
   ]
  },
  {
   "cell_type": "code",
   "execution_count": 53,
   "metadata": {},
   "outputs": [
    {
     "data": {
      "text/plain": [
       "0   0.77\n",
       "1   0.23\n",
       "Name: churn, dtype: float64"
      ]
     },
     "execution_count": 53,
     "metadata": {},
     "output_type": "execute_result"
    }
   ],
   "source": [
    "#рассчитаем процент оттока\n",
    "\n",
    "sgm_2_churn = data.query('gender == \"Ж\" & 60 > age > 50')['churn'].value_counts(\n",
    "    normalize = True)\n",
    "\n",
    "sgm_2_churn"
   ]
  },
  {
   "cell_type": "markdown",
   "metadata": {},
   "source": [
    "**Вывод:** Сегмент 2 - Женщина в возрасте от 50 до 60 лет. Процент оттока **23%**"
   ]
  },
  {
   "cell_type": "markdown",
   "metadata": {},
   "source": [
    "### Сегмент 3 \"Активность, баланс, собственность\""
   ]
  },
  {
   "cell_type": "markdown",
   "metadata": {},
   "source": [
    "Рассмотрим в данном сегменте 3 наиболее влияющих фактора. Мы отметили ранее, что клиенты, имеющие баланс выше 700 тыс.руб. более склонны к оттоку, кроме этого активные клиенты. Также выяснили ранее, что склонны к оттоку клиенты, имеющие 3 и более объектов собственности. Посмотрим размер группы и процент оттока"
   ]
  },
  {
   "cell_type": "code",
   "execution_count": 54,
   "metadata": {
    "scrolled": true
   },
   "outputs": [
    {
     "data": {
      "text/plain": [
       "1386"
      ]
     },
     "execution_count": 54,
     "metadata": {},
     "output_type": "execute_result"
    }
   ],
   "source": [
    "# размер группы\n",
    "\n",
    "sgm_3_cnt = data.query('balance > 700000 & equity >=3 & last_activity == 1')['churn'].count()\n",
    "\n",
    "sgm_3_cnt"
   ]
  },
  {
   "cell_type": "code",
   "execution_count": 55,
   "metadata": {
    "scrolled": true
   },
   "outputs": [
    {
     "data": {
      "text/plain": [
       "0   0.51\n",
       "1   0.49\n",
       "Name: churn, dtype: float64"
      ]
     },
     "execution_count": 55,
     "metadata": {},
     "output_type": "execute_result"
    }
   ],
   "source": [
    "# процент оттока\n",
    "\n",
    "sgm_3_churn = data.query('balance > 700000 & equity >=3 & last_activity == 1')['churn'].value_counts(\n",
    "    normalize = True)\n",
    "\n",
    "sgm_3_churn"
   ]
  },
  {
   "cell_type": "markdown",
   "metadata": {},
   "source": [
    "**Вывод:** Сегмент 3 - Активный клиент с балансом на счете  свыше 700000 и объектами собственности от 3 и выше. Процент оттока **49%**"
   ]
  },
  {
   "cell_type": "markdown",
   "metadata": {},
   "source": [
    "### Сегмент 4 \"Активность, продукты, собственность\""
   ]
  },
  {
   "cell_type": "markdown",
   "metadata": {},
   "source": [
    "Посмотрим на клиентов, которые имеют несколько продуктов, объектов собственности и при этом проявляют активность. Все эти признаки влияют на отток, узнаем, какой отток они дают в сочетании"
   ]
  },
  {
   "cell_type": "code",
   "execution_count": 56,
   "metadata": {
    "scrolled": false
   },
   "outputs": [
    {
     "data": {
      "text/plain": [
       "products\n",
       "1    3323\n",
       "2    5119\n",
       "3    1038\n",
       "4     474\n",
       "5      19\n",
       "Name: churn, dtype: int64"
      ]
     },
     "execution_count": 56,
     "metadata": {},
     "output_type": "execute_result"
    }
   ],
   "source": [
    "# посмотрим на распределение количества продуктов, так как на гафике мы видели очень большой отток в том числе с 0 продуктами\n",
    "\n",
    "data.groupby('products')['churn'].count()"
   ]
  },
  {
   "cell_type": "markdown",
   "metadata": {},
   "source": [
    "Видим, что представлена только 1 запись по 0 продуктам, поэтому не будем ее учитывать. Напомним, что отток выше среднего наблюдается у клиентов с 2 и более продуктами."
   ]
  },
  {
   "cell_type": "code",
   "execution_count": 57,
   "metadata": {},
   "outputs": [
    {
     "data": {
      "text/plain": [
       "1833"
      ]
     },
     "execution_count": 57,
     "metadata": {},
     "output_type": "execute_result"
    }
   ],
   "source": [
    "# посмотрим размер сегмента по условиям\n",
    "\n",
    "sgm_4_cnt = data.query('products >=2 & last_activity ==1 & equity>3')['churn'].count()\n",
    "\n",
    "sgm_4_cnt"
   ]
  },
  {
   "cell_type": "code",
   "execution_count": 58,
   "metadata": {
    "scrolled": true
   },
   "outputs": [
    {
     "data": {
      "text/plain": [
       "0   0.59\n",
       "1   0.41\n",
       "Name: churn, dtype: float64"
      ]
     },
     "execution_count": 58,
     "metadata": {},
     "output_type": "execute_result"
    }
   ],
   "source": [
    "# процент оттока\n",
    "sgm_4_churn = data.query('products >=2 & last_activity ==1 & equity>3')['churn'].value_counts(\n",
    "    normalize = True)\n",
    "\n",
    "sgm_4_churn"
   ]
  },
  {
   "cell_type": "markdown",
   "metadata": {},
   "source": [
    "**Вывод:** Сегмент 4 - Активный клиент с 2-мя и более продуктами и объектами собственности от 3 и выше. Процент оттока **41%**"
   ]
  },
  {
   "cell_type": "markdown",
   "metadata": {},
   "source": [
    "## Приоритизация сегментов"
   ]
  },
  {
   "cell_type": "markdown",
   "metadata": {},
   "source": [
    "Соберем все данные в одну таблицу, чтобы сравнить их."
   ]
  },
  {
   "cell_type": "code",
   "execution_count": 59,
   "metadata": {
    "scrolled": true
   },
   "outputs": [
    {
     "data": {
      "text/html": [
       "<div>\n",
       "<style scoped>\n",
       "    .dataframe tbody tr th:only-of-type {\n",
       "        vertical-align: middle;\n",
       "    }\n",
       "\n",
       "    .dataframe tbody tr th {\n",
       "        vertical-align: top;\n",
       "    }\n",
       "\n",
       "    .dataframe thead th {\n",
       "        text-align: right;\n",
       "    }\n",
       "</style>\n",
       "<table border=\"1\" class=\"dataframe\">\n",
       "  <thead>\n",
       "    <tr style=\"text-align: right;\">\n",
       "      <th></th>\n",
       "      <th>Клиент</th>\n",
       "      <th>Отток</th>\n",
       "      <th>Кол-во</th>\n",
       "    </tr>\n",
       "  </thead>\n",
       "  <tbody>\n",
       "    <tr>\n",
       "      <th>s3</th>\n",
       "      <td>0.51</td>\n",
       "      <td>0.49</td>\n",
       "      <td>1386</td>\n",
       "    </tr>\n",
       "    <tr>\n",
       "      <th>s4</th>\n",
       "      <td>0.59</td>\n",
       "      <td>0.41</td>\n",
       "      <td>1833</td>\n",
       "    </tr>\n",
       "    <tr>\n",
       "      <th>s1</th>\n",
       "      <td>0.71</td>\n",
       "      <td>0.29</td>\n",
       "      <td>570</td>\n",
       "    </tr>\n",
       "    <tr>\n",
       "      <th>s2</th>\n",
       "      <td>0.77</td>\n",
       "      <td>0.23</td>\n",
       "      <td>790</td>\n",
       "    </tr>\n",
       "  </tbody>\n",
       "</table>\n",
       "</div>"
      ],
      "text/plain": [
       "    Клиент  Отток  Кол-во\n",
       "s3    0.51   0.49    1386\n",
       "s4    0.59   0.41    1833\n",
       "s1    0.71   0.29     570\n",
       "s2    0.77   0.23     790"
      ]
     },
     "execution_count": 59,
     "metadata": {},
     "output_type": "execute_result"
    }
   ],
   "source": [
    "sgm_plus = pd.concat([sgm_1_churn,sgm_2_churn,sgm_3_churn,sgm_4_churn],axis=1)\n",
    "\n",
    "sgm_plus.columns = ['s1','s2','s3','s4']\n",
    "sgm_total = sgm_plus.T\n",
    "\n",
    "sgm_total.columns = ['Клиент','Отток']\n",
    "\n",
    "sgm_total['Кол-во'] = sgm_1_cnt,sgm_2_cnt,sgm_3_cnt,sgm_4_cnt\n",
    "\n",
    "sgm_total.sort_values(by='Отток',ascending=False)"
   ]
  },
  {
   "cell_type": "markdown",
   "metadata": {},
   "source": [
    "Данная таблица подойдет для маркетологов. Приоритизация проведена по проценту оттока. Здесь следует также обратить внимание на размер выборки. У 2-х сегментов с наибольшим процентом оттока количество клиентов в группе существенно выше, этоговорит о том, что мероприятия по данным сегментам дадут не только больший эффект в сокращении процента оттока по отдельной группе, но и в масштабе большем по клиентам."
   ]
  },
  {
   "cell_type": "markdown",
   "metadata": {},
   "source": [
    "## Итоговые выводы и рекомендации"
   ]
  },
  {
   "cell_type": "markdown",
   "metadata": {},
   "source": [
    "На входе были получены данные о действующих и бывших клиентах \"Метанпромбанка\". \n",
    "\n",
    "В датасете было 10000 записей, поле обработки сократилось не существенно до 9974 записей.\n",
    "\n",
    "\n",
    "Проведен исследовательский анализ данных. Его целью было с помощью разных инструментов найти признаки, которые больше влияют на отток клиентов. \n",
    "Для этого:\n",
    "- было рассмотрено распределение значений (для непрерывных данных - интервалов) по всем признакам в разрезе текущих и ушедших клиентов\n",
    "- рассмотрена корреляция всех признаков с признаком оттока\n",
    "- а также составлены портреты клиентов (действующих и бывших) с описанием каждого признака и указанием относительной разницы значений по признакам\n",
    "\n",
    "По итогам проведения исследовательского анализа выявлены признаки, которые наиболее существенно влияют на отток. Это активность клиента, баланс на счете, средний доход и количество объектов собственности. В меньшей степени, но тем не менее требующие внимания признаки - возраст, кол-во продуков, пол.\n",
    "\n",
    "Далее был осуществлен статистический анализ данных и проверены 3 гипотезы. По результатам:\n",
    "- гипотеза о равенстве средних доходов текущих и бывших клиентов не подтвердилась, доход у тех, кто ушел, выше\n",
    "- гипотеза о равенстве среднего баланса на счете текущих и бывших клиентов не подтвердилась, баланс больше у тех, кто ушел\n",
    "- гипотеза о равенстве среднего возраста текущих и бывших клиентов не подтвердилась, возраст ушедших ниже. НЕсмотря на то, что в портрете клиента разницы в среднем возрасте практически нет, мы отмечали ранее на распределении, что в графике есть 2 явных интервала.\n",
    "\n",
    "Проверка гипотез и полученные результаты дополнили и подтвердили ранее полученные результаты.\n",
    "\n",
    "В итоге на основе интервалов, полученных по распределению признаков, а также с учетом самых существенных признаков были сформированы 4 сегмента. Все они отвечают условиям: их размер более 500 клиентов, процент оттока по сегменту выше среднебанковского (18%).\n",
    "\n",
    "2 сегмента из 4-х имеют уровень оттока выше 40% и достаточно большой размер групп (более 1000 клиентов), 2 других сегмента меньше (600-800 клиентов) и уровень оттока чуть ниже 23-29%, однако они тоже заслуживают внимания, так как предложенные  мероприятия по ним требуют меньших временных и материальных затрат и будут иметь более быстрый эффект."
   ]
  },
  {
   "cell_type": "markdown",
   "metadata": {},
   "source": [
    "**Рекомендации по сегментам:**\n",
    "\n",
    "**Сегмент \"Активный клиент с балансом на счете свыше 700000 и объектами собственности от 3 и выше\".** Процент оттока **49%**\n",
    "и **Сегмент \"Активный клиент с 2-мя и более продуктами и объектами собственности от 3 и выше\".** Процент оттока **41%**.\n",
    "З\n",
    "десь дадим общие рекомендации, так как эти сегменты частично пересекаются и похожи.Однозначно понятно, что сюда относятся обеспеченные клиенты, скорее всего постоянные, активно пользующиеся услугами банка и имеющие и несколько продуктов и объектов собственности. Их отток скорее всего связан с тем, что они уходят в более популярные или продвинутые банки с более интересными и широкими предложениями.Здесь требуется удержание таких клиентов, хорошим решением может стать введение  программы лояльности или премиальной программы  с персональным менеджером и дополнительными бонусами за количество используемых продуктов или сохранению (поддержанию на уровне) остатка баланса, золотыми и прочими картами с привилегиями. Также могут быть запущены дополнительные \"околопродукты\" по сниженным тарифам - например, страхование имущества, жизни, вкладов, путешествий и т.д. Рассмотреть бонусные программы с кэшбеком, например, на АЗС или такси. Клиенты с достатком обычно тратят достаточные суммы в месяц на транспорт и могут получить даже для них ощутимый кэшбек.\n",
    "\n",
    "**Сегмент \"Молодой мужчина в возрасте от 26 до 36 лет со средним доходом от 110 до 210 тыс.руб.** Процент оттока **29%**\n",
    "\n",
    "Для молодых людей будут интересны программы кэшбека и сотрудничества с другими компаниями в виде скидок, спец.предложений). Так, например, сюда могут быть отнесены предложения по скидкам или сотрудничеству с приложениями (типа Музыка, Читалка, Кино), образовательные школы и курсы (языковые, ИТ и пр.) и определнной направленности магазины (электроника, спорт, компьютерные игры и пр.) Здесь более эффективным решением будет не просто кэшбек на категорию товаров, а именно сотрудничество с данными компаниями, то есть пока ты являешься клиентом Метанпромбанка, тебе бесплатно подписка или постоянная скида в магазин компьютерных игр и пр.\n",
    "\n",
    "Самый небольшой **сегмент \"Женщина в возрасте от 50 до 60 лет.** Процент оттока **23%**.\n",
    "Но пожалуй самый быстро реализуемый. Здесь следует обратить внимание на то, что это женщины, а значит повышенный кэшбек и скидочная система на ктегории \"Красота\", \"Одежда\", \"Магазин у дома\". Кроме этого, это женщины в возрасте выше среднего, следует рассмотреть для них спец. предложения - вклады по возрасту, НПФ, страхование, программы ДМС. Кроме этого, женщины в данном возрасте начинают больше путешествовать, интересным станет сотрудничесиво и предложения с туристическими агентствами, экскурсионными бюро, системой РусПасс и все это с привязкой к карте \"Мир\" даст отличный результат."
   ]
  }
 ],
 "metadata": {
  "ExecuteTimeLog": [
   {
    "duration": 1298,
    "start_time": "2023-11-07T12:09:41.888Z"
   },
   {
    "duration": 184,
    "start_time": "2023-11-07T12:10:05.394Z"
   },
   {
    "duration": 9,
    "start_time": "2023-11-07T12:24:01.270Z"
   },
   {
    "duration": 5,
    "start_time": "2023-11-07T12:24:46.108Z"
   },
   {
    "duration": 1777,
    "start_time": "2023-11-07T12:30:25.480Z"
   },
   {
    "duration": 7,
    "start_time": "2023-11-07T12:30:38.773Z"
   },
   {
    "duration": 12,
    "start_time": "2023-11-07T12:37:44.428Z"
   },
   {
    "duration": 10,
    "start_time": "2023-11-07T12:37:55.276Z"
   },
   {
    "duration": 11,
    "start_time": "2023-11-07T12:45:13.797Z"
   },
   {
    "duration": 8,
    "start_time": "2023-11-07T12:45:16.849Z"
   },
   {
    "duration": 4,
    "start_time": "2023-11-07T12:45:19.049Z"
   },
   {
    "duration": 11,
    "start_time": "2023-11-07T12:50:10.785Z"
   },
   {
    "duration": 11,
    "start_time": "2023-11-07T12:50:15.336Z"
   },
   {
    "duration": 3,
    "start_time": "2023-11-07T12:50:19.842Z"
   },
   {
    "duration": 60,
    "start_time": "2023-11-07T12:50:19.846Z"
   },
   {
    "duration": 7,
    "start_time": "2023-11-07T12:50:19.908Z"
   },
   {
    "duration": 10,
    "start_time": "2023-11-07T12:50:23.265Z"
   },
   {
    "duration": 13,
    "start_time": "2023-11-07T12:50:36.281Z"
   },
   {
    "duration": 13,
    "start_time": "2023-11-07T12:50:49.937Z"
   },
   {
    "duration": 6,
    "start_time": "2023-11-07T12:50:51.921Z"
   },
   {
    "duration": 5,
    "start_time": "2023-11-07T12:51:48.985Z"
   },
   {
    "duration": 5,
    "start_time": "2023-11-07T12:52:12.929Z"
   },
   {
    "duration": 6,
    "start_time": "2023-11-07T12:52:17.369Z"
   },
   {
    "duration": 8,
    "start_time": "2023-11-07T12:55:51.154Z"
   },
   {
    "duration": 5,
    "start_time": "2023-11-07T12:56:00.426Z"
   },
   {
    "duration": 5,
    "start_time": "2023-11-07T12:56:20.449Z"
   },
   {
    "duration": 17,
    "start_time": "2023-11-07T13:01:42.970Z"
   },
   {
    "duration": 17,
    "start_time": "2023-11-07T13:02:06.282Z"
   },
   {
    "duration": 18,
    "start_time": "2023-11-07T13:02:40.394Z"
   },
   {
    "duration": 115,
    "start_time": "2023-11-07T13:05:20.033Z"
   },
   {
    "duration": 88,
    "start_time": "2023-11-07T13:08:16.569Z"
   },
   {
    "duration": 54,
    "start_time": "2023-11-07T13:09:00.323Z"
   },
   {
    "duration": 32,
    "start_time": "2023-11-07T13:10:00.458Z"
   },
   {
    "duration": 54,
    "start_time": "2023-11-07T13:11:01.217Z"
   },
   {
    "duration": 2993,
    "start_time": "2023-11-07T13:12:36.057Z"
   },
   {
    "duration": 67,
    "start_time": "2023-11-07T13:13:32.226Z"
   },
   {
    "duration": 5,
    "start_time": "2023-11-07T13:13:47.199Z"
   },
   {
    "duration": 53,
    "start_time": "2023-11-07T13:13:52.113Z"
   },
   {
    "duration": 10,
    "start_time": "2023-11-07T13:16:58.319Z"
   },
   {
    "duration": 8,
    "start_time": "2023-11-07T13:21:26.125Z"
   },
   {
    "duration": 7,
    "start_time": "2023-11-07T13:21:35.765Z"
   },
   {
    "duration": 1944,
    "start_time": "2023-11-07T13:22:45.253Z"
   },
   {
    "duration": 2288,
    "start_time": "2023-11-07T13:22:59.701Z"
   },
   {
    "duration": 8,
    "start_time": "2023-11-07T13:23:10.701Z"
   },
   {
    "duration": 4,
    "start_time": "2023-11-07T13:23:23.893Z"
   },
   {
    "duration": 1929,
    "start_time": "2023-11-07T13:23:33.805Z"
   },
   {
    "duration": 5,
    "start_time": "2023-11-07T13:24:36.454Z"
   },
   {
    "duration": 4,
    "start_time": "2023-11-07T13:24:48.269Z"
   },
   {
    "duration": 178,
    "start_time": "2023-11-07T13:31:43.483Z"
   },
   {
    "duration": 357,
    "start_time": "2023-11-07T13:31:59.731Z"
   },
   {
    "duration": 72,
    "start_time": "2023-11-07T13:36:47.338Z"
   },
   {
    "duration": 3,
    "start_time": "2023-11-07T13:36:53.378Z"
   },
   {
    "duration": 3257,
    "start_time": "2023-11-07T13:36:53.383Z"
   },
   {
    "duration": 5,
    "start_time": "2023-11-07T13:37:03.397Z"
   },
   {
    "duration": 9,
    "start_time": "2023-11-07T13:37:13.780Z"
   },
   {
    "duration": 5,
    "start_time": "2023-11-07T13:37:15.871Z"
   },
   {
    "duration": 60,
    "start_time": "2023-11-07T13:37:19.015Z"
   },
   {
    "duration": 10,
    "start_time": "2023-11-07T13:37:25.245Z"
   },
   {
    "duration": 2,
    "start_time": "2023-11-07T13:43:57.057Z"
   },
   {
    "duration": 3175,
    "start_time": "2023-11-07T13:43:57.230Z"
   },
   {
    "duration": 6,
    "start_time": "2023-11-07T13:44:00.407Z"
   },
   {
    "duration": 50,
    "start_time": "2023-11-07T13:44:00.414Z"
   },
   {
    "duration": 29,
    "start_time": "2023-11-07T13:44:00.466Z"
   },
   {
    "duration": 101,
    "start_time": "2023-11-07T13:44:00.497Z"
   },
   {
    "duration": 7,
    "start_time": "2023-11-07T13:44:00.600Z"
   },
   {
    "duration": 7,
    "start_time": "2023-11-07T13:44:08.251Z"
   },
   {
    "duration": 7,
    "start_time": "2023-11-07T13:44:30.626Z"
   },
   {
    "duration": 5,
    "start_time": "2023-11-07T13:54:46.992Z"
   },
   {
    "duration": 1226,
    "start_time": "2023-11-07T13:55:00.656Z"
   },
   {
    "duration": 12,
    "start_time": "2023-11-07T13:55:04.695Z"
   },
   {
    "duration": 13,
    "start_time": "2023-11-07T13:55:44.136Z"
   },
   {
    "duration": 177,
    "start_time": "2023-11-07T13:57:36.824Z"
   },
   {
    "duration": 313,
    "start_time": "2023-11-07T14:06:40.161Z"
   },
   {
    "duration": 644,
    "start_time": "2023-11-07T14:08:11.364Z"
   },
   {
    "duration": 3,
    "start_time": "2023-11-07T14:08:18.114Z"
   },
   {
    "duration": 3418,
    "start_time": "2023-11-07T14:08:18.284Z"
   },
   {
    "duration": 6,
    "start_time": "2023-11-07T14:08:21.704Z"
   },
   {
    "duration": 9,
    "start_time": "2023-11-07T14:08:21.711Z"
   },
   {
    "duration": 23,
    "start_time": "2023-11-07T14:08:21.721Z"
   },
   {
    "duration": 123,
    "start_time": "2023-11-07T14:08:21.746Z"
   },
   {
    "duration": 10,
    "start_time": "2023-11-07T14:08:21.871Z"
   },
   {
    "duration": 65,
    "start_time": "2023-11-07T14:08:21.883Z"
   },
   {
    "duration": 18,
    "start_time": "2023-11-07T14:08:21.950Z"
   },
   {
    "duration": 207,
    "start_time": "2023-11-07T14:08:28.237Z"
   },
   {
    "duration": 52,
    "start_time": "2023-11-07T16:51:59.490Z"
   },
   {
    "duration": 1643,
    "start_time": "2023-11-07T16:52:05.759Z"
   },
   {
    "duration": 184,
    "start_time": "2023-11-07T16:52:07.405Z"
   },
   {
    "duration": 7,
    "start_time": "2023-11-07T16:52:07.591Z"
   },
   {
    "duration": 41,
    "start_time": "2023-11-07T16:52:07.601Z"
   },
   {
    "duration": 16,
    "start_time": "2023-11-07T16:52:07.645Z"
   },
   {
    "duration": 22,
    "start_time": "2023-11-07T16:52:39.443Z"
   },
   {
    "duration": 68,
    "start_time": "2023-11-07T16:56:48.140Z"
   },
   {
    "duration": 87,
    "start_time": "2023-11-07T16:57:06.044Z"
   },
   {
    "duration": 37,
    "start_time": "2023-11-07T16:57:20.089Z"
   },
   {
    "duration": 11,
    "start_time": "2023-11-07T16:58:32.103Z"
   },
   {
    "duration": 22,
    "start_time": "2023-11-07T16:59:26.198Z"
   },
   {
    "duration": 19,
    "start_time": "2023-11-07T16:59:59.384Z"
   },
   {
    "duration": 26,
    "start_time": "2023-11-07T17:00:24.217Z"
   },
   {
    "duration": 4,
    "start_time": "2023-11-07T17:00:36.846Z"
   },
   {
    "duration": 77,
    "start_time": "2023-11-07T17:00:36.852Z"
   },
   {
    "duration": 7,
    "start_time": "2023-11-07T17:00:36.931Z"
   },
   {
    "duration": 19,
    "start_time": "2023-11-07T17:00:36.939Z"
   },
   {
    "duration": 8,
    "start_time": "2023-11-07T17:00:36.960Z"
   },
   {
    "duration": 25,
    "start_time": "2023-11-07T17:00:42.231Z"
   },
   {
    "duration": 10,
    "start_time": "2023-11-07T17:01:05.132Z"
   },
   {
    "duration": 26,
    "start_time": "2023-11-07T17:01:14.276Z"
   },
   {
    "duration": 93,
    "start_time": "2023-11-07T17:26:05.009Z"
   },
   {
    "duration": 31,
    "start_time": "2023-11-07T17:26:25.339Z"
   },
   {
    "duration": 19,
    "start_time": "2023-11-07T17:31:05.850Z"
   },
   {
    "duration": 21,
    "start_time": "2023-11-07T17:31:31.093Z"
   },
   {
    "duration": 4,
    "start_time": "2023-11-07T17:42:18.202Z"
   },
   {
    "duration": 68,
    "start_time": "2023-11-07T17:42:18.208Z"
   },
   {
    "duration": 6,
    "start_time": "2023-11-07T17:42:18.278Z"
   },
   {
    "duration": 13,
    "start_time": "2023-11-07T17:42:18.285Z"
   },
   {
    "duration": 6,
    "start_time": "2023-11-07T17:42:18.300Z"
   },
   {
    "duration": 59,
    "start_time": "2023-11-07T17:42:18.308Z"
   },
   {
    "duration": 19,
    "start_time": "2023-11-07T17:42:18.369Z"
   },
   {
    "duration": 10,
    "start_time": "2023-11-07T17:42:18.389Z"
   },
   {
    "duration": 10,
    "start_time": "2023-11-07T17:42:18.400Z"
   },
   {
    "duration": 50,
    "start_time": "2023-11-07T17:42:18.411Z"
   },
   {
    "duration": 19,
    "start_time": "2023-11-07T17:42:30.143Z"
   },
   {
    "duration": 21,
    "start_time": "2023-11-07T17:42:38.720Z"
   },
   {
    "duration": 19,
    "start_time": "2023-11-07T17:43:34.713Z"
   },
   {
    "duration": 32,
    "start_time": "2023-11-07T17:44:09.682Z"
   },
   {
    "duration": 361,
    "start_time": "2023-11-07T18:00:32.087Z"
   },
   {
    "duration": 337,
    "start_time": "2023-11-07T18:01:02.918Z"
   },
   {
    "duration": 15,
    "start_time": "2023-11-07T18:03:36.340Z"
   },
   {
    "duration": 19,
    "start_time": "2023-11-07T18:03:45.294Z"
   },
   {
    "duration": 23,
    "start_time": "2023-11-07T18:04:16.753Z"
   },
   {
    "duration": 19,
    "start_time": "2023-11-07T18:04:26.891Z"
   },
   {
    "duration": 16,
    "start_time": "2023-11-07T18:04:38.913Z"
   },
   {
    "duration": 84,
    "start_time": "2023-11-07T18:12:19.847Z"
   },
   {
    "duration": 73,
    "start_time": "2023-11-07T18:12:48.322Z"
   },
   {
    "duration": 318,
    "start_time": "2023-11-07T18:14:04.477Z"
   },
   {
    "duration": 16,
    "start_time": "2023-11-07T18:16:10.350Z"
   },
   {
    "duration": 11,
    "start_time": "2023-11-07T18:59:12.627Z"
   },
   {
    "duration": 9,
    "start_time": "2023-11-07T18:59:52.246Z"
   },
   {
    "duration": 9,
    "start_time": "2023-11-07T19:00:49.274Z"
   },
   {
    "duration": 10,
    "start_time": "2023-11-07T19:06:37.861Z"
   },
   {
    "duration": 11,
    "start_time": "2023-11-07T19:06:47.746Z"
   },
   {
    "duration": 18,
    "start_time": "2023-11-07T19:06:54.532Z"
   },
   {
    "duration": 18,
    "start_time": "2023-11-07T19:07:25.576Z"
   },
   {
    "duration": 75,
    "start_time": "2023-11-07T19:07:54.811Z"
   },
   {
    "duration": 19,
    "start_time": "2023-11-07T19:08:01.105Z"
   },
   {
    "duration": 16,
    "start_time": "2023-11-07T19:09:04.354Z"
   },
   {
    "duration": 20,
    "start_time": "2023-11-07T19:09:42.927Z"
   },
   {
    "duration": 15,
    "start_time": "2023-11-07T19:10:53.698Z"
   },
   {
    "duration": 18,
    "start_time": "2023-11-07T19:11:11.914Z"
   },
   {
    "duration": 18,
    "start_time": "2023-11-07T19:12:18.179Z"
   },
   {
    "duration": 17,
    "start_time": "2023-11-07T19:13:21.482Z"
   },
   {
    "duration": 113,
    "start_time": "2023-11-07T19:13:50.378Z"
   },
   {
    "duration": 30,
    "start_time": "2023-11-07T19:14:00.953Z"
   },
   {
    "duration": 21,
    "start_time": "2023-11-07T19:14:12.956Z"
   },
   {
    "duration": 187,
    "start_time": "2023-11-07T19:47:34.642Z"
   },
   {
    "duration": 13,
    "start_time": "2023-11-07T19:53:17.401Z"
   },
   {
    "duration": 16,
    "start_time": "2023-11-07T19:53:28.939Z"
   },
   {
    "duration": 86,
    "start_time": "2023-11-07T19:53:45.445Z"
   },
   {
    "duration": 15,
    "start_time": "2023-11-07T19:53:54.521Z"
   },
   {
    "duration": 3,
    "start_time": "2023-11-07T19:54:36.336Z"
   },
   {
    "duration": 84,
    "start_time": "2023-11-07T19:54:36.341Z"
   },
   {
    "duration": 7,
    "start_time": "2023-11-07T19:54:36.427Z"
   },
   {
    "duration": 21,
    "start_time": "2023-11-07T19:54:36.436Z"
   },
   {
    "duration": 5,
    "start_time": "2023-11-07T19:54:36.462Z"
   },
   {
    "duration": 26,
    "start_time": "2023-11-07T19:54:36.469Z"
   },
   {
    "duration": 17,
    "start_time": "2023-11-07T19:54:36.497Z"
   },
   {
    "duration": 40,
    "start_time": "2023-11-07T19:54:36.516Z"
   },
   {
    "duration": 11,
    "start_time": "2023-11-07T19:54:36.558Z"
   },
   {
    "duration": 32,
    "start_time": "2023-11-07T19:54:41.727Z"
   },
   {
    "duration": 18,
    "start_time": "2023-11-07T19:54:50.223Z"
   },
   {
    "duration": 9,
    "start_time": "2023-11-07T19:55:09.043Z"
   },
   {
    "duration": 74,
    "start_time": "2023-11-07T19:55:09.054Z"
   },
   {
    "duration": 6,
    "start_time": "2023-11-07T19:55:09.130Z"
   },
   {
    "duration": 31,
    "start_time": "2023-11-07T19:55:09.137Z"
   },
   {
    "duration": 6,
    "start_time": "2023-11-07T19:55:09.170Z"
   },
   {
    "duration": 23,
    "start_time": "2023-11-07T19:55:12.471Z"
   },
   {
    "duration": 29,
    "start_time": "2023-11-07T19:55:21.942Z"
   },
   {
    "duration": 27,
    "start_time": "2023-11-07T19:55:27.258Z"
   },
   {
    "duration": 18,
    "start_time": "2023-11-07T19:55:40.286Z"
   },
   {
    "duration": 17,
    "start_time": "2023-11-07T19:55:53.890Z"
   },
   {
    "duration": 30,
    "start_time": "2023-11-07T19:56:04.282Z"
   },
   {
    "duration": 28,
    "start_time": "2023-11-07T19:56:20.364Z"
   },
   {
    "duration": 12,
    "start_time": "2023-11-07T19:56:36.209Z"
   },
   {
    "duration": 16,
    "start_time": "2023-11-07T20:01:37.708Z"
   },
   {
    "duration": 4,
    "start_time": "2023-11-07T20:01:54.216Z"
   },
   {
    "duration": 89,
    "start_time": "2023-11-07T20:01:54.222Z"
   },
   {
    "duration": 6,
    "start_time": "2023-11-07T20:01:54.313Z"
   },
   {
    "duration": 34,
    "start_time": "2023-11-07T20:01:54.321Z"
   },
   {
    "duration": 18,
    "start_time": "2023-11-07T20:01:54.357Z"
   },
   {
    "duration": 29,
    "start_time": "2023-11-07T20:01:54.377Z"
   },
   {
    "duration": 19,
    "start_time": "2023-11-07T20:01:54.407Z"
   },
   {
    "duration": 23,
    "start_time": "2023-11-07T20:01:54.427Z"
   },
   {
    "duration": 9,
    "start_time": "2023-11-07T20:01:54.451Z"
   },
   {
    "duration": 15,
    "start_time": "2023-11-07T20:02:00.674Z"
   },
   {
    "duration": 24,
    "start_time": "2023-11-07T20:02:14.042Z"
   },
   {
    "duration": 40,
    "start_time": "2023-11-07T20:02:25.793Z"
   },
   {
    "duration": 27,
    "start_time": "2023-11-07T20:02:42.174Z"
   },
   {
    "duration": 28,
    "start_time": "2023-11-07T20:02:46.559Z"
   },
   {
    "duration": 4,
    "start_time": "2023-11-07T20:02:56.383Z"
   },
   {
    "duration": 72,
    "start_time": "2023-11-07T20:02:56.389Z"
   },
   {
    "duration": 6,
    "start_time": "2023-11-07T20:02:56.463Z"
   },
   {
    "duration": 13,
    "start_time": "2023-11-07T20:02:56.470Z"
   },
   {
    "duration": 5,
    "start_time": "2023-11-07T20:02:56.485Z"
   },
   {
    "duration": 22,
    "start_time": "2023-11-07T20:02:56.491Z"
   },
   {
    "duration": 49,
    "start_time": "2023-11-07T20:02:56.514Z"
   },
   {
    "duration": 8,
    "start_time": "2023-11-07T20:02:56.565Z"
   },
   {
    "duration": 8,
    "start_time": "2023-11-07T20:02:56.575Z"
   },
   {
    "duration": 29,
    "start_time": "2023-11-07T20:02:56.585Z"
   },
   {
    "duration": 28,
    "start_time": "2023-11-07T20:03:01.272Z"
   },
   {
    "duration": 16,
    "start_time": "2023-11-07T20:03:11.514Z"
   },
   {
    "duration": 15,
    "start_time": "2023-11-07T20:03:22.229Z"
   },
   {
    "duration": 9,
    "start_time": "2023-11-07T20:03:47.481Z"
   },
   {
    "duration": 171,
    "start_time": "2023-11-07T20:03:58.664Z"
   },
   {
    "duration": 426,
    "start_time": "2023-11-07T20:04:35.949Z"
   },
   {
    "duration": 170,
    "start_time": "2023-11-07T20:05:17.454Z"
   },
   {
    "duration": 225,
    "start_time": "2023-11-07T20:07:45.724Z"
   },
   {
    "duration": 9,
    "start_time": "2023-11-07T20:08:23.209Z"
   },
   {
    "duration": 9,
    "start_time": "2023-11-07T20:09:35.550Z"
   },
   {
    "duration": 447,
    "start_time": "2023-11-07T20:10:56.467Z"
   },
   {
    "duration": 10,
    "start_time": "2023-11-07T20:11:30.470Z"
   },
   {
    "duration": 221,
    "start_time": "2023-11-07T20:11:42.837Z"
   },
   {
    "duration": 5,
    "start_time": "2023-11-07T20:54:39.181Z"
   },
   {
    "duration": 15,
    "start_time": "2023-11-07T20:55:53.899Z"
   },
   {
    "duration": 17,
    "start_time": "2023-11-07T21:04:42.465Z"
   },
   {
    "duration": 18,
    "start_time": "2023-11-07T21:05:47.940Z"
   },
   {
    "duration": 3,
    "start_time": "2023-11-07T21:06:18.368Z"
   },
   {
    "duration": 12,
    "start_time": "2023-11-07T21:06:32.096Z"
   },
   {
    "duration": 9,
    "start_time": "2023-11-07T21:07:06.616Z"
   },
   {
    "duration": 1675,
    "start_time": "2023-11-07T21:25:42.329Z"
   },
   {
    "duration": 198,
    "start_time": "2023-11-07T21:25:44.006Z"
   },
   {
    "duration": 15,
    "start_time": "2023-11-07T21:25:44.206Z"
   },
   {
    "duration": 31,
    "start_time": "2023-11-07T21:25:44.223Z"
   },
   {
    "duration": 10,
    "start_time": "2023-11-07T21:25:44.262Z"
   },
   {
    "duration": 25,
    "start_time": "2023-11-07T21:25:44.273Z"
   },
   {
    "duration": 49,
    "start_time": "2023-11-07T21:25:44.300Z"
   },
   {
    "duration": 11,
    "start_time": "2023-11-07T21:25:44.354Z"
   },
   {
    "duration": 10,
    "start_time": "2023-11-07T21:25:44.367Z"
   },
   {
    "duration": 24,
    "start_time": "2023-11-07T21:25:44.379Z"
   },
   {
    "duration": 37,
    "start_time": "2023-11-07T21:25:44.404Z"
   },
   {
    "duration": 15,
    "start_time": "2023-11-07T21:25:44.442Z"
   },
   {
    "duration": 303,
    "start_time": "2023-11-07T21:25:44.459Z"
   },
   {
    "duration": 119,
    "start_time": "2023-11-07T21:25:44.765Z"
   },
   {
    "duration": 0,
    "start_time": "2023-11-07T21:25:44.885Z"
   },
   {
    "duration": 0,
    "start_time": "2023-11-07T21:25:44.886Z"
   },
   {
    "duration": 36,
    "start_time": "2023-11-07T21:25:50.819Z"
   },
   {
    "duration": 1298,
    "start_time": "2023-11-08T11:24:40.380Z"
   },
   {
    "duration": 182,
    "start_time": "2023-11-08T11:24:41.680Z"
   },
   {
    "duration": 5,
    "start_time": "2023-11-08T11:24:41.863Z"
   },
   {
    "duration": 9,
    "start_time": "2023-11-08T11:24:41.870Z"
   },
   {
    "duration": 4,
    "start_time": "2023-11-08T11:24:41.880Z"
   },
   {
    "duration": 23,
    "start_time": "2023-11-08T11:24:41.885Z"
   },
   {
    "duration": 31,
    "start_time": "2023-11-08T11:24:41.910Z"
   },
   {
    "duration": 7,
    "start_time": "2023-11-08T11:24:41.942Z"
   },
   {
    "duration": 7,
    "start_time": "2023-11-08T11:24:41.950Z"
   },
   {
    "duration": 12,
    "start_time": "2023-11-08T11:24:41.959Z"
   },
   {
    "duration": 13,
    "start_time": "2023-11-08T11:24:41.972Z"
   },
   {
    "duration": 10,
    "start_time": "2023-11-08T11:24:41.986Z"
   },
   {
    "duration": 222,
    "start_time": "2023-11-08T11:24:41.997Z"
   },
   {
    "duration": 100,
    "start_time": "2023-11-08T11:24:42.220Z"
   },
   {
    "duration": 0,
    "start_time": "2023-11-08T11:24:42.322Z"
   },
   {
    "duration": 0,
    "start_time": "2023-11-08T11:24:42.323Z"
   },
   {
    "duration": 21,
    "start_time": "2023-11-08T11:24:49.499Z"
   },
   {
    "duration": 4,
    "start_time": "2023-11-08T11:30:19.299Z"
   },
   {
    "duration": 58,
    "start_time": "2023-11-08T11:30:19.305Z"
   },
   {
    "duration": 6,
    "start_time": "2023-11-08T11:30:19.365Z"
   },
   {
    "duration": 9,
    "start_time": "2023-11-08T11:30:19.373Z"
   },
   {
    "duration": 5,
    "start_time": "2023-11-08T11:30:19.385Z"
   },
   {
    "duration": 48,
    "start_time": "2023-11-08T11:30:19.391Z"
   },
   {
    "duration": 14,
    "start_time": "2023-11-08T11:30:19.441Z"
   },
   {
    "duration": 8,
    "start_time": "2023-11-08T11:30:19.457Z"
   },
   {
    "duration": 9,
    "start_time": "2023-11-08T11:30:19.466Z"
   },
   {
    "duration": 14,
    "start_time": "2023-11-08T11:30:19.477Z"
   },
   {
    "duration": 14,
    "start_time": "2023-11-08T11:30:19.493Z"
   },
   {
    "duration": 35,
    "start_time": "2023-11-08T11:30:19.509Z"
   },
   {
    "duration": 176,
    "start_time": "2023-11-08T11:30:22.746Z"
   },
   {
    "duration": 185,
    "start_time": "2023-11-08T11:30:31.378Z"
   },
   {
    "duration": 1113,
    "start_time": "2023-11-08T11:44:10.068Z"
   },
   {
    "duration": 62,
    "start_time": "2023-11-08T11:44:11.183Z"
   },
   {
    "duration": 5,
    "start_time": "2023-11-08T11:44:11.246Z"
   },
   {
    "duration": 12,
    "start_time": "2023-11-08T11:44:11.252Z"
   },
   {
    "duration": 4,
    "start_time": "2023-11-08T11:44:11.266Z"
   },
   {
    "duration": 20,
    "start_time": "2023-11-08T11:44:11.271Z"
   },
   {
    "duration": 16,
    "start_time": "2023-11-08T11:44:11.292Z"
   },
   {
    "duration": 8,
    "start_time": "2023-11-08T11:44:11.339Z"
   },
   {
    "duration": 12,
    "start_time": "2023-11-08T11:44:11.348Z"
   },
   {
    "duration": 17,
    "start_time": "2023-11-08T11:44:11.361Z"
   },
   {
    "duration": 16,
    "start_time": "2023-11-08T11:44:11.379Z"
   },
   {
    "duration": 7,
    "start_time": "2023-11-08T11:44:11.397Z"
   },
   {
    "duration": 226,
    "start_time": "2023-11-08T11:44:11.405Z"
   },
   {
    "duration": 3,
    "start_time": "2023-11-08T11:44:11.641Z"
   },
   {
    "duration": 0,
    "start_time": "2023-11-08T11:45:11.263Z"
   },
   {
    "duration": 0,
    "start_time": "2023-11-08T11:45:11.264Z"
   },
   {
    "duration": 0,
    "start_time": "2023-11-08T11:45:11.265Z"
   },
   {
    "duration": 0,
    "start_time": "2023-11-08T11:45:11.266Z"
   },
   {
    "duration": 179,
    "start_time": "2023-11-08T11:45:17.048Z"
   },
   {
    "duration": 57197,
    "start_time": "2023-11-08T11:45:37.192Z"
   },
   {
    "duration": 0,
    "start_time": "2023-11-08T11:46:34.395Z"
   },
   {
    "duration": 9,
    "start_time": "2023-11-08T11:46:39.399Z"
   },
   {
    "duration": 4,
    "start_time": "2023-11-08T11:46:43.295Z"
   },
   {
    "duration": 3,
    "start_time": "2023-11-08T11:47:03.392Z"
   },
   {
    "duration": 67773,
    "start_time": "2023-11-08T11:47:13.784Z"
   },
   {
    "duration": 230,
    "start_time": "2023-11-08T11:48:58.383Z"
   },
   {
    "duration": 179,
    "start_time": "2023-11-08T11:49:13.751Z"
   },
   {
    "duration": 179,
    "start_time": "2023-11-08T11:49:28.319Z"
   },
   {
    "duration": 31003,
    "start_time": "2023-11-08T11:50:58.360Z"
   },
   {
    "duration": 31255,
    "start_time": "2023-11-08T11:52:10.342Z"
   },
   {
    "duration": 3,
    "start_time": "2023-11-08T13:39:04.110Z"
   },
   {
    "duration": 91,
    "start_time": "2023-11-08T13:39:04.115Z"
   },
   {
    "duration": 5,
    "start_time": "2023-11-08T13:39:04.207Z"
   },
   {
    "duration": 42,
    "start_time": "2023-11-08T13:39:04.213Z"
   },
   {
    "duration": 13,
    "start_time": "2023-11-08T13:39:04.257Z"
   },
   {
    "duration": 50,
    "start_time": "2023-11-08T13:39:04.272Z"
   },
   {
    "duration": 19,
    "start_time": "2023-11-08T13:39:04.324Z"
   },
   {
    "duration": 11,
    "start_time": "2023-11-08T13:39:04.344Z"
   },
   {
    "duration": 10,
    "start_time": "2023-11-08T13:39:04.357Z"
   },
   {
    "duration": 16,
    "start_time": "2023-11-08T13:39:04.369Z"
   },
   {
    "duration": 19,
    "start_time": "2023-11-08T13:39:04.388Z"
   },
   {
    "duration": 40,
    "start_time": "2023-11-08T13:39:04.409Z"
   },
   {
    "duration": 10,
    "start_time": "2023-11-08T13:39:04.450Z"
   },
   {
    "duration": 197,
    "start_time": "2023-11-08T13:39:04.461Z"
   },
   {
    "duration": 2,
    "start_time": "2023-11-08T13:39:04.660Z"
   },
   {
    "duration": 7,
    "start_time": "2023-11-08T13:39:04.663Z"
   },
   {
    "duration": 30510,
    "start_time": "2023-11-08T13:39:09.476Z"
   },
   {
    "duration": 1579,
    "start_time": "2023-11-08T19:41:30.690Z"
   },
   {
    "duration": 186,
    "start_time": "2023-11-08T19:41:32.271Z"
   },
   {
    "duration": 8,
    "start_time": "2023-11-08T19:41:32.460Z"
   },
   {
    "duration": 33,
    "start_time": "2023-11-08T19:41:32.469Z"
   },
   {
    "duration": 9,
    "start_time": "2023-11-08T19:41:32.505Z"
   },
   {
    "duration": 27,
    "start_time": "2023-11-08T19:41:32.516Z"
   },
   {
    "duration": 41,
    "start_time": "2023-11-08T19:41:32.545Z"
   },
   {
    "duration": 12,
    "start_time": "2023-11-08T19:41:32.588Z"
   },
   {
    "duration": 17,
    "start_time": "2023-11-08T19:41:32.602Z"
   },
   {
    "duration": 21,
    "start_time": "2023-11-08T19:41:32.621Z"
   },
   {
    "duration": 48,
    "start_time": "2023-11-08T19:41:32.644Z"
   },
   {
    "duration": 14,
    "start_time": "2023-11-08T19:41:32.694Z"
   },
   {
    "duration": 240,
    "start_time": "2023-11-08T19:41:32.709Z"
   },
   {
    "duration": 92,
    "start_time": "2023-11-08T19:41:32.952Z"
   },
   {
    "duration": 0,
    "start_time": "2023-11-08T19:41:33.046Z"
   },
   {
    "duration": 98,
    "start_time": "2023-11-08T19:41:40.076Z"
   },
   {
    "duration": 37623,
    "start_time": "2023-11-08T19:41:55.826Z"
   },
   {
    "duration": 5,
    "start_time": "2023-11-08T19:47:59.230Z"
   },
   {
    "duration": 9,
    "start_time": "2023-11-08T19:48:50.993Z"
   },
   {
    "duration": 120,
    "start_time": "2023-11-08T19:50:12.088Z"
   },
   {
    "duration": 5,
    "start_time": "2023-11-08T19:50:38.967Z"
   },
   {
    "duration": 23,
    "start_time": "2023-11-08T19:51:33.390Z"
   },
   {
    "duration": 22,
    "start_time": "2023-11-08T19:52:23.665Z"
   },
   {
    "duration": 10920,
    "start_time": "2023-11-08T19:54:28.916Z"
   },
   {
    "duration": 224,
    "start_time": "2023-11-08T19:55:08.331Z"
   },
   {
    "duration": 14,
    "start_time": "2023-11-08T19:56:40.064Z"
   },
   {
    "duration": 10,
    "start_time": "2023-11-08T19:57:58.593Z"
   },
   {
    "duration": 212,
    "start_time": "2023-11-08T19:58:23.869Z"
   },
   {
    "duration": 13,
    "start_time": "2023-11-08T19:59:03.138Z"
   },
   {
    "duration": 11,
    "start_time": "2023-11-08T20:03:26.248Z"
   },
   {
    "duration": 25,
    "start_time": "2023-11-08T20:04:27.142Z"
   },
   {
    "duration": 28,
    "start_time": "2023-11-08T20:04:44.595Z"
   },
   {
    "duration": 70,
    "start_time": "2023-11-08T20:05:08.558Z"
   },
   {
    "duration": 11060,
    "start_time": "2023-11-08T20:08:00.592Z"
   },
   {
    "duration": 160,
    "start_time": "2023-11-08T20:10:21.951Z"
   },
   {
    "duration": 5,
    "start_time": "2023-11-08T20:12:25.248Z"
   },
   {
    "duration": 9,
    "start_time": "2023-11-08T20:14:22.434Z"
   },
   {
    "duration": 5,
    "start_time": "2023-11-08T20:14:39.769Z"
   },
   {
    "duration": 99,
    "start_time": "2023-11-08T20:14:39.776Z"
   },
   {
    "duration": 6,
    "start_time": "2023-11-08T20:14:39.876Z"
   },
   {
    "duration": 19,
    "start_time": "2023-11-08T20:14:39.884Z"
   },
   {
    "duration": 6,
    "start_time": "2023-11-08T20:14:39.906Z"
   },
   {
    "duration": 32,
    "start_time": "2023-11-08T20:14:39.914Z"
   },
   {
    "duration": 39,
    "start_time": "2023-11-08T20:14:39.948Z"
   },
   {
    "duration": 9,
    "start_time": "2023-11-08T20:14:39.989Z"
   },
   {
    "duration": 24,
    "start_time": "2023-11-08T20:14:40.000Z"
   },
   {
    "duration": 27,
    "start_time": "2023-11-08T20:14:40.026Z"
   },
   {
    "duration": 17,
    "start_time": "2023-11-08T20:14:40.055Z"
   },
   {
    "duration": 47,
    "start_time": "2023-11-08T20:14:40.080Z"
   },
   {
    "duration": 220,
    "start_time": "2023-11-08T20:14:40.128Z"
   },
   {
    "duration": 242,
    "start_time": "2023-11-08T20:14:40.351Z"
   },
   {
    "duration": 166,
    "start_time": "2023-11-08T20:14:40.595Z"
   },
   {
    "duration": 9,
    "start_time": "2023-11-08T20:15:02.201Z"
   },
   {
    "duration": 10,
    "start_time": "2023-11-08T20:15:15.286Z"
   },
   {
    "duration": 4,
    "start_time": "2023-11-08T20:24:17.054Z"
   },
   {
    "duration": 23,
    "start_time": "2023-11-08T20:24:32.618Z"
   },
   {
    "duration": 11,
    "start_time": "2023-11-08T20:25:04.343Z"
   },
   {
    "duration": 2,
    "start_time": "2023-11-08T20:26:05.276Z"
   },
   {
    "duration": 2,
    "start_time": "2023-11-08T20:26:12.022Z"
   },
   {
    "duration": 3,
    "start_time": "2023-11-08T20:26:30.531Z"
   },
   {
    "duration": 38,
    "start_time": "2023-11-08T20:26:49.463Z"
   },
   {
    "duration": 88,
    "start_time": "2023-11-08T20:33:03.099Z"
   },
   {
    "duration": 11,
    "start_time": "2023-11-08T20:33:22.470Z"
   },
   {
    "duration": 14,
    "start_time": "2023-11-08T20:36:20.840Z"
   },
   {
    "duration": 28,
    "start_time": "2023-11-08T20:36:39.766Z"
   },
   {
    "duration": 19,
    "start_time": "2023-11-08T20:37:19.760Z"
   },
   {
    "duration": 22,
    "start_time": "2023-11-08T20:39:54.220Z"
   },
   {
    "duration": 16,
    "start_time": "2023-11-08T20:40:23.615Z"
   },
   {
    "duration": 20,
    "start_time": "2023-11-08T20:40:59.350Z"
   },
   {
    "duration": 18,
    "start_time": "2023-11-08T20:41:20.961Z"
   },
   {
    "duration": 11,
    "start_time": "2023-11-08T20:42:43.010Z"
   },
   {
    "duration": 80,
    "start_time": "2023-11-08T20:42:59.217Z"
   },
   {
    "duration": 80,
    "start_time": "2023-11-08T20:43:24.787Z"
   },
   {
    "duration": 124,
    "start_time": "2023-11-08T20:43:54.362Z"
   },
   {
    "duration": 10,
    "start_time": "2023-11-08T20:44:09.455Z"
   },
   {
    "duration": 19,
    "start_time": "2023-11-08T20:44:35.530Z"
   },
   {
    "duration": 24,
    "start_time": "2023-11-08T20:45:43.723Z"
   },
   {
    "duration": 22,
    "start_time": "2023-11-08T20:46:37.037Z"
   },
   {
    "duration": 6,
    "start_time": "2023-11-08T20:48:15.758Z"
   },
   {
    "duration": 22,
    "start_time": "2023-11-08T20:57:04.533Z"
   },
   {
    "duration": 23,
    "start_time": "2023-11-08T20:57:28.799Z"
   },
   {
    "duration": 1213,
    "start_time": "2023-11-08T21:00:41.730Z"
   },
   {
    "duration": 417,
    "start_time": "2023-11-08T21:03:36.473Z"
   },
   {
    "duration": 310,
    "start_time": "2023-11-08T21:03:58.978Z"
   },
   {
    "duration": 324,
    "start_time": "2023-11-08T21:04:04.408Z"
   },
   {
    "duration": 13,
    "start_time": "2023-11-08T21:05:09.314Z"
   },
   {
    "duration": 316,
    "start_time": "2023-11-08T21:05:29.262Z"
   },
   {
    "duration": 443,
    "start_time": "2023-11-08T21:05:51.445Z"
   },
   {
    "duration": 11,
    "start_time": "2023-11-08T21:07:49.488Z"
   },
   {
    "duration": 17,
    "start_time": "2023-11-08T21:08:08.888Z"
   },
   {
    "duration": 12,
    "start_time": "2023-11-08T21:08:27.528Z"
   },
   {
    "duration": 12,
    "start_time": "2023-11-08T21:08:48.231Z"
   },
   {
    "duration": 16,
    "start_time": "2023-11-08T21:09:21.266Z"
   },
   {
    "duration": 12,
    "start_time": "2023-11-08T21:09:34.902Z"
   },
   {
    "duration": 13,
    "start_time": "2023-11-08T21:10:47.806Z"
   },
   {
    "duration": 11,
    "start_time": "2023-11-08T21:11:00.055Z"
   },
   {
    "duration": 12,
    "start_time": "2023-11-08T21:11:18.769Z"
   },
   {
    "duration": 11,
    "start_time": "2023-11-08T21:11:23.300Z"
   },
   {
    "duration": 2,
    "start_time": "2023-11-08T21:11:53.448Z"
   },
   {
    "duration": 4,
    "start_time": "2023-11-08T21:18:32.763Z"
   },
   {
    "duration": 29,
    "start_time": "2023-11-08T21:19:40.012Z"
   },
   {
    "duration": 4,
    "start_time": "2023-11-08T21:20:08.672Z"
   },
   {
    "duration": 90,
    "start_time": "2023-11-08T21:20:08.679Z"
   },
   {
    "duration": 9,
    "start_time": "2023-11-08T21:20:08.771Z"
   },
   {
    "duration": 20,
    "start_time": "2023-11-08T21:20:08.782Z"
   },
   {
    "duration": 7,
    "start_time": "2023-11-08T21:20:08.804Z"
   },
   {
    "duration": 23,
    "start_time": "2023-11-08T21:20:08.815Z"
   },
   {
    "duration": 46,
    "start_time": "2023-11-08T21:20:08.840Z"
   },
   {
    "duration": 9,
    "start_time": "2023-11-08T21:20:08.888Z"
   },
   {
    "duration": 10,
    "start_time": "2023-11-08T21:20:08.899Z"
   },
   {
    "duration": 25,
    "start_time": "2023-11-08T21:20:08.911Z"
   },
   {
    "duration": 63,
    "start_time": "2023-11-08T21:20:08.939Z"
   },
   {
    "duration": 83,
    "start_time": "2023-11-08T21:20:09.005Z"
   },
   {
    "duration": 248,
    "start_time": "2023-11-08T21:20:09.090Z"
   },
   {
    "duration": 239,
    "start_time": "2023-11-08T21:20:09.342Z"
   },
   {
    "duration": 163,
    "start_time": "2023-11-08T21:20:09.583Z"
   },
   {
    "duration": 12,
    "start_time": "2023-11-08T21:20:09.748Z"
   },
   {
    "duration": 19,
    "start_time": "2023-11-08T21:20:09.762Z"
   },
   {
    "duration": 10,
    "start_time": "2023-11-08T21:20:09.783Z"
   },
   {
    "duration": 4,
    "start_time": "2023-11-08T21:20:09.795Z"
   },
   {
    "duration": 6,
    "start_time": "2023-11-08T21:20:09.801Z"
   },
   {
    "duration": 29,
    "start_time": "2023-11-08T21:20:14.218Z"
   },
   {
    "duration": 24,
    "start_time": "2023-11-08T21:27:58.421Z"
   },
   {
    "duration": 394,
    "start_time": "2023-11-08T21:40:03.089Z"
   },
   {
    "duration": 318,
    "start_time": "2023-11-08T21:40:16.077Z"
   },
   {
    "duration": 10,
    "start_time": "2023-11-08T21:40:32.896Z"
   },
   {
    "duration": 23,
    "start_time": "2023-11-08T21:40:44.836Z"
   },
   {
    "duration": 23,
    "start_time": "2023-11-08T21:41:19.351Z"
   },
   {
    "duration": 15,
    "start_time": "2023-11-08T21:41:55.321Z"
   },
   {
    "duration": 18,
    "start_time": "2023-11-08T21:42:27.012Z"
   },
   {
    "duration": 17,
    "start_time": "2023-11-08T21:43:16.547Z"
   },
   {
    "duration": 19,
    "start_time": "2023-11-08T21:43:27.743Z"
   },
   {
    "duration": 28,
    "start_time": "2023-11-08T21:45:03.744Z"
   },
   {
    "duration": 11,
    "start_time": "2023-11-08T21:47:55.066Z"
   },
   {
    "duration": 74,
    "start_time": "2023-11-08T21:48:05.839Z"
   },
   {
    "duration": 12,
    "start_time": "2023-11-08T21:48:19.733Z"
   },
   {
    "duration": 18,
    "start_time": "2023-11-08T21:48:48.868Z"
   },
   {
    "duration": 25,
    "start_time": "2023-11-08T21:49:56.451Z"
   },
   {
    "duration": 27,
    "start_time": "2023-11-08T21:50:46.022Z"
   },
   {
    "duration": 28,
    "start_time": "2023-11-08T21:52:03.300Z"
   },
   {
    "duration": 24,
    "start_time": "2023-11-08T21:52:17.126Z"
   },
   {
    "duration": 25,
    "start_time": "2023-11-08T21:52:23.926Z"
   },
   {
    "duration": 28,
    "start_time": "2023-11-08T21:52:47.471Z"
   },
   {
    "duration": 26,
    "start_time": "2023-11-08T21:53:04.182Z"
   },
   {
    "duration": 27,
    "start_time": "2023-11-08T21:54:58.307Z"
   },
   {
    "duration": 27,
    "start_time": "2023-11-08T21:55:30.265Z"
   },
   {
    "duration": 3,
    "start_time": "2023-11-08T21:58:30.678Z"
   },
   {
    "duration": 4,
    "start_time": "2023-11-08T21:59:09.404Z"
   },
   {
    "duration": 4,
    "start_time": "2023-11-08T21:59:09.410Z"
   },
   {
    "duration": 80,
    "start_time": "2023-11-08T21:59:09.416Z"
   },
   {
    "duration": 7,
    "start_time": "2023-11-08T21:59:09.498Z"
   },
   {
    "duration": 17,
    "start_time": "2023-11-08T21:59:09.507Z"
   },
   {
    "duration": 5,
    "start_time": "2023-11-08T21:59:09.526Z"
   },
   {
    "duration": 21,
    "start_time": "2023-11-08T21:59:09.533Z"
   },
   {
    "duration": 49,
    "start_time": "2023-11-08T21:59:09.556Z"
   },
   {
    "duration": 9,
    "start_time": "2023-11-08T21:59:09.607Z"
   },
   {
    "duration": 9,
    "start_time": "2023-11-08T21:59:09.618Z"
   },
   {
    "duration": 17,
    "start_time": "2023-11-08T21:59:09.629Z"
   },
   {
    "duration": 51,
    "start_time": "2023-11-08T21:59:09.648Z"
   },
   {
    "duration": 59,
    "start_time": "2023-11-08T21:59:09.701Z"
   },
   {
    "duration": 257,
    "start_time": "2023-11-08T21:59:09.762Z"
   },
   {
    "duration": 285,
    "start_time": "2023-11-08T21:59:10.021Z"
   },
   {
    "duration": 207,
    "start_time": "2023-11-08T21:59:10.308Z"
   },
   {
    "duration": 14,
    "start_time": "2023-11-08T21:59:10.517Z"
   },
   {
    "duration": 38,
    "start_time": "2023-11-08T21:59:10.533Z"
   },
   {
    "duration": 11,
    "start_time": "2023-11-08T21:59:10.573Z"
   },
   {
    "duration": 14,
    "start_time": "2023-11-08T21:59:10.587Z"
   },
   {
    "duration": 8,
    "start_time": "2023-11-08T21:59:10.603Z"
   },
   {
    "duration": 38,
    "start_time": "2023-11-08T21:59:15.132Z"
   },
   {
    "duration": 4,
    "start_time": "2023-11-08T22:00:21.345Z"
   },
   {
    "duration": 91,
    "start_time": "2023-11-08T22:00:26.779Z"
   },
   {
    "duration": 9,
    "start_time": "2023-11-08T22:00:41.923Z"
   },
   {
    "duration": 5,
    "start_time": "2023-11-08T22:01:15.378Z"
   },
   {
    "duration": 7,
    "start_time": "2023-11-08T22:01:15.385Z"
   },
   {
    "duration": 83,
    "start_time": "2023-11-08T22:01:15.394Z"
   },
   {
    "duration": 8,
    "start_time": "2023-11-08T22:01:15.480Z"
   },
   {
    "duration": 14,
    "start_time": "2023-11-08T22:01:15.490Z"
   },
   {
    "duration": 7,
    "start_time": "2023-11-08T22:01:15.506Z"
   },
   {
    "duration": 32,
    "start_time": "2023-11-08T22:01:15.514Z"
   },
   {
    "duration": 47,
    "start_time": "2023-11-08T22:01:15.548Z"
   },
   {
    "duration": 10,
    "start_time": "2023-11-08T22:01:15.597Z"
   },
   {
    "duration": 12,
    "start_time": "2023-11-08T22:01:18.929Z"
   },
   {
    "duration": 3,
    "start_time": "2023-11-08T22:02:11.992Z"
   },
   {
    "duration": 29,
    "start_time": "2023-11-08T22:03:30.521Z"
   },
   {
    "duration": 1568,
    "start_time": "2023-11-09T17:59:45.265Z"
   },
   {
    "duration": 3,
    "start_time": "2023-11-09T17:59:46.836Z"
   },
   {
    "duration": 256,
    "start_time": "2023-11-09T17:59:46.841Z"
   },
   {
    "duration": 7,
    "start_time": "2023-11-09T17:59:47.099Z"
   },
   {
    "duration": 22,
    "start_time": "2023-11-09T17:59:47.109Z"
   },
   {
    "duration": 8,
    "start_time": "2023-11-09T17:59:47.133Z"
   },
   {
    "duration": 30,
    "start_time": "2023-11-09T17:59:47.142Z"
   },
   {
    "duration": 16,
    "start_time": "2023-11-09T17:59:47.174Z"
   },
   {
    "duration": 60,
    "start_time": "2023-11-09T17:59:47.192Z"
   },
   {
    "duration": 38,
    "start_time": "2023-11-09T17:59:47.254Z"
   },
   {
    "duration": 56,
    "start_time": "2023-11-09T17:59:47.293Z"
   },
   {
    "duration": 31,
    "start_time": "2023-11-09T17:59:47.351Z"
   },
   {
    "duration": 27,
    "start_time": "2023-11-09T17:59:49.638Z"
   },
   {
    "duration": 25,
    "start_time": "2023-11-09T18:01:18.635Z"
   },
   {
    "duration": 2,
    "start_time": "2023-11-09T18:10:03.710Z"
   },
   {
    "duration": 457,
    "start_time": "2023-11-09T18:13:52.619Z"
   },
   {
    "duration": 29,
    "start_time": "2023-11-09T18:14:36.608Z"
   },
   {
    "duration": 24,
    "start_time": "2023-11-09T18:14:53.839Z"
   },
   {
    "duration": 1456,
    "start_time": "2023-11-09T18:18:55.739Z"
   },
   {
    "duration": 4,
    "start_time": "2023-11-09T18:19:36.850Z"
   },
   {
    "duration": 25,
    "start_time": "2023-11-09T18:19:36.856Z"
   },
   {
    "duration": 83,
    "start_time": "2023-11-09T18:19:36.883Z"
   },
   {
    "duration": 5,
    "start_time": "2023-11-09T18:19:36.967Z"
   },
   {
    "duration": 25,
    "start_time": "2023-11-09T18:19:36.974Z"
   },
   {
    "duration": 21,
    "start_time": "2023-11-09T18:19:37.000Z"
   },
   {
    "duration": 33,
    "start_time": "2023-11-09T18:19:37.022Z"
   },
   {
    "duration": 49,
    "start_time": "2023-11-09T18:19:37.057Z"
   },
   {
    "duration": 91,
    "start_time": "2023-11-09T18:19:37.107Z"
   },
   {
    "duration": 67,
    "start_time": "2023-11-09T18:19:37.200Z"
   },
   {
    "duration": 44,
    "start_time": "2023-11-09T18:19:37.269Z"
   },
   {
    "duration": 26,
    "start_time": "2023-11-09T18:19:37.314Z"
   },
   {
    "duration": 1514,
    "start_time": "2023-11-09T18:19:39.873Z"
   },
   {
    "duration": 34,
    "start_time": "2023-11-09T18:22:01.768Z"
   },
   {
    "duration": 133,
    "start_time": "2023-11-09T18:44:54.469Z"
   },
   {
    "duration": 37,
    "start_time": "2023-11-09T18:45:06.394Z"
   },
   {
    "duration": 31,
    "start_time": "2023-11-09T18:45:33.485Z"
   },
   {
    "duration": 23,
    "start_time": "2023-11-09T18:46:13.339Z"
   },
   {
    "duration": 22,
    "start_time": "2023-11-09T18:47:06.060Z"
   },
   {
    "duration": 26,
    "start_time": "2023-11-09T18:47:33.978Z"
   },
   {
    "duration": 27,
    "start_time": "2023-11-09T18:49:01.393Z"
   },
   {
    "duration": 799,
    "start_time": "2023-11-09T19:03:11.504Z"
   },
   {
    "duration": 32,
    "start_time": "2023-11-09T19:04:06.679Z"
   },
   {
    "duration": 25,
    "start_time": "2023-11-09T19:04:25.350Z"
   },
   {
    "duration": 89,
    "start_time": "2023-11-09T19:05:51.057Z"
   },
   {
    "duration": 21,
    "start_time": "2023-11-09T19:07:45.746Z"
   },
   {
    "duration": 23,
    "start_time": "2023-11-09T19:15:23.807Z"
   },
   {
    "duration": 93,
    "start_time": "2023-11-09T19:16:22.298Z"
   },
   {
    "duration": 22,
    "start_time": "2023-11-09T19:16:29.007Z"
   },
   {
    "duration": 104,
    "start_time": "2023-11-09T19:17:45.116Z"
   },
   {
    "duration": 126,
    "start_time": "2023-11-09T19:18:42.746Z"
   },
   {
    "duration": 23,
    "start_time": "2023-11-09T19:18:50.843Z"
   },
   {
    "duration": 25,
    "start_time": "2023-11-09T19:19:31.537Z"
   },
   {
    "duration": 24,
    "start_time": "2023-11-09T19:20:36.986Z"
   },
   {
    "duration": 25,
    "start_time": "2023-11-09T19:22:03.074Z"
   },
   {
    "duration": 3,
    "start_time": "2023-11-09T19:33:59.186Z"
   },
   {
    "duration": 133,
    "start_time": "2023-11-09T19:34:32.901Z"
   },
   {
    "duration": 19,
    "start_time": "2023-11-09T19:35:21.018Z"
   },
   {
    "duration": 11,
    "start_time": "2023-11-09T19:37:15.362Z"
   },
   {
    "duration": 19,
    "start_time": "2023-11-09T19:37:57.918Z"
   },
   {
    "duration": 11,
    "start_time": "2023-11-09T19:38:01.164Z"
   },
   {
    "duration": 11,
    "start_time": "2023-11-09T19:38:50.521Z"
   },
   {
    "duration": 11,
    "start_time": "2023-11-09T19:39:00.591Z"
   },
   {
    "duration": 25,
    "start_time": "2023-11-09T19:39:42.961Z"
   },
   {
    "duration": 1221,
    "start_time": "2023-11-09T19:39:49.326Z"
   },
   {
    "duration": 19,
    "start_time": "2023-11-09T19:40:45.909Z"
   },
   {
    "duration": 13,
    "start_time": "2023-11-09T19:40:51.731Z"
   },
   {
    "duration": 18,
    "start_time": "2023-11-09T19:43:23.720Z"
   },
   {
    "duration": 13,
    "start_time": "2023-11-09T19:43:26.563Z"
   },
   {
    "duration": 4,
    "start_time": "2023-11-09T19:43:40.463Z"
   },
   {
    "duration": 64,
    "start_time": "2023-11-09T19:43:40.469Z"
   },
   {
    "duration": 94,
    "start_time": "2023-11-09T19:43:40.534Z"
   },
   {
    "duration": 5,
    "start_time": "2023-11-09T19:43:40.629Z"
   },
   {
    "duration": 46,
    "start_time": "2023-11-09T19:43:40.636Z"
   },
   {
    "duration": 29,
    "start_time": "2023-11-09T19:43:40.684Z"
   },
   {
    "duration": 34,
    "start_time": "2023-11-09T19:43:40.714Z"
   },
   {
    "duration": 23,
    "start_time": "2023-11-09T19:43:40.750Z"
   },
   {
    "duration": 8,
    "start_time": "2023-11-09T19:43:40.775Z"
   },
   {
    "duration": 36,
    "start_time": "2023-11-09T19:43:40.784Z"
   },
   {
    "duration": 71,
    "start_time": "2023-11-09T19:43:40.822Z"
   },
   {
    "duration": 54,
    "start_time": "2023-11-09T19:43:40.895Z"
   },
   {
    "duration": 47,
    "start_time": "2023-11-09T19:43:40.951Z"
   },
   {
    "duration": 27,
    "start_time": "2023-11-09T19:43:41.000Z"
   },
   {
    "duration": 9,
    "start_time": "2023-11-09T19:43:58.416Z"
   },
   {
    "duration": 19,
    "start_time": "2023-11-09T19:44:17.379Z"
   },
   {
    "duration": 9,
    "start_time": "2023-11-09T19:44:20.088Z"
   },
   {
    "duration": 3,
    "start_time": "2023-11-09T19:44:31.807Z"
   },
   {
    "duration": 92,
    "start_time": "2023-11-09T19:44:31.812Z"
   },
   {
    "duration": 115,
    "start_time": "2023-11-09T19:44:31.906Z"
   },
   {
    "duration": 5,
    "start_time": "2023-11-09T19:44:32.023Z"
   },
   {
    "duration": 38,
    "start_time": "2023-11-09T19:44:32.031Z"
   },
   {
    "duration": 20,
    "start_time": "2023-11-09T19:44:32.071Z"
   },
   {
    "duration": 52,
    "start_time": "2023-11-09T19:44:32.093Z"
   },
   {
    "duration": 20,
    "start_time": "2023-11-09T19:44:32.147Z"
   },
   {
    "duration": 40,
    "start_time": "2023-11-09T19:44:32.168Z"
   },
   {
    "duration": 26,
    "start_time": "2023-11-09T19:44:32.210Z"
   },
   {
    "duration": 33,
    "start_time": "2023-11-09T19:44:32.238Z"
   },
   {
    "duration": 26,
    "start_time": "2023-11-09T19:44:32.273Z"
   },
   {
    "duration": 40,
    "start_time": "2023-11-09T19:44:32.300Z"
   },
   {
    "duration": 29,
    "start_time": "2023-11-09T19:44:32.343Z"
   },
   {
    "duration": 9,
    "start_time": "2023-11-09T19:44:35.321Z"
   },
   {
    "duration": 24,
    "start_time": "2023-11-09T19:44:53.927Z"
   },
   {
    "duration": 18,
    "start_time": "2023-11-09T19:44:56.563Z"
   },
   {
    "duration": 12,
    "start_time": "2023-11-09T19:45:06.527Z"
   },
   {
    "duration": 3,
    "start_time": "2023-11-09T19:45:10.446Z"
   },
   {
    "duration": 30,
    "start_time": "2023-11-09T19:45:10.452Z"
   },
   {
    "duration": 80,
    "start_time": "2023-11-09T19:45:10.484Z"
   },
   {
    "duration": 7,
    "start_time": "2023-11-09T19:45:10.566Z"
   },
   {
    "duration": 28,
    "start_time": "2023-11-09T19:45:10.575Z"
   },
   {
    "duration": 11,
    "start_time": "2023-11-09T19:45:10.605Z"
   },
   {
    "duration": 23,
    "start_time": "2023-11-09T19:45:10.617Z"
   },
   {
    "duration": 15,
    "start_time": "2023-11-09T19:45:10.642Z"
   },
   {
    "duration": 13,
    "start_time": "2023-11-09T19:45:10.658Z"
   },
   {
    "duration": 8,
    "start_time": "2023-11-09T19:45:10.673Z"
   },
   {
    "duration": 41,
    "start_time": "2023-11-09T19:45:10.683Z"
   },
   {
    "duration": 12,
    "start_time": "2023-11-09T19:45:10.726Z"
   },
   {
    "duration": 38,
    "start_time": "2023-11-09T19:45:10.740Z"
   },
   {
    "duration": 39,
    "start_time": "2023-11-09T19:45:10.780Z"
   },
   {
    "duration": 12,
    "start_time": "2023-11-09T19:45:10.820Z"
   },
   {
    "duration": 11,
    "start_time": "2023-11-09T19:45:18.009Z"
   },
   {
    "duration": 19,
    "start_time": "2023-11-09T19:45:27.058Z"
   },
   {
    "duration": 10,
    "start_time": "2023-11-09T19:45:30.437Z"
   },
   {
    "duration": 3,
    "start_time": "2023-11-09T19:45:34.472Z"
   },
   {
    "duration": 13,
    "start_time": "2023-11-09T19:45:34.477Z"
   },
   {
    "duration": 63,
    "start_time": "2023-11-09T19:45:34.492Z"
   },
   {
    "duration": 6,
    "start_time": "2023-11-09T19:45:34.557Z"
   },
   {
    "duration": 10,
    "start_time": "2023-11-09T19:45:34.564Z"
   },
   {
    "duration": 6,
    "start_time": "2023-11-09T19:45:34.575Z"
   },
   {
    "duration": 43,
    "start_time": "2023-11-09T19:45:34.582Z"
   },
   {
    "duration": 16,
    "start_time": "2023-11-09T19:45:34.627Z"
   },
   {
    "duration": 7,
    "start_time": "2023-11-09T19:45:34.645Z"
   },
   {
    "duration": 10,
    "start_time": "2023-11-09T19:45:34.654Z"
   },
   {
    "duration": 17,
    "start_time": "2023-11-09T19:45:34.665Z"
   },
   {
    "duration": 43,
    "start_time": "2023-11-09T19:45:34.683Z"
   },
   {
    "duration": 21,
    "start_time": "2023-11-09T19:45:34.727Z"
   },
   {
    "duration": 17,
    "start_time": "2023-11-09T19:45:34.750Z"
   },
   {
    "duration": 9,
    "start_time": "2023-11-09T19:45:34.769Z"
   },
   {
    "duration": 23,
    "start_time": "2023-11-09T19:52:23.887Z"
   },
   {
    "duration": 18,
    "start_time": "2023-11-09T19:52:47.388Z"
   },
   {
    "duration": 13,
    "start_time": "2023-11-09T19:52:58.119Z"
   },
   {
    "duration": 11,
    "start_time": "2023-11-09T19:53:13.263Z"
   },
   {
    "duration": 11,
    "start_time": "2023-11-09T20:00:30.961Z"
   },
   {
    "duration": 10,
    "start_time": "2023-11-09T20:00:52.677Z"
   },
   {
    "duration": 96,
    "start_time": "2023-11-09T20:01:01.060Z"
   },
   {
    "duration": 76,
    "start_time": "2023-11-09T20:01:09.332Z"
   },
   {
    "duration": 75,
    "start_time": "2023-11-09T20:01:18.450Z"
   },
   {
    "duration": 14,
    "start_time": "2023-11-09T20:04:51.352Z"
   },
   {
    "duration": 6,
    "start_time": "2023-11-09T20:07:46.018Z"
   },
   {
    "duration": 10,
    "start_time": "2023-11-09T20:14:20.683Z"
   },
   {
    "duration": 37,
    "start_time": "2023-11-09T20:14:32.734Z"
   },
   {
    "duration": 16,
    "start_time": "2023-11-09T20:15:03.381Z"
   },
   {
    "duration": 12,
    "start_time": "2023-11-09T20:17:29.800Z"
   },
   {
    "duration": 16,
    "start_time": "2023-11-09T20:24:25.638Z"
   },
   {
    "duration": 13,
    "start_time": "2023-11-09T20:25:26.009Z"
   },
   {
    "duration": 1500,
    "start_time": "2023-11-09T20:31:07.009Z"
   },
   {
    "duration": 28,
    "start_time": "2023-11-09T20:31:15.732Z"
   },
   {
    "duration": 22,
    "start_time": "2023-11-09T20:31:32.942Z"
   },
   {
    "duration": 21,
    "start_time": "2023-11-09T20:39:11.161Z"
   },
   {
    "duration": 103,
    "start_time": "2023-11-09T20:41:24.162Z"
   },
   {
    "duration": 17,
    "start_time": "2023-11-09T20:41:35.356Z"
   },
   {
    "duration": 16,
    "start_time": "2023-11-09T20:42:56.359Z"
   },
   {
    "duration": 3,
    "start_time": "2023-11-09T20:43:16.610Z"
   },
   {
    "duration": 5,
    "start_time": "2023-11-09T20:43:16.615Z"
   },
   {
    "duration": 83,
    "start_time": "2023-11-09T20:43:16.621Z"
   },
   {
    "duration": 5,
    "start_time": "2023-11-09T20:43:16.706Z"
   },
   {
    "duration": 19,
    "start_time": "2023-11-09T20:43:16.713Z"
   },
   {
    "duration": 17,
    "start_time": "2023-11-09T20:43:16.734Z"
   },
   {
    "duration": 43,
    "start_time": "2023-11-09T20:43:16.753Z"
   },
   {
    "duration": 31,
    "start_time": "2023-11-09T20:43:16.798Z"
   },
   {
    "duration": 7,
    "start_time": "2023-11-09T20:43:16.831Z"
   },
   {
    "duration": 18,
    "start_time": "2023-11-09T20:43:16.840Z"
   },
   {
    "duration": 36,
    "start_time": "2023-11-09T20:43:16.860Z"
   },
   {
    "duration": 13,
    "start_time": "2023-11-09T20:43:16.898Z"
   },
   {
    "duration": 24,
    "start_time": "2023-11-09T20:43:16.923Z"
   },
   {
    "duration": 20,
    "start_time": "2023-11-09T20:43:16.950Z"
   },
   {
    "duration": 25,
    "start_time": "2023-11-09T20:43:16.971Z"
   },
   {
    "duration": 16,
    "start_time": "2023-11-09T20:43:16.997Z"
   },
   {
    "duration": 17,
    "start_time": "2023-11-09T20:43:19.836Z"
   },
   {
    "duration": 21,
    "start_time": "2023-11-09T20:44:06.620Z"
   },
   {
    "duration": 19,
    "start_time": "2023-11-09T20:44:31.028Z"
   },
   {
    "duration": 80,
    "start_time": "2023-11-09T20:53:32.122Z"
   },
   {
    "duration": 7,
    "start_time": "2023-11-09T20:53:42.022Z"
   },
   {
    "duration": 6,
    "start_time": "2023-11-09T20:58:09.155Z"
   },
   {
    "duration": 4,
    "start_time": "2023-11-09T21:29:23.798Z"
   },
   {
    "duration": 32,
    "start_time": "2023-11-09T21:29:23.804Z"
   },
   {
    "duration": 80,
    "start_time": "2023-11-09T21:29:23.838Z"
   },
   {
    "duration": 5,
    "start_time": "2023-11-09T21:29:23.920Z"
   },
   {
    "duration": 44,
    "start_time": "2023-11-09T21:29:23.928Z"
   },
   {
    "duration": 7,
    "start_time": "2023-11-09T21:29:23.974Z"
   },
   {
    "duration": 53,
    "start_time": "2023-11-09T21:29:23.982Z"
   },
   {
    "duration": 36,
    "start_time": "2023-11-09T21:29:24.037Z"
   },
   {
    "duration": 24,
    "start_time": "2023-11-09T21:29:24.074Z"
   },
   {
    "duration": 9,
    "start_time": "2023-11-09T21:29:24.099Z"
   },
   {
    "duration": 16,
    "start_time": "2023-11-09T21:29:24.109Z"
   },
   {
    "duration": 45,
    "start_time": "2023-11-09T21:29:24.128Z"
   },
   {
    "duration": 30,
    "start_time": "2023-11-09T21:29:24.175Z"
   },
   {
    "duration": 13,
    "start_time": "2023-11-09T21:29:24.209Z"
   },
   {
    "duration": 11,
    "start_time": "2023-11-09T21:29:24.224Z"
   },
   {
    "duration": 17,
    "start_time": "2023-11-09T21:29:24.236Z"
   },
   {
    "duration": 5,
    "start_time": "2023-11-09T21:29:24.255Z"
   },
   {
    "duration": 25,
    "start_time": "2023-11-09T21:29:24.262Z"
   },
   {
    "duration": 48,
    "start_time": "2023-11-09T21:29:29.569Z"
   },
   {
    "duration": 23,
    "start_time": "2023-11-09T21:31:24.917Z"
   },
   {
    "duration": 26,
    "start_time": "2023-11-09T21:31:41.473Z"
   },
   {
    "duration": 375,
    "start_time": "2023-11-09T21:34:43.566Z"
   },
   {
    "duration": 471,
    "start_time": "2023-11-09T21:34:52.600Z"
   },
   {
    "duration": 499,
    "start_time": "2023-11-09T21:35:02.973Z"
   },
   {
    "duration": 394,
    "start_time": "2023-11-09T21:35:11.450Z"
   },
   {
    "duration": 375,
    "start_time": "2023-11-09T21:35:21.429Z"
   },
   {
    "duration": 392,
    "start_time": "2023-11-09T21:35:29.748Z"
   },
   {
    "duration": 510,
    "start_time": "2023-11-09T21:35:44.407Z"
   },
   {
    "duration": 403,
    "start_time": "2023-11-09T21:36:01.182Z"
   },
   {
    "duration": 334,
    "start_time": "2023-11-09T21:37:39.318Z"
   },
   {
    "duration": 371,
    "start_time": "2023-11-09T21:38:00.058Z"
   },
   {
    "duration": 390,
    "start_time": "2023-11-09T21:38:06.762Z"
   },
   {
    "duration": 509,
    "start_time": "2023-11-09T21:38:56.990Z"
   },
   {
    "duration": 98,
    "start_time": "2023-11-09T21:39:13.697Z"
   },
   {
    "duration": 367,
    "start_time": "2023-11-09T21:39:34.357Z"
   },
   {
    "duration": 400,
    "start_time": "2023-11-09T21:40:12.245Z"
   },
   {
    "duration": 406,
    "start_time": "2023-11-09T21:40:47.921Z"
   },
   {
    "duration": 1368,
    "start_time": "2023-11-10T20:14:05.115Z"
   },
   {
    "duration": 2,
    "start_time": "2023-11-10T20:14:06.486Z"
   },
   {
    "duration": 176,
    "start_time": "2023-11-10T20:14:06.489Z"
   },
   {
    "duration": 4,
    "start_time": "2023-11-10T20:14:06.667Z"
   },
   {
    "duration": 12,
    "start_time": "2023-11-10T20:14:06.672Z"
   },
   {
    "duration": 4,
    "start_time": "2023-11-10T20:14:06.685Z"
   },
   {
    "duration": 16,
    "start_time": "2023-11-10T20:14:06.690Z"
   },
   {
    "duration": 16,
    "start_time": "2023-11-10T20:14:06.708Z"
   },
   {
    "duration": 7,
    "start_time": "2023-11-10T20:14:06.725Z"
   },
   {
    "duration": 12,
    "start_time": "2023-11-10T20:14:06.734Z"
   },
   {
    "duration": 14,
    "start_time": "2023-11-10T20:14:06.747Z"
   },
   {
    "duration": 11,
    "start_time": "2023-11-10T20:14:06.762Z"
   },
   {
    "duration": 42,
    "start_time": "2023-11-10T20:14:06.775Z"
   },
   {
    "duration": 17,
    "start_time": "2023-11-10T20:14:06.819Z"
   },
   {
    "duration": 9,
    "start_time": "2023-11-10T20:14:06.837Z"
   },
   {
    "duration": 11,
    "start_time": "2023-11-10T20:14:06.847Z"
   },
   {
    "duration": 6,
    "start_time": "2023-11-10T20:14:06.859Z"
   },
   {
    "duration": 46,
    "start_time": "2023-11-10T20:14:06.866Z"
   },
   {
    "duration": 116,
    "start_time": "2023-11-10T20:14:10.509Z"
   },
   {
    "duration": 194,
    "start_time": "2023-11-10T20:25:14.231Z"
   },
   {
    "duration": 47,
    "start_time": "2023-11-10T21:05:32.154Z"
   },
   {
    "duration": 1403,
    "start_time": "2023-11-10T21:05:42.120Z"
   },
   {
    "duration": 3,
    "start_time": "2023-11-10T21:05:43.525Z"
   },
   {
    "duration": 186,
    "start_time": "2023-11-10T21:05:43.529Z"
   },
   {
    "duration": 8,
    "start_time": "2023-11-10T21:05:43.717Z"
   },
   {
    "duration": 30,
    "start_time": "2023-11-10T21:05:43.726Z"
   },
   {
    "duration": 26,
    "start_time": "2023-11-10T21:05:43.758Z"
   },
   {
    "duration": 42,
    "start_time": "2023-11-10T21:05:43.786Z"
   },
   {
    "duration": 21,
    "start_time": "2023-11-10T21:05:43.830Z"
   },
   {
    "duration": 8,
    "start_time": "2023-11-10T21:05:43.853Z"
   },
   {
    "duration": 12,
    "start_time": "2023-11-10T21:05:43.863Z"
   },
   {
    "duration": 30,
    "start_time": "2023-11-10T21:05:43.877Z"
   },
   {
    "duration": 11,
    "start_time": "2023-11-10T21:05:43.908Z"
   },
   {
    "duration": 38,
    "start_time": "2023-11-10T21:05:43.920Z"
   },
   {
    "duration": 13,
    "start_time": "2023-11-10T21:05:43.959Z"
   },
   {
    "duration": 18,
    "start_time": "2023-11-10T21:05:43.974Z"
   },
   {
    "duration": 36,
    "start_time": "2023-11-10T21:05:43.993Z"
   },
   {
    "duration": 10,
    "start_time": "2023-11-10T21:05:44.030Z"
   },
   {
    "duration": 35,
    "start_time": "2023-11-10T21:05:44.042Z"
   },
   {
    "duration": 223,
    "start_time": "2023-11-10T21:05:44.078Z"
   },
   {
    "duration": 458,
    "start_time": "2023-11-10T21:05:44.303Z"
   },
   {
    "duration": 25,
    "start_time": "2023-11-10T21:05:44.762Z"
   },
   {
    "duration": 45,
    "start_time": "2023-11-10T21:05:44.788Z"
   },
   {
    "duration": 231,
    "start_time": "2023-11-10T21:05:44.835Z"
   },
   {
    "duration": 100,
    "start_time": "2023-11-10T21:06:49.460Z"
   },
   {
    "duration": 229,
    "start_time": "2023-11-10T21:06:59.515Z"
   },
   {
    "duration": 344,
    "start_time": "2023-11-10T21:07:31.435Z"
   },
   {
    "duration": 266,
    "start_time": "2023-11-10T21:07:53.047Z"
   },
   {
    "duration": 109,
    "start_time": "2023-11-10T21:08:18.831Z"
   },
   {
    "duration": 249,
    "start_time": "2023-11-10T21:08:25.113Z"
   },
   {
    "duration": 201,
    "start_time": "2023-11-10T21:08:35.055Z"
   },
   {
    "duration": 276,
    "start_time": "2023-11-10T21:08:51.174Z"
   },
   {
    "duration": 4,
    "start_time": "2023-11-10T21:11:08.967Z"
   },
   {
    "duration": 11,
    "start_time": "2023-11-10T21:16:04.758Z"
   },
   {
    "duration": 7,
    "start_time": "2023-11-10T21:16:12.843Z"
   },
   {
    "duration": 162,
    "start_time": "2023-11-10T21:19:05.678Z"
   },
   {
    "duration": 637,
    "start_time": "2023-11-10T21:19:20.221Z"
   },
   {
    "duration": 558,
    "start_time": "2023-11-10T21:20:19.267Z"
   },
   {
    "duration": 563,
    "start_time": "2023-11-10T21:20:28.349Z"
   },
   {
    "duration": 621,
    "start_time": "2023-11-10T21:21:46.407Z"
   },
   {
    "duration": 159,
    "start_time": "2023-11-10T21:22:03.193Z"
   },
   {
    "duration": 723,
    "start_time": "2023-11-10T21:22:08.145Z"
   },
   {
    "duration": 102,
    "start_time": "2023-11-10T21:22:51.047Z"
   },
   {
    "duration": 112,
    "start_time": "2023-11-10T21:23:06.863Z"
   },
   {
    "duration": 75,
    "start_time": "2023-11-10T21:23:16.737Z"
   },
   {
    "duration": 730,
    "start_time": "2023-11-10T21:24:18.210Z"
   },
   {
    "duration": 622,
    "start_time": "2023-11-10T21:26:13.900Z"
   },
   {
    "duration": 619,
    "start_time": "2023-11-10T21:26:38.025Z"
   },
   {
    "duration": 747,
    "start_time": "2023-11-10T21:26:57.911Z"
   },
   {
    "duration": 151,
    "start_time": "2023-11-10T21:27:22.017Z"
   },
   {
    "duration": 116,
    "start_time": "2023-11-10T21:27:50.567Z"
   },
   {
    "duration": 606,
    "start_time": "2023-11-10T21:27:56.204Z"
   },
   {
    "duration": 602,
    "start_time": "2023-11-10T21:29:51.496Z"
   },
   {
    "duration": 591,
    "start_time": "2023-11-10T21:32:26.225Z"
   },
   {
    "duration": 20,
    "start_time": "2023-11-10T21:32:49.052Z"
   },
   {
    "duration": 702,
    "start_time": "2023-11-10T21:32:55.333Z"
   },
   {
    "duration": 624,
    "start_time": "2023-11-10T21:33:55.222Z"
   },
   {
    "duration": 603,
    "start_time": "2023-11-10T21:34:07.700Z"
   },
   {
    "duration": 603,
    "start_time": "2023-11-10T21:34:19.461Z"
   },
   {
    "duration": 21,
    "start_time": "2023-11-10T21:34:24.182Z"
   },
   {
    "duration": 21,
    "start_time": "2023-11-10T21:34:28.336Z"
   },
   {
    "duration": 706,
    "start_time": "2023-11-10T21:34:33.555Z"
   },
   {
    "duration": 587,
    "start_time": "2023-11-10T21:34:37.907Z"
   },
   {
    "duration": 613,
    "start_time": "2023-11-10T21:35:35.359Z"
   },
   {
    "duration": 639,
    "start_time": "2023-11-10T21:36:03.887Z"
   },
   {
    "duration": 742,
    "start_time": "2023-11-10T21:36:20.567Z"
   },
   {
    "duration": 647,
    "start_time": "2023-11-10T21:36:29.324Z"
   },
   {
    "duration": 586,
    "start_time": "2023-11-10T21:36:50.683Z"
   },
   {
    "duration": 543,
    "start_time": "2023-11-10T21:37:03.714Z"
   },
   {
    "duration": 49,
    "start_time": "2023-11-10T21:43:02.288Z"
   },
   {
    "duration": 1379,
    "start_time": "2023-11-10T21:43:08.047Z"
   },
   {
    "duration": 3,
    "start_time": "2023-11-10T21:43:09.427Z"
   },
   {
    "duration": 180,
    "start_time": "2023-11-10T21:43:09.431Z"
   },
   {
    "duration": 5,
    "start_time": "2023-11-10T21:43:09.613Z"
   },
   {
    "duration": 12,
    "start_time": "2023-11-10T21:43:09.620Z"
   },
   {
    "duration": 5,
    "start_time": "2023-11-10T21:43:09.633Z"
   },
   {
    "duration": 20,
    "start_time": "2023-11-10T21:43:09.640Z"
   },
   {
    "duration": 16,
    "start_time": "2023-11-10T21:43:09.662Z"
   },
   {
    "duration": 9,
    "start_time": "2023-11-10T21:43:09.679Z"
   },
   {
    "duration": 10,
    "start_time": "2023-11-10T21:43:09.690Z"
   },
   {
    "duration": 42,
    "start_time": "2023-11-10T21:43:09.701Z"
   },
   {
    "duration": 16,
    "start_time": "2023-11-10T21:43:09.745Z"
   },
   {
    "duration": 26,
    "start_time": "2023-11-10T21:43:09.763Z"
   },
   {
    "duration": 14,
    "start_time": "2023-11-10T21:43:09.791Z"
   },
   {
    "duration": 39,
    "start_time": "2023-11-10T21:43:09.807Z"
   },
   {
    "duration": 14,
    "start_time": "2023-11-10T21:43:09.848Z"
   },
   {
    "duration": 5,
    "start_time": "2023-11-10T21:43:09.864Z"
   },
   {
    "duration": 21,
    "start_time": "2023-11-10T21:43:09.871Z"
   },
   {
    "duration": 3,
    "start_time": "2023-11-10T21:43:09.894Z"
   },
   {
    "duration": 583,
    "start_time": "2023-11-10T21:43:19.628Z"
   },
   {
    "duration": 545,
    "start_time": "2023-11-10T21:43:30.468Z"
   },
   {
    "duration": 573,
    "start_time": "2023-11-10T21:43:43.771Z"
   },
   {
    "duration": 556,
    "start_time": "2023-11-10T21:43:54.135Z"
   },
   {
    "duration": 5,
    "start_time": "2023-11-10T21:56:12.055Z"
   },
   {
    "duration": 5,
    "start_time": "2023-11-10T21:56:22.847Z"
   },
   {
    "duration": 4,
    "start_time": "2023-11-10T21:56:34.356Z"
   },
   {
    "duration": 1365,
    "start_time": "2023-11-10T21:57:09.518Z"
   },
   {
    "duration": 1243,
    "start_time": "2023-11-10T21:57:15.159Z"
   },
   {
    "duration": 5,
    "start_time": "2023-11-10T21:57:20.330Z"
   },
   {
    "duration": 5,
    "start_time": "2023-11-10T21:58:24.872Z"
   },
   {
    "duration": 1259,
    "start_time": "2023-11-10T21:58:30.977Z"
   },
   {
    "duration": 5,
    "start_time": "2023-11-10T21:58:35.825Z"
   },
   {
    "duration": 7,
    "start_time": "2023-11-10T22:11:10.205Z"
   },
   {
    "duration": 84,
    "start_time": "2023-11-10T22:11:45.156Z"
   },
   {
    "duration": 39,
    "start_time": "2023-11-10T22:11:56.628Z"
   },
   {
    "duration": 35,
    "start_time": "2023-11-10T22:12:17.252Z"
   },
   {
    "duration": 27,
    "start_time": "2023-11-10T22:12:28.381Z"
   },
   {
    "duration": 40,
    "start_time": "2023-11-10T22:12:41.078Z"
   },
   {
    "duration": 13,
    "start_time": "2023-11-10T22:12:49.658Z"
   },
   {
    "duration": 453,
    "start_time": "2023-11-10T22:13:18.678Z"
   },
   {
    "duration": 10,
    "start_time": "2023-11-10T22:14:31.576Z"
   },
   {
    "duration": 24,
    "start_time": "2023-11-10T22:14:55.487Z"
   },
   {
    "duration": 20,
    "start_time": "2023-11-10T22:16:06.032Z"
   },
   {
    "duration": 11,
    "start_time": "2023-11-10T22:16:45.958Z"
   },
   {
    "duration": 9,
    "start_time": "2023-11-10T22:17:31.105Z"
   },
   {
    "duration": 5,
    "start_time": "2023-11-10T22:17:36.724Z"
   },
   {
    "duration": 8,
    "start_time": "2023-11-10T22:17:45.653Z"
   },
   {
    "duration": 10,
    "start_time": "2023-11-10T22:17:57.859Z"
   },
   {
    "duration": 474,
    "start_time": "2023-11-10T22:24:08.727Z"
   },
   {
    "duration": 33203,
    "start_time": "2023-11-10T22:25:30.888Z"
   },
   {
    "duration": 0,
    "start_time": "2023-11-10T22:26:04.094Z"
   },
   {
    "duration": 0,
    "start_time": "2023-11-10T22:26:04.095Z"
   },
   {
    "duration": 0,
    "start_time": "2023-11-10T22:26:04.096Z"
   },
   {
    "duration": 0,
    "start_time": "2023-11-10T22:26:04.097Z"
   },
   {
    "duration": 0,
    "start_time": "2023-11-10T22:26:04.098Z"
   },
   {
    "duration": 0,
    "start_time": "2023-11-10T22:26:04.099Z"
   },
   {
    "duration": 0,
    "start_time": "2023-11-10T22:26:04.100Z"
   },
   {
    "duration": 0,
    "start_time": "2023-11-10T22:26:04.101Z"
   },
   {
    "duration": 0,
    "start_time": "2023-11-10T22:26:04.102Z"
   },
   {
    "duration": 0,
    "start_time": "2023-11-10T22:26:04.103Z"
   },
   {
    "duration": 0,
    "start_time": "2023-11-10T22:26:04.104Z"
   },
   {
    "duration": 0,
    "start_time": "2023-11-10T22:26:04.105Z"
   },
   {
    "duration": 0,
    "start_time": "2023-11-10T22:26:04.106Z"
   },
   {
    "duration": 0,
    "start_time": "2023-11-10T22:26:04.107Z"
   },
   {
    "duration": 0,
    "start_time": "2023-11-10T22:26:04.108Z"
   },
   {
    "duration": 0,
    "start_time": "2023-11-10T22:26:04.109Z"
   },
   {
    "duration": 0,
    "start_time": "2023-11-10T22:26:04.111Z"
   },
   {
    "duration": 0,
    "start_time": "2023-11-10T22:26:04.112Z"
   },
   {
    "duration": 0,
    "start_time": "2023-11-10T22:26:04.142Z"
   },
   {
    "duration": 4,
    "start_time": "2023-11-10T22:26:11.968Z"
   },
   {
    "duration": 5,
    "start_time": "2023-11-10T22:26:11.973Z"
   },
   {
    "duration": 61,
    "start_time": "2023-11-10T22:26:11.980Z"
   },
   {
    "duration": 5,
    "start_time": "2023-11-10T22:26:12.042Z"
   },
   {
    "duration": 10,
    "start_time": "2023-11-10T22:26:12.049Z"
   },
   {
    "duration": 5,
    "start_time": "2023-11-10T22:26:12.061Z"
   },
   {
    "duration": 17,
    "start_time": "2023-11-10T22:26:12.067Z"
   },
   {
    "duration": 15,
    "start_time": "2023-11-10T22:26:12.086Z"
   },
   {
    "duration": 39,
    "start_time": "2023-11-10T22:26:12.103Z"
   },
   {
    "duration": 10,
    "start_time": "2023-11-10T22:26:12.145Z"
   },
   {
    "duration": 16,
    "start_time": "2023-11-10T22:26:12.157Z"
   },
   {
    "duration": 12,
    "start_time": "2023-11-10T22:26:12.175Z"
   },
   {
    "duration": 22,
    "start_time": "2023-11-10T22:26:12.188Z"
   },
   {
    "duration": 14,
    "start_time": "2023-11-10T22:26:12.241Z"
   },
   {
    "duration": 10,
    "start_time": "2023-11-10T22:26:12.256Z"
   },
   {
    "duration": 15,
    "start_time": "2023-11-10T22:26:12.267Z"
   },
   {
    "duration": 7,
    "start_time": "2023-11-10T22:26:12.284Z"
   },
   {
    "duration": 58,
    "start_time": "2023-11-10T22:26:12.293Z"
   },
   {
    "duration": 578,
    "start_time": "2023-11-10T22:26:22.437Z"
   },
   {
    "duration": 674,
    "start_time": "2023-11-10T22:26:28.959Z"
   },
   {
    "duration": 48,
    "start_time": "2023-11-10T22:30:17.017Z"
   },
   {
    "duration": 1316,
    "start_time": "2023-11-10T22:30:25.017Z"
   },
   {
    "duration": 3,
    "start_time": "2023-11-10T22:30:26.334Z"
   },
   {
    "duration": 186,
    "start_time": "2023-11-10T22:30:26.338Z"
   },
   {
    "duration": 6,
    "start_time": "2023-11-10T22:30:26.525Z"
   },
   {
    "duration": 30,
    "start_time": "2023-11-10T22:30:26.533Z"
   },
   {
    "duration": 11,
    "start_time": "2023-11-10T22:30:26.564Z"
   },
   {
    "duration": 22,
    "start_time": "2023-11-10T22:30:26.576Z"
   },
   {
    "duration": 23,
    "start_time": "2023-11-10T22:30:26.599Z"
   },
   {
    "duration": 17,
    "start_time": "2023-11-10T22:30:26.623Z"
   },
   {
    "duration": 17,
    "start_time": "2023-11-10T22:30:26.642Z"
   },
   {
    "duration": 34,
    "start_time": "2023-11-10T22:30:26.661Z"
   },
   {
    "duration": 18,
    "start_time": "2023-11-10T22:30:26.697Z"
   },
   {
    "duration": 26,
    "start_time": "2023-11-10T22:30:26.717Z"
   },
   {
    "duration": 12,
    "start_time": "2023-11-10T22:30:26.745Z"
   },
   {
    "duration": 9,
    "start_time": "2023-11-10T22:30:26.759Z"
   },
   {
    "duration": 12,
    "start_time": "2023-11-10T22:30:26.769Z"
   },
   {
    "duration": 5,
    "start_time": "2023-11-10T22:30:26.783Z"
   },
   {
    "duration": 20,
    "start_time": "2023-11-10T22:30:26.789Z"
   },
   {
    "duration": 3,
    "start_time": "2023-11-10T22:30:26.811Z"
   },
   {
    "duration": 586,
    "start_time": "2023-11-10T22:30:26.842Z"
   },
   {
    "duration": 1288,
    "start_time": "2023-11-10T22:31:59.004Z"
   },
   {
    "duration": 3,
    "start_time": "2023-11-10T22:32:00.294Z"
   },
   {
    "duration": 190,
    "start_time": "2023-11-10T22:32:00.298Z"
   },
   {
    "duration": 5,
    "start_time": "2023-11-10T22:32:00.490Z"
   },
   {
    "duration": 60,
    "start_time": "2023-11-10T22:32:00.497Z"
   },
   {
    "duration": 33,
    "start_time": "2023-11-10T22:32:00.559Z"
   },
   {
    "duration": 59,
    "start_time": "2023-11-10T22:32:00.595Z"
   },
   {
    "duration": 36,
    "start_time": "2023-11-10T22:32:00.656Z"
   },
   {
    "duration": 36,
    "start_time": "2023-11-10T22:32:00.694Z"
   },
   {
    "duration": 41,
    "start_time": "2023-11-10T22:32:00.732Z"
   },
   {
    "duration": 54,
    "start_time": "2023-11-10T22:32:00.775Z"
   },
   {
    "duration": 16,
    "start_time": "2023-11-10T22:32:00.831Z"
   },
   {
    "duration": 54,
    "start_time": "2023-11-10T22:32:00.849Z"
   },
   {
    "duration": 44,
    "start_time": "2023-11-10T22:32:00.905Z"
   },
   {
    "duration": 25,
    "start_time": "2023-11-10T22:32:00.951Z"
   },
   {
    "duration": 39,
    "start_time": "2023-11-10T22:32:00.978Z"
   },
   {
    "duration": 28,
    "start_time": "2023-11-10T22:32:01.018Z"
   },
   {
    "duration": 40,
    "start_time": "2023-11-10T22:32:01.048Z"
   },
   {
    "duration": 7,
    "start_time": "2023-11-10T22:32:01.089Z"
   },
   {
    "duration": 637,
    "start_time": "2023-11-10T22:32:01.098Z"
   },
   {
    "duration": 48,
    "start_time": "2023-11-10T22:32:17.633Z"
   },
   {
    "duration": 1219,
    "start_time": "2023-11-10T22:32:23.449Z"
   },
   {
    "duration": 3,
    "start_time": "2023-11-10T22:32:24.669Z"
   },
   {
    "duration": 177,
    "start_time": "2023-11-10T22:32:24.674Z"
   },
   {
    "duration": 6,
    "start_time": "2023-11-10T22:32:24.853Z"
   },
   {
    "duration": 13,
    "start_time": "2023-11-10T22:32:24.862Z"
   },
   {
    "duration": 5,
    "start_time": "2023-11-10T22:32:24.877Z"
   },
   {
    "duration": 20,
    "start_time": "2023-11-10T22:32:24.884Z"
   },
   {
    "duration": 45,
    "start_time": "2023-11-10T22:32:24.906Z"
   },
   {
    "duration": 9,
    "start_time": "2023-11-10T22:32:24.953Z"
   },
   {
    "duration": 10,
    "start_time": "2023-11-10T22:32:24.964Z"
   },
   {
    "duration": 18,
    "start_time": "2023-11-10T22:32:24.975Z"
   },
   {
    "duration": 16,
    "start_time": "2023-11-10T22:32:24.995Z"
   },
   {
    "duration": 55,
    "start_time": "2023-11-10T22:32:25.013Z"
   },
   {
    "duration": 14,
    "start_time": "2023-11-10T22:32:25.071Z"
   },
   {
    "duration": 9,
    "start_time": "2023-11-10T22:32:25.086Z"
   },
   {
    "duration": 15,
    "start_time": "2023-11-10T22:32:25.096Z"
   },
   {
    "duration": 33,
    "start_time": "2023-11-10T22:32:25.113Z"
   },
   {
    "duration": 21,
    "start_time": "2023-11-10T22:32:25.148Z"
   },
   {
    "duration": 4,
    "start_time": "2023-11-10T22:32:25.170Z"
   },
   {
    "duration": 628,
    "start_time": "2023-11-10T22:32:25.175Z"
   },
   {
    "duration": 1432,
    "start_time": "2023-11-11T20:53:33.125Z"
   },
   {
    "duration": 3,
    "start_time": "2023-11-11T20:53:34.560Z"
   },
   {
    "duration": 118,
    "start_time": "2023-11-11T20:53:34.564Z"
   },
   {
    "duration": 7,
    "start_time": "2023-11-11T20:53:34.684Z"
   },
   {
    "duration": 13,
    "start_time": "2023-11-11T20:53:34.693Z"
   },
   {
    "duration": 15,
    "start_time": "2023-11-11T20:53:34.708Z"
   },
   {
    "duration": 38,
    "start_time": "2023-11-11T20:53:34.725Z"
   },
   {
    "duration": 23,
    "start_time": "2023-11-11T20:53:34.765Z"
   },
   {
    "duration": 9,
    "start_time": "2023-11-11T20:53:34.790Z"
   },
   {
    "duration": 35,
    "start_time": "2023-11-11T20:53:34.800Z"
   },
   {
    "duration": 28,
    "start_time": "2023-11-11T20:53:34.837Z"
   },
   {
    "duration": 22,
    "start_time": "2023-11-11T20:53:34.867Z"
   },
   {
    "duration": 58,
    "start_time": "2023-11-11T20:53:34.891Z"
   },
   {
    "duration": 17,
    "start_time": "2023-11-11T20:53:34.953Z"
   },
   {
    "duration": 11,
    "start_time": "2023-11-11T20:53:34.972Z"
   },
   {
    "duration": 13,
    "start_time": "2023-11-11T20:53:34.985Z"
   },
   {
    "duration": 6,
    "start_time": "2023-11-11T20:53:35.000Z"
   },
   {
    "duration": 28,
    "start_time": "2023-11-11T20:53:35.032Z"
   },
   {
    "duration": 4,
    "start_time": "2023-11-11T20:53:35.061Z"
   },
   {
    "duration": 684,
    "start_time": "2023-11-11T20:53:35.067Z"
   },
   {
    "duration": 1295,
    "start_time": "2023-11-11T20:54:36.052Z"
   },
   {
    "duration": 4,
    "start_time": "2023-11-11T20:54:37.349Z"
   },
   {
    "duration": 114,
    "start_time": "2023-11-11T20:54:37.355Z"
   },
   {
    "duration": 8,
    "start_time": "2023-11-11T20:54:37.471Z"
   },
   {
    "duration": 29,
    "start_time": "2023-11-11T20:54:37.481Z"
   },
   {
    "duration": 52,
    "start_time": "2023-11-11T20:54:37.512Z"
   },
   {
    "duration": 45,
    "start_time": "2023-11-11T20:54:37.565Z"
   },
   {
    "duration": 18,
    "start_time": "2023-11-11T20:54:37.612Z"
   },
   {
    "duration": 10,
    "start_time": "2023-11-11T20:54:37.632Z"
   },
   {
    "duration": 9,
    "start_time": "2023-11-11T20:54:37.644Z"
   },
   {
    "duration": 18,
    "start_time": "2023-11-11T20:54:37.655Z"
   },
   {
    "duration": 16,
    "start_time": "2023-11-11T20:54:37.675Z"
   },
   {
    "duration": 60,
    "start_time": "2023-11-11T20:54:37.694Z"
   },
   {
    "duration": 21,
    "start_time": "2023-11-11T20:54:37.758Z"
   },
   {
    "duration": 13,
    "start_time": "2023-11-11T20:54:37.781Z"
   },
   {
    "duration": 40,
    "start_time": "2023-11-11T20:54:37.796Z"
   },
   {
    "duration": 8,
    "start_time": "2023-11-11T20:54:37.838Z"
   },
   {
    "duration": 27,
    "start_time": "2023-11-11T20:54:37.847Z"
   },
   {
    "duration": 7,
    "start_time": "2023-11-11T20:54:37.876Z"
   },
   {
    "duration": 633,
    "start_time": "2023-11-11T20:54:37.885Z"
   },
   {
    "duration": 67,
    "start_time": "2023-11-11T20:54:53.201Z"
   },
   {
    "duration": 1378,
    "start_time": "2023-11-11T20:54:59.899Z"
   },
   {
    "duration": 3,
    "start_time": "2023-11-11T20:55:01.279Z"
   },
   {
    "duration": 161,
    "start_time": "2023-11-11T20:55:01.284Z"
   },
   {
    "duration": 7,
    "start_time": "2023-11-11T20:55:01.447Z"
   },
   {
    "duration": 49,
    "start_time": "2023-11-11T20:55:01.457Z"
   },
   {
    "duration": 113,
    "start_time": "2023-11-11T20:55:01.508Z"
   },
   {
    "duration": 82,
    "start_time": "2023-11-11T20:55:01.623Z"
   },
   {
    "duration": 50,
    "start_time": "2023-11-11T20:55:01.707Z"
   },
   {
    "duration": 65,
    "start_time": "2023-11-11T20:55:01.758Z"
   },
   {
    "duration": 114,
    "start_time": "2023-11-11T20:55:01.825Z"
   },
   {
    "duration": 78,
    "start_time": "2023-11-11T20:55:01.941Z"
   },
   {
    "duration": 89,
    "start_time": "2023-11-11T20:55:02.021Z"
   },
   {
    "duration": 98,
    "start_time": "2023-11-11T20:55:02.112Z"
   },
   {
    "duration": 55,
    "start_time": "2023-11-11T20:55:02.213Z"
   },
   {
    "duration": 73,
    "start_time": "2023-11-11T20:55:02.270Z"
   },
   {
    "duration": 55,
    "start_time": "2023-11-11T20:55:02.346Z"
   },
   {
    "duration": 47,
    "start_time": "2023-11-11T20:55:02.404Z"
   },
   {
    "duration": 108,
    "start_time": "2023-11-11T20:55:02.453Z"
   },
   {
    "duration": 43,
    "start_time": "2023-11-11T20:55:02.564Z"
   },
   {
    "duration": 730,
    "start_time": "2023-11-11T20:55:02.609Z"
   },
   {
    "duration": 104,
    "start_time": "2023-11-11T20:57:03.507Z"
   },
   {
    "duration": 51,
    "start_time": "2023-11-11T20:57:26.013Z"
   },
   {
    "duration": 1263,
    "start_time": "2023-11-11T20:57:35.907Z"
   },
   {
    "duration": 3,
    "start_time": "2023-11-11T20:57:37.172Z"
   },
   {
    "duration": 121,
    "start_time": "2023-11-11T20:57:37.176Z"
   },
   {
    "duration": 8,
    "start_time": "2023-11-11T20:57:37.299Z"
   },
   {
    "duration": 13,
    "start_time": "2023-11-11T20:57:37.310Z"
   },
   {
    "duration": 5,
    "start_time": "2023-11-11T20:57:37.325Z"
   },
   {
    "duration": 18,
    "start_time": "2023-11-11T20:57:37.331Z"
   },
   {
    "duration": 15,
    "start_time": "2023-11-11T20:57:37.350Z"
   },
   {
    "duration": 7,
    "start_time": "2023-11-11T20:57:37.367Z"
   },
   {
    "duration": 10,
    "start_time": "2023-11-11T20:57:37.375Z"
   },
   {
    "duration": 14,
    "start_time": "2023-11-11T20:57:37.387Z"
   },
   {
    "duration": 12,
    "start_time": "2023-11-11T20:57:37.432Z"
   },
   {
    "duration": 30,
    "start_time": "2023-11-11T20:57:37.446Z"
   },
   {
    "duration": 19,
    "start_time": "2023-11-11T20:57:37.480Z"
   },
   {
    "duration": 34,
    "start_time": "2023-11-11T20:57:37.501Z"
   },
   {
    "duration": 14,
    "start_time": "2023-11-11T20:57:37.536Z"
   },
   {
    "duration": 6,
    "start_time": "2023-11-11T20:57:37.552Z"
   },
   {
    "duration": 23,
    "start_time": "2023-11-11T20:57:37.560Z"
   },
   {
    "duration": 4,
    "start_time": "2023-11-11T20:57:37.585Z"
   },
   {
    "duration": 652,
    "start_time": "2023-11-11T20:57:37.591Z"
   },
   {
    "duration": 1348,
    "start_time": "2023-11-11T20:57:50.417Z"
   },
   {
    "duration": 1326,
    "start_time": "2023-11-11T20:59:12.319Z"
   },
   {
    "duration": 489,
    "start_time": "2023-11-11T20:59:26.341Z"
   },
   {
    "duration": 410,
    "start_time": "2023-11-11T21:00:18.477Z"
   },
   {
    "duration": 676,
    "start_time": "2023-11-11T21:00:47.018Z"
   },
   {
    "duration": 93,
    "start_time": "2023-11-11T21:03:40.877Z"
   },
   {
    "duration": 568,
    "start_time": "2023-11-11T21:03:47.548Z"
   },
   {
    "duration": 553,
    "start_time": "2023-11-11T21:04:23.726Z"
   },
   {
    "duration": 566,
    "start_time": "2023-11-11T21:09:29.980Z"
   },
   {
    "duration": 676,
    "start_time": "2023-11-11T21:09:44.803Z"
   },
   {
    "duration": 518,
    "start_time": "2023-11-11T21:09:53.482Z"
   },
   {
    "duration": 460,
    "start_time": "2023-11-11T21:12:52.623Z"
   },
   {
    "duration": 656,
    "start_time": "2023-11-11T21:17:34.069Z"
   },
   {
    "duration": 46,
    "start_time": "2023-11-11T21:18:50.212Z"
   },
   {
    "duration": 1324,
    "start_time": "2023-11-11T21:18:55.487Z"
   },
   {
    "duration": 3,
    "start_time": "2023-11-11T21:18:56.813Z"
   },
   {
    "duration": 110,
    "start_time": "2023-11-11T21:18:56.818Z"
   },
   {
    "duration": 6,
    "start_time": "2023-11-11T21:18:56.930Z"
   },
   {
    "duration": 11,
    "start_time": "2023-11-11T21:18:56.938Z"
   },
   {
    "duration": 5,
    "start_time": "2023-11-11T21:18:56.951Z"
   },
   {
    "duration": 29,
    "start_time": "2023-11-11T21:18:56.957Z"
   },
   {
    "duration": 42,
    "start_time": "2023-11-11T21:18:56.988Z"
   },
   {
    "duration": 9,
    "start_time": "2023-11-11T21:18:57.033Z"
   },
   {
    "duration": 9,
    "start_time": "2023-11-11T21:18:57.043Z"
   },
   {
    "duration": 15,
    "start_time": "2023-11-11T21:18:57.053Z"
   },
   {
    "duration": 12,
    "start_time": "2023-11-11T21:18:57.070Z"
   },
   {
    "duration": 60,
    "start_time": "2023-11-11T21:18:57.084Z"
   },
   {
    "duration": 14,
    "start_time": "2023-11-11T21:18:57.146Z"
   },
   {
    "duration": 10,
    "start_time": "2023-11-11T21:18:57.161Z"
   },
   {
    "duration": 13,
    "start_time": "2023-11-11T21:18:57.172Z"
   },
   {
    "duration": 6,
    "start_time": "2023-11-11T21:18:57.186Z"
   },
   {
    "duration": 54,
    "start_time": "2023-11-11T21:18:57.194Z"
   },
   {
    "duration": 4,
    "start_time": "2023-11-11T21:18:57.250Z"
   },
   {
    "duration": 680,
    "start_time": "2023-11-11T21:18:57.255Z"
   },
   {
    "duration": 509,
    "start_time": "2023-11-11T21:19:02.992Z"
   },
   {
    "duration": 516,
    "start_time": "2023-11-11T21:19:21.560Z"
   },
   {
    "duration": 71,
    "start_time": "2023-11-11T21:21:38.973Z"
   },
   {
    "duration": 1210,
    "start_time": "2023-11-11T21:21:47.846Z"
   },
   {
    "duration": 2,
    "start_time": "2023-11-11T21:21:49.059Z"
   },
   {
    "duration": 105,
    "start_time": "2023-11-11T21:21:49.063Z"
   },
   {
    "duration": 6,
    "start_time": "2023-11-11T21:21:49.170Z"
   },
   {
    "duration": 11,
    "start_time": "2023-11-11T21:21:49.178Z"
   },
   {
    "duration": 4,
    "start_time": "2023-11-11T21:21:49.191Z"
   },
   {
    "duration": 21,
    "start_time": "2023-11-11T21:21:49.197Z"
   },
   {
    "duration": 17,
    "start_time": "2023-11-11T21:21:49.232Z"
   },
   {
    "duration": 8,
    "start_time": "2023-11-11T21:21:49.250Z"
   },
   {
    "duration": 12,
    "start_time": "2023-11-11T21:21:49.260Z"
   },
   {
    "duration": 13,
    "start_time": "2023-11-11T21:21:49.274Z"
   },
   {
    "duration": 42,
    "start_time": "2023-11-11T21:21:49.288Z"
   },
   {
    "duration": 22,
    "start_time": "2023-11-11T21:21:49.332Z"
   },
   {
    "duration": 13,
    "start_time": "2023-11-11T21:21:49.356Z"
   },
   {
    "duration": 9,
    "start_time": "2023-11-11T21:21:49.371Z"
   },
   {
    "duration": 13,
    "start_time": "2023-11-11T21:21:49.381Z"
   },
   {
    "duration": 5,
    "start_time": "2023-11-11T21:21:49.396Z"
   },
   {
    "duration": 21,
    "start_time": "2023-11-11T21:21:49.431Z"
   },
   {
    "duration": 3,
    "start_time": "2023-11-11T21:21:49.454Z"
   },
   {
    "duration": 589,
    "start_time": "2023-11-11T21:21:49.458Z"
   },
   {
    "duration": 495,
    "start_time": "2023-11-11T21:21:50.049Z"
   },
   {
    "duration": 494,
    "start_time": "2023-11-11T21:21:50.545Z"
   },
   {
    "duration": 48,
    "start_time": "2023-11-11T21:21:59.225Z"
   },
   {
    "duration": 1239,
    "start_time": "2023-11-11T21:22:14.638Z"
   },
   {
    "duration": 3,
    "start_time": "2023-11-11T21:22:15.879Z"
   },
   {
    "duration": 104,
    "start_time": "2023-11-11T21:22:15.884Z"
   },
   {
    "duration": 5,
    "start_time": "2023-11-11T21:22:15.990Z"
   },
   {
    "duration": 13,
    "start_time": "2023-11-11T21:22:15.997Z"
   },
   {
    "duration": 5,
    "start_time": "2023-11-11T21:22:16.011Z"
   },
   {
    "duration": 18,
    "start_time": "2023-11-11T21:22:16.017Z"
   },
   {
    "duration": 16,
    "start_time": "2023-11-11T21:22:16.037Z"
   },
   {
    "duration": 7,
    "start_time": "2023-11-11T21:22:16.055Z"
   },
   {
    "duration": 11,
    "start_time": "2023-11-11T21:22:16.063Z"
   },
   {
    "duration": 13,
    "start_time": "2023-11-11T21:22:16.076Z"
   },
   {
    "duration": 41,
    "start_time": "2023-11-11T21:22:16.091Z"
   },
   {
    "duration": 24,
    "start_time": "2023-11-11T21:22:16.134Z"
   },
   {
    "duration": 15,
    "start_time": "2023-11-11T21:22:16.161Z"
   },
   {
    "duration": 10,
    "start_time": "2023-11-11T21:22:16.177Z"
   },
   {
    "duration": 45,
    "start_time": "2023-11-11T21:22:16.188Z"
   },
   {
    "duration": 7,
    "start_time": "2023-11-11T21:22:16.234Z"
   },
   {
    "duration": 22,
    "start_time": "2023-11-11T21:22:16.243Z"
   },
   {
    "duration": 4,
    "start_time": "2023-11-11T21:22:16.266Z"
   },
   {
    "duration": 612,
    "start_time": "2023-11-11T21:22:16.272Z"
   },
   {
    "duration": 617,
    "start_time": "2023-11-11T21:22:16.885Z"
   },
   {
    "duration": 537,
    "start_time": "2023-11-11T21:22:17.504Z"
   },
   {
    "duration": 565,
    "start_time": "2023-11-11T21:22:28.793Z"
   },
   {
    "duration": 0,
    "start_time": "2023-11-11T21:23:30.298Z"
   },
   {
    "duration": 1550,
    "start_time": "2023-11-12T08:10:10.777Z"
   },
   {
    "duration": 3,
    "start_time": "2023-11-12T08:10:12.329Z"
   },
   {
    "duration": 193,
    "start_time": "2023-11-12T08:10:12.334Z"
   },
   {
    "duration": 8,
    "start_time": "2023-11-12T08:10:12.529Z"
   },
   {
    "duration": 13,
    "start_time": "2023-11-12T08:10:12.539Z"
   },
   {
    "duration": 7,
    "start_time": "2023-11-12T08:10:12.554Z"
   },
   {
    "duration": 61,
    "start_time": "2023-11-12T08:10:12.563Z"
   },
   {
    "duration": 21,
    "start_time": "2023-11-12T08:10:12.625Z"
   },
   {
    "duration": 8,
    "start_time": "2023-11-12T08:10:12.647Z"
   },
   {
    "duration": 27,
    "start_time": "2023-11-12T08:10:12.657Z"
   },
   {
    "duration": 27,
    "start_time": "2023-11-12T08:10:12.685Z"
   },
   {
    "duration": 18,
    "start_time": "2023-11-12T08:10:12.713Z"
   },
   {
    "duration": 23,
    "start_time": "2023-11-12T08:10:12.733Z"
   },
   {
    "duration": 58,
    "start_time": "2023-11-12T08:10:12.759Z"
   },
   {
    "duration": 12,
    "start_time": "2023-11-12T08:10:12.820Z"
   },
   {
    "duration": 13,
    "start_time": "2023-11-12T08:10:12.833Z"
   },
   {
    "duration": 6,
    "start_time": "2023-11-12T08:10:12.847Z"
   },
   {
    "duration": 22,
    "start_time": "2023-11-12T08:10:12.854Z"
   },
   {
    "duration": 37,
    "start_time": "2023-11-12T08:10:12.878Z"
   },
   {
    "duration": 709,
    "start_time": "2023-11-12T08:10:12.923Z"
   },
   {
    "duration": 603,
    "start_time": "2023-11-12T08:10:13.634Z"
   },
   {
    "duration": 624,
    "start_time": "2023-11-12T08:10:14.239Z"
   },
   {
    "duration": 0,
    "start_time": "2023-11-12T08:11:32.784Z"
   },
   {
    "duration": 3482,
    "start_time": "2023-11-12T08:11:48.954Z"
   },
   {
    "duration": 6,
    "start_time": "2023-11-12T08:51:39.292Z"
   },
   {
    "duration": 6,
    "start_time": "2023-11-12T08:51:48.310Z"
   },
   {
    "duration": 92,
    "start_time": "2023-11-12T08:53:27.370Z"
   },
   {
    "duration": 3,
    "start_time": "2023-11-12T08:53:34.930Z"
   },
   {
    "duration": 8,
    "start_time": "2023-11-12T08:53:34.935Z"
   },
   {
    "duration": 65,
    "start_time": "2023-11-12T08:53:34.945Z"
   },
   {
    "duration": 6,
    "start_time": "2023-11-12T08:53:35.012Z"
   },
   {
    "duration": 19,
    "start_time": "2023-11-12T08:53:35.019Z"
   },
   {
    "duration": 6,
    "start_time": "2023-11-12T08:53:35.040Z"
   },
   {
    "duration": 20,
    "start_time": "2023-11-12T08:53:35.048Z"
   },
   {
    "duration": 18,
    "start_time": "2023-11-12T08:53:35.069Z"
   },
   {
    "duration": 28,
    "start_time": "2023-11-12T08:53:35.088Z"
   },
   {
    "duration": 14,
    "start_time": "2023-11-12T08:53:35.118Z"
   },
   {
    "duration": 15,
    "start_time": "2023-11-12T08:53:35.134Z"
   },
   {
    "duration": 12,
    "start_time": "2023-11-12T08:53:35.150Z"
   },
   {
    "duration": 51,
    "start_time": "2023-11-12T08:53:35.164Z"
   },
   {
    "duration": 15,
    "start_time": "2023-11-12T08:53:35.216Z"
   },
   {
    "duration": 10,
    "start_time": "2023-11-12T08:53:35.232Z"
   },
   {
    "duration": 17,
    "start_time": "2023-11-12T08:53:35.243Z"
   },
   {
    "duration": 6,
    "start_time": "2023-11-12T08:53:35.262Z"
   },
   {
    "duration": 51,
    "start_time": "2023-11-12T08:53:35.270Z"
   },
   {
    "duration": 4,
    "start_time": "2023-11-12T08:53:35.323Z"
   },
   {
    "duration": 634,
    "start_time": "2023-11-12T08:53:35.329Z"
   },
   {
    "duration": 560,
    "start_time": "2023-11-12T08:53:35.964Z"
   },
   {
    "duration": 442,
    "start_time": "2023-11-12T08:53:36.526Z"
   },
   {
    "duration": 4,
    "start_time": "2023-11-12T08:53:36.970Z"
   },
   {
    "duration": 82,
    "start_time": "2023-11-12T08:53:39.475Z"
   },
   {
    "duration": 52,
    "start_time": "2023-11-12T08:54:28.515Z"
   },
   {
    "duration": 30,
    "start_time": "2023-11-12T08:55:09.819Z"
   },
   {
    "duration": 3,
    "start_time": "2023-11-12T08:55:48.220Z"
   },
   {
    "duration": 4,
    "start_time": "2023-11-12T08:55:48.225Z"
   },
   {
    "duration": 63,
    "start_time": "2023-11-12T08:55:48.230Z"
   },
   {
    "duration": 6,
    "start_time": "2023-11-12T08:55:48.294Z"
   },
   {
    "duration": 13,
    "start_time": "2023-11-12T08:55:48.302Z"
   },
   {
    "duration": 5,
    "start_time": "2023-11-12T08:55:48.316Z"
   },
   {
    "duration": 18,
    "start_time": "2023-11-12T08:55:48.323Z"
   },
   {
    "duration": 16,
    "start_time": "2023-11-12T08:55:48.343Z"
   },
   {
    "duration": 7,
    "start_time": "2023-11-12T08:55:48.360Z"
   },
   {
    "duration": 8,
    "start_time": "2023-11-12T08:55:48.368Z"
   },
   {
    "duration": 15,
    "start_time": "2023-11-12T08:55:48.411Z"
   },
   {
    "duration": 11,
    "start_time": "2023-11-12T08:55:48.428Z"
   },
   {
    "duration": 22,
    "start_time": "2023-11-12T08:55:48.441Z"
   },
   {
    "duration": 16,
    "start_time": "2023-11-12T08:55:48.466Z"
   },
   {
    "duration": 10,
    "start_time": "2023-11-12T08:55:48.512Z"
   },
   {
    "duration": 15,
    "start_time": "2023-11-12T08:55:48.524Z"
   },
   {
    "duration": 7,
    "start_time": "2023-11-12T08:55:48.540Z"
   },
   {
    "duration": 24,
    "start_time": "2023-11-12T08:55:48.549Z"
   },
   {
    "duration": 37,
    "start_time": "2023-11-12T08:55:48.575Z"
   },
   {
    "duration": 625,
    "start_time": "2023-11-12T08:55:48.614Z"
   },
   {
    "duration": 554,
    "start_time": "2023-11-12T08:55:49.240Z"
   },
   {
    "duration": 436,
    "start_time": "2023-11-12T08:55:49.796Z"
   },
   {
    "duration": 32,
    "start_time": "2023-11-12T08:55:53.662Z"
   },
   {
    "duration": 30,
    "start_time": "2023-11-12T08:57:09.487Z"
   },
   {
    "duration": 5,
    "start_time": "2023-11-12T08:57:18.674Z"
   },
   {
    "duration": 5,
    "start_time": "2023-11-12T08:57:51.176Z"
   },
   {
    "duration": 29,
    "start_time": "2023-11-12T08:58:21.276Z"
   },
   {
    "duration": 23,
    "start_time": "2023-11-12T08:58:27.635Z"
   },
   {
    "duration": 41,
    "start_time": "2023-11-12T08:59:01.925Z"
   },
   {
    "duration": 23,
    "start_time": "2023-11-12T08:59:19.672Z"
   },
   {
    "duration": 95,
    "start_time": "2023-11-12T09:00:16.697Z"
   },
   {
    "duration": 3,
    "start_time": "2023-11-12T09:00:43.306Z"
   },
   {
    "duration": 8,
    "start_time": "2023-11-12T09:00:43.311Z"
   },
   {
    "duration": 82,
    "start_time": "2023-11-12T09:00:43.320Z"
   },
   {
    "duration": 6,
    "start_time": "2023-11-12T09:00:43.403Z"
   },
   {
    "duration": 13,
    "start_time": "2023-11-12T09:00:43.411Z"
   },
   {
    "duration": 6,
    "start_time": "2023-11-12T09:00:43.425Z"
   },
   {
    "duration": 20,
    "start_time": "2023-11-12T09:00:43.432Z"
   },
   {
    "duration": 17,
    "start_time": "2023-11-12T09:00:43.454Z"
   },
   {
    "duration": 41,
    "start_time": "2023-11-12T09:00:43.474Z"
   },
   {
    "duration": 17,
    "start_time": "2023-11-12T09:00:43.516Z"
   },
   {
    "duration": 15,
    "start_time": "2023-11-12T09:00:43.535Z"
   },
   {
    "duration": 13,
    "start_time": "2023-11-12T09:00:43.552Z"
   },
   {
    "duration": 47,
    "start_time": "2023-11-12T09:00:43.567Z"
   },
   {
    "duration": 15,
    "start_time": "2023-11-12T09:00:43.616Z"
   },
   {
    "duration": 11,
    "start_time": "2023-11-12T09:00:43.633Z"
   },
   {
    "duration": 14,
    "start_time": "2023-11-12T09:00:43.646Z"
   },
   {
    "duration": 6,
    "start_time": "2023-11-12T09:00:43.662Z"
   },
   {
    "duration": 58,
    "start_time": "2023-11-12T09:00:43.669Z"
   },
   {
    "duration": 4,
    "start_time": "2023-11-12T09:00:43.729Z"
   },
   {
    "duration": 637,
    "start_time": "2023-11-12T09:00:43.734Z"
   },
   {
    "duration": 561,
    "start_time": "2023-11-12T09:00:44.372Z"
   },
   {
    "duration": 444,
    "start_time": "2023-11-12T09:00:44.934Z"
   },
   {
    "duration": 32,
    "start_time": "2023-11-12T09:00:45.380Z"
   },
   {
    "duration": 99,
    "start_time": "2023-11-12T09:00:50.051Z"
   },
   {
    "duration": 1306,
    "start_time": "2023-11-12T09:01:35.192Z"
   },
   {
    "duration": 3,
    "start_time": "2023-11-12T09:01:36.500Z"
   },
   {
    "duration": 71,
    "start_time": "2023-11-12T09:01:36.510Z"
   },
   {
    "duration": 7,
    "start_time": "2023-11-12T09:01:36.582Z"
   },
   {
    "duration": 11,
    "start_time": "2023-11-12T09:01:36.591Z"
   },
   {
    "duration": 5,
    "start_time": "2023-11-12T09:01:36.604Z"
   },
   {
    "duration": 23,
    "start_time": "2023-11-12T09:01:36.611Z"
   },
   {
    "duration": 17,
    "start_time": "2023-11-12T09:01:36.636Z"
   },
   {
    "duration": 10,
    "start_time": "2023-11-12T09:01:36.655Z"
   },
   {
    "duration": 47,
    "start_time": "2023-11-12T09:01:36.666Z"
   },
   {
    "duration": 15,
    "start_time": "2023-11-12T09:01:36.715Z"
   },
   {
    "duration": 12,
    "start_time": "2023-11-12T09:01:36.732Z"
   },
   {
    "duration": 23,
    "start_time": "2023-11-12T09:01:36.746Z"
   },
   {
    "duration": 46,
    "start_time": "2023-11-12T09:01:36.773Z"
   },
   {
    "duration": 12,
    "start_time": "2023-11-12T09:01:36.821Z"
   },
   {
    "duration": 15,
    "start_time": "2023-11-12T09:01:36.834Z"
   },
   {
    "duration": 6,
    "start_time": "2023-11-12T09:01:36.851Z"
   },
   {
    "duration": 22,
    "start_time": "2023-11-12T09:01:36.858Z"
   },
   {
    "duration": 32,
    "start_time": "2023-11-12T09:01:36.881Z"
   },
   {
    "duration": 625,
    "start_time": "2023-11-12T09:01:36.915Z"
   },
   {
    "duration": 563,
    "start_time": "2023-11-12T09:01:37.541Z"
   },
   {
    "duration": 523,
    "start_time": "2023-11-12T09:01:38.106Z"
   },
   {
    "duration": 134,
    "start_time": "2023-11-12T09:01:38.630Z"
   },
   {
    "duration": 0,
    "start_time": "2023-11-12T09:01:38.765Z"
   },
   {
    "duration": 0,
    "start_time": "2023-11-12T09:01:38.766Z"
   },
   {
    "duration": 0,
    "start_time": "2023-11-12T09:01:38.767Z"
   },
   {
    "duration": 0,
    "start_time": "2023-11-12T09:01:38.768Z"
   },
   {
    "duration": 0,
    "start_time": "2023-11-12T09:01:38.769Z"
   },
   {
    "duration": 28,
    "start_time": "2023-11-12T09:01:50.092Z"
   },
   {
    "duration": 84,
    "start_time": "2023-11-12T09:02:03.600Z"
   },
   {
    "duration": 85,
    "start_time": "2023-11-12T09:02:50.755Z"
   },
   {
    "duration": 107,
    "start_time": "2023-11-12T09:03:49.950Z"
   },
   {
    "duration": 3,
    "start_time": "2023-11-12T09:04:01.431Z"
   },
   {
    "duration": 593,
    "start_time": "2023-11-12T09:04:10.496Z"
   },
   {
    "duration": 538,
    "start_time": "2023-11-12T09:04:19.349Z"
   },
   {
    "duration": 425,
    "start_time": "2023-11-12T09:04:23.765Z"
   },
   {
    "duration": 148,
    "start_time": "2023-11-12T09:04:27.952Z"
   },
   {
    "duration": 93,
    "start_time": "2023-11-12T09:04:44.205Z"
   },
   {
    "duration": 626,
    "start_time": "2023-11-12T09:04:53.188Z"
   },
   {
    "duration": 545,
    "start_time": "2023-11-12T09:05:05.030Z"
   },
   {
    "duration": 390,
    "start_time": "2023-11-12T09:05:23.632Z"
   },
   {
    "duration": 0,
    "start_time": "2023-11-12T09:06:51.935Z"
   },
   {
    "duration": 3,
    "start_time": "2023-11-12T09:06:58.899Z"
   },
   {
    "duration": 8,
    "start_time": "2023-11-12T09:06:58.904Z"
   },
   {
    "duration": 67,
    "start_time": "2023-11-12T09:06:58.914Z"
   },
   {
    "duration": 6,
    "start_time": "2023-11-12T09:06:58.983Z"
   },
   {
    "duration": 14,
    "start_time": "2023-11-12T09:06:58.990Z"
   },
   {
    "duration": 7,
    "start_time": "2023-11-12T09:06:59.005Z"
   },
   {
    "duration": 3904,
    "start_time": "2023-11-12T09:06:59.013Z"
   },
   {
    "duration": 17,
    "start_time": "2023-11-12T09:07:02.919Z"
   },
   {
    "duration": 8,
    "start_time": "2023-11-12T09:07:02.938Z"
   },
   {
    "duration": 7,
    "start_time": "2023-11-12T09:07:02.948Z"
   },
   {
    "duration": 15,
    "start_time": "2023-11-12T09:07:02.957Z"
   },
   {
    "duration": 49,
    "start_time": "2023-11-12T09:07:02.974Z"
   },
   {
    "duration": 23,
    "start_time": "2023-11-12T09:07:03.024Z"
   },
   {
    "duration": 14,
    "start_time": "2023-11-12T09:07:03.049Z"
   },
   {
    "duration": 10,
    "start_time": "2023-11-12T09:07:03.065Z"
   },
   {
    "duration": 43,
    "start_time": "2023-11-12T09:07:03.077Z"
   },
   {
    "duration": 7,
    "start_time": "2023-11-12T09:07:03.122Z"
   },
   {
    "duration": 21,
    "start_time": "2023-11-12T09:07:03.131Z"
   },
   {
    "duration": 4,
    "start_time": "2023-11-12T09:07:03.154Z"
   },
   {
    "duration": 640,
    "start_time": "2023-11-12T09:07:03.159Z"
   },
   {
    "duration": 552,
    "start_time": "2023-11-12T09:07:03.800Z"
   },
   {
    "duration": 430,
    "start_time": "2023-11-12T09:07:04.353Z"
   },
   {
    "duration": 548,
    "start_time": "2023-11-12T09:07:07.026Z"
   },
   {
    "duration": 36,
    "start_time": "2023-11-12T09:07:30.340Z"
   },
   {
    "duration": 24,
    "start_time": "2023-11-12T09:08:02.730Z"
   },
   {
    "duration": 37,
    "start_time": "2023-11-12T09:08:23.287Z"
   },
   {
    "duration": 537,
    "start_time": "2023-11-12T09:08:58.802Z"
   },
   {
    "duration": 512,
    "start_time": "2023-11-12T09:09:05.317Z"
   },
   {
    "duration": 545,
    "start_time": "2023-11-12T09:09:16.063Z"
   },
   {
    "duration": 551,
    "start_time": "2023-11-12T09:09:32.091Z"
   },
   {
    "duration": 381,
    "start_time": "2023-11-12T09:10:04.727Z"
   },
   {
    "duration": 493,
    "start_time": "2023-11-12T09:10:25.250Z"
   },
   {
    "duration": 570,
    "start_time": "2023-11-12T09:11:53.330Z"
   },
   {
    "duration": 415,
    "start_time": "2023-11-12T09:12:24.744Z"
   },
   {
    "duration": 556,
    "start_time": "2023-11-12T09:12:48.564Z"
   },
   {
    "duration": 547,
    "start_time": "2023-11-12T09:13:22.936Z"
   },
   {
    "duration": 596,
    "start_time": "2023-11-12T09:13:42.554Z"
   },
   {
    "duration": 567,
    "start_time": "2023-11-12T09:13:58.419Z"
   },
   {
    "duration": 591,
    "start_time": "2023-11-12T09:15:16.652Z"
   },
   {
    "duration": 49,
    "start_time": "2023-11-12T09:19:24.354Z"
   },
   {
    "duration": 1316,
    "start_time": "2023-11-12T09:19:44.795Z"
   },
   {
    "duration": 2,
    "start_time": "2023-11-12T09:19:46.114Z"
   },
   {
    "duration": 199,
    "start_time": "2023-11-12T09:19:46.118Z"
   },
   {
    "duration": 7,
    "start_time": "2023-11-12T09:19:46.319Z"
   },
   {
    "duration": 17,
    "start_time": "2023-11-12T09:19:46.328Z"
   },
   {
    "duration": 7,
    "start_time": "2023-11-12T09:19:46.346Z"
   },
   {
    "duration": 20,
    "start_time": "2023-11-12T09:19:46.355Z"
   },
   {
    "duration": 54,
    "start_time": "2023-11-12T09:19:46.377Z"
   },
   {
    "duration": 8,
    "start_time": "2023-11-12T09:19:46.433Z"
   },
   {
    "duration": 8,
    "start_time": "2023-11-12T09:19:46.443Z"
   },
   {
    "duration": 16,
    "start_time": "2023-11-12T09:19:46.452Z"
   },
   {
    "duration": 53,
    "start_time": "2023-11-12T09:19:46.469Z"
   },
   {
    "duration": 26,
    "start_time": "2023-11-12T09:19:46.524Z"
   },
   {
    "duration": 15,
    "start_time": "2023-11-12T09:19:46.554Z"
   },
   {
    "duration": 9,
    "start_time": "2023-11-12T09:19:46.570Z"
   },
   {
    "duration": 41,
    "start_time": "2023-11-12T09:19:46.581Z"
   },
   {
    "duration": 6,
    "start_time": "2023-11-12T09:19:46.624Z"
   },
   {
    "duration": 23,
    "start_time": "2023-11-12T09:19:46.632Z"
   },
   {
    "duration": 4,
    "start_time": "2023-11-12T09:19:46.656Z"
   },
   {
    "duration": 697,
    "start_time": "2023-11-12T09:19:46.662Z"
   },
   {
    "duration": 613,
    "start_time": "2023-11-12T09:19:47.361Z"
   },
   {
    "duration": 559,
    "start_time": "2023-11-12T09:19:47.976Z"
   },
   {
    "duration": 611,
    "start_time": "2023-11-12T09:19:48.538Z"
   },
   {
    "duration": 521,
    "start_time": "2023-11-12T09:19:54.984Z"
   },
   {
    "duration": 166,
    "start_time": "2023-11-12T09:21:07.658Z"
   },
   {
    "duration": 162,
    "start_time": "2023-11-12T09:21:24.169Z"
   },
   {
    "duration": 167,
    "start_time": "2023-11-12T09:21:41.649Z"
   },
   {
    "duration": 3,
    "start_time": "2023-11-12T09:22:09.570Z"
   },
   {
    "duration": 7,
    "start_time": "2023-11-12T09:22:09.576Z"
   },
   {
    "duration": 67,
    "start_time": "2023-11-12T09:22:09.585Z"
   },
   {
    "duration": 6,
    "start_time": "2023-11-12T09:22:09.654Z"
   },
   {
    "duration": 12,
    "start_time": "2023-11-12T09:22:09.662Z"
   },
   {
    "duration": 9,
    "start_time": "2023-11-12T09:22:09.675Z"
   },
   {
    "duration": 39,
    "start_time": "2023-11-12T09:22:09.685Z"
   },
   {
    "duration": 140,
    "start_time": "2023-11-12T09:22:09.726Z"
   },
   {
    "duration": 9,
    "start_time": "2023-11-12T09:22:09.868Z"
   },
   {
    "duration": 8,
    "start_time": "2023-11-12T09:22:09.878Z"
   },
   {
    "duration": 35,
    "start_time": "2023-11-12T09:22:09.888Z"
   },
   {
    "duration": 12,
    "start_time": "2023-11-12T09:22:09.924Z"
   },
   {
    "duration": 24,
    "start_time": "2023-11-12T09:22:09.939Z"
   },
   {
    "duration": 14,
    "start_time": "2023-11-12T09:22:09.965Z"
   },
   {
    "duration": 40,
    "start_time": "2023-11-12T09:22:09.981Z"
   },
   {
    "duration": 21,
    "start_time": "2023-11-12T09:22:10.023Z"
   },
   {
    "duration": 8,
    "start_time": "2023-11-12T09:22:10.046Z"
   },
   {
    "duration": 27,
    "start_time": "2023-11-12T09:22:10.056Z"
   },
   {
    "duration": 28,
    "start_time": "2023-11-12T09:22:10.086Z"
   },
   {
    "duration": 630,
    "start_time": "2023-11-12T09:22:10.116Z"
   },
   {
    "duration": 558,
    "start_time": "2023-11-12T09:22:10.747Z"
   },
   {
    "duration": 448,
    "start_time": "2023-11-12T09:22:11.307Z"
   },
   {
    "duration": 669,
    "start_time": "2023-11-12T09:22:11.757Z"
   },
   {
    "duration": 164,
    "start_time": "2023-11-12T09:22:14.604Z"
   },
   {
    "duration": 567,
    "start_time": "2023-11-12T09:23:01.210Z"
   },
   {
    "duration": 4,
    "start_time": "2023-11-12T09:23:47.589Z"
   },
   {
    "duration": 543,
    "start_time": "2023-11-12T09:24:41.871Z"
   },
   {
    "duration": 639,
    "start_time": "2023-11-12T09:24:49.200Z"
   },
   {
    "duration": 3,
    "start_time": "2023-11-12T09:24:52.866Z"
   },
   {
    "duration": 89,
    "start_time": "2023-11-12T09:26:15.263Z"
   },
   {
    "duration": 24,
    "start_time": "2023-11-12T09:27:41.723Z"
   },
   {
    "duration": 6,
    "start_time": "2023-11-12T09:32:49.522Z"
   },
   {
    "duration": 541,
    "start_time": "2023-11-12T09:34:54.705Z"
   },
   {
    "duration": 548,
    "start_time": "2023-11-12T09:35:09.374Z"
   },
   {
    "duration": 529,
    "start_time": "2023-11-12T09:37:11.966Z"
   },
   {
    "duration": 642,
    "start_time": "2023-11-12T09:37:23.890Z"
   },
   {
    "duration": 532,
    "start_time": "2023-11-12T09:37:37.555Z"
   },
   {
    "duration": 365,
    "start_time": "2023-11-12T09:38:50.746Z"
   },
   {
    "duration": 412,
    "start_time": "2023-11-12T09:39:05.982Z"
   },
   {
    "duration": 931,
    "start_time": "2023-11-12T09:40:04.924Z"
   },
   {
    "duration": 513,
    "start_time": "2023-11-12T09:40:15.292Z"
   },
   {
    "duration": 24,
    "start_time": "2023-11-12T09:46:40.017Z"
   },
   {
    "duration": 23,
    "start_time": "2023-11-12T09:46:49.510Z"
   },
   {
    "duration": 5,
    "start_time": "2023-11-12T09:47:07.382Z"
   },
   {
    "duration": 536,
    "start_time": "2023-11-12T09:47:11.375Z"
   },
   {
    "duration": 1894,
    "start_time": "2023-11-12T09:51:22.866Z"
   },
   {
    "duration": 1777,
    "start_time": "2023-11-12T09:52:08.877Z"
   },
   {
    "duration": 2260,
    "start_time": "2023-11-12T10:04:57.620Z"
   },
   {
    "duration": 12,
    "start_time": "2023-11-12T10:05:14.040Z"
   },
   {
    "duration": 28,
    "start_time": "2023-11-12T10:05:19.702Z"
   },
   {
    "duration": 2124,
    "start_time": "2023-11-12T10:05:24.716Z"
   },
   {
    "duration": 2527,
    "start_time": "2023-11-12T10:05:39.692Z"
   },
   {
    "duration": 478,
    "start_time": "2023-11-12T10:08:48.429Z"
   },
   {
    "duration": 437,
    "start_time": "2023-11-12T10:09:19.976Z"
   },
   {
    "duration": 3183,
    "start_time": "2023-11-12T10:10:42.928Z"
   },
   {
    "duration": 2261,
    "start_time": "2023-11-12T10:19:27.519Z"
   },
   {
    "duration": 2496,
    "start_time": "2023-11-12T10:21:34.822Z"
   },
   {
    "duration": 12,
    "start_time": "2023-11-12T10:25:05.889Z"
   },
   {
    "duration": 2043,
    "start_time": "2023-11-12T10:29:45.977Z"
   },
   {
    "duration": 15,
    "start_time": "2023-11-12T10:30:45.701Z"
   },
   {
    "duration": 1691,
    "start_time": "2023-11-12T10:30:58.651Z"
   },
   {
    "duration": 2766,
    "start_time": "2023-11-12T10:40:38.329Z"
   },
   {
    "duration": 3,
    "start_time": "2023-11-12T10:46:24.616Z"
   },
   {
    "duration": 4,
    "start_time": "2023-11-12T10:46:24.621Z"
   },
   {
    "duration": 72,
    "start_time": "2023-11-12T10:46:24.627Z"
   },
   {
    "duration": 7,
    "start_time": "2023-11-12T10:46:24.700Z"
   },
   {
    "duration": 11,
    "start_time": "2023-11-12T10:46:24.710Z"
   },
   {
    "duration": 6,
    "start_time": "2023-11-12T10:46:24.723Z"
   },
   {
    "duration": 20,
    "start_time": "2023-11-12T10:46:24.730Z"
   },
   {
    "duration": 16,
    "start_time": "2023-11-12T10:46:24.752Z"
   },
   {
    "duration": 42,
    "start_time": "2023-11-12T10:46:24.770Z"
   },
   {
    "duration": 8,
    "start_time": "2023-11-12T10:46:24.814Z"
   },
   {
    "duration": 14,
    "start_time": "2023-11-12T10:46:24.823Z"
   },
   {
    "duration": 13,
    "start_time": "2023-11-12T10:46:24.839Z"
   },
   {
    "duration": 24,
    "start_time": "2023-11-12T10:46:34.928Z"
   },
   {
    "duration": 24,
    "start_time": "2023-11-12T10:47:05.400Z"
   },
   {
    "duration": 23,
    "start_time": "2023-11-12T10:49:22.254Z"
   },
   {
    "duration": 2569,
    "start_time": "2023-11-12T10:50:45.499Z"
   },
   {
    "duration": 2411,
    "start_time": "2023-11-12T10:53:38.135Z"
   },
   {
    "duration": 21,
    "start_time": "2023-11-12T11:20:14.433Z"
   },
   {
    "duration": 1188,
    "start_time": "2023-11-12T11:20:20.280Z"
   },
   {
    "duration": 1118,
    "start_time": "2023-11-12T11:22:04.164Z"
   },
   {
    "duration": 1205,
    "start_time": "2023-11-12T11:22:15.930Z"
   },
   {
    "duration": 599,
    "start_time": "2023-11-12T11:23:36.280Z"
   },
   {
    "duration": 1344,
    "start_time": "2023-11-12T11:23:58.799Z"
   },
   {
    "duration": 1250,
    "start_time": "2023-11-12T11:24:18.521Z"
   },
   {
    "duration": 1421,
    "start_time": "2023-11-12T11:24:41.560Z"
   },
   {
    "duration": 1165,
    "start_time": "2023-11-12T11:25:45.545Z"
   },
   {
    "duration": 1235,
    "start_time": "2023-11-12T11:27:17.711Z"
   },
   {
    "duration": 1301,
    "start_time": "2023-11-12T11:27:43.541Z"
   },
   {
    "duration": 1201,
    "start_time": "2023-11-12T11:28:16.907Z"
   },
   {
    "duration": 1127,
    "start_time": "2023-11-12T11:28:52.922Z"
   },
   {
    "duration": 1284,
    "start_time": "2023-11-12T11:29:24.707Z"
   },
   {
    "duration": 1138,
    "start_time": "2023-11-12T11:29:35.604Z"
   },
   {
    "duration": 1265,
    "start_time": "2023-11-12T11:30:19.920Z"
   },
   {
    "duration": 1492,
    "start_time": "2023-11-12T11:31:04.835Z"
   },
   {
    "duration": 1231,
    "start_time": "2023-11-12T11:31:39.087Z"
   },
   {
    "duration": 1136,
    "start_time": "2023-11-12T11:32:04.175Z"
   },
   {
    "duration": 1134,
    "start_time": "2023-11-12T11:33:50.551Z"
   },
   {
    "duration": 1289,
    "start_time": "2023-11-12T11:34:44.977Z"
   },
   {
    "duration": 538,
    "start_time": "2023-11-12T11:38:47.503Z"
   },
   {
    "duration": 1214,
    "start_time": "2023-11-12T11:38:56.800Z"
   },
   {
    "duration": 15,
    "start_time": "2023-11-12T11:40:05.616Z"
   },
   {
    "duration": 4,
    "start_time": "2023-11-12T11:40:16.351Z"
   },
   {
    "duration": 11,
    "start_time": "2023-11-12T11:40:16.357Z"
   },
   {
    "duration": 70,
    "start_time": "2023-11-12T11:40:16.369Z"
   },
   {
    "duration": 8,
    "start_time": "2023-11-12T11:40:16.441Z"
   },
   {
    "duration": 12,
    "start_time": "2023-11-12T11:40:16.451Z"
   },
   {
    "duration": 6,
    "start_time": "2023-11-12T11:40:16.465Z"
   },
   {
    "duration": 52,
    "start_time": "2023-11-12T11:40:16.472Z"
   },
   {
    "duration": 18,
    "start_time": "2023-11-12T11:40:16.525Z"
   },
   {
    "duration": 9,
    "start_time": "2023-11-12T11:40:16.545Z"
   },
   {
    "duration": 8,
    "start_time": "2023-11-12T11:40:16.556Z"
   },
   {
    "duration": 52,
    "start_time": "2023-11-12T11:40:16.566Z"
   },
   {
    "duration": 13,
    "start_time": "2023-11-12T11:40:16.620Z"
   },
   {
    "duration": 29,
    "start_time": "2023-11-12T11:40:16.635Z"
   },
   {
    "duration": 14,
    "start_time": "2023-11-12T11:40:16.666Z"
   },
   {
    "duration": 34,
    "start_time": "2023-11-12T11:40:16.682Z"
   },
   {
    "duration": 14,
    "start_time": "2023-11-12T11:40:16.717Z"
   },
   {
    "duration": 6,
    "start_time": "2023-11-12T11:40:16.732Z"
   },
   {
    "duration": 24,
    "start_time": "2023-11-12T11:40:16.740Z"
   },
   {
    "duration": 4,
    "start_time": "2023-11-12T11:40:16.766Z"
   },
   {
    "duration": 693,
    "start_time": "2023-11-12T11:40:16.772Z"
   },
   {
    "duration": 590,
    "start_time": "2023-11-12T11:40:17.467Z"
   },
   {
    "duration": 457,
    "start_time": "2023-11-12T11:40:18.059Z"
   },
   {
    "duration": 662,
    "start_time": "2023-11-12T11:40:18.518Z"
   },
   {
    "duration": 7,
    "start_time": "2023-11-12T11:40:19.185Z"
   },
   {
    "duration": 600,
    "start_time": "2023-11-12T11:40:19.193Z"
   },
   {
    "duration": 2602,
    "start_time": "2023-11-12T11:40:19.794Z"
   },
   {
    "duration": 20,
    "start_time": "2023-11-12T11:40:48.320Z"
   },
   {
    "duration": 5,
    "start_time": "2023-11-12T11:43:16.511Z"
   },
   {
    "duration": 18,
    "start_time": "2023-11-12T11:43:22.987Z"
   },
   {
    "duration": 9,
    "start_time": "2023-11-12T11:43:57.756Z"
   },
   {
    "duration": 12,
    "start_time": "2023-11-12T11:44:06.863Z"
   },
   {
    "duration": 91,
    "start_time": "2023-11-12T11:44:52.286Z"
   },
   {
    "duration": 12,
    "start_time": "2023-11-12T11:44:58.735Z"
   },
   {
    "duration": 5,
    "start_time": "2023-11-12T11:45:40.694Z"
   },
   {
    "duration": 7,
    "start_time": "2023-11-12T11:45:51.450Z"
   },
   {
    "duration": 6,
    "start_time": "2023-11-12T11:46:03.408Z"
   },
   {
    "duration": 8,
    "start_time": "2023-11-12T11:46:12.352Z"
   },
   {
    "duration": 12,
    "start_time": "2023-11-12T12:07:00.677Z"
   },
   {
    "duration": 14,
    "start_time": "2023-11-12T12:07:08.874Z"
   },
   {
    "duration": 14,
    "start_time": "2023-11-12T12:07:36.541Z"
   },
   {
    "duration": 18,
    "start_time": "2023-11-12T12:08:18.342Z"
   },
   {
    "duration": 1619,
    "start_time": "2023-11-12T12:08:37.175Z"
   },
   {
    "duration": 12,
    "start_time": "2023-11-12T12:10:16.272Z"
   },
   {
    "duration": 19,
    "start_time": "2023-11-12T12:15:23.953Z"
   },
   {
    "duration": 22,
    "start_time": "2023-11-12T12:16:36.891Z"
   },
   {
    "duration": 24,
    "start_time": "2023-11-12T12:16:47.227Z"
   },
   {
    "duration": 53,
    "start_time": "2023-11-12T12:17:12.554Z"
   },
   {
    "duration": 1624,
    "start_time": "2023-11-12T12:35:05.895Z"
   },
   {
    "duration": 7,
    "start_time": "2023-11-12T12:41:13.220Z"
   },
   {
    "duration": 1553,
    "start_time": "2023-11-12T12:42:40.192Z"
   },
   {
    "duration": 1645,
    "start_time": "2023-11-12T12:42:45.625Z"
   },
   {
    "duration": 1676,
    "start_time": "2023-11-12T12:43:44.841Z"
   },
   {
    "duration": 40,
    "start_time": "2023-11-12T12:54:57.306Z"
   },
   {
    "duration": 27,
    "start_time": "2023-11-12T12:55:13.205Z"
   },
   {
    "duration": 39,
    "start_time": "2023-11-12T13:01:07.275Z"
   },
   {
    "duration": 22,
    "start_time": "2023-11-12T13:03:49.143Z"
   },
   {
    "duration": 26,
    "start_time": "2023-11-12T13:04:02.345Z"
   },
   {
    "duration": 25,
    "start_time": "2023-11-12T13:04:59.144Z"
   },
   {
    "duration": 24,
    "start_time": "2023-11-12T13:05:36.356Z"
   },
   {
    "duration": 32,
    "start_time": "2023-11-12T13:06:55.484Z"
   },
   {
    "duration": 120,
    "start_time": "2023-11-12T13:07:14.099Z"
   },
   {
    "duration": 22,
    "start_time": "2023-11-12T13:07:18.065Z"
   },
   {
    "duration": 25,
    "start_time": "2023-11-12T13:08:04.421Z"
   },
   {
    "duration": 24,
    "start_time": "2023-11-12T13:08:41.299Z"
   },
   {
    "duration": 31,
    "start_time": "2023-11-12T13:09:56.763Z"
   },
   {
    "duration": 19,
    "start_time": "2023-11-12T13:10:00.286Z"
   },
   {
    "duration": 20,
    "start_time": "2023-11-12T13:10:07.468Z"
   },
   {
    "duration": 14,
    "start_time": "2023-11-12T13:10:14.184Z"
   },
   {
    "duration": 9,
    "start_time": "2023-11-12T13:10:41.423Z"
   },
   {
    "duration": 12,
    "start_time": "2023-11-12T18:05:40.756Z"
   },
   {
    "duration": 7,
    "start_time": "2023-11-12T18:05:48.523Z"
   },
   {
    "duration": 8,
    "start_time": "2023-11-12T18:11:10.187Z"
   },
   {
    "duration": 6,
    "start_time": "2023-11-12T18:11:35.167Z"
   },
   {
    "duration": 9,
    "start_time": "2023-11-12T18:12:15.968Z"
   },
   {
    "duration": 8,
    "start_time": "2023-11-12T18:12:20.868Z"
   },
   {
    "duration": 7,
    "start_time": "2023-11-12T18:13:35.002Z"
   },
   {
    "duration": 7,
    "start_time": "2023-11-12T18:14:20.379Z"
   },
   {
    "duration": 8,
    "start_time": "2023-11-12T18:17:59.528Z"
   },
   {
    "duration": 9,
    "start_time": "2023-11-12T18:24:15.233Z"
   },
   {
    "duration": 8,
    "start_time": "2023-11-12T18:24:32.493Z"
   },
   {
    "duration": 7,
    "start_time": "2023-11-12T18:25:16.053Z"
   },
   {
    "duration": 10,
    "start_time": "2023-11-12T18:25:23.624Z"
   },
   {
    "duration": 8,
    "start_time": "2023-11-12T18:26:04.666Z"
   },
   {
    "duration": 9,
    "start_time": "2023-11-12T18:26:12.835Z"
   },
   {
    "duration": 9,
    "start_time": "2023-11-12T18:26:32.483Z"
   },
   {
    "duration": 10,
    "start_time": "2023-11-12T18:26:36.949Z"
   },
   {
    "duration": 583,
    "start_time": "2023-11-12T18:28:54.519Z"
   },
   {
    "duration": 592,
    "start_time": "2023-11-12T18:30:40.600Z"
   },
   {
    "duration": 700,
    "start_time": "2023-11-12T18:38:34.885Z"
   },
   {
    "duration": 11,
    "start_time": "2023-11-12T18:38:35.587Z"
   },
   {
    "duration": 16,
    "start_time": "2023-11-12T18:38:35.614Z"
   },
   {
    "duration": 242,
    "start_time": "2023-11-12T18:38:35.632Z"
   },
   {
    "duration": 4,
    "start_time": "2023-11-12T18:38:38.220Z"
   },
   {
    "duration": 6,
    "start_time": "2023-11-12T18:38:38.225Z"
   },
   {
    "duration": 68,
    "start_time": "2023-11-12T18:38:38.233Z"
   },
   {
    "duration": 7,
    "start_time": "2023-11-12T18:38:38.303Z"
   },
   {
    "duration": 20,
    "start_time": "2023-11-12T18:38:38.314Z"
   },
   {
    "duration": 5,
    "start_time": "2023-11-12T18:38:38.337Z"
   },
   {
    "duration": 31,
    "start_time": "2023-11-12T18:38:38.344Z"
   },
   {
    "duration": 16,
    "start_time": "2023-11-12T18:38:38.377Z"
   },
   {
    "duration": 21,
    "start_time": "2023-11-12T18:38:38.395Z"
   },
   {
    "duration": 16,
    "start_time": "2023-11-12T18:38:38.421Z"
   },
   {
    "duration": 15,
    "start_time": "2023-11-12T18:38:38.439Z"
   },
   {
    "duration": 13,
    "start_time": "2023-11-12T18:38:38.456Z"
   },
   {
    "duration": 55,
    "start_time": "2023-11-12T18:38:38.471Z"
   },
   {
    "duration": 21,
    "start_time": "2023-11-12T18:38:38.528Z"
   },
   {
    "duration": 13,
    "start_time": "2023-11-12T18:38:38.551Z"
   },
   {
    "duration": 23,
    "start_time": "2023-11-12T18:38:38.566Z"
   },
   {
    "duration": 26,
    "start_time": "2023-11-12T18:38:38.590Z"
   },
   {
    "duration": 22,
    "start_time": "2023-11-12T18:38:38.619Z"
   },
   {
    "duration": 4,
    "start_time": "2023-11-12T18:38:38.643Z"
   },
   {
    "duration": 679,
    "start_time": "2023-11-12T18:38:38.649Z"
   },
   {
    "duration": 602,
    "start_time": "2023-11-12T18:38:39.329Z"
   },
   {
    "duration": 565,
    "start_time": "2023-11-12T18:38:39.933Z"
   },
   {
    "duration": 626,
    "start_time": "2023-11-12T18:38:40.500Z"
   },
   {
    "duration": 7,
    "start_time": "2023-11-12T18:38:41.135Z"
   },
   {
    "duration": 640,
    "start_time": "2023-11-12T18:38:41.143Z"
   },
   {
    "duration": 2671,
    "start_time": "2023-11-12T18:38:41.785Z"
   },
   {
    "duration": 4,
    "start_time": "2023-11-12T18:38:44.458Z"
   },
   {
    "duration": 1671,
    "start_time": "2023-11-12T18:38:44.465Z"
   },
   {
    "duration": 24,
    "start_time": "2023-11-12T18:38:46.138Z"
   },
   {
    "duration": 15,
    "start_time": "2023-11-12T18:38:46.164Z"
   },
   {
    "duration": 44,
    "start_time": "2023-11-12T18:38:46.181Z"
   },
   {
    "duration": 8,
    "start_time": "2023-11-12T18:38:46.767Z"
   },
   {
    "duration": 7,
    "start_time": "2023-11-12T18:38:46.776Z"
   },
   {
    "duration": 261,
    "start_time": "2023-11-12T18:38:46.785Z"
   },
   {
    "duration": 628,
    "start_time": "2023-11-12T18:38:47.048Z"
   },
   {
    "duration": 543,
    "start_time": "2023-11-12T18:39:13.134Z"
   },
   {
    "duration": 25,
    "start_time": "2023-11-12T18:56:25.549Z"
   },
   {
    "duration": 33,
    "start_time": "2023-11-12T18:56:47.838Z"
   },
   {
    "duration": 10,
    "start_time": "2023-11-12T18:59:30.127Z"
   },
   {
    "duration": 5,
    "start_time": "2023-11-12T19:00:18.951Z"
   },
   {
    "duration": 14,
    "start_time": "2023-11-12T19:00:18.958Z"
   },
   {
    "duration": 82,
    "start_time": "2023-11-12T19:00:18.974Z"
   },
   {
    "duration": 8,
    "start_time": "2023-11-12T19:00:19.057Z"
   },
   {
    "duration": 16,
    "start_time": "2023-11-12T19:00:19.068Z"
   },
   {
    "duration": 7,
    "start_time": "2023-11-12T19:00:19.086Z"
   },
   {
    "duration": 51,
    "start_time": "2023-11-12T19:00:19.095Z"
   },
   {
    "duration": 17,
    "start_time": "2023-11-12T19:00:19.148Z"
   },
   {
    "duration": 8,
    "start_time": "2023-11-12T19:00:19.167Z"
   },
   {
    "duration": 8,
    "start_time": "2023-11-12T19:00:19.176Z"
   },
   {
    "duration": 57,
    "start_time": "2023-11-12T19:00:19.186Z"
   },
   {
    "duration": 14,
    "start_time": "2023-11-12T19:00:19.246Z"
   },
   {
    "duration": 32,
    "start_time": "2023-11-12T19:00:19.262Z"
   },
   {
    "duration": 30,
    "start_time": "2023-11-12T19:00:19.312Z"
   },
   {
    "duration": 10,
    "start_time": "2023-11-12T19:00:19.344Z"
   },
   {
    "duration": 13,
    "start_time": "2023-11-12T19:00:19.356Z"
   },
   {
    "duration": 6,
    "start_time": "2023-11-12T19:00:19.371Z"
   },
   {
    "duration": 53,
    "start_time": "2023-11-12T19:00:19.378Z"
   },
   {
    "duration": 6,
    "start_time": "2023-11-12T19:00:19.435Z"
   },
   {
    "duration": 717,
    "start_time": "2023-11-12T19:00:19.443Z"
   },
   {
    "duration": 766,
    "start_time": "2023-11-12T19:00:20.162Z"
   },
   {
    "duration": 560,
    "start_time": "2023-11-12T19:00:20.930Z"
   },
   {
    "duration": 676,
    "start_time": "2023-11-12T19:00:21.492Z"
   },
   {
    "duration": 7,
    "start_time": "2023-11-12T19:00:22.170Z"
   },
   {
    "duration": 709,
    "start_time": "2023-11-12T19:00:22.178Z"
   },
   {
    "duration": 2691,
    "start_time": "2023-11-12T19:00:22.889Z"
   },
   {
    "duration": 32,
    "start_time": "2023-11-12T19:00:25.582Z"
   },
   {
    "duration": 1658,
    "start_time": "2023-11-12T19:00:25.617Z"
   },
   {
    "duration": 44,
    "start_time": "2023-11-12T19:00:27.277Z"
   },
   {
    "duration": 16,
    "start_time": "2023-11-12T19:00:27.323Z"
   },
   {
    "duration": 10,
    "start_time": "2023-11-12T19:00:27.340Z"
   },
   {
    "duration": 584,
    "start_time": "2023-11-12T19:00:27.352Z"
   },
   {
    "duration": 9,
    "start_time": "2023-11-12T19:00:27.937Z"
   },
   {
    "duration": 15,
    "start_time": "2023-11-12T19:00:30.860Z"
   },
   {
    "duration": 5,
    "start_time": "2023-11-12T19:16:48.487Z"
   },
   {
    "duration": 5,
    "start_time": "2023-11-12T19:16:48.494Z"
   },
   {
    "duration": 70,
    "start_time": "2023-11-12T19:16:48.501Z"
   },
   {
    "duration": 6,
    "start_time": "2023-11-12T19:16:48.573Z"
   },
   {
    "duration": 18,
    "start_time": "2023-11-12T19:16:48.581Z"
   },
   {
    "duration": 19,
    "start_time": "2023-11-12T19:16:48.601Z"
   },
   {
    "duration": 154,
    "start_time": "2023-11-12T19:16:48.627Z"
   },
   {
    "duration": 36,
    "start_time": "2023-11-12T19:16:48.782Z"
   },
   {
    "duration": 14,
    "start_time": "2023-11-12T19:16:48.824Z"
   },
   {
    "duration": 17,
    "start_time": "2023-11-12T19:16:48.841Z"
   },
   {
    "duration": 20,
    "start_time": "2023-11-12T19:16:48.860Z"
   },
   {
    "duration": 16,
    "start_time": "2023-11-12T19:16:48.882Z"
   },
   {
    "duration": 39,
    "start_time": "2023-11-12T19:16:48.900Z"
   },
   {
    "duration": 15,
    "start_time": "2023-11-12T19:16:48.942Z"
   },
   {
    "duration": 16,
    "start_time": "2023-11-12T19:16:48.959Z"
   },
   {
    "duration": 43,
    "start_time": "2023-11-12T19:16:48.976Z"
   },
   {
    "duration": 11,
    "start_time": "2023-11-12T19:16:49.022Z"
   },
   {
    "duration": 34,
    "start_time": "2023-11-12T19:16:49.035Z"
   },
   {
    "duration": 5,
    "start_time": "2023-11-12T19:16:49.071Z"
   },
   {
    "duration": 696,
    "start_time": "2023-11-12T19:16:49.078Z"
   },
   {
    "duration": 590,
    "start_time": "2023-11-12T19:16:49.776Z"
   },
   {
    "duration": 467,
    "start_time": "2023-11-12T19:16:50.368Z"
   },
   {
    "duration": 736,
    "start_time": "2023-11-12T19:16:50.837Z"
   },
   {
    "duration": 8,
    "start_time": "2023-11-12T19:16:51.575Z"
   },
   {
    "duration": 614,
    "start_time": "2023-11-12T19:16:51.585Z"
   },
   {
    "duration": 2475,
    "start_time": "2023-11-12T19:16:52.201Z"
   },
   {
    "duration": 4,
    "start_time": "2023-11-12T19:16:54.678Z"
   },
   {
    "duration": 1807,
    "start_time": "2023-11-12T19:16:54.716Z"
   },
   {
    "duration": 25,
    "start_time": "2023-11-12T19:16:56.528Z"
   },
   {
    "duration": 21,
    "start_time": "2023-11-12T19:16:56.555Z"
   },
   {
    "duration": 10,
    "start_time": "2023-11-12T19:16:56.578Z"
   },
   {
    "duration": 574,
    "start_time": "2023-11-12T19:16:56.589Z"
   },
   {
    "duration": 9,
    "start_time": "2023-11-12T19:16:57.165Z"
   },
   {
    "duration": 18,
    "start_time": "2023-11-12T19:17:02.391Z"
   },
   {
    "duration": 549,
    "start_time": "2023-11-12T19:18:51.754Z"
   },
   {
    "duration": 514,
    "start_time": "2023-11-12T19:20:12.920Z"
   },
   {
    "duration": 689,
    "start_time": "2023-11-12T19:20:42.665Z"
   },
   {
    "duration": 78,
    "start_time": "2023-11-12T19:21:51.760Z"
   },
   {
    "duration": 12,
    "start_time": "2023-11-12T19:23:52.864Z"
   },
   {
    "duration": 16,
    "start_time": "2023-11-12T19:24:36.159Z"
   },
   {
    "duration": 28,
    "start_time": "2023-11-12T19:38:36.679Z"
   },
   {
    "duration": 15,
    "start_time": "2023-11-12T19:38:45.668Z"
   },
   {
    "duration": 4,
    "start_time": "2023-11-12T19:38:58.177Z"
   },
   {
    "duration": 5,
    "start_time": "2023-11-12T19:38:58.183Z"
   },
   {
    "duration": 65,
    "start_time": "2023-11-12T19:38:58.189Z"
   },
   {
    "duration": 6,
    "start_time": "2023-11-12T19:38:58.256Z"
   },
   {
    "duration": 11,
    "start_time": "2023-11-12T19:38:58.264Z"
   },
   {
    "duration": 7,
    "start_time": "2023-11-12T19:38:58.277Z"
   },
   {
    "duration": 40,
    "start_time": "2023-11-12T19:38:58.285Z"
   },
   {
    "duration": 18,
    "start_time": "2023-11-12T19:38:58.328Z"
   },
   {
    "duration": 8,
    "start_time": "2023-11-12T19:38:58.349Z"
   },
   {
    "duration": 9,
    "start_time": "2023-11-12T19:38:58.359Z"
   },
   {
    "duration": 54,
    "start_time": "2023-11-12T19:38:58.369Z"
   },
   {
    "duration": 12,
    "start_time": "2023-11-12T19:38:58.425Z"
   },
   {
    "duration": 24,
    "start_time": "2023-11-12T19:38:58.438Z"
   },
   {
    "duration": 17,
    "start_time": "2023-11-12T19:38:58.463Z"
   },
   {
    "duration": 38,
    "start_time": "2023-11-12T19:38:58.482Z"
   },
   {
    "duration": 14,
    "start_time": "2023-11-12T19:38:58.522Z"
   },
   {
    "duration": 6,
    "start_time": "2023-11-12T19:38:58.538Z"
   },
   {
    "duration": 26,
    "start_time": "2023-11-12T19:38:58.546Z"
   },
   {
    "duration": 41,
    "start_time": "2023-11-12T19:38:58.573Z"
   },
   {
    "duration": 633,
    "start_time": "2023-11-12T19:38:58.616Z"
   },
   {
    "duration": 575,
    "start_time": "2023-11-12T19:38:59.250Z"
   },
   {
    "duration": 456,
    "start_time": "2023-11-12T19:38:59.827Z"
   },
   {
    "duration": 740,
    "start_time": "2023-11-12T19:39:00.285Z"
   },
   {
    "duration": 7,
    "start_time": "2023-11-12T19:39:01.029Z"
   },
   {
    "duration": 599,
    "start_time": "2023-11-12T19:39:01.038Z"
   },
   {
    "duration": 2327,
    "start_time": "2023-11-12T19:39:01.638Z"
   },
   {
    "duration": 4,
    "start_time": "2023-11-12T19:39:03.967Z"
   },
   {
    "duration": 1746,
    "start_time": "2023-11-12T19:39:03.972Z"
   },
   {
    "duration": 24,
    "start_time": "2023-11-12T19:39:05.720Z"
   },
   {
    "duration": 14,
    "start_time": "2023-11-12T19:39:05.746Z"
   },
   {
    "duration": 10,
    "start_time": "2023-11-12T19:39:05.762Z"
   },
   {
    "duration": 556,
    "start_time": "2023-11-12T19:39:05.774Z"
   },
   {
    "duration": 18,
    "start_time": "2023-11-12T19:39:06.332Z"
   },
   {
    "duration": 15,
    "start_time": "2023-11-12T19:39:06.352Z"
   },
   {
    "duration": 36,
    "start_time": "2023-11-12T19:39:06.368Z"
   },
   {
    "duration": 13,
    "start_time": "2023-11-12T19:39:10.295Z"
   },
   {
    "duration": 14,
    "start_time": "2023-11-12T19:40:37.658Z"
   },
   {
    "duration": 6,
    "start_time": "2023-11-12T19:40:46.076Z"
   },
   {
    "duration": 6,
    "start_time": "2023-11-12T19:44:24.129Z"
   },
   {
    "duration": 11,
    "start_time": "2023-11-12T19:46:46.565Z"
   },
   {
    "duration": 24,
    "start_time": "2023-11-12T19:46:56.934Z"
   },
   {
    "duration": 6,
    "start_time": "2023-11-12T19:48:19.038Z"
   },
   {
    "duration": 6,
    "start_time": "2023-11-12T19:50:00.807Z"
   },
   {
    "duration": 368,
    "start_time": "2023-11-12T19:55:17.519Z"
   },
   {
    "duration": 459,
    "start_time": "2023-11-12T19:56:00.528Z"
   },
   {
    "duration": 10,
    "start_time": "2023-11-12T19:59:04.932Z"
   },
   {
    "duration": 8,
    "start_time": "2023-11-12T20:00:18.301Z"
   },
   {
    "duration": 11,
    "start_time": "2023-11-12T20:06:05.845Z"
   },
   {
    "duration": 6,
    "start_time": "2023-11-12T20:07:12.763Z"
   },
   {
    "duration": 8,
    "start_time": "2023-11-12T20:07:15.278Z"
   },
   {
    "duration": 407,
    "start_time": "2023-11-12T20:07:19.878Z"
   },
   {
    "duration": 9,
    "start_time": "2023-11-12T20:07:48.520Z"
   },
   {
    "duration": 6,
    "start_time": "2023-11-12T20:07:51.309Z"
   },
   {
    "duration": 600,
    "start_time": "2023-11-12T20:07:54.835Z"
   },
   {
    "duration": 13,
    "start_time": "2023-11-12T20:19:12.823Z"
   },
   {
    "duration": 11,
    "start_time": "2023-11-12T20:20:05.710Z"
   },
   {
    "duration": 11,
    "start_time": "2023-11-12T20:21:16.243Z"
   },
   {
    "duration": 11,
    "start_time": "2023-11-12T20:22:00.475Z"
   },
   {
    "duration": 41,
    "start_time": "2023-11-13T12:28:04.881Z"
   },
   {
    "duration": 0,
    "start_time": "2023-11-13T12:28:04.925Z"
   },
   {
    "duration": 0,
    "start_time": "2023-11-13T12:28:04.926Z"
   },
   {
    "duration": 0,
    "start_time": "2023-11-13T12:28:04.928Z"
   },
   {
    "duration": 0,
    "start_time": "2023-11-13T12:28:04.929Z"
   },
   {
    "duration": 0,
    "start_time": "2023-11-13T12:28:04.931Z"
   },
   {
    "duration": 0,
    "start_time": "2023-11-13T12:28:04.932Z"
   },
   {
    "duration": 0,
    "start_time": "2023-11-13T12:28:04.933Z"
   },
   {
    "duration": 0,
    "start_time": "2023-11-13T12:28:04.934Z"
   },
   {
    "duration": 0,
    "start_time": "2023-11-13T12:28:04.935Z"
   },
   {
    "duration": 0,
    "start_time": "2023-11-13T12:28:04.936Z"
   },
   {
    "duration": 0,
    "start_time": "2023-11-13T12:28:04.938Z"
   },
   {
    "duration": 0,
    "start_time": "2023-11-13T12:28:04.966Z"
   },
   {
    "duration": 0,
    "start_time": "2023-11-13T12:28:04.966Z"
   },
   {
    "duration": 0,
    "start_time": "2023-11-13T12:28:04.967Z"
   },
   {
    "duration": 0,
    "start_time": "2023-11-13T12:28:04.969Z"
   },
   {
    "duration": 0,
    "start_time": "2023-11-13T12:28:04.970Z"
   },
   {
    "duration": 0,
    "start_time": "2023-11-13T12:28:04.971Z"
   },
   {
    "duration": 0,
    "start_time": "2023-11-13T12:28:04.972Z"
   },
   {
    "duration": 0,
    "start_time": "2023-11-13T12:28:04.973Z"
   },
   {
    "duration": 0,
    "start_time": "2023-11-13T12:28:04.974Z"
   },
   {
    "duration": 0,
    "start_time": "2023-11-13T12:28:04.975Z"
   },
   {
    "duration": 0,
    "start_time": "2023-11-13T12:28:04.976Z"
   },
   {
    "duration": 0,
    "start_time": "2023-11-13T12:28:04.978Z"
   },
   {
    "duration": 0,
    "start_time": "2023-11-13T12:28:04.979Z"
   },
   {
    "duration": 0,
    "start_time": "2023-11-13T12:28:04.980Z"
   },
   {
    "duration": 0,
    "start_time": "2023-11-13T12:28:04.981Z"
   },
   {
    "duration": 0,
    "start_time": "2023-11-13T12:28:04.982Z"
   },
   {
    "duration": 0,
    "start_time": "2023-11-13T12:28:04.983Z"
   },
   {
    "duration": 0,
    "start_time": "2023-11-13T12:28:04.984Z"
   },
   {
    "duration": 0,
    "start_time": "2023-11-13T12:28:04.984Z"
   },
   {
    "duration": 0,
    "start_time": "2023-11-13T12:28:04.985Z"
   },
   {
    "duration": 0,
    "start_time": "2023-11-13T12:28:04.986Z"
   },
   {
    "duration": 0,
    "start_time": "2023-11-13T12:28:04.987Z"
   },
   {
    "duration": 0,
    "start_time": "2023-11-13T12:28:04.988Z"
   },
   {
    "duration": 0,
    "start_time": "2023-11-13T12:28:04.989Z"
   },
   {
    "duration": 0,
    "start_time": "2023-11-13T12:28:04.990Z"
   },
   {
    "duration": 200,
    "start_time": "2023-11-13T12:28:08.539Z"
   },
   {
    "duration": 8,
    "start_time": "2023-11-13T12:28:43.388Z"
   },
   {
    "duration": 8,
    "start_time": "2023-11-13T12:29:00.829Z"
   },
   {
    "duration": 13,
    "start_time": "2023-11-13T12:29:13.960Z"
   },
   {
    "duration": 0,
    "start_time": "2023-11-13T12:29:13.976Z"
   },
   {
    "duration": 0,
    "start_time": "2023-11-13T12:29:13.977Z"
   },
   {
    "duration": 0,
    "start_time": "2023-11-13T12:29:13.978Z"
   },
   {
    "duration": 0,
    "start_time": "2023-11-13T12:29:13.979Z"
   },
   {
    "duration": 0,
    "start_time": "2023-11-13T12:29:13.980Z"
   },
   {
    "duration": 0,
    "start_time": "2023-11-13T12:29:13.981Z"
   },
   {
    "duration": 0,
    "start_time": "2023-11-13T12:29:13.983Z"
   },
   {
    "duration": 0,
    "start_time": "2023-11-13T12:29:13.984Z"
   },
   {
    "duration": 0,
    "start_time": "2023-11-13T12:29:13.985Z"
   },
   {
    "duration": 0,
    "start_time": "2023-11-13T12:29:13.986Z"
   },
   {
    "duration": 0,
    "start_time": "2023-11-13T12:29:13.987Z"
   },
   {
    "duration": 0,
    "start_time": "2023-11-13T12:29:13.988Z"
   },
   {
    "duration": 0,
    "start_time": "2023-11-13T12:29:13.989Z"
   },
   {
    "duration": 0,
    "start_time": "2023-11-13T12:29:13.990Z"
   },
   {
    "duration": 0,
    "start_time": "2023-11-13T12:29:13.991Z"
   },
   {
    "duration": 0,
    "start_time": "2023-11-13T12:29:13.992Z"
   },
   {
    "duration": 8,
    "start_time": "2023-11-13T12:29:13.996Z"
   },
   {
    "duration": 0,
    "start_time": "2023-11-13T12:29:14.006Z"
   },
   {
    "duration": 0,
    "start_time": "2023-11-13T12:29:14.007Z"
   },
   {
    "duration": 0,
    "start_time": "2023-11-13T12:29:14.008Z"
   },
   {
    "duration": 0,
    "start_time": "2023-11-13T12:29:14.010Z"
   },
   {
    "duration": 0,
    "start_time": "2023-11-13T12:29:14.066Z"
   },
   {
    "duration": 0,
    "start_time": "2023-11-13T12:29:14.068Z"
   },
   {
    "duration": 0,
    "start_time": "2023-11-13T12:29:14.069Z"
   },
   {
    "duration": 0,
    "start_time": "2023-11-13T12:29:14.070Z"
   },
   {
    "duration": 0,
    "start_time": "2023-11-13T12:29:14.072Z"
   },
   {
    "duration": 0,
    "start_time": "2023-11-13T12:29:14.073Z"
   },
   {
    "duration": 0,
    "start_time": "2023-11-13T12:29:14.075Z"
   },
   {
    "duration": 0,
    "start_time": "2023-11-13T12:29:14.076Z"
   },
   {
    "duration": 0,
    "start_time": "2023-11-13T12:29:14.078Z"
   },
   {
    "duration": 0,
    "start_time": "2023-11-13T12:29:14.079Z"
   },
   {
    "duration": 0,
    "start_time": "2023-11-13T12:29:14.080Z"
   },
   {
    "duration": 0,
    "start_time": "2023-11-13T12:29:14.081Z"
   },
   {
    "duration": 0,
    "start_time": "2023-11-13T12:29:14.082Z"
   },
   {
    "duration": 0,
    "start_time": "2023-11-13T12:29:14.083Z"
   },
   {
    "duration": 0,
    "start_time": "2023-11-13T12:29:14.084Z"
   },
   {
    "duration": 12,
    "start_time": "2023-11-13T12:29:16.684Z"
   },
   {
    "duration": 8,
    "start_time": "2023-11-13T12:29:49.636Z"
   },
   {
    "duration": 8,
    "start_time": "2023-11-13T12:30:02.364Z"
   },
   {
    "duration": 1367,
    "start_time": "2023-11-13T12:30:12.411Z"
   },
   {
    "duration": 3,
    "start_time": "2023-11-13T12:30:13.780Z"
   },
   {
    "duration": 176,
    "start_time": "2023-11-13T12:30:13.786Z"
   },
   {
    "duration": 6,
    "start_time": "2023-11-13T12:30:13.963Z"
   },
   {
    "duration": 17,
    "start_time": "2023-11-13T12:30:13.971Z"
   },
   {
    "duration": 6,
    "start_time": "2023-11-13T12:30:13.990Z"
   },
   {
    "duration": 21,
    "start_time": "2023-11-13T12:30:13.998Z"
   },
   {
    "duration": 45,
    "start_time": "2023-11-13T12:30:14.020Z"
   },
   {
    "duration": 9,
    "start_time": "2023-11-13T12:30:14.068Z"
   },
   {
    "duration": 8,
    "start_time": "2023-11-13T12:30:14.079Z"
   },
   {
    "duration": 43,
    "start_time": "2023-11-13T12:30:14.088Z"
   },
   {
    "duration": 12,
    "start_time": "2023-11-13T12:30:14.132Z"
   },
   {
    "duration": 36,
    "start_time": "2023-11-13T12:30:14.146Z"
   },
   {
    "duration": 13,
    "start_time": "2023-11-13T12:30:14.183Z"
   },
   {
    "duration": 8,
    "start_time": "2023-11-13T12:30:14.198Z"
   },
   {
    "duration": 25,
    "start_time": "2023-11-13T12:30:14.207Z"
   },
   {
    "duration": 5,
    "start_time": "2023-11-13T12:30:14.234Z"
   },
   {
    "duration": 21,
    "start_time": "2023-11-13T12:30:14.265Z"
   },
   {
    "duration": 15,
    "start_time": "2023-11-13T12:30:14.287Z"
   },
   {
    "duration": 605,
    "start_time": "2023-11-13T12:30:14.303Z"
   },
   {
    "duration": 526,
    "start_time": "2023-11-13T12:30:14.910Z"
   },
   {
    "duration": 531,
    "start_time": "2023-11-13T12:30:15.438Z"
   },
   {
    "duration": 543,
    "start_time": "2023-11-13T12:30:15.972Z"
   },
   {
    "duration": 6,
    "start_time": "2023-11-13T12:30:16.517Z"
   },
   {
    "duration": 549,
    "start_time": "2023-11-13T12:30:16.525Z"
   },
   {
    "duration": 2343,
    "start_time": "2023-11-13T12:30:17.076Z"
   },
   {
    "duration": 5,
    "start_time": "2023-11-13T12:30:19.423Z"
   },
   {
    "duration": 1550,
    "start_time": "2023-11-13T12:30:19.429Z"
   },
   {
    "duration": 24,
    "start_time": "2023-11-13T12:30:20.980Z"
   },
   {
    "duration": 13,
    "start_time": "2023-11-13T12:30:21.005Z"
   },
   {
    "duration": 9,
    "start_time": "2023-11-13T12:30:21.019Z"
   },
   {
    "duration": 524,
    "start_time": "2023-11-13T12:30:21.030Z"
   },
   {
    "duration": 26,
    "start_time": "2023-11-13T12:30:21.556Z"
   },
   {
    "duration": 21,
    "start_time": "2023-11-13T12:30:21.583Z"
   },
   {
    "duration": 9,
    "start_time": "2023-11-13T12:30:21.605Z"
   },
   {
    "duration": 10,
    "start_time": "2023-11-13T12:30:21.615Z"
   },
   {
    "duration": 11,
    "start_time": "2023-11-13T12:30:21.627Z"
   },
   {
    "duration": 531,
    "start_time": "2023-11-13T12:30:21.640Z"
   },
   {
    "duration": 390,
    "start_time": "2023-11-13T12:30:22.173Z"
   },
   {
    "duration": 11,
    "start_time": "2023-11-13T12:30:22.565Z"
   },
   {
    "duration": 71,
    "start_time": "2023-11-13T12:30:22.578Z"
   },
   {
    "duration": 292,
    "start_time": "2023-11-13T12:30:22.650Z"
   },
   {
    "duration": 534,
    "start_time": "2023-11-13T12:30:29.701Z"
   },
   {
    "duration": 517,
    "start_time": "2023-11-13T12:30:39.580Z"
   },
   {
    "duration": 507,
    "start_time": "2023-11-13T12:31:09.444Z"
   },
   {
    "duration": 526,
    "start_time": "2023-11-13T12:31:58.684Z"
   },
   {
    "duration": 693,
    "start_time": "2023-11-13T12:33:29.372Z"
   },
   {
    "duration": 569,
    "start_time": "2023-11-13T12:41:38.453Z"
   },
   {
    "duration": 734,
    "start_time": "2023-11-13T12:43:47.771Z"
   },
   {
    "duration": 572,
    "start_time": "2023-11-13T12:44:34.645Z"
   },
   {
    "duration": 590,
    "start_time": "2023-11-13T12:44:45.188Z"
   },
   {
    "duration": 571,
    "start_time": "2023-11-13T12:44:48.278Z"
   },
   {
    "duration": 560,
    "start_time": "2023-11-13T12:44:52.131Z"
   },
   {
    "duration": 562,
    "start_time": "2023-11-13T12:44:54.734Z"
   },
   {
    "duration": 553,
    "start_time": "2023-11-13T12:44:57.299Z"
   },
   {
    "duration": 727,
    "start_time": "2023-11-13T12:46:23.907Z"
   },
   {
    "duration": 913,
    "start_time": "2023-11-13T12:46:55.628Z"
   },
   {
    "duration": 737,
    "start_time": "2023-11-13T12:47:03.260Z"
   },
   {
    "duration": 811,
    "start_time": "2023-11-13T12:47:06.715Z"
   },
   {
    "duration": 713,
    "start_time": "2023-11-13T12:47:27.403Z"
   },
   {
    "duration": 13,
    "start_time": "2023-11-13T12:52:05.355Z"
   },
   {
    "duration": 9,
    "start_time": "2023-11-13T12:53:09.938Z"
   },
   {
    "duration": 9,
    "start_time": "2023-11-13T12:53:17.538Z"
   },
   {
    "duration": 9,
    "start_time": "2023-11-13T12:53:20.378Z"
   },
   {
    "duration": 10,
    "start_time": "2023-11-13T12:55:18.770Z"
   },
   {
    "duration": 9,
    "start_time": "2023-11-13T12:55:42.666Z"
   },
   {
    "duration": 9,
    "start_time": "2023-11-13T12:55:48.602Z"
   },
   {
    "duration": 10,
    "start_time": "2023-11-13T12:55:54.858Z"
   },
   {
    "duration": 9,
    "start_time": "2023-11-13T12:56:07.242Z"
   },
   {
    "duration": 9,
    "start_time": "2023-11-13T12:56:11.603Z"
   },
   {
    "duration": 9,
    "start_time": "2023-11-13T12:56:13.898Z"
   },
   {
    "duration": 9,
    "start_time": "2023-11-13T12:56:16.274Z"
   },
   {
    "duration": 11,
    "start_time": "2023-11-13T12:56:18.659Z"
   },
   {
    "duration": 10,
    "start_time": "2023-11-13T12:56:20.618Z"
   },
   {
    "duration": 9,
    "start_time": "2023-11-13T12:56:22.674Z"
   },
   {
    "duration": 3,
    "start_time": "2023-11-13T12:56:26.373Z"
   },
   {
    "duration": 33,
    "start_time": "2023-11-13T12:56:26.379Z"
   },
   {
    "duration": 85,
    "start_time": "2023-11-13T12:56:26.413Z"
   },
   {
    "duration": 21,
    "start_time": "2023-11-13T12:56:26.500Z"
   },
   {
    "duration": 42,
    "start_time": "2023-11-13T12:56:26.523Z"
   },
   {
    "duration": 35,
    "start_time": "2023-11-13T12:56:26.567Z"
   },
   {
    "duration": 50,
    "start_time": "2023-11-13T12:56:26.603Z"
   },
   {
    "duration": 29,
    "start_time": "2023-11-13T12:56:26.654Z"
   },
   {
    "duration": 35,
    "start_time": "2023-11-13T12:56:26.685Z"
   },
   {
    "duration": 38,
    "start_time": "2023-11-13T12:56:26.721Z"
   },
   {
    "duration": 67,
    "start_time": "2023-11-13T12:56:26.761Z"
   },
   {
    "duration": 47,
    "start_time": "2023-11-13T12:56:26.830Z"
   },
   {
    "duration": 64,
    "start_time": "2023-11-13T12:56:26.880Z"
   },
   {
    "duration": 64,
    "start_time": "2023-11-13T12:56:26.945Z"
   },
   {
    "duration": 29,
    "start_time": "2023-11-13T12:56:27.011Z"
   },
   {
    "duration": 57,
    "start_time": "2023-11-13T12:56:27.041Z"
   },
   {
    "duration": 52,
    "start_time": "2023-11-13T12:56:27.100Z"
   },
   {
    "duration": 68,
    "start_time": "2023-11-13T12:56:27.154Z"
   },
   {
    "duration": 45,
    "start_time": "2023-11-13T12:56:27.224Z"
   },
   {
    "duration": 675,
    "start_time": "2023-11-13T12:56:27.271Z"
   },
   {
    "duration": 503,
    "start_time": "2023-11-13T12:56:27.948Z"
   },
   {
    "duration": 412,
    "start_time": "2023-11-13T12:56:28.453Z"
   },
   {
    "duration": 575,
    "start_time": "2023-11-13T12:56:28.867Z"
   },
   {
    "duration": 6,
    "start_time": "2023-11-13T12:56:29.444Z"
   },
   {
    "duration": 582,
    "start_time": "2023-11-13T12:56:29.451Z"
   },
   {
    "duration": 2367,
    "start_time": "2023-11-13T12:56:30.035Z"
   },
   {
    "duration": 4,
    "start_time": "2023-11-13T12:56:32.403Z"
   },
   {
    "duration": 1544,
    "start_time": "2023-11-13T12:56:32.409Z"
   },
   {
    "duration": 22,
    "start_time": "2023-11-13T12:56:33.955Z"
   },
   {
    "duration": 13,
    "start_time": "2023-11-13T12:56:33.978Z"
   },
   {
    "duration": 12,
    "start_time": "2023-11-13T12:56:33.992Z"
   },
   {
    "duration": 507,
    "start_time": "2023-11-13T12:56:34.005Z"
   },
   {
    "duration": 16,
    "start_time": "2023-11-13T12:56:34.514Z"
   },
   {
    "duration": 16,
    "start_time": "2023-11-13T12:56:34.531Z"
   },
   {
    "duration": 22,
    "start_time": "2023-11-13T12:56:34.548Z"
   },
   {
    "duration": 11,
    "start_time": "2023-11-13T12:56:34.571Z"
   },
   {
    "duration": 17,
    "start_time": "2023-11-13T12:56:34.585Z"
   },
   {
    "duration": 398,
    "start_time": "2023-11-13T12:56:34.603Z"
   },
   {
    "duration": 548,
    "start_time": "2023-11-13T12:56:35.003Z"
   },
   {
    "duration": 755,
    "start_time": "2023-11-13T12:56:35.552Z"
   },
   {
    "duration": 9,
    "start_time": "2023-11-13T12:56:40.082Z"
   },
   {
    "duration": 10,
    "start_time": "2023-11-13T12:57:42.162Z"
   },
   {
    "duration": 6,
    "start_time": "2023-11-13T12:59:16.699Z"
   },
   {
    "duration": 7,
    "start_time": "2023-11-13T12:59:29.235Z"
   },
   {
    "duration": 5,
    "start_time": "2023-11-13T12:59:44.732Z"
   },
   {
    "duration": 5,
    "start_time": "2023-11-13T13:00:03.035Z"
   },
   {
    "duration": 5,
    "start_time": "2023-11-13T13:00:07.713Z"
   },
   {
    "duration": 6,
    "start_time": "2023-11-13T13:00:41.873Z"
   },
   {
    "duration": 5,
    "start_time": "2023-11-13T13:01:00.033Z"
   },
   {
    "duration": 7,
    "start_time": "2023-11-13T13:25:57.028Z"
   },
   {
    "duration": 8,
    "start_time": "2023-11-13T13:31:27.250Z"
   },
   {
    "duration": 133,
    "start_time": "2023-11-13T13:33:30.547Z"
   },
   {
    "duration": 135,
    "start_time": "2023-11-13T13:33:53.283Z"
   },
   {
    "duration": 1833,
    "start_time": "2023-11-13T13:34:07.523Z"
   },
   {
    "duration": 1800,
    "start_time": "2023-11-13T13:34:16.796Z"
   },
   {
    "duration": 1412,
    "start_time": "2023-11-13T13:34:24.347Z"
   },
   {
    "duration": 7,
    "start_time": "2023-11-13T13:34:49.123Z"
   },
   {
    "duration": 7,
    "start_time": "2023-11-13T13:35:19.642Z"
   },
   {
    "duration": 3,
    "start_time": "2023-11-13T13:35:34.042Z"
   },
   {
    "duration": 6,
    "start_time": "2023-11-13T13:35:39.467Z"
   },
   {
    "duration": 7,
    "start_time": "2023-11-13T13:36:45.899Z"
   },
   {
    "duration": 88,
    "start_time": "2023-11-13T13:37:39.377Z"
   },
   {
    "duration": 91,
    "start_time": "2023-11-13T13:37:49.953Z"
   },
   {
    "duration": 7,
    "start_time": "2023-11-13T13:37:58.082Z"
   },
   {
    "duration": 7,
    "start_time": "2023-11-13T13:38:21.690Z"
   },
   {
    "duration": 49,
    "start_time": "2023-11-13T13:42:00.386Z"
   },
   {
    "duration": 7,
    "start_time": "2023-11-13T13:42:00.437Z"
   },
   {
    "duration": 44,
    "start_time": "2023-11-13T13:43:12.470Z"
   },
   {
    "duration": 48,
    "start_time": "2023-11-13T13:45:01.952Z"
   },
   {
    "duration": 54,
    "start_time": "2023-11-13T13:45:31.616Z"
   },
   {
    "duration": 47,
    "start_time": "2023-11-13T13:46:38.456Z"
   },
   {
    "duration": 70,
    "start_time": "2023-11-13T13:47:17.800Z"
   },
   {
    "duration": 10,
    "start_time": "2023-11-13T13:49:13.335Z"
   },
   {
    "duration": 32,
    "start_time": "2023-11-13T13:49:22.578Z"
   },
   {
    "duration": 23,
    "start_time": "2023-11-13T13:50:00.839Z"
   },
   {
    "duration": 23,
    "start_time": "2023-11-13T13:50:53.695Z"
   },
   {
    "duration": 24,
    "start_time": "2023-11-13T13:51:19.759Z"
   },
   {
    "duration": 144,
    "start_time": "2023-11-13T13:51:56.367Z"
   },
   {
    "duration": 22,
    "start_time": "2023-11-13T13:52:08.118Z"
   },
   {
    "duration": 50,
    "start_time": "2023-11-13T13:53:45.879Z"
   },
   {
    "duration": 22,
    "start_time": "2023-11-13T14:01:36.144Z"
   },
   {
    "duration": 21,
    "start_time": "2023-11-13T14:02:58.754Z"
   },
   {
    "duration": 23,
    "start_time": "2023-11-13T14:03:42.188Z"
   },
   {
    "duration": 23,
    "start_time": "2023-11-13T14:04:14.764Z"
   },
   {
    "duration": 20,
    "start_time": "2023-11-13T14:04:54.565Z"
   },
   {
    "duration": 4,
    "start_time": "2023-11-13T14:05:13.383Z"
   },
   {
    "duration": 10,
    "start_time": "2023-11-13T14:05:13.389Z"
   },
   {
    "duration": 65,
    "start_time": "2023-11-13T14:05:13.401Z"
   },
   {
    "duration": 6,
    "start_time": "2023-11-13T14:05:13.467Z"
   },
   {
    "duration": 25,
    "start_time": "2023-11-13T14:05:13.475Z"
   },
   {
    "duration": 10,
    "start_time": "2023-11-13T14:05:13.502Z"
   },
   {
    "duration": 34,
    "start_time": "2023-11-13T14:05:13.514Z"
   },
   {
    "duration": 17,
    "start_time": "2023-11-13T14:05:13.549Z"
   },
   {
    "duration": 9,
    "start_time": "2023-11-13T14:05:13.569Z"
   },
   {
    "duration": 8,
    "start_time": "2023-11-13T14:05:13.579Z"
   },
   {
    "duration": 15,
    "start_time": "2023-11-13T14:05:13.589Z"
   },
   {
    "duration": 12,
    "start_time": "2023-11-13T14:05:13.605Z"
   },
   {
    "duration": 59,
    "start_time": "2023-11-13T14:05:13.619Z"
   },
   {
    "duration": 13,
    "start_time": "2023-11-13T14:05:13.680Z"
   },
   {
    "duration": 9,
    "start_time": "2023-11-13T14:05:13.695Z"
   },
   {
    "duration": 31,
    "start_time": "2023-11-13T14:05:13.705Z"
   },
   {
    "duration": 6,
    "start_time": "2023-11-13T14:05:13.737Z"
   },
   {
    "duration": 43,
    "start_time": "2023-11-13T14:05:13.745Z"
   },
   {
    "duration": 4,
    "start_time": "2023-11-13T14:05:13.790Z"
   },
   {
    "duration": 712,
    "start_time": "2023-11-13T14:05:13.795Z"
   },
   {
    "duration": 549,
    "start_time": "2023-11-13T14:05:14.509Z"
   },
   {
    "duration": 448,
    "start_time": "2023-11-13T14:05:15.059Z"
   },
   {
    "duration": 706,
    "start_time": "2023-11-13T14:05:15.509Z"
   },
   {
    "duration": 6,
    "start_time": "2023-11-13T14:05:16.218Z"
   },
   {
    "duration": 572,
    "start_time": "2023-11-13T14:05:16.226Z"
   },
   {
    "duration": 2374,
    "start_time": "2023-11-13T14:05:16.799Z"
   },
   {
    "duration": 4,
    "start_time": "2023-11-13T14:05:19.174Z"
   },
   {
    "duration": 1771,
    "start_time": "2023-11-13T14:05:19.180Z"
   },
   {
    "duration": 39,
    "start_time": "2023-11-13T14:05:20.952Z"
   },
   {
    "duration": 38,
    "start_time": "2023-11-13T14:05:20.993Z"
   },
   {
    "duration": 38,
    "start_time": "2023-11-13T14:05:21.033Z"
   },
   {
    "duration": 576,
    "start_time": "2023-11-13T14:05:21.072Z"
   },
   {
    "duration": 26,
    "start_time": "2023-11-13T14:05:21.650Z"
   },
   {
    "duration": 20,
    "start_time": "2023-11-13T14:05:21.678Z"
   },
   {
    "duration": 33,
    "start_time": "2023-11-13T14:05:21.700Z"
   },
   {
    "duration": 37,
    "start_time": "2023-11-13T14:05:21.735Z"
   },
   {
    "duration": 43,
    "start_time": "2023-11-13T14:05:21.774Z"
   },
   {
    "duration": 455,
    "start_time": "2023-11-13T14:05:21.819Z"
   },
   {
    "duration": 593,
    "start_time": "2023-11-13T14:05:22.276Z"
   },
   {
    "duration": 754,
    "start_time": "2023-11-13T14:05:22.870Z"
   },
   {
    "duration": 9,
    "start_time": "2023-11-13T14:05:23.626Z"
   },
   {
    "duration": 5,
    "start_time": "2023-11-13T14:05:23.637Z"
   },
   {
    "duration": 23,
    "start_time": "2023-11-13T14:05:23.644Z"
   },
   {
    "duration": 45,
    "start_time": "2023-11-13T14:05:23.669Z"
   },
   {
    "duration": 21,
    "start_time": "2023-11-13T14:06:11.877Z"
   },
   {
    "duration": 22,
    "start_time": "2023-11-13T14:06:34.573Z"
   },
   {
    "duration": 24,
    "start_time": "2023-11-13T14:06:46.900Z"
   },
   {
    "duration": 47,
    "start_time": "2023-11-13T17:09:15.571Z"
   },
   {
    "duration": 1429,
    "start_time": "2023-11-13T17:09:21.777Z"
   },
   {
    "duration": 3,
    "start_time": "2023-11-13T17:09:23.208Z"
   },
   {
    "duration": 130,
    "start_time": "2023-11-13T17:09:23.212Z"
   },
   {
    "duration": 8,
    "start_time": "2023-11-13T17:09:23.344Z"
   },
   {
    "duration": 16,
    "start_time": "2023-11-13T17:09:23.355Z"
   },
   {
    "duration": 5,
    "start_time": "2023-11-13T17:09:23.373Z"
   },
   {
    "duration": 21,
    "start_time": "2023-11-13T17:09:23.379Z"
   },
   {
    "duration": 43,
    "start_time": "2023-11-13T17:09:23.402Z"
   },
   {
    "duration": 9,
    "start_time": "2023-11-13T17:09:23.447Z"
   },
   {
    "duration": 33,
    "start_time": "2023-11-13T17:09:23.457Z"
   },
   {
    "duration": 28,
    "start_time": "2023-11-13T17:09:23.491Z"
   },
   {
    "duration": 24,
    "start_time": "2023-11-13T17:09:23.520Z"
   },
   {
    "duration": 35,
    "start_time": "2023-11-13T17:09:23.546Z"
   },
   {
    "duration": 32,
    "start_time": "2023-11-13T17:09:23.584Z"
   },
   {
    "duration": 24,
    "start_time": "2023-11-13T17:09:23.618Z"
   },
   {
    "duration": 26,
    "start_time": "2023-11-13T17:09:23.644Z"
   },
   {
    "duration": 16,
    "start_time": "2023-11-13T17:09:23.672Z"
   },
   {
    "duration": 25,
    "start_time": "2023-11-13T17:09:23.689Z"
   },
   {
    "duration": 4,
    "start_time": "2023-11-13T17:09:23.716Z"
   },
   {
    "duration": 629,
    "start_time": "2023-11-13T17:09:23.721Z"
   },
   {
    "duration": 572,
    "start_time": "2023-11-13T17:09:24.352Z"
   },
   {
    "duration": 532,
    "start_time": "2023-11-13T17:09:24.925Z"
   },
   {
    "duration": 553,
    "start_time": "2023-11-13T17:09:25.459Z"
   },
   {
    "duration": 7,
    "start_time": "2023-11-13T17:09:26.014Z"
   },
   {
    "duration": 579,
    "start_time": "2023-11-13T17:09:26.022Z"
   },
   {
    "duration": 2484,
    "start_time": "2023-11-13T17:09:26.602Z"
   },
   {
    "duration": 4,
    "start_time": "2023-11-13T17:09:29.088Z"
   },
   {
    "duration": 1647,
    "start_time": "2023-11-13T17:09:29.093Z"
   },
   {
    "duration": 25,
    "start_time": "2023-11-13T17:09:30.741Z"
   },
   {
    "duration": 40,
    "start_time": "2023-11-13T17:09:30.768Z"
   },
   {
    "duration": 46,
    "start_time": "2023-11-13T17:09:30.809Z"
   },
   {
    "duration": 598,
    "start_time": "2023-11-13T17:09:30.856Z"
   },
   {
    "duration": 17,
    "start_time": "2023-11-13T17:09:31.456Z"
   },
   {
    "duration": 45,
    "start_time": "2023-11-13T17:09:31.475Z"
   },
   {
    "duration": 17,
    "start_time": "2023-11-13T17:09:31.522Z"
   },
   {
    "duration": 21,
    "start_time": "2023-11-13T17:09:31.541Z"
   },
   {
    "duration": 43,
    "start_time": "2023-11-13T17:09:31.564Z"
   },
   {
    "duration": 437,
    "start_time": "2023-11-13T17:09:31.608Z"
   },
   {
    "duration": 690,
    "start_time": "2023-11-13T17:09:32.047Z"
   },
   {
    "duration": 779,
    "start_time": "2023-11-13T17:09:32.739Z"
   },
   {
    "duration": 14,
    "start_time": "2023-11-13T17:09:33.521Z"
   },
   {
    "duration": 156,
    "start_time": "2023-11-13T17:09:33.537Z"
   },
   {
    "duration": 37,
    "start_time": "2023-11-13T17:09:33.694Z"
   },
   {
    "duration": 9,
    "start_time": "2023-11-13T17:09:37.045Z"
   },
   {
    "duration": 6,
    "start_time": "2023-11-13T17:09:45.241Z"
   },
   {
    "duration": 68,
    "start_time": "2023-11-13T17:10:06.567Z"
   },
   {
    "duration": 7,
    "start_time": "2023-11-13T17:10:25.095Z"
   },
   {
    "duration": 6,
    "start_time": "2023-11-13T17:10:31.968Z"
   },
   {
    "duration": 9,
    "start_time": "2023-11-13T17:10:37.578Z"
   },
   {
    "duration": 10,
    "start_time": "2023-11-13T17:10:51.250Z"
   },
   {
    "duration": 8,
    "start_time": "2023-11-13T17:11:03.113Z"
   },
   {
    "duration": 10,
    "start_time": "2023-11-13T17:11:48.060Z"
   },
   {
    "duration": 8,
    "start_time": "2023-11-13T17:11:51.237Z"
   },
   {
    "duration": 9,
    "start_time": "2023-11-13T17:12:12.081Z"
   },
   {
    "duration": 9,
    "start_time": "2023-11-13T17:12:30.434Z"
   },
   {
    "duration": 10,
    "start_time": "2023-11-13T17:13:15.353Z"
   },
   {
    "duration": 9,
    "start_time": "2023-11-13T17:13:31.709Z"
   },
   {
    "duration": 361,
    "start_time": "2023-11-13T18:05:50.858Z"
   },
   {
    "duration": 240,
    "start_time": "2023-11-13T18:06:02.984Z"
   },
   {
    "duration": 516,
    "start_time": "2023-11-13T18:06:13.978Z"
   },
   {
    "duration": 459,
    "start_time": "2023-11-13T18:16:08.609Z"
   },
   {
    "duration": 408,
    "start_time": "2023-11-13T18:17:46.377Z"
   },
   {
    "duration": 22,
    "start_time": "2023-11-13T18:19:15.405Z"
   },
   {
    "duration": 145,
    "start_time": "2023-11-13T18:23:55.797Z"
   },
   {
    "duration": 44,
    "start_time": "2023-11-13T18:24:17.414Z"
   },
   {
    "duration": 44,
    "start_time": "2023-11-13T18:26:05.288Z"
   },
   {
    "duration": 24,
    "start_time": "2023-11-13T18:27:07.672Z"
   },
   {
    "duration": 12,
    "start_time": "2023-11-13T18:28:00.703Z"
   },
   {
    "duration": 21,
    "start_time": "2023-11-13T18:28:58.355Z"
   },
   {
    "duration": 13,
    "start_time": "2023-11-13T18:29:20.247Z"
   },
   {
    "duration": 11,
    "start_time": "2023-11-13T18:29:49.911Z"
   },
   {
    "duration": 23,
    "start_time": "2023-11-13T18:30:40.930Z"
   },
   {
    "duration": 13,
    "start_time": "2023-11-13T18:31:06.154Z"
   },
   {
    "duration": 24,
    "start_time": "2023-11-13T18:31:31.255Z"
   },
   {
    "duration": 16,
    "start_time": "2023-11-13T18:31:41.039Z"
   },
   {
    "duration": 16,
    "start_time": "2023-11-13T18:31:47.691Z"
   },
   {
    "duration": 22,
    "start_time": "2023-11-13T18:31:59.842Z"
   },
   {
    "duration": 487,
    "start_time": "2023-11-13T18:35:59.559Z"
   },
   {
    "duration": 389,
    "start_time": "2023-11-13T18:36:40.047Z"
   },
   {
    "duration": 424,
    "start_time": "2023-11-13T18:37:20.049Z"
   },
   {
    "duration": 342,
    "start_time": "2023-11-13T18:37:36.373Z"
   },
   {
    "duration": 327,
    "start_time": "2023-11-13T18:38:44.585Z"
   },
   {
    "duration": 427,
    "start_time": "2023-11-13T18:38:58.338Z"
   },
   {
    "duration": 13,
    "start_time": "2023-11-13T18:41:02.884Z"
   },
   {
    "duration": 15,
    "start_time": "2023-11-13T18:41:10.393Z"
   },
   {
    "duration": 15,
    "start_time": "2023-11-13T18:41:23.558Z"
   },
   {
    "duration": 13,
    "start_time": "2023-11-13T18:41:28.243Z"
   },
   {
    "duration": 13,
    "start_time": "2023-11-13T18:41:33.736Z"
   },
   {
    "duration": 12,
    "start_time": "2023-11-13T18:41:39.717Z"
   },
   {
    "duration": 12,
    "start_time": "2023-11-13T18:41:43.907Z"
   },
   {
    "duration": 13,
    "start_time": "2023-11-13T18:41:58.692Z"
   },
   {
    "duration": 14,
    "start_time": "2023-11-13T18:42:04.033Z"
   },
   {
    "duration": 13,
    "start_time": "2023-11-13T18:42:08.717Z"
   },
   {
    "duration": 13,
    "start_time": "2023-11-13T18:42:46.276Z"
   },
   {
    "duration": 14,
    "start_time": "2023-11-13T18:42:52.410Z"
   },
   {
    "duration": 12,
    "start_time": "2023-11-13T18:43:07.893Z"
   },
   {
    "duration": 46,
    "start_time": "2023-11-13T18:43:25.110Z"
   },
   {
    "duration": 13,
    "start_time": "2023-11-13T18:43:53.720Z"
   },
   {
    "duration": 13,
    "start_time": "2023-11-13T18:44:09.959Z"
   },
   {
    "duration": 13,
    "start_time": "2023-11-13T18:44:19.618Z"
   },
   {
    "duration": 13,
    "start_time": "2023-11-13T18:44:31.404Z"
   },
   {
    "duration": 14,
    "start_time": "2023-11-13T18:44:36.535Z"
   },
   {
    "duration": 13,
    "start_time": "2023-11-13T18:44:44.677Z"
   },
   {
    "duration": 12,
    "start_time": "2023-11-13T18:44:48.842Z"
   },
   {
    "duration": 13,
    "start_time": "2023-11-13T18:44:59.044Z"
   },
   {
    "duration": 13,
    "start_time": "2023-11-13T18:45:02.772Z"
   },
   {
    "duration": 13,
    "start_time": "2023-11-13T18:45:06.905Z"
   },
   {
    "duration": 14,
    "start_time": "2023-11-13T18:45:14.424Z"
   },
   {
    "duration": 16,
    "start_time": "2023-11-13T18:45:19.291Z"
   },
   {
    "duration": 13,
    "start_time": "2023-11-13T18:45:29.897Z"
   },
   {
    "duration": 14,
    "start_time": "2023-11-13T18:45:34.625Z"
   },
   {
    "duration": 12,
    "start_time": "2023-11-13T18:45:38.351Z"
   },
   {
    "duration": 13,
    "start_time": "2023-11-13T18:45:42.124Z"
   },
   {
    "duration": 13,
    "start_time": "2023-11-13T18:46:01.492Z"
   },
   {
    "duration": 13,
    "start_time": "2023-11-13T18:46:06.790Z"
   },
   {
    "duration": 13,
    "start_time": "2023-11-13T18:47:10.568Z"
   },
   {
    "duration": 527,
    "start_time": "2023-11-13T18:47:39.386Z"
   },
   {
    "duration": 12,
    "start_time": "2023-11-13T18:49:35.404Z"
   },
   {
    "duration": 12,
    "start_time": "2023-11-13T18:49:40.639Z"
   },
   {
    "duration": 13,
    "start_time": "2023-11-13T18:49:45.099Z"
   },
   {
    "duration": 12,
    "start_time": "2023-11-13T18:49:49.824Z"
   },
   {
    "duration": 431,
    "start_time": "2023-11-13T18:50:15.625Z"
   },
   {
    "duration": 517,
    "start_time": "2023-11-13T18:51:03.921Z"
   },
   {
    "duration": 541,
    "start_time": "2023-11-13T18:51:36.988Z"
   },
   {
    "duration": 368,
    "start_time": "2023-11-13T18:54:51.774Z"
   },
   {
    "duration": 26,
    "start_time": "2023-11-13T18:56:24.800Z"
   },
   {
    "duration": 14,
    "start_time": "2023-11-13T18:56:44.319Z"
   },
   {
    "duration": 15,
    "start_time": "2023-11-13T18:57:38.621Z"
   },
   {
    "duration": 13,
    "start_time": "2023-11-13T18:57:44.308Z"
   },
   {
    "duration": 14,
    "start_time": "2023-11-13T18:57:58.718Z"
   },
   {
    "duration": 12,
    "start_time": "2023-11-13T18:58:03.994Z"
   },
   {
    "duration": 13,
    "start_time": "2023-11-13T18:58:08.803Z"
   },
   {
    "duration": 15,
    "start_time": "2023-11-13T18:58:14.051Z"
   },
   {
    "duration": 12,
    "start_time": "2023-11-13T18:58:25.855Z"
   },
   {
    "duration": 15,
    "start_time": "2023-11-13T18:58:30.327Z"
   },
   {
    "duration": 379,
    "start_time": "2023-11-13T19:01:27.391Z"
   },
   {
    "duration": 537,
    "start_time": "2023-11-13T19:02:22.528Z"
   },
   {
    "duration": 382,
    "start_time": "2023-11-13T19:04:02.094Z"
   },
   {
    "duration": 13,
    "start_time": "2023-11-13T19:05:10.215Z"
   },
   {
    "duration": 29,
    "start_time": "2023-11-13T19:06:31.512Z"
   },
   {
    "duration": 131,
    "start_time": "2023-11-13T19:06:42.783Z"
   },
   {
    "duration": 9,
    "start_time": "2023-11-13T19:16:20.059Z"
   },
   {
    "duration": 5,
    "start_time": "2023-11-13T19:16:59.259Z"
   },
   {
    "duration": 13,
    "start_time": "2023-11-13T19:17:46.592Z"
   },
   {
    "duration": 9,
    "start_time": "2023-11-13T19:19:14.694Z"
   },
   {
    "duration": 11,
    "start_time": "2023-11-13T19:20:03.821Z"
   },
   {
    "duration": 6,
    "start_time": "2023-11-13T19:20:53.037Z"
   },
   {
    "duration": 9,
    "start_time": "2023-11-13T19:21:02.153Z"
   },
   {
    "duration": 10,
    "start_time": "2023-11-13T19:21:18.376Z"
   },
   {
    "duration": 6,
    "start_time": "2023-11-13T19:22:38.724Z"
   },
   {
    "duration": 26,
    "start_time": "2023-11-13T19:25:53.107Z"
   },
   {
    "duration": 21,
    "start_time": "2023-11-13T19:27:53.331Z"
   },
   {
    "duration": 12,
    "start_time": "2023-11-13T19:28:13.057Z"
   },
   {
    "duration": 14,
    "start_time": "2023-11-13T19:29:47.139Z"
   },
   {
    "duration": 8,
    "start_time": "2023-11-13T19:33:38.702Z"
   },
   {
    "duration": 21,
    "start_time": "2023-11-13T19:34:25.312Z"
   },
   {
    "duration": 21,
    "start_time": "2023-11-13T19:35:18.057Z"
   },
   {
    "duration": 23,
    "start_time": "2023-11-13T19:36:23.900Z"
   },
   {
    "duration": 23,
    "start_time": "2023-11-13T19:37:24.692Z"
   },
   {
    "duration": 36,
    "start_time": "2023-11-13T19:37:35.678Z"
   },
   {
    "duration": 24,
    "start_time": "2023-11-13T19:37:48.585Z"
   },
   {
    "duration": 13,
    "start_time": "2023-11-13T19:38:24.288Z"
   },
   {
    "duration": 12,
    "start_time": "2023-11-13T19:38:48.566Z"
   },
   {
    "duration": 30,
    "start_time": "2023-11-13T19:39:14.951Z"
   },
   {
    "duration": 25,
    "start_time": "2023-11-13T19:41:51.159Z"
   },
   {
    "duration": 8,
    "start_time": "2023-11-13T19:43:19.830Z"
   },
   {
    "duration": 8,
    "start_time": "2023-11-13T19:43:35.760Z"
   },
   {
    "duration": 6,
    "start_time": "2023-11-13T19:44:15.916Z"
   },
   {
    "duration": 30,
    "start_time": "2023-11-13T19:45:01.326Z"
   },
   {
    "duration": 7,
    "start_time": "2023-11-13T19:45:14.193Z"
   },
   {
    "duration": 6,
    "start_time": "2023-11-13T19:46:08.691Z"
   },
   {
    "duration": 8,
    "start_time": "2023-11-13T19:46:40.757Z"
   },
   {
    "duration": 8,
    "start_time": "2023-11-13T19:47:08.911Z"
   },
   {
    "duration": 6,
    "start_time": "2023-11-13T19:47:41.524Z"
   },
   {
    "duration": 20,
    "start_time": "2023-11-13T19:48:18.138Z"
   },
   {
    "duration": 42,
    "start_time": "2023-11-13T19:49:32.779Z"
   },
   {
    "duration": 13,
    "start_time": "2023-11-13T19:50:21.513Z"
   },
   {
    "duration": 22,
    "start_time": "2023-11-13T19:52:00.524Z"
   },
   {
    "duration": 20,
    "start_time": "2023-11-13T19:53:32.975Z"
   },
   {
    "duration": 23,
    "start_time": "2023-11-13T19:56:36.260Z"
   },
   {
    "duration": 21,
    "start_time": "2023-11-13T19:57:47.674Z"
   },
   {
    "duration": 12,
    "start_time": "2023-11-13T20:07:13.957Z"
   },
   {
    "duration": 15,
    "start_time": "2023-11-13T20:07:38.325Z"
   },
   {
    "duration": 12,
    "start_time": "2023-11-13T20:11:14.784Z"
   },
   {
    "duration": 15,
    "start_time": "2023-11-13T20:11:49.895Z"
   },
   {
    "duration": 4,
    "start_time": "2023-11-13T20:13:31.996Z"
   },
   {
    "duration": 21,
    "start_time": "2023-11-13T20:13:36.695Z"
   },
   {
    "duration": 45,
    "start_time": "2023-11-13T20:15:21.437Z"
   },
   {
    "duration": 32,
    "start_time": "2023-11-13T20:17:02.280Z"
   },
   {
    "duration": 57,
    "start_time": "2023-11-13T20:18:27.419Z"
   },
   {
    "duration": 52,
    "start_time": "2023-11-13T20:19:02.274Z"
   },
   {
    "duration": 43,
    "start_time": "2023-11-13T20:22:13.317Z"
   },
   {
    "duration": 10,
    "start_time": "2023-11-13T20:23:27.761Z"
   },
   {
    "duration": 8,
    "start_time": "2023-11-13T20:24:52.452Z"
   },
   {
    "duration": 34,
    "start_time": "2023-11-13T20:25:16.128Z"
   },
   {
    "duration": 24,
    "start_time": "2023-11-13T20:26:08.879Z"
   },
   {
    "duration": 24,
    "start_time": "2023-11-13T20:26:50.615Z"
   },
   {
    "duration": 24,
    "start_time": "2023-11-13T20:27:22.063Z"
   },
   {
    "duration": 27,
    "start_time": "2023-11-13T20:27:35.378Z"
   },
   {
    "duration": 16,
    "start_time": "2023-11-13T20:34:17.854Z"
   },
   {
    "duration": 3,
    "start_time": "2023-11-13T20:38:34.468Z"
   },
   {
    "duration": 20,
    "start_time": "2023-11-13T20:38:34.473Z"
   },
   {
    "duration": 80,
    "start_time": "2023-11-13T20:38:34.494Z"
   },
   {
    "duration": 6,
    "start_time": "2023-11-13T20:38:34.576Z"
   },
   {
    "duration": 21,
    "start_time": "2023-11-13T20:38:34.583Z"
   },
   {
    "duration": 16,
    "start_time": "2023-11-13T20:38:34.605Z"
   },
   {
    "duration": 27,
    "start_time": "2023-11-13T20:38:34.623Z"
   },
   {
    "duration": 17,
    "start_time": "2023-11-13T20:38:34.652Z"
   },
   {
    "duration": 8,
    "start_time": "2023-11-13T20:38:34.672Z"
   },
   {
    "duration": 18,
    "start_time": "2023-11-13T20:38:34.682Z"
   },
   {
    "duration": 35,
    "start_time": "2023-11-13T20:38:34.702Z"
   },
   {
    "duration": 13,
    "start_time": "2023-11-13T20:38:34.738Z"
   },
   {
    "duration": 22,
    "start_time": "2023-11-13T20:38:34.753Z"
   },
   {
    "duration": 12,
    "start_time": "2023-11-13T20:38:34.777Z"
   },
   {
    "duration": 10,
    "start_time": "2023-11-13T20:38:34.791Z"
   },
   {
    "duration": 44,
    "start_time": "2023-11-13T20:38:34.802Z"
   },
   {
    "duration": 6,
    "start_time": "2023-11-13T20:38:34.847Z"
   },
   {
    "duration": 21,
    "start_time": "2023-11-13T20:38:34.855Z"
   },
   {
    "duration": 4,
    "start_time": "2023-11-13T20:38:34.878Z"
   },
   {
    "duration": 636,
    "start_time": "2023-11-13T20:38:34.883Z"
   },
   {
    "duration": 384,
    "start_time": "2023-11-13T20:38:35.521Z"
   },
   {
    "duration": 455,
    "start_time": "2023-11-13T20:38:35.907Z"
   },
   {
    "duration": 505,
    "start_time": "2023-11-13T20:38:36.365Z"
   },
   {
    "duration": 8,
    "start_time": "2023-11-13T20:38:36.875Z"
   },
   {
    "duration": 426,
    "start_time": "2023-11-13T20:38:36.885Z"
   },
   {
    "duration": 2259,
    "start_time": "2023-11-13T20:38:37.313Z"
   },
   {
    "duration": 4,
    "start_time": "2023-11-13T20:38:39.574Z"
   },
   {
    "duration": 1635,
    "start_time": "2023-11-13T20:38:39.579Z"
   },
   {
    "duration": 34,
    "start_time": "2023-11-13T20:38:41.216Z"
   },
   {
    "duration": 13,
    "start_time": "2023-11-13T20:38:41.252Z"
   },
   {
    "duration": 9,
    "start_time": "2023-11-13T20:38:41.267Z"
   },
   {
    "duration": 521,
    "start_time": "2023-11-13T20:38:41.278Z"
   },
   {
    "duration": 17,
    "start_time": "2023-11-13T20:38:41.801Z"
   },
   {
    "duration": 25,
    "start_time": "2023-11-13T20:38:41.820Z"
   },
   {
    "duration": 5,
    "start_time": "2023-11-13T20:38:41.847Z"
   },
   {
    "duration": 18,
    "start_time": "2023-11-13T20:38:41.854Z"
   },
   {
    "duration": 7,
    "start_time": "2023-11-13T20:38:41.873Z"
   },
   {
    "duration": 395,
    "start_time": "2023-11-13T20:38:41.881Z"
   },
   {
    "duration": 576,
    "start_time": "2023-11-13T20:38:42.277Z"
   },
   {
    "duration": 722,
    "start_time": "2023-11-13T20:38:42.855Z"
   },
   {
    "duration": 9,
    "start_time": "2023-11-13T20:38:43.579Z"
   },
   {
    "duration": 6,
    "start_time": "2023-11-13T20:38:43.590Z"
   },
   {
    "duration": 14,
    "start_time": "2023-11-13T20:38:43.598Z"
   },
   {
    "duration": 22,
    "start_time": "2023-11-13T20:38:43.614Z"
   },
   {
    "duration": 8,
    "start_time": "2023-11-13T20:38:43.638Z"
   },
   {
    "duration": 24,
    "start_time": "2023-11-13T20:38:43.647Z"
   },
   {
    "duration": 11,
    "start_time": "2023-11-13T20:38:43.673Z"
   },
   {
    "duration": 7,
    "start_time": "2023-11-13T20:38:43.686Z"
   },
   {
    "duration": 12,
    "start_time": "2023-11-13T20:38:43.695Z"
   },
   {
    "duration": 12,
    "start_time": "2023-11-13T20:38:43.736Z"
   },
   {
    "duration": 9,
    "start_time": "2023-11-13T20:44:34.742Z"
   },
   {
    "duration": 16,
    "start_time": "2023-11-13T20:44:42.683Z"
   },
   {
    "duration": 53,
    "start_time": "2023-11-13T20:48:22.845Z"
   },
   {
    "duration": 46,
    "start_time": "2023-11-13T20:48:41.287Z"
   },
   {
    "duration": 3,
    "start_time": "2023-11-13T20:48:52.004Z"
   },
   {
    "duration": 10,
    "start_time": "2023-11-13T20:48:52.009Z"
   },
   {
    "duration": 72,
    "start_time": "2023-11-13T20:48:52.021Z"
   },
   {
    "duration": 7,
    "start_time": "2023-11-13T20:48:52.094Z"
   },
   {
    "duration": 23,
    "start_time": "2023-11-13T20:48:52.102Z"
   },
   {
    "duration": 12,
    "start_time": "2023-11-13T20:48:52.126Z"
   },
   {
    "duration": 20,
    "start_time": "2023-11-13T20:48:52.139Z"
   },
   {
    "duration": 18,
    "start_time": "2023-11-13T20:48:52.160Z"
   },
   {
    "duration": 8,
    "start_time": "2023-11-13T20:48:52.180Z"
   },
   {
    "duration": 14,
    "start_time": "2023-11-13T20:48:52.189Z"
   },
   {
    "duration": 42,
    "start_time": "2023-11-13T20:48:52.205Z"
   },
   {
    "duration": 13,
    "start_time": "2023-11-13T20:48:52.249Z"
   },
   {
    "duration": 23,
    "start_time": "2023-11-13T20:48:52.263Z"
   },
   {
    "duration": 15,
    "start_time": "2023-11-13T20:48:52.288Z"
   },
   {
    "duration": 34,
    "start_time": "2023-11-13T20:48:52.304Z"
   },
   {
    "duration": 22,
    "start_time": "2023-11-13T20:48:52.340Z"
   },
   {
    "duration": 6,
    "start_time": "2023-11-13T20:48:52.364Z"
   },
   {
    "duration": 25,
    "start_time": "2023-11-13T20:48:52.371Z"
   },
   {
    "duration": 9,
    "start_time": "2023-11-13T20:48:52.398Z"
   },
   {
    "duration": 592,
    "start_time": "2023-11-13T20:48:52.408Z"
   },
   {
    "duration": 493,
    "start_time": "2023-11-13T20:48:53.002Z"
   },
   {
    "duration": 422,
    "start_time": "2023-11-13T20:48:53.497Z"
   },
   {
    "duration": 354,
    "start_time": "2023-11-13T20:48:53.920Z"
   },
   {
    "duration": 6,
    "start_time": "2023-11-13T20:48:54.277Z"
   },
   {
    "duration": 378,
    "start_time": "2023-11-13T20:48:54.284Z"
   },
   {
    "duration": 2210,
    "start_time": "2023-11-13T20:48:54.663Z"
   },
   {
    "duration": 5,
    "start_time": "2023-11-13T20:48:56.874Z"
   },
   {
    "duration": 1504,
    "start_time": "2023-11-13T20:48:56.880Z"
   },
   {
    "duration": 21,
    "start_time": "2023-11-13T20:48:58.386Z"
   },
   {
    "duration": 26,
    "start_time": "2023-11-13T20:48:58.409Z"
   },
   {
    "duration": 9,
    "start_time": "2023-11-13T20:48:58.437Z"
   },
   {
    "duration": 506,
    "start_time": "2023-11-13T20:48:58.448Z"
   },
   {
    "duration": 24,
    "start_time": "2023-11-13T20:48:58.956Z"
   },
   {
    "duration": 18,
    "start_time": "2023-11-13T20:48:58.983Z"
   },
   {
    "duration": 6,
    "start_time": "2023-11-13T20:48:59.003Z"
   },
   {
    "duration": 29,
    "start_time": "2023-11-13T20:48:59.010Z"
   },
   {
    "duration": 8,
    "start_time": "2023-11-13T20:48:59.041Z"
   },
   {
    "duration": 488,
    "start_time": "2023-11-13T20:48:59.050Z"
   },
   {
    "duration": 540,
    "start_time": "2023-11-13T20:48:59.539Z"
   },
   {
    "duration": 726,
    "start_time": "2023-11-13T20:49:00.081Z"
   },
   {
    "duration": 9,
    "start_time": "2023-11-13T20:49:00.809Z"
   },
   {
    "duration": 117,
    "start_time": "2023-11-13T20:49:00.820Z"
   },
   {
    "duration": 50,
    "start_time": "2023-11-13T20:49:00.938Z"
   },
   {
    "duration": 65,
    "start_time": "2023-11-13T20:49:00.989Z"
   },
   {
    "duration": 48,
    "start_time": "2023-11-13T20:49:01.056Z"
   },
   {
    "duration": 50,
    "start_time": "2023-11-13T20:49:01.106Z"
   },
   {
    "duration": 13,
    "start_time": "2023-11-13T20:49:01.159Z"
   },
   {
    "duration": 61,
    "start_time": "2023-11-13T20:49:01.174Z"
   },
   {
    "duration": 55,
    "start_time": "2023-11-13T20:49:01.236Z"
   },
   {
    "duration": 49,
    "start_time": "2023-11-13T20:49:01.292Z"
   },
   {
    "duration": 47,
    "start_time": "2023-11-13T20:49:01.343Z"
   },
   {
    "duration": 51,
    "start_time": "2023-11-13T20:49:12.491Z"
   },
   {
    "duration": 55,
    "start_time": "2023-11-13T20:50:07.452Z"
   },
   {
    "duration": 24,
    "start_time": "2023-11-13T20:51:06.060Z"
   },
   {
    "duration": 23,
    "start_time": "2023-11-13T20:51:34.864Z"
   },
   {
    "duration": 22,
    "start_time": "2023-11-13T20:51:55.857Z"
   },
   {
    "duration": 11,
    "start_time": "2023-11-13T20:52:28.875Z"
   },
   {
    "duration": 24,
    "start_time": "2023-11-13T20:53:00.320Z"
   },
   {
    "duration": 13,
    "start_time": "2023-11-13T20:57:30.965Z"
   },
   {
    "duration": 8,
    "start_time": "2023-11-13T21:16:28.383Z"
   },
   {
    "duration": 9,
    "start_time": "2023-11-13T21:16:57.706Z"
   },
   {
    "duration": 12,
    "start_time": "2023-11-13T21:17:48.295Z"
   },
   {
    "duration": 12,
    "start_time": "2023-11-13T21:23:03.338Z"
   },
   {
    "duration": 15,
    "start_time": "2023-11-13T21:24:07.920Z"
   },
   {
    "duration": 17,
    "start_time": "2023-11-13T21:25:32.552Z"
   },
   {
    "duration": 14,
    "start_time": "2023-11-13T21:26:13.900Z"
   },
   {
    "duration": 10,
    "start_time": "2023-11-13T21:29:00.291Z"
   },
   {
    "duration": 10,
    "start_time": "2023-11-13T21:29:31.818Z"
   },
   {
    "duration": 9,
    "start_time": "2023-11-13T21:29:47.384Z"
   },
   {
    "duration": 9,
    "start_time": "2023-11-13T21:29:59.522Z"
   },
   {
    "duration": 21,
    "start_time": "2023-11-13T21:30:58.378Z"
   },
   {
    "duration": 23,
    "start_time": "2023-11-13T21:31:29.903Z"
   },
   {
    "duration": 23,
    "start_time": "2023-11-13T21:32:20.334Z"
   },
   {
    "duration": 22,
    "start_time": "2023-11-13T21:32:33.644Z"
   },
   {
    "duration": 28,
    "start_time": "2023-11-13T21:32:40.972Z"
   },
   {
    "duration": 28,
    "start_time": "2023-11-13T21:33:12.329Z"
   },
   {
    "duration": 23,
    "start_time": "2023-11-13T21:34:50.425Z"
   },
   {
    "duration": 12,
    "start_time": "2023-11-13T21:35:15.761Z"
   },
   {
    "duration": 12,
    "start_time": "2023-11-13T21:35:24.227Z"
   },
   {
    "duration": 35,
    "start_time": "2023-11-13T21:36:29.477Z"
   },
   {
    "duration": 11,
    "start_time": "2023-11-13T21:37:12.214Z"
   },
   {
    "duration": 21,
    "start_time": "2023-11-13T21:37:33.866Z"
   },
   {
    "duration": 30,
    "start_time": "2023-11-13T21:37:49.732Z"
   },
   {
    "duration": 24,
    "start_time": "2023-11-13T21:38:04.826Z"
   },
   {
    "duration": 32,
    "start_time": "2023-11-13T21:38:10.584Z"
   },
   {
    "duration": 34,
    "start_time": "2023-11-13T21:38:40.668Z"
   },
   {
    "duration": 11,
    "start_time": "2023-11-13T21:39:16.030Z"
   },
   {
    "duration": 11,
    "start_time": "2023-11-13T21:42:38.708Z"
   },
   {
    "duration": 23,
    "start_time": "2023-11-13T21:43:05.069Z"
   },
   {
    "duration": 19,
    "start_time": "2023-11-13T21:44:06.468Z"
   },
   {
    "duration": 21,
    "start_time": "2023-11-13T21:44:55.591Z"
   },
   {
    "duration": 6,
    "start_time": "2023-11-13T21:53:57.952Z"
   },
   {
    "duration": 13,
    "start_time": "2023-11-13T21:54:18.833Z"
   },
   {
    "duration": 6,
    "start_time": "2023-11-13T21:54:31.211Z"
   },
   {
    "duration": 11,
    "start_time": "2023-11-13T21:57:23.280Z"
   },
   {
    "duration": 12,
    "start_time": "2023-11-13T21:58:35.974Z"
   },
   {
    "duration": 28,
    "start_time": "2023-11-13T21:59:40.793Z"
   },
   {
    "duration": 23,
    "start_time": "2023-11-13T21:59:56.029Z"
   },
   {
    "duration": 11,
    "start_time": "2023-11-13T22:03:11.940Z"
   },
   {
    "duration": 9,
    "start_time": "2023-11-13T22:09:52.240Z"
   },
   {
    "duration": 13,
    "start_time": "2023-11-13T22:10:13.100Z"
   },
   {
    "duration": 12,
    "start_time": "2023-11-13T22:10:21.354Z"
   },
   {
    "duration": 10,
    "start_time": "2023-11-13T22:10:49.343Z"
   },
   {
    "duration": 12,
    "start_time": "2023-11-13T22:11:03.463Z"
   },
   {
    "duration": 15,
    "start_time": "2023-11-13T22:12:29.259Z"
   },
   {
    "duration": 14,
    "start_time": "2023-11-13T22:12:49.696Z"
   },
   {
    "duration": 13,
    "start_time": "2023-11-13T22:15:55.825Z"
   },
   {
    "duration": 14,
    "start_time": "2023-11-13T22:16:05.297Z"
   },
   {
    "duration": 12,
    "start_time": "2023-11-13T22:17:13.037Z"
   },
   {
    "duration": 9,
    "start_time": "2023-11-13T22:17:30.972Z"
   },
   {
    "duration": 13,
    "start_time": "2023-11-13T22:17:36.291Z"
   },
   {
    "duration": 12,
    "start_time": "2023-11-13T22:17:57.025Z"
   },
   {
    "duration": 10,
    "start_time": "2023-11-13T22:20:04.132Z"
   },
   {
    "duration": 102,
    "start_time": "2023-11-13T22:20:19.737Z"
   },
   {
    "duration": 132,
    "start_time": "2023-11-13T22:21:07.991Z"
   },
   {
    "duration": 9,
    "start_time": "2023-11-13T22:21:15.963Z"
   },
   {
    "duration": 10,
    "start_time": "2023-11-13T22:21:47.845Z"
   },
   {
    "duration": 9,
    "start_time": "2023-11-13T22:22:31.511Z"
   },
   {
    "duration": 10,
    "start_time": "2023-11-13T22:22:42.544Z"
   },
   {
    "duration": 23,
    "start_time": "2023-11-13T22:23:31.420Z"
   },
   {
    "duration": 12,
    "start_time": "2023-11-13T22:24:18.707Z"
   },
   {
    "duration": 8,
    "start_time": "2023-11-13T22:24:59.337Z"
   },
   {
    "duration": 10,
    "start_time": "2023-11-13T22:25:23.089Z"
   },
   {
    "duration": 7,
    "start_time": "2023-11-13T22:25:42.829Z"
   },
   {
    "duration": 10,
    "start_time": "2023-11-13T22:26:30.708Z"
   },
   {
    "duration": 8,
    "start_time": "2023-11-13T22:27:14.549Z"
   },
   {
    "duration": 12,
    "start_time": "2023-11-13T22:27:44.261Z"
   },
   {
    "duration": 10,
    "start_time": "2023-11-13T22:27:57.821Z"
   },
   {
    "duration": 7,
    "start_time": "2023-11-13T22:28:49.491Z"
   },
   {
    "duration": 3,
    "start_time": "2023-11-13T22:29:36.518Z"
   },
   {
    "duration": 14,
    "start_time": "2023-11-13T22:29:36.523Z"
   },
   {
    "duration": 74,
    "start_time": "2023-11-13T22:29:36.539Z"
   },
   {
    "duration": 6,
    "start_time": "2023-11-13T22:29:36.615Z"
   },
   {
    "duration": 16,
    "start_time": "2023-11-13T22:29:36.623Z"
   },
   {
    "duration": 7,
    "start_time": "2023-11-13T22:29:36.641Z"
   },
   {
    "duration": 22,
    "start_time": "2023-11-13T22:29:36.650Z"
   },
   {
    "duration": 17,
    "start_time": "2023-11-13T22:29:36.673Z"
   },
   {
    "duration": 7,
    "start_time": "2023-11-13T22:29:36.692Z"
   },
   {
    "duration": 35,
    "start_time": "2023-11-13T22:29:36.701Z"
   },
   {
    "duration": 13,
    "start_time": "2023-11-13T22:29:36.738Z"
   },
   {
    "duration": 12,
    "start_time": "2023-11-13T22:29:36.753Z"
   },
   {
    "duration": 24,
    "start_time": "2023-11-13T22:29:36.767Z"
   },
   {
    "duration": 14,
    "start_time": "2023-11-13T22:29:36.793Z"
   },
   {
    "duration": 35,
    "start_time": "2023-11-13T22:29:36.808Z"
   },
   {
    "duration": 15,
    "start_time": "2023-11-13T22:29:36.845Z"
   },
   {
    "duration": 6,
    "start_time": "2023-11-13T22:29:36.862Z"
   },
   {
    "duration": 21,
    "start_time": "2023-11-13T22:29:36.869Z"
   },
   {
    "duration": 4,
    "start_time": "2023-11-13T22:29:36.892Z"
   },
   {
    "duration": 594,
    "start_time": "2023-11-13T22:29:36.898Z"
   },
   {
    "duration": 381,
    "start_time": "2023-11-13T22:29:37.494Z"
   },
   {
    "duration": 410,
    "start_time": "2023-11-13T22:29:37.877Z"
   },
   {
    "duration": 447,
    "start_time": "2023-11-13T22:29:38.288Z"
   },
   {
    "duration": 6,
    "start_time": "2023-11-13T22:29:38.737Z"
   },
   {
    "duration": 392,
    "start_time": "2023-11-13T22:29:38.744Z"
   },
   {
    "duration": 2227,
    "start_time": "2023-11-13T22:29:39.137Z"
   },
   {
    "duration": 3,
    "start_time": "2023-11-13T22:29:41.366Z"
   },
   {
    "duration": 1551,
    "start_time": "2023-11-13T22:29:41.371Z"
   },
   {
    "duration": 27,
    "start_time": "2023-11-13T22:29:42.923Z"
   },
   {
    "duration": 13,
    "start_time": "2023-11-13T22:29:42.951Z"
   },
   {
    "duration": 9,
    "start_time": "2023-11-13T22:29:42.966Z"
   },
   {
    "duration": 488,
    "start_time": "2023-11-13T22:29:42.976Z"
   },
   {
    "duration": 17,
    "start_time": "2023-11-13T22:29:43.466Z"
   },
   {
    "duration": 26,
    "start_time": "2023-11-13T22:29:43.485Z"
   },
   {
    "duration": 5,
    "start_time": "2023-11-13T22:29:43.513Z"
   },
   {
    "duration": 20,
    "start_time": "2023-11-13T22:29:43.520Z"
   },
   {
    "duration": 18,
    "start_time": "2023-11-13T22:29:43.544Z"
   },
   {
    "duration": 371,
    "start_time": "2023-11-13T22:29:43.564Z"
   },
   {
    "duration": 552,
    "start_time": "2023-11-13T22:29:43.937Z"
   },
   {
    "duration": 714,
    "start_time": "2023-11-13T22:29:44.491Z"
   },
   {
    "duration": 10,
    "start_time": "2023-11-13T22:29:45.207Z"
   },
   {
    "duration": 17,
    "start_time": "2023-11-13T22:29:45.219Z"
   },
   {
    "duration": 10,
    "start_time": "2023-11-13T22:29:45.238Z"
   },
   {
    "duration": 29,
    "start_time": "2023-11-13T22:29:45.250Z"
   },
   {
    "duration": 20,
    "start_time": "2023-11-13T22:29:45.281Z"
   },
   {
    "duration": 13,
    "start_time": "2023-11-13T22:29:45.304Z"
   },
   {
    "duration": 11,
    "start_time": "2023-11-13T22:29:45.318Z"
   },
   {
    "duration": 11,
    "start_time": "2023-11-13T22:29:45.331Z"
   },
   {
    "duration": 9,
    "start_time": "2023-11-13T22:29:45.344Z"
   },
   {
    "duration": 10,
    "start_time": "2023-11-13T22:29:45.354Z"
   },
   {
    "duration": 8,
    "start_time": "2023-11-13T22:29:45.366Z"
   },
   {
    "duration": 13,
    "start_time": "2023-11-13T22:29:45.376Z"
   },
   {
    "duration": 7,
    "start_time": "2023-11-13T22:29:45.390Z"
   },
   {
    "duration": 41,
    "start_time": "2023-11-13T22:29:45.399Z"
   },
   {
    "duration": 10,
    "start_time": "2023-11-13T22:29:45.442Z"
   },
   {
    "duration": 9,
    "start_time": "2023-11-13T22:29:57.061Z"
   },
   {
    "duration": 467,
    "start_time": "2023-11-13T22:32:04.932Z"
   },
   {
    "duration": 9,
    "start_time": "2023-11-13T22:32:40.911Z"
   },
   {
    "duration": 9,
    "start_time": "2023-11-13T22:33:05.854Z"
   },
   {
    "duration": 8,
    "start_time": "2023-11-13T22:34:09.827Z"
   },
   {
    "duration": 9,
    "start_time": "2023-11-13T22:34:34.911Z"
   },
   {
    "duration": 10,
    "start_time": "2023-11-13T22:35:13.076Z"
   },
   {
    "duration": 10,
    "start_time": "2023-11-13T22:35:41.225Z"
   },
   {
    "duration": 9,
    "start_time": "2023-11-13T22:35:50.780Z"
   },
   {
    "duration": 11,
    "start_time": "2023-11-13T22:36:03.203Z"
   },
   {
    "duration": 10,
    "start_time": "2023-11-13T22:36:09.198Z"
   },
   {
    "duration": 9,
    "start_time": "2023-11-13T22:36:43.055Z"
   },
   {
    "duration": 10,
    "start_time": "2023-11-13T22:37:03.933Z"
   },
   {
    "duration": 10,
    "start_time": "2023-11-13T22:37:36.181Z"
   },
   {
    "duration": 439,
    "start_time": "2023-11-13T22:37:47.371Z"
   },
   {
    "duration": 10,
    "start_time": "2023-11-13T22:38:01.750Z"
   },
   {
    "duration": 4,
    "start_time": "2023-11-13T22:38:59.408Z"
   },
   {
    "duration": 7,
    "start_time": "2023-11-13T22:39:08.438Z"
   },
   {
    "duration": 12,
    "start_time": "2023-11-13T22:40:03.020Z"
   },
   {
    "duration": 10,
    "start_time": "2023-11-13T22:40:57.012Z"
   },
   {
    "duration": 3,
    "start_time": "2023-11-13T22:41:15.368Z"
   },
   {
    "duration": 17,
    "start_time": "2023-11-13T22:41:15.373Z"
   },
   {
    "duration": 64,
    "start_time": "2023-11-13T22:41:15.392Z"
   },
   {
    "duration": 6,
    "start_time": "2023-11-13T22:41:15.458Z"
   },
   {
    "duration": 14,
    "start_time": "2023-11-13T22:41:15.466Z"
   },
   {
    "duration": 21,
    "start_time": "2023-11-13T22:41:15.482Z"
   },
   {
    "duration": 21,
    "start_time": "2023-11-13T22:41:15.505Z"
   },
   {
    "duration": 17,
    "start_time": "2023-11-13T22:41:15.536Z"
   },
   {
    "duration": 19,
    "start_time": "2023-11-13T22:41:15.555Z"
   },
   {
    "duration": 8,
    "start_time": "2023-11-13T22:41:15.575Z"
   },
   {
    "duration": 22,
    "start_time": "2023-11-13T22:41:15.585Z"
   },
   {
    "duration": 28,
    "start_time": "2023-11-13T22:41:15.608Z"
   },
   {
    "duration": 22,
    "start_time": "2023-11-13T22:41:15.638Z"
   },
   {
    "duration": 14,
    "start_time": "2023-11-13T22:41:15.663Z"
   },
   {
    "duration": 9,
    "start_time": "2023-11-13T22:41:15.678Z"
   },
   {
    "duration": 28,
    "start_time": "2023-11-13T22:41:15.689Z"
   },
   {
    "duration": 19,
    "start_time": "2023-11-13T22:41:15.719Z"
   },
   {
    "duration": 21,
    "start_time": "2023-11-13T22:41:15.739Z"
   },
   {
    "duration": 4,
    "start_time": "2023-11-13T22:41:15.761Z"
   },
   {
    "duration": 585,
    "start_time": "2023-11-13T22:41:15.766Z"
   },
   {
    "duration": 459,
    "start_time": "2023-11-13T22:41:16.353Z"
   },
   {
    "duration": 411,
    "start_time": "2023-11-13T22:41:16.813Z"
   },
   {
    "duration": 347,
    "start_time": "2023-11-13T22:41:17.225Z"
   },
   {
    "duration": 6,
    "start_time": "2023-11-13T22:41:17.574Z"
   },
   {
    "duration": 375,
    "start_time": "2023-11-13T22:41:17.581Z"
   },
   {
    "duration": 2207,
    "start_time": "2023-11-13T22:41:17.958Z"
   },
   {
    "duration": 4,
    "start_time": "2023-11-13T22:41:20.166Z"
   },
   {
    "duration": 1436,
    "start_time": "2023-11-13T22:41:20.171Z"
   },
   {
    "duration": 29,
    "start_time": "2023-11-13T22:41:21.608Z"
   },
   {
    "duration": 16,
    "start_time": "2023-11-13T22:41:21.639Z"
   },
   {
    "duration": 10,
    "start_time": "2023-11-13T22:41:21.656Z"
   },
   {
    "duration": 501,
    "start_time": "2023-11-13T22:41:21.668Z"
   },
   {
    "duration": 17,
    "start_time": "2023-11-13T22:41:22.171Z"
   },
   {
    "duration": 16,
    "start_time": "2023-11-13T22:41:22.189Z"
   },
   {
    "duration": 15,
    "start_time": "2023-11-13T22:41:22.206Z"
   },
   {
    "duration": 17,
    "start_time": "2023-11-13T22:41:22.223Z"
   },
   {
    "duration": 10,
    "start_time": "2023-11-13T22:41:22.241Z"
   },
   {
    "duration": 480,
    "start_time": "2023-11-13T22:41:22.252Z"
   },
   {
    "duration": 536,
    "start_time": "2023-11-13T22:41:22.734Z"
   },
   {
    "duration": 699,
    "start_time": "2023-11-13T22:41:23.271Z"
   },
   {
    "duration": 8,
    "start_time": "2023-11-13T22:41:23.974Z"
   },
   {
    "duration": 55,
    "start_time": "2023-11-13T22:41:23.983Z"
   },
   {
    "duration": 9,
    "start_time": "2023-11-13T22:41:24.040Z"
   },
   {
    "duration": 32,
    "start_time": "2023-11-13T22:41:24.051Z"
   },
   {
    "duration": 10,
    "start_time": "2023-11-13T22:41:24.085Z"
   },
   {
    "duration": 8,
    "start_time": "2023-11-13T22:41:24.097Z"
   },
   {
    "duration": 15,
    "start_time": "2023-11-13T22:41:24.106Z"
   },
   {
    "duration": 7,
    "start_time": "2023-11-13T22:41:24.123Z"
   },
   {
    "duration": 11,
    "start_time": "2023-11-13T22:41:24.132Z"
   },
   {
    "duration": 30,
    "start_time": "2023-11-13T22:41:24.144Z"
   },
   {
    "duration": 7,
    "start_time": "2023-11-13T22:41:27.555Z"
   },
   {
    "duration": 8,
    "start_time": "2023-11-13T22:41:43.147Z"
   },
   {
    "duration": 10,
    "start_time": "2023-11-13T22:42:01.115Z"
   },
   {
    "duration": 10,
    "start_time": "2023-11-13T22:42:12.307Z"
   },
   {
    "duration": 8,
    "start_time": "2023-11-13T22:43:31.724Z"
   },
   {
    "duration": 9,
    "start_time": "2023-11-13T22:43:42.706Z"
   },
   {
    "duration": 9,
    "start_time": "2023-11-13T22:44:32.834Z"
   },
   {
    "duration": 9,
    "start_time": "2023-11-13T22:44:41.092Z"
   },
   {
    "duration": 4,
    "start_time": "2023-11-13T22:45:28.855Z"
   },
   {
    "duration": 8,
    "start_time": "2023-11-13T22:45:34.072Z"
   },
   {
    "duration": 9,
    "start_time": "2023-11-13T22:46:05.388Z"
   },
   {
    "duration": 4,
    "start_time": "2023-11-13T22:46:51.451Z"
   },
   {
    "duration": 9,
    "start_time": "2023-11-13T22:47:07.624Z"
   },
   {
    "duration": 8,
    "start_time": "2023-11-13T22:47:46.903Z"
   },
   {
    "duration": 5,
    "start_time": "2023-11-13T22:48:19.843Z"
   },
   {
    "duration": 9,
    "start_time": "2023-11-13T22:48:32.125Z"
   },
   {
    "duration": 5,
    "start_time": "2023-11-13T22:49:11.670Z"
   },
   {
    "duration": 9,
    "start_time": "2023-11-13T22:49:19.300Z"
   },
   {
    "duration": 2112,
    "start_time": "2023-11-13T22:50:08.417Z"
   },
   {
    "duration": 14,
    "start_time": "2023-11-13T22:51:46.127Z"
   },
   {
    "duration": 11,
    "start_time": "2023-11-13T22:52:21.002Z"
   },
   {
    "duration": 11,
    "start_time": "2023-11-13T22:52:37.250Z"
   },
   {
    "duration": 10,
    "start_time": "2023-11-13T22:53:11.826Z"
   },
   {
    "duration": 101,
    "start_time": "2023-11-13T22:54:51.309Z"
   },
   {
    "duration": 11,
    "start_time": "2023-11-13T22:55:02.445Z"
   },
   {
    "duration": 12,
    "start_time": "2023-11-13T22:55:38.895Z"
   },
   {
    "duration": 1222,
    "start_time": "2023-11-14T00:11:50.283Z"
   },
   {
    "duration": 3,
    "start_time": "2023-11-14T00:11:51.507Z"
   },
   {
    "duration": 83,
    "start_time": "2023-11-14T00:11:51.511Z"
   },
   {
    "duration": 5,
    "start_time": "2023-11-14T00:11:51.595Z"
   },
   {
    "duration": 19,
    "start_time": "2023-11-14T00:11:51.602Z"
   },
   {
    "duration": 5,
    "start_time": "2023-11-14T00:11:51.623Z"
   },
   {
    "duration": 29,
    "start_time": "2023-11-14T00:11:51.629Z"
   },
   {
    "duration": 16,
    "start_time": "2023-11-14T00:11:51.660Z"
   },
   {
    "duration": 16,
    "start_time": "2023-11-14T00:11:51.678Z"
   },
   {
    "duration": 12,
    "start_time": "2023-11-14T00:11:51.696Z"
   },
   {
    "duration": 29,
    "start_time": "2023-11-14T00:11:51.710Z"
   },
   {
    "duration": 30,
    "start_time": "2023-11-14T00:11:51.741Z"
   },
   {
    "duration": 30,
    "start_time": "2023-11-14T00:11:51.773Z"
   },
   {
    "duration": 14,
    "start_time": "2023-11-14T00:11:51.807Z"
   },
   {
    "duration": 9,
    "start_time": "2023-11-14T00:11:51.823Z"
   },
   {
    "duration": 16,
    "start_time": "2023-11-14T00:11:51.836Z"
   },
   {
    "duration": 6,
    "start_time": "2023-11-14T00:11:51.854Z"
   },
   {
    "duration": 30,
    "start_time": "2023-11-14T00:11:51.861Z"
   },
   {
    "duration": 5,
    "start_time": "2023-11-14T00:11:51.893Z"
   },
   {
    "duration": 604,
    "start_time": "2023-11-14T00:11:51.900Z"
   },
   {
    "duration": 357,
    "start_time": "2023-11-14T00:11:52.506Z"
   },
   {
    "duration": 489,
    "start_time": "2023-11-14T00:11:52.864Z"
   },
   {
    "duration": 371,
    "start_time": "2023-11-14T00:11:53.355Z"
   },
   {
    "duration": 9,
    "start_time": "2023-11-14T00:11:53.728Z"
   },
   {
    "duration": 363,
    "start_time": "2023-11-14T00:11:53.739Z"
   },
   {
    "duration": 2165,
    "start_time": "2023-11-14T00:11:54.104Z"
   },
   {
    "duration": 4,
    "start_time": "2023-11-14T00:11:56.271Z"
   },
   {
    "duration": 1607,
    "start_time": "2023-11-14T00:11:56.277Z"
   },
   {
    "duration": 27,
    "start_time": "2023-11-14T00:11:57.886Z"
   },
   {
    "duration": 15,
    "start_time": "2023-11-14T00:11:57.914Z"
   },
   {
    "duration": 19,
    "start_time": "2023-11-14T00:11:57.935Z"
   },
   {
    "duration": 566,
    "start_time": "2023-11-14T00:11:57.955Z"
   },
   {
    "duration": 22,
    "start_time": "2023-11-14T00:11:58.522Z"
   },
   {
    "duration": 29,
    "start_time": "2023-11-14T00:11:58.546Z"
   },
   {
    "duration": 17,
    "start_time": "2023-11-14T00:11:58.576Z"
   },
   {
    "duration": 19,
    "start_time": "2023-11-14T00:11:58.595Z"
   },
   {
    "duration": 15,
    "start_time": "2023-11-14T00:11:58.615Z"
   },
   {
    "duration": 578,
    "start_time": "2023-11-14T00:11:58.632Z"
   },
   {
    "duration": 556,
    "start_time": "2023-11-14T00:11:59.211Z"
   },
   {
    "duration": 731,
    "start_time": "2023-11-14T00:11:59.768Z"
   },
   {
    "duration": 8,
    "start_time": "2023-11-14T00:12:00.503Z"
   },
   {
    "duration": 42,
    "start_time": "2023-11-14T00:12:00.513Z"
   },
   {
    "duration": 31,
    "start_time": "2023-11-14T00:12:00.556Z"
   },
   {
    "duration": 20,
    "start_time": "2023-11-14T00:12:00.588Z"
   },
   {
    "duration": 27,
    "start_time": "2023-11-14T00:12:00.609Z"
   },
   {
    "duration": 34,
    "start_time": "2023-11-14T00:12:00.638Z"
   },
   {
    "duration": 37,
    "start_time": "2023-11-14T00:12:00.674Z"
   },
   {
    "duration": 33,
    "start_time": "2023-11-14T00:12:00.713Z"
   },
   {
    "duration": 41,
    "start_time": "2023-11-14T00:12:00.748Z"
   },
   {
    "duration": 36,
    "start_time": "2023-11-14T00:12:00.791Z"
   },
   {
    "duration": 50,
    "start_time": "2023-11-14T00:12:00.828Z"
   },
   {
    "duration": 105,
    "start_time": "2023-11-14T00:12:00.879Z"
   },
   {
    "duration": 125,
    "start_time": "2023-11-14T00:12:00.985Z"
   },
   {
    "duration": 33,
    "start_time": "2023-11-14T00:12:01.111Z"
   },
   {
    "duration": 30,
    "start_time": "2023-11-14T00:12:01.146Z"
   },
   {
    "duration": 33,
    "start_time": "2023-11-14T00:12:01.177Z"
   },
   {
    "duration": 52,
    "start_time": "2023-11-14T00:12:35.189Z"
   },
   {
    "duration": 68,
    "start_time": "2023-11-14T00:13:00.041Z"
   },
   {
    "duration": 1253,
    "start_time": "2023-11-14T00:20:23.819Z"
   },
   {
    "duration": 2,
    "start_time": "2023-11-14T00:20:25.074Z"
   },
   {
    "duration": 105,
    "start_time": "2023-11-14T00:20:25.078Z"
   },
   {
    "duration": 6,
    "start_time": "2023-11-14T00:20:25.185Z"
   },
   {
    "duration": 14,
    "start_time": "2023-11-14T00:20:25.192Z"
   },
   {
    "duration": 5,
    "start_time": "2023-11-14T00:20:25.208Z"
   },
   {
    "duration": 32,
    "start_time": "2023-11-14T00:20:25.214Z"
   },
   {
    "duration": 19,
    "start_time": "2023-11-14T00:20:25.248Z"
   },
   {
    "duration": 8,
    "start_time": "2023-11-14T00:20:25.268Z"
   },
   {
    "duration": 27,
    "start_time": "2023-11-14T00:20:25.277Z"
   },
   {
    "duration": 32,
    "start_time": "2023-11-14T00:20:25.305Z"
   },
   {
    "duration": 13,
    "start_time": "2023-11-14T00:20:25.339Z"
   },
   {
    "duration": 39,
    "start_time": "2023-11-14T00:20:25.353Z"
   },
   {
    "duration": 13,
    "start_time": "2023-11-14T00:20:25.395Z"
   },
   {
    "duration": 10,
    "start_time": "2023-11-14T00:20:25.410Z"
   },
   {
    "duration": 23,
    "start_time": "2023-11-14T00:20:25.422Z"
   },
   {
    "duration": 10,
    "start_time": "2023-11-14T00:20:25.447Z"
   },
   {
    "duration": 30,
    "start_time": "2023-11-14T00:20:25.459Z"
   },
   {
    "duration": 4,
    "start_time": "2023-11-14T00:20:25.491Z"
   },
   {
    "duration": 608,
    "start_time": "2023-11-14T00:20:25.496Z"
   },
   {
    "duration": 363,
    "start_time": "2023-11-14T00:20:26.106Z"
   },
   {
    "duration": 476,
    "start_time": "2023-11-14T00:20:26.471Z"
   },
   {
    "duration": 355,
    "start_time": "2023-11-14T00:20:26.949Z"
   },
   {
    "duration": 7,
    "start_time": "2023-11-14T00:20:27.306Z"
   },
   {
    "duration": 371,
    "start_time": "2023-11-14T00:20:27.315Z"
   },
   {
    "duration": 2182,
    "start_time": "2023-11-14T00:20:27.687Z"
   },
   {
    "duration": 4,
    "start_time": "2023-11-14T00:20:29.871Z"
   },
   {
    "duration": 1580,
    "start_time": "2023-11-14T00:20:29.876Z"
   },
   {
    "duration": 24,
    "start_time": "2023-11-14T00:20:31.457Z"
   },
   {
    "duration": 75,
    "start_time": "2023-11-14T00:20:31.482Z"
   },
   {
    "duration": 81,
    "start_time": "2023-11-14T00:20:31.559Z"
   },
   {
    "duration": 588,
    "start_time": "2023-11-14T00:20:31.642Z"
   },
   {
    "duration": 16,
    "start_time": "2023-11-14T00:20:32.235Z"
   },
   {
    "duration": 330,
    "start_time": "2023-11-14T00:20:32.253Z"
   },
   {
    "duration": 174,
    "start_time": "2023-11-14T00:20:32.584Z"
   },
   {
    "duration": 33,
    "start_time": "2023-11-14T00:20:32.759Z"
   },
   {
    "duration": 29,
    "start_time": "2023-11-14T00:20:32.793Z"
   },
   {
    "duration": 612,
    "start_time": "2023-11-14T00:20:32.823Z"
   },
   {
    "duration": 554,
    "start_time": "2023-11-14T00:20:33.436Z"
   },
   {
    "duration": 712,
    "start_time": "2023-11-14T00:20:33.992Z"
   },
   {
    "duration": 9,
    "start_time": "2023-11-14T00:20:34.708Z"
   },
   {
    "duration": 18,
    "start_time": "2023-11-14T00:20:34.718Z"
   },
   {
    "duration": 24,
    "start_time": "2023-11-14T00:20:34.738Z"
   },
   {
    "duration": 29,
    "start_time": "2023-11-14T00:20:34.764Z"
   },
   {
    "duration": 9,
    "start_time": "2023-11-14T00:20:34.797Z"
   },
   {
    "duration": 22,
    "start_time": "2023-11-14T00:20:34.808Z"
   },
   {
    "duration": 41,
    "start_time": "2023-11-14T00:20:34.832Z"
   },
   {
    "duration": 21,
    "start_time": "2023-11-14T00:20:34.875Z"
   },
   {
    "duration": 23,
    "start_time": "2023-11-14T00:20:34.898Z"
   },
   {
    "duration": 25,
    "start_time": "2023-11-14T00:20:34.923Z"
   },
   {
    "duration": 16,
    "start_time": "2023-11-14T00:20:34.950Z"
   },
   {
    "duration": 41,
    "start_time": "2023-11-14T00:20:34.967Z"
   },
   {
    "duration": 25,
    "start_time": "2023-11-14T00:20:35.010Z"
   },
   {
    "duration": 18,
    "start_time": "2023-11-14T00:20:35.037Z"
   },
   {
    "duration": 36,
    "start_time": "2023-11-14T00:20:35.057Z"
   },
   {
    "duration": 27,
    "start_time": "2023-11-14T00:20:35.095Z"
   },
   {
    "duration": 1376,
    "start_time": "2023-11-16T17:50:42.860Z"
   },
   {
    "duration": 3,
    "start_time": "2023-11-16T17:50:44.238Z"
   },
   {
    "duration": 86,
    "start_time": "2023-11-16T17:50:44.242Z"
   },
   {
    "duration": 32,
    "start_time": "2023-11-16T17:50:44.330Z"
   },
   {
    "duration": 6,
    "start_time": "2023-11-16T17:50:44.364Z"
   },
   {
    "duration": 21,
    "start_time": "2023-11-16T17:50:44.372Z"
   },
   {
    "duration": 7,
    "start_time": "2023-11-16T17:50:44.395Z"
   },
   {
    "duration": 44,
    "start_time": "2023-11-16T17:50:44.404Z"
   },
   {
    "duration": 16,
    "start_time": "2023-11-16T17:50:44.451Z"
   },
   {
    "duration": 9,
    "start_time": "2023-11-16T17:50:44.469Z"
   },
   {
    "duration": 42,
    "start_time": "2023-11-16T17:50:44.479Z"
   },
   {
    "duration": 77,
    "start_time": "2023-11-16T17:50:44.523Z"
   },
   {
    "duration": 0,
    "start_time": "2023-11-16T17:50:44.602Z"
   },
   {
    "duration": 0,
    "start_time": "2023-11-16T17:50:44.603Z"
   },
   {
    "duration": 0,
    "start_time": "2023-11-16T17:50:44.604Z"
   },
   {
    "duration": 0,
    "start_time": "2023-11-16T17:50:44.605Z"
   },
   {
    "duration": 0,
    "start_time": "2023-11-16T17:50:44.606Z"
   },
   {
    "duration": 0,
    "start_time": "2023-11-16T17:50:44.608Z"
   },
   {
    "duration": 0,
    "start_time": "2023-11-16T17:50:44.609Z"
   },
   {
    "duration": 0,
    "start_time": "2023-11-16T17:50:44.609Z"
   },
   {
    "duration": 0,
    "start_time": "2023-11-16T17:50:44.612Z"
   },
   {
    "duration": 0,
    "start_time": "2023-11-16T17:50:44.614Z"
   },
   {
    "duration": 0,
    "start_time": "2023-11-16T17:50:44.615Z"
   },
   {
    "duration": 0,
    "start_time": "2023-11-16T17:50:44.616Z"
   },
   {
    "duration": 0,
    "start_time": "2023-11-16T17:50:44.618Z"
   },
   {
    "duration": 0,
    "start_time": "2023-11-16T17:50:44.619Z"
   },
   {
    "duration": 0,
    "start_time": "2023-11-16T17:50:44.620Z"
   },
   {
    "duration": 0,
    "start_time": "2023-11-16T17:50:44.621Z"
   },
   {
    "duration": 0,
    "start_time": "2023-11-16T17:50:44.623Z"
   },
   {
    "duration": 2412,
    "start_time": "2023-11-16T17:50:54.180Z"
   },
   {
    "duration": 3,
    "start_time": "2023-11-16T17:51:08.310Z"
   },
   {
    "duration": 14,
    "start_time": "2023-11-16T17:51:08.315Z"
   },
   {
    "duration": 91,
    "start_time": "2023-11-16T17:51:08.331Z"
   },
   {
    "duration": 29,
    "start_time": "2023-11-16T17:51:08.424Z"
   },
   {
    "duration": 7,
    "start_time": "2023-11-16T17:51:08.454Z"
   },
   {
    "duration": 22,
    "start_time": "2023-11-16T17:51:08.462Z"
   },
   {
    "duration": 15,
    "start_time": "2023-11-16T17:51:08.486Z"
   },
   {
    "duration": 28,
    "start_time": "2023-11-16T17:51:08.502Z"
   },
   {
    "duration": 16,
    "start_time": "2023-11-16T17:51:08.533Z"
   },
   {
    "duration": 23,
    "start_time": "2023-11-16T17:51:08.551Z"
   },
   {
    "duration": 19,
    "start_time": "2023-11-16T17:51:08.576Z"
   },
   {
    "duration": 92,
    "start_time": "2023-11-16T17:51:08.597Z"
   },
   {
    "duration": 0,
    "start_time": "2023-11-16T17:51:08.690Z"
   },
   {
    "duration": 0,
    "start_time": "2023-11-16T17:51:08.691Z"
   },
   {
    "duration": 0,
    "start_time": "2023-11-16T17:51:08.692Z"
   },
   {
    "duration": 0,
    "start_time": "2023-11-16T17:51:08.693Z"
   },
   {
    "duration": 0,
    "start_time": "2023-11-16T17:51:08.695Z"
   },
   {
    "duration": 0,
    "start_time": "2023-11-16T17:51:08.696Z"
   },
   {
    "duration": 0,
    "start_time": "2023-11-16T17:51:08.697Z"
   },
   {
    "duration": 0,
    "start_time": "2023-11-16T17:51:08.698Z"
   },
   {
    "duration": 0,
    "start_time": "2023-11-16T17:51:08.700Z"
   },
   {
    "duration": 0,
    "start_time": "2023-11-16T17:51:08.701Z"
   },
   {
    "duration": 0,
    "start_time": "2023-11-16T17:51:08.702Z"
   },
   {
    "duration": 0,
    "start_time": "2023-11-16T17:51:08.703Z"
   },
   {
    "duration": 0,
    "start_time": "2023-11-16T17:51:08.704Z"
   },
   {
    "duration": 0,
    "start_time": "2023-11-16T17:51:08.705Z"
   },
   {
    "duration": 0,
    "start_time": "2023-11-16T17:51:08.707Z"
   },
   {
    "duration": 0,
    "start_time": "2023-11-16T17:51:08.708Z"
   },
   {
    "duration": 0,
    "start_time": "2023-11-16T17:51:08.709Z"
   },
   {
    "duration": 2332,
    "start_time": "2023-11-16T17:51:13.953Z"
   },
   {
    "duration": 6,
    "start_time": "2023-11-16T17:51:25.129Z"
   },
   {
    "duration": 20,
    "start_time": "2023-11-16T17:51:29.897Z"
   },
   {
    "duration": 17,
    "start_time": "2023-11-16T17:51:33.077Z"
   },
   {
    "duration": 8,
    "start_time": "2023-11-16T17:51:36.432Z"
   },
   {
    "duration": 7,
    "start_time": "2023-11-16T17:51:42.600Z"
   },
   {
    "duration": 14,
    "start_time": "2023-11-16T17:51:53.612Z"
   },
   {
    "duration": 5,
    "start_time": "2023-11-16T17:52:05.209Z"
   },
   {
    "duration": 12,
    "start_time": "2023-11-16T17:52:05.216Z"
   },
   {
    "duration": 54,
    "start_time": "2023-11-16T17:52:05.230Z"
   },
   {
    "duration": 28,
    "start_time": "2023-11-16T17:52:05.286Z"
   },
   {
    "duration": 6,
    "start_time": "2023-11-16T17:52:05.316Z"
   },
   {
    "duration": 16,
    "start_time": "2023-11-16T17:52:05.330Z"
   },
   {
    "duration": 6,
    "start_time": "2023-11-16T17:52:05.349Z"
   },
   {
    "duration": 22,
    "start_time": "2023-11-16T17:52:05.357Z"
   },
   {
    "duration": 51,
    "start_time": "2023-11-16T17:52:05.381Z"
   },
   {
    "duration": 9,
    "start_time": "2023-11-16T17:52:05.435Z"
   },
   {
    "duration": 7,
    "start_time": "2023-11-16T17:52:05.446Z"
   },
   {
    "duration": 17,
    "start_time": "2023-11-16T17:52:05.454Z"
   },
   {
    "duration": 8,
    "start_time": "2023-11-16T17:52:05.472Z"
   },
   {
    "duration": 49,
    "start_time": "2023-11-16T17:52:05.482Z"
   },
   {
    "duration": 13,
    "start_time": "2023-11-16T17:52:05.533Z"
   },
   {
    "duration": 24,
    "start_time": "2023-11-16T17:52:05.548Z"
   },
   {
    "duration": 14,
    "start_time": "2023-11-16T17:52:05.575Z"
   },
   {
    "duration": 10,
    "start_time": "2023-11-16T17:52:05.591Z"
   },
   {
    "duration": 43,
    "start_time": "2023-11-16T17:52:05.602Z"
   },
   {
    "duration": 6,
    "start_time": "2023-11-16T17:52:05.647Z"
   },
   {
    "duration": 23,
    "start_time": "2023-11-16T17:52:05.655Z"
   },
   {
    "duration": 4,
    "start_time": "2023-11-16T17:52:05.680Z"
   },
   {
    "duration": 654,
    "start_time": "2023-11-16T17:52:05.686Z"
   },
   {
    "duration": 406,
    "start_time": "2023-11-16T17:52:06.342Z"
   },
   {
    "duration": 522,
    "start_time": "2023-11-16T17:52:06.751Z"
   },
   {
    "duration": 378,
    "start_time": "2023-11-16T17:52:07.275Z"
   },
   {
    "duration": 6,
    "start_time": "2023-11-16T17:52:07.655Z"
   },
   {
    "duration": 400,
    "start_time": "2023-11-16T17:52:07.663Z"
   },
   {
    "duration": 2367,
    "start_time": "2023-11-16T17:52:08.624Z"
   },
   {
    "duration": 5,
    "start_time": "2023-11-16T17:52:39.160Z"
   },
   {
    "duration": 6,
    "start_time": "2023-11-16T17:52:39.167Z"
   },
   {
    "duration": 45,
    "start_time": "2023-11-16T17:52:39.175Z"
   },
   {
    "duration": 26,
    "start_time": "2023-11-16T17:52:39.222Z"
   },
   {
    "duration": 6,
    "start_time": "2023-11-16T17:52:39.250Z"
   },
   {
    "duration": 14,
    "start_time": "2023-11-16T17:52:39.257Z"
   },
   {
    "duration": 5,
    "start_time": "2023-11-16T17:52:39.272Z"
   },
   {
    "duration": 25,
    "start_time": "2023-11-16T17:52:39.279Z"
   },
   {
    "duration": 39,
    "start_time": "2023-11-16T17:52:39.306Z"
   },
   {
    "duration": 9,
    "start_time": "2023-11-16T17:52:39.347Z"
   },
   {
    "duration": 11,
    "start_time": "2023-11-16T17:52:39.357Z"
   },
   {
    "duration": 16,
    "start_time": "2023-11-16T17:52:39.370Z"
   },
   {
    "duration": 9,
    "start_time": "2023-11-16T17:52:39.387Z"
   },
   {
    "duration": 48,
    "start_time": "2023-11-16T17:52:39.397Z"
   },
   {
    "duration": 12,
    "start_time": "2023-11-16T17:52:39.447Z"
   },
   {
    "duration": 22,
    "start_time": "2023-11-16T17:52:39.461Z"
   },
   {
    "duration": 14,
    "start_time": "2023-11-16T17:52:39.484Z"
   },
   {
    "duration": 12,
    "start_time": "2023-11-16T17:52:39.530Z"
   },
   {
    "duration": 14,
    "start_time": "2023-11-16T17:52:39.544Z"
   },
   {
    "duration": 7,
    "start_time": "2023-11-16T17:52:39.559Z"
   },
   {
    "duration": 20,
    "start_time": "2023-11-16T17:52:39.567Z"
   },
   {
    "duration": 4,
    "start_time": "2023-11-16T17:52:39.589Z"
   },
   {
    "duration": 543,
    "start_time": "2023-11-16T17:52:39.630Z"
   },
   {
    "duration": 346,
    "start_time": "2023-11-16T17:52:40.176Z"
   },
   {
    "duration": 395,
    "start_time": "2023-11-16T17:52:40.530Z"
   },
   {
    "duration": 459,
    "start_time": "2023-11-16T17:52:40.930Z"
   },
   {
    "duration": 7,
    "start_time": "2023-11-16T17:52:41.391Z"
   },
   {
    "duration": 427,
    "start_time": "2023-11-16T17:52:41.399Z"
   },
   {
    "duration": 2204,
    "start_time": "2023-11-16T17:52:41.828Z"
   },
   {
    "duration": 4,
    "start_time": "2023-11-16T17:52:44.034Z"
   },
   {
    "duration": 1683,
    "start_time": "2023-11-16T17:52:47.333Z"
   },
   {
    "duration": 613,
    "start_time": "2023-11-16T17:53:47.618Z"
   },
   {
    "duration": 124,
    "start_time": "2023-11-16T17:54:18.968Z"
   },
   {
    "duration": 4,
    "start_time": "2023-11-16T17:54:22.525Z"
   },
   {
    "duration": 5,
    "start_time": "2023-11-16T17:54:22.532Z"
   },
   {
    "duration": 44,
    "start_time": "2023-11-16T17:54:22.539Z"
   },
   {
    "duration": 30,
    "start_time": "2023-11-16T17:54:22.585Z"
   },
   {
    "duration": 18,
    "start_time": "2023-11-16T17:54:22.617Z"
   },
   {
    "duration": 12,
    "start_time": "2023-11-16T17:54:22.638Z"
   },
   {
    "duration": 7,
    "start_time": "2023-11-16T17:54:22.652Z"
   },
   {
    "duration": 25,
    "start_time": "2023-11-16T17:54:22.663Z"
   },
   {
    "duration": 23,
    "start_time": "2023-11-16T17:54:22.731Z"
   },
   {
    "duration": 11,
    "start_time": "2023-11-16T17:54:22.756Z"
   },
   {
    "duration": 11,
    "start_time": "2023-11-16T17:54:22.769Z"
   },
   {
    "duration": 15,
    "start_time": "2023-11-16T17:54:22.782Z"
   },
   {
    "duration": 8,
    "start_time": "2023-11-16T17:54:22.830Z"
   },
   {
    "duration": 15,
    "start_time": "2023-11-16T17:54:22.839Z"
   },
   {
    "duration": 12,
    "start_time": "2023-11-16T17:54:22.855Z"
   },
   {
    "duration": 27,
    "start_time": "2023-11-16T17:54:22.868Z"
   },
   {
    "duration": 44,
    "start_time": "2023-11-16T17:54:22.896Z"
   },
   {
    "duration": 9,
    "start_time": "2023-11-16T17:54:22.942Z"
   },
   {
    "duration": 18,
    "start_time": "2023-11-16T17:54:22.953Z"
   },
   {
    "duration": 6,
    "start_time": "2023-11-16T17:54:22.972Z"
   },
   {
    "duration": 52,
    "start_time": "2023-11-16T17:54:22.980Z"
   },
   {
    "duration": 4,
    "start_time": "2023-11-16T17:54:23.034Z"
   },
   {
    "duration": 677,
    "start_time": "2023-11-16T17:54:23.040Z"
   },
   {
    "duration": 379,
    "start_time": "2023-11-16T17:54:23.730Z"
   },
   {
    "duration": 549,
    "start_time": "2023-11-16T17:54:24.112Z"
   },
   {
    "duration": 371,
    "start_time": "2023-11-16T17:54:24.663Z"
   },
   {
    "duration": 8,
    "start_time": "2023-11-16T17:54:25.036Z"
   },
   {
    "duration": 384,
    "start_time": "2023-11-16T17:54:25.046Z"
   },
   {
    "duration": 2446,
    "start_time": "2023-11-16T17:54:25.432Z"
   },
   {
    "duration": 4,
    "start_time": "2023-11-16T17:54:27.880Z"
   },
   {
    "duration": 1564,
    "start_time": "2023-11-16T17:54:27.885Z"
   },
   {
    "duration": 24,
    "start_time": "2023-11-16T17:54:29.450Z"
   },
   {
    "duration": 13,
    "start_time": "2023-11-16T17:54:29.476Z"
   },
   {
    "duration": 9,
    "start_time": "2023-11-16T17:54:29.491Z"
   },
   {
    "duration": 551,
    "start_time": "2023-11-16T17:54:29.502Z"
   },
   {
    "duration": 17,
    "start_time": "2023-11-16T17:54:30.054Z"
   },
   {
    "duration": 58,
    "start_time": "2023-11-16T17:54:30.073Z"
   },
   {
    "duration": 24,
    "start_time": "2023-11-16T17:54:30.133Z"
   },
   {
    "duration": 22,
    "start_time": "2023-11-16T17:54:30.159Z"
   },
   {
    "duration": 35,
    "start_time": "2023-11-16T17:54:30.183Z"
   },
   {
    "duration": 395,
    "start_time": "2023-11-16T17:54:34.977Z"
   },
   {
    "duration": 3,
    "start_time": "2023-11-16T17:54:49.732Z"
   },
   {
    "duration": 9,
    "start_time": "2023-11-16T17:54:49.737Z"
   },
   {
    "duration": 49,
    "start_time": "2023-11-16T17:54:49.747Z"
   },
   {
    "duration": 26,
    "start_time": "2023-11-16T17:54:49.799Z"
   },
   {
    "duration": 7,
    "start_time": "2023-11-16T17:54:49.827Z"
   },
   {
    "duration": 13,
    "start_time": "2023-11-16T17:54:49.835Z"
   },
   {
    "duration": 5,
    "start_time": "2023-11-16T17:54:49.850Z"
   },
   {
    "duration": 21,
    "start_time": "2023-11-16T17:54:49.857Z"
   },
   {
    "duration": 57,
    "start_time": "2023-11-16T17:54:49.880Z"
   },
   {
    "duration": 7,
    "start_time": "2023-11-16T17:54:49.939Z"
   },
   {
    "duration": 7,
    "start_time": "2023-11-16T17:54:49.948Z"
   },
   {
    "duration": 14,
    "start_time": "2023-11-16T17:54:49.956Z"
   },
   {
    "duration": 21,
    "start_time": "2023-11-16T17:54:49.972Z"
   },
   {
    "duration": 17,
    "start_time": "2023-11-16T17:54:49.995Z"
   },
   {
    "duration": 28,
    "start_time": "2023-11-16T17:54:50.013Z"
   },
   {
    "duration": 28,
    "start_time": "2023-11-16T17:54:50.043Z"
   },
   {
    "duration": 17,
    "start_time": "2023-11-16T17:54:50.073Z"
   },
   {
    "duration": 13,
    "start_time": "2023-11-16T17:54:50.092Z"
   },
   {
    "duration": 16,
    "start_time": "2023-11-16T17:54:50.131Z"
   },
   {
    "duration": 6,
    "start_time": "2023-11-16T17:54:50.149Z"
   },
   {
    "duration": 22,
    "start_time": "2023-11-16T17:54:50.157Z"
   },
   {
    "duration": 4,
    "start_time": "2023-11-16T17:54:50.181Z"
   },
   {
    "duration": 731,
    "start_time": "2023-11-16T17:54:50.187Z"
   },
   {
    "duration": 412,
    "start_time": "2023-11-16T17:54:50.921Z"
   },
   {
    "duration": 432,
    "start_time": "2023-11-16T17:54:51.335Z"
   },
   {
    "duration": 370,
    "start_time": "2023-11-16T17:54:51.768Z"
   },
   {
    "duration": 7,
    "start_time": "2023-11-16T17:54:52.139Z"
   },
   {
    "duration": 463,
    "start_time": "2023-11-16T17:54:52.147Z"
   },
   {
    "duration": 2263,
    "start_time": "2023-11-16T17:54:52.612Z"
   },
   {
    "duration": 4,
    "start_time": "2023-11-16T17:54:54.877Z"
   },
   {
    "duration": 1511,
    "start_time": "2023-11-16T17:54:54.882Z"
   },
   {
    "duration": 22,
    "start_time": "2023-11-16T17:54:56.394Z"
   },
   {
    "duration": 13,
    "start_time": "2023-11-16T17:54:56.430Z"
   },
   {
    "duration": 10,
    "start_time": "2023-11-16T17:54:56.445Z"
   },
   {
    "duration": 606,
    "start_time": "2023-11-16T17:54:56.456Z"
   },
   {
    "duration": 17,
    "start_time": "2023-11-16T17:54:57.063Z"
   },
   {
    "duration": 15,
    "start_time": "2023-11-16T17:54:57.081Z"
   },
   {
    "duration": 5,
    "start_time": "2023-11-16T17:54:57.097Z"
   },
   {
    "duration": 30,
    "start_time": "2023-11-16T17:54:57.104Z"
   },
   {
    "duration": 6,
    "start_time": "2023-11-16T17:54:57.136Z"
   },
   {
    "duration": 405,
    "start_time": "2023-11-16T17:54:57.144Z"
   },
   {
    "duration": 612,
    "start_time": "2023-11-16T17:54:57.551Z"
   },
   {
    "duration": 742,
    "start_time": "2023-11-16T17:54:58.165Z"
   },
   {
    "duration": 10,
    "start_time": "2023-11-16T17:55:08.644Z"
   },
   {
    "duration": 733,
    "start_time": "2023-11-16T17:55:13.982Z"
   },
   {
    "duration": 10,
    "start_time": "2023-11-16T17:55:18.515Z"
   },
   {
    "duration": 5,
    "start_time": "2023-11-16T17:55:22.181Z"
   },
   {
    "duration": 1279,
    "start_time": "2023-11-16T17:56:11.205Z"
   },
   {
    "duration": 3,
    "start_time": "2023-11-16T17:56:12.486Z"
   },
   {
    "duration": 42,
    "start_time": "2023-11-16T17:56:12.491Z"
   },
   {
    "duration": 29,
    "start_time": "2023-11-16T17:56:12.535Z"
   },
   {
    "duration": 6,
    "start_time": "2023-11-16T17:56:12.565Z"
   },
   {
    "duration": 12,
    "start_time": "2023-11-16T17:56:12.572Z"
   },
   {
    "duration": 4,
    "start_time": "2023-11-16T17:56:12.586Z"
   },
   {
    "duration": 44,
    "start_time": "2023-11-16T17:56:12.592Z"
   },
   {
    "duration": 17,
    "start_time": "2023-11-16T17:56:12.637Z"
   },
   {
    "duration": 10,
    "start_time": "2023-11-16T17:56:12.656Z"
   },
   {
    "duration": 7,
    "start_time": "2023-11-16T17:56:12.667Z"
   },
   {
    "duration": 13,
    "start_time": "2023-11-16T17:56:12.676Z"
   },
   {
    "duration": 41,
    "start_time": "2023-11-16T17:56:12.691Z"
   },
   {
    "duration": 15,
    "start_time": "2023-11-16T17:56:12.734Z"
   },
   {
    "duration": 11,
    "start_time": "2023-11-16T17:56:12.751Z"
   },
   {
    "duration": 27,
    "start_time": "2023-11-16T17:56:12.763Z"
   },
   {
    "duration": 45,
    "start_time": "2023-11-16T17:56:12.792Z"
   },
   {
    "duration": 9,
    "start_time": "2023-11-16T17:56:12.838Z"
   },
   {
    "duration": 13,
    "start_time": "2023-11-16T17:56:12.848Z"
   },
   {
    "duration": 6,
    "start_time": "2023-11-16T17:56:12.862Z"
   },
   {
    "duration": 22,
    "start_time": "2023-11-16T17:56:12.870Z"
   },
   {
    "duration": 38,
    "start_time": "2023-11-16T17:56:12.894Z"
   },
   {
    "duration": 587,
    "start_time": "2023-11-16T17:56:12.934Z"
   },
   {
    "duration": 372,
    "start_time": "2023-11-16T17:56:13.531Z"
   },
   {
    "duration": 509,
    "start_time": "2023-11-16T17:56:13.904Z"
   },
   {
    "duration": 361,
    "start_time": "2023-11-16T17:56:14.416Z"
   },
   {
    "duration": 7,
    "start_time": "2023-11-16T17:56:14.779Z"
   },
   {
    "duration": 395,
    "start_time": "2023-11-16T17:56:14.790Z"
   },
   {
    "duration": 2202,
    "start_time": "2023-11-16T17:56:15.187Z"
   },
   {
    "duration": 5,
    "start_time": "2023-11-16T17:56:17.390Z"
   },
   {
    "duration": 1636,
    "start_time": "2023-11-16T17:56:17.396Z"
   },
   {
    "duration": 24,
    "start_time": "2023-11-16T17:56:19.033Z"
   },
   {
    "duration": 13,
    "start_time": "2023-11-16T17:56:19.058Z"
   },
   {
    "duration": 9,
    "start_time": "2023-11-16T17:56:19.073Z"
   },
   {
    "duration": 543,
    "start_time": "2023-11-16T17:56:19.084Z"
   },
   {
    "duration": 16,
    "start_time": "2023-11-16T17:56:19.630Z"
   },
   {
    "duration": 16,
    "start_time": "2023-11-16T17:56:19.648Z"
   },
   {
    "duration": 6,
    "start_time": "2023-11-16T17:56:19.665Z"
   },
   {
    "duration": 9,
    "start_time": "2023-11-16T17:56:19.673Z"
   },
   {
    "duration": 6,
    "start_time": "2023-11-16T17:56:19.683Z"
   },
   {
    "duration": 426,
    "start_time": "2023-11-16T17:56:19.691Z"
   },
   {
    "duration": 557,
    "start_time": "2023-11-16T17:56:20.119Z"
   },
   {
    "duration": 747,
    "start_time": "2023-11-16T17:56:20.678Z"
   },
   {
    "duration": 8,
    "start_time": "2023-11-16T17:56:21.430Z"
   },
   {
    "duration": 33,
    "start_time": "2023-11-16T17:56:21.439Z"
   },
   {
    "duration": 43,
    "start_time": "2023-11-16T17:56:21.474Z"
   },
   {
    "duration": 26,
    "start_time": "2023-11-16T17:56:21.519Z"
   },
   {
    "duration": 31,
    "start_time": "2023-11-16T17:56:21.547Z"
   },
   {
    "duration": 33,
    "start_time": "2023-11-16T17:56:21.579Z"
   },
   {
    "duration": 24,
    "start_time": "2023-11-16T17:56:21.614Z"
   },
   {
    "duration": 35,
    "start_time": "2023-11-16T17:56:21.639Z"
   },
   {
    "duration": 22,
    "start_time": "2023-11-16T17:56:21.675Z"
   },
   {
    "duration": 24,
    "start_time": "2023-11-16T17:56:21.699Z"
   },
   {
    "duration": 14,
    "start_time": "2023-11-16T17:56:21.725Z"
   },
   {
    "duration": 40,
    "start_time": "2023-11-16T17:56:21.740Z"
   },
   {
    "duration": 31,
    "start_time": "2023-11-16T17:56:21.782Z"
   },
   {
    "duration": 19,
    "start_time": "2023-11-16T17:56:21.814Z"
   },
   {
    "duration": 23,
    "start_time": "2023-11-16T17:56:21.835Z"
   },
   {
    "duration": 25,
    "start_time": "2023-11-16T17:56:21.860Z"
   }
  ],
  "kernelspec": {
   "display_name": "Python 3 (ipykernel)",
   "language": "python",
   "name": "python3"
  },
  "language_info": {
   "codemirror_mode": {
    "name": "ipython",
    "version": 3
   },
   "file_extension": ".py",
   "mimetype": "text/x-python",
   "name": "python",
   "nbconvert_exporter": "python",
   "pygments_lexer": "ipython3",
   "version": "3.10.9"
  },
  "toc": {
   "base_numbering": 1,
   "nav_menu": {},
   "number_sections": true,
   "sideBar": true,
   "skip_h1_title": true,
   "title_cell": "Table of Contents",
   "title_sidebar": "Contents",
   "toc_cell": false,
   "toc_position": {
    "height": "calc(100% - 180px)",
    "left": "10px",
    "top": "150px",
    "width": "182.188px"
   },
   "toc_section_display": true,
   "toc_window_display": true
  }
 },
 "nbformat": 4,
 "nbformat_minor": 2
}
