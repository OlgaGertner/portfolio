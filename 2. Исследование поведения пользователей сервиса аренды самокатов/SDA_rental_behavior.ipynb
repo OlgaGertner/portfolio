{
 "cells": [
  {
   "cell_type": "markdown",
   "id": "763ae4b7",
   "metadata": {},
   "source": [
    "## Проект \"Статистический анализ данных сервиса аренды самокатов GoFast\"\n",
    "\n",
    "**Цель проекта** – исследовательский анализ и проверка гипотез, которые могут помочь бизнесу вырасти. \n",
    "\n",
    "**Задачи проекта**:\n",
    "- обработка и консолидация данных;\n",
    "- исследовательский анализ: поиск зависимостей и расчет показателей;\n",
    "- проверка гипотез.\n",
    "\n",
    "**Входные данные** — на входе были получены данные мобильного приложения GoFast - сервиса аренды самокатов, данные размещены в 3-х базах _.csv (информация о пользователях, о поездках, о подписках).\n",
    "\n",
    "В процессе работы над проектом будут реализованы следующие **шаги:**\n",
    "1. загрузка и знакомство с данными\n",
    "2. предобработка данных\n",
    "  - поиск и обработка пропусков и дубликатов\n",
    "  - изменение типов данных\n",
    "  - группировка данных\n",
    "3. исследовательский анализ данных - определение соотношений и долей по разным параметрам\n",
    "  - данных о пользователях\n",
    "  - данных о поездках (средние значения параметров и диапазоны)\n",
    "  - доли пользователей с подпиской и без\n",
    "4. создание единого датафрейма (объединение данных)\n",
    "5. расчет экономических показателей (выручка)\n",
    "6. формулирование и проверка гипотез - необходимо проверить гипотезы перед проведением акций отделом продаж  "
   ]
  },
  {
   "cell_type": "code",
   "execution_count": 1,
   "id": "72576667",
   "metadata": {},
   "outputs": [],
   "source": [
    "import pandas as pd\n",
    "\n",
    "import matplotlib.pyplot as plt\n",
    "\n",
    "from scipy import stats as st"
   ]
  },
  {
   "cell_type": "markdown",
   "id": "c42cbe00",
   "metadata": {},
   "source": [
    "### Загрузка данных"
   ]
  },
  {
   "cell_type": "code",
   "execution_count": 2,
   "id": "eff9f206",
   "metadata": {},
   "outputs": [],
   "source": [
    "#загружаем данные\n",
    "\n",
    "data_users = pd.read_csv('users_go.csv')\n",
    "data_rides = pd.read_csv('rides_go.csv')\n",
    "data_subs = pd.read_csv('subscriptions_go.csv')"
   ]
  },
  {
   "cell_type": "code",
   "execution_count": 3,
   "id": "c99c0cef",
   "metadata": {
    "scrolled": true
   },
   "outputs": [
    {
     "data": {
      "text/html": [
       "<div>\n",
       "<style scoped>\n",
       "    .dataframe tbody tr th:only-of-type {\n",
       "        vertical-align: middle;\n",
       "    }\n",
       "\n",
       "    .dataframe tbody tr th {\n",
       "        vertical-align: top;\n",
       "    }\n",
       "\n",
       "    .dataframe thead th {\n",
       "        text-align: right;\n",
       "    }\n",
       "</style>\n",
       "<table border=\"1\" class=\"dataframe\">\n",
       "  <thead>\n",
       "    <tr style=\"text-align: right;\">\n",
       "      <th></th>\n",
       "      <th>user_id</th>\n",
       "      <th>name</th>\n",
       "      <th>age</th>\n",
       "      <th>city</th>\n",
       "      <th>subscription_type</th>\n",
       "    </tr>\n",
       "  </thead>\n",
       "  <tbody>\n",
       "    <tr>\n",
       "      <th>0</th>\n",
       "      <td>1</td>\n",
       "      <td>Кира</td>\n",
       "      <td>22</td>\n",
       "      <td>Тюмень</td>\n",
       "      <td>ultra</td>\n",
       "    </tr>\n",
       "    <tr>\n",
       "      <th>1</th>\n",
       "      <td>2</td>\n",
       "      <td>Станислав</td>\n",
       "      <td>31</td>\n",
       "      <td>Омск</td>\n",
       "      <td>ultra</td>\n",
       "    </tr>\n",
       "    <tr>\n",
       "      <th>2</th>\n",
       "      <td>3</td>\n",
       "      <td>Алексей</td>\n",
       "      <td>20</td>\n",
       "      <td>Москва</td>\n",
       "      <td>ultra</td>\n",
       "    </tr>\n",
       "    <tr>\n",
       "      <th>3</th>\n",
       "      <td>4</td>\n",
       "      <td>Константин</td>\n",
       "      <td>26</td>\n",
       "      <td>Ростов-на-Дону</td>\n",
       "      <td>ultra</td>\n",
       "    </tr>\n",
       "    <tr>\n",
       "      <th>4</th>\n",
       "      <td>5</td>\n",
       "      <td>Адель</td>\n",
       "      <td>28</td>\n",
       "      <td>Омск</td>\n",
       "      <td>ultra</td>\n",
       "    </tr>\n",
       "    <tr>\n",
       "      <th>5</th>\n",
       "      <td>6</td>\n",
       "      <td>Регина</td>\n",
       "      <td>25</td>\n",
       "      <td>Краснодар</td>\n",
       "      <td>ultra</td>\n",
       "    </tr>\n",
       "    <tr>\n",
       "      <th>6</th>\n",
       "      <td>7</td>\n",
       "      <td>Игорь</td>\n",
       "      <td>23</td>\n",
       "      <td>Омск</td>\n",
       "      <td>ultra</td>\n",
       "    </tr>\n",
       "    <tr>\n",
       "      <th>7</th>\n",
       "      <td>8</td>\n",
       "      <td>Юрий</td>\n",
       "      <td>23</td>\n",
       "      <td>Краснодар</td>\n",
       "      <td>ultra</td>\n",
       "    </tr>\n",
       "    <tr>\n",
       "      <th>8</th>\n",
       "      <td>9</td>\n",
       "      <td>Ян</td>\n",
       "      <td>21</td>\n",
       "      <td>Пятигорск</td>\n",
       "      <td>ultra</td>\n",
       "    </tr>\n",
       "    <tr>\n",
       "      <th>9</th>\n",
       "      <td>10</td>\n",
       "      <td>Валерий</td>\n",
       "      <td>18</td>\n",
       "      <td>Екатеринбург</td>\n",
       "      <td>ultra</td>\n",
       "    </tr>\n",
       "  </tbody>\n",
       "</table>\n",
       "</div>"
      ],
      "text/plain": [
       "   user_id        name  age            city subscription_type\n",
       "0        1        Кира   22          Тюмень             ultra\n",
       "1        2   Станислав   31            Омск             ultra\n",
       "2        3     Алексей   20          Москва             ultra\n",
       "3        4  Константин   26  Ростов-на-Дону             ultra\n",
       "4        5       Адель   28            Омск             ultra\n",
       "5        6      Регина   25       Краснодар             ultra\n",
       "6        7       Игорь   23            Омск             ultra\n",
       "7        8        Юрий   23       Краснодар             ultra\n",
       "8        9          Ян   21       Пятигорск             ultra\n",
       "9       10     Валерий   18    Екатеринбург             ultra"
      ]
     },
     "metadata": {},
     "output_type": "display_data"
    },
    {
     "data": {
      "text/html": [
       "<div>\n",
       "<style scoped>\n",
       "    .dataframe tbody tr th:only-of-type {\n",
       "        vertical-align: middle;\n",
       "    }\n",
       "\n",
       "    .dataframe tbody tr th {\n",
       "        vertical-align: top;\n",
       "    }\n",
       "\n",
       "    .dataframe thead th {\n",
       "        text-align: right;\n",
       "    }\n",
       "</style>\n",
       "<table border=\"1\" class=\"dataframe\">\n",
       "  <thead>\n",
       "    <tr style=\"text-align: right;\">\n",
       "      <th></th>\n",
       "      <th>user_id</th>\n",
       "      <th>distance</th>\n",
       "      <th>duration</th>\n",
       "      <th>date</th>\n",
       "    </tr>\n",
       "  </thead>\n",
       "  <tbody>\n",
       "    <tr>\n",
       "      <th>0</th>\n",
       "      <td>1</td>\n",
       "      <td>4409.919140</td>\n",
       "      <td>25.599769</td>\n",
       "      <td>2021-01-01</td>\n",
       "    </tr>\n",
       "    <tr>\n",
       "      <th>1</th>\n",
       "      <td>1</td>\n",
       "      <td>2617.592153</td>\n",
       "      <td>15.816871</td>\n",
       "      <td>2021-01-18</td>\n",
       "    </tr>\n",
       "    <tr>\n",
       "      <th>2</th>\n",
       "      <td>1</td>\n",
       "      <td>754.159807</td>\n",
       "      <td>6.232113</td>\n",
       "      <td>2021-04-20</td>\n",
       "    </tr>\n",
       "    <tr>\n",
       "      <th>3</th>\n",
       "      <td>1</td>\n",
       "      <td>2694.783254</td>\n",
       "      <td>18.511000</td>\n",
       "      <td>2021-08-11</td>\n",
       "    </tr>\n",
       "    <tr>\n",
       "      <th>4</th>\n",
       "      <td>1</td>\n",
       "      <td>4028.687306</td>\n",
       "      <td>26.265803</td>\n",
       "      <td>2021-08-28</td>\n",
       "    </tr>\n",
       "    <tr>\n",
       "      <th>5</th>\n",
       "      <td>1</td>\n",
       "      <td>2770.890808</td>\n",
       "      <td>16.650138</td>\n",
       "      <td>2021-10-09</td>\n",
       "    </tr>\n",
       "    <tr>\n",
       "      <th>6</th>\n",
       "      <td>1</td>\n",
       "      <td>3039.020292</td>\n",
       "      <td>14.927879</td>\n",
       "      <td>2021-10-19</td>\n",
       "    </tr>\n",
       "    <tr>\n",
       "      <th>7</th>\n",
       "      <td>1</td>\n",
       "      <td>2842.118050</td>\n",
       "      <td>23.117468</td>\n",
       "      <td>2021-11-06</td>\n",
       "    </tr>\n",
       "    <tr>\n",
       "      <th>8</th>\n",
       "      <td>1</td>\n",
       "      <td>3412.690668</td>\n",
       "      <td>15.238072</td>\n",
       "      <td>2021-11-14</td>\n",
       "    </tr>\n",
       "    <tr>\n",
       "      <th>9</th>\n",
       "      <td>1</td>\n",
       "      <td>748.690645</td>\n",
       "      <td>15.041884</td>\n",
       "      <td>2021-11-22</td>\n",
       "    </tr>\n",
       "  </tbody>\n",
       "</table>\n",
       "</div>"
      ],
      "text/plain": [
       "   user_id     distance   duration        date\n",
       "0        1  4409.919140  25.599769  2021-01-01\n",
       "1        1  2617.592153  15.816871  2021-01-18\n",
       "2        1   754.159807   6.232113  2021-04-20\n",
       "3        1  2694.783254  18.511000  2021-08-11\n",
       "4        1  4028.687306  26.265803  2021-08-28\n",
       "5        1  2770.890808  16.650138  2021-10-09\n",
       "6        1  3039.020292  14.927879  2021-10-19\n",
       "7        1  2842.118050  23.117468  2021-11-06\n",
       "8        1  3412.690668  15.238072  2021-11-14\n",
       "9        1   748.690645  15.041884  2021-11-22"
      ]
     },
     "metadata": {},
     "output_type": "display_data"
    },
    {
     "data": {
      "text/html": [
       "<div>\n",
       "<style scoped>\n",
       "    .dataframe tbody tr th:only-of-type {\n",
       "        vertical-align: middle;\n",
       "    }\n",
       "\n",
       "    .dataframe tbody tr th {\n",
       "        vertical-align: top;\n",
       "    }\n",
       "\n",
       "    .dataframe thead th {\n",
       "        text-align: right;\n",
       "    }\n",
       "</style>\n",
       "<table border=\"1\" class=\"dataframe\">\n",
       "  <thead>\n",
       "    <tr style=\"text-align: right;\">\n",
       "      <th></th>\n",
       "      <th>subscription_type</th>\n",
       "      <th>minute_price</th>\n",
       "      <th>start_ride_price</th>\n",
       "      <th>subscription_fee</th>\n",
       "    </tr>\n",
       "  </thead>\n",
       "  <tbody>\n",
       "    <tr>\n",
       "      <th>0</th>\n",
       "      <td>free</td>\n",
       "      <td>8</td>\n",
       "      <td>50</td>\n",
       "      <td>0</td>\n",
       "    </tr>\n",
       "    <tr>\n",
       "      <th>1</th>\n",
       "      <td>ultra</td>\n",
       "      <td>6</td>\n",
       "      <td>0</td>\n",
       "      <td>199</td>\n",
       "    </tr>\n",
       "  </tbody>\n",
       "</table>\n",
       "</div>"
      ],
      "text/plain": [
       "  subscription_type  minute_price  start_ride_price  subscription_fee\n",
       "0              free             8                50                 0\n",
       "1             ultra             6                 0               199"
      ]
     },
     "execution_count": 3,
     "metadata": {},
     "output_type": "execute_result"
    }
   ],
   "source": [
    "#посмотрим как выглядят таблицы\n",
    "\n",
    "display(data_users.head(10))\n",
    "display(data_rides.head(10))\n",
    "data_subs.head(10)"
   ]
  },
  {
   "cell_type": "markdown",
   "id": "ca411daa",
   "metadata": {},
   "source": [
    "Из таблиц видно, что наименование столбцов понятно и не требует изменений, таблицы можно объединить, так как есть одинаковые столбцы. Таблица №3 имеет всего 2 строки, является информативной и будет использована в дальнейшем для расчетов. Представлены разные типы данных, которые нужно проверить. Нет пропусков в первых строках, но это также требует проверки."
   ]
  },
  {
   "cell_type": "code",
   "execution_count": 4,
   "id": "ee45a8d2",
   "metadata": {
    "scrolled": true
   },
   "outputs": [
    {
     "name": "stdout",
     "output_type": "stream",
     "text": [
      "<class 'pandas.core.frame.DataFrame'>\n",
      "RangeIndex: 1565 entries, 0 to 1564\n",
      "Data columns (total 5 columns):\n",
      " #   Column             Non-Null Count  Dtype \n",
      "---  ------             --------------  ----- \n",
      " 0   user_id            1565 non-null   int64 \n",
      " 1   name               1565 non-null   object\n",
      " 2   age                1565 non-null   int64 \n",
      " 3   city               1565 non-null   object\n",
      " 4   subscription_type  1565 non-null   object\n",
      "dtypes: int64(2), object(3)\n",
      "memory usage: 61.3+ KB\n"
     ]
    },
    {
     "data": {
      "text/plain": [
       "None"
      ]
     },
     "metadata": {},
     "output_type": "display_data"
    },
    {
     "name": "stdout",
     "output_type": "stream",
     "text": [
      "<class 'pandas.core.frame.DataFrame'>\n",
      "RangeIndex: 18068 entries, 0 to 18067\n",
      "Data columns (total 4 columns):\n",
      " #   Column    Non-Null Count  Dtype  \n",
      "---  ------    --------------  -----  \n",
      " 0   user_id   18068 non-null  int64  \n",
      " 1   distance  18068 non-null  float64\n",
      " 2   duration  18068 non-null  float64\n",
      " 3   date      18068 non-null  object \n",
      "dtypes: float64(2), int64(1), object(1)\n",
      "memory usage: 564.8+ KB\n"
     ]
    },
    {
     "data": {
      "text/plain": [
       "None"
      ]
     },
     "metadata": {},
     "output_type": "display_data"
    },
    {
     "name": "stdout",
     "output_type": "stream",
     "text": [
      "<class 'pandas.core.frame.DataFrame'>\n",
      "RangeIndex: 2 entries, 0 to 1\n",
      "Data columns (total 4 columns):\n",
      " #   Column             Non-Null Count  Dtype \n",
      "---  ------             --------------  ----- \n",
      " 0   subscription_type  2 non-null      object\n",
      " 1   minute_price       2 non-null      int64 \n",
      " 2   start_ride_price   2 non-null      int64 \n",
      " 3   subscription_fee   2 non-null      int64 \n",
      "dtypes: int64(3), object(1)\n",
      "memory usage: 192.0+ bytes\n"
     ]
    }
   ],
   "source": [
    "# также посмотрим общую информацию по таблицам\n",
    "\n",
    "display(data_users.info())\n",
    "display(data_rides.info())\n",
    "data_subs.info()"
   ]
  },
  {
   "cell_type": "markdown",
   "id": "c5a465ee",
   "metadata": {},
   "source": [
    "Нулевых значений нет, тип данных указан неверно только во 2 таблице в столбце `date`"
   ]
  },
  {
   "cell_type": "markdown",
   "id": "bea521ff",
   "metadata": {},
   "source": [
    "**Вывод по разделу 1.1**\n",
    "\n",
    "Данные по 3 таблицам загружены, сформирована общая информация о них. \n",
    "\n",
    "При первом приближении отметим, что наименование столбцов понятно, без пробелов, верно описывает представленные данные в соотетствующем столбце. Представлены разные типы данных, в одном столбце тип указан неверно, требуется изменить. Отсутствуют незаполненные ячейки в данных."
   ]
  },
  {
   "cell_type": "markdown",
   "id": "e95ebca7",
   "metadata": {},
   "source": [
    "### Предобработка данных"
   ]
  },
  {
   "cell_type": "markdown",
   "id": "6dae874d",
   "metadata": {},
   "source": [
    "#### Изменение типа данных\n",
    "Требуется изменить тип данных на datetime в табл.2 в столбце `date`"
   ]
  },
  {
   "cell_type": "code",
   "execution_count": 5,
   "id": "ca3ba026",
   "metadata": {},
   "outputs": [
    {
     "name": "stdout",
     "output_type": "stream",
     "text": [
      "<class 'pandas.core.frame.DataFrame'>\n",
      "RangeIndex: 18068 entries, 0 to 18067\n",
      "Data columns (total 4 columns):\n",
      " #   Column    Non-Null Count  Dtype         \n",
      "---  ------    --------------  -----         \n",
      " 0   user_id   18068 non-null  int64         \n",
      " 1   distance  18068 non-null  float64       \n",
      " 2   duration  18068 non-null  float64       \n",
      " 3   date      18068 non-null  datetime64[ns]\n",
      "dtypes: datetime64[ns](1), float64(2), int64(1)\n",
      "memory usage: 564.8 KB\n"
     ]
    }
   ],
   "source": [
    "data_rides['date'] = pd.to_datetime(data_rides['date'],format='%Y-%m-%d')\n",
    "\n",
    "data_rides.info()"
   ]
  },
  {
   "cell_type": "markdown",
   "id": "86af44c9",
   "metadata": {},
   "source": [
    "#### Создание нового столбца\n",
    "Создадим столбец с указанием месяца из даты (табл.2)"
   ]
  },
  {
   "cell_type": "code",
   "execution_count": 6,
   "id": "e8b16900",
   "metadata": {
    "scrolled": true
   },
   "outputs": [
    {
     "data": {
      "text/html": [
       "<div>\n",
       "<style scoped>\n",
       "    .dataframe tbody tr th:only-of-type {\n",
       "        vertical-align: middle;\n",
       "    }\n",
       "\n",
       "    .dataframe tbody tr th {\n",
       "        vertical-align: top;\n",
       "    }\n",
       "\n",
       "    .dataframe thead th {\n",
       "        text-align: right;\n",
       "    }\n",
       "</style>\n",
       "<table border=\"1\" class=\"dataframe\">\n",
       "  <thead>\n",
       "    <tr style=\"text-align: right;\">\n",
       "      <th></th>\n",
       "      <th>user_id</th>\n",
       "      <th>distance</th>\n",
       "      <th>duration</th>\n",
       "      <th>date</th>\n",
       "      <th>month</th>\n",
       "    </tr>\n",
       "  </thead>\n",
       "  <tbody>\n",
       "    <tr>\n",
       "      <th>0</th>\n",
       "      <td>1</td>\n",
       "      <td>4409.919140</td>\n",
       "      <td>25.599769</td>\n",
       "      <td>2021-01-01</td>\n",
       "      <td>1</td>\n",
       "    </tr>\n",
       "    <tr>\n",
       "      <th>1</th>\n",
       "      <td>1</td>\n",
       "      <td>2617.592153</td>\n",
       "      <td>15.816871</td>\n",
       "      <td>2021-01-18</td>\n",
       "      <td>1</td>\n",
       "    </tr>\n",
       "    <tr>\n",
       "      <th>2</th>\n",
       "      <td>1</td>\n",
       "      <td>754.159807</td>\n",
       "      <td>6.232113</td>\n",
       "      <td>2021-04-20</td>\n",
       "      <td>4</td>\n",
       "    </tr>\n",
       "    <tr>\n",
       "      <th>3</th>\n",
       "      <td>1</td>\n",
       "      <td>2694.783254</td>\n",
       "      <td>18.511000</td>\n",
       "      <td>2021-08-11</td>\n",
       "      <td>8</td>\n",
       "    </tr>\n",
       "    <tr>\n",
       "      <th>4</th>\n",
       "      <td>1</td>\n",
       "      <td>4028.687306</td>\n",
       "      <td>26.265803</td>\n",
       "      <td>2021-08-28</td>\n",
       "      <td>8</td>\n",
       "    </tr>\n",
       "  </tbody>\n",
       "</table>\n",
       "</div>"
      ],
      "text/plain": [
       "   user_id     distance   duration       date  month\n",
       "0        1  4409.919140  25.599769 2021-01-01      1\n",
       "1        1  2617.592153  15.816871 2021-01-18      1\n",
       "2        1   754.159807   6.232113 2021-04-20      4\n",
       "3        1  2694.783254  18.511000 2021-08-11      8\n",
       "4        1  4028.687306  26.265803 2021-08-28      8"
      ]
     },
     "execution_count": 6,
     "metadata": {},
     "output_type": "execute_result"
    }
   ],
   "source": [
    "data_rides['month'] = data_rides['date'].dt.month\n",
    "\n",
    "data_rides.head()"
   ]
  },
  {
   "cell_type": "markdown",
   "id": "7a028e57",
   "metadata": {},
   "source": [
    "Также можем посмотреть за какой год представлены данные в таблице 2. Это важно, так как далее мы будем делать агрегацию по месяцам."
   ]
  },
  {
   "cell_type": "code",
   "execution_count": 7,
   "id": "af06ea1f",
   "metadata": {},
   "outputs": [
    {
     "data": {
      "text/plain": [
       "array([2021], dtype=int64)"
      ]
     },
     "execution_count": 7,
     "metadata": {},
     "output_type": "execute_result"
    }
   ],
   "source": [
    "data_rides['date'].dt.year.unique()"
   ]
  },
  {
   "cell_type": "markdown",
   "id": "239da308",
   "metadata": {},
   "source": [
    "В таблице данные только за 2021 г."
   ]
  },
  {
   "cell_type": "markdown",
   "id": "5daee235",
   "metadata": {},
   "source": [
    "#### Пропуски и дубликаты\n",
    "Мы уже определили, что в таблицах нет пропущенных значений. Можно еще раз в этом убедиться другм способом.\n",
    "\n",
    "Также проверим таблицы на явные и неявные дубликаты."
   ]
  },
  {
   "cell_type": "code",
   "execution_count": 8,
   "id": "033e5143",
   "metadata": {},
   "outputs": [
    {
     "data": {
      "text/plain": [
       "user_id              0\n",
       "name                 0\n",
       "age                  0\n",
       "city                 0\n",
       "subscription_type    0\n",
       "dtype: int64"
      ]
     },
     "metadata": {},
     "output_type": "display_data"
    },
    {
     "data": {
      "text/plain": [
       "user_id     0\n",
       "distance    0\n",
       "duration    0\n",
       "date        0\n",
       "month       0\n",
       "dtype: int64"
      ]
     },
     "metadata": {},
     "output_type": "display_data"
    },
    {
     "data": {
      "text/plain": [
       "subscription_type    0\n",
       "minute_price         0\n",
       "start_ride_price     0\n",
       "subscription_fee     0\n",
       "dtype: int64"
      ]
     },
     "execution_count": 8,
     "metadata": {},
     "output_type": "execute_result"
    }
   ],
   "source": [
    "# проверим на пропуски\n",
    "\n",
    "display(data_users.isna().sum())\n",
    "display(data_rides.isna().sum())\n",
    "data_subs.isna().sum()"
   ]
  },
  {
   "cell_type": "code",
   "execution_count": 9,
   "id": "f654c675",
   "metadata": {},
   "outputs": [
    {
     "data": {
      "text/plain": [
       "31"
      ]
     },
     "metadata": {},
     "output_type": "display_data"
    },
    {
     "data": {
      "text/plain": [
       "0"
      ]
     },
     "execution_count": 9,
     "metadata": {},
     "output_type": "execute_result"
    }
   ],
   "source": [
    "#явные дубликаты\n",
    "\n",
    "display(data_users.duplicated().sum())\n",
    "data_rides.duplicated().sum()"
   ]
  },
  {
   "cell_type": "markdown",
   "id": "1d582dad",
   "metadata": {},
   "source": [
    "В таблице с пользователями есть дубликаты. Так как у каждого пользователя есть уникальный id, то эти дубликаты не могут быть полными совпадениями по остальным данным (например, совпали и имя, и город, и возраст), поэтому удалим данные дубликаты."
   ]
  },
  {
   "cell_type": "code",
   "execution_count": 10,
   "id": "700fafaa",
   "metadata": {},
   "outputs": [],
   "source": [
    "data_users = data_users.drop_duplicates() #1565 строк было, минус 31 дубликат, стало 1534\n",
    "\n",
    "#data_users.duplicated().sum()"
   ]
  },
  {
   "cell_type": "markdown",
   "id": "ca281e27",
   "metadata": {},
   "source": [
    "Неявные дубликаты могут встретиться  в столбцах с именами, городом и типом подписки. Имена менять нам не нужно, так как мы будем работать с `user_id`, а остальные столбцы проверим."
   ]
  },
  {
   "cell_type": "code",
   "execution_count": 11,
   "id": "9efd64b1",
   "metadata": {},
   "outputs": [
    {
     "data": {
      "text/plain": [
       "array(['Тюмень', 'Омск', 'Москва', 'Ростов-на-Дону', 'Краснодар',\n",
       "       'Пятигорск', 'Екатеринбург', 'Сочи'], dtype=object)"
      ]
     },
     "execution_count": 11,
     "metadata": {},
     "output_type": "execute_result"
    }
   ],
   "source": [
    "data_users['city'].unique()"
   ]
  },
  {
   "cell_type": "code",
   "execution_count": 12,
   "id": "b1c32131",
   "metadata": {},
   "outputs": [
    {
     "data": {
      "text/plain": [
       "array(['ultra', 'free'], dtype=object)"
      ]
     },
     "execution_count": 12,
     "metadata": {},
     "output_type": "execute_result"
    }
   ],
   "source": [
    "data_users['subscription_type'].unique()"
   ]
  },
  {
   "cell_type": "markdown",
   "id": "1706865b",
   "metadata": {},
   "source": [
    "Неявных дубликатов не выявлено, наименования подписки в таблице 1 совпадает с таблицей 3."
   ]
  },
  {
   "cell_type": "markdown",
   "id": "316845e0",
   "metadata": {},
   "source": [
    "**Вывод по разделу 1.2**\n",
    "\n",
    "Данные по всем 3-м таблицам обработаны: \n",
    "- изменен тип данных в столбце `date` на datetime;\n",
    "- выявлены и удалены полные дубликаты (31 дубликат в таблице `data_users`);\n",
    "- неявные дубликаты не выявлены;\n",
    "- добавлен дополнительный столбец `month` в `data_rides` для дальнейшей группировки данных по месяцам;\n",
    "- данные представлены только за 2021г."
   ]
  },
  {
   "cell_type": "markdown",
   "id": "212593c7",
   "metadata": {},
   "source": [
    "### Исследовательский анализ данных"
   ]
  },
  {
   "cell_type": "markdown",
   "id": "13c62de3",
   "metadata": {},
   "source": [
    "#### Частота встречаемости городов\n",
    "Посмотрим на количество пользователей из разных городов."
   ]
  },
  {
   "cell_type": "code",
   "execution_count": 13,
   "id": "1e598811",
   "metadata": {
    "scrolled": false
   },
   "outputs": [
    {
     "data": {
      "image/png": "[encoded data removed]",
      "text/plain": [
       "<Figure size 700x500 with 1 Axes>"
      ]
     },
     "metadata": {},
     "output_type": "display_data"
    }
   ],
   "source": [
    "(data_users['city'].value_counts()/data_users['city'].count()*100).sort_values().plot.barh(xlim=(10,15),figsize=(7,5),grid=True)\n",
    "\n",
    "plt.title('Доля пользователей из разных городов')\n",
    "\n",
    "plt.xlabel('% пользователей')\n",
    "plt.ylabel('город')\n",
    "\n",
    "plt.show()"
   ]
  },
  {
   "cell_type": "markdown",
   "id": "19d2d050",
   "metadata": {},
   "source": [
    "Больше всего встречаются пользователи из Пятигорска (около 14.5%), меньше всего из Москвы (~11%). В целом можно сказать, что данные распределены достаточно равномерно по городам."
   ]
  },
  {
   "cell_type": "markdown",
   "id": "c6444ea1",
   "metadata": {},
   "source": [
    "#### Соотношение пользователей с подпиской и без подписки\n",
    "\n",
    "Сгруппируем данные по столбцу 'subscription_type', в нем пользователи без подписки отмечены free, с подпиской ultra.\n"
   ]
  },
  {
   "cell_type": "code",
   "execution_count": 14,
   "id": "d3655430",
   "metadata": {
    "scrolled": false
   },
   "outputs": [
    {
     "data": {
      "image/png": "[encoded data removed]",
      "text/plain": [
       "<Figure size 640x480 with 1 Axes>"
      ]
     },
     "metadata": {},
     "output_type": "display_data"
    }
   ],
   "source": [
    "data_users['subscription_type'].value_counts().plot(kind='pie', autopct='%.1f%%')\n",
    "plt.title('Соотношение пользователей с подпиской и без подписки')\n",
    "plt.show()"
   ]
  },
  {
   "cell_type": "markdown",
   "id": "f0f5adb9",
   "metadata": {},
   "source": [
    "Можно сделать вывод, что чуть больше половины пользователей используют приложение без подписки."
   ]
  },
  {
   "cell_type": "markdown",
   "id": "b6c45df7",
   "metadata": {},
   "source": [
    "#### Возраст пользователей\n",
    "\n",
    "Посмотрим на распределение возраста пользователей."
   ]
  },
  {
   "cell_type": "code",
   "execution_count": 15,
   "id": "37370429",
   "metadata": {
    "scrolled": false
   },
   "outputs": [
    {
     "data": {
      "image/png": "[encoded data removed]",
      "text/plain": [
       "<Figure size 1000x500 with 1 Axes>"
      ]
     },
     "metadata": {},
     "output_type": "display_data"
    },
    {
     "data": {
      "text/plain": [
       "count    1534.000000\n",
       "mean       24.903520\n",
       "std         4.572367\n",
       "min        12.000000\n",
       "25%        22.000000\n",
       "50%        25.000000\n",
       "75%        28.000000\n",
       "max        43.000000\n",
       "Name: age, dtype: float64"
      ]
     },
     "execution_count": 15,
     "metadata": {},
     "output_type": "execute_result"
    }
   ],
   "source": [
    "data_users['age'].hist(bins=30,figsize=(10,5),grid=True)\n",
    "\n",
    "plt.title('Возраст пользователей')\n",
    "\n",
    "plt.xlabel('возраст, лет')\n",
    "plt.ylabel('кол-во пользователей')\n",
    "plt.show()\n",
    "\n",
    "data_users['age'].describe()"
   ]
  },
  {
   "cell_type": "markdown",
   "id": "6b2f76de",
   "metadata": {},
   "source": [
    "Большинство пользователей в возрасте 22-28 лет. Минимальный возраст - 12 лет, максимальный - 43 года.\n",
    "\n",
    "Стоит также уточнить у владельца базы данных нижнюю границу возраста, так как большинством сервисов самокатов разрешено пользоваться с 14 лет. В нашей базе присутствует несколько пользователей малдше 14 лет. Возможно это поможет улучшить сервис или найти в нем баг по регистрации по возрасту."
   ]
  },
  {
   "cell_type": "code",
   "execution_count": 16,
   "id": "c6885ffd",
   "metadata": {},
   "outputs": [],
   "source": [
    "#(data_users['age']<14).value_counts() 12 пользоватлей возрастом ниже 14 лет."
   ]
  },
  {
   "cell_type": "markdown",
   "id": "e1aedfaf",
   "metadata": {},
   "source": [
    "#### Проверка данных о расстоянии и продолжительности поездок.\n",
    "\n",
    "В этом блоке используем данные таблицы 2. \n",
    "\n",
    "Прежде чем рассчитать расстояние и продолжительность, проверим данные таблицы, используя скорость. Добавим столбец 'speed'. Если скорость окажется слишком высокой, значит, есть ошибка в данных в расстоянии или продолжительности поездки."
   ]
  },
  {
   "cell_type": "code",
   "execution_count": 17,
   "id": "c30a3680",
   "metadata": {
    "scrolled": false
   },
   "outputs": [
    {
     "data": {
      "text/plain": [
       "count    18068.000000\n",
       "mean        13.785261\n",
       "std         44.156189\n",
       "min          0.005133\n",
       "25%          8.127843\n",
       "50%         10.251135\n",
       "75%         12.929800\n",
       "max        865.320929\n",
       "Name: speed, dtype: float64"
      ]
     },
     "execution_count": 17,
     "metadata": {},
     "output_type": "execute_result"
    }
   ],
   "source": [
    "data_rides['speed'] = (data_rides['distance']/1000)/(data_rides['duration']/60)\n",
    "\n",
    "data_rides['speed'].describe()"
   ]
  },
  {
   "cell_type": "markdown",
   "id": "455eceef",
   "metadata": {},
   "source": [
    "Мы видим, что есть неадекватно большая скорость, посмотрим на строки, скорость которых более 100 км/ч (теоретическая скорость, которую может развить самокат)"
   ]
  },
  {
   "cell_type": "code",
   "execution_count": 18,
   "id": "a70f77d9",
   "metadata": {
    "scrolled": true
   },
   "outputs": [
    {
     "data": {
      "text/html": [
       "<div>\n",
       "<style scoped>\n",
       "    .dataframe tbody tr th:only-of-type {\n",
       "        vertical-align: middle;\n",
       "    }\n",
       "\n",
       "    .dataframe tbody tr th {\n",
       "        vertical-align: top;\n",
       "    }\n",
       "\n",
       "    .dataframe thead th {\n",
       "        text-align: right;\n",
       "    }\n",
       "</style>\n",
       "<table border=\"1\" class=\"dataframe\">\n",
       "  <thead>\n",
       "    <tr style=\"text-align: right;\">\n",
       "      <th></th>\n",
       "      <th>user_id</th>\n",
       "      <th>distance</th>\n",
       "      <th>duration</th>\n",
       "      <th>date</th>\n",
       "      <th>month</th>\n",
       "      <th>speed</th>\n",
       "    </tr>\n",
       "  </thead>\n",
       "  <tbody>\n",
       "    <tr>\n",
       "      <th>6531</th>\n",
       "      <td>701</td>\n",
       "      <td>4196.445201</td>\n",
       "      <td>0.5</td>\n",
       "      <td>2021-08-31</td>\n",
       "      <td>8</td>\n",
       "      <td>503.573424</td>\n",
       "    </tr>\n",
       "    <tr>\n",
       "      <th>6570</th>\n",
       "      <td>704</td>\n",
       "      <td>4830.824371</td>\n",
       "      <td>0.5</td>\n",
       "      <td>2021-10-14</td>\n",
       "      <td>10</td>\n",
       "      <td>579.698925</td>\n",
       "    </tr>\n",
       "    <tr>\n",
       "      <th>6680</th>\n",
       "      <td>712</td>\n",
       "      <td>4684.004397</td>\n",
       "      <td>0.5</td>\n",
       "      <td>2021-03-04</td>\n",
       "      <td>3</td>\n",
       "      <td>562.080528</td>\n",
       "    </tr>\n",
       "    <tr>\n",
       "      <th>6695</th>\n",
       "      <td>713</td>\n",
       "      <td>5215.642710</td>\n",
       "      <td>0.5</td>\n",
       "      <td>2021-02-25</td>\n",
       "      <td>2</td>\n",
       "      <td>625.877125</td>\n",
       "    </tr>\n",
       "    <tr>\n",
       "      <th>6768</th>\n",
       "      <td>718</td>\n",
       "      <td>5197.436649</td>\n",
       "      <td>0.5</td>\n",
       "      <td>2021-02-11</td>\n",
       "      <td>2</td>\n",
       "      <td>623.692398</td>\n",
       "    </tr>\n",
       "    <tr>\n",
       "      <th>...</th>\n",
       "      <td>...</td>\n",
       "      <td>...</td>\n",
       "      <td>...</td>\n",
       "      <td>...</td>\n",
       "      <td>...</td>\n",
       "      <td>...</td>\n",
       "    </tr>\n",
       "    <tr>\n",
       "      <th>17004</th>\n",
       "      <td>1460</td>\n",
       "      <td>5531.335845</td>\n",
       "      <td>0.5</td>\n",
       "      <td>2021-01-19</td>\n",
       "      <td>1</td>\n",
       "      <td>663.760301</td>\n",
       "    </tr>\n",
       "    <tr>\n",
       "      <th>17242</th>\n",
       "      <td>1477</td>\n",
       "      <td>6724.932981</td>\n",
       "      <td>0.5</td>\n",
       "      <td>2021-01-12</td>\n",
       "      <td>1</td>\n",
       "      <td>806.991958</td>\n",
       "    </tr>\n",
       "    <tr>\n",
       "      <th>17314</th>\n",
       "      <td>1483</td>\n",
       "      <td>4445.481070</td>\n",
       "      <td>0.5</td>\n",
       "      <td>2021-03-06</td>\n",
       "      <td>3</td>\n",
       "      <td>533.457728</td>\n",
       "    </tr>\n",
       "    <tr>\n",
       "      <th>17505</th>\n",
       "      <td>1496</td>\n",
       "      <td>5722.551787</td>\n",
       "      <td>0.5</td>\n",
       "      <td>2021-02-14</td>\n",
       "      <td>2</td>\n",
       "      <td>686.706214</td>\n",
       "    </tr>\n",
       "    <tr>\n",
       "      <th>17909</th>\n",
       "      <td>1524</td>\n",
       "      <td>4103.998874</td>\n",
       "      <td>0.5</td>\n",
       "      <td>2021-06-18</td>\n",
       "      <td>6</td>\n",
       "      <td>492.479865</td>\n",
       "    </tr>\n",
       "  </tbody>\n",
       "</table>\n",
       "<p>95 rows × 6 columns</p>\n",
       "</div>"
      ],
      "text/plain": [
       "       user_id     distance  duration       date  month       speed\n",
       "6531       701  4196.445201       0.5 2021-08-31      8  503.573424\n",
       "6570       704  4830.824371       0.5 2021-10-14     10  579.698925\n",
       "6680       712  4684.004397       0.5 2021-03-04      3  562.080528\n",
       "6695       713  5215.642710       0.5 2021-02-25      2  625.877125\n",
       "6768       718  5197.436649       0.5 2021-02-11      2  623.692398\n",
       "...        ...          ...       ...        ...    ...         ...\n",
       "17004     1460  5531.335845       0.5 2021-01-19      1  663.760301\n",
       "17242     1477  6724.932981       0.5 2021-01-12      1  806.991958\n",
       "17314     1483  4445.481070       0.5 2021-03-06      3  533.457728\n",
       "17505     1496  5722.551787       0.5 2021-02-14      2  686.706214\n",
       "17909     1524  4103.998874       0.5 2021-06-18      6  492.479865\n",
       "\n",
       "[95 rows x 6 columns]"
      ]
     },
     "execution_count": 18,
     "metadata": {},
     "output_type": "execute_result"
    }
   ],
   "source": [
    "data_rides[data_rides['speed']>100]"
   ]
  },
  {
   "cell_type": "markdown",
   "id": "c3e83dbe",
   "metadata": {},
   "source": [
    "Видно, что в столбце 'duration' явная ошибка. При исследовании данных о продолжительности это нужно будет учесть, а также передать информацию владельцам данных для поиска и исправления ошибки."
   ]
  },
  {
   "cell_type": "markdown",
   "id": "bb72bc92",
   "metadata": {},
   "source": [
    "#### Расстояние, которое пользователь преодолел за одну поездку\n",
    "\n",
    "Посмотрим на распределение расстояний одной поездки. \n",
    "\n",
    "Для начала построим диаграмму размаха и описание."
   ]
  },
  {
   "cell_type": "code",
   "execution_count": 19,
   "id": "0cb39d3d",
   "metadata": {
    "scrolled": true
   },
   "outputs": [
    {
     "data": {
      "text/plain": [
       "count    18068.000000\n",
       "mean      3070.659976\n",
       "std       1116.831209\n",
       "min          0.855683\n",
       "25%       2543.226360\n",
       "50%       3133.609994\n",
       "75%       3776.222735\n",
       "max       7211.007745\n",
       "Name: distance, dtype: float64"
      ]
     },
     "execution_count": 19,
     "metadata": {},
     "output_type": "execute_result"
    },
    {
     "data": {
      "image/png": "[encoded data removed]",
      "text/plain": [
       "<Figure size 640x480 with 1 Axes>"
      ]
     },
     "metadata": {},
     "output_type": "display_data"
    }
   ],
   "source": [
    "data_rides.boxplot(column=['distance'])\n",
    "\n",
    "data_rides['distance'].describe()"
   ]
  },
  {
   "cell_type": "markdown",
   "id": "4dad400c",
   "metadata": {},
   "source": [
    "Среднее и медиана не сильно отличаются, но мы видим, что есть выбросы как за верхней, так и за нижней границей.\n",
    "\n",
    "Сформируем гистограмму по расстояниям одной поездки."
   ]
  },
  {
   "cell_type": "code",
   "execution_count": 20,
   "id": "f577693c",
   "metadata": {},
   "outputs": [
    {
     "data": {
      "image/png": "[encoded data removed]",
      "text/plain": [
       "<Figure size 1000x500 with 1 Axes>"
      ]
     },
     "metadata": {},
     "output_type": "display_data"
    }
   ],
   "source": [
    "data_rides['distance'].hist(bins=50,figsize=(10,5),grid=True)\n",
    "\n",
    "plt.title('Распределение растояний поездок пользователей')\n",
    "\n",
    "plt.xlabel('расстояние, м')\n",
    "plt.ylabel('кол-во поездок')\n",
    "plt.show()"
   ]
  },
  {
   "cell_type": "markdown",
   "id": "b0e27b1c",
   "metadata": {},
   "source": [
    "Отметим, что на гистограмме есть 2 пика. Первый пик указывает на то, что среди поездок на короткие расстояния чаще всего расстояние составляет около 500м. В целом чаще всего пользователи совершают поездку на расстояние около 3 км."
   ]
  },
  {
   "cell_type": "markdown",
   "id": "256d9f4c",
   "metadata": {},
   "source": [
    "#### Продолжительность поездок\n",
    "\n",
    "Посмотрим на распределение продолжительностей одной поездки. Так как мы выяснили, что есть ошибка в данных, исключим ошибочные строки из анализа. Далее построим диаграмму размаха и описание."
   ]
  },
  {
   "cell_type": "code",
   "execution_count": 21,
   "id": "dbfa27a4",
   "metadata": {},
   "outputs": [
    {
     "data": {
      "text/plain": [
       "count    17973.000000\n",
       "mean        17.896480\n",
       "std          5.975424\n",
       "min          2.035632\n",
       "25%         13.670439\n",
       "50%         17.714122\n",
       "75%         21.747016\n",
       "max         40.823963\n",
       "Name: duration, dtype: float64"
      ]
     },
     "execution_count": 21,
     "metadata": {},
     "output_type": "execute_result"
    },
    {
     "data": {
      "image/png": "[encoded data removed]",
      "text/plain": [
       "<Figure size 640x480 with 1 Axes>"
      ]
     },
     "metadata": {},
     "output_type": "display_data"
    }
   ],
   "source": [
    "data_rides_new = data_rides.query('speed<100')\n",
    "\n",
    "data_rides_new.boxplot(column=['duration'])\n",
    "\n",
    "data_rides_new['duration'].describe()"
   ]
  },
  {
   "cell_type": "markdown",
   "id": "38e713e6",
   "metadata": {},
   "source": [
    "Среднее и медиана практически не отличаются, есть выбросы за верхней границей."
   ]
  },
  {
   "cell_type": "code",
   "execution_count": 22,
   "id": "dbb093cd",
   "metadata": {
    "scrolled": true
   },
   "outputs": [
    {
     "data": {
      "image/png": "[encoded data removed]",
      "text/plain": [
       "<Figure size 1000x500 with 1 Axes>"
      ]
     },
     "metadata": {},
     "output_type": "display_data"
    }
   ],
   "source": [
    "data_rides_new['duration'].hist(bins=30,figsize=(10,5),grid=True)\n",
    "\n",
    "plt.title('Распределение продолжительностей поездок пользователей')\n",
    "\n",
    "plt.xlabel('время поездки, мин')\n",
    "plt.ylabel('кол-во поездок')\n",
    "plt.show()"
   ]
  },
  {
   "cell_type": "markdown",
   "id": "dccdbf0c",
   "metadata": {},
   "source": [
    "Чаще всего продолжительность одной поездки составляет 15-20 минут."
   ]
  },
  {
   "cell_type": "markdown",
   "id": "2e19faba",
   "metadata": {},
   "source": [
    "**Вывод по разделу 1.3**\n",
    "\n",
    "По результатам исследовательского анализа можно сделать следующие выводы:\n",
    "- в представленной базе данных больше всего пользователей из Пятигорска (около 14,5%), меньше всего из Москвы (11%). В целом можно сказать, что данные распределены достаточно равномерно по городам, в базе данных всего представлены 8 городов;\n",
    "- 54,4% пользователей не подключают подписку в приложении;\n",
    "- основная возрастная группа пользователей в возрасте 22-28 лет. Минимальный возраст - 12 лет, максимальный - 43 года;\n",
    "- чаще всего пользователи совершают поездку на расстояние около 3 км;\n",
    "- продолжительность одной поездки составляет  в большинстве случаев 15-20 минут.\n",
    "\n",
    "Важно отметить, что в процессе анализа выявлены некоторые особенности и ошибки, о которых необходимо сообщить владельцам баз данных:\n",
    "- обнаружены ошибки в данных по продолжительности поездки - 95 строк с продолжительностью 0,5 минут при большом расстоянии;\n",
    "- уточнить нижнюю границу возраста, с которого можно пользоваться услугами сервиса. В базе присутствует 12 пользователей младше 14 лет."
   ]
  },
  {
   "cell_type": "markdown",
   "id": "4ef51331",
   "metadata": {},
   "source": [
    "### Объединение данных"
   ]
  },
  {
   "cell_type": "markdown",
   "id": "630f1208",
   "metadata": {},
   "source": [
    "#### Создание общего датафрейма\n",
    "\n",
    "Объединим все 3 таблицы в одну базу."
   ]
  },
  {
   "cell_type": "code",
   "execution_count": 23,
   "id": "c52f2f87",
   "metadata": {},
   "outputs": [],
   "source": [
    "data = data_users.merge(data_rides,on='user_id', how='left')\n",
    "\n",
    "data_total = data.merge(data_subs,on='subscription_type', how='left')"
   ]
  },
  {
   "cell_type": "code",
   "execution_count": 24,
   "id": "e432fafa",
   "metadata": {},
   "outputs": [
    {
     "data": {
      "text/html": [
       "<div>\n",
       "<style scoped>\n",
       "    .dataframe tbody tr th:only-of-type {\n",
       "        vertical-align: middle;\n",
       "    }\n",
       "\n",
       "    .dataframe tbody tr th {\n",
       "        vertical-align: top;\n",
       "    }\n",
       "\n",
       "    .dataframe thead th {\n",
       "        text-align: right;\n",
       "    }\n",
       "</style>\n",
       "<table border=\"1\" class=\"dataframe\">\n",
       "  <thead>\n",
       "    <tr style=\"text-align: right;\">\n",
       "      <th></th>\n",
       "      <th>user_id</th>\n",
       "      <th>name</th>\n",
       "      <th>age</th>\n",
       "      <th>city</th>\n",
       "      <th>subscription_type</th>\n",
       "      <th>distance</th>\n",
       "      <th>duration</th>\n",
       "      <th>date</th>\n",
       "      <th>month</th>\n",
       "      <th>speed</th>\n",
       "      <th>minute_price</th>\n",
       "      <th>start_ride_price</th>\n",
       "      <th>subscription_fee</th>\n",
       "    </tr>\n",
       "  </thead>\n",
       "  <tbody>\n",
       "    <tr>\n",
       "      <th>0</th>\n",
       "      <td>1</td>\n",
       "      <td>Кира</td>\n",
       "      <td>22</td>\n",
       "      <td>Тюмень</td>\n",
       "      <td>ultra</td>\n",
       "      <td>4409.919140</td>\n",
       "      <td>25.599769</td>\n",
       "      <td>2021-01-01</td>\n",
       "      <td>1</td>\n",
       "      <td>10.335841</td>\n",
       "      <td>6</td>\n",
       "      <td>0</td>\n",
       "      <td>199</td>\n",
       "    </tr>\n",
       "    <tr>\n",
       "      <th>1</th>\n",
       "      <td>1</td>\n",
       "      <td>Кира</td>\n",
       "      <td>22</td>\n",
       "      <td>Тюмень</td>\n",
       "      <td>ultra</td>\n",
       "      <td>2617.592153</td>\n",
       "      <td>15.816871</td>\n",
       "      <td>2021-01-18</td>\n",
       "      <td>1</td>\n",
       "      <td>9.929620</td>\n",
       "      <td>6</td>\n",
       "      <td>0</td>\n",
       "      <td>199</td>\n",
       "    </tr>\n",
       "    <tr>\n",
       "      <th>2</th>\n",
       "      <td>1</td>\n",
       "      <td>Кира</td>\n",
       "      <td>22</td>\n",
       "      <td>Тюмень</td>\n",
       "      <td>ultra</td>\n",
       "      <td>754.159807</td>\n",
       "      <td>6.232113</td>\n",
       "      <td>2021-04-20</td>\n",
       "      <td>4</td>\n",
       "      <td>7.260713</td>\n",
       "      <td>6</td>\n",
       "      <td>0</td>\n",
       "      <td>199</td>\n",
       "    </tr>\n",
       "    <tr>\n",
       "      <th>3</th>\n",
       "      <td>1</td>\n",
       "      <td>Кира</td>\n",
       "      <td>22</td>\n",
       "      <td>Тюмень</td>\n",
       "      <td>ultra</td>\n",
       "      <td>2694.783254</td>\n",
       "      <td>18.511000</td>\n",
       "      <td>2021-08-11</td>\n",
       "      <td>8</td>\n",
       "      <td>8.734644</td>\n",
       "      <td>6</td>\n",
       "      <td>0</td>\n",
       "      <td>199</td>\n",
       "    </tr>\n",
       "    <tr>\n",
       "      <th>4</th>\n",
       "      <td>1</td>\n",
       "      <td>Кира</td>\n",
       "      <td>22</td>\n",
       "      <td>Тюмень</td>\n",
       "      <td>ultra</td>\n",
       "      <td>4028.687306</td>\n",
       "      <td>26.265803</td>\n",
       "      <td>2021-08-28</td>\n",
       "      <td>8</td>\n",
       "      <td>9.202888</td>\n",
       "      <td>6</td>\n",
       "      <td>0</td>\n",
       "      <td>199</td>\n",
       "    </tr>\n",
       "  </tbody>\n",
       "</table>\n",
       "</div>"
      ],
      "text/plain": [
       "   user_id  name  age    city subscription_type     distance   duration  \\\n",
       "0        1  Кира   22  Тюмень             ultra  4409.919140  25.599769   \n",
       "1        1  Кира   22  Тюмень             ultra  2617.592153  15.816871   \n",
       "2        1  Кира   22  Тюмень             ultra   754.159807   6.232113   \n",
       "3        1  Кира   22  Тюмень             ultra  2694.783254  18.511000   \n",
       "4        1  Кира   22  Тюмень             ultra  4028.687306  26.265803   \n",
       "\n",
       "        date  month      speed  minute_price  start_ride_price  \\\n",
       "0 2021-01-01      1  10.335841             6                 0   \n",
       "1 2021-01-18      1   9.929620             6                 0   \n",
       "2 2021-04-20      4   7.260713             6                 0   \n",
       "3 2021-08-11      8   8.734644             6                 0   \n",
       "4 2021-08-28      8   9.202888             6                 0   \n",
       "\n",
       "   subscription_fee  \n",
       "0               199  \n",
       "1               199  \n",
       "2               199  \n",
       "3               199  \n",
       "4               199  "
      ]
     },
     "execution_count": 24,
     "metadata": {},
     "output_type": "execute_result"
    }
   ],
   "source": [
    "#посмотрим на итоговую таблицу\n",
    "\n",
    "data_total.head()"
   ]
  },
  {
   "cell_type": "markdown",
   "id": "9629798e",
   "metadata": {},
   "source": [
    "#### Создание датафреймов по типу подписки\n",
    "\n",
    "Создадим 2 датафрейма - с подпиской и без."
   ]
  },
  {
   "cell_type": "code",
   "execution_count": 25,
   "id": "5c68af6e",
   "metadata": {},
   "outputs": [],
   "source": [
    "data_total_subs = data_total.query('subscription_type == \"ultra\"')\n",
    "\n",
    "data_total_no_subs = data_total.query('subscription_type == \"free\"')"
   ]
  },
  {
   "cell_type": "markdown",
   "id": "6ab25e73",
   "metadata": {},
   "source": [
    "#### Распределение расстояний и продолжительности поездок в разрезе типа подписки. Визуализация."
   ]
  },
  {
   "cell_type": "markdown",
   "id": "c8d98ffc",
   "metadata": {},
   "source": [
    "Посмотрим на **распределение расстояний** поездок пользователей этих категорий."
   ]
  },
  {
   "cell_type": "code",
   "execution_count": 26,
   "id": "d5560159",
   "metadata": {
    "scrolled": false
   },
   "outputs": [
    {
     "data": {
      "image/png": "[encoded data removed]",
      "text/plain": [
       "<Figure size 1000x500 with 1 Axes>"
      ]
     },
     "metadata": {},
     "output_type": "display_data"
    },
    {
     "data": {
      "image/png": "[encoded data removed]",
      "text/plain": [
       "<Figure size 1000x500 with 1 Axes>"
      ]
     },
     "metadata": {},
     "output_type": "display_data"
    }
   ],
   "source": [
    "data_total_subs['distance'].hist(bins=30,figsize=(10,5),grid=True)\n",
    "\n",
    "plt.title('Распределение растояний поездок пользователей с подпиской')\n",
    "\n",
    "plt.xlabel('расстояние, м')\n",
    "plt.ylabel('кол-во поездок')\n",
    "plt.show()\n",
    "\n",
    "data_total_no_subs['distance'].hist(bins=30,figsize=(10,5),grid=True)\n",
    "\n",
    "plt.title('Распределение растояний поездок пользователей без подписки')\n",
    "\n",
    "plt.xlabel('расстояние, м')\n",
    "plt.ylabel('кол-во поездок')\n",
    "plt.show()"
   ]
  },
  {
   "cell_type": "markdown",
   "id": "455b0120",
   "metadata": {},
   "source": [
    "Для наглядности построим гистограммы на одном графике."
   ]
  },
  {
   "cell_type": "code",
   "execution_count": 27,
   "id": "a31f238a",
   "metadata": {
    "scrolled": false
   },
   "outputs": [
    {
     "data": {
      "image/png": "[encoded data removed]",
      "text/plain": [
       "<Figure size 1000x500 with 1 Axes>"
      ]
     },
     "metadata": {},
     "output_type": "display_data"
    }
   ],
   "source": [
    "ax = data_total_subs['distance'].plot(\n",
    "    kind='hist',\n",
    "    y='distance',\n",
    "    histtype='step',\n",
    "    range=(0, 6000),\n",
    "    bins=30,\n",
    "    figsize=(10,5),\n",
    "    linewidth=5,\n",
    "    alpha=0.7,\n",
    "    label='с подпиской',\n",
    "    legend=True\n",
    ")\n",
    "data_total_no_subs['distance'].plot(\n",
    "    kind='hist',\n",
    "    y='distance',\n",
    "    histtype='step',\n",
    "    range=(0, 6000),\n",
    "    bins=30,\n",
    "    figsize=(10,5),\n",
    "    linewidth=5,\n",
    "    alpha=0.7,\n",
    "    label='без подписки',\n",
    "    ax=ax,\n",
    "    grid=True,\n",
    "    legend=True\n",
    ") \n",
    "\n",
    "plt.xlabel('расстояние, м')\n",
    "plt.ylabel('кол-во поездок')\n",
    "plt.show()"
   ]
  },
  {
   "cell_type": "markdown",
   "id": "e6d5e9ad",
   "metadata": {},
   "source": [
    "По структуре данные похожи, имеют форму колокола и небольшие дополнительные пики на коротких расстояниях. Здесь следует обратить внимание, что расстояние в 500 м, как наиболее частое на коротких дистанциях (мы отметили его в предыдущем разделе), прежде всего встречается у пользователей без подписки.\n",
    "\n",
    "Отметим, что у пользователей без подписки более широкий диапазон наиболее частого расстояния - от 2,1 км до 4 км. У пользователей с подпиской более ярко выражено наиболее популярное расстояние в 3 км."
   ]
  },
  {
   "cell_type": "markdown",
   "id": "9c8bb92d",
   "metadata": {},
   "source": [
    "Теперь сравним распределение продолжительностей поездок пользователей этих категорий. Отметим здесь, что ранее при анализе продолжительности мы исключали часть ошибочной информации, здесь также возьмем только срезы данных."
   ]
  },
  {
   "cell_type": "code",
   "execution_count": 28,
   "id": "a0df8dc8",
   "metadata": {},
   "outputs": [
    {
     "data": {
      "image/png": "[encoded data removed]",
      "text/plain": [
       "<Figure size 1000x500 with 1 Axes>"
      ]
     },
     "metadata": {},
     "output_type": "display_data"
    },
    {
     "data": {
      "image/png": "[encoded data removed]",
      "text/plain": [
       "<Figure size 1000x500 with 1 Axes>"
      ]
     },
     "metadata": {},
     "output_type": "display_data"
    }
   ],
   "source": [
    "data_total_subs.query('speed<100')['duration'].hist(bins=30,figsize=(10,5),grid=True)\n",
    "\n",
    "plt.title('Распределение продолжительностей поездок пользователей с подпиской')\n",
    "\n",
    "plt.xlabel('время поездки, мин')\n",
    "plt.ylabel('кол-во поездок')\n",
    "plt.show()\n",
    "\n",
    "data_total_no_subs.query('speed<100')['duration'].hist(bins=30,figsize=(10,5),grid=True)\n",
    "\n",
    "plt.title('Распределение продолжительностей поездок пользователей без подписки')\n",
    "\n",
    "plt.xlabel('время поездки, мин')\n",
    "plt.ylabel('кол-во поездок')\n",
    "plt.show()"
   ]
  },
  {
   "cell_type": "markdown",
   "id": "e583da1e",
   "metadata": {},
   "source": [
    "Распределение по времени похоже у обеих категорий пользователей. Наиболее частая продолжительность поездки - 15-20 мнут. У гистограммы пользователей с подпиской более выражен пик в 17 мин., у гистограммы без подписки более правильная плавная форма колокола."
   ]
  },
  {
   "cell_type": "markdown",
   "id": "9ba8c6df",
   "metadata": {},
   "source": [
    "**Вывод по разделу 1.4**\n",
    "\n",
    "В данном разделе объединены 3 таблицы в один датафрейм. Также сгруппированы данные и сформированы отдельные датафреймы по пользователям с подпиской и без.\n",
    "\n",
    "Проведен анализ и визуализированы распределения по параметрам поездок в разрезе категорий \"с подпиской\" и \"без подписки\".\n",
    "В целом, распределение расстояний и продолжительности поездок по разным категориям похожи. В категории \"с подпиской\" более четко выражены самое частое расстояние (3 км) и продолжительность поездок (17 мин).\n"
   ]
  },
  {
   "cell_type": "markdown",
   "id": "402d620f",
   "metadata": {},
   "source": [
    "### Подсчёт выручки"
   ]
  },
  {
   "cell_type": "markdown",
   "id": "bd0a61a7",
   "metadata": {},
   "source": [
    "#### Агрегированные данные\n",
    "\n",
    "Для расчета выручки, так как в формуле используется продолжительность поездки, исключим ошибочные данные. Далее создадим сводную таблицу по месяцам для пользователей с данными для расчета выручки."
   ]
  },
  {
   "cell_type": "code",
   "execution_count": 29,
   "id": "99dcc39d",
   "metadata": {},
   "outputs": [
    {
     "data": {
      "text/html": [
       "<div>\n",
       "<style scoped>\n",
       "    .dataframe tbody tr th:only-of-type {\n",
       "        vertical-align: middle;\n",
       "    }\n",
       "\n",
       "    .dataframe tbody tr th {\n",
       "        vertical-align: top;\n",
       "    }\n",
       "\n",
       "    .dataframe thead th {\n",
       "        text-align: right;\n",
       "    }\n",
       "</style>\n",
       "<table border=\"1\" class=\"dataframe\">\n",
       "  <thead>\n",
       "    <tr style=\"text-align: right;\">\n",
       "      <th></th>\n",
       "      <th>user_id</th>\n",
       "      <th>month</th>\n",
       "      <th>subscription_type</th>\n",
       "      <th>rides</th>\n",
       "      <th>distance_total</th>\n",
       "      <th>duration_total</th>\n",
       "    </tr>\n",
       "  </thead>\n",
       "  <tbody>\n",
       "    <tr>\n",
       "      <th>0</th>\n",
       "      <td>1</td>\n",
       "      <td>1</td>\n",
       "      <td>ultra</td>\n",
       "      <td>2</td>\n",
       "      <td>7027.511294</td>\n",
       "      <td>41.0</td>\n",
       "    </tr>\n",
       "    <tr>\n",
       "      <th>1</th>\n",
       "      <td>1</td>\n",
       "      <td>4</td>\n",
       "      <td>ultra</td>\n",
       "      <td>1</td>\n",
       "      <td>754.159807</td>\n",
       "      <td>6.0</td>\n",
       "    </tr>\n",
       "    <tr>\n",
       "      <th>2</th>\n",
       "      <td>1</td>\n",
       "      <td>8</td>\n",
       "      <td>ultra</td>\n",
       "      <td>2</td>\n",
       "      <td>6723.470560</td>\n",
       "      <td>45.0</td>\n",
       "    </tr>\n",
       "    <tr>\n",
       "      <th>3</th>\n",
       "      <td>1</td>\n",
       "      <td>10</td>\n",
       "      <td>ultra</td>\n",
       "      <td>2</td>\n",
       "      <td>5809.911100</td>\n",
       "      <td>32.0</td>\n",
       "    </tr>\n",
       "    <tr>\n",
       "      <th>4</th>\n",
       "      <td>1</td>\n",
       "      <td>11</td>\n",
       "      <td>ultra</td>\n",
       "      <td>3</td>\n",
       "      <td>7003.499363</td>\n",
       "      <td>53.0</td>\n",
       "    </tr>\n",
       "    <tr>\n",
       "      <th>...</th>\n",
       "      <td>...</td>\n",
       "      <td>...</td>\n",
       "      <td>...</td>\n",
       "      <td>...</td>\n",
       "      <td>...</td>\n",
       "      <td>...</td>\n",
       "    </tr>\n",
       "    <tr>\n",
       "      <th>11295</th>\n",
       "      <td>1534</td>\n",
       "      <td>6</td>\n",
       "      <td>free</td>\n",
       "      <td>2</td>\n",
       "      <td>3409.468534</td>\n",
       "      <td>25.0</td>\n",
       "    </tr>\n",
       "    <tr>\n",
       "      <th>11296</th>\n",
       "      <td>1534</td>\n",
       "      <td>8</td>\n",
       "      <td>free</td>\n",
       "      <td>2</td>\n",
       "      <td>7622.453034</td>\n",
       "      <td>47.0</td>\n",
       "    </tr>\n",
       "    <tr>\n",
       "      <th>11297</th>\n",
       "      <td>1534</td>\n",
       "      <td>9</td>\n",
       "      <td>free</td>\n",
       "      <td>1</td>\n",
       "      <td>4928.173852</td>\n",
       "      <td>23.0</td>\n",
       "    </tr>\n",
       "    <tr>\n",
       "      <th>11298</th>\n",
       "      <td>1534</td>\n",
       "      <td>11</td>\n",
       "      <td>free</td>\n",
       "      <td>4</td>\n",
       "      <td>13350.015305</td>\n",
       "      <td>76.0</td>\n",
       "    </tr>\n",
       "    <tr>\n",
       "      <th>11299</th>\n",
       "      <td>1534</td>\n",
       "      <td>12</td>\n",
       "      <td>free</td>\n",
       "      <td>1</td>\n",
       "      <td>2371.711192</td>\n",
       "      <td>16.0</td>\n",
       "    </tr>\n",
       "  </tbody>\n",
       "</table>\n",
       "<p>11300 rows × 6 columns</p>\n",
       "</div>"
      ],
      "text/plain": [
       "       user_id  month subscription_type  rides  distance_total  duration_total\n",
       "0            1      1             ultra      2     7027.511294            41.0\n",
       "1            1      4             ultra      1      754.159807             6.0\n",
       "2            1      8             ultra      2     6723.470560            45.0\n",
       "3            1     10             ultra      2     5809.911100            32.0\n",
       "4            1     11             ultra      3     7003.499363            53.0\n",
       "...        ...    ...               ...    ...             ...             ...\n",
       "11295     1534      6              free      2     3409.468534            25.0\n",
       "11296     1534      8              free      2     7622.453034            47.0\n",
       "11297     1534      9              free      1     4928.173852            23.0\n",
       "11298     1534     11              free      4    13350.015305            76.0\n",
       "11299     1534     12              free      1     2371.711192            16.0\n",
       "\n",
       "[11300 rows x 6 columns]"
      ]
     },
     "execution_count": 29,
     "metadata": {},
     "output_type": "execute_result"
    }
   ],
   "source": [
    "data_total_new = data_total.query('speed<100')\n",
    "\n",
    "data_total_new_pivot = data_total_new.pivot_table(index=['user_id','month','subscription_type'],\n",
    "    values=['distance','duration'],aggfunc={'distance' : ['sum','count'], 'duration' : 'sum'}).reset_index()\n",
    "\n",
    "data_total_new_pivot.columns = ['user_id','month','subscription_type','rides','distance_total','duration_total']\n",
    "\n",
    "data_total_new_pivot.columns #проверим, что все столбцы есть и названы верно\n",
    "\n",
    "data_total_new_pivot['duration_total'] = data_total_new_pivot['duration_total'].round() #округлим минуты\n",
    "\n",
    "data_total_new_pivot"
   ]
  },
  {
   "cell_type": "markdown",
   "id": "f63164f0",
   "metadata": {},
   "source": [
    "##### Расчет выручки\n",
    "\n",
    "Можно просто внести стоимость по подписке и без, но я создам переменные, которые будут обращаться к таблице, на случай, если нужно будет поменять тарифы и рассчитать, например, прогнозные значения по этой же базе."
   ]
  },
  {
   "cell_type": "code",
   "execution_count": 30,
   "id": "300faaad",
   "metadata": {},
   "outputs": [
    {
     "data": {
      "text/html": [
       "<div>\n",
       "<style scoped>\n",
       "    .dataframe tbody tr th:only-of-type {\n",
       "        vertical-align: middle;\n",
       "    }\n",
       "\n",
       "    .dataframe tbody tr th {\n",
       "        vertical-align: top;\n",
       "    }\n",
       "\n",
       "    .dataframe thead th {\n",
       "        text-align: right;\n",
       "    }\n",
       "</style>\n",
       "<table border=\"1\" class=\"dataframe\">\n",
       "  <thead>\n",
       "    <tr style=\"text-align: right;\">\n",
       "      <th></th>\n",
       "      <th>user_id</th>\n",
       "      <th>month</th>\n",
       "      <th>subscription_type</th>\n",
       "      <th>rides</th>\n",
       "      <th>distance_total</th>\n",
       "      <th>duration_total</th>\n",
       "      <th>revenue</th>\n",
       "    </tr>\n",
       "  </thead>\n",
       "  <tbody>\n",
       "    <tr>\n",
       "      <th>0</th>\n",
       "      <td>1</td>\n",
       "      <td>1</td>\n",
       "      <td>ultra</td>\n",
       "      <td>2</td>\n",
       "      <td>7027.511294</td>\n",
       "      <td>41.0</td>\n",
       "      <td>445.0</td>\n",
       "    </tr>\n",
       "    <tr>\n",
       "      <th>1</th>\n",
       "      <td>1</td>\n",
       "      <td>4</td>\n",
       "      <td>ultra</td>\n",
       "      <td>1</td>\n",
       "      <td>754.159807</td>\n",
       "      <td>6.0</td>\n",
       "      <td>235.0</td>\n",
       "    </tr>\n",
       "    <tr>\n",
       "      <th>2</th>\n",
       "      <td>1</td>\n",
       "      <td>8</td>\n",
       "      <td>ultra</td>\n",
       "      <td>2</td>\n",
       "      <td>6723.470560</td>\n",
       "      <td>45.0</td>\n",
       "      <td>469.0</td>\n",
       "    </tr>\n",
       "    <tr>\n",
       "      <th>3</th>\n",
       "      <td>1</td>\n",
       "      <td>10</td>\n",
       "      <td>ultra</td>\n",
       "      <td>2</td>\n",
       "      <td>5809.911100</td>\n",
       "      <td>32.0</td>\n",
       "      <td>391.0</td>\n",
       "    </tr>\n",
       "    <tr>\n",
       "      <th>4</th>\n",
       "      <td>1</td>\n",
       "      <td>11</td>\n",
       "      <td>ultra</td>\n",
       "      <td>3</td>\n",
       "      <td>7003.499363</td>\n",
       "      <td>53.0</td>\n",
       "      <td>517.0</td>\n",
       "    </tr>\n",
       "    <tr>\n",
       "      <th>...</th>\n",
       "      <td>...</td>\n",
       "      <td>...</td>\n",
       "      <td>...</td>\n",
       "      <td>...</td>\n",
       "      <td>...</td>\n",
       "      <td>...</td>\n",
       "      <td>...</td>\n",
       "    </tr>\n",
       "    <tr>\n",
       "      <th>11295</th>\n",
       "      <td>1534</td>\n",
       "      <td>6</td>\n",
       "      <td>free</td>\n",
       "      <td>2</td>\n",
       "      <td>3409.468534</td>\n",
       "      <td>25.0</td>\n",
       "      <td>300.0</td>\n",
       "    </tr>\n",
       "    <tr>\n",
       "      <th>11296</th>\n",
       "      <td>1534</td>\n",
       "      <td>8</td>\n",
       "      <td>free</td>\n",
       "      <td>2</td>\n",
       "      <td>7622.453034</td>\n",
       "      <td>47.0</td>\n",
       "      <td>476.0</td>\n",
       "    </tr>\n",
       "    <tr>\n",
       "      <th>11297</th>\n",
       "      <td>1534</td>\n",
       "      <td>9</td>\n",
       "      <td>free</td>\n",
       "      <td>1</td>\n",
       "      <td>4928.173852</td>\n",
       "      <td>23.0</td>\n",
       "      <td>234.0</td>\n",
       "    </tr>\n",
       "    <tr>\n",
       "      <th>11298</th>\n",
       "      <td>1534</td>\n",
       "      <td>11</td>\n",
       "      <td>free</td>\n",
       "      <td>4</td>\n",
       "      <td>13350.015305</td>\n",
       "      <td>76.0</td>\n",
       "      <td>808.0</td>\n",
       "    </tr>\n",
       "    <tr>\n",
       "      <th>11299</th>\n",
       "      <td>1534</td>\n",
       "      <td>12</td>\n",
       "      <td>free</td>\n",
       "      <td>1</td>\n",
       "      <td>2371.711192</td>\n",
       "      <td>16.0</td>\n",
       "      <td>178.0</td>\n",
       "    </tr>\n",
       "  </tbody>\n",
       "</table>\n",
       "<p>11300 rows × 7 columns</p>\n",
       "</div>"
      ],
      "text/plain": [
       "       user_id  month subscription_type  rides  distance_total  \\\n",
       "0            1      1             ultra      2     7027.511294   \n",
       "1            1      4             ultra      1      754.159807   \n",
       "2            1      8             ultra      2     6723.470560   \n",
       "3            1     10             ultra      2     5809.911100   \n",
       "4            1     11             ultra      3     7003.499363   \n",
       "...        ...    ...               ...    ...             ...   \n",
       "11295     1534      6              free      2     3409.468534   \n",
       "11296     1534      8              free      2     7622.453034   \n",
       "11297     1534      9              free      1     4928.173852   \n",
       "11298     1534     11              free      4    13350.015305   \n",
       "11299     1534     12              free      1     2371.711192   \n",
       "\n",
       "       duration_total  revenue  \n",
       "0                41.0    445.0  \n",
       "1                 6.0    235.0  \n",
       "2                45.0    469.0  \n",
       "3                32.0    391.0  \n",
       "4                53.0    517.0  \n",
       "...               ...      ...  \n",
       "11295            25.0    300.0  \n",
       "11296            47.0    476.0  \n",
       "11297            23.0    234.0  \n",
       "11298            76.0    808.0  \n",
       "11299            16.0    178.0  \n",
       "\n",
       "[11300 rows x 7 columns]"
      ]
     },
     "execution_count": 30,
     "metadata": {},
     "output_type": "execute_result"
    }
   ],
   "source": [
    "#создаем переменные со стоимостями:\n",
    "\n",
    "ultra_min = data_subs.loc[1,'minute_price']\n",
    "ultra_start = data_subs.loc[1,'start_ride_price']\n",
    "ultra_fee = data_subs.loc[1,'subscription_fee']\n",
    "\n",
    "free_min = data_subs.loc[0,'minute_price']\n",
    "free_start = data_subs.loc[0,'start_ride_price']\n",
    "free_fee = data_subs.loc[0,'subscription_fee']\n",
    "\n",
    "#напишем функцию, которая будет проверять каждую строку и рассчитывать выручку\n",
    "#(здесь каждая строка это суммарные данные за месяц по пользователю)\n",
    "\n",
    "def revenue(row):\n",
    "    \n",
    "    if row['subscription_type'] == 'ultra':\n",
    "        \n",
    "        return ultra_fee+row['rides']*ultra_start+row['duration_total']*ultra_min\n",
    "    \n",
    "    if row['subscription_type'] == 'free':\n",
    "        \n",
    "        return free_fee+row['rides']*free_start+row['duration_total']*free_min\n",
    "    \n",
    "#добавим стобец с выручкой:\n",
    "\n",
    "data_total_new_pivot['revenue'] = data_total_new_pivot.apply(revenue,axis=1)\n",
    "\n",
    "data_total_new_pivot"
   ]
  },
  {
   "cell_type": "markdown",
   "id": "0b26a7f0",
   "metadata": {},
   "source": [
    "Выручка рассчитана. Преварительно посмотрим сколько заработано на подписке и без."
   ]
  },
  {
   "cell_type": "code",
   "execution_count": 31,
   "id": "c4dfec11",
   "metadata": {
    "scrolled": true
   },
   "outputs": [
    {
     "data": {
      "text/html": [
       "<div>\n",
       "<style scoped>\n",
       "    .dataframe tbody tr th:only-of-type {\n",
       "        vertical-align: middle;\n",
       "    }\n",
       "\n",
       "    .dataframe tbody tr th {\n",
       "        vertical-align: top;\n",
       "    }\n",
       "\n",
       "    .dataframe thead th {\n",
       "        text-align: right;\n",
       "    }\n",
       "</style>\n",
       "<table border=\"1\" class=\"dataframe\">\n",
       "  <thead>\n",
       "    <tr style=\"text-align: right;\">\n",
       "      <th></th>\n",
       "      <th>revenue</th>\n",
       "    </tr>\n",
       "    <tr>\n",
       "      <th>subscription_type</th>\n",
       "      <th></th>\n",
       "    </tr>\n",
       "  </thead>\n",
       "  <tbody>\n",
       "    <tr>\n",
       "      <th>free</th>\n",
       "      <td>2182514.0</td>\n",
       "    </tr>\n",
       "    <tr>\n",
       "      <th>ultra</th>\n",
       "      <td>1625253.0</td>\n",
       "    </tr>\n",
       "  </tbody>\n",
       "</table>\n",
       "</div>"
      ],
      "text/plain": [
       "                     revenue\n",
       "subscription_type           \n",
       "free               2182514.0\n",
       "ultra              1625253.0"
      ]
     },
     "execution_count": 31,
     "metadata": {},
     "output_type": "execute_result"
    }
   ],
   "source": [
    "data_total_new_pivot.pivot_table(index='subscription_type', values='revenue',aggfunc='sum')"
   ]
  },
  {
   "cell_type": "markdown",
   "id": "2a870ea3",
   "metadata": {},
   "source": [
    "Выручка от пользователей без подписки выше, но это связано, скорее всего с тем, что их количество больше. Поэтому рассчитаем среднюю выручку на 1 пользователя помесячно:"
   ]
  },
  {
   "cell_type": "code",
   "execution_count": 32,
   "id": "49e1ee0a",
   "metadata": {},
   "outputs": [
    {
     "data": {
      "text/plain": [
       "subscription_type\n",
       "free     322.523127\n",
       "ultra    358.538054\n",
       "Name: revenue, dtype: float64"
      ]
     },
     "execution_count": 32,
     "metadata": {},
     "output_type": "execute_result"
    }
   ],
   "source": [
    "# расчет среднего\n",
    "data_total_new_pivot.groupby('subscription_type')['revenue'].mean()"
   ]
  },
  {
   "cell_type": "markdown",
   "id": "642c6a6a",
   "metadata": {},
   "source": [
    "**Вывод по разделу 1.5**\n",
    "\n",
    "Использованы данные о размерах оплаты за аренду с подпиской и без. Рассчитана выручка по категориям. Выручка от пользователей без подписки больше, чем от пользователей с подпиской в 1,3 раза. Однако это связано с тем, что пользователей без подписки больше, чем с подпиской.\n",
    "\n",
    "Средняя выручка по пользователям с подпиской немного выше, чем без подписки, однако далее это будет детально проверено."
   ]
  },
  {
   "cell_type": "markdown",
   "id": "41545ac0",
   "metadata": {},
   "source": [
    "### Проверка гипотез"
   ]
  },
  {
   "cell_type": "markdown",
   "id": "dc5f7163",
   "metadata": {},
   "source": [
    "#### Гипотеза 1\n",
    "\n",
    "Пользователи с подпиской тратят больше времени на поездки."
   ]
  },
  {
   "cell_type": "code",
   "execution_count": 33,
   "id": "35958855",
   "metadata": {},
   "outputs": [
    {
     "name": "stdout",
     "output_type": "stream",
     "text": [
      "18.54\n"
     ]
    },
    {
     "data": {
      "text/plain": [
       "17.53"
      ]
     },
     "execution_count": 33,
     "metadata": {},
     "output_type": "execute_result"
    }
   ],
   "source": [
    "subs_duration = data_total_subs.query('speed<100')['duration']\n",
    "\n",
    "no_subs_duration = data_total_no_subs.query('speed<100')['duration']\n",
    "\n",
    "print(subs_duration.mean().round(2))\n",
    "no_subs_duration.mean().round(2)"
   ]
  },
  {
   "cell_type": "markdown",
   "id": "b72fd2b1",
   "metadata": {},
   "source": [
    "Сформулируем одностроннюю гипотезу. Нулевая гипотеза - средние продолжительности поездок по выборкам (с подпиской/без подписки) равны, альтернативная гипотеза - средняя продолжительность поездки с подпиской больше, чем без подписки."
   ]
  },
  {
   "cell_type": "code",
   "execution_count": 34,
   "id": "e39e2e42",
   "metadata": {},
   "outputs": [
    {
     "name": "stdout",
     "output_type": "stream",
     "text": [
      "p-значение: 4.704468074453899e-28\n",
      "Отвергаем нулевую гипотезу\n"
     ]
    }
   ],
   "source": [
    "alpha = 0.05\n",
    "\n",
    "results = st.ttest_ind(subs_duration,no_subs_duration,alternative='greater')\n",
    "\n",
    "print('p-значение:', results.pvalue)\n",
    "\n",
    "if results.pvalue < alpha:\n",
    "    print('Отвергаем нулевую гипотезу')\n",
    "else:\n",
    "    print('Не получилось отвергнуть нулевую гипотезу')"
   ]
  },
  {
   "cell_type": "markdown",
   "id": "914a0691",
   "metadata": {},
   "source": [
    "**Вывод:** средняя продолжительность поездки с подпиской больше, чем без подписки."
   ]
  },
  {
   "cell_type": "markdown",
   "id": "4342dc5a",
   "metadata": {},
   "source": [
    "#### Гипотеза 2\n",
    "Расстояние, которое проезжают пользователи с подпиской за одну поездку, не превышает 3130 метров."
   ]
  },
  {
   "cell_type": "markdown",
   "id": "9c7994c6",
   "metadata": {},
   "source": [
    "Сформулируем одностроннюю гипотезу. Нулевая гипотеза - расстояние, которое проезжают пользователи с подпиской за одну поездку = 3130 метров, альтернативная гипотеза - расстояние, которое проезжают пользователи с подпиской за одну поездку, больше 3130 метров."
   ]
  },
  {
   "cell_type": "code",
   "execution_count": 35,
   "id": "e772f0da",
   "metadata": {},
   "outputs": [
    {
     "name": "stdout",
     "output_type": "stream",
     "text": [
      "p-значение: 0.9195368847849785\n",
      "Не получилось отвергнуть нулевую гипотезу\n"
     ]
    }
   ],
   "source": [
    "subs_distance = data_total_subs['distance']\n",
    "\n",
    "optima_distance = 3130\n",
    "\n",
    "alpha = 0.05\n",
    "\n",
    "results = st.ttest_1samp(subs_distance,optima_distance, alternative='greater')\n",
    "\n",
    "print('p-значение:', results.pvalue)\n",
    "\n",
    "if results.pvalue < alpha:\n",
    "    print('Отвергаем нулевую гипотезу')\n",
    "else:\n",
    "    print('Не получилось отвергнуть нулевую гипотезу')"
   ]
  },
  {
   "cell_type": "markdown",
   "id": "d33c66a1",
   "metadata": {},
   "source": [
    "В данном случае p-value получилось больше alpha, что не дает отвергнуть нулевую гипотезу.\n",
    "\n",
    "**Вывод:** Расстояние, которое проезжают пользователи с подпиской за одну поездку, не превышает 3130 метров. Однако надо отметить, что разница не очень большая, поэтому следует сообщить об этом и при необходимости изменить расстояние для сравнения и повторить расчеты."
   ]
  },
  {
   "cell_type": "markdown",
   "id": "b260067e",
   "metadata": {},
   "source": [
    "#### Гипотеза 3\n",
    "Помесячная выручка от пользователей с подпиской выше, чем выручка от пользователей без подписки."
   ]
  },
  {
   "cell_type": "markdown",
   "id": "8de2c733",
   "metadata": {},
   "source": [
    "Сформулируем одностороннюю гипотезу. Нулевая гипотеза - средние показатели месячной выручки по выборкам (с подпиской/без подписки) равны, альтернативная гипотеза - средняя выручка с подпиской выше, чем без подписки."
   ]
  },
  {
   "cell_type": "code",
   "execution_count": 36,
   "id": "64849892",
   "metadata": {},
   "outputs": [
    {
     "name": "stdout",
     "output_type": "stream",
     "text": [
      "p-значение: 3.896683338141334e-36\n",
      "Отвергаем нулевую гипотезу\n"
     ]
    }
   ],
   "source": [
    "sample_ultra = data_total_new_pivot.query('subscription_type == \"ultra\"')['revenue']\n",
    "sample_free = data_total_new_pivot.query('subscription_type == \"free\"')['revenue']\n",
    "\n",
    "# статистический тест\n",
    "alpha = 0.05\n",
    "\n",
    "results = st.ttest_ind(sample_ultra, sample_free, alternative = 'greater')\n",
    "\n",
    "print('p-значение:', results.pvalue)\n",
    "\n",
    "if results.pvalue < alpha:\n",
    "    print('Отвергаем нулевую гипотезу')\n",
    "else:\n",
    "    print('Не получилось отвергнуть нулевую гипотезу')"
   ]
  },
  {
   "cell_type": "markdown",
   "id": "64b00aaa",
   "metadata": {},
   "source": [
    "**Вывод:** Таким образом, средние помесячные выручки по пользователям с подпиской превышают выручки без подписки. Гипотеза №3 подтвердилась."
   ]
  },
  {
   "cell_type": "markdown",
   "id": "61213c5e",
   "metadata": {},
   "source": [
    "### Общий вывод"
   ]
  },
  {
   "cell_type": "markdown",
   "id": "91ad604a",
   "metadata": {},
   "source": [
    "**Цель данного проекта** – провести исследовательский анализ данных и проверить гипотезы, которые могут помочь бизнесу вырасти. \n",
    "\n",
    "**Входные данные** — данные мобильного приложения GoFast - сервиса аренды самокатов, в основных данных есть информация о пользователях, их поездках и подписках.\n",
    "\n",
    "Была проведена предобработка данных в 3-х таблицах. Нулевых значений не обнаружено, тип данных указан неверно только во 2 таблице в столбце `date`, тип данных изменен. Были выявлены и исключены полные дубликаты, неявных дубликатов не обнаружено.\n",
    "\n",
    "По результатам исследовательского анализа сделаны следующие выводы:\n",
    "\n",
    "- в базе данных представлены 8 городов, больше всего пользователей из Пятигорска, меньше всего из Москвы;\n",
    "- 54,4% пользователей не подключают подписку в приложении;\n",
    "- основная возрастная группа пользователей в возрасте 22-28 лет;\n",
    "- среднее расстояние поездки варьируется в основном около 3 км, средняя продолжительность поездки от 15 до 20 минут.\n",
    "\n",
    "**Выявлены особенности и ошибки**, о которых необходимо сообщить владельцам баз данных:\n",
    "\n",
    "- обнаружены ошибки в данных по продолжительности поездки - 95 строк с продолжительностью 0,5 минут при большом расстоянии;\n",
    "- в базе присутствует 12 пользователей младше 14 лет, уточнить нижнюю границу возраста.\n",
    "\n",
    "Далее были объединены все 3 таблицы в одну базу и рассчитана выручка в разрезе пользователей с подпиской и без."
   ]
  },
  {
   "cell_type": "markdown",
   "id": "f6c4701d",
   "metadata": {},
   "source": [
    "В процессе дальнейшего анализа проверялись 3 гипотезы:\n",
    "\n",
    " 1. Пользователи с подпиской тратят больше времени на поездки;\n",
    " 2. Расстояние, которое проезжают пользователи с подпиской за одну поездку, не превышает оптимально допустимое (3130 метров);\n",
    " 3. Помесячная выручка от пользователей с подпиской выше, чем выручка от пользователей без подписки.\n",
    "    \n",
    "По результатам исследования и анализа получены следующие результаты:\n",
    "\n",
    " 1. **Гипотеза №1 подтвердилась.** Средняя продолжительность поездки с подпиской больше, чем без подписки;\n",
    " 2. **Гипотеза №2 подтвердилась,** однако разница p-value и alpha несущественна, поэтому желательно изменить расстояние для сравнения и повторить расчеты;\n",
    " 3. **Гипотеза №3 подтвердилась.** Средняя месячная выручка по пользователям с подпиской превышает среднюю выручку от пользователей без подписки. "
   ]
  }
 ],
 "metadata": {
  "ExecuteTimeLog": [
   {
    "duration": 55,
    "start_time": "2023-04-25T08:05:22.641Z"
   },
   {
    "duration": 366,
    "start_time": "2023-04-25T08:05:37.240Z"
   },
   {
    "duration": 520,
    "start_time": "2023-04-25T08:05:39.513Z"
   },
   {
    "duration": 44,
    "start_time": "2023-04-25T08:05:44.637Z"
   },
   {
    "duration": 19,
    "start_time": "2023-04-25T08:06:03.382Z"
   },
   {
    "duration": 20,
    "start_time": "2023-04-25T08:08:28.824Z"
   },
   {
    "duration": 5,
    "start_time": "2023-04-25T08:14:21.327Z"
   },
   {
    "duration": 19,
    "start_time": "2023-04-25T08:14:50.721Z"
   },
   {
    "duration": 31,
    "start_time": "2023-04-25T08:15:14.332Z"
   },
   {
    "duration": 7,
    "start_time": "2023-04-25T08:26:57.438Z"
   },
   {
    "duration": 56,
    "start_time": "2023-04-25T08:27:14.887Z"
   },
   {
    "duration": 20,
    "start_time": "2023-04-25T08:27:23.348Z"
   },
   {
    "duration": 21,
    "start_time": "2023-04-25T08:27:28.358Z"
   },
   {
    "duration": 13,
    "start_time": "2023-04-25T08:32:37.443Z"
   },
   {
    "duration": 12,
    "start_time": "2023-04-25T08:37:08.226Z"
   },
   {
    "duration": 6,
    "start_time": "2023-04-25T08:38:22.084Z"
   },
   {
    "duration": 10,
    "start_time": "2023-04-25T08:38:50.936Z"
   },
   {
    "duration": 13,
    "start_time": "2023-04-25T08:39:14.111Z"
   },
   {
    "duration": 11,
    "start_time": "2023-04-25T08:39:31.373Z"
   },
   {
    "duration": 8,
    "start_time": "2023-04-25T08:41:32.934Z"
   },
   {
    "duration": 7,
    "start_time": "2023-04-25T08:41:49.758Z"
   },
   {
    "duration": 6,
    "start_time": "2023-04-25T08:41:58.093Z"
   },
   {
    "duration": 10,
    "start_time": "2023-04-25T08:42:09.603Z"
   },
   {
    "duration": 12,
    "start_time": "2023-04-25T08:42:19.641Z"
   },
   {
    "duration": 14,
    "start_time": "2023-04-25T08:43:52.471Z"
   },
   {
    "duration": 19,
    "start_time": "2023-04-25T08:44:28.322Z"
   },
   {
    "duration": 14,
    "start_time": "2023-04-25T08:47:57.402Z"
   },
   {
    "duration": 8,
    "start_time": "2023-04-25T08:49:18.858Z"
   },
   {
    "duration": 12,
    "start_time": "2023-04-25T08:49:28.116Z"
   },
   {
    "duration": 13,
    "start_time": "2023-04-25T08:49:31.507Z"
   },
   {
    "duration": 8,
    "start_time": "2023-04-25T08:49:51.913Z"
   },
   {
    "duration": 5,
    "start_time": "2023-04-25T08:50:01.704Z"
   },
   {
    "duration": 6,
    "start_time": "2023-04-25T08:50:05.408Z"
   },
   {
    "duration": 15,
    "start_time": "2023-04-25T08:50:11.619Z"
   },
   {
    "duration": 7,
    "start_time": "2023-04-25T08:50:49.939Z"
   },
   {
    "duration": 5,
    "start_time": "2023-04-25T09:13:03.712Z"
   },
   {
    "duration": 5,
    "start_time": "2023-04-25T09:13:07.456Z"
   },
   {
    "duration": 5,
    "start_time": "2023-04-25T09:13:52.600Z"
   },
   {
    "duration": 13,
    "start_time": "2023-04-25T09:24:01.997Z"
   },
   {
    "duration": 664,
    "start_time": "2023-04-25T09:25:08.907Z"
   },
   {
    "duration": 3,
    "start_time": "2023-04-25T09:25:25.537Z"
   },
   {
    "duration": 3,
    "start_time": "2023-04-25T09:25:28.679Z"
   },
   {
    "duration": 157,
    "start_time": "2023-04-25T09:25:34.790Z"
   },
   {
    "duration": 18,
    "start_time": "2023-04-25T09:26:27.073Z"
   },
   {
    "duration": 143,
    "start_time": "2023-04-25T09:26:59.433Z"
   },
   {
    "duration": 715,
    "start_time": "2023-04-25T12:37:04.909Z"
   },
   {
    "duration": 233,
    "start_time": "2023-04-25T12:37:10.906Z"
   },
   {
    "duration": 584,
    "start_time": "2023-04-25T12:37:11.141Z"
   },
   {
    "duration": 43,
    "start_time": "2023-04-25T12:37:11.727Z"
   },
   {
    "duration": 42,
    "start_time": "2023-04-25T12:37:11.773Z"
   },
   {
    "duration": 16,
    "start_time": "2023-04-25T12:37:11.818Z"
   },
   {
    "duration": 26,
    "start_time": "2023-04-25T12:37:11.837Z"
   },
   {
    "duration": 41,
    "start_time": "2023-04-25T12:37:11.865Z"
   },
   {
    "duration": 17,
    "start_time": "2023-04-25T12:37:11.909Z"
   },
   {
    "duration": 7,
    "start_time": "2023-04-25T12:37:11.928Z"
   },
   {
    "duration": 7,
    "start_time": "2023-04-25T12:37:11.937Z"
   },
   {
    "duration": 45,
    "start_time": "2023-04-25T12:37:11.946Z"
   },
   {
    "duration": 16,
    "start_time": "2023-04-25T12:37:11.993Z"
   },
   {
    "duration": 175,
    "start_time": "2023-04-25T12:37:15.956Z"
   },
   {
    "duration": 163,
    "start_time": "2023-04-25T12:38:12.844Z"
   },
   {
    "duration": 13,
    "start_time": "2023-04-25T12:39:42.146Z"
   },
   {
    "duration": 13,
    "start_time": "2023-04-25T12:39:55.076Z"
   },
   {
    "duration": 49,
    "start_time": "2023-04-25T12:40:43.711Z"
   },
   {
    "duration": 152,
    "start_time": "2023-04-25T12:40:50.673Z"
   },
   {
    "duration": 167,
    "start_time": "2023-04-25T12:41:09.711Z"
   },
   {
    "duration": 218,
    "start_time": "2023-04-25T12:43:57.678Z"
   },
   {
    "duration": 167,
    "start_time": "2023-04-25T12:44:09.748Z"
   },
   {
    "duration": 167,
    "start_time": "2023-04-25T12:44:28.410Z"
   },
   {
    "duration": 181,
    "start_time": "2023-04-25T12:44:35.813Z"
   },
   {
    "duration": 6,
    "start_time": "2023-04-25T12:53:01.736Z"
   },
   {
    "duration": 8,
    "start_time": "2023-04-25T12:54:30.773Z"
   },
   {
    "duration": 90,
    "start_time": "2023-04-25T12:54:39.129Z"
   },
   {
    "duration": 7,
    "start_time": "2023-04-25T12:55:12.951Z"
   },
   {
    "duration": 11,
    "start_time": "2023-04-25T12:56:13.613Z"
   },
   {
    "duration": 172,
    "start_time": "2023-04-25T12:56:31.121Z"
   },
   {
    "duration": 176,
    "start_time": "2023-04-25T13:00:35.855Z"
   },
   {
    "duration": 158,
    "start_time": "2023-04-25T13:01:15.759Z"
   },
   {
    "duration": 153,
    "start_time": "2023-04-25T13:02:26.861Z"
   },
   {
    "duration": 152,
    "start_time": "2023-04-25T13:04:37.446Z"
   },
   {
    "duration": 10,
    "start_time": "2023-04-25T13:05:20.413Z"
   },
   {
    "duration": 157,
    "start_time": "2023-04-25T13:06:23.334Z"
   },
   {
    "duration": 3,
    "start_time": "2023-04-25T13:07:15.651Z"
   },
   {
    "duration": 158,
    "start_time": "2023-04-25T13:07:19.050Z"
   },
   {
    "duration": 7,
    "start_time": "2023-04-25T13:10:53.945Z"
   },
   {
    "duration": 170,
    "start_time": "2023-04-25T13:13:59.054Z"
   },
   {
    "duration": 102,
    "start_time": "2023-04-25T13:14:32.390Z"
   },
   {
    "duration": 192,
    "start_time": "2023-04-25T13:18:26.567Z"
   },
   {
    "duration": 165,
    "start_time": "2023-04-25T13:18:40.419Z"
   },
   {
    "duration": 161,
    "start_time": "2023-04-25T13:19:04.440Z"
   },
   {
    "duration": 153,
    "start_time": "2023-04-25T13:19:23.643Z"
   },
   {
    "duration": 169,
    "start_time": "2023-04-25T13:20:11.744Z"
   },
   {
    "duration": 188,
    "start_time": "2023-04-25T13:20:32.026Z"
   },
   {
    "duration": 159,
    "start_time": "2023-04-25T13:20:43.698Z"
   },
   {
    "duration": 162,
    "start_time": "2023-04-25T13:21:36.410Z"
   },
   {
    "duration": 164,
    "start_time": "2023-04-25T13:21:49.138Z"
   },
   {
    "duration": 289,
    "start_time": "2023-04-25T13:22:00.311Z"
   },
   {
    "duration": 162,
    "start_time": "2023-04-25T13:22:17.422Z"
   },
   {
    "duration": 170,
    "start_time": "2023-04-25T13:22:45.594Z"
   },
   {
    "duration": 179,
    "start_time": "2023-04-25T13:23:51.425Z"
   },
   {
    "duration": 201,
    "start_time": "2023-04-25T13:24:13.449Z"
   },
   {
    "duration": 213,
    "start_time": "2023-04-25T13:24:45.732Z"
   },
   {
    "duration": 184,
    "start_time": "2023-04-25T13:26:01.729Z"
   },
   {
    "duration": 7,
    "start_time": "2023-04-25T13:28:08.641Z"
   },
   {
    "duration": 10,
    "start_time": "2023-04-25T13:28:22.589Z"
   },
   {
    "duration": 11,
    "start_time": "2023-04-25T13:29:11.137Z"
   },
   {
    "duration": 16,
    "start_time": "2023-04-25T13:29:23.918Z"
   },
   {
    "duration": 58,
    "start_time": "2023-04-25T13:29:43.043Z"
   },
   {
    "duration": 5,
    "start_time": "2023-04-25T13:29:52.088Z"
   },
   {
    "duration": 11,
    "start_time": "2023-04-25T13:30:20.513Z"
   },
   {
    "duration": 10,
    "start_time": "2023-04-25T13:31:01.832Z"
   },
   {
    "duration": 6,
    "start_time": "2023-04-25T13:31:16.707Z"
   },
   {
    "duration": 7,
    "start_time": "2023-04-25T13:31:40.851Z"
   },
   {
    "duration": 3,
    "start_time": "2023-04-25T13:35:30.215Z"
   },
   {
    "duration": 159,
    "start_time": "2023-04-25T13:36:07.999Z"
   },
   {
    "duration": 17,
    "start_time": "2023-04-25T13:44:07.520Z"
   },
   {
    "duration": 25,
    "start_time": "2023-04-25T13:44:16.411Z"
   },
   {
    "duration": 9,
    "start_time": "2023-04-25T13:44:32.410Z"
   },
   {
    "duration": 28,
    "start_time": "2023-04-25T13:44:43.834Z"
   },
   {
    "duration": 35,
    "start_time": "2023-04-25T13:45:34.991Z"
   },
   {
    "duration": 23,
    "start_time": "2023-04-25T13:46:16.527Z"
   },
   {
    "duration": 20,
    "start_time": "2023-04-25T13:48:02.702Z"
   },
   {
    "duration": 155,
    "start_time": "2023-04-25T13:49:34.155Z"
   },
   {
    "duration": 495,
    "start_time": "2023-04-25T13:50:17.029Z"
   },
   {
    "duration": 121,
    "start_time": "2023-04-25T13:51:48.622Z"
   },
   {
    "duration": 134,
    "start_time": "2023-04-25T13:52:44.707Z"
   },
   {
    "duration": 10,
    "start_time": "2023-04-25T13:52:57.324Z"
   },
   {
    "duration": 150,
    "start_time": "2023-04-25T13:54:41.538Z"
   },
   {
    "duration": 144,
    "start_time": "2023-04-25T13:55:43.978Z"
   },
   {
    "duration": 144,
    "start_time": "2023-04-25T13:55:59.712Z"
   },
   {
    "duration": 165,
    "start_time": "2023-04-25T13:56:10.492Z"
   },
   {
    "duration": 144,
    "start_time": "2023-04-25T13:56:19.910Z"
   },
   {
    "duration": 139,
    "start_time": "2023-04-25T13:56:40.952Z"
   },
   {
    "duration": 148,
    "start_time": "2023-04-25T13:57:08.030Z"
   },
   {
    "duration": 158,
    "start_time": "2023-04-25T13:59:21.894Z"
   },
   {
    "duration": 287,
    "start_time": "2023-04-25T14:02:51.009Z"
   },
   {
    "duration": 183,
    "start_time": "2023-04-25T14:03:05.814Z"
   },
   {
    "duration": 169,
    "start_time": "2023-04-25T14:04:05.585Z"
   },
   {
    "duration": 182,
    "start_time": "2023-04-25T14:04:12.377Z"
   },
   {
    "duration": 197,
    "start_time": "2023-04-25T14:04:16.948Z"
   },
   {
    "duration": 182,
    "start_time": "2023-04-25T14:04:32.546Z"
   },
   {
    "duration": 215,
    "start_time": "2023-04-25T14:04:38.520Z"
   },
   {
    "duration": 189,
    "start_time": "2023-04-25T14:04:54.742Z"
   },
   {
    "duration": 195,
    "start_time": "2023-04-25T14:05:38.045Z"
   },
   {
    "duration": 199,
    "start_time": "2023-04-25T14:06:05.636Z"
   },
   {
    "duration": 177,
    "start_time": "2023-04-25T14:06:29.317Z"
   },
   {
    "duration": 359,
    "start_time": "2023-04-25T14:06:38.932Z"
   },
   {
    "duration": 198,
    "start_time": "2023-04-25T14:06:51.950Z"
   },
   {
    "duration": 148,
    "start_time": "2023-04-25T14:11:24.688Z"
   },
   {
    "duration": 5,
    "start_time": "2023-04-25T14:38:25.629Z"
   },
   {
    "duration": 5,
    "start_time": "2023-04-25T14:38:43.880Z"
   },
   {
    "duration": 144,
    "start_time": "2023-04-25T14:39:12.796Z"
   },
   {
    "duration": 13,
    "start_time": "2023-04-25T14:40:18.396Z"
   },
   {
    "duration": 18,
    "start_time": "2023-04-25T14:40:55.584Z"
   },
   {
    "duration": 130,
    "start_time": "2023-04-25T14:41:15.002Z"
   },
   {
    "duration": 18,
    "start_time": "2023-04-25T14:42:40.473Z"
   },
   {
    "duration": 13,
    "start_time": "2023-04-25T14:44:31.091Z"
   },
   {
    "duration": 18,
    "start_time": "2023-04-25T14:47:12.079Z"
   },
   {
    "duration": 19,
    "start_time": "2023-04-25T14:48:05.934Z"
   },
   {
    "duration": 18,
    "start_time": "2023-04-25T14:48:16.944Z"
   },
   {
    "duration": 19,
    "start_time": "2023-04-25T14:48:22.999Z"
   },
   {
    "duration": 11,
    "start_time": "2023-04-25T14:48:48.121Z"
   },
   {
    "duration": 21,
    "start_time": "2023-04-25T14:48:51.795Z"
   },
   {
    "duration": 26,
    "start_time": "2023-04-25T14:48:56.341Z"
   },
   {
    "duration": 20,
    "start_time": "2023-04-25T14:49:01.323Z"
   },
   {
    "duration": 18,
    "start_time": "2023-04-25T14:49:05.548Z"
   },
   {
    "duration": 17,
    "start_time": "2023-04-25T14:49:11.083Z"
   },
   {
    "duration": 18,
    "start_time": "2023-04-25T14:49:15.693Z"
   },
   {
    "duration": 17,
    "start_time": "2023-04-25T14:49:20.099Z"
   },
   {
    "duration": 18,
    "start_time": "2023-04-25T14:49:24.178Z"
   },
   {
    "duration": 11,
    "start_time": "2023-04-25T14:51:13.844Z"
   },
   {
    "duration": 19,
    "start_time": "2023-04-25T14:52:31.335Z"
   },
   {
    "duration": 15,
    "start_time": "2023-04-25T15:02:49.402Z"
   },
   {
    "duration": 18,
    "start_time": "2023-04-25T15:03:02.901Z"
   },
   {
    "duration": 133,
    "start_time": "2023-04-25T15:04:08.428Z"
   },
   {
    "duration": 190,
    "start_time": "2023-04-25T15:06:52.825Z"
   },
   {
    "duration": 204,
    "start_time": "2023-04-25T15:08:11.820Z"
   },
   {
    "duration": 188,
    "start_time": "2023-04-25T15:08:19.935Z"
   },
   {
    "duration": 210,
    "start_time": "2023-04-25T15:08:31.391Z"
   },
   {
    "duration": 168,
    "start_time": "2023-04-25T15:08:38.495Z"
   },
   {
    "duration": 324,
    "start_time": "2023-04-25T15:09:10.008Z"
   },
   {
    "duration": 21,
    "start_time": "2023-04-25T16:12:48.837Z"
   },
   {
    "duration": 23,
    "start_time": "2023-04-25T16:13:15.980Z"
   },
   {
    "duration": 23,
    "start_time": "2023-04-25T16:13:47.326Z"
   },
   {
    "duration": 25,
    "start_time": "2023-04-25T16:19:50.069Z"
   },
   {
    "duration": 18,
    "start_time": "2023-04-25T16:20:07.427Z"
   },
   {
    "duration": 17,
    "start_time": "2023-04-25T16:20:16.670Z"
   },
   {
    "duration": 33,
    "start_time": "2023-04-25T16:22:30.317Z"
   },
   {
    "duration": 30,
    "start_time": "2023-04-25T16:22:45.222Z"
   },
   {
    "duration": 30,
    "start_time": "2023-04-25T16:23:02.892Z"
   },
   {
    "duration": 28,
    "start_time": "2023-04-25T16:23:28.057Z"
   },
   {
    "duration": 25,
    "start_time": "2023-04-25T16:31:49.376Z"
   },
   {
    "duration": 15,
    "start_time": "2023-04-25T16:39:46.106Z"
   },
   {
    "duration": 21,
    "start_time": "2023-04-25T16:39:56.309Z"
   },
   {
    "duration": 20,
    "start_time": "2023-04-25T16:40:08.129Z"
   },
   {
    "duration": 13,
    "start_time": "2023-04-25T16:41:20.769Z"
   },
   {
    "duration": 62,
    "start_time": "2023-04-25T16:45:34.270Z"
   },
   {
    "duration": 4,
    "start_time": "2023-04-25T16:46:05.190Z"
   },
   {
    "duration": 210,
    "start_time": "2023-04-25T16:46:13.372Z"
   },
   {
    "duration": 212,
    "start_time": "2023-04-25T16:46:50.433Z"
   },
   {
    "duration": 174,
    "start_time": "2023-04-25T16:46:55.173Z"
   },
   {
    "duration": 183,
    "start_time": "2023-04-25T16:47:08.538Z"
   },
   {
    "duration": 199,
    "start_time": "2023-04-25T16:48:13.438Z"
   },
   {
    "duration": 365,
    "start_time": "2023-04-25T16:48:24.182Z"
   },
   {
    "duration": 358,
    "start_time": "2023-04-25T16:54:19.010Z"
   },
   {
    "duration": 494,
    "start_time": "2023-04-25T16:54:23.779Z"
   },
   {
    "duration": 367,
    "start_time": "2023-04-25T16:54:35.473Z"
   },
   {
    "duration": 430,
    "start_time": "2023-04-27T12:49:03.732Z"
   },
   {
    "duration": 204,
    "start_time": "2023-04-27T12:49:04.163Z"
   },
   {
    "duration": 26,
    "start_time": "2023-04-27T12:49:04.368Z"
   },
   {
    "duration": 56,
    "start_time": "2023-04-27T12:49:04.395Z"
   },
   {
    "duration": 60,
    "start_time": "2023-04-27T12:49:04.453Z"
   },
   {
    "duration": 41,
    "start_time": "2023-04-27T12:49:04.515Z"
   },
   {
    "duration": 64,
    "start_time": "2023-04-27T12:49:04.557Z"
   },
   {
    "duration": 29,
    "start_time": "2023-04-27T12:49:04.623Z"
   },
   {
    "duration": 46,
    "start_time": "2023-04-27T12:49:04.654Z"
   },
   {
    "duration": 39,
    "start_time": "2023-04-27T12:49:04.702Z"
   },
   {
    "duration": 43,
    "start_time": "2023-04-27T12:49:04.742Z"
   },
   {
    "duration": 465,
    "start_time": "2023-04-27T12:49:04.786Z"
   },
   {
    "duration": 158,
    "start_time": "2023-04-27T12:49:05.252Z"
   },
   {
    "duration": 87,
    "start_time": "2023-04-27T12:49:05.412Z"
   },
   {
    "duration": 149,
    "start_time": "2023-04-27T12:49:05.500Z"
   },
   {
    "duration": 2,
    "start_time": "2023-04-27T12:49:05.651Z"
   },
   {
    "duration": 45,
    "start_time": "2023-04-27T12:49:05.655Z"
   },
   {
    "duration": 58,
    "start_time": "2023-04-27T12:49:05.702Z"
   },
   {
    "duration": 182,
    "start_time": "2023-04-27T12:49:05.762Z"
   },
   {
    "duration": 169,
    "start_time": "2023-04-27T12:49:05.946Z"
   },
   {
    "duration": 119,
    "start_time": "2023-04-27T12:49:06.117Z"
   },
   {
    "duration": 160,
    "start_time": "2023-04-27T12:49:06.237Z"
   },
   {
    "duration": 15,
    "start_time": "2023-04-27T12:49:06.398Z"
   },
   {
    "duration": 22,
    "start_time": "2023-04-27T12:49:06.414Z"
   },
   {
    "duration": 312,
    "start_time": "2023-04-27T12:49:16.166Z"
   },
   {
    "duration": 333,
    "start_time": "2023-04-27T12:49:47.827Z"
   },
   {
    "duration": 317,
    "start_time": "2023-04-27T12:49:57.621Z"
   },
   {
    "duration": 364,
    "start_time": "2023-04-27T12:50:28.791Z"
   },
   {
    "duration": 116,
    "start_time": "2023-04-27T13:08:31.536Z"
   },
   {
    "duration": 84,
    "start_time": "2023-04-27T13:08:50.129Z"
   },
   {
    "duration": 167,
    "start_time": "2023-04-27T13:10:43.187Z"
   },
   {
    "duration": 79,
    "start_time": "2023-04-27T13:11:12.342Z"
   },
   {
    "duration": 165,
    "start_time": "2023-04-27T13:11:25.831Z"
   },
   {
    "duration": 164,
    "start_time": "2023-04-27T13:12:06.287Z"
   },
   {
    "duration": 174,
    "start_time": "2023-04-27T13:12:42.739Z"
   },
   {
    "duration": 200,
    "start_time": "2023-04-27T13:12:54.843Z"
   },
   {
    "duration": 173,
    "start_time": "2023-04-27T13:13:07.421Z"
   },
   {
    "duration": 316,
    "start_time": "2023-04-27T13:13:57.078Z"
   },
   {
    "duration": 161,
    "start_time": "2023-04-27T13:14:27.534Z"
   },
   {
    "duration": 385,
    "start_time": "2023-04-27T13:19:36.216Z"
   },
   {
    "duration": 329,
    "start_time": "2023-04-27T13:23:11.363Z"
   },
   {
    "duration": 331,
    "start_time": "2023-04-27T13:23:27.564Z"
   },
   {
    "duration": 358,
    "start_time": "2023-04-27T13:23:48.641Z"
   },
   {
    "duration": 322,
    "start_time": "2023-04-27T13:24:45.357Z"
   },
   {
    "duration": 342,
    "start_time": "2023-04-27T13:25:08.706Z"
   },
   {
    "duration": 399,
    "start_time": "2023-04-27T13:25:24.738Z"
   },
   {
    "duration": 350,
    "start_time": "2023-04-27T13:25:45.104Z"
   },
   {
    "duration": 319,
    "start_time": "2023-04-27T13:26:02.992Z"
   },
   {
    "duration": 205,
    "start_time": "2023-04-27T13:28:19.714Z"
   },
   {
    "duration": 5,
    "start_time": "2023-04-27T13:30:56.527Z"
   },
   {
    "duration": 155,
    "start_time": "2023-04-27T13:31:48.637Z"
   },
   {
    "duration": 207,
    "start_time": "2023-04-27T13:32:15.914Z"
   },
   {
    "duration": 166,
    "start_time": "2023-04-27T13:33:43.281Z"
   },
   {
    "duration": 7,
    "start_time": "2023-04-27T13:46:28.604Z"
   },
   {
    "duration": 20,
    "start_time": "2023-04-27T13:48:32.171Z"
   },
   {
    "duration": 30,
    "start_time": "2023-04-27T13:48:42.178Z"
   },
   {
    "duration": 41,
    "start_time": "2023-04-27T13:49:50.377Z"
   },
   {
    "duration": 533,
    "start_time": "2023-04-27T13:54:01.887Z"
   },
   {
    "duration": 27,
    "start_time": "2023-04-27T13:54:19.249Z"
   },
   {
    "duration": 31,
    "start_time": "2023-04-27T13:54:21.774Z"
   },
   {
    "duration": 37,
    "start_time": "2023-04-27T13:54:31.824Z"
   },
   {
    "duration": 99,
    "start_time": "2023-04-27T14:00:12.218Z"
   },
   {
    "duration": 83,
    "start_time": "2023-04-27T14:00:54.489Z"
   },
   {
    "duration": 128,
    "start_time": "2023-04-27T14:01:09.071Z"
   },
   {
    "duration": 3,
    "start_time": "2023-04-27T14:01:21.430Z"
   },
   {
    "duration": 79,
    "start_time": "2023-04-27T14:01:21.435Z"
   },
   {
    "duration": 18,
    "start_time": "2023-04-27T14:01:21.516Z"
   },
   {
    "duration": 28,
    "start_time": "2023-04-27T14:01:21.536Z"
   },
   {
    "duration": 13,
    "start_time": "2023-04-27T14:01:21.566Z"
   },
   {
    "duration": 11,
    "start_time": "2023-04-27T14:01:21.581Z"
   },
   {
    "duration": 41,
    "start_time": "2023-04-27T14:01:21.593Z"
   },
   {
    "duration": 10,
    "start_time": "2023-04-27T14:01:21.636Z"
   },
   {
    "duration": 4,
    "start_time": "2023-04-27T14:01:21.648Z"
   },
   {
    "duration": 6,
    "start_time": "2023-04-27T14:01:21.654Z"
   },
   {
    "duration": 9,
    "start_time": "2023-04-27T14:01:21.661Z"
   },
   {
    "duration": 5,
    "start_time": "2023-04-27T14:01:21.671Z"
   },
   {
    "duration": 166,
    "start_time": "2023-04-27T14:01:21.678Z"
   },
   {
    "duration": 160,
    "start_time": "2023-04-27T14:01:21.846Z"
   },
   {
    "duration": 148,
    "start_time": "2023-04-27T14:01:22.008Z"
   },
   {
    "duration": 2,
    "start_time": "2023-04-27T14:01:22.158Z"
   },
   {
    "duration": 19,
    "start_time": "2023-04-27T14:01:22.161Z"
   },
   {
    "duration": 16,
    "start_time": "2023-04-27T14:01:22.182Z"
   },
   {
    "duration": 137,
    "start_time": "2023-04-27T14:01:22.199Z"
   },
   {
    "duration": 168,
    "start_time": "2023-04-27T14:01:22.337Z"
   },
   {
    "duration": 114,
    "start_time": "2023-04-27T14:01:22.506Z"
   },
   {
    "duration": 158,
    "start_time": "2023-04-27T14:01:22.622Z"
   },
   {
    "duration": 15,
    "start_time": "2023-04-27T14:01:22.781Z"
   },
   {
    "duration": 10,
    "start_time": "2023-04-27T14:01:22.798Z"
   },
   {
    "duration": 325,
    "start_time": "2023-04-27T14:01:22.809Z"
   },
   {
    "duration": 186,
    "start_time": "2023-04-27T14:01:23.136Z"
   },
   {
    "duration": 353,
    "start_time": "2023-04-27T14:01:23.323Z"
   },
   {
    "duration": 122,
    "start_time": "2023-04-27T14:01:27.785Z"
   },
   {
    "duration": 133,
    "start_time": "2023-04-27T14:02:35.959Z"
   },
   {
    "duration": 34,
    "start_time": "2023-04-27T14:03:07.484Z"
   },
   {
    "duration": 32,
    "start_time": "2023-04-27T14:04:23.038Z"
   },
   {
    "duration": 108,
    "start_time": "2023-04-27T14:12:44.461Z"
   },
   {
    "duration": 50,
    "start_time": "2023-04-27T14:14:02.629Z"
   },
   {
    "duration": 5,
    "start_time": "2023-04-27T15:15:04.611Z"
   },
   {
    "duration": 7,
    "start_time": "2023-04-27T15:15:46.003Z"
   },
   {
    "duration": 119,
    "start_time": "2023-04-27T15:16:05.962Z"
   },
   {
    "duration": 301,
    "start_time": "2023-04-27T15:17:19.487Z"
   },
   {
    "duration": 155,
    "start_time": "2023-04-27T15:17:26.350Z"
   },
   {
    "duration": 13,
    "start_time": "2023-04-27T15:17:31.550Z"
   },
   {
    "duration": 4,
    "start_time": "2023-04-27T15:18:11.907Z"
   },
   {
    "duration": 5,
    "start_time": "2023-04-27T15:30:24.586Z"
   },
   {
    "duration": 10,
    "start_time": "2023-04-27T15:32:53.545Z"
   },
   {
    "duration": 6,
    "start_time": "2023-04-27T15:33:01.379Z"
   },
   {
    "duration": 8,
    "start_time": "2023-04-27T15:34:03.073Z"
   },
   {
    "duration": 6,
    "start_time": "2023-04-27T15:34:11.412Z"
   },
   {
    "duration": 6,
    "start_time": "2023-04-27T15:34:17.481Z"
   },
   {
    "duration": 1643,
    "start_time": "2023-04-27T15:56:07.489Z"
   },
   {
    "duration": 1502,
    "start_time": "2023-04-27T15:57:58.272Z"
   },
   {
    "duration": 114,
    "start_time": "2023-04-27T15:59:30.363Z"
   },
   {
    "duration": 2464,
    "start_time": "2023-04-27T16:02:06.306Z"
   },
   {
    "duration": 1512,
    "start_time": "2023-04-27T16:07:37.908Z"
   },
   {
    "duration": 37,
    "start_time": "2023-04-27T16:08:53.482Z"
   },
   {
    "duration": 41,
    "start_time": "2023-04-27T16:17:48.065Z"
   },
   {
    "duration": 41,
    "start_time": "2023-04-27T16:18:33.683Z"
   },
   {
    "duration": 3076,
    "start_time": "2023-04-27T16:18:45.900Z"
   },
   {
    "duration": 3039,
    "start_time": "2023-04-27T16:20:15.022Z"
   },
   {
    "duration": 2422,
    "start_time": "2023-04-27T16:21:42.156Z"
   },
   {
    "duration": 1894,
    "start_time": "2023-04-27T16:22:23.661Z"
   },
   {
    "duration": 1646,
    "start_time": "2023-04-27T16:27:42.627Z"
   },
   {
    "duration": 50,
    "start_time": "2023-04-28T10:34:24.452Z"
   },
   {
    "duration": 427,
    "start_time": "2023-04-28T10:34:29.515Z"
   },
   {
    "duration": 319,
    "start_time": "2023-04-28T10:34:29.944Z"
   },
   {
    "duration": 43,
    "start_time": "2023-04-28T10:34:30.265Z"
   },
   {
    "duration": 47,
    "start_time": "2023-04-28T10:34:30.310Z"
   },
   {
    "duration": 33,
    "start_time": "2023-04-28T10:34:30.361Z"
   },
   {
    "duration": 41,
    "start_time": "2023-04-28T10:34:30.397Z"
   },
   {
    "duration": 46,
    "start_time": "2023-04-28T10:34:30.440Z"
   },
   {
    "duration": 49,
    "start_time": "2023-04-28T10:34:30.488Z"
   },
   {
    "duration": 23,
    "start_time": "2023-04-28T10:34:30.539Z"
   },
   {
    "duration": 52,
    "start_time": "2023-04-28T10:34:30.564Z"
   },
   {
    "duration": 37,
    "start_time": "2023-04-28T10:34:30.618Z"
   },
   {
    "duration": 491,
    "start_time": "2023-04-28T10:34:30.657Z"
   },
   {
    "duration": 230,
    "start_time": "2023-04-28T10:34:31.151Z"
   },
   {
    "duration": 103,
    "start_time": "2023-04-28T10:34:31.388Z"
   },
   {
    "duration": 181,
    "start_time": "2023-04-28T10:34:31.492Z"
   },
   {
    "duration": 5,
    "start_time": "2023-04-28T10:34:31.675Z"
   },
   {
    "duration": 12,
    "start_time": "2023-04-28T10:34:31.690Z"
   },
   {
    "duration": 19,
    "start_time": "2023-04-28T10:34:31.704Z"
   },
   {
    "duration": 224,
    "start_time": "2023-04-28T10:34:31.725Z"
   },
   {
    "duration": 218,
    "start_time": "2023-04-28T10:34:31.951Z"
   },
   {
    "duration": 153,
    "start_time": "2023-04-28T10:34:32.171Z"
   },
   {
    "duration": 189,
    "start_time": "2023-04-28T10:34:32.326Z"
   },
   {
    "duration": 18,
    "start_time": "2023-04-28T10:34:32.517Z"
   },
   {
    "duration": 13,
    "start_time": "2023-04-28T10:34:32.537Z"
   },
   {
    "duration": 397,
    "start_time": "2023-04-28T10:34:32.552Z"
   },
   {
    "duration": 228,
    "start_time": "2023-04-28T10:34:32.951Z"
   },
   {
    "duration": 402,
    "start_time": "2023-04-28T10:34:33.182Z"
   },
   {
    "duration": 50,
    "start_time": "2023-04-28T10:34:35.824Z"
   },
   {
    "duration": 46,
    "start_time": "2023-04-28T10:34:51.802Z"
   },
   {
    "duration": 48,
    "start_time": "2023-04-28T10:39:46.272Z"
   },
   {
    "duration": 71,
    "start_time": "2023-04-28T10:40:07.606Z"
   },
   {
    "duration": 37,
    "start_time": "2023-04-28T10:40:21.359Z"
   },
   {
    "duration": 37,
    "start_time": "2023-04-28T10:40:34.007Z"
   },
   {
    "duration": 41,
    "start_time": "2023-04-28T10:47:33.676Z"
   },
   {
    "duration": 237,
    "start_time": "2023-04-28T10:47:54.058Z"
   },
   {
    "duration": 40,
    "start_time": "2023-04-28T10:48:17.397Z"
   },
   {
    "duration": 112,
    "start_time": "2023-04-28T10:49:33.263Z"
   },
   {
    "duration": 177,
    "start_time": "2023-04-28T10:49:51.905Z"
   },
   {
    "duration": 241,
    "start_time": "2023-04-28T10:51:44.934Z"
   },
   {
    "duration": 36,
    "start_time": "2023-04-28T10:54:26.297Z"
   },
   {
    "duration": 13,
    "start_time": "2023-04-28T11:01:59.617Z"
   },
   {
    "duration": 8,
    "start_time": "2023-04-28T11:02:44.452Z"
   },
   {
    "duration": 8,
    "start_time": "2023-04-28T11:03:01.787Z"
   },
   {
    "duration": 19,
    "start_time": "2023-04-28T11:03:36.094Z"
   },
   {
    "duration": 17,
    "start_time": "2023-04-28T11:03:45.982Z"
   },
   {
    "duration": 66,
    "start_time": "2023-04-28T11:04:24.952Z"
   },
   {
    "duration": 25,
    "start_time": "2023-04-28T11:04:55.187Z"
   },
   {
    "duration": 3,
    "start_time": "2023-04-28T11:05:11.351Z"
   },
   {
    "duration": 82,
    "start_time": "2023-04-28T11:05:11.356Z"
   },
   {
    "duration": 21,
    "start_time": "2023-04-28T11:05:11.440Z"
   },
   {
    "duration": 30,
    "start_time": "2023-04-28T11:05:11.464Z"
   },
   {
    "duration": 14,
    "start_time": "2023-04-28T11:05:11.496Z"
   },
   {
    "duration": 37,
    "start_time": "2023-04-28T11:05:11.512Z"
   },
   {
    "duration": 13,
    "start_time": "2023-04-28T11:05:11.551Z"
   },
   {
    "duration": 14,
    "start_time": "2023-04-28T11:05:11.566Z"
   },
   {
    "duration": 6,
    "start_time": "2023-04-28T11:05:11.589Z"
   },
   {
    "duration": 21,
    "start_time": "2023-04-28T11:05:11.597Z"
   },
   {
    "duration": 7,
    "start_time": "2023-04-28T11:05:11.620Z"
   },
   {
    "duration": 7,
    "start_time": "2023-04-28T11:05:11.628Z"
   },
   {
    "duration": 172,
    "start_time": "2023-04-28T11:05:11.638Z"
   },
   {
    "duration": 104,
    "start_time": "2023-04-28T11:05:11.812Z"
   },
   {
    "duration": 248,
    "start_time": "2023-04-28T11:05:11.917Z"
   },
   {
    "duration": 3,
    "start_time": "2023-04-28T11:05:12.166Z"
   },
   {
    "duration": 30,
    "start_time": "2023-04-28T11:05:12.171Z"
   },
   {
    "duration": 28,
    "start_time": "2023-04-28T11:05:12.203Z"
   },
   {
    "duration": 139,
    "start_time": "2023-04-28T11:05:12.233Z"
   },
   {
    "duration": 190,
    "start_time": "2023-04-28T11:05:12.374Z"
   },
   {
    "duration": 141,
    "start_time": "2023-04-28T11:05:12.566Z"
   },
   {
    "duration": 182,
    "start_time": "2023-04-28T11:05:12.709Z"
   },
   {
    "duration": 16,
    "start_time": "2023-04-28T11:05:12.892Z"
   },
   {
    "duration": 13,
    "start_time": "2023-04-28T11:05:12.911Z"
   },
   {
    "duration": 381,
    "start_time": "2023-04-28T11:05:12.926Z"
   },
   {
    "duration": 202,
    "start_time": "2023-04-28T11:05:13.309Z"
   },
   {
    "duration": 368,
    "start_time": "2023-04-28T11:05:13.513Z"
   },
   {
    "duration": 49,
    "start_time": "2023-04-28T11:05:13.883Z"
   },
   {
    "duration": 18,
    "start_time": "2023-04-28T11:05:16.023Z"
   },
   {
    "duration": 8,
    "start_time": "2023-04-28T11:05:54.502Z"
   },
   {
    "duration": 238,
    "start_time": "2023-04-28T11:06:08.127Z"
   },
   {
    "duration": 15,
    "start_time": "2023-04-28T11:06:15.602Z"
   },
   {
    "duration": 14,
    "start_time": "2023-04-28T11:06:31.425Z"
   },
   {
    "duration": 18,
    "start_time": "2023-04-28T11:08:12.310Z"
   },
   {
    "duration": 4,
    "start_time": "2023-04-28T11:09:51.313Z"
   },
   {
    "duration": 30,
    "start_time": "2023-04-28T11:10:19.802Z"
   },
   {
    "duration": 16,
    "start_time": "2023-04-28T11:11:55.439Z"
   },
   {
    "duration": 21,
    "start_time": "2023-04-28T11:13:35.615Z"
   },
   {
    "duration": 26,
    "start_time": "2023-04-28T11:13:43.376Z"
   },
   {
    "duration": 2,
    "start_time": "2023-04-28T11:15:10.117Z"
   },
   {
    "duration": 84,
    "start_time": "2023-04-28T11:15:10.121Z"
   },
   {
    "duration": 30,
    "start_time": "2023-04-28T11:15:10.208Z"
   },
   {
    "duration": 60,
    "start_time": "2023-04-28T11:15:10.241Z"
   },
   {
    "duration": 19,
    "start_time": "2023-04-28T11:15:10.303Z"
   },
   {
    "duration": 14,
    "start_time": "2023-04-28T11:15:10.324Z"
   },
   {
    "duration": 12,
    "start_time": "2023-04-28T11:15:13.554Z"
   },
   {
    "duration": 3,
    "start_time": "2023-04-28T11:15:33.737Z"
   },
   {
    "duration": 99,
    "start_time": "2023-04-28T11:15:33.742Z"
   },
   {
    "duration": 21,
    "start_time": "2023-04-28T11:15:33.843Z"
   },
   {
    "duration": 55,
    "start_time": "2023-04-28T11:15:33.867Z"
   },
   {
    "duration": 16,
    "start_time": "2023-04-28T11:15:33.924Z"
   },
   {
    "duration": 54,
    "start_time": "2023-04-28T11:15:33.942Z"
   },
   {
    "duration": 27,
    "start_time": "2023-04-28T11:15:33.997Z"
   },
   {
    "duration": 25,
    "start_time": "2023-04-28T11:15:34.026Z"
   },
   {
    "duration": 5,
    "start_time": "2023-04-28T11:15:34.054Z"
   },
   {
    "duration": 144,
    "start_time": "2023-04-28T11:15:34.060Z"
   },
   {
    "duration": 6,
    "start_time": "2023-04-28T11:15:34.205Z"
   },
   {
    "duration": 10,
    "start_time": "2023-04-28T11:15:34.213Z"
   },
   {
    "duration": 179,
    "start_time": "2023-04-28T11:15:34.224Z"
   },
   {
    "duration": 200,
    "start_time": "2023-04-28T11:15:34.405Z"
   },
   {
    "duration": 171,
    "start_time": "2023-04-28T11:15:34.607Z"
   },
   {
    "duration": 2,
    "start_time": "2023-04-28T11:15:34.779Z"
   },
   {
    "duration": 34,
    "start_time": "2023-04-28T11:15:34.783Z"
   },
   {
    "duration": 16,
    "start_time": "2023-04-28T11:15:34.819Z"
   },
   {
    "duration": 188,
    "start_time": "2023-04-28T11:15:34.837Z"
   },
   {
    "duration": 213,
    "start_time": "2023-04-28T11:15:35.027Z"
   },
   {
    "duration": 140,
    "start_time": "2023-04-28T11:15:35.242Z"
   },
   {
    "duration": 189,
    "start_time": "2023-04-28T11:15:35.390Z"
   },
   {
    "duration": 34,
    "start_time": "2023-04-28T11:15:35.580Z"
   },
   {
    "duration": 14,
    "start_time": "2023-04-28T11:15:35.617Z"
   },
   {
    "duration": 373,
    "start_time": "2023-04-28T11:15:35.633Z"
   },
   {
    "duration": 205,
    "start_time": "2023-04-28T11:15:36.007Z"
   },
   {
    "duration": 389,
    "start_time": "2023-04-28T11:15:36.213Z"
   },
   {
    "duration": 39,
    "start_time": "2023-04-28T11:15:36.604Z"
   },
   {
    "duration": 332,
    "start_time": "2023-04-28T11:15:36.645Z"
   },
   {
    "duration": 47,
    "start_time": "2023-04-28T11:17:50.548Z"
   },
   {
    "duration": 18,
    "start_time": "2023-04-28T11:19:52.247Z"
   },
   {
    "duration": 20,
    "start_time": "2023-04-28T11:20:56.110Z"
   },
   {
    "duration": 17,
    "start_time": "2023-04-28T11:22:49.924Z"
   },
   {
    "duration": 866,
    "start_time": "2023-04-28T11:25:18.477Z"
   },
   {
    "duration": 53,
    "start_time": "2023-04-28T11:26:00.153Z"
   },
   {
    "duration": 48,
    "start_time": "2023-04-28T11:26:24.442Z"
   },
   {
    "duration": 244,
    "start_time": "2023-04-28T11:26:34.856Z"
   },
   {
    "duration": 15,
    "start_time": "2023-04-28T11:26:43.102Z"
   },
   {
    "duration": 22,
    "start_time": "2023-04-28T11:26:52.580Z"
   },
   {
    "duration": 22,
    "start_time": "2023-04-28T11:35:00.286Z"
   },
   {
    "duration": 14,
    "start_time": "2023-04-28T11:35:20.110Z"
   },
   {
    "duration": 13,
    "start_time": "2023-04-28T11:36:21.853Z"
   },
   {
    "duration": 4,
    "start_time": "2023-04-28T11:37:40.137Z"
   },
   {
    "duration": 4,
    "start_time": "2023-04-28T11:37:59.044Z"
   },
   {
    "duration": 468,
    "start_time": "2023-04-28T15:08:08.441Z"
   },
   {
    "duration": 3,
    "start_time": "2023-04-28T15:08:12.941Z"
   },
   {
    "duration": 75,
    "start_time": "2023-04-28T15:08:12.946Z"
   },
   {
    "duration": 21,
    "start_time": "2023-04-28T15:08:13.023Z"
   },
   {
    "duration": 48,
    "start_time": "2023-04-28T15:08:13.046Z"
   },
   {
    "duration": 15,
    "start_time": "2023-04-28T15:08:13.096Z"
   },
   {
    "duration": 13,
    "start_time": "2023-04-28T15:08:13.114Z"
   },
   {
    "duration": 16,
    "start_time": "2023-04-28T15:08:13.129Z"
   },
   {
    "duration": 53,
    "start_time": "2023-04-28T15:08:13.147Z"
   },
   {
    "duration": 6,
    "start_time": "2023-04-28T15:08:13.202Z"
   },
   {
    "duration": 9,
    "start_time": "2023-04-28T15:08:13.209Z"
   },
   {
    "duration": 14,
    "start_time": "2023-04-28T15:08:13.220Z"
   },
   {
    "duration": 8,
    "start_time": "2023-04-28T15:08:13.236Z"
   },
   {
    "duration": 190,
    "start_time": "2023-04-28T15:08:13.245Z"
   },
   {
    "duration": 109,
    "start_time": "2023-04-28T15:08:13.439Z"
   },
   {
    "duration": 166,
    "start_time": "2023-04-28T15:08:13.550Z"
   },
   {
    "duration": 3,
    "start_time": "2023-04-28T15:08:13.718Z"
   },
   {
    "duration": 12,
    "start_time": "2023-04-28T15:08:13.723Z"
   },
   {
    "duration": 17,
    "start_time": "2023-04-28T15:08:13.737Z"
   },
   {
    "duration": 190,
    "start_time": "2023-04-28T15:08:13.756Z"
   },
   {
    "duration": 211,
    "start_time": "2023-04-28T15:08:13.948Z"
   },
   {
    "duration": 233,
    "start_time": "2023-04-28T15:08:14.161Z"
   },
   {
    "duration": 195,
    "start_time": "2023-04-28T15:08:14.396Z"
   },
   {
    "duration": 17,
    "start_time": "2023-04-28T15:08:14.593Z"
   },
   {
    "duration": 13,
    "start_time": "2023-04-28T15:08:14.611Z"
   },
   {
    "duration": 412,
    "start_time": "2023-04-28T15:08:14.626Z"
   },
   {
    "duration": 218,
    "start_time": "2023-04-28T15:08:15.040Z"
   },
   {
    "duration": 402,
    "start_time": "2023-04-28T15:08:15.260Z"
   },
   {
    "duration": 58,
    "start_time": "2023-04-28T15:08:15.664Z"
   },
   {
    "duration": 269,
    "start_time": "2023-04-28T15:08:15.724Z"
   },
   {
    "duration": 15,
    "start_time": "2023-04-28T15:08:15.995Z"
   },
   {
    "duration": 21,
    "start_time": "2023-04-28T15:08:16.012Z"
   },
   {
    "duration": 6,
    "start_time": "2023-04-28T15:08:16.035Z"
   },
   {
    "duration": 6,
    "start_time": "2023-04-28T15:14:25.522Z"
   },
   {
    "duration": 12,
    "start_time": "2023-04-28T15:15:53.438Z"
   },
   {
    "duration": 14,
    "start_time": "2023-04-28T15:16:34.799Z"
   },
   {
    "duration": 14,
    "start_time": "2023-04-28T15:16:42.402Z"
   },
   {
    "duration": 13,
    "start_time": "2023-04-28T15:18:27.930Z"
   },
   {
    "duration": 13,
    "start_time": "2023-04-28T15:24:47.247Z"
   },
   {
    "duration": 13,
    "start_time": "2023-04-28T15:27:05.243Z"
   },
   {
    "duration": 6,
    "start_time": "2023-04-28T15:28:09.895Z"
   },
   {
    "duration": 5,
    "start_time": "2023-04-28T15:28:43.206Z"
   },
   {
    "duration": 6,
    "start_time": "2023-04-28T15:35:26.882Z"
   },
   {
    "duration": 5,
    "start_time": "2023-04-28T15:36:03.491Z"
   },
   {
    "duration": 6,
    "start_time": "2023-04-28T15:44:28.771Z"
   },
   {
    "duration": 6,
    "start_time": "2023-04-28T15:44:59.985Z"
   },
   {
    "duration": 8,
    "start_time": "2023-04-28T15:59:09.032Z"
   },
   {
    "duration": 3,
    "start_time": "2023-04-28T15:59:47.853Z"
   },
   {
    "duration": 71,
    "start_time": "2023-04-28T15:59:47.859Z"
   },
   {
    "duration": 25,
    "start_time": "2023-04-28T15:59:47.933Z"
   },
   {
    "duration": 38,
    "start_time": "2023-04-28T15:59:47.960Z"
   },
   {
    "duration": 20,
    "start_time": "2023-04-28T15:59:48.000Z"
   },
   {
    "duration": 13,
    "start_time": "2023-04-28T15:59:48.022Z"
   },
   {
    "duration": 15,
    "start_time": "2023-04-28T15:59:48.037Z"
   },
   {
    "duration": 12,
    "start_time": "2023-04-28T15:59:48.090Z"
   },
   {
    "duration": 9,
    "start_time": "2023-04-28T15:59:48.104Z"
   },
   {
    "duration": 16,
    "start_time": "2023-04-28T15:59:48.115Z"
   },
   {
    "duration": 10,
    "start_time": "2023-04-28T15:59:48.132Z"
   },
   {
    "duration": 8,
    "start_time": "2023-04-28T15:59:48.144Z"
   },
   {
    "duration": 178,
    "start_time": "2023-04-28T15:59:48.153Z"
   },
   {
    "duration": 108,
    "start_time": "2023-04-28T15:59:48.335Z"
   },
   {
    "duration": 172,
    "start_time": "2023-04-28T15:59:48.444Z"
   },
   {
    "duration": 3,
    "start_time": "2023-04-28T15:59:48.618Z"
   },
   {
    "duration": 22,
    "start_time": "2023-04-28T15:59:48.623Z"
   },
   {
    "duration": 16,
    "start_time": "2023-04-28T15:59:48.647Z"
   },
   {
    "duration": 161,
    "start_time": "2023-04-28T15:59:48.665Z"
   },
   {
    "duration": 283,
    "start_time": "2023-04-28T15:59:48.828Z"
   },
   {
    "duration": 141,
    "start_time": "2023-04-28T15:59:49.112Z"
   },
   {
    "duration": 191,
    "start_time": "2023-04-28T15:59:49.255Z"
   },
   {
    "duration": 19,
    "start_time": "2023-04-28T15:59:49.448Z"
   },
   {
    "duration": 29,
    "start_time": "2023-04-28T15:59:49.468Z"
   },
   {
    "duration": 375,
    "start_time": "2023-04-28T15:59:49.499Z"
   },
   {
    "duration": 226,
    "start_time": "2023-04-28T15:59:49.876Z"
   },
   {
    "duration": 433,
    "start_time": "2023-04-28T15:59:50.104Z"
   },
   {
    "duration": 80,
    "start_time": "2023-04-28T15:59:50.539Z"
   },
   {
    "duration": 260,
    "start_time": "2023-04-28T15:59:50.621Z"
   },
   {
    "duration": 14,
    "start_time": "2023-04-28T15:59:50.883Z"
   },
   {
    "duration": 52,
    "start_time": "2023-04-28T15:59:50.899Z"
   },
   {
    "duration": 12,
    "start_time": "2023-04-28T15:59:50.953Z"
   },
   {
    "duration": 45,
    "start_time": "2023-04-28T15:59:50.967Z"
   },
   {
    "duration": 20,
    "start_time": "2023-04-28T15:59:51.014Z"
   },
   {
    "duration": 8,
    "start_time": "2023-04-28T15:59:51.035Z"
   },
   {
    "duration": 6,
    "start_time": "2023-04-28T15:59:57.679Z"
   },
   {
    "duration": 5,
    "start_time": "2023-04-28T16:07:34.203Z"
   },
   {
    "duration": 6,
    "start_time": "2023-04-28T16:08:04.571Z"
   },
   {
    "duration": 6,
    "start_time": "2023-04-28T16:15:37.393Z"
   },
   {
    "duration": 11,
    "start_time": "2023-04-28T16:24:27.673Z"
   },
   {
    "duration": 8,
    "start_time": "2023-04-28T16:25:20.368Z"
   },
   {
    "duration": 6,
    "start_time": "2023-04-28T16:32:36.201Z"
   },
   {
    "duration": 6,
    "start_time": "2023-04-28T16:33:08.885Z"
   },
   {
    "duration": 6,
    "start_time": "2023-04-28T16:33:21.997Z"
   },
   {
    "duration": 6,
    "start_time": "2023-04-28T16:33:26.502Z"
   },
   {
    "duration": 46,
    "start_time": "2023-05-01T15:59:03.987Z"
   },
   {
    "duration": 380,
    "start_time": "2023-05-01T15:59:09.684Z"
   },
   {
    "duration": 327,
    "start_time": "2023-05-01T15:59:10.065Z"
   },
   {
    "duration": 26,
    "start_time": "2023-05-01T15:59:10.394Z"
   },
   {
    "duration": 35,
    "start_time": "2023-05-01T15:59:10.421Z"
   },
   {
    "duration": 12,
    "start_time": "2023-05-01T15:59:10.459Z"
   },
   {
    "duration": 11,
    "start_time": "2023-05-01T15:59:10.473Z"
   },
   {
    "duration": 11,
    "start_time": "2023-05-01T15:59:10.485Z"
   },
   {
    "duration": 49,
    "start_time": "2023-05-01T15:59:10.497Z"
   },
   {
    "duration": 8,
    "start_time": "2023-05-01T15:59:10.547Z"
   },
   {
    "duration": 19,
    "start_time": "2023-05-01T15:59:10.557Z"
   },
   {
    "duration": 12,
    "start_time": "2023-05-01T15:59:10.578Z"
   },
   {
    "duration": 409,
    "start_time": "2023-05-01T15:59:10.592Z"
   },
   {
    "duration": 185,
    "start_time": "2023-05-01T15:59:11.003Z"
   },
   {
    "duration": 96,
    "start_time": "2023-05-01T15:59:11.192Z"
   },
   {
    "duration": 151,
    "start_time": "2023-05-01T15:59:11.290Z"
   },
   {
    "duration": 8,
    "start_time": "2023-05-01T15:59:11.443Z"
   },
   {
    "duration": 12,
    "start_time": "2023-05-01T15:59:11.453Z"
   },
   {
    "duration": 23,
    "start_time": "2023-05-01T15:59:11.466Z"
   },
   {
    "duration": 181,
    "start_time": "2023-05-01T15:59:11.491Z"
   },
   {
    "duration": 184,
    "start_time": "2023-05-01T15:59:11.674Z"
   },
   {
    "duration": 136,
    "start_time": "2023-05-01T15:59:11.860Z"
   },
   {
    "duration": 177,
    "start_time": "2023-05-01T15:59:11.997Z"
   },
   {
    "duration": 16,
    "start_time": "2023-05-01T15:59:12.175Z"
   },
   {
    "duration": 13,
    "start_time": "2023-05-01T15:59:12.192Z"
   },
   {
    "duration": 383,
    "start_time": "2023-05-01T15:59:12.207Z"
   },
   {
    "duration": 208,
    "start_time": "2023-05-01T15:59:12.592Z"
   },
   {
    "duration": 385,
    "start_time": "2023-05-01T15:59:12.802Z"
   },
   {
    "duration": 60,
    "start_time": "2023-05-01T15:59:13.188Z"
   },
   {
    "duration": 258,
    "start_time": "2023-05-01T15:59:13.250Z"
   },
   {
    "duration": 12,
    "start_time": "2023-05-01T15:59:13.510Z"
   },
   {
    "duration": 18,
    "start_time": "2023-05-01T15:59:13.534Z"
   },
   {
    "duration": 11,
    "start_time": "2023-05-01T15:59:13.554Z"
   },
   {
    "duration": 507,
    "start_time": "2023-05-01T15:59:13.567Z"
   },
   {
    "duration": 12,
    "start_time": "2023-05-01T15:59:14.075Z"
   },
   {
    "duration": 5,
    "start_time": "2023-05-01T15:59:14.089Z"
   },
   {
    "duration": 5,
    "start_time": "2023-05-01T15:59:16.659Z"
   },
   {
    "duration": 45,
    "start_time": "2023-05-02T06:06:57.668Z"
   },
   {
    "duration": 362,
    "start_time": "2023-05-02T06:07:03.752Z"
   },
   {
    "duration": 223,
    "start_time": "2023-05-02T06:07:04.117Z"
   },
   {
    "duration": 25,
    "start_time": "2023-05-02T06:07:04.342Z"
   },
   {
    "duration": 26,
    "start_time": "2023-05-02T06:07:04.369Z"
   },
   {
    "duration": 13,
    "start_time": "2023-05-02T06:07:04.396Z"
   },
   {
    "duration": 11,
    "start_time": "2023-05-02T06:07:04.411Z"
   },
   {
    "duration": 13,
    "start_time": "2023-05-02T06:07:04.423Z"
   },
   {
    "duration": 10,
    "start_time": "2023-05-02T06:07:04.437Z"
   },
   {
    "duration": 45,
    "start_time": "2023-05-02T06:07:04.449Z"
   },
   {
    "duration": 4,
    "start_time": "2023-05-02T06:07:04.497Z"
   },
   {
    "duration": 5,
    "start_time": "2023-05-02T06:07:04.502Z"
   },
   {
    "duration": 395,
    "start_time": "2023-05-02T06:07:04.509Z"
   },
   {
    "duration": 139,
    "start_time": "2023-05-02T06:07:04.905Z"
   },
   {
    "duration": 84,
    "start_time": "2023-05-02T06:07:05.046Z"
   },
   {
    "duration": 137,
    "start_time": "2023-05-02T06:07:05.131Z"
   },
   {
    "duration": 2,
    "start_time": "2023-05-02T06:07:05.269Z"
   },
   {
    "duration": 26,
    "start_time": "2023-05-02T06:07:05.273Z"
   },
   {
    "duration": 14,
    "start_time": "2023-05-02T06:07:05.300Z"
   },
   {
    "duration": 170,
    "start_time": "2023-05-02T06:07:05.316Z"
   },
   {
    "duration": 155,
    "start_time": "2023-05-02T06:07:05.493Z"
   },
   {
    "duration": 108,
    "start_time": "2023-05-02T06:07:05.650Z"
   },
   {
    "duration": 175,
    "start_time": "2023-05-02T06:07:05.759Z"
   },
   {
    "duration": 16,
    "start_time": "2023-05-02T06:07:05.935Z"
   },
   {
    "duration": 11,
    "start_time": "2023-05-02T06:07:05.953Z"
   },
   {
    "duration": 335,
    "start_time": "2023-05-02T06:07:05.966Z"
   },
   {
    "duration": 174,
    "start_time": "2023-05-02T06:07:06.302Z"
   },
   {
    "duration": 303,
    "start_time": "2023-05-02T06:07:06.478Z"
   },
   {
    "duration": 43,
    "start_time": "2023-05-02T06:07:06.783Z"
   },
   {
    "duration": 200,
    "start_time": "2023-05-02T06:07:06.827Z"
   },
   {
    "duration": 10,
    "start_time": "2023-05-02T06:07:07.029Z"
   },
   {
    "duration": 12,
    "start_time": "2023-05-02T06:07:07.040Z"
   },
   {
    "duration": 5,
    "start_time": "2023-05-02T06:07:07.054Z"
   },
   {
    "duration": 489,
    "start_time": "2023-05-02T06:07:07.060Z"
   },
   {
    "duration": 10,
    "start_time": "2023-05-02T06:07:07.551Z"
   },
   {
    "duration": 5,
    "start_time": "2023-05-02T06:07:07.562Z"
   },
   {
    "duration": 6,
    "start_time": "2023-05-02T06:07:07.568Z"
   },
   {
    "duration": 11,
    "start_time": "2023-05-02T06:07:13.410Z"
   },
   {
    "duration": 60,
    "start_time": "2023-05-02T06:29:46.383Z"
   },
   {
    "duration": 17,
    "start_time": "2023-05-02T06:29:58.080Z"
   },
   {
    "duration": 35,
    "start_time": "2023-05-02T06:31:01.136Z"
   },
   {
    "duration": 30,
    "start_time": "2023-05-02T06:31:44.480Z"
   },
   {
    "duration": 25,
    "start_time": "2023-05-02T06:32:37.932Z"
   },
   {
    "duration": 24,
    "start_time": "2023-05-02T06:33:12.530Z"
   },
   {
    "duration": 21,
    "start_time": "2023-05-02T06:34:02.479Z"
   },
   {
    "duration": 19,
    "start_time": "2023-05-02T06:35:49.316Z"
   },
   {
    "duration": 6,
    "start_time": "2023-05-02T06:38:58.716Z"
   },
   {
    "duration": 6,
    "start_time": "2023-05-02T06:39:07.028Z"
   },
   {
    "duration": 7,
    "start_time": "2023-05-02T06:39:39.065Z"
   },
   {
    "duration": 6,
    "start_time": "2023-05-02T06:39:50.515Z"
   },
   {
    "duration": 19,
    "start_time": "2023-05-02T06:55:33.685Z"
   },
   {
    "duration": 2,
    "start_time": "2023-05-02T06:55:39.024Z"
   },
   {
    "duration": 57,
    "start_time": "2023-05-02T06:55:40.980Z"
   },
   {
    "duration": 21,
    "start_time": "2023-05-02T06:55:44.210Z"
   },
   {
    "duration": 24,
    "start_time": "2023-05-02T06:56:02.385Z"
   },
   {
    "duration": 19,
    "start_time": "2023-05-02T06:56:14.030Z"
   },
   {
    "duration": 12,
    "start_time": "2023-05-02T06:56:22.712Z"
   },
   {
    "duration": 11,
    "start_time": "2023-05-02T06:56:26.553Z"
   },
   {
    "duration": 10,
    "start_time": "2023-05-02T06:56:37.382Z"
   },
   {
    "duration": 4,
    "start_time": "2023-05-02T06:57:04.943Z"
   },
   {
    "duration": 6,
    "start_time": "2023-05-02T06:57:09.623Z"
   },
   {
    "duration": 4,
    "start_time": "2023-05-02T06:57:12.830Z"
   },
   {
    "duration": 2,
    "start_time": "2023-05-02T06:57:20.482Z"
   },
   {
    "duration": 130,
    "start_time": "2023-05-02T06:57:22.929Z"
   },
   {
    "duration": 75,
    "start_time": "2023-05-02T06:57:31.938Z"
   },
   {
    "duration": 137,
    "start_time": "2023-05-02T06:57:36.181Z"
   },
   {
    "duration": 9,
    "start_time": "2023-05-02T06:57:56.717Z"
   },
   {
    "duration": 16,
    "start_time": "2023-05-02T06:58:01.232Z"
   },
   {
    "duration": 108,
    "start_time": "2023-05-02T06:58:06.734Z"
   },
   {
    "duration": 152,
    "start_time": "2023-05-02T06:58:15.720Z"
   },
   {
    "duration": 103,
    "start_time": "2023-05-02T06:58:20.926Z"
   },
   {
    "duration": 149,
    "start_time": "2023-05-02T06:58:25.712Z"
   },
   {
    "duration": 15,
    "start_time": "2023-05-02T06:58:33.920Z"
   },
   {
    "duration": 11,
    "start_time": "2023-05-02T06:58:37.136Z"
   },
   {
    "duration": 391,
    "start_time": "2023-05-02T06:58:41.805Z"
   },
   {
    "duration": 150,
    "start_time": "2023-05-02T06:58:47.418Z"
   },
   {
    "duration": 290,
    "start_time": "2023-05-02T06:58:51.730Z"
   },
   {
    "duration": 39,
    "start_time": "2023-05-02T06:58:58.544Z"
   },
   {
    "duration": 201,
    "start_time": "2023-05-02T06:59:07.423Z"
   },
   {
    "duration": 13,
    "start_time": "2023-05-02T06:59:13.638Z"
   },
   {
    "duration": 13,
    "start_time": "2023-05-02T06:59:19.418Z"
   },
   {
    "duration": 12,
    "start_time": "2023-05-02T07:00:04.376Z"
   },
   {
    "duration": 4,
    "start_time": "2023-05-02T07:00:15.917Z"
   },
   {
    "duration": 5,
    "start_time": "2023-05-02T07:00:23.424Z"
   },
   {
    "duration": 2,
    "start_time": "2023-05-02T07:00:30.537Z"
   },
   {
    "duration": 12,
    "start_time": "2023-05-02T07:00:33.013Z"
   },
   {
    "duration": 4,
    "start_time": "2023-05-02T07:00:39.945Z"
   },
   {
    "duration": 6,
    "start_time": "2023-05-02T07:00:54.028Z"
   },
   {
    "duration": 18,
    "start_time": "2023-05-02T07:01:00.215Z"
   },
   {
    "duration": 7,
    "start_time": "2023-05-02T07:01:04.549Z"
   },
   {
    "duration": 378,
    "start_time": "2023-05-03T04:27:51.437Z"
   },
   {
    "duration": 57,
    "start_time": "2023-05-03T04:27:51.817Z"
   },
   {
    "duration": 33,
    "start_time": "2023-05-03T04:27:51.875Z"
   },
   {
    "duration": 26,
    "start_time": "2023-05-03T04:27:51.910Z"
   },
   {
    "duration": 11,
    "start_time": "2023-05-03T04:27:51.938Z"
   },
   {
    "duration": 10,
    "start_time": "2023-05-03T04:27:51.951Z"
   },
   {
    "duration": 17,
    "start_time": "2023-05-03T04:27:51.962Z"
   },
   {
    "duration": 20,
    "start_time": "2023-05-03T04:27:51.996Z"
   },
   {
    "duration": 4,
    "start_time": "2023-05-03T04:27:52.018Z"
   },
   {
    "duration": 17,
    "start_time": "2023-05-03T04:27:52.024Z"
   },
   {
    "duration": 11,
    "start_time": "2023-05-03T04:27:52.043Z"
   },
   {
    "duration": 262,
    "start_time": "2023-05-03T04:27:52.056Z"
   },
   {
    "duration": 139,
    "start_time": "2023-05-03T04:27:52.320Z"
   },
   {
    "duration": 84,
    "start_time": "2023-05-03T04:27:52.463Z"
   },
   {
    "duration": 135,
    "start_time": "2023-05-03T04:27:52.549Z"
   },
   {
    "duration": 9,
    "start_time": "2023-05-03T04:27:52.686Z"
   },
   {
    "duration": 9,
    "start_time": "2023-05-03T04:27:52.707Z"
   },
   {
    "duration": 14,
    "start_time": "2023-05-03T04:27:52.718Z"
   },
   {
    "duration": 131,
    "start_time": "2023-05-03T04:27:52.734Z"
   },
   {
    "duration": 193,
    "start_time": "2023-05-03T04:27:52.867Z"
   },
   {
    "duration": 107,
    "start_time": "2023-05-03T04:27:53.062Z"
   },
   {
    "duration": 167,
    "start_time": "2023-05-03T04:27:53.171Z"
   },
   {
    "duration": 15,
    "start_time": "2023-05-03T04:27:53.340Z"
   },
   {
    "duration": 12,
    "start_time": "2023-05-03T04:27:53.357Z"
   },
   {
    "duration": 317,
    "start_time": "2023-05-03T04:27:53.371Z"
   },
   {
    "duration": 164,
    "start_time": "2023-05-03T04:27:53.689Z"
   },
   {
    "duration": 328,
    "start_time": "2023-05-03T04:27:53.855Z"
   },
   {
    "duration": 59,
    "start_time": "2023-05-03T04:27:54.185Z"
   },
   {
    "duration": 222,
    "start_time": "2023-05-03T04:27:54.246Z"
   },
   {
    "duration": 12,
    "start_time": "2023-05-03T04:27:54.470Z"
   },
   {
    "duration": 18,
    "start_time": "2023-05-03T04:27:54.483Z"
   },
   {
    "duration": 4,
    "start_time": "2023-05-03T04:27:54.502Z"
   },
   {
    "duration": 445,
    "start_time": "2023-05-03T04:27:54.508Z"
   },
   {
    "duration": 12,
    "start_time": "2023-05-03T04:27:54.955Z"
   },
   {
    "duration": 5,
    "start_time": "2023-05-03T04:27:54.968Z"
   },
   {
    "duration": 5,
    "start_time": "2023-05-03T04:27:54.974Z"
   },
   {
    "duration": 23,
    "start_time": "2023-05-03T04:27:54.997Z"
   },
   {
    "duration": 6,
    "start_time": "2023-05-03T04:27:55.022Z"
   },
   {
    "duration": 95,
    "start_time": "2023-05-03T04:31:44.554Z"
   },
   {
    "duration": 4,
    "start_time": "2023-05-03T04:39:16.607Z"
   },
   {
    "duration": 11,
    "start_time": "2023-05-03T04:42:20.727Z"
   },
   {
    "duration": 15,
    "start_time": "2023-05-03T04:42:34.557Z"
   },
   {
    "duration": 7,
    "start_time": "2023-05-03T04:43:02.604Z"
   },
   {
    "duration": 4,
    "start_time": "2023-05-04T06:53:56.200Z"
   },
   {
    "duration": 3,
    "start_time": "2023-05-04T06:53:58.330Z"
   },
   {
    "duration": 495,
    "start_time": "2023-05-04T08:10:32.767Z"
   },
   {
    "duration": 260,
    "start_time": "2023-05-04T08:10:33.264Z"
   },
   {
    "duration": 46,
    "start_time": "2023-05-04T08:10:33.527Z"
   },
   {
    "duration": 37,
    "start_time": "2023-05-04T08:10:33.574Z"
   },
   {
    "duration": 19,
    "start_time": "2023-05-04T08:10:33.614Z"
   },
   {
    "duration": 13,
    "start_time": "2023-05-04T08:10:33.635Z"
   },
   {
    "duration": 22,
    "start_time": "2023-05-04T08:10:36.589Z"
   },
   {
    "duration": 11,
    "start_time": "2023-05-04T08:17:02.941Z"
   },
   {
    "duration": 11,
    "start_time": "2023-05-04T08:17:19.577Z"
   },
   {
    "duration": 10,
    "start_time": "2023-05-04T08:17:33.580Z"
   },
   {
    "duration": 14,
    "start_time": "2023-05-04T08:17:55.492Z"
   },
   {
    "duration": 425,
    "start_time": "2023-05-04T08:36:33.452Z"
   },
   {
    "duration": 213,
    "start_time": "2023-05-04T08:42:01.352Z"
   },
   {
    "duration": 274,
    "start_time": "2023-05-04T08:42:27.547Z"
   },
   {
    "duration": 184,
    "start_time": "2023-05-04T08:44:05.332Z"
   },
   {
    "duration": 252,
    "start_time": "2023-05-04T08:44:47.658Z"
   },
   {
    "duration": 181,
    "start_time": "2023-05-04T08:44:56.673Z"
   },
   {
    "duration": 192,
    "start_time": "2023-05-04T08:45:09.731Z"
   },
   {
    "duration": 198,
    "start_time": "2023-05-04T08:45:23.711Z"
   },
   {
    "duration": 228,
    "start_time": "2023-05-04T08:45:32.970Z"
   },
   {
    "duration": 202,
    "start_time": "2023-05-04T08:45:43.243Z"
   },
   {
    "duration": 182,
    "start_time": "2023-05-04T08:45:51.806Z"
   },
   {
    "duration": 191,
    "start_time": "2023-05-04T08:46:02.583Z"
   },
   {
    "duration": 264,
    "start_time": "2023-05-04T08:49:35.856Z"
   },
   {
    "duration": 157,
    "start_time": "2023-05-04T08:50:24.091Z"
   },
   {
    "duration": 175,
    "start_time": "2023-05-04T08:50:56.613Z"
   },
   {
    "duration": 243,
    "start_time": "2023-05-04T08:51:41.693Z"
   },
   {
    "duration": 179,
    "start_time": "2023-05-04T08:51:51.541Z"
   },
   {
    "duration": 178,
    "start_time": "2023-05-04T08:52:12.756Z"
   },
   {
    "duration": 164,
    "start_time": "2023-05-04T08:52:22.551Z"
   },
   {
    "duration": 187,
    "start_time": "2023-05-04T08:52:29.193Z"
   },
   {
    "duration": 181,
    "start_time": "2023-05-04T08:52:47.186Z"
   },
   {
    "duration": 164,
    "start_time": "2023-05-04T08:53:03.765Z"
   },
   {
    "duration": 190,
    "start_time": "2023-05-04T08:53:26.530Z"
   },
   {
    "duration": 50,
    "start_time": "2023-05-04T08:54:23.437Z"
   },
   {
    "duration": 53,
    "start_time": "2023-05-04T08:54:28.173Z"
   },
   {
    "duration": 161,
    "start_time": "2023-05-04T08:57:30.200Z"
   },
   {
    "duration": 183,
    "start_time": "2023-05-04T08:57:48.434Z"
   },
   {
    "duration": 199,
    "start_time": "2023-05-04T08:58:12.977Z"
   },
   {
    "duration": 273,
    "start_time": "2023-05-04T08:58:49.209Z"
   },
   {
    "duration": 213,
    "start_time": "2023-05-04T09:07:25.155Z"
   },
   {
    "duration": 214,
    "start_time": "2023-05-04T09:07:35.370Z"
   },
   {
    "duration": 165,
    "start_time": "2023-05-04T09:07:53.452Z"
   },
   {
    "duration": 192,
    "start_time": "2023-05-04T09:08:00.045Z"
   },
   {
    "duration": 189,
    "start_time": "2023-05-04T09:08:06.074Z"
   },
   {
    "duration": 215,
    "start_time": "2023-05-04T09:08:14.723Z"
   },
   {
    "duration": 242,
    "start_time": "2023-05-04T09:08:24.401Z"
   },
   {
    "duration": 193,
    "start_time": "2023-05-04T09:08:33.867Z"
   },
   {
    "duration": 346,
    "start_time": "2023-05-04T09:08:48.585Z"
   },
   {
    "duration": 266,
    "start_time": "2023-05-04T09:08:57.355Z"
   },
   {
    "duration": 14,
    "start_time": "2023-05-04T09:16:43.563Z"
   },
   {
    "duration": 3,
    "start_time": "2023-05-04T09:16:55.772Z"
   },
   {
    "duration": 78,
    "start_time": "2023-05-04T09:16:55.777Z"
   },
   {
    "duration": 22,
    "start_time": "2023-05-04T09:16:55.857Z"
   },
   {
    "duration": 37,
    "start_time": "2023-05-04T09:16:55.881Z"
   },
   {
    "duration": 15,
    "start_time": "2023-05-04T09:16:55.920Z"
   },
   {
    "duration": 12,
    "start_time": "2023-05-04T09:16:55.937Z"
   },
   {
    "duration": 7,
    "start_time": "2023-05-04T09:16:55.951Z"
   },
   {
    "duration": 15,
    "start_time": "2023-05-04T09:16:56.000Z"
   },
   {
    "duration": 11,
    "start_time": "2023-05-04T09:16:56.018Z"
   },
   {
    "duration": 5,
    "start_time": "2023-05-04T09:16:56.030Z"
   },
   {
    "duration": 6,
    "start_time": "2023-05-04T09:16:56.036Z"
   },
   {
    "duration": 5,
    "start_time": "2023-05-04T09:16:56.043Z"
   },
   {
    "duration": 189,
    "start_time": "2023-05-04T09:16:56.049Z"
   },
   {
    "duration": 94,
    "start_time": "2023-05-04T09:16:56.239Z"
   },
   {
    "duration": 216,
    "start_time": "2023-05-04T09:16:56.334Z"
   },
   {
    "duration": 3,
    "start_time": "2023-05-04T09:16:56.553Z"
   },
   {
    "duration": 11,
    "start_time": "2023-05-04T09:16:56.558Z"
   },
   {
    "duration": 23,
    "start_time": "2023-05-04T09:16:56.594Z"
   },
   {
    "duration": 155,
    "start_time": "2023-05-04T09:16:56.620Z"
   },
   {
    "duration": 218,
    "start_time": "2023-05-04T09:16:56.777Z"
   },
   {
    "duration": 147,
    "start_time": "2023-05-04T09:16:57.002Z"
   },
   {
    "duration": 194,
    "start_time": "2023-05-04T09:16:59.541Z"
   },
   {
    "duration": 246,
    "start_time": "2023-05-04T09:17:06.820Z"
   },
   {
    "duration": 212,
    "start_time": "2023-05-04T09:17:12.636Z"
   },
   {
    "duration": 215,
    "start_time": "2023-05-04T09:19:42.847Z"
   },
   {
    "duration": 222,
    "start_time": "2023-05-04T09:20:42.225Z"
   },
   {
    "duration": 211,
    "start_time": "2023-05-04T09:21:16.658Z"
   },
   {
    "duration": 9,
    "start_time": "2023-05-04T09:26:55.915Z"
   },
   {
    "duration": 3,
    "start_time": "2023-05-04T09:26:59.983Z"
   },
   {
    "duration": 78,
    "start_time": "2023-05-04T09:26:59.988Z"
   },
   {
    "duration": 20,
    "start_time": "2023-05-04T09:27:00.068Z"
   },
   {
    "duration": 45,
    "start_time": "2023-05-04T09:27:00.090Z"
   },
   {
    "duration": 35,
    "start_time": "2023-05-04T09:27:00.137Z"
   },
   {
    "duration": 27,
    "start_time": "2023-05-04T09:27:00.174Z"
   },
   {
    "duration": 15,
    "start_time": "2023-05-04T09:27:00.205Z"
   },
   {
    "duration": 22,
    "start_time": "2023-05-04T09:27:00.222Z"
   },
   {
    "duration": 16,
    "start_time": "2023-05-04T09:27:00.246Z"
   },
   {
    "duration": 23,
    "start_time": "2023-05-04T09:27:00.264Z"
   },
   {
    "duration": 60,
    "start_time": "2023-05-04T09:27:00.289Z"
   },
   {
    "duration": 23,
    "start_time": "2023-05-04T09:27:00.351Z"
   },
   {
    "duration": 197,
    "start_time": "2023-05-04T09:27:00.376Z"
   },
   {
    "duration": 100,
    "start_time": "2023-05-04T09:27:00.575Z"
   },
   {
    "duration": 233,
    "start_time": "2023-05-04T09:27:00.677Z"
   },
   {
    "duration": 5,
    "start_time": "2023-05-04T09:27:00.913Z"
   },
   {
    "duration": 67,
    "start_time": "2023-05-04T09:27:00.922Z"
   },
   {
    "duration": 63,
    "start_time": "2023-05-04T09:27:00.992Z"
   },
   {
    "duration": 154,
    "start_time": "2023-05-04T09:27:01.057Z"
   },
   {
    "duration": 234,
    "start_time": "2023-05-04T09:27:01.213Z"
   },
   {
    "duration": 152,
    "start_time": "2023-05-04T09:27:01.448Z"
   },
   {
    "duration": 315,
    "start_time": "2023-05-04T09:27:01.601Z"
   },
   {
    "duration": 18,
    "start_time": "2023-05-04T09:27:01.918Z"
   },
   {
    "duration": 31,
    "start_time": "2023-05-04T09:27:01.938Z"
   },
   {
    "duration": 31,
    "start_time": "2023-05-04T09:27:02.752Z"
   },
   {
    "duration": 15,
    "start_time": "2023-05-04T09:27:18.121Z"
   },
   {
    "duration": 15,
    "start_time": "2023-05-04T09:27:23.858Z"
   },
   {
    "duration": 16,
    "start_time": "2023-05-04T09:27:35.309Z"
   },
   {
    "duration": 25,
    "start_time": "2023-05-04T09:28:13.444Z"
   },
   {
    "duration": 15,
    "start_time": "2023-05-04T09:28:43.946Z"
   },
   {
    "duration": 10,
    "start_time": "2023-05-04T09:33:44.622Z"
   },
   {
    "duration": 5,
    "start_time": "2023-05-04T09:33:49.489Z"
   },
   {
    "duration": 74,
    "start_time": "2023-05-04T09:33:49.500Z"
   },
   {
    "duration": 23,
    "start_time": "2023-05-04T09:33:49.576Z"
   },
   {
    "duration": 35,
    "start_time": "2023-05-04T09:33:49.603Z"
   },
   {
    "duration": 15,
    "start_time": "2023-05-04T09:33:49.641Z"
   },
   {
    "duration": 49,
    "start_time": "2023-05-04T09:33:49.658Z"
   },
   {
    "duration": 11,
    "start_time": "2023-05-04T09:33:49.715Z"
   },
   {
    "duration": 25,
    "start_time": "2023-05-04T09:33:49.728Z"
   },
   {
    "duration": 13,
    "start_time": "2023-05-04T09:33:49.755Z"
   },
   {
    "duration": 5,
    "start_time": "2023-05-04T09:33:49.769Z"
   },
   {
    "duration": 29,
    "start_time": "2023-05-04T09:33:49.777Z"
   },
   {
    "duration": 8,
    "start_time": "2023-05-04T09:33:49.808Z"
   },
   {
    "duration": 174,
    "start_time": "2023-05-04T09:33:49.818Z"
   },
   {
    "duration": 121,
    "start_time": "2023-05-04T09:33:50.004Z"
   },
   {
    "duration": 214,
    "start_time": "2023-05-04T09:33:50.128Z"
   },
   {
    "duration": 2,
    "start_time": "2023-05-04T09:33:50.344Z"
   },
   {
    "duration": 18,
    "start_time": "2023-05-04T09:33:50.348Z"
   },
   {
    "duration": 39,
    "start_time": "2023-05-04T09:33:50.369Z"
   },
   {
    "duration": 156,
    "start_time": "2023-05-04T09:33:50.411Z"
   },
   {
    "duration": 257,
    "start_time": "2023-05-04T09:33:50.569Z"
   },
   {
    "duration": 144,
    "start_time": "2023-05-04T09:33:50.828Z"
   },
   {
    "duration": 260,
    "start_time": "2023-05-04T09:33:50.975Z"
   },
   {
    "duration": 18,
    "start_time": "2023-05-04T09:33:51.236Z"
   },
   {
    "duration": 4,
    "start_time": "2023-05-04T09:33:51.256Z"
   },
   {
    "duration": 39,
    "start_time": "2023-05-04T09:33:51.262Z"
   },
   {
    "duration": 17,
    "start_time": "2023-05-04T09:33:51.302Z"
   },
   {
    "duration": 406,
    "start_time": "2023-05-04T09:33:53.817Z"
   },
   {
    "duration": 506,
    "start_time": "2023-05-04T09:34:52.721Z"
   },
   {
    "duration": 450,
    "start_time": "2023-05-04T09:35:38.324Z"
   },
   {
    "duration": 400,
    "start_time": "2023-05-04T09:36:08.923Z"
   },
   {
    "duration": 199,
    "start_time": "2023-05-04T09:38:25.226Z"
   },
   {
    "duration": 219,
    "start_time": "2023-05-04T09:38:56.925Z"
   },
   {
    "duration": 224,
    "start_time": "2023-05-04T09:39:30.188Z"
   },
   {
    "duration": 3,
    "start_time": "2023-05-04T09:39:34.622Z"
   },
   {
    "duration": 100,
    "start_time": "2023-05-04T09:39:34.627Z"
   },
   {
    "duration": 21,
    "start_time": "2023-05-04T09:39:34.733Z"
   },
   {
    "duration": 33,
    "start_time": "2023-05-04T09:39:34.756Z"
   },
   {
    "duration": 35,
    "start_time": "2023-05-04T09:39:34.792Z"
   },
   {
    "duration": 12,
    "start_time": "2023-05-04T09:39:34.829Z"
   },
   {
    "duration": 6,
    "start_time": "2023-05-04T09:39:34.843Z"
   },
   {
    "duration": 14,
    "start_time": "2023-05-04T09:39:34.850Z"
   },
   {
    "duration": 36,
    "start_time": "2023-05-04T09:39:34.866Z"
   },
   {
    "duration": 7,
    "start_time": "2023-05-04T09:39:34.906Z"
   },
   {
    "duration": 13,
    "start_time": "2023-05-04T09:39:34.915Z"
   },
   {
    "duration": 5,
    "start_time": "2023-05-04T09:39:34.930Z"
   },
   {
    "duration": 185,
    "start_time": "2023-05-04T09:39:34.937Z"
   },
   {
    "duration": 107,
    "start_time": "2023-05-04T09:39:35.127Z"
   },
   {
    "duration": 312,
    "start_time": "2023-05-04T09:39:35.236Z"
   },
   {
    "duration": 4,
    "start_time": "2023-05-04T09:39:35.550Z"
   },
   {
    "duration": 30,
    "start_time": "2023-05-04T09:39:35.556Z"
   },
   {
    "duration": 21,
    "start_time": "2023-05-04T09:39:35.588Z"
   },
   {
    "duration": 156,
    "start_time": "2023-05-04T09:39:35.611Z"
   },
   {
    "duration": 256,
    "start_time": "2023-05-04T09:39:35.770Z"
   },
   {
    "duration": 158,
    "start_time": "2023-05-04T09:39:36.029Z"
   },
   {
    "duration": 230,
    "start_time": "2023-05-04T09:39:36.189Z"
   },
   {
    "duration": 20,
    "start_time": "2023-05-04T09:39:36.421Z"
   },
   {
    "duration": 23,
    "start_time": "2023-05-04T09:39:36.443Z"
   },
   {
    "duration": 51,
    "start_time": "2023-05-04T09:39:36.469Z"
   },
   {
    "duration": 32,
    "start_time": "2023-05-04T09:39:36.524Z"
   },
   {
    "duration": 446,
    "start_time": "2023-05-04T09:39:36.558Z"
   },
   {
    "duration": 208,
    "start_time": "2023-05-04T09:39:38.426Z"
   },
   {
    "duration": 239,
    "start_time": "2023-05-04T09:40:45.025Z"
   },
   {
    "duration": 249,
    "start_time": "2023-05-04T09:41:22.388Z"
   },
   {
    "duration": 290,
    "start_time": "2023-05-04T09:42:01.527Z"
   },
   {
    "duration": 224,
    "start_time": "2023-05-04T09:42:13.724Z"
   },
   {
    "duration": 208,
    "start_time": "2023-05-04T09:42:48.151Z"
   },
   {
    "duration": 216,
    "start_time": "2023-05-04T09:43:06.121Z"
   },
   {
    "duration": 195,
    "start_time": "2023-05-04T09:44:08.935Z"
   },
   {
    "duration": 216,
    "start_time": "2023-05-04T09:44:59.132Z"
   },
   {
    "duration": 188,
    "start_time": "2023-05-04T09:45:45.148Z"
   },
   {
    "duration": 363,
    "start_time": "2023-05-04T09:58:04.124Z"
   },
   {
    "duration": 398,
    "start_time": "2023-05-04T09:59:23.359Z"
   },
   {
    "duration": 603,
    "start_time": "2023-05-04T09:59:36.372Z"
   },
   {
    "duration": 477,
    "start_time": "2023-05-04T10:01:08.181Z"
   },
   {
    "duration": 394,
    "start_time": "2023-05-04T10:01:20.876Z"
   },
   {
    "duration": 468,
    "start_time": "2023-05-04T10:01:33.567Z"
   },
   {
    "duration": 8,
    "start_time": "2023-05-04T10:19:07.270Z"
   },
   {
    "duration": 2,
    "start_time": "2023-05-04T10:19:11.782Z"
   },
   {
    "duration": 81,
    "start_time": "2023-05-04T10:19:11.786Z"
   },
   {
    "duration": 19,
    "start_time": "2023-05-04T10:19:11.869Z"
   },
   {
    "duration": 43,
    "start_time": "2023-05-04T10:19:11.890Z"
   },
   {
    "duration": 13,
    "start_time": "2023-05-04T10:19:11.935Z"
   },
   {
    "duration": 10,
    "start_time": "2023-05-04T10:19:11.950Z"
   },
   {
    "duration": 43,
    "start_time": "2023-05-04T10:19:11.962Z"
   },
   {
    "duration": 19,
    "start_time": "2023-05-04T10:19:12.007Z"
   },
   {
    "duration": 10,
    "start_time": "2023-05-04T10:19:12.028Z"
   },
   {
    "duration": 5,
    "start_time": "2023-05-04T10:19:12.039Z"
   },
   {
    "duration": 10,
    "start_time": "2023-05-04T10:19:12.046Z"
   },
   {
    "duration": 5,
    "start_time": "2023-05-04T10:19:12.057Z"
   },
   {
    "duration": 183,
    "start_time": "2023-05-04T10:19:12.065Z"
   },
   {
    "duration": 99,
    "start_time": "2023-05-04T10:19:12.250Z"
   },
   {
    "duration": 279,
    "start_time": "2023-05-04T10:19:12.350Z"
   },
   {
    "duration": 3,
    "start_time": "2023-05-04T10:19:12.634Z"
   },
   {
    "duration": 27,
    "start_time": "2023-05-04T10:19:12.639Z"
   },
   {
    "duration": 19,
    "start_time": "2023-05-04T10:19:12.669Z"
   },
   {
    "duration": 296,
    "start_time": "2023-05-04T10:19:12.690Z"
   },
   {
    "duration": 278,
    "start_time": "2023-05-04T10:19:12.988Z"
   },
   {
    "duration": 174,
    "start_time": "2023-05-04T10:19:13.269Z"
   },
   {
    "duration": 283,
    "start_time": "2023-05-04T10:19:13.445Z"
   },
   {
    "duration": 18,
    "start_time": "2023-05-04T10:19:13.730Z"
   },
   {
    "duration": 4,
    "start_time": "2023-05-04T10:19:13.750Z"
   },
   {
    "duration": 44,
    "start_time": "2023-05-04T10:19:13.756Z"
   },
   {
    "duration": 20,
    "start_time": "2023-05-04T10:19:13.804Z"
   },
   {
    "duration": 439,
    "start_time": "2023-05-04T10:19:13.827Z"
   },
   {
    "duration": 199,
    "start_time": "2023-05-04T10:19:14.267Z"
   },
   {
    "duration": 496,
    "start_time": "2023-05-04T10:19:14.467Z"
   },
   {
    "duration": 70,
    "start_time": "2023-05-04T10:19:14.965Z"
   },
   {
    "duration": 249,
    "start_time": "2023-05-04T10:19:15.037Z"
   },
   {
    "duration": 17,
    "start_time": "2023-05-04T10:19:16.434Z"
   },
   {
    "duration": 39,
    "start_time": "2023-05-04T10:19:48.219Z"
   },
   {
    "duration": 11,
    "start_time": "2023-05-04T10:22:49.424Z"
   },
   {
    "duration": 3,
    "start_time": "2023-05-04T10:23:22.973Z"
   },
   {
    "duration": 5,
    "start_time": "2023-05-04T10:32:31.840Z"
   },
   {
    "duration": 14,
    "start_time": "2023-05-04T10:34:36.967Z"
   },
   {
    "duration": 3,
    "start_time": "2023-05-04T10:34:58.060Z"
   },
   {
    "duration": 9,
    "start_time": "2023-05-04T10:37:39.321Z"
   },
   {
    "duration": 3,
    "start_time": "2023-05-04T10:37:43.729Z"
   },
   {
    "duration": 104,
    "start_time": "2023-05-04T10:37:43.734Z"
   },
   {
    "duration": 22,
    "start_time": "2023-05-04T10:37:43.840Z"
   },
   {
    "duration": 40,
    "start_time": "2023-05-04T10:37:43.864Z"
   },
   {
    "duration": 20,
    "start_time": "2023-05-04T10:37:43.907Z"
   },
   {
    "duration": 43,
    "start_time": "2023-05-04T10:37:43.929Z"
   },
   {
    "duration": 40,
    "start_time": "2023-05-04T10:37:43.974Z"
   },
   {
    "duration": 24,
    "start_time": "2023-05-04T10:37:44.017Z"
   },
   {
    "duration": 25,
    "start_time": "2023-05-04T10:37:44.042Z"
   },
   {
    "duration": 25,
    "start_time": "2023-05-04T10:37:44.069Z"
   },
   {
    "duration": 31,
    "start_time": "2023-05-04T10:37:44.096Z"
   },
   {
    "duration": 16,
    "start_time": "2023-05-04T10:37:44.130Z"
   },
   {
    "duration": 201,
    "start_time": "2023-05-04T10:37:44.150Z"
   },
   {
    "duration": 208,
    "start_time": "2023-05-04T10:37:44.353Z"
   },
   {
    "duration": 211,
    "start_time": "2023-05-04T10:37:44.563Z"
   },
   {
    "duration": 3,
    "start_time": "2023-05-04T10:37:44.776Z"
   },
   {
    "duration": 48,
    "start_time": "2023-05-04T10:37:44.780Z"
   },
   {
    "duration": 16,
    "start_time": "2023-05-04T10:37:44.830Z"
   },
   {
    "duration": 148,
    "start_time": "2023-05-04T10:37:44.848Z"
   },
   {
    "duration": 241,
    "start_time": "2023-05-04T10:37:45.001Z"
   },
   {
    "duration": 134,
    "start_time": "2023-05-04T10:37:45.244Z"
   },
   {
    "duration": 244,
    "start_time": "2023-05-04T10:37:45.380Z"
   },
   {
    "duration": 18,
    "start_time": "2023-05-04T10:37:45.627Z"
   },
   {
    "duration": 18,
    "start_time": "2023-05-04T10:37:45.647Z"
   },
   {
    "duration": 17,
    "start_time": "2023-05-04T10:37:45.667Z"
   },
   {
    "duration": 47,
    "start_time": "2023-05-04T10:37:45.686Z"
   },
   {
    "duration": 446,
    "start_time": "2023-05-04T10:37:45.736Z"
   },
   {
    "duration": 216,
    "start_time": "2023-05-04T10:37:46.184Z"
   },
   {
    "duration": 564,
    "start_time": "2023-05-04T10:37:46.402Z"
   },
   {
    "duration": 76,
    "start_time": "2023-05-04T10:37:46.968Z"
   },
   {
    "duration": 259,
    "start_time": "2023-05-04T10:37:47.046Z"
   },
   {
    "duration": 23,
    "start_time": "2023-05-04T10:37:47.315Z"
   },
   {
    "duration": 12,
    "start_time": "2023-05-04T10:37:47.340Z"
   },
   {
    "duration": 27,
    "start_time": "2023-05-04T10:37:47.354Z"
   },
   {
    "duration": 529,
    "start_time": "2023-05-04T10:37:47.383Z"
   },
   {
    "duration": 20,
    "start_time": "2023-05-04T10:37:47.920Z"
   },
   {
    "duration": 24,
    "start_time": "2023-05-04T10:37:47.945Z"
   },
   {
    "duration": 15,
    "start_time": "2023-05-04T10:37:47.971Z"
   },
   {
    "duration": 10,
    "start_time": "2023-05-04T10:38:28.318Z"
   },
   {
    "duration": 15,
    "start_time": "2023-05-04T10:38:48.991Z"
   },
   {
    "duration": 6,
    "start_time": "2023-05-04T10:41:58.770Z"
   },
   {
    "duration": 6,
    "start_time": "2023-05-04T10:42:54.147Z"
   },
   {
    "duration": 5,
    "start_time": "2023-05-04T10:44:26.247Z"
   },
   {
    "duration": 7,
    "start_time": "2023-05-04T10:44:33.221Z"
   },
   {
    "duration": 6,
    "start_time": "2023-05-04T10:44:51.660Z"
   },
   {
    "duration": 13,
    "start_time": "2023-05-04T10:45:02.695Z"
   },
   {
    "duration": 12,
    "start_time": "2023-05-04T10:45:16.394Z"
   },
   {
    "duration": 5,
    "start_time": "2023-05-04T10:46:06.852Z"
   },
   {
    "duration": 33,
    "start_time": "2023-05-04T10:50:37.532Z"
   },
   {
    "duration": 24,
    "start_time": "2023-05-04T10:51:08.817Z"
   },
   {
    "duration": 41,
    "start_time": "2023-05-04T10:57:18.078Z"
   },
   {
    "duration": 760,
    "start_time": "2023-05-05T03:59:54.784Z"
   },
   {
    "duration": 342,
    "start_time": "2023-05-05T03:59:55.546Z"
   },
   {
    "duration": 22,
    "start_time": "2023-05-05T03:59:55.889Z"
   },
   {
    "duration": 33,
    "start_time": "2023-05-05T03:59:55.912Z"
   },
   {
    "duration": 21,
    "start_time": "2023-05-05T03:59:55.946Z"
   },
   {
    "duration": 15,
    "start_time": "2023-05-05T03:59:55.968Z"
   },
   {
    "duration": 5,
    "start_time": "2023-05-05T03:59:55.985Z"
   },
   {
    "duration": 15,
    "start_time": "2023-05-05T03:59:55.991Z"
   },
   {
    "duration": 10,
    "start_time": "2023-05-05T03:59:56.008Z"
   },
   {
    "duration": 4,
    "start_time": "2023-05-05T03:59:56.020Z"
   },
   {
    "duration": 17,
    "start_time": "2023-05-05T03:59:56.055Z"
   },
   {
    "duration": 10,
    "start_time": "2023-05-05T03:59:56.073Z"
   },
   {
    "duration": 160,
    "start_time": "2023-05-05T03:59:56.085Z"
   },
   {
    "duration": 95,
    "start_time": "2023-05-05T03:59:56.248Z"
   },
   {
    "duration": 178,
    "start_time": "2023-05-05T03:59:56.345Z"
   },
   {
    "duration": 2,
    "start_time": "2023-05-05T03:59:56.525Z"
   },
   {
    "duration": 33,
    "start_time": "2023-05-05T03:59:56.529Z"
   },
   {
    "duration": 16,
    "start_time": "2023-05-05T03:59:56.564Z"
   },
   {
    "duration": 117,
    "start_time": "2023-05-05T03:59:56.581Z"
   },
   {
    "duration": 243,
    "start_time": "2023-05-05T03:59:56.699Z"
   },
   {
    "duration": 126,
    "start_time": "2023-05-05T03:59:56.943Z"
   },
   {
    "duration": 193,
    "start_time": "2023-05-05T03:59:57.071Z"
   },
   {
    "duration": 14,
    "start_time": "2023-05-05T03:59:57.266Z"
   },
   {
    "duration": 11,
    "start_time": "2023-05-05T03:59:57.282Z"
   },
   {
    "duration": 19,
    "start_time": "2023-05-05T03:59:57.295Z"
   },
   {
    "duration": 14,
    "start_time": "2023-05-05T03:59:57.315Z"
   },
   {
    "duration": 346,
    "start_time": "2023-05-05T03:59:57.330Z"
   },
   {
    "duration": 157,
    "start_time": "2023-05-05T03:59:57.681Z"
   },
   {
    "duration": 370,
    "start_time": "2023-05-05T03:59:57.840Z"
   },
   {
    "duration": 55,
    "start_time": "2023-05-05T03:59:58.211Z"
   },
   {
    "duration": 225,
    "start_time": "2023-05-05T03:59:58.268Z"
   },
   {
    "duration": 12,
    "start_time": "2023-05-05T03:59:58.495Z"
   },
   {
    "duration": 2,
    "start_time": "2023-05-05T03:59:58.509Z"
   },
   {
    "duration": 8,
    "start_time": "2023-05-05T03:59:58.512Z"
   },
   {
    "duration": 471,
    "start_time": "2023-05-05T03:59:58.521Z"
   },
   {
    "duration": 12,
    "start_time": "2023-05-05T03:59:58.993Z"
   },
   {
    "duration": 5,
    "start_time": "2023-05-05T03:59:59.007Z"
   },
   {
    "duration": 6,
    "start_time": "2023-05-05T03:59:59.014Z"
   },
   {
    "duration": 46,
    "start_time": "2023-05-05T03:59:59.022Z"
   },
   {
    "duration": 14,
    "start_time": "2023-05-05T04:08:25.767Z"
   },
   {
    "duration": 7,
    "start_time": "2023-05-05T04:08:57.222Z"
   },
   {
    "duration": 7,
    "start_time": "2023-05-05T04:12:06.591Z"
   },
   {
    "duration": 22,
    "start_time": "2023-05-05T04:15:09.225Z"
   },
   {
    "duration": 175,
    "start_time": "2023-05-05T04:16:04.426Z"
   },
   {
    "duration": 29,
    "start_time": "2023-05-05T04:16:17.252Z"
   },
   {
    "duration": 643,
    "start_time": "2024-03-01T07:32:30.627Z"
   },
   {
    "duration": 294,
    "start_time": "2024-03-01T07:32:31.272Z"
   },
   {
    "duration": 24,
    "start_time": "2024-03-01T07:32:31.568Z"
   },
   {
    "duration": 59,
    "start_time": "2024-03-01T07:32:31.595Z"
   },
   {
    "duration": 15,
    "start_time": "2024-03-01T07:32:31.656Z"
   },
   {
    "duration": 42,
    "start_time": "2024-03-01T07:32:31.673Z"
   },
   {
    "duration": 49,
    "start_time": "2024-03-01T07:32:31.716Z"
   },
   {
    "duration": 44,
    "start_time": "2024-03-01T07:32:31.766Z"
   },
   {
    "duration": 37,
    "start_time": "2024-03-01T07:32:31.811Z"
   },
   {
    "duration": 109,
    "start_time": "2024-03-01T07:32:31.850Z"
   },
   {
    "duration": 47,
    "start_time": "2024-03-01T07:32:31.961Z"
   },
   {
    "duration": 74,
    "start_time": "2024-03-01T07:32:32.010Z"
   },
   {
    "duration": 196,
    "start_time": "2024-03-01T07:32:32.085Z"
   },
   {
    "duration": 85,
    "start_time": "2024-03-01T07:32:32.283Z"
   },
   {
    "duration": 285,
    "start_time": "2024-03-01T07:32:32.370Z"
   },
   {
    "duration": 189,
    "start_time": "2024-03-01T07:32:32.656Z"
   },
   {
    "duration": 210,
    "start_time": "2024-03-01T07:32:32.846Z"
   },
   {
    "duration": 124,
    "start_time": "2024-03-01T07:32:33.057Z"
   },
   {
    "duration": 184,
    "start_time": "2024-03-01T07:32:33.182Z"
   },
   {
    "duration": 270,
    "start_time": "2024-03-01T07:32:33.367Z"
   },
   {
    "duration": 121,
    "start_time": "2024-03-01T07:32:33.638Z"
   },
   {
    "duration": 206,
    "start_time": "2024-03-01T07:32:33.760Z"
   },
   {
    "duration": 25,
    "start_time": "2024-03-01T07:32:33.969Z"
   },
   {
    "duration": 205,
    "start_time": "2024-03-01T07:32:33.996Z"
   },
   {
    "duration": 77,
    "start_time": "2024-03-01T07:32:34.203Z"
   },
   {
    "duration": 23,
    "start_time": "2024-03-01T07:32:34.282Z"
   },
   {
    "duration": 363,
    "start_time": "2024-03-01T07:32:34.307Z"
   },
   {
    "duration": 167,
    "start_time": "2024-03-01T07:32:34.674Z"
   },
   {
    "duration": 408,
    "start_time": "2024-03-01T07:32:34.843Z"
   },
   {
    "duration": 55,
    "start_time": "2024-03-01T07:32:35.252Z"
   },
   {
    "duration": 569,
    "start_time": "2024-03-01T07:32:35.308Z"
   },
   {
    "duration": 240,
    "start_time": "2024-03-01T07:32:35.879Z"
   },
   {
    "duration": 49,
    "start_time": "2024-03-01T07:32:36.121Z"
   },
   {
    "duration": 23,
    "start_time": "2024-03-01T07:32:36.172Z"
   },
   {
    "duration": 506,
    "start_time": "2024-03-01T07:32:36.197Z"
   },
   {
    "duration": 11,
    "start_time": "2024-03-01T07:32:36.704Z"
   },
   {
    "duration": 28,
    "start_time": "2024-03-01T07:32:36.717Z"
   },
   {
    "duration": 51,
    "start_time": "2024-03-01T07:32:36.746Z"
   },
   {
    "duration": 81,
    "start_time": "2024-03-01T07:32:36.799Z"
   },
   {
    "duration": 46,
    "start_time": "2024-03-01T07:32:36.881Z"
   },
   {
    "duration": 25,
    "start_time": "2024-03-01T07:33:39.394Z"
   }
  ],
  "kernelspec": {
   "display_name": "Python 3 (ipykernel)",
   "language": "python",
   "name": "python3"
  },
  "language_info": {
   "codemirror_mode": {
    "name": "ipython",
    "version": 3
   },
   "file_extension": ".py",
   "mimetype": "text/x-python",
   "name": "python",
   "nbconvert_exporter": "python",
   "pygments_lexer": "ipython3",
   "version": "3.10.9"
  },
  "toc": {
   "base_numbering": 1,
   "nav_menu": {},
   "number_sections": true,
   "sideBar": true,
   "skip_h1_title": true,
   "title_cell": "Table of Contents",
   "title_sidebar": "Contents",
   "toc_cell": false,
   "toc_position": {
    "height": "calc(100% - 180px)",
    "left": "10px",
    "top": "150px",
    "width": "271.551px"
   },
   "toc_section_display": true,
   "toc_window_display": true
  }
 },
 "nbformat": 4,
 "nbformat_minor": 5
}
