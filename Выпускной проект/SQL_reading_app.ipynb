{
 "cells": [
  {
   "cell_type": "markdown",
   "metadata": {},
   "source": [
    "# Проект \"Анализ базы данных книг стартапа - приложения для чтения\"\n",
    "\n",
    "**Объект исследования** – данные о книгах, их авторах, издательствах и оценках пользователей \n",
    "\n",
    "**Цель проекта** – исследование базы данных книг для формирования ценностного предложения приложения для чтения книг по подписке\n",
    "\n",
    "**Входные данные** — база данных из 5 связанных таблиц (данные о книгах, об авторах, об издательствах,  о пользовательских оценках книг, о пользовательских обзорах на книги)\n",
    "\n",
    "В процессе работы будут реализованы следующие шаги:\n",
    "\n",
    "- загрузка и знакомство с данными\n",
    "- исследование определенных метрик\n",
    "- выводы по этапам и итоговые выводы"
   ]
  },
  {
   "cell_type": "markdown",
   "metadata": {},
   "source": [
    "## Доступ к базе данных"
   ]
  },
  {
   "cell_type": "code",
   "execution_count": 1,
   "metadata": {},
   "outputs": [],
   "source": [
    "# импортируем библиотеки\n",
    "\n",
    "import pandas as pd\n",
    "import sqlalchemy as sa"
   ]
  },
  {
   "cell_type": "code",
   "execution_count": 2,
   "metadata": {},
   "outputs": [],
   "source": [
    "# устанавливаем параметры\n",
    "\n",
    "db_config = {\n",
    "'user': 'praktikum_student', # имя пользователя\n",
    "'pwd': 'Sdf4$2;d-d30pp', # пароль\n",
    "'host': 'rc1b-wcoijxj3yxfsf3fs.mdb.yandexcloud.net',\n",
    "'port': 6432, # порт подключения\n",
    "'db': 'data-analyst-final-project-db' # название базы данных\n",
    "}\n",
    "connection_string = 'postgresql://{user}:{pwd}@{host}:{port}/{db}'.format(**db_config)"
   ]
  },
  {
   "cell_type": "code",
   "execution_count": 3,
   "metadata": {},
   "outputs": [],
   "source": [
    "# сохраняем коннектор\n",
    "\n",
    "engine = sa.create_engine(connection_string, connect_args={'sslmode':'require'})"
   ]
  },
  {
   "cell_type": "code",
   "execution_count": 4,
   "metadata": {},
   "outputs": [],
   "source": [
    "# чтобы выполнить SQL-запрос, пишем функцию с использованием Pandas\n",
    "\n",
    "def get_sql_data(query:str, engine:sa.engine.base.Engine=engine) -> pd.DataFrame:\n",
    "    with engine.connect() as con:\n",
    "        return pd.read_sql(sql=sa.text(query), con = con)"
   ]
  },
  {
   "cell_type": "markdown",
   "metadata": {},
   "source": [
    "## Загрузка и знакомство с данными"
   ]
  },
  {
   "cell_type": "markdown",
   "metadata": {},
   "source": [
    "**Books**"
   ]
  },
  {
   "cell_type": "code",
   "execution_count": 5,
   "metadata": {},
   "outputs": [
    {
     "data": {
      "text/html": [
       "<div>\n",
       "<style scoped>\n",
       "    .dataframe tbody tr th:only-of-type {\n",
       "        vertical-align: middle;\n",
       "    }\n",
       "\n",
       "    .dataframe tbody tr th {\n",
       "        vertical-align: top;\n",
       "    }\n",
       "\n",
       "    .dataframe thead th {\n",
       "        text-align: right;\n",
       "    }\n",
       "</style>\n",
       "<table border=\"1\" class=\"dataframe\">\n",
       "  <thead>\n",
       "    <tr style=\"text-align: right;\">\n",
       "      <th></th>\n",
       "      <th>count</th>\n",
       "    </tr>\n",
       "  </thead>\n",
       "  <tbody>\n",
       "    <tr>\n",
       "      <th>0</th>\n",
       "      <td>1000</td>\n",
       "    </tr>\n",
       "  </tbody>\n",
       "</table>\n",
       "</div>"
      ],
      "text/plain": [
       "   count\n",
       "0   1000"
      ]
     },
     "execution_count": 5,
     "metadata": {},
     "output_type": "execute_result"
    }
   ],
   "source": [
    "# таблица Books - сколько строк в таблице всего\n",
    "\n",
    "query = '''\n",
    "SELECT COUNT(*)\n",
    "FROM books \n",
    "'''\n",
    "\n",
    "get_sql_data(query)"
   ]
  },
  {
   "cell_type": "code",
   "execution_count": 6,
   "metadata": {},
   "outputs": [
    {
     "data": {
      "text/html": [
       "<div>\n",
       "<style scoped>\n",
       "    .dataframe tbody tr th:only-of-type {\n",
       "        vertical-align: middle;\n",
       "    }\n",
       "\n",
       "    .dataframe tbody tr th {\n",
       "        vertical-align: top;\n",
       "    }\n",
       "\n",
       "    .dataframe thead th {\n",
       "        text-align: right;\n",
       "    }\n",
       "</style>\n",
       "<table border=\"1\" class=\"dataframe\">\n",
       "  <thead>\n",
       "    <tr style=\"text-align: right;\">\n",
       "      <th></th>\n",
       "      <th>book_id</th>\n",
       "      <th>author_id</th>\n",
       "      <th>title</th>\n",
       "      <th>num_pages</th>\n",
       "      <th>publication_date</th>\n",
       "      <th>publisher_id</th>\n",
       "    </tr>\n",
       "  </thead>\n",
       "  <tbody>\n",
       "    <tr>\n",
       "      <th>0</th>\n",
       "      <td>1</td>\n",
       "      <td>546</td>\n",
       "      <td>'Salem's Lot</td>\n",
       "      <td>594</td>\n",
       "      <td>2005-11-01</td>\n",
       "      <td>93</td>\n",
       "    </tr>\n",
       "    <tr>\n",
       "      <th>1</th>\n",
       "      <td>2</td>\n",
       "      <td>465</td>\n",
       "      <td>1 000 Places to See Before You Die</td>\n",
       "      <td>992</td>\n",
       "      <td>2003-05-22</td>\n",
       "      <td>336</td>\n",
       "    </tr>\n",
       "    <tr>\n",
       "      <th>2</th>\n",
       "      <td>3</td>\n",
       "      <td>407</td>\n",
       "      <td>13 Little Blue Envelopes (Little Blue Envelope...</td>\n",
       "      <td>322</td>\n",
       "      <td>2010-12-21</td>\n",
       "      <td>135</td>\n",
       "    </tr>\n",
       "    <tr>\n",
       "      <th>3</th>\n",
       "      <td>4</td>\n",
       "      <td>82</td>\n",
       "      <td>1491: New Revelations of the Americas Before C...</td>\n",
       "      <td>541</td>\n",
       "      <td>2006-10-10</td>\n",
       "      <td>309</td>\n",
       "    </tr>\n",
       "    <tr>\n",
       "      <th>4</th>\n",
       "      <td>5</td>\n",
       "      <td>125</td>\n",
       "      <td>1776</td>\n",
       "      <td>386</td>\n",
       "      <td>2006-07-04</td>\n",
       "      <td>268</td>\n",
       "    </tr>\n",
       "  </tbody>\n",
       "</table>\n",
       "</div>"
      ],
      "text/plain": [
       "   book_id  author_id                                              title  \\\n",
       "0        1        546                                       'Salem's Lot   \n",
       "1        2        465                 1 000 Places to See Before You Die   \n",
       "2        3        407  13 Little Blue Envelopes (Little Blue Envelope...   \n",
       "3        4         82  1491: New Revelations of the Americas Before C...   \n",
       "4        5        125                                               1776   \n",
       "\n",
       "   num_pages publication_date  publisher_id  \n",
       "0        594       2005-11-01            93  \n",
       "1        992       2003-05-22           336  \n",
       "2        322       2010-12-21           135  \n",
       "3        541       2006-10-10           309  \n",
       "4        386       2006-07-04           268  "
      ]
     },
     "execution_count": 6,
     "metadata": {},
     "output_type": "execute_result"
    }
   ],
   "source": [
    "# выведем первые 5 строк Books\n",
    "\n",
    "query = '''\n",
    "SELECT *\n",
    "FROM books\n",
    "LIMIT 5\n",
    "'''\n",
    "get_sql_data(query)"
   ]
  },
  {
   "cell_type": "markdown",
   "metadata": {},
   "source": [
    "**Authors**"
   ]
  },
  {
   "cell_type": "code",
   "execution_count": 7,
   "metadata": {},
   "outputs": [
    {
     "data": {
      "text/html": [
       "<div>\n",
       "<style scoped>\n",
       "    .dataframe tbody tr th:only-of-type {\n",
       "        vertical-align: middle;\n",
       "    }\n",
       "\n",
       "    .dataframe tbody tr th {\n",
       "        vertical-align: top;\n",
       "    }\n",
       "\n",
       "    .dataframe thead th {\n",
       "        text-align: right;\n",
       "    }\n",
       "</style>\n",
       "<table border=\"1\" class=\"dataframe\">\n",
       "  <thead>\n",
       "    <tr style=\"text-align: right;\">\n",
       "      <th></th>\n",
       "      <th>count</th>\n",
       "    </tr>\n",
       "  </thead>\n",
       "  <tbody>\n",
       "    <tr>\n",
       "      <th>0</th>\n",
       "      <td>636</td>\n",
       "    </tr>\n",
       "  </tbody>\n",
       "</table>\n",
       "</div>"
      ],
      "text/plain": [
       "   count\n",
       "0    636"
      ]
     },
     "execution_count": 7,
     "metadata": {},
     "output_type": "execute_result"
    }
   ],
   "source": [
    "# таблица Authors - сколько строк в таблице всего\n",
    "query = '''\n",
    "SELECT COUNT(*)\n",
    "FROM authors \n",
    "'''\n",
    "\n",
    "get_sql_data(query)"
   ]
  },
  {
   "cell_type": "code",
   "execution_count": 8,
   "metadata": {},
   "outputs": [
    {
     "data": {
      "text/html": [
       "<div>\n",
       "<style scoped>\n",
       "    .dataframe tbody tr th:only-of-type {\n",
       "        vertical-align: middle;\n",
       "    }\n",
       "\n",
       "    .dataframe tbody tr th {\n",
       "        vertical-align: top;\n",
       "    }\n",
       "\n",
       "    .dataframe thead th {\n",
       "        text-align: right;\n",
       "    }\n",
       "</style>\n",
       "<table border=\"1\" class=\"dataframe\">\n",
       "  <thead>\n",
       "    <tr style=\"text-align: right;\">\n",
       "      <th></th>\n",
       "      <th>author_id</th>\n",
       "      <th>author</th>\n",
       "    </tr>\n",
       "  </thead>\n",
       "  <tbody>\n",
       "    <tr>\n",
       "      <th>0</th>\n",
       "      <td>1</td>\n",
       "      <td>A.S. Byatt</td>\n",
       "    </tr>\n",
       "    <tr>\n",
       "      <th>1</th>\n",
       "      <td>2</td>\n",
       "      <td>Aesop/Laura Harris/Laura Gibbs</td>\n",
       "    </tr>\n",
       "    <tr>\n",
       "      <th>2</th>\n",
       "      <td>3</td>\n",
       "      <td>Agatha Christie</td>\n",
       "    </tr>\n",
       "    <tr>\n",
       "      <th>3</th>\n",
       "      <td>4</td>\n",
       "      <td>Alan Brennert</td>\n",
       "    </tr>\n",
       "    <tr>\n",
       "      <th>4</th>\n",
       "      <td>5</td>\n",
       "      <td>Alan Moore/David   Lloyd</td>\n",
       "    </tr>\n",
       "  </tbody>\n",
       "</table>\n",
       "</div>"
      ],
      "text/plain": [
       "   author_id                          author\n",
       "0          1                      A.S. Byatt\n",
       "1          2  Aesop/Laura Harris/Laura Gibbs\n",
       "2          3                 Agatha Christie\n",
       "3          4                   Alan Brennert\n",
       "4          5        Alan Moore/David   Lloyd"
      ]
     },
     "execution_count": 8,
     "metadata": {},
     "output_type": "execute_result"
    }
   ],
   "source": [
    "# выведем первые 5 строк Authors\n",
    "\n",
    "query = '''\n",
    "SELECT *\n",
    "FROM authors\n",
    "LIMIT 5\n",
    "'''\n",
    "get_sql_data(query)"
   ]
  },
  {
   "cell_type": "markdown",
   "metadata": {},
   "source": [
    "**Publishers**"
   ]
  },
  {
   "cell_type": "code",
   "execution_count": 9,
   "metadata": {},
   "outputs": [
    {
     "data": {
      "text/html": [
       "<div>\n",
       "<style scoped>\n",
       "    .dataframe tbody tr th:only-of-type {\n",
       "        vertical-align: middle;\n",
       "    }\n",
       "\n",
       "    .dataframe tbody tr th {\n",
       "        vertical-align: top;\n",
       "    }\n",
       "\n",
       "    .dataframe thead th {\n",
       "        text-align: right;\n",
       "    }\n",
       "</style>\n",
       "<table border=\"1\" class=\"dataframe\">\n",
       "  <thead>\n",
       "    <tr style=\"text-align: right;\">\n",
       "      <th></th>\n",
       "      <th>count</th>\n",
       "    </tr>\n",
       "  </thead>\n",
       "  <tbody>\n",
       "    <tr>\n",
       "      <th>0</th>\n",
       "      <td>340</td>\n",
       "    </tr>\n",
       "  </tbody>\n",
       "</table>\n",
       "</div>"
      ],
      "text/plain": [
       "   count\n",
       "0    340"
      ]
     },
     "execution_count": 9,
     "metadata": {},
     "output_type": "execute_result"
    }
   ],
   "source": [
    "# таблица Publishers - сколько строк в таблице всего\n",
    "query = '''\n",
    "SELECT COUNT(*)\n",
    "FROM publishers\n",
    "'''\n",
    "\n",
    "get_sql_data(query)"
   ]
  },
  {
   "cell_type": "code",
   "execution_count": 10,
   "metadata": {},
   "outputs": [
    {
     "data": {
      "text/html": [
       "<div>\n",
       "<style scoped>\n",
       "    .dataframe tbody tr th:only-of-type {\n",
       "        vertical-align: middle;\n",
       "    }\n",
       "\n",
       "    .dataframe tbody tr th {\n",
       "        vertical-align: top;\n",
       "    }\n",
       "\n",
       "    .dataframe thead th {\n",
       "        text-align: right;\n",
       "    }\n",
       "</style>\n",
       "<table border=\"1\" class=\"dataframe\">\n",
       "  <thead>\n",
       "    <tr style=\"text-align: right;\">\n",
       "      <th></th>\n",
       "      <th>publisher_id</th>\n",
       "      <th>publisher</th>\n",
       "    </tr>\n",
       "  </thead>\n",
       "  <tbody>\n",
       "    <tr>\n",
       "      <th>0</th>\n",
       "      <td>1</td>\n",
       "      <td>Ace</td>\n",
       "    </tr>\n",
       "    <tr>\n",
       "      <th>1</th>\n",
       "      <td>2</td>\n",
       "      <td>Ace Book</td>\n",
       "    </tr>\n",
       "    <tr>\n",
       "      <th>2</th>\n",
       "      <td>3</td>\n",
       "      <td>Ace Books</td>\n",
       "    </tr>\n",
       "    <tr>\n",
       "      <th>3</th>\n",
       "      <td>4</td>\n",
       "      <td>Ace Hardcover</td>\n",
       "    </tr>\n",
       "    <tr>\n",
       "      <th>4</th>\n",
       "      <td>5</td>\n",
       "      <td>Addison Wesley Publishing Company</td>\n",
       "    </tr>\n",
       "  </tbody>\n",
       "</table>\n",
       "</div>"
      ],
      "text/plain": [
       "   publisher_id                          publisher\n",
       "0             1                                Ace\n",
       "1             2                           Ace Book\n",
       "2             3                          Ace Books\n",
       "3             4                      Ace Hardcover\n",
       "4             5  Addison Wesley Publishing Company"
      ]
     },
     "execution_count": 10,
     "metadata": {},
     "output_type": "execute_result"
    }
   ],
   "source": [
    "# выведем первые 5 строк Publishers\n",
    "\n",
    "query = '''\n",
    "SELECT *\n",
    "FROM publishers\n",
    "LIMIT 5\n",
    "'''\n",
    "get_sql_data(query)"
   ]
  },
  {
   "cell_type": "markdown",
   "metadata": {},
   "source": [
    "**Ratings**"
   ]
  },
  {
   "cell_type": "code",
   "execution_count": 11,
   "metadata": {},
   "outputs": [
    {
     "data": {
      "text/html": [
       "<div>\n",
       "<style scoped>\n",
       "    .dataframe tbody tr th:only-of-type {\n",
       "        vertical-align: middle;\n",
       "    }\n",
       "\n",
       "    .dataframe tbody tr th {\n",
       "        vertical-align: top;\n",
       "    }\n",
       "\n",
       "    .dataframe thead th {\n",
       "        text-align: right;\n",
       "    }\n",
       "</style>\n",
       "<table border=\"1\" class=\"dataframe\">\n",
       "  <thead>\n",
       "    <tr style=\"text-align: right;\">\n",
       "      <th></th>\n",
       "      <th>count</th>\n",
       "    </tr>\n",
       "  </thead>\n",
       "  <tbody>\n",
       "    <tr>\n",
       "      <th>0</th>\n",
       "      <td>6456</td>\n",
       "    </tr>\n",
       "  </tbody>\n",
       "</table>\n",
       "</div>"
      ],
      "text/plain": [
       "   count\n",
       "0   6456"
      ]
     },
     "execution_count": 11,
     "metadata": {},
     "output_type": "execute_result"
    }
   ],
   "source": [
    "# таблица Ratings - сколько строк в таблице всего\n",
    "query = '''\n",
    "SELECT COUNT(*)\n",
    "FROM ratings\n",
    "'''\n",
    "get_sql_data(query)"
   ]
  },
  {
   "cell_type": "code",
   "execution_count": 12,
   "metadata": {},
   "outputs": [
    {
     "data": {
      "text/html": [
       "<div>\n",
       "<style scoped>\n",
       "    .dataframe tbody tr th:only-of-type {\n",
       "        vertical-align: middle;\n",
       "    }\n",
       "\n",
       "    .dataframe tbody tr th {\n",
       "        vertical-align: top;\n",
       "    }\n",
       "\n",
       "    .dataframe thead th {\n",
       "        text-align: right;\n",
       "    }\n",
       "</style>\n",
       "<table border=\"1\" class=\"dataframe\">\n",
       "  <thead>\n",
       "    <tr style=\"text-align: right;\">\n",
       "      <th></th>\n",
       "      <th>rating_id</th>\n",
       "      <th>book_id</th>\n",
       "      <th>username</th>\n",
       "      <th>rating</th>\n",
       "    </tr>\n",
       "  </thead>\n",
       "  <tbody>\n",
       "    <tr>\n",
       "      <th>0</th>\n",
       "      <td>1</td>\n",
       "      <td>1</td>\n",
       "      <td>ryanfranco</td>\n",
       "      <td>4</td>\n",
       "    </tr>\n",
       "    <tr>\n",
       "      <th>1</th>\n",
       "      <td>2</td>\n",
       "      <td>1</td>\n",
       "      <td>grantpatricia</td>\n",
       "      <td>2</td>\n",
       "    </tr>\n",
       "    <tr>\n",
       "      <th>2</th>\n",
       "      <td>3</td>\n",
       "      <td>1</td>\n",
       "      <td>brandtandrea</td>\n",
       "      <td>5</td>\n",
       "    </tr>\n",
       "    <tr>\n",
       "      <th>3</th>\n",
       "      <td>4</td>\n",
       "      <td>2</td>\n",
       "      <td>lorichen</td>\n",
       "      <td>3</td>\n",
       "    </tr>\n",
       "    <tr>\n",
       "      <th>4</th>\n",
       "      <td>5</td>\n",
       "      <td>2</td>\n",
       "      <td>mariokeller</td>\n",
       "      <td>2</td>\n",
       "    </tr>\n",
       "  </tbody>\n",
       "</table>\n",
       "</div>"
      ],
      "text/plain": [
       "   rating_id  book_id       username  rating\n",
       "0          1        1     ryanfranco       4\n",
       "1          2        1  grantpatricia       2\n",
       "2          3        1   brandtandrea       5\n",
       "3          4        2       lorichen       3\n",
       "4          5        2    mariokeller       2"
      ]
     },
     "execution_count": 12,
     "metadata": {},
     "output_type": "execute_result"
    }
   ],
   "source": [
    "# выведем первые 5 строк Ratings\n",
    "\n",
    "query = '''\n",
    "SELECT *\n",
    "FROM ratings\n",
    "LIMIT 5\n",
    "'''\n",
    "get_sql_data(query)"
   ]
  },
  {
   "cell_type": "markdown",
   "metadata": {},
   "source": [
    "**Reviews**"
   ]
  },
  {
   "cell_type": "code",
   "execution_count": 13,
   "metadata": {},
   "outputs": [
    {
     "data": {
      "text/html": [
       "<div>\n",
       "<style scoped>\n",
       "    .dataframe tbody tr th:only-of-type {\n",
       "        vertical-align: middle;\n",
       "    }\n",
       "\n",
       "    .dataframe tbody tr th {\n",
       "        vertical-align: top;\n",
       "    }\n",
       "\n",
       "    .dataframe thead th {\n",
       "        text-align: right;\n",
       "    }\n",
       "</style>\n",
       "<table border=\"1\" class=\"dataframe\">\n",
       "  <thead>\n",
       "    <tr style=\"text-align: right;\">\n",
       "      <th></th>\n",
       "      <th>count</th>\n",
       "    </tr>\n",
       "  </thead>\n",
       "  <tbody>\n",
       "    <tr>\n",
       "      <th>0</th>\n",
       "      <td>2793</td>\n",
       "    </tr>\n",
       "  </tbody>\n",
       "</table>\n",
       "</div>"
      ],
      "text/plain": [
       "   count\n",
       "0   2793"
      ]
     },
     "execution_count": 13,
     "metadata": {},
     "output_type": "execute_result"
    }
   ],
   "source": [
    "# таблица Reviews - сколько строк в таблице всего\n",
    "query = '''\n",
    "SELECT COUNT(*)\n",
    "FROM reviews\n",
    "'''\n",
    "\n",
    "get_sql_data(query)"
   ]
  },
  {
   "cell_type": "code",
   "execution_count": 14,
   "metadata": {},
   "outputs": [
    {
     "data": {
      "text/html": [
       "<div>\n",
       "<style scoped>\n",
       "    .dataframe tbody tr th:only-of-type {\n",
       "        vertical-align: middle;\n",
       "    }\n",
       "\n",
       "    .dataframe tbody tr th {\n",
       "        vertical-align: top;\n",
       "    }\n",
       "\n",
       "    .dataframe thead th {\n",
       "        text-align: right;\n",
       "    }\n",
       "</style>\n",
       "<table border=\"1\" class=\"dataframe\">\n",
       "  <thead>\n",
       "    <tr style=\"text-align: right;\">\n",
       "      <th></th>\n",
       "      <th>review_id</th>\n",
       "      <th>book_id</th>\n",
       "      <th>username</th>\n",
       "      <th>text</th>\n",
       "    </tr>\n",
       "  </thead>\n",
       "  <tbody>\n",
       "    <tr>\n",
       "      <th>0</th>\n",
       "      <td>1</td>\n",
       "      <td>1</td>\n",
       "      <td>brandtandrea</td>\n",
       "      <td>Mention society tell send professor analysis. ...</td>\n",
       "    </tr>\n",
       "    <tr>\n",
       "      <th>1</th>\n",
       "      <td>2</td>\n",
       "      <td>1</td>\n",
       "      <td>ryanfranco</td>\n",
       "      <td>Foot glass pretty audience hit themselves. Amo...</td>\n",
       "    </tr>\n",
       "    <tr>\n",
       "      <th>2</th>\n",
       "      <td>3</td>\n",
       "      <td>2</td>\n",
       "      <td>lorichen</td>\n",
       "      <td>Listen treat keep worry. Miss husband tax but ...</td>\n",
       "    </tr>\n",
       "    <tr>\n",
       "      <th>3</th>\n",
       "      <td>4</td>\n",
       "      <td>3</td>\n",
       "      <td>johnsonamanda</td>\n",
       "      <td>Finally month interesting blue could nature cu...</td>\n",
       "    </tr>\n",
       "    <tr>\n",
       "      <th>4</th>\n",
       "      <td>5</td>\n",
       "      <td>3</td>\n",
       "      <td>scotttamara</td>\n",
       "      <td>Nation purpose heavy give wait song will. List...</td>\n",
       "    </tr>\n",
       "  </tbody>\n",
       "</table>\n",
       "</div>"
      ],
      "text/plain": [
       "   review_id  book_id       username  \\\n",
       "0          1        1   brandtandrea   \n",
       "1          2        1     ryanfranco   \n",
       "2          3        2       lorichen   \n",
       "3          4        3  johnsonamanda   \n",
       "4          5        3    scotttamara   \n",
       "\n",
       "                                                text  \n",
       "0  Mention society tell send professor analysis. ...  \n",
       "1  Foot glass pretty audience hit themselves. Amo...  \n",
       "2  Listen treat keep worry. Miss husband tax but ...  \n",
       "3  Finally month interesting blue could nature cu...  \n",
       "4  Nation purpose heavy give wait song will. List...  "
      ]
     },
     "execution_count": 14,
     "metadata": {},
     "output_type": "execute_result"
    }
   ],
   "source": [
    "# выведем первые 5 строк Reviews\n",
    "\n",
    "query = '''\n",
    "SELECT *\n",
    "FROM reviews\n",
    "LIMIT 5\n",
    "'''\n",
    "get_sql_data(query)"
   ]
  },
  {
   "cell_type": "markdown",
   "metadata": {},
   "source": [
    "Все данные загружены, понятны названия столцов, сопоставимы столбцы."
   ]
  },
  {
   "cell_type": "markdown",
   "metadata": {},
   "source": [
    "## Задания"
   ]
  },
  {
   "cell_type": "markdown",
   "metadata": {},
   "source": [
    "### Сколько книг вышло после 1 января 2000 года?"
   ]
  },
  {
   "cell_type": "code",
   "execution_count": 15,
   "metadata": {},
   "outputs": [
    {
     "data": {
      "text/html": [
       "<div>\n",
       "<style scoped>\n",
       "    .dataframe tbody tr th:only-of-type {\n",
       "        vertical-align: middle;\n",
       "    }\n",
       "\n",
       "    .dataframe tbody tr th {\n",
       "        vertical-align: top;\n",
       "    }\n",
       "\n",
       "    .dataframe thead th {\n",
       "        text-align: right;\n",
       "    }\n",
       "</style>\n",
       "<table border=\"1\" class=\"dataframe\">\n",
       "  <thead>\n",
       "    <tr style=\"text-align: right;\">\n",
       "      <th></th>\n",
       "      <th>count</th>\n",
       "    </tr>\n",
       "  </thead>\n",
       "  <tbody>\n",
       "    <tr>\n",
       "      <th>0</th>\n",
       "      <td>819</td>\n",
       "    </tr>\n",
       "  </tbody>\n",
       "</table>\n",
       "</div>"
      ],
      "text/plain": [
       "   count\n",
       "0    819"
      ]
     },
     "execution_count": 15,
     "metadata": {},
     "output_type": "execute_result"
    }
   ],
   "source": [
    "query = '''\n",
    "SELECT COUNT(book_id)\n",
    "FROM books\n",
    "WHERE publication_date > '2000-01-01'\n",
    "LIMIT 5\n",
    "'''\n",
    "get_sql_data(query)"
   ]
  },
  {
   "cell_type": "markdown",
   "metadata": {},
   "source": [
    "После 1 января 2000 года вышло 819 книг."
   ]
  },
  {
   "cell_type": "markdown",
   "metadata": {},
   "source": [
    "### Для каждой книги посчитайте количество обзоров и среднюю оценку"
   ]
  },
  {
   "cell_type": "code",
   "execution_count": 16,
   "metadata": {
    "scrolled": false
   },
   "outputs": [
    {
     "data": {
      "text/html": [
       "<div>\n",
       "<style scoped>\n",
       "    .dataframe tbody tr th:only-of-type {\n",
       "        vertical-align: middle;\n",
       "    }\n",
       "\n",
       "    .dataframe tbody tr th {\n",
       "        vertical-align: top;\n",
       "    }\n",
       "\n",
       "    .dataframe thead th {\n",
       "        text-align: right;\n",
       "    }\n",
       "</style>\n",
       "<table border=\"1\" class=\"dataframe\">\n",
       "  <thead>\n",
       "    <tr style=\"text-align: right;\">\n",
       "      <th></th>\n",
       "      <th>book_id</th>\n",
       "      <th>title</th>\n",
       "      <th>rev_cnt</th>\n",
       "      <th>avg_rat</th>\n",
       "    </tr>\n",
       "  </thead>\n",
       "  <tbody>\n",
       "    <tr>\n",
       "      <th>0</th>\n",
       "      <td>86</td>\n",
       "      <td>Arrows of the Queen (Heralds of Valdemar  #1)</td>\n",
       "      <td>2</td>\n",
       "      <td>5.00</td>\n",
       "    </tr>\n",
       "    <tr>\n",
       "      <th>1</th>\n",
       "      <td>901</td>\n",
       "      <td>The Walking Dead  Book One (The Walking Dead #...</td>\n",
       "      <td>2</td>\n",
       "      <td>5.00</td>\n",
       "    </tr>\n",
       "    <tr>\n",
       "      <th>2</th>\n",
       "      <td>390</td>\n",
       "      <td>Light in August</td>\n",
       "      <td>2</td>\n",
       "      <td>5.00</td>\n",
       "    </tr>\n",
       "    <tr>\n",
       "      <th>3</th>\n",
       "      <td>972</td>\n",
       "      <td>Wherever You Go  There You Are: Mindfulness Me...</td>\n",
       "      <td>2</td>\n",
       "      <td>5.00</td>\n",
       "    </tr>\n",
       "    <tr>\n",
       "      <th>4</th>\n",
       "      <td>136</td>\n",
       "      <td>Captivating: Unveiling the Mystery of a Woman'...</td>\n",
       "      <td>2</td>\n",
       "      <td>5.00</td>\n",
       "    </tr>\n",
       "    <tr>\n",
       "      <th>...</th>\n",
       "      <td>...</td>\n",
       "      <td>...</td>\n",
       "      <td>...</td>\n",
       "      <td>...</td>\n",
       "    </tr>\n",
       "    <tr>\n",
       "      <th>995</th>\n",
       "      <td>915</td>\n",
       "      <td>The World Is Flat: A Brief History of the Twen...</td>\n",
       "      <td>3</td>\n",
       "      <td>2.25</td>\n",
       "    </tr>\n",
       "    <tr>\n",
       "      <th>996</th>\n",
       "      <td>316</td>\n",
       "      <td>His Excellency: George Washington</td>\n",
       "      <td>2</td>\n",
       "      <td>2.00</td>\n",
       "    </tr>\n",
       "    <tr>\n",
       "      <th>997</th>\n",
       "      <td>202</td>\n",
       "      <td>Drowning Ruth</td>\n",
       "      <td>3</td>\n",
       "      <td>2.00</td>\n",
       "    </tr>\n",
       "    <tr>\n",
       "      <th>998</th>\n",
       "      <td>371</td>\n",
       "      <td>Junky</td>\n",
       "      <td>2</td>\n",
       "      <td>2.00</td>\n",
       "    </tr>\n",
       "    <tr>\n",
       "      <th>999</th>\n",
       "      <td>303</td>\n",
       "      <td>Harvesting the Heart</td>\n",
       "      <td>2</td>\n",
       "      <td>1.50</td>\n",
       "    </tr>\n",
       "  </tbody>\n",
       "</table>\n",
       "<p>1000 rows × 4 columns</p>\n",
       "</div>"
      ],
      "text/plain": [
       "     book_id                                              title  rev_cnt  \\\n",
       "0         86      Arrows of the Queen (Heralds of Valdemar  #1)        2   \n",
       "1        901  The Walking Dead  Book One (The Walking Dead #...        2   \n",
       "2        390                                    Light in August        2   \n",
       "3        972  Wherever You Go  There You Are: Mindfulness Me...        2   \n",
       "4        136  Captivating: Unveiling the Mystery of a Woman'...        2   \n",
       "..       ...                                                ...      ...   \n",
       "995      915  The World Is Flat: A Brief History of the Twen...        3   \n",
       "996      316                  His Excellency: George Washington        2   \n",
       "997      202                                      Drowning Ruth        3   \n",
       "998      371                                              Junky        2   \n",
       "999      303                               Harvesting the Heart        2   \n",
       "\n",
       "     avg_rat  \n",
       "0       5.00  \n",
       "1       5.00  \n",
       "2       5.00  \n",
       "3       5.00  \n",
       "4       5.00  \n",
       "..       ...  \n",
       "995     2.25  \n",
       "996     2.00  \n",
       "997     2.00  \n",
       "998     2.00  \n",
       "999     1.50  \n",
       "\n",
       "[1000 rows x 4 columns]"
      ]
     },
     "execution_count": 16,
     "metadata": {},
     "output_type": "execute_result"
    }
   ],
   "source": [
    "query = '''\n",
    "SELECT b.book_id,\n",
    "       title,\n",
    "       COUNT(DISTINCT rev.review_id) rev_cnt,\n",
    "       AVG(rating) avg_rat\n",
    "FROM books b\n",
    "LEFT JOIN ratings rat ON b.book_id = rat.book_id\n",
    "LEFT JOIN reviews rev ON b.book_id = rev.book_id\n",
    "GROUP BY b.book_id\n",
    "ORDER BY avg_rat DESC\n",
    "'''\n",
    "get_sql_data(query)"
   ]
  },
  {
   "cell_type": "markdown",
   "metadata": {},
   "source": [
    "Средний рейтинг варьируется от 1,5 до 5. Самый высокий средний рейтинг у книги Arrows of the Queen (Heralds of Valdemar #1)\t - **5**"
   ]
  },
  {
   "cell_type": "markdown",
   "metadata": {},
   "source": [
    "### Определите издательство, которое выпустило наибольшее число книг толще 50 страниц (исключение брошюр)"
   ]
  },
  {
   "cell_type": "code",
   "execution_count": 17,
   "metadata": {},
   "outputs": [
    {
     "data": {
      "text/html": [
       "<div>\n",
       "<style scoped>\n",
       "    .dataframe tbody tr th:only-of-type {\n",
       "        vertical-align: middle;\n",
       "    }\n",
       "\n",
       "    .dataframe tbody tr th {\n",
       "        vertical-align: top;\n",
       "    }\n",
       "\n",
       "    .dataframe thead th {\n",
       "        text-align: right;\n",
       "    }\n",
       "</style>\n",
       "<table border=\"1\" class=\"dataframe\">\n",
       "  <thead>\n",
       "    <tr style=\"text-align: right;\">\n",
       "      <th></th>\n",
       "      <th>publisher</th>\n",
       "    </tr>\n",
       "  </thead>\n",
       "  <tbody>\n",
       "    <tr>\n",
       "      <th>0</th>\n",
       "      <td>Penguin Books</td>\n",
       "    </tr>\n",
       "  </tbody>\n",
       "</table>\n",
       "</div>"
      ],
      "text/plain": [
       "       publisher\n",
       "0  Penguin Books"
      ]
     },
     "execution_count": 17,
     "metadata": {},
     "output_type": "execute_result"
    }
   ],
   "source": [
    "query = '''\n",
    "SELECT publisher\n",
    "FROM publishers p\n",
    "JOIN books b ON p.publisher_id = b.publisher_id\n",
    "WHERE num_pages > 50\n",
    "GROUP BY publisher\n",
    "ORDER BY COUNT (book_id) DESC\n",
    "LIMIT 1\n",
    "'''\n",
    "get_sql_data(query)"
   ]
  },
  {
   "cell_type": "markdown",
   "metadata": {},
   "source": [
    "Издательство Penguin Books выпустило больше всего книг."
   ]
  },
  {
   "cell_type": "markdown",
   "metadata": {},
   "source": [
    "### Определите автора с самой высокой средней оценкой книг — учитывайте только книги с 50 и более оценками"
   ]
  },
  {
   "cell_type": "code",
   "execution_count": 18,
   "metadata": {},
   "outputs": [
    {
     "data": {
      "text/html": [
       "<div>\n",
       "<style scoped>\n",
       "    .dataframe tbody tr th:only-of-type {\n",
       "        vertical-align: middle;\n",
       "    }\n",
       "\n",
       "    .dataframe tbody tr th {\n",
       "        vertical-align: top;\n",
       "    }\n",
       "\n",
       "    .dataframe thead th {\n",
       "        text-align: right;\n",
       "    }\n",
       "</style>\n",
       "<table border=\"1\" class=\"dataframe\">\n",
       "  <thead>\n",
       "    <tr style=\"text-align: right;\">\n",
       "      <th></th>\n",
       "      <th>author</th>\n",
       "    </tr>\n",
       "  </thead>\n",
       "  <tbody>\n",
       "    <tr>\n",
       "      <th>0</th>\n",
       "      <td>J.K. Rowling/Mary GrandPré</td>\n",
       "    </tr>\n",
       "  </tbody>\n",
       "</table>\n",
       "</div>"
      ],
      "text/plain": [
       "                       author\n",
       "0  J.K. Rowling/Mary GrandPré"
      ]
     },
     "execution_count": 18,
     "metadata": {},
     "output_type": "execute_result"
    }
   ],
   "source": [
    "query = '''\n",
    "WITH book_rat AS (SELECT b.book_id,\n",
    "                         author_id,\n",
    "                         COUNT(rating),\n",
    "                         AVG(rating) avg_rat\n",
    "                FROM books b\n",
    "                LEFT JOIN ratings rat ON b.book_id = rat.book_id\n",
    "                GROUP BY b.book_id\n",
    "                HAVING COUNT(rating)>50)\n",
    "SELECT author\n",
    "FROM authors a\n",
    "RIGHT JOIN book_rat ON book_rat.author_id = a.author_id\n",
    "GROUP  BY author\n",
    "ORDER BY AVG(avg_rat) DESC\n",
    "LIMIT 1\n",
    "\n",
    "'''\n",
    "get_sql_data(query)"
   ]
  },
  {
   "cell_type": "markdown",
   "metadata": {},
   "source": [
    "Автор с самой высокой средней оценкой книг - J.K. Rowling/Mary GrandPré."
   ]
  },
  {
   "cell_type": "markdown",
   "metadata": {},
   "source": [
    "### Посчитайте среднее количество обзоров от пользователей, которые поставили больше 48 оценок"
   ]
  },
  {
   "cell_type": "code",
   "execution_count": 19,
   "metadata": {
    "scrolled": true
   },
   "outputs": [
    {
     "data": {
      "text/html": [
       "<div>\n",
       "<style scoped>\n",
       "    .dataframe tbody tr th:only-of-type {\n",
       "        vertical-align: middle;\n",
       "    }\n",
       "\n",
       "    .dataframe tbody tr th {\n",
       "        vertical-align: top;\n",
       "    }\n",
       "\n",
       "    .dataframe thead th {\n",
       "        text-align: right;\n",
       "    }\n",
       "</style>\n",
       "<table border=\"1\" class=\"dataframe\">\n",
       "  <thead>\n",
       "    <tr style=\"text-align: right;\">\n",
       "      <th></th>\n",
       "      <th>avg</th>\n",
       "    </tr>\n",
       "  </thead>\n",
       "  <tbody>\n",
       "    <tr>\n",
       "      <th>0</th>\n",
       "      <td>24.0</td>\n",
       "    </tr>\n",
       "  </tbody>\n",
       "</table>\n",
       "</div>"
      ],
      "text/plain": [
       "    avg\n",
       "0  24.0"
      ]
     },
     "execution_count": 19,
     "metadata": {},
     "output_type": "execute_result"
    }
   ],
   "source": [
    "query = '''\n",
    "WITH t1 AS (SELECT DISTINCT username,\n",
    "                   COUNT(rating) rat_cnt\n",
    "            FROM ratings rat\n",
    "            GROUP BY DISTINCT username\n",
    "            HAVING COUNT(rating) > 48),\n",
    "\n",
    "t2 AS (SELECT DISTINCT username,\n",
    "                   COUNT(text) rev_cnt\n",
    "            FROM reviews rev\n",
    "            GROUP BY DISTINCT username)\n",
    "SELECT AVG(rev_cnt)\n",
    "FROM t1\n",
    "LEFT JOIN t2 ON t1.username = t2.username\n",
    "\n",
    "\n",
    "'''\n",
    "get_sql_data(query)"
   ]
  },
  {
   "cell_type": "markdown",
   "metadata": {},
   "source": [
    "Среднее количество обзоров пользователей, которые поставили более 48 оценок, составляет **24**"
   ]
  },
  {
   "cell_type": "markdown",
   "metadata": {},
   "source": [
    "### Выводы по исследованию\n",
    "\n",
    "Проведен анализ базы данных сервиса для чтения книг по подписке. По результатам анализа сделаны следующие выводы:\n",
    "- После 1 января 2000 годас вышло **819** книг\n",
    "- Средний рейтинг варьируется от 1,5 до 5. Самый **высокий средний рейтинг** у книги **Arrows of the Queen (Heralds of Valdemar #1)**, составляет **5**\n",
    "- Больше всего книг выпустило издательство **Penguin Books**\n",
    "- Автор с самой высокой средней оценкой книг - **J.K. Rowling/Mary GrandPré**\n",
    "- **Среднее количество обзоров** активных пользователей(которые поставили более 48 оценок) составляет **24**\n"
   ]
  }
 ],
 "metadata": {
  "ExecuteTimeLog": [
   {
    "duration": 93,
    "start_time": "2023-11-21T18:37:43.316Z"
   },
   {
    "duration": 484,
    "start_time": "2023-11-21T18:41:31.781Z"
   },
   {
    "duration": 3,
    "start_time": "2023-11-21T18:41:40.607Z"
   },
   {
    "duration": 3,
    "start_time": "2023-11-21T18:42:00.246Z"
   },
   {
    "duration": 9964,
    "start_time": "2023-11-21T18:42:16.058Z"
   },
   {
    "duration": 4,
    "start_time": "2023-11-21T18:42:34.017Z"
   },
   {
    "duration": 53,
    "start_time": "2023-11-21T18:43:06.208Z"
   },
   {
    "duration": 12,
    "start_time": "2023-11-21T18:43:17.207Z"
   },
   {
    "duration": 10,
    "start_time": "2023-11-21T18:43:41.550Z"
   },
   {
    "duration": 10,
    "start_time": "2023-11-21T18:43:50.283Z"
   },
   {
    "duration": 10,
    "start_time": "2023-11-21T18:44:16.981Z"
   },
   {
    "duration": 11,
    "start_time": "2023-11-21T18:44:35.960Z"
   },
   {
    "duration": 233,
    "start_time": "2023-11-21T18:45:52.009Z"
   },
   {
    "duration": 26,
    "start_time": "2023-11-21T18:46:03.499Z"
   },
   {
    "duration": 13,
    "start_time": "2023-11-21T18:46:15.062Z"
   },
   {
    "duration": 9,
    "start_time": "2023-11-21T18:46:29.413Z"
   },
   {
    "duration": 11,
    "start_time": "2023-11-21T18:46:40.400Z"
   },
   {
    "duration": 9,
    "start_time": "2023-11-21T18:47:08.018Z"
   },
   {
    "duration": 12,
    "start_time": "2023-11-21T18:47:19.326Z"
   },
   {
    "duration": 21,
    "start_time": "2023-11-21T18:48:32.542Z"
   },
   {
    "duration": 20,
    "start_time": "2023-11-21T18:52:51.532Z"
   },
   {
    "duration": 21,
    "start_time": "2023-11-21T18:53:02.073Z"
   },
   {
    "duration": 9,
    "start_time": "2023-11-21T18:56:35.804Z"
   },
   {
    "duration": 21,
    "start_time": "2023-11-21T19:22:55.805Z"
   },
   {
    "duration": 21,
    "start_time": "2023-11-21T19:25:23.164Z"
   },
   {
    "duration": 21,
    "start_time": "2023-11-21T19:28:23.095Z"
   },
   {
    "duration": 21,
    "start_time": "2023-11-21T19:28:49.917Z"
   },
   {
    "duration": 21,
    "start_time": "2023-11-21T19:30:00.183Z"
   },
   {
    "duration": 27,
    "start_time": "2023-11-21T19:30:23.500Z"
   },
   {
    "duration": 27,
    "start_time": "2023-11-21T19:32:26.130Z"
   },
   {
    "duration": 23,
    "start_time": "2023-11-21T19:33:12.577Z"
   },
   {
    "duration": 26,
    "start_time": "2023-11-21T19:33:30.965Z"
   },
   {
    "duration": 20,
    "start_time": "2023-11-21T19:34:35.572Z"
   },
   {
    "duration": 13,
    "start_time": "2023-11-21T19:35:12.720Z"
   },
   {
    "duration": 42,
    "start_time": "2023-11-21T19:35:31.251Z"
   },
   {
    "duration": 26,
    "start_time": "2023-11-21T19:36:01.540Z"
   },
   {
    "duration": 24,
    "start_time": "2023-11-21T19:36:10.593Z"
   },
   {
    "duration": 61,
    "start_time": "2023-11-21T19:36:20.623Z"
   },
   {
    "duration": 15,
    "start_time": "2023-11-21T19:37:31.141Z"
   },
   {
    "duration": 13,
    "start_time": "2023-11-21T19:39:08.083Z"
   },
   {
    "duration": 13,
    "start_time": "2023-11-21T19:39:16.187Z"
   },
   {
    "duration": 11,
    "start_time": "2023-11-21T19:39:41.695Z"
   },
   {
    "duration": 12,
    "start_time": "2023-11-21T19:40:10.073Z"
   },
   {
    "duration": 10,
    "start_time": "2023-11-21T19:40:31.703Z"
   },
   {
    "duration": 25,
    "start_time": "2023-11-21T19:41:37.468Z"
   },
   {
    "duration": 11,
    "start_time": "2023-11-21T19:43:10.930Z"
   },
   {
    "duration": 25,
    "start_time": "2023-11-21T19:43:24.422Z"
   },
   {
    "duration": 24,
    "start_time": "2023-11-21T19:43:45.894Z"
   },
   {
    "duration": 25,
    "start_time": "2023-11-21T19:44:29.227Z"
   },
   {
    "duration": 23,
    "start_time": "2023-11-21T19:47:29.084Z"
   },
   {
    "duration": 28,
    "start_time": "2023-11-21T19:47:34.217Z"
   },
   {
    "duration": 25,
    "start_time": "2023-11-21T19:58:18.184Z"
   },
   {
    "duration": 16,
    "start_time": "2023-11-21T20:26:04.250Z"
   },
   {
    "duration": 11,
    "start_time": "2023-11-21T20:26:20.432Z"
   },
   {
    "duration": 11,
    "start_time": "2023-11-21T20:26:51.954Z"
   },
   {
    "duration": 10,
    "start_time": "2023-11-21T20:27:15.499Z"
   },
   {
    "duration": 11,
    "start_time": "2023-11-21T20:27:22.668Z"
   },
   {
    "duration": 12,
    "start_time": "2023-11-21T20:27:30.337Z"
   },
   {
    "duration": 11,
    "start_time": "2023-11-21T20:27:37.373Z"
   },
   {
    "duration": 21,
    "start_time": "2023-11-21T20:27:44.997Z"
   },
   {
    "duration": 20,
    "start_time": "2023-11-21T20:27:49.651Z"
   },
   {
    "duration": 10,
    "start_time": "2023-11-21T20:27:56.460Z"
   },
   {
    "duration": 10,
    "start_time": "2023-11-21T20:28:36.514Z"
   },
   {
    "duration": 55,
    "start_time": "2023-11-22T13:32:44.234Z"
   },
   {
    "duration": 570,
    "start_time": "2023-11-22T13:32:48.404Z"
   },
   {
    "duration": 3,
    "start_time": "2023-11-22T13:32:48.978Z"
   },
   {
    "duration": 16748,
    "start_time": "2023-11-22T13:32:48.982Z"
   },
   {
    "duration": 3,
    "start_time": "2023-11-22T13:33:05.732Z"
   },
   {
    "duration": 234,
    "start_time": "2023-11-22T13:33:05.738Z"
   },
   {
    "duration": 51,
    "start_time": "2023-11-22T13:33:05.974Z"
   },
   {
    "duration": 49,
    "start_time": "2023-11-22T13:33:06.027Z"
   },
   {
    "duration": 49,
    "start_time": "2023-11-22T13:33:06.078Z"
   },
   {
    "duration": 48,
    "start_time": "2023-11-22T13:33:06.129Z"
   },
   {
    "duration": 49,
    "start_time": "2023-11-22T13:33:06.179Z"
   },
   {
    "duration": 54,
    "start_time": "2023-11-22T13:33:06.230Z"
   },
   {
    "duration": 50,
    "start_time": "2023-11-22T13:33:06.286Z"
   },
   {
    "duration": 49,
    "start_time": "2023-11-22T13:33:06.338Z"
   },
   {
    "duration": 52,
    "start_time": "2023-11-22T13:33:06.390Z"
   },
   {
    "duration": 50,
    "start_time": "2023-11-22T13:33:06.443Z"
   },
   {
    "duration": 89,
    "start_time": "2023-11-22T13:33:06.495Z"
   },
   {
    "duration": 50,
    "start_time": "2023-11-22T13:33:06.586Z"
   },
   {
    "duration": 3,
    "start_time": "2023-11-22T13:33:21.916Z"
   },
   {
    "duration": 4,
    "start_time": "2023-11-22T13:33:21.921Z"
   },
   {
    "duration": 6,
    "start_time": "2023-11-22T13:33:21.927Z"
   },
   {
    "duration": 4,
    "start_time": "2023-11-22T13:33:21.935Z"
   },
   {
    "duration": 221,
    "start_time": "2023-11-22T13:33:21.941Z"
   },
   {
    "duration": 52,
    "start_time": "2023-11-22T13:33:22.164Z"
   },
   {
    "duration": 51,
    "start_time": "2023-11-22T13:33:22.218Z"
   },
   {
    "duration": 49,
    "start_time": "2023-11-22T13:33:22.272Z"
   },
   {
    "duration": 49,
    "start_time": "2023-11-22T13:33:22.323Z"
   },
   {
    "duration": 50,
    "start_time": "2023-11-22T13:33:22.374Z"
   },
   {
    "duration": 49,
    "start_time": "2023-11-22T13:33:22.426Z"
   },
   {
    "duration": 51,
    "start_time": "2023-11-22T13:33:22.477Z"
   },
   {
    "duration": 49,
    "start_time": "2023-11-22T13:33:22.530Z"
   },
   {
    "duration": 51,
    "start_time": "2023-11-22T13:33:22.582Z"
   },
   {
    "duration": 48,
    "start_time": "2023-11-22T13:33:22.635Z"
   },
   {
    "duration": 86,
    "start_time": "2023-11-22T13:33:22.685Z"
   },
   {
    "duration": 50,
    "start_time": "2023-11-22T13:33:22.773Z"
   },
   {
    "duration": 88,
    "start_time": "2023-11-22T13:33:25.881Z"
   },
   {
    "duration": 63,
    "start_time": "2023-11-22T13:34:02.586Z"
   },
   {
    "duration": 62,
    "start_time": "2023-11-22T13:34:27.858Z"
   },
   {
    "duration": 60,
    "start_time": "2023-11-22T13:35:37.794Z"
   },
   {
    "duration": 68,
    "start_time": "2023-11-22T13:36:04.466Z"
   },
   {
    "duration": 54,
    "start_time": "2023-11-22T13:36:37.478Z"
   },
   {
    "duration": 54,
    "start_time": "2023-11-22T13:37:09.681Z"
   },
   {
    "duration": 55,
    "start_time": "2023-11-22T13:38:11.785Z"
   },
   {
    "duration": 62,
    "start_time": "2023-11-22T13:43:11.729Z"
   },
   {
    "duration": 62,
    "start_time": "2023-11-22T13:43:40.200Z"
   },
   {
    "duration": 60,
    "start_time": "2023-11-22T13:45:19.712Z"
   },
   {
    "duration": 53,
    "start_time": "2023-11-22T13:47:28.600Z"
   },
   {
    "duration": 62,
    "start_time": "2023-11-22T13:47:56.287Z"
   },
   {
    "duration": 53,
    "start_time": "2023-11-22T13:52:49.726Z"
   },
   {
    "duration": 60,
    "start_time": "2023-11-22T13:53:45.951Z"
   },
   {
    "duration": 52,
    "start_time": "2023-11-22T13:55:54.094Z"
   },
   {
    "duration": 61,
    "start_time": "2023-11-22T13:56:20.050Z"
   },
   {
    "duration": 53,
    "start_time": "2023-11-22T13:56:25.925Z"
   },
   {
    "duration": 52,
    "start_time": "2023-11-22T13:56:32.581Z"
   },
   {
    "duration": 78,
    "start_time": "2023-11-22T14:28:13.360Z"
   },
   {
    "duration": 68,
    "start_time": "2023-11-22T14:28:20.104Z"
   },
   {
    "duration": 60,
    "start_time": "2023-11-22T14:34:52.975Z"
   },
   {
    "duration": 62,
    "start_time": "2023-11-22T14:38:17.695Z"
   },
   {
    "duration": 61,
    "start_time": "2023-11-22T14:38:55.838Z"
   },
   {
    "duration": 3,
    "start_time": "2023-11-22T14:39:13.488Z"
   },
   {
    "duration": 4,
    "start_time": "2023-11-22T14:39:13.493Z"
   },
   {
    "duration": 4,
    "start_time": "2023-11-22T14:39:13.499Z"
   },
   {
    "duration": 6,
    "start_time": "2023-11-22T14:39:13.505Z"
   },
   {
    "duration": 222,
    "start_time": "2023-11-22T14:39:13.513Z"
   },
   {
    "duration": 51,
    "start_time": "2023-11-22T14:39:13.737Z"
   },
   {
    "duration": 48,
    "start_time": "2023-11-22T14:39:13.790Z"
   },
   {
    "duration": 51,
    "start_time": "2023-11-22T14:39:13.840Z"
   },
   {
    "duration": 49,
    "start_time": "2023-11-22T14:39:13.892Z"
   },
   {
    "duration": 50,
    "start_time": "2023-11-22T14:39:13.943Z"
   },
   {
    "duration": 49,
    "start_time": "2023-11-22T14:39:13.995Z"
   },
   {
    "duration": 50,
    "start_time": "2023-11-22T14:39:14.046Z"
   },
   {
    "duration": 50,
    "start_time": "2023-11-22T14:39:14.097Z"
   },
   {
    "duration": 51,
    "start_time": "2023-11-22T14:39:14.149Z"
   },
   {
    "duration": 49,
    "start_time": "2023-11-22T14:39:14.202Z"
   },
   {
    "duration": 87,
    "start_time": "2023-11-22T14:39:14.252Z"
   },
   {
    "duration": 50,
    "start_time": "2023-11-22T14:39:14.341Z"
   },
   {
    "duration": 52,
    "start_time": "2023-11-22T14:39:14.392Z"
   },
   {
    "duration": 61,
    "start_time": "2023-11-22T14:39:17.134Z"
   },
   {
    "duration": 61,
    "start_time": "2023-11-22T14:40:37.742Z"
   },
   {
    "duration": 59,
    "start_time": "2023-11-22T14:40:57.206Z"
   },
   {
    "duration": 60,
    "start_time": "2023-11-22T14:41:12.638Z"
   },
   {
    "duration": 49,
    "start_time": "2023-11-22T14:41:26.910Z"
   },
   {
    "duration": 60,
    "start_time": "2023-11-22T14:42:57.853Z"
   },
   {
    "duration": 52,
    "start_time": "2023-11-22T14:43:08.253Z"
   },
   {
    "duration": 51,
    "start_time": "2023-11-22T14:43:35.613Z"
   },
   {
    "duration": 60,
    "start_time": "2023-11-22T14:44:23.702Z"
   },
   {
    "duration": 59,
    "start_time": "2023-11-22T15:02:27.417Z"
   },
   {
    "duration": 59,
    "start_time": "2023-11-22T15:02:49.160Z"
   },
   {
    "duration": 60,
    "start_time": "2023-11-22T15:03:44.448Z"
   },
   {
    "duration": 58,
    "start_time": "2023-11-22T15:04:35.729Z"
   },
   {
    "duration": 60,
    "start_time": "2023-11-22T15:04:57.720Z"
   },
   {
    "duration": 60,
    "start_time": "2023-11-22T15:06:56.383Z"
   },
   {
    "duration": 56,
    "start_time": "2023-11-22T15:07:42.047Z"
   },
   {
    "duration": 57,
    "start_time": "2023-11-22T15:08:25.639Z"
   },
   {
    "duration": 57,
    "start_time": "2023-11-22T15:08:31.519Z"
   },
   {
    "duration": 76,
    "start_time": "2023-11-22T15:09:32.598Z"
   },
   {
    "duration": 78,
    "start_time": "2023-11-22T15:09:54.157Z"
   },
   {
    "duration": 50,
    "start_time": "2023-11-22T15:10:46.494Z"
   },
   {
    "duration": 51,
    "start_time": "2023-11-22T15:10:55.037Z"
   },
   {
    "duration": 51,
    "start_time": "2023-11-22T15:11:00.501Z"
   },
   {
    "duration": 75,
    "start_time": "2023-11-22T15:11:46.805Z"
   },
   {
    "duration": 51,
    "start_time": "2023-11-22T15:12:36.300Z"
   },
   {
    "duration": 50,
    "start_time": "2023-11-22T15:13:17.836Z"
   },
   {
    "duration": 53,
    "start_time": "2023-11-22T15:14:57.068Z"
   },
   {
    "duration": 60,
    "start_time": "2023-11-22T15:17:46.571Z"
   },
   {
    "duration": 61,
    "start_time": "2023-11-22T15:17:57.867Z"
   },
   {
    "duration": 61,
    "start_time": "2023-11-22T15:18:51.187Z"
   },
   {
    "duration": 52,
    "start_time": "2023-11-22T15:19:08.091Z"
   },
   {
    "duration": 51,
    "start_time": "2023-11-22T15:19:28.338Z"
   },
   {
    "duration": 536,
    "start_time": "2023-11-22T15:26:53.024Z"
   },
   {
    "duration": 4,
    "start_time": "2023-11-22T15:26:53.561Z"
   },
   {
    "duration": 16481,
    "start_time": "2023-11-22T15:26:53.566Z"
   },
   {
    "duration": 3,
    "start_time": "2023-11-22T15:27:10.049Z"
   },
   {
    "duration": 227,
    "start_time": "2023-11-22T15:27:10.054Z"
   },
   {
    "duration": 51,
    "start_time": "2023-11-22T15:27:10.282Z"
   },
   {
    "duration": 48,
    "start_time": "2023-11-22T15:27:10.334Z"
   },
   {
    "duration": 48,
    "start_time": "2023-11-22T15:27:10.384Z"
   },
   {
    "duration": 47,
    "start_time": "2023-11-22T15:27:10.434Z"
   },
   {
    "duration": 49,
    "start_time": "2023-11-22T15:27:10.483Z"
   },
   {
    "duration": 49,
    "start_time": "2023-11-22T15:27:10.533Z"
   },
   {
    "duration": 49,
    "start_time": "2023-11-22T15:27:10.583Z"
   },
   {
    "duration": 48,
    "start_time": "2023-11-22T15:27:10.634Z"
   },
   {
    "duration": 49,
    "start_time": "2023-11-22T15:27:10.685Z"
   },
   {
    "duration": 48,
    "start_time": "2023-11-22T15:27:10.736Z"
   },
   {
    "duration": 86,
    "start_time": "2023-11-22T15:27:10.786Z"
   },
   {
    "duration": 49,
    "start_time": "2023-11-22T15:27:10.873Z"
   },
   {
    "duration": 51,
    "start_time": "2023-11-22T15:27:10.924Z"
   },
   {
    "duration": 51,
    "start_time": "2023-11-22T15:27:10.977Z"
   },
   {
    "duration": 126,
    "start_time": "2023-11-22T15:28:55.776Z"
   },
   {
    "duration": 61,
    "start_time": "2023-11-22T15:29:26.311Z"
   },
   {
    "duration": 85,
    "start_time": "2023-11-22T15:29:36.552Z"
   },
   {
    "duration": 86,
    "start_time": "2023-11-22T15:30:16.951Z"
   },
   {
    "duration": 86,
    "start_time": "2023-11-22T15:30:26.311Z"
   },
   {
    "duration": 86,
    "start_time": "2023-11-22T15:31:06.279Z"
   },
   {
    "duration": 86,
    "start_time": "2023-11-22T15:31:58.263Z"
   },
   {
    "duration": 502,
    "start_time": "2023-11-22T15:32:26.196Z"
   },
   {
    "duration": 3,
    "start_time": "2023-11-22T15:32:26.701Z"
   },
   {
    "duration": 13848,
    "start_time": "2023-11-22T15:32:26.705Z"
   },
   {
    "duration": 3,
    "start_time": "2023-11-22T15:32:40.554Z"
   },
   {
    "duration": 220,
    "start_time": "2023-11-22T15:32:40.560Z"
   },
   {
    "duration": 50,
    "start_time": "2023-11-22T15:32:40.782Z"
   },
   {
    "duration": 48,
    "start_time": "2023-11-22T15:32:40.833Z"
   },
   {
    "duration": 49,
    "start_time": "2023-11-22T15:32:40.883Z"
   },
   {
    "duration": 48,
    "start_time": "2023-11-22T15:32:40.934Z"
   },
   {
    "duration": 49,
    "start_time": "2023-11-22T15:32:40.983Z"
   },
   {
    "duration": 49,
    "start_time": "2023-11-22T15:32:41.033Z"
   },
   {
    "duration": 52,
    "start_time": "2023-11-22T15:32:41.083Z"
   },
   {
    "duration": 49,
    "start_time": "2023-11-22T15:32:41.137Z"
   },
   {
    "duration": 51,
    "start_time": "2023-11-22T15:32:41.188Z"
   },
   {
    "duration": 48,
    "start_time": "2023-11-22T15:32:41.240Z"
   },
   {
    "duration": 86,
    "start_time": "2023-11-22T15:32:41.290Z"
   },
   {
    "duration": 50,
    "start_time": "2023-11-22T15:32:41.377Z"
   },
   {
    "duration": 52,
    "start_time": "2023-11-22T15:32:41.428Z"
   },
   {
    "duration": 51,
    "start_time": "2023-11-22T15:32:41.481Z"
   },
   {
    "duration": 583,
    "start_time": "2023-11-22T17:07:26.375Z"
   },
   {
    "duration": 3,
    "start_time": "2023-11-22T17:07:26.960Z"
   },
   {
    "duration": 7795,
    "start_time": "2023-11-22T17:07:26.965Z"
   },
   {
    "duration": 3,
    "start_time": "2023-11-22T17:07:34.762Z"
   },
   {
    "duration": 58,
    "start_time": "2023-11-22T17:07:34.767Z"
   },
   {
    "duration": 12,
    "start_time": "2023-11-22T17:07:34.827Z"
   },
   {
    "duration": 9,
    "start_time": "2023-11-22T17:07:34.841Z"
   },
   {
    "duration": 14,
    "start_time": "2023-11-22T17:07:34.852Z"
   },
   {
    "duration": 15,
    "start_time": "2023-11-22T17:07:34.868Z"
   },
   {
    "duration": 29,
    "start_time": "2023-11-22T17:07:34.884Z"
   },
   {
    "duration": 11,
    "start_time": "2023-11-22T17:07:34.915Z"
   },
   {
    "duration": 11,
    "start_time": "2023-11-22T17:07:34.927Z"
   },
   {
    "duration": 10,
    "start_time": "2023-11-22T17:07:34.939Z"
   },
   {
    "duration": 17,
    "start_time": "2023-11-22T17:07:34.951Z"
   },
   {
    "duration": 9,
    "start_time": "2023-11-22T17:07:34.970Z"
   },
   {
    "duration": 59,
    "start_time": "2023-11-22T17:07:34.981Z"
   },
   {
    "duration": 11,
    "start_time": "2023-11-22T17:07:35.041Z"
   },
   {
    "duration": 18,
    "start_time": "2023-11-22T17:07:35.054Z"
   },
   {
    "duration": 12,
    "start_time": "2023-11-22T17:07:35.074Z"
   },
   {
    "duration": 15,
    "start_time": "2023-11-22T17:08:00.956Z"
   },
   {
    "duration": 16,
    "start_time": "2023-11-22T17:08:02.553Z"
   },
   {
    "duration": 557,
    "start_time": "2023-11-23T13:42:30.054Z"
   },
   {
    "duration": 3,
    "start_time": "2023-11-23T13:42:30.613Z"
   },
   {
    "duration": 12929,
    "start_time": "2023-11-23T13:42:30.618Z"
   },
   {
    "duration": 4,
    "start_time": "2023-11-23T13:42:43.549Z"
   },
   {
    "duration": 234,
    "start_time": "2023-11-23T13:42:43.554Z"
   },
   {
    "duration": 53,
    "start_time": "2023-11-23T13:42:43.789Z"
   },
   {
    "duration": 50,
    "start_time": "2023-11-23T13:42:43.843Z"
   },
   {
    "duration": 50,
    "start_time": "2023-11-23T13:42:43.894Z"
   },
   {
    "duration": 50,
    "start_time": "2023-11-23T13:42:43.946Z"
   },
   {
    "duration": 51,
    "start_time": "2023-11-23T13:42:43.998Z"
   },
   {
    "duration": 50,
    "start_time": "2023-11-23T13:42:44.051Z"
   },
   {
    "duration": 51,
    "start_time": "2023-11-23T13:42:44.102Z"
   },
   {
    "duration": 50,
    "start_time": "2023-11-23T13:42:44.155Z"
   },
   {
    "duration": 52,
    "start_time": "2023-11-23T13:42:44.207Z"
   },
   {
    "duration": 51,
    "start_time": "2023-11-23T13:42:44.260Z"
   },
   {
    "duration": 90,
    "start_time": "2023-11-23T13:42:44.312Z"
   },
   {
    "duration": 51,
    "start_time": "2023-11-23T13:42:44.404Z"
   },
   {
    "duration": 54,
    "start_time": "2023-11-23T13:42:44.456Z"
   },
   {
    "duration": 55,
    "start_time": "2023-11-23T13:42:48.254Z"
   },
   {
    "duration": 55,
    "start_time": "2023-11-23T13:50:16.141Z"
   },
   {
    "duration": 54,
    "start_time": "2023-11-23T13:50:29.369Z"
   },
   {
    "duration": 53,
    "start_time": "2023-11-23T13:50:43.606Z"
   },
   {
    "duration": 58,
    "start_time": "2023-11-23T13:51:59.602Z"
   },
   {
    "duration": 55,
    "start_time": "2023-11-23T13:53:57.969Z"
   },
   {
    "duration": 52,
    "start_time": "2023-11-23T13:54:13.126Z"
   },
   {
    "duration": 56,
    "start_time": "2023-11-23T13:54:42.624Z"
   },
   {
    "duration": 54,
    "start_time": "2023-11-23T13:54:50.567Z"
   },
   {
    "duration": 121,
    "start_time": "2023-11-23T13:54:57.930Z"
   },
   {
    "duration": 54,
    "start_time": "2023-11-23T13:55:03.286Z"
   },
   {
    "duration": 54,
    "start_time": "2023-11-23T13:55:17.408Z"
   },
   {
    "duration": 53,
    "start_time": "2023-11-23T13:55:26.084Z"
   },
   {
    "duration": 53,
    "start_time": "2023-11-23T13:55:49.289Z"
   },
   {
    "duration": 531,
    "start_time": "2023-11-23T13:57:31.850Z"
   },
   {
    "duration": 3,
    "start_time": "2023-11-23T13:57:32.383Z"
   },
   {
    "duration": 11585,
    "start_time": "2023-11-23T13:57:32.387Z"
   },
   {
    "duration": 3,
    "start_time": "2023-11-23T13:57:43.974Z"
   },
   {
    "duration": 227,
    "start_time": "2023-11-23T13:57:43.978Z"
   },
   {
    "duration": 55,
    "start_time": "2023-11-23T13:57:44.206Z"
   },
   {
    "duration": 50,
    "start_time": "2023-11-23T13:57:44.262Z"
   },
   {
    "duration": 50,
    "start_time": "2023-11-23T13:57:44.314Z"
   },
   {
    "duration": 50,
    "start_time": "2023-11-23T13:57:44.366Z"
   },
   {
    "duration": 52,
    "start_time": "2023-11-23T13:57:44.418Z"
   },
   {
    "duration": 50,
    "start_time": "2023-11-23T13:57:44.471Z"
   },
   {
    "duration": 51,
    "start_time": "2023-11-23T13:57:44.523Z"
   },
   {
    "duration": 49,
    "start_time": "2023-11-23T13:57:44.576Z"
   },
   {
    "duration": 50,
    "start_time": "2023-11-23T13:57:44.627Z"
   },
   {
    "duration": 48,
    "start_time": "2023-11-23T13:57:44.679Z"
   },
   {
    "duration": 89,
    "start_time": "2023-11-23T13:57:44.728Z"
   },
   {
    "duration": 51,
    "start_time": "2023-11-23T13:57:44.818Z"
   },
   {
    "duration": 55,
    "start_time": "2023-11-23T13:57:44.871Z"
   },
   {
    "duration": 55,
    "start_time": "2023-11-23T13:57:44.927Z"
   }
  ],
  "kernelspec": {
   "display_name": "Python 3 (ipykernel)",
   "language": "python",
   "name": "python3"
  },
  "language_info": {
   "codemirror_mode": {
    "name": "ipython",
    "version": 3
   },
   "file_extension": ".py",
   "mimetype": "text/x-python",
   "name": "python",
   "nbconvert_exporter": "python",
   "pygments_lexer": "ipython3",
   "version": "3.11.5"
  },
  "toc": {
   "base_numbering": 1,
   "nav_menu": {},
   "number_sections": true,
   "sideBar": true,
   "skip_h1_title": true,
   "title_cell": "Table of Contents",
   "title_sidebar": "Contents",
   "toc_cell": false,
   "toc_position": {},
   "toc_section_display": true,
   "toc_window_display": true
  }
 },
 "nbformat": 4,
 "nbformat_minor": 2
}
