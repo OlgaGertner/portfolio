{
 "cells": [
  {
   "cell_type": "markdown",
   "id": "5761dee4",
   "metadata": {},
   "source": [
    "# Проект \"Анализ сервиса вопросов и ответов по программированию\""
   ]
  },
  {
   "cell_type": "markdown",
   "id": "7ec3cfb0",
   "metadata": {},
   "source": [
    "Проект автоматически проверяется в тренажёре SQL. Работа идёт с базой данных, которая хранит информацию сервиса вопросов и ответов о программировании. Данный сервис похож на социальную сеть — пользователи сервиса задают вопросы, отвечают на посты, оставляют комментарии и ставят оценки другим ответам.\n",
    "\n",
    "В проекте 20 заданий на составление запросов к БД и проведение аналитической работы."
   ]
  },
  {
   "cell_type": "markdown",
   "id": "911262ee",
   "metadata": {},
   "source": [
    "### Цель проекта\n",
    "\n",
    "С помощью SQL рассчитать и визуализировать ключевые метрики сервис-системы вопросов и ответов о программировании"
   ]
  },
  {
   "cell_type": "markdown",
   "id": "a8513ad0",
   "metadata": {},
   "source": [
    "### ER-диаграмма\n",
    "<img src='Image2.png' width=800, heigth=700>\n"
   ]
  },
  {
   "cell_type": "markdown",
   "id": "d961f62c",
   "metadata": {},
   "source": [
    "### Описание таблиц\n",
    "\n",
    "`stackoverflow.badges` - Хранит информацию о значках, которые присуждаются за разные достижения\n",
    "\n",
    "`stackoverflow.post_types` - Содержит информацию о типе постов: Question или Answer\n",
    "\n",
    "`stackoverflow.posts` - Содержит информацию о постах\n",
    "\n",
    "`stackoverflow.users` - Содержит информацию о пользователях\n",
    "\n",
    "`stackoverflow.votes` - Содержит информацию о голосах за посты\n",
    "\n",
    "`stackoverflow.vote_types` - Содержит информацию о типах голосов. Голос — это метка, которую пользователи ставят посту"
   ]
  },
  {
   "cell_type": "markdown",
   "id": "b319885d",
   "metadata": {},
   "source": [
    "### Выполнение заданий"
   ]
  },
  {
   "cell_type": "markdown",
   "id": "60875c08",
   "metadata": {},
   "source": [
    "#### 1. Найдите количество вопросов, которые набрали больше 300 очков или как минимум 100 раз были добавлены в `Закладки`\n",
    "```sql\n",
    "SELECT COUNT(p.id)\n",
    "FROM stackoverflow.posts AS p \n",
    "JOIN stackoverflow.post_types AS t ON p.post_type_id=t.id\n",
    "WHERE t.type='Question'\n",
    "AND (p.score > 300 OR p.favorites_count >=100);\n",
    "```"
   ]
  },
  {
   "cell_type": "markdown",
   "id": "ec9d457d",
   "metadata": {},
   "source": [
    "#### 2. Сколько в среднем в день задавали вопросов с 1 по 18 ноября 2008 включительно? Результат округлите до целого числа\n",
    "```sql\n",
    "SELECT ROUND(AVG(count_question))\n",
    "FROM (\n",
    "    SELECT creation_date::date AS day,\n",
    "           COUNT(p.id) AS count_question\n",
    "    FROM stackoverflow.posts AS p \n",
    "    JOIN stackoverflow.post_types AS t ON p.post_type_id=t.id\n",
    "    WHERE t.type='Question'\n",
    "    AND creation_date::date BETWEEN '2008-11-01' AND '2008-11-18'\n",
    "    GROUP BY day) AS november;\n",
    "```"
   ]
  },
  {
   "cell_type": "markdown",
   "id": "ea6eb68f",
   "metadata": {},
   "source": [
    "#### 3. Сколько пользователей получили значки сразу в день регистрации? Выведите количество уникальных пользователей\n",
    "```sql\n",
    "SELECT COUNT (DISTINCT u.id)\n",
    "FROM stackoverflow.users AS u\n",
    "LEFT JOIN stackoverflow.badges AS b ON u.id=b.user_id\n",
    "WHERE b.creation_date::date = u.creation_date::date;\n",
    "```"
   ]
  },
  {
   "cell_type": "markdown",
   "id": "a4e9e1d7",
   "metadata": {},
   "source": [
    "#### 4. Сколько уникальных постов пользователя с именем `Joel Coehoorn` получили хотя бы один голос?\n",
    "```sql\n",
    "SELECT COUNT(DISTINCT p.id)\n",
    "FROM stackoverflow.posts AS p\n",
    "JOIN stackoverflow.users AS u ON u.id=p.user_id\n",
    "JOIN stackoverflow.votes AS v ON p.id=v.post_id\n",
    "WHERE display_name = 'Joel Coehoorn';\n",
    "```"
   ]
  },
  {
   "cell_type": "markdown",
   "id": "4afce498",
   "metadata": {},
   "source": [
    "#### 5. Выгрузите все поля таблицы `vote_types`. Добавьте к таблице поле `rank`, в которое войдут номера записей в обратном порядке. Таблица должна быть отсортирована по полю` id`\n",
    "```sql\n",
    "SELECT *,\n",
    "       RANK() OVER (ORDER BY id DESC) AS rnk\n",
    "FROM stackoverflow.vote_types\n",
    "ORDER BY id;\n",
    "```"
   ]
  },
  {
   "cell_type": "markdown",
   "id": "a1cb4622",
   "metadata": {},
   "source": [
    "#### 6. Отберите 10 пользователей, которые поставили больше всего голосов типа `Close`. Отобразите таблицу из двух полей: идентификатором пользователя и количеством голосов. Отсортируйте данные сначала по убыванию количества голосов, потом по убыванию значения идентификатора пользователя\n",
    "```sql\n",
    "SELECT u.id AS username,\n",
    "       COUNT(v.id) AS vote_cnt\n",
    "FROM stackoverflow.votes AS v\n",
    "LEFT JOIN stackoverflow.vote_types AS vt ON vt.id=v.vote_type_id\n",
    "LEFT JOIN stackoverflow.users AS u ON v.user_id=u.id\n",
    "WHERE vt.name='Close'\n",
    "GROUP BY username\n",
    "ORDER BY vote_cnt DESC,\n",
    "         username DESC\n",
    "LIMIT 10;\n",
    "```"
   ]
  },
  {
   "cell_type": "markdown",
   "id": "0a2ca7c1",
   "metadata": {},
   "source": [
    "#### 7. Отберите 10 пользователей по количеству значков, полученных в период с 15 ноября по 15 декабря 2008 года включительно. Отобразите несколько полей:\n",
    "* идентификатор пользователя;\n",
    "* число значков;\n",
    "* место в рейтинге — чем больше значков, тем выше рейтинг.\n",
    "\n",
    "**Пользователям, которые набрали одинаковое количество значков, присвойте одно и то же место в рейтинге.\n",
    "Отсортируйте записи по количеству значков по убыванию, а затем по возрастанию значения идентификатора пользователя**\n",
    "```sql\n",
    "WITH badges AS (\n",
    "    SELECT DISTINCT user_id AS username,\n",
    "       COUNT(id) AS badges_cnt\n",
    "    FROM stackoverflow.badges AS b\n",
    "    WHERE creation_date::date BETWEEN '2008-11-15' AND '2008-12-15'\n",
    "    GROUP BY username\n",
    "    ORDER BY badges_cnt DESC, username\n",
    "    )\n",
    "SELECT username,\n",
    "       badges_cnt,\n",
    "       DENSE_RANK() OVER(ORDER BY badges_cnt DESC)\n",
    "FROM badges\n",
    "LIMIT 10;\n",
    "```"
   ]
  },
  {
   "cell_type": "markdown",
   "id": "c76f8655",
   "metadata": {},
   "source": [
    "#### 8. Сколько в среднем очков получает пост каждого пользователя? Сформируйте таблицу из следующих полей:\n",
    "* заголовок поста;\n",
    "* идентификатор пользователя;\n",
    "* число очков поста;\n",
    "* среднее число очков пользователя за пост, округлённое до целого числа.\n",
    "\n",
    "**Не учитывайте посты без заголовка, а также те, что набрали ноль очков**\n",
    "```sql\n",
    "SELECT title,\n",
    "       user_id,\n",
    "       score,\n",
    "       ROUND(AVG(score) OVER (PARTITION BY user_id)) AS score_avg\n",
    "FROM  stackoverflow.posts\n",
    "WHERE score!=0 AND title IS NOT NULL;\n",
    "```"
   ]
  },
  {
   "cell_type": "markdown",
   "id": "2e87c521",
   "metadata": {},
   "source": [
    "#### 9. Отобразите заголовки постов, которые были написаны пользователями, получившими более 1000 значков. Посты без заголовков не должны попасть в список\n",
    "```sql\n",
    "WITH \n",
    "users AS (SELECT DISTINCT u.id AS username,\n",
    "                 COUNT(b.id) AS badges_cnt\n",
    "         FROM stackoverflow.users AS u\n",
    "         JOIN stackoverflow.badges AS b ON u.id=b.user_id\n",
    "         GROUP BY username\n",
    "         HAVING  COUNT(b.id)>1000)\n",
    "SELECT p.title AS post_name\n",
    "FROM stackoverflow.posts AS p\n",
    "JOIN users ON username=p.user_id\n",
    "WHERE p.title IS NOT NULL;\n",
    "```"
   ]
  },
  {
   "cell_type": "markdown",
   "id": "9dde805b",
   "metadata": {},
   "source": [
    "#### 10. Напишите запрос, который выгрузит данные о пользователях из Канады. Разделите пользователей на три группы в зависимости от количества просмотров их профилей:\n",
    "* пользователям с числом просмотров больше либо равным 350 присвойте группу 1;\n",
    "* пользователям с числом просмотров меньше 350, но больше либо равно 100 — группу 2;\n",
    "* пользователям с числом просмотров меньше 100 — группу 3.\n",
    "\n",
    "**Отобразите в итоговой таблице идентификатор пользователя, количество просмотров профиля и группу. Пользователи с количеством просмотров меньше либо равным нулю не должны войти в итоговую таблицу**\n",
    "```sql\n",
    "SELECT id,\n",
    "       views,\n",
    "       CASE\n",
    "            WHEN views>=350 THEN 1\n",
    "            WHEN views>=100 THEN 2\n",
    "            ELSE 3\n",
    "       END\n",
    "FROM stackoverflow.users\n",
    "WHERE location LIKE '%Canada%' AND views != 0;\n",
    "```"
   ]
  },
  {
   "cell_type": "markdown",
   "id": "77d5ed46",
   "metadata": {},
   "source": [
    "#### 11. Дополните предыдущий запрос. Отобразите лидеров каждой группы — пользователей, которые набрали максимальное число просмотров в своей группе. Выведите поля с идентификатором пользователя, группой и количеством просмотров. Отсортируйте таблицу по убыванию просмотров, а затем по возрастанию значения идентификатора\n",
    "```sql\n",
    "WITH \n",
    "users AS(SELECT id,\n",
    "                views,\n",
    "                CASE\n",
    "                    WHEN views>=350 THEN 1\n",
    "                    WHEN views>=100 THEN 2\n",
    "                    ELSE 3\n",
    "                END AS group_name\n",
    "         FROM stackoverflow.users\n",
    "         WHERE location LIKE '%Canada%' AND views != 0),\n",
    "leaders AS (SELECT id,\n",
    "                   views,\n",
    "                   group_name,\n",
    "                   MAX(views) OVER(PARTITION BY group_name) AS max_views\n",
    "            FROM users)\n",
    "SELECT id,\n",
    "       group_name,\n",
    "       views\n",
    "FROM leaders\n",
    "WHERE views=max_views\n",
    "ORDER BY views DESC,id;\n",
    "```"
   ]
  },
  {
   "cell_type": "markdown",
   "id": "ac7a9409",
   "metadata": {},
   "source": [
    "#### 12. Посчитайте ежедневный прирост новых пользователей в ноябре 2008 года. Сформируйте таблицу с полями:\n",
    "* номер дня;\n",
    "* число пользователей, зарегистрированных в этот день;\n",
    "* сумму пользователей с накоплением\n",
    "```sql\n",
    "WITH \n",
    "row_data AS (SELECT *,\n",
    "                    EXTRACT(DAY FROM creation_date::date) AS registration\n",
    "             FROM stackoverflow.users\n",
    "             WHERE DATE_TRUNC('month', creation_date)::date ='2008-11-01')\n",
    "    \n",
    "SELECT registration,\n",
    "       COUNT (id) AS id_cnt,\n",
    "       SUM (COUNT (id)) OVER(ORDER BY registration) AS id_total\n",
    "FROM row_data\n",
    "GROUP BY registration\n",
    "ORDER BY registration;\n",
    "```"
   ]
  },
  {
   "cell_type": "markdown",
   "id": "3f5b4798",
   "metadata": {},
   "source": [
    "#### 13. Для каждого пользователя, который написал хотя бы один пост, найдите интервал между регистрацией и временем создания первого поста\n",
    "```sql\n",
    "WITH \n",
    "users AS (SELECT DISTINCT u.id AS username,\n",
    "                 MIN(p.creation_date) OVER(PARTITION BY p.user_id) AS first_post,\n",
    "                 u.creation_date AS day_registr\n",
    "          FROM stackoverflow.posts AS p\n",
    "          JOIN stackoverflow.users AS u ON u.id=p.user_id)\n",
    "SELECT username,\n",
    "       first_post - day_registr\n",
    "FROM users;\n",
    "```"
   ]
  },
  {
   "cell_type": "markdown",
   "id": "4915accd",
   "metadata": {},
   "source": [
    "#### 14. Выведите общую сумму просмотров у постов, опубликованных в каждый месяц 2008 года. Если данных за какой-либо месяц в базе нет, такой месяц можно пропустить. Результат отсортируйте по убыванию общего количества просмотров\n",
    "```sql\n",
    "SELECT DATE_TRUNC('month', creation_date)::date,\n",
    "       SUM(views_count) AS views_cnt\n",
    "FROM stackoverflow.posts\n",
    "GROUP BY DATE_TRUNC('month', creation_date)::date\n",
    "ORDER BY views_cnt DESC;\n",
    "```"
   ]
  },
  {
   "cell_type": "markdown",
   "id": "d8fcc2e0",
   "metadata": {},
   "source": [
    "#### 15. Выведите имена самых активных пользователей, которые в первый месяц после регистрации (включая день регистрации) дали больше 100 ответов. Вопросы, которые задавали пользователи, не учитывайте. Для каждого имени пользователя выведите количество уникальных значений `user_id`. Отсортируйте результат по полю с именами в лексикографическом порядке\n",
    "```sql\n",
    "WITH \n",
    "row_data AS (SELECT u.display_name AS username,\n",
    "                    p.user_id AS idname, \n",
    "                    p.id AS postname,\n",
    "                    u.creation_date::date + INTERVAL'1 month' AS one_month_regs,\n",
    "                    p.creation_date::date AS post_date\n",
    "             FROM stackoverflow.posts p\n",
    "             LEFT JOIN stackoverflow.users u ON p.user_id=u.id\n",
    "             LEFT JOIN stackoverflow.post_types pt ON pt.id=p.post_type_id\n",
    "             WHERE pt.type='Answer')\n",
    " SELECT username,\n",
    "        COUNT(DISTINCT idname)\n",
    " FROM row_data\n",
    " WHERE post_date<=one_month_regs\n",
    " GROUP BY username\n",
    " HAVING COUNT(postname) >100;\n",
    "```"
   ]
  },
  {
   "cell_type": "markdown",
   "id": "b8501ef5",
   "metadata": {},
   "source": [
    "#### 16. Выведите количество постов за 2008 год по месяцам. Отберите посты от пользователей, которые зарегистрировались в сентябре 2008 года и сделали хотя бы один пост в декабре того же года. Отсортируйте таблицу по значению месяца по убыванию\n",
    "```sql\n",
    "SELECT DATE_TRUNC('month', p1.creation_date)::date AS month_post,\n",
    "       COUNT(p1.id)\n",
    "FROM stackoverflow.posts p1\n",
    "WHERE p1.user_id IN (\n",
    "    SELECT DISTINCT u.id AS username\n",
    "    FROM stackoverflow.users u\n",
    "    JOIN stackoverflow.posts p ON u.id = p.user_id\n",
    "    WHERE DATE_TRUNC('month', u.creation_date)::date = '2008-09-01'\n",
    "    AND  DATE_TRUNC('month', p.creation_date)::date = '2008-12-01')\n",
    "GROUP BY 1\n",
    "ORDER BY 1 DESC;\n",
    "```"
   ]
  },
  {
   "cell_type": "markdown",
   "id": "6d9442bf",
   "metadata": {},
   "source": [
    "#### 17. Используя данные о постах, выведите несколько полей:\n",
    "* идентификатор пользователя, который написал пост;\n",
    "* дата создания поста;\n",
    "* количество просмотров у текущего поста;\n",
    "* сумма просмотров постов автора с накоплением.\n",
    "\n",
    "**Данные в таблице должны быть отсортированы по возрастанию идентификаторов пользователей, а данные об одном и том же пользователе — по возрастанию даты создания поста**\n",
    "```sql\n",
    "SELECT user_id,\n",
    "       creation_date,\n",
    "       views_count,\n",
    "       SUM(views_count) OVER(PARTITION BY user_id ORDER BY creation_date)\n",
    "FROM stackoverflow.posts p;\n",
    "```"
   ]
  },
  {
   "cell_type": "markdown",
   "id": "290d5b4c",
   "metadata": {},
   "source": [
    "#### 18. Сколько в среднем дней в период с 1 по 7 декабря 2008 года включительно пользователи взаимодействовали с платформой? Для каждого пользователя отберите дни, в которые он или она опубликовали хотя бы один пост\n",
    "```sql\n",
    "WITH \n",
    "posts AS(SELECT user_id,\n",
    "                COUNT(DISTINCT DATE_TRUNC('day', creation_date)::date) AS day_cnt\n",
    "         FROM stackoverflow.posts\n",
    "         WHERE DATE_TRUNC('day', creation_date)::date BETWEEN '2008-12-01' AND '2008-12-07'\n",
    "         GROUP BY user_id)\n",
    "SELECT ROUND(AVG(day_cnt))\n",
    "FROM posts;\n",
    "```"
   ]
  },
  {
   "cell_type": "markdown",
   "id": "97b7238c",
   "metadata": {},
   "source": [
    "#### 19. На сколько процентов менялось количество постов ежемесячно с 1 сентября по 31 декабря 2008 года? Отобразите таблицу со следующими полями:\n",
    "* Номер месяца.\n",
    "* Количество постов за месяц.\n",
    "* Процент, который показывает, насколько изменилось количество постов в текущем месяце по сравнению с предыдущим. Если постов стало меньше, значение процента должно быть отрицательным, если больше — положительным. Округлите значение процента до двух знаков после запятой\n",
    "```sql\n",
    "WITH \n",
    "posts AS (SELECT EXTRACT(MONTH FROM creation_date) AS month_post,\n",
    "                 COUNT(id) AS post_cnt\n",
    "          FROM stackoverflow.posts\n",
    "          WHERE DATE_TRUNC('month', creation_date)::date BETWEEN '2008-09-01' AND '2008-12-31'\n",
    "          GROUP BY month_post)\n",
    "SELECT month_post,\n",
    "       post_cnt,\n",
    "       ROUND(((post_cnt::numeric / LAG(post_cnt) OVER (ORDER BY month_post)) - 1) * 100,2) AS post_cnt_delta\n",
    "FROM posts;\n",
    "```"
   ]
  },
  {
   "cell_type": "markdown",
   "id": "3bf37a75",
   "metadata": {},
   "source": [
    "#### 20. Найдите пользователя, который опубликовал больше всего постов за всё время с момента регистрации. Выведите данные его активности за октябрь 2008 года в таком виде:\n",
    "* номер недели;\n",
    "* дата и время последнего поста, опубликованного на этой неделе\n",
    "```sql\n",
    "WITH \n",
    "top_user AS (SELECT user_id AS top_id,\n",
    "                    COUNT(id) AS post_cnt\n",
    "             FROM stackoverflow.posts\n",
    "             GROUP BY user_id\n",
    "             ORDER BY post_cnt DESC\n",
    "             LIMIT 1),\n",
    "             \n",
    "top_user_posts AS (SELECT id,\n",
    "                          EXTRACT(WEEK FROM creation_date) AS week_number,\n",
    "                          creation_date AS date_time\n",
    "                   FROM stackoverflow.posts p\n",
    "                   JOIN top_user ON top_user.top_id=p.user_id\n",
    "                   WHERE DATE_TRUNC('month', creation_date)::date ='2008-10-01')\n",
    "                   \n",
    "SELECT DISTINCT week_number,\n",
    "       MAX(date_time) OVER(PARTITION BY week_number)\n",
    "FROM top_user_posts;\n",
    "```"
   ]
  }
 ],
 "metadata": {
  "kernelspec": {
   "display_name": "Python 3 (ipykernel)",
   "language": "python",
   "name": "python3"
  },
  "language_info": {
   "codemirror_mode": {
    "name": "ipython",
    "version": 3
   },
   "file_extension": ".py",
   "mimetype": "text/x-python",
   "name": "python",
   "nbconvert_exporter": "python",
   "pygments_lexer": "ipython3",
   "version": "3.11.5"
  }
 },
 "nbformat": 4,
 "nbformat_minor": 5
}
