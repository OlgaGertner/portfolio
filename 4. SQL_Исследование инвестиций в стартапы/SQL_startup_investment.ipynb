{
 "cells": [
  {
   "cell_type": "markdown",
   "id": "111eae9b",
   "metadata": {},
   "source": [
    "# Проект \"Исследование данных об инвестиции венчурных фондов в компании-стартапы\""
   ]
  },
  {
   "cell_type": "markdown",
   "id": "e2dddea5",
   "metadata": {},
   "source": [
    "Проект автоматически проверяется в тренажёре SQL. Работа идёт с базой данных, которая хранит информацию о венчурных фондах и инвестициях в компании-стартапы. В проекте 23 задания на составление запросов к БД."
   ]
  },
  {
   "cell_type": "markdown",
   "id": "f1b445a0",
   "metadata": {},
   "source": [
    "### Цель проекта\n",
    "\n",
    "Произвести различные выгрузки данных венчурных фондов с помощью SQL"
   ]
  },
  {
   "cell_type": "markdown",
   "id": "08765136",
   "metadata": {},
   "source": [
    " ### ER-диаграмма\n",
    " \n",
    "<img src='Image.png' width=700, heigth=500>"
   ]
  },
  {
   "cell_type": "markdown",
   "id": "6330589c",
   "metadata": {},
   "source": [
    "### Описание таблиц\n",
    "\n",
    "`acquisition` - содержит информацию о покупках одних компаний другими\n",
    "\n",
    "`company` - содержит информацию о компаниях-стартапах\n",
    "\n",
    "`education` - хранит информацию об уровне образования сотрудников компаний\n",
    "\n",
    "`fund`- хранит информацию о венчурных фондах\n",
    "\n",
    "`funding_round` - содержит информацию о раундах инвестиций\n",
    "\n",
    "`investment`- содержит информацию об инвестициях венчурных фондов в компании-стартапы\n",
    "\n",
    "`people`- содержит информацию о сотрудниках компаний-стартапов"
   ]
  },
  {
   "cell_type": "markdown",
   "id": "d0fcc3b9",
   "metadata": {},
   "source": [
    "### Выполнение заданий"
   ]
  },
  {
   "cell_type": "markdown",
   "id": "edba9895",
   "metadata": {},
   "source": [
    "#### 1. Отобразите все записи из таблицы `company` по компаниям, которые закрылись\n",
    "``` sql\n",
    "SELECT COUNT(id)\n",
    "FROM company\n",
    "WHERE status = 'closed';\n",
    "```"
   ]
  },
  {
   "cell_type": "markdown",
   "id": "ca4bea8f",
   "metadata": {},
   "source": [
    "#### 2. Отобразите количество привлечённых средств для новостных компаний США. Используйте данные из таблицы `company`. Отсортируйте таблицу по убыванию значений в поле `funding_total`\n",
    "``` sql\n",
    "SELECT funding_total\n",
    "FROM company\n",
    "WHERE category_code = 'news'\n",
    "AND country_code = 'USA'\n",
    "ORDER BY funding_total DESC;\n",
    "```"
   ]
  },
  {
   "cell_type": "markdown",
   "id": "6b837621",
   "metadata": {},
   "source": [
    "#### 3. Найдите общую сумму сделок по покупке одних компаний другими в долларах. Отберите сделки, которые осуществлялись только за наличные с 2011 по 2013 год включительно\n",
    "``` sql\n",
    "SELECT SUM(price_amount)\n",
    "FROM acquisition\n",
    "WHERE term_code = 'cash'\n",
    "AND EXTRACT(YEAR FROM CAST(acquired_at AS date)) BETWEEN 2011 AND 2013;\n",
    "```"
   ]
  },
  {
   "cell_type": "markdown",
   "id": "5bf6ec4e",
   "metadata": {},
   "source": [
    "#### 4. Отобразите имя, фамилию и названия аккаунтов людей в поле network_username, у которых названия аккаунтов начинаются на `Silver`\n",
    "``` sql\n",
    "SELECT first_name,\n",
    "       last_name,\n",
    "       twitter_username\n",
    "FROM people\n",
    "WHERE twitter_username LIKE 'Silver%';\n",
    "```"
   ]
  },
  {
   "cell_type": "markdown",
   "id": "1c5654d9",
   "metadata": {},
   "source": [
    "#### 5. Выведите на экран всю информацию о людях, у которых названия аккаунтов в поле` network_username` содержат подстроку 'money', а фамилия начинается на 'K'\n",
    "``` sql\n",
    "SELECT *\n",
    "FROM people\n",
    "WHERE twitter_username LIKE '%money%'\n",
    "AND last_name LIKE 'K%';\n",
    "```"
   ]
  },
  {
   "cell_type": "markdown",
   "id": "8da6fea4",
   "metadata": {},
   "source": [
    "#### 6. Для каждой страны отобразите общую сумму привлечённых инвестиций, которые получили компании, зарегистрированные в этой стране. Страну, в которой зарегистрирована компания, можно определить по коду страны. Отсортируйте данные по убыванию суммы\n",
    "``` sql\n",
    "SELECT country_code,\n",
    "       SUM(funding_total)\n",
    "FROM company\n",
    "GROUP BY country_code\n",
    "ORDER BY SUM(funding_total) DESC;\n",
    "```"
   ]
  },
  {
   "cell_type": "markdown",
   "id": "9cb86db1",
   "metadata": {},
   "source": [
    "#### 7. Составьте таблицу, в которую войдёт дата проведения раунда, а также минимальное и максимальное значения суммы инвестиций, привлечённых в эту дату. Оставьте в итоговой таблице только те записи, в которых минимальное значение суммы инвестиций не равно нулю и не равно максимальному значению\n",
    "``` sql\n",
    "SELECT funded_at,\n",
    "       MIN(raised_amount),\n",
    "       MAX(raised_amount)\n",
    "FROM funding_round\n",
    "GROUP BY funded_at\n",
    "HAVING MIN(raised_amount)!=0\n",
    "AND MIN(raised_amount)!= MAX(raised_amount);\n",
    "```"
   ]
  },
  {
   "cell_type": "markdown",
   "id": "61cfb4b7",
   "metadata": {},
   "source": [
    "#### 8. Создайте поле с категориями:\n",
    "* Для фондов, которые инвестируют в 100 и более компаний, назначьте категорию `high_activity`\n",
    "* Для фондов, которые инвестируют в 20 и более компаний до 100, назначьте категорию `middle_activity`\n",
    "* Если количество инвестируемых компаний фонда не достигает 20, назначьте категорию `low_activity`\n",
    "\n",
    "**Отобразите все поля таблицы `fund` и новое поле с категориями**\n",
    "``` sql\n",
    "SELECT *,\n",
    "    CASE\n",
    "    WHEN invested_companies >=100 THEN 'high_activity'\n",
    "    WHEN invested_companies <20 THEN 'low_activity'\n",
    "    ELSE 'middle_activity'\n",
    "    END\n",
    "FROM fund;\n",
    "```"
   ]
  },
  {
   "cell_type": "markdown",
   "id": "f820172f",
   "metadata": {},
   "source": [
    "#### 9. Для каждой из категорий, назначенных в предыдущем задании, посчитайте округлённое до ближайшего целого числа среднее количество инвестиционных раундов, в которых фонд принимал участие. Выведите на экран категории и среднее число инвестиционных раундов. Отсортируйте таблицу по возрастанию среднего\n",
    "``` sql\n",
    "SELECT CASE\n",
    "           WHEN invested_companies>=100 THEN 'high_activity'\n",
    "           WHEN invested_companies>=20 THEN 'middle_activity'\n",
    "           ELSE 'low_activity'\n",
    "       END AS activity,\n",
    "       ROUND(AVG(investment_rounds)) AS avg_round\n",
    "FROM fund\n",
    "GROUP BY activity\n",
    "ORDER BY avg_round;\n",
    "```"
   ]
  },
  {
   "cell_type": "markdown",
   "id": "5be7c62b",
   "metadata": {},
   "source": [
    "#### 10. Проанализируйте, в каких странах находятся фонды, которые чаще всего инвестируют в стартапы. \n",
    "* Для каждой страны посчитайте минимальное, максимальное и среднее число компаний, в которые инвестировали фонды этой страны, основанные с 2010 по 2012 год включительно. Исключите страны с фондами, у которых минимальное число компаний, получивших инвестиции, равно нулю. \n",
    "* Выгрузите десять самых активных стран-инвесторов: отсортируйте таблицу по среднему количеству компаний от большего к меньшему. Затем добавьте сортировку по коду страны в лексикографическом порядке\n",
    "``` sql\n",
    "SELECT country_code,\n",
    "       MIN(invested_companies),\n",
    "       MAX(invested_companies),\n",
    "       AVG(invested_companies)\n",
    "FROM fund\n",
    "WHERE founded_at BETWEEN '2010-01-01' AND '2012-12-31'\n",
    "GROUP BY country_code\n",
    "HAVING MIN(invested_companies)!=0\n",
    "ORDER BY AVG(invested_companies) DESC, country_code\n",
    "LIMIT 10;\n",
    "```"
   ]
  },
  {
   "cell_type": "markdown",
   "id": "bb8a1068",
   "metadata": {},
   "source": [
    "#### 11. Отобразите имя и фамилию всех сотрудников стартапов. Добавьте поле с названием учебного заведения, которое окончил сотрудник, если эта информация известна\n",
    "``` sql\n",
    "SELECT p.first_name,\n",
    "       p.last_name,\n",
    "       e.instituition\n",
    "FROM people AS p\n",
    "LEFT JOIN education AS e ON p.id=e.person_id;\n",
    "```"
   ]
  },
  {
   "cell_type": "markdown",
   "id": "fe51442c",
   "metadata": {},
   "source": [
    "#### 12. Для каждой компании найдите количество учебных заведений, которые окончили её сотрудники. Выведите название компании и число уникальных названий учебных заведений. Составьте топ-5 компаний по количеству университетов\n",
    "``` sql\n",
    "SELECT c.name AS company_name,\n",
    "       COUNT(DISTINCT e.instituition) AS instituition_count\n",
    "FROM company AS c\n",
    "JOIN people AS p ON c.id=p.company_id\n",
    "JOIN education AS e ON p.id=e.person_id\n",
    "GROUP BY company_name\n",
    "ORDER BY instituition_count DESC\n",
    "LIMIT 5;\n",
    "```"
   ]
  },
  {
   "cell_type": "markdown",
   "id": "d7bf1b02",
   "metadata": {},
   "source": [
    "#### 13. Составьте список с уникальными названиями закрытых компаний, для которых первый раунд финансирования оказался последним\n",
    "``` sql\n",
    "SELECT DISTINCT name \n",
    "FROM company AS c\n",
    "JOIN (SELECT company_id\n",
    "            FROM funding_round\n",
    "            WHERE is_first_round=1\n",
    "            AND is_last_round=1) AS fr\n",
    "            ON c.id=fr.company_id\n",
    "WHERE status = 'closed'; \n",
    "```"
   ]
  },
  {
   "cell_type": "markdown",
   "id": "19822ed3",
   "metadata": {},
   "source": [
    "#### 14. Составьте список уникальных номеров сотрудников, которые работают в компаниях, отобранных в предыдущем задании\n",
    "``` sql\n",
    "WITH\n",
    "total AS (SELECT DISTINCT name,\n",
    "      c.id\n",
    "FROM company AS c\n",
    "JOIN (SELECT company_id\n",
    "      FROM funding_round\n",
    "      WHERE is_first_round=1\n",
    "      AND is_last_round=1) AS fr ON c.id=fr.company_id\n",
    "WHERE status = 'closed')\n",
    "SELECT p.id\n",
    "FROM people AS p\n",
    "JOIN total ON total.id=p.company_id;\n",
    "```"
   ]
  },
  {
   "cell_type": "markdown",
   "id": "34b301ea",
   "metadata": {},
   "source": [
    "#### 15. Составьте таблицу, куда войдут уникальные пары с номерами сотрудников из предыдущей задачи и учебным заведением, которое окончил сотрудник\n",
    "``` sql\n",
    "WITH\n",
    "total AS (SELECT DISTINCT name,\n",
    "      c.id\n",
    "FROM company AS c\n",
    "JOIN (SELECT company_id\n",
    "      FROM funding_round\n",
    "      WHERE is_first_round=1\n",
    "      AND is_last_round=1) AS fr ON c.id=fr.company_id\n",
    "WHERE status = 'closed')\n",
    "SELECT DISTINCT p.id,\n",
    "       e.instituition\n",
    "FROM people AS p\n",
    "JOIN total ON total.id=p.company_id\n",
    "JOIN education AS e ON p.id=e.person_id;\n",
    "```"
   ]
  },
  {
   "cell_type": "markdown",
   "id": "3847ffa0",
   "metadata": {},
   "source": [
    "#### 16. Посчитайте количество учебных заведений для каждого сотрудника из предыдущего задания. При подсчёте учитывайте, что некоторые сотрудники могли окончить одно и то же заведение дважды\n",
    "``` sql\n",
    "WITH\n",
    "total AS (SELECT DISTINCT name,\n",
    "      c.id\n",
    "FROM company AS c\n",
    "JOIN (SELECT company_id\n",
    "      FROM funding_round\n",
    "      WHERE is_first_round=1\n",
    "      AND is_last_round=1) AS fr ON c.id=fr.company_id\n",
    "WHERE status = 'closed')\n",
    "SELECT DISTINCT p.id,\n",
    "       COUNT(e.instituition)\n",
    "FROM people AS p\n",
    "JOIN total ON total.id=p.company_id\n",
    "JOIN education AS e ON p.id=e.person_id\n",
    "GROUP BY p.id;\n",
    "```"
   ]
  },
  {
   "cell_type": "markdown",
   "id": "dc6dfb2f",
   "metadata": {},
   "source": [
    "#### 17. Дополните предыдущий запрос и выведите среднее число учебных заведений (всех, не только уникальных), которые окончили сотрудники разных компаний. Нужно вывести только одну запись, группировка здесь не понадобится\n",
    "``` sql\n",
    "SELECT AVG(count)\n",
    "FROM (WITH\n",
    "total AS (SELECT DISTINCT name,\n",
    "      c.id\n",
    "FROM company AS c\n",
    "JOIN (SELECT company_id\n",
    "      FROM funding_round\n",
    "      WHERE is_first_round=1\n",
    "      AND is_last_round=1) AS fr ON c.id=fr.company_id\n",
    "WHERE status = 'closed')\n",
    "SELECT DISTINCT p.id,\n",
    "       COUNT(e.instituition)\n",
    "FROM people AS p\n",
    "JOIN total ON total.id=p.company_id\n",
    "JOIN education AS e ON p.id=e.person_id\n",
    "GROUP BY p.id) AS baza;\n",
    "```"
   ]
  },
  {
   "cell_type": "markdown",
   "id": "fac4b840",
   "metadata": {},
   "source": [
    "#### 18. Напишите похожий запрос: выведите среднее число учебных заведений (всех, не только уникальных), которые окончили сотрудники Socialnet\n",
    "``` sql\n",
    "SELECT AVG(count)\n",
    "FROM (WITH\n",
    "total AS (SELECT c.id\n",
    "      FROM company AS c\n",
    "      WHERE name = 'Socialnet')\n",
    "SELECT  p.id,\n",
    "        COUNT(e.instituition)\n",
    "FROM people AS p\n",
    "JOIN total ON total.id=p.company_id\n",
    "JOIN education AS e ON p.id=e.person_id\n",
    "GROUP BY p.id) AS baza;\n",
    "```"
   ]
  },
  {
   "cell_type": "markdown",
   "id": "a891304b",
   "metadata": {},
   "source": [
    "#### 19. Составьте таблицу из полей:\n",
    "* `name_of_fund` — название фонда\n",
    "* `name_of_company` — название компании\n",
    "* `amount` — сумма инвестиций, которую привлекла компания в раунде\n",
    "\n",
    "**В таблицу войдут данные о компаниях, в истории которых было больше шести важных этапов, а раунды финансирования проходили с 2012 по 2013 год включительно**\n",
    "``` sql\n",
    "SELECT name_of_fund,\n",
    "       name_of_company,\n",
    "       fr.raised_amount AS amount\n",
    "FROM (SELECT funding_round_id,\n",
    "             f.name AS name_of_fund,\n",
    "             c.name AS name_of_company\n",
    "FROM investment AS i\n",
    "INNER JOIN fund AS f ON f.id = i.fund_id\n",
    "INNER JOIN company AS c ON c.id=i.company_id\n",
    "WHERE c.milestones>6) AS baza\n",
    "INNER JOIN funding_round AS fr ON fr.id=baza.funding_round_id\n",
    "WHERE EXTRACT(YEAR FROM CAST(funded_at AS date)) BETWEEN 2012 AND 2013;\n",
    "```"
   ]
  },
  {
   "cell_type": "markdown",
   "id": "d47bb24f",
   "metadata": {},
   "source": [
    "#### 20. Выгрузите таблицу, в которой будут такие поля:\n",
    "* название компании-покупателя;\n",
    "* сумма сделки;\n",
    "* название компании, которую купили;\n",
    "* сумма инвестиций, вложенных в купленную компанию;\n",
    "* доля, которая отображает, во сколько раз сумма покупки превысила сумму вложенных в компанию инвестиций, округлённая до ближайшего целого числа.\n",
    "\n",
    "**Не учитывайте те сделки, в которых сумма покупки равна нулю. Если сумма инвестиций в компанию равна нулю, исключите такую компанию из таблицы.**\n",
    "\n",
    "**Отсортируйте таблицу по сумме сделки от большей к меньшей, а затем по названию купленной компании в лексикографическом порядке. Ограничьте таблицу первыми десятью записями.**\n",
    "``` sql\n",
    "SELECT c.name,\n",
    "       a.price_amount,\n",
    "       cc.name,\n",
    "       cc.funding_total,\n",
    "       ROUND(a.price_amount/cc.funding_total)\n",
    "FROM acquisition AS a\n",
    "LEFT JOIN company AS c ON a.acquiring_company_id=c.id\n",
    "LEFT JOIN company AS cc ON a.acquired_company_id=cc.id\n",
    "WHERE a.price_amount>0\n",
    "AND cc.funding_total>0\n",
    "ORDER BY a.price_amount DESC, cc.name\n",
    "LIMIT 10;\n",
    "```"
   ]
  },
  {
   "cell_type": "markdown",
   "id": "85e20f54",
   "metadata": {},
   "source": [
    "#### 21. Выгрузите таблицу, в которую войдут названия компаний из категории `social`, получившие финансирование с 2010 по 2013 год включительно. Проверьте, что сумма инвестиций не равна нулю. Выведите также номер месяца, в котором проходил раунд финансирования\n",
    "``` sql\n",
    "SELECT c.name,\n",
    "       EXTRACT (MONTH FROM funded_at) AS month\n",
    "FROM company AS c\n",
    "LEFT JOIN funding_round AS fr ON c.id=fr.company_id\n",
    "WHERE c.category_code='social'\n",
    "AND EXTRACT (YEAR FROM funded_at) BETWEEN 2010 AND 2013\n",
    "AND fr.raised_amount != 0;\n",
    "```"
   ]
  },
  {
   "cell_type": "markdown",
   "id": "e2c908fe",
   "metadata": {},
   "source": [
    "#### 22. Отберите данные по месяцам с 2010 по 2013 год, когда проходили инвестиционные раунды. Сгруппируйте данные по номеру месяца и получите таблицу, в которой будут поля:\n",
    "* номер месяца, в котором проходили раунды;\n",
    "* количество уникальных названий фондов из США, которые инвестировали в этом месяце;\n",
    "* количество компаний, купленных за этот месяц;\n",
    "* общая сумма сделок по покупкам в этом месяце.\n",
    "``` sql\n",
    "WITH\n",
    "f AS (SELECT EXTRACT (MONTH FROM CAST(funded_at AS date)) AS month,\n",
    "             COUNT(DISTINCT fund_id) AS fund_count\n",
    "      FROM investment AS i\n",
    "      JOIN funding_round AS fr ON i.funding_round_id=fr.id\n",
    "      WHERE EXTRACT (YEAR FROM CAST(funded_at AS date)) BETWEEN '2010' AND '2013' \n",
    "      AND fund_id IN (SELECT id\n",
    "                      FROM fund\n",
    "                      WHERE country_code = 'USA')\n",
    "      GROUP BY month),\n",
    "\n",
    "a AS (SELECT EXTRACT(MONTH FROM CAST(acquired_at AS date)) AS month_acquired,\n",
    "             COUNT(acquired_company_id) AS acquired_count,\n",
    "             SUM(price_amount) AS sum_price\n",
    "      FROM acquisition\n",
    "      WHERE EXTRACT(YEAR FROM CAST(acquired_at AS date)) BETWEEN '2010' AND '2013'\n",
    "      GROUP BY month_acquired)\n",
    "\n",
    "SELECT month,\n",
    "       fund_count,\n",
    "       acquired_count,\n",
    "       sum_price\n",
    "FROM f\n",
    "JOIN a ON f.month=a.month_acquired;\n",
    "```"
   ]
  },
  {
   "cell_type": "markdown",
   "id": "7e71f023",
   "metadata": {},
   "source": [
    "#### 23. Составьте сводную таблицу и выведите среднюю сумму инвестиций для стран, в которых есть стартапы, зарегистрированные в 2011, 2012 и 2013 годах. Данные за каждый год должны быть в отдельном поле. Отсортируйте таблицу по среднему значению инвестиций за 2011 год от большего к меньшему\n",
    "``` sql\n",
    "WITH\n",
    "inv_2011 AS (SELECT country_code,\n",
    "                 AVG(funding_total) AS avg_2011\n",
    "            FROM company\n",
    "            WHERE EXTRACT(YEAR FROM CAST(founded_at AS date)) = 2011\n",
    "            GROUP BY country_code),  \n",
    "inv_2012 AS (SELECT country_code,\n",
    "                 AVG(funding_total) AS avg_2012\n",
    "            FROM company\n",
    "            WHERE EXTRACT(YEAR FROM CAST(founded_at AS date)) = 2012\n",
    "            GROUP BY country_code),\n",
    "inv_2013 AS (SELECT country_code,\n",
    "                 AVG(funding_total) AS avg_2013\n",
    "            FROM company\n",
    "            WHERE EXTRACT(YEAR FROM CAST(founded_at AS date)) = 2013\n",
    "            GROUP BY country_code)\n",
    "SELECT inv_2011.country_code,\n",
    "       avg_2011,\n",
    "       avg_2012,\n",
    "       avg_2013\n",
    "FROM inv_2011\n",
    "INNER JOIN inv_2012 ON inv_2011.country_code=inv_2012.country_code\n",
    "INNER JOIN inv_2013 ON inv_2011.country_code=inv_2013.country_code\n",
    "ORDER BY avg_2011 DESC;\n",
    "```"
   ]
  }
 ],
 "metadata": {
  "kernelspec": {
   "display_name": "Python 3 (ipykernel)",
   "language": "python",
   "name": "python3"
  },
  "language_info": {
   "codemirror_mode": {
    "name": "ipython",
    "version": 3
   },
   "file_extension": ".py",
   "mimetype": "text/x-python",
   "name": "python",
   "nbconvert_exporter": "python",
   "pygments_lexer": "ipython3",
   "version": "3.10.9"
  }
 },
 "nbformat": 4,
 "nbformat_minor": 5
}
